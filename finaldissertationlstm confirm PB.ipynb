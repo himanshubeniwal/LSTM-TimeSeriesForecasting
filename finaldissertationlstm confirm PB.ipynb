{
 "cells": [
  {
   "cell_type": "code",
   "execution_count": 1,
   "metadata": {},
   "outputs": [],
   "source": [
    "import re\n",
    "import numpy as np\n",
    "import pandas as pd\n",
    "\n",
    "import warnings\n",
    "warnings.filterwarnings(\"ignore\")\n",
    "\n",
    "import matplotlib.pyplot as plt\n",
    "%matplotlib inline\n",
    "\n",
    "from numpy.random import seed\n",
    "seed(1)\n",
    "\n",
    "import tensorflow\n",
    "tensorflow.random.set_seed(1)\n",
    "\n",
    "import requests\n",
    "import io\n",
    "\n",
    "def get_data(url):\n",
    "    s=requests.get(url).content\n",
    "    return pd.read_csv(io.StringIO(s.decode('utf-8')))"
   ]
  },
  {
   "cell_type": "code",
   "execution_count": 2,
   "metadata": {},
   "outputs": [],
   "source": [
    "df = get_data(\"https://api.covid19india.org/csv/latest/state_wise_daily.csv\")"
   ]
  },
  {
   "cell_type": "code",
   "execution_count": 3,
   "metadata": {},
   "outputs": [
    {
     "data": {
      "text/html": [
       "<div>\n",
       "<style scoped>\n",
       "    .dataframe tbody tr th:only-of-type {\n",
       "        vertical-align: middle;\n",
       "    }\n",
       "\n",
       "    .dataframe tbody tr th {\n",
       "        vertical-align: top;\n",
       "    }\n",
       "\n",
       "    .dataframe thead th {\n",
       "        text-align: right;\n",
       "    }\n",
       "</style>\n",
       "<table border=\"1\" class=\"dataframe\">\n",
       "  <thead>\n",
       "    <tr style=\"text-align: right;\">\n",
       "      <th></th>\n",
       "      <th>Date</th>\n",
       "      <th>Date_YMD</th>\n",
       "      <th>Status</th>\n",
       "      <th>TT</th>\n",
       "      <th>AN</th>\n",
       "      <th>AP</th>\n",
       "      <th>AR</th>\n",
       "      <th>AS</th>\n",
       "      <th>BR</th>\n",
       "      <th>CH</th>\n",
       "      <th>...</th>\n",
       "      <th>PB</th>\n",
       "      <th>RJ</th>\n",
       "      <th>SK</th>\n",
       "      <th>TN</th>\n",
       "      <th>TG</th>\n",
       "      <th>TR</th>\n",
       "      <th>UP</th>\n",
       "      <th>UT</th>\n",
       "      <th>WB</th>\n",
       "      <th>UN</th>\n",
       "    </tr>\n",
       "  </thead>\n",
       "  <tbody>\n",
       "    <tr>\n",
       "      <th>1372</th>\n",
       "      <td>14-Jun-21</td>\n",
       "      <td>2021-06-14</td>\n",
       "      <td>Recovered</td>\n",
       "      <td>117376</td>\n",
       "      <td>9</td>\n",
       "      <td>10114</td>\n",
       "      <td>356</td>\n",
       "      <td>4299</td>\n",
       "      <td>851</td>\n",
       "      <td>61</td>\n",
       "      <td>...</td>\n",
       "      <td>1650</td>\n",
       "      <td>1231</td>\n",
       "      <td>281</td>\n",
       "      <td>25561</td>\n",
       "      <td>2175</td>\n",
       "      <td>610</td>\n",
       "      <td>1116</td>\n",
       "      <td>990</td>\n",
       "      <td>2171</td>\n",
       "      <td>0</td>\n",
       "    </tr>\n",
       "    <tr>\n",
       "      <th>1373</th>\n",
       "      <td>14-Jun-21</td>\n",
       "      <td>2021-06-14</td>\n",
       "      <td>Deceased</td>\n",
       "      <td>2733</td>\n",
       "      <td>0</td>\n",
       "      <td>59</td>\n",
       "      <td>6</td>\n",
       "      <td>43</td>\n",
       "      <td>13</td>\n",
       "      <td>2</td>\n",
       "      <td>...</td>\n",
       "      <td>40</td>\n",
       "      <td>20</td>\n",
       "      <td>0</td>\n",
       "      <td>254</td>\n",
       "      <td>12</td>\n",
       "      <td>7</td>\n",
       "      <td>72</td>\n",
       "      <td>25</td>\n",
       "      <td>78</td>\n",
       "      <td>0</td>\n",
       "    </tr>\n",
       "    <tr>\n",
       "      <th>1374</th>\n",
       "      <td>15-Jun-21</td>\n",
       "      <td>2021-06-15</td>\n",
       "      <td>Confirmed</td>\n",
       "      <td>62214</td>\n",
       "      <td>11</td>\n",
       "      <td>5741</td>\n",
       "      <td>290</td>\n",
       "      <td>3415</td>\n",
       "      <td>410</td>\n",
       "      <td>40</td>\n",
       "      <td>...</td>\n",
       "      <td>628</td>\n",
       "      <td>172</td>\n",
       "      <td>209</td>\n",
       "      <td>11805</td>\n",
       "      <td>1556</td>\n",
       "      <td>528</td>\n",
       "      <td>270</td>\n",
       "      <td>274</td>\n",
       "      <td>3268</td>\n",
       "      <td>0</td>\n",
       "    </tr>\n",
       "    <tr>\n",
       "      <th>1375</th>\n",
       "      <td>15-Jun-21</td>\n",
       "      <td>2021-06-15</td>\n",
       "      <td>Recovered</td>\n",
       "      <td>107767</td>\n",
       "      <td>15</td>\n",
       "      <td>10567</td>\n",
       "      <td>326</td>\n",
       "      <td>2906</td>\n",
       "      <td>813</td>\n",
       "      <td>58</td>\n",
       "      <td>...</td>\n",
       "      <td>1691</td>\n",
       "      <td>1006</td>\n",
       "      <td>272</td>\n",
       "      <td>23207</td>\n",
       "      <td>2070</td>\n",
       "      <td>743</td>\n",
       "      <td>1104</td>\n",
       "      <td>515</td>\n",
       "      <td>2068</td>\n",
       "      <td>0</td>\n",
       "    </tr>\n",
       "    <tr>\n",
       "      <th>1376</th>\n",
       "      <td>15-Jun-21</td>\n",
       "      <td>2021-06-15</td>\n",
       "      <td>Deceased</td>\n",
       "      <td>2540</td>\n",
       "      <td>0</td>\n",
       "      <td>53</td>\n",
       "      <td>4</td>\n",
       "      <td>34</td>\n",
       "      <td>9</td>\n",
       "      <td>3</td>\n",
       "      <td>...</td>\n",
       "      <td>48</td>\n",
       "      <td>14</td>\n",
       "      <td>3</td>\n",
       "      <td>267</td>\n",
       "      <td>14</td>\n",
       "      <td>4</td>\n",
       "      <td>56</td>\n",
       "      <td>25</td>\n",
       "      <td>75</td>\n",
       "      <td>0</td>\n",
       "    </tr>\n",
       "  </tbody>\n",
       "</table>\n",
       "<p>5 rows × 42 columns</p>\n",
       "</div>"
      ],
      "text/plain": [
       "           Date    Date_YMD     Status      TT  AN     AP   AR    AS   BR  CH  \\\n",
       "1372  14-Jun-21  2021-06-14  Recovered  117376   9  10114  356  4299  851  61   \n",
       "1373  14-Jun-21  2021-06-14   Deceased    2733   0     59    6    43   13   2   \n",
       "1374  15-Jun-21  2021-06-15  Confirmed   62214  11   5741  290  3415  410  40   \n",
       "1375  15-Jun-21  2021-06-15  Recovered  107767  15  10567  326  2906  813  58   \n",
       "1376  15-Jun-21  2021-06-15   Deceased    2540   0     53    4    34    9   3   \n",
       "\n",
       "      ...    PB    RJ   SK     TN    TG   TR    UP   UT    WB  UN  \n",
       "1372  ...  1650  1231  281  25561  2175  610  1116  990  2171   0  \n",
       "1373  ...    40    20    0    254    12    7    72   25    78   0  \n",
       "1374  ...   628   172  209  11805  1556  528   270  274  3268   0  \n",
       "1375  ...  1691  1006  272  23207  2070  743  1104  515  2068   0  \n",
       "1376  ...    48    14    3    267    14    4    56   25    75   0  \n",
       "\n",
       "[5 rows x 42 columns]"
      ]
     },
     "execution_count": 3,
     "metadata": {},
     "output_type": "execute_result"
    }
   ],
   "source": [
    "df.tail()"
   ]
  },
  {
   "cell_type": "code",
   "execution_count": 4,
   "metadata": {},
   "outputs": [
    {
     "data": {
      "text/html": [
       "<div>\n",
       "<style scoped>\n",
       "    .dataframe tbody tr th:only-of-type {\n",
       "        vertical-align: middle;\n",
       "    }\n",
       "\n",
       "    .dataframe tbody tr th {\n",
       "        vertical-align: top;\n",
       "    }\n",
       "\n",
       "    .dataframe thead th {\n",
       "        text-align: right;\n",
       "    }\n",
       "</style>\n",
       "<table border=\"1\" class=\"dataframe\">\n",
       "  <thead>\n",
       "    <tr style=\"text-align: right;\">\n",
       "      <th></th>\n",
       "      <th>Date</th>\n",
       "      <th>Date_YMD</th>\n",
       "      <th>Status</th>\n",
       "      <th>TT</th>\n",
       "      <th>AN</th>\n",
       "      <th>AP</th>\n",
       "      <th>AR</th>\n",
       "      <th>AS</th>\n",
       "      <th>BR</th>\n",
       "      <th>CH</th>\n",
       "      <th>...</th>\n",
       "      <th>PB</th>\n",
       "      <th>RJ</th>\n",
       "      <th>SK</th>\n",
       "      <th>TN</th>\n",
       "      <th>TG</th>\n",
       "      <th>TR</th>\n",
       "      <th>UP</th>\n",
       "      <th>UT</th>\n",
       "      <th>WB</th>\n",
       "      <th>UN</th>\n",
       "    </tr>\n",
       "  </thead>\n",
       "  <tbody>\n",
       "    <tr>\n",
       "      <th>0</th>\n",
       "      <td>14-Mar-20</td>\n",
       "      <td>2020-03-14</td>\n",
       "      <td>Confirmed</td>\n",
       "      <td>81</td>\n",
       "      <td>0</td>\n",
       "      <td>1</td>\n",
       "      <td>0</td>\n",
       "      <td>0</td>\n",
       "      <td>0</td>\n",
       "      <td>0</td>\n",
       "      <td>...</td>\n",
       "      <td>1</td>\n",
       "      <td>3</td>\n",
       "      <td>0</td>\n",
       "      <td>1</td>\n",
       "      <td>1</td>\n",
       "      <td>0</td>\n",
       "      <td>12</td>\n",
       "      <td>0</td>\n",
       "      <td>0</td>\n",
       "      <td>0</td>\n",
       "    </tr>\n",
       "    <tr>\n",
       "      <th>3</th>\n",
       "      <td>15-Mar-20</td>\n",
       "      <td>2020-03-15</td>\n",
       "      <td>Confirmed</td>\n",
       "      <td>27</td>\n",
       "      <td>0</td>\n",
       "      <td>0</td>\n",
       "      <td>0</td>\n",
       "      <td>0</td>\n",
       "      <td>0</td>\n",
       "      <td>0</td>\n",
       "      <td>...</td>\n",
       "      <td>0</td>\n",
       "      <td>1</td>\n",
       "      <td>0</td>\n",
       "      <td>0</td>\n",
       "      <td>2</td>\n",
       "      <td>0</td>\n",
       "      <td>1</td>\n",
       "      <td>0</td>\n",
       "      <td>0</td>\n",
       "      <td>0</td>\n",
       "    </tr>\n",
       "    <tr>\n",
       "      <th>6</th>\n",
       "      <td>16-Mar-20</td>\n",
       "      <td>2020-03-16</td>\n",
       "      <td>Confirmed</td>\n",
       "      <td>15</td>\n",
       "      <td>0</td>\n",
       "      <td>0</td>\n",
       "      <td>0</td>\n",
       "      <td>0</td>\n",
       "      <td>0</td>\n",
       "      <td>0</td>\n",
       "      <td>...</td>\n",
       "      <td>0</td>\n",
       "      <td>0</td>\n",
       "      <td>0</td>\n",
       "      <td>0</td>\n",
       "      <td>1</td>\n",
       "      <td>0</td>\n",
       "      <td>0</td>\n",
       "      <td>1</td>\n",
       "      <td>0</td>\n",
       "      <td>0</td>\n",
       "    </tr>\n",
       "    <tr>\n",
       "      <th>9</th>\n",
       "      <td>17-Mar-20</td>\n",
       "      <td>2020-03-17</td>\n",
       "      <td>Confirmed</td>\n",
       "      <td>11</td>\n",
       "      <td>0</td>\n",
       "      <td>0</td>\n",
       "      <td>0</td>\n",
       "      <td>0</td>\n",
       "      <td>0</td>\n",
       "      <td>0</td>\n",
       "      <td>...</td>\n",
       "      <td>0</td>\n",
       "      <td>0</td>\n",
       "      <td>0</td>\n",
       "      <td>0</td>\n",
       "      <td>1</td>\n",
       "      <td>0</td>\n",
       "      <td>2</td>\n",
       "      <td>0</td>\n",
       "      <td>1</td>\n",
       "      <td>0</td>\n",
       "    </tr>\n",
       "    <tr>\n",
       "      <th>12</th>\n",
       "      <td>18-Mar-20</td>\n",
       "      <td>2020-03-18</td>\n",
       "      <td>Confirmed</td>\n",
       "      <td>37</td>\n",
       "      <td>0</td>\n",
       "      <td>0</td>\n",
       "      <td>0</td>\n",
       "      <td>0</td>\n",
       "      <td>0</td>\n",
       "      <td>0</td>\n",
       "      <td>...</td>\n",
       "      <td>1</td>\n",
       "      <td>3</td>\n",
       "      <td>0</td>\n",
       "      <td>1</td>\n",
       "      <td>8</td>\n",
       "      <td>0</td>\n",
       "      <td>2</td>\n",
       "      <td>1</td>\n",
       "      <td>0</td>\n",
       "      <td>0</td>\n",
       "    </tr>\n",
       "    <tr>\n",
       "      <th>...</th>\n",
       "      <td>...</td>\n",
       "      <td>...</td>\n",
       "      <td>...</td>\n",
       "      <td>...</td>\n",
       "      <td>...</td>\n",
       "      <td>...</td>\n",
       "      <td>...</td>\n",
       "      <td>...</td>\n",
       "      <td>...</td>\n",
       "      <td>...</td>\n",
       "      <td>...</td>\n",
       "      <td>...</td>\n",
       "      <td>...</td>\n",
       "      <td>...</td>\n",
       "      <td>...</td>\n",
       "      <td>...</td>\n",
       "      <td>...</td>\n",
       "      <td>...</td>\n",
       "      <td>...</td>\n",
       "      <td>...</td>\n",
       "      <td>...</td>\n",
       "    </tr>\n",
       "    <tr>\n",
       "      <th>1359</th>\n",
       "      <td>10-Jun-21</td>\n",
       "      <td>2021-06-10</td>\n",
       "      <td>Confirmed</td>\n",
       "      <td>91849</td>\n",
       "      <td>29</td>\n",
       "      <td>8110</td>\n",
       "      <td>245</td>\n",
       "      <td>3756</td>\n",
       "      <td>551</td>\n",
       "      <td>66</td>\n",
       "      <td>...</td>\n",
       "      <td>1311</td>\n",
       "      <td>538</td>\n",
       "      <td>287</td>\n",
       "      <td>16813</td>\n",
       "      <td>1798</td>\n",
       "      <td>658</td>\n",
       "      <td>596</td>\n",
       "      <td>388</td>\n",
       "      <td>5274</td>\n",
       "      <td>0</td>\n",
       "    </tr>\n",
       "    <tr>\n",
       "      <th>1362</th>\n",
       "      <td>11-Jun-21</td>\n",
       "      <td>2021-06-11</td>\n",
       "      <td>Confirmed</td>\n",
       "      <td>84574</td>\n",
       "      <td>36</td>\n",
       "      <td>8239</td>\n",
       "      <td>358</td>\n",
       "      <td>3666</td>\n",
       "      <td>566</td>\n",
       "      <td>70</td>\n",
       "      <td>...</td>\n",
       "      <td>1201</td>\n",
       "      <td>446</td>\n",
       "      <td>147</td>\n",
       "      <td>15759</td>\n",
       "      <td>1707</td>\n",
       "      <td>641</td>\n",
       "      <td>596</td>\n",
       "      <td>287</td>\n",
       "      <td>4883</td>\n",
       "      <td>0</td>\n",
       "    </tr>\n",
       "    <tr>\n",
       "      <th>1365</th>\n",
       "      <td>12-Jun-21</td>\n",
       "      <td>2021-06-12</td>\n",
       "      <td>Confirmed</td>\n",
       "      <td>80525</td>\n",
       "      <td>10</td>\n",
       "      <td>6952</td>\n",
       "      <td>298</td>\n",
       "      <td>3463</td>\n",
       "      <td>432</td>\n",
       "      <td>58</td>\n",
       "      <td>...</td>\n",
       "      <td>961</td>\n",
       "      <td>368</td>\n",
       "      <td>167</td>\n",
       "      <td>15108</td>\n",
       "      <td>1771</td>\n",
       "      <td>428</td>\n",
       "      <td>504</td>\n",
       "      <td>463</td>\n",
       "      <td>4286</td>\n",
       "      <td>0</td>\n",
       "    </tr>\n",
       "    <tr>\n",
       "      <th>1368</th>\n",
       "      <td>13-Jun-21</td>\n",
       "      <td>2021-06-13</td>\n",
       "      <td>Confirmed</td>\n",
       "      <td>71001</td>\n",
       "      <td>18</td>\n",
       "      <td>6770</td>\n",
       "      <td>134</td>\n",
       "      <td>2167</td>\n",
       "      <td>487</td>\n",
       "      <td>54</td>\n",
       "      <td>...</td>\n",
       "      <td>956</td>\n",
       "      <td>308</td>\n",
       "      <td>157</td>\n",
       "      <td>14016</td>\n",
       "      <td>1280</td>\n",
       "      <td>565</td>\n",
       "      <td>452</td>\n",
       "      <td>263</td>\n",
       "      <td>3984</td>\n",
       "      <td>0</td>\n",
       "    </tr>\n",
       "    <tr>\n",
       "      <th>1371</th>\n",
       "      <td>14-Jun-21</td>\n",
       "      <td>2021-06-14</td>\n",
       "      <td>Confirmed</td>\n",
       "      <td>60008</td>\n",
       "      <td>8</td>\n",
       "      <td>4549</td>\n",
       "      <td>366</td>\n",
       "      <td>3678</td>\n",
       "      <td>324</td>\n",
       "      <td>50</td>\n",
       "      <td>...</td>\n",
       "      <td>622</td>\n",
       "      <td>277</td>\n",
       "      <td>36</td>\n",
       "      <td>12772</td>\n",
       "      <td>1511</td>\n",
       "      <td>235</td>\n",
       "      <td>313</td>\n",
       "      <td>296</td>\n",
       "      <td>3519</td>\n",
       "      <td>0</td>\n",
       "    </tr>\n",
       "  </tbody>\n",
       "</table>\n",
       "<p>458 rows × 42 columns</p>\n",
       "</div>"
      ],
      "text/plain": [
       "           Date    Date_YMD     Status     TT  AN    AP   AR    AS   BR  CH  \\\n",
       "0     14-Mar-20  2020-03-14  Confirmed     81   0     1    0     0    0   0   \n",
       "3     15-Mar-20  2020-03-15  Confirmed     27   0     0    0     0    0   0   \n",
       "6     16-Mar-20  2020-03-16  Confirmed     15   0     0    0     0    0   0   \n",
       "9     17-Mar-20  2020-03-17  Confirmed     11   0     0    0     0    0   0   \n",
       "12    18-Mar-20  2020-03-18  Confirmed     37   0     0    0     0    0   0   \n",
       "...         ...         ...        ...    ...  ..   ...  ...   ...  ...  ..   \n",
       "1359  10-Jun-21  2021-06-10  Confirmed  91849  29  8110  245  3756  551  66   \n",
       "1362  11-Jun-21  2021-06-11  Confirmed  84574  36  8239  358  3666  566  70   \n",
       "1365  12-Jun-21  2021-06-12  Confirmed  80525  10  6952  298  3463  432  58   \n",
       "1368  13-Jun-21  2021-06-13  Confirmed  71001  18  6770  134  2167  487  54   \n",
       "1371  14-Jun-21  2021-06-14  Confirmed  60008   8  4549  366  3678  324  50   \n",
       "\n",
       "      ...    PB   RJ   SK     TN    TG   TR   UP   UT    WB  UN  \n",
       "0     ...     1    3    0      1     1    0   12    0     0   0  \n",
       "3     ...     0    1    0      0     2    0    1    0     0   0  \n",
       "6     ...     0    0    0      0     1    0    0    1     0   0  \n",
       "9     ...     0    0    0      0     1    0    2    0     1   0  \n",
       "12    ...     1    3    0      1     8    0    2    1     0   0  \n",
       "...   ...   ...  ...  ...    ...   ...  ...  ...  ...   ...  ..  \n",
       "1359  ...  1311  538  287  16813  1798  658  596  388  5274   0  \n",
       "1362  ...  1201  446  147  15759  1707  641  596  287  4883   0  \n",
       "1365  ...   961  368  167  15108  1771  428  504  463  4286   0  \n",
       "1368  ...   956  308  157  14016  1280  565  452  263  3984   0  \n",
       "1371  ...   622  277   36  12772  1511  235  313  296  3519   0  \n",
       "\n",
       "[458 rows x 42 columns]"
      ]
     },
     "execution_count": 4,
     "metadata": {},
     "output_type": "execute_result"
    }
   ],
   "source": [
    "df = df[df['Status']=='Confirmed']\n",
    "df.head(-1)"
   ]
  },
  {
   "cell_type": "code",
   "execution_count": 5,
   "metadata": {},
   "outputs": [],
   "source": [
    "df = df.drop(['Status'], axis=1)"
   ]
  },
  {
   "cell_type": "code",
   "execution_count": 6,
   "metadata": {},
   "outputs": [],
   "source": [
    "from sklearn.preprocessing import MinMaxScaler\n",
    "scaler = MinMaxScaler()"
   ]
  },
  {
   "cell_type": "code",
   "execution_count": 7,
   "metadata": {},
   "outputs": [
    {
     "data": {
      "text/html": [
       "<div>\n",
       "<style scoped>\n",
       "    .dataframe tbody tr th:only-of-type {\n",
       "        vertical-align: middle;\n",
       "    }\n",
       "\n",
       "    .dataframe tbody tr th {\n",
       "        vertical-align: top;\n",
       "    }\n",
       "\n",
       "    .dataframe thead th {\n",
       "        text-align: right;\n",
       "    }\n",
       "</style>\n",
       "<table border=\"1\" class=\"dataframe\">\n",
       "  <thead>\n",
       "    <tr style=\"text-align: right;\">\n",
       "      <th></th>\n",
       "      <th>Date_YMD</th>\n",
       "      <th>TT</th>\n",
       "      <th>AN</th>\n",
       "      <th>AP</th>\n",
       "      <th>AR</th>\n",
       "      <th>AS</th>\n",
       "      <th>BR</th>\n",
       "      <th>CH</th>\n",
       "      <th>CT</th>\n",
       "      <th>DN</th>\n",
       "      <th>...</th>\n",
       "      <th>PB</th>\n",
       "      <th>RJ</th>\n",
       "      <th>SK</th>\n",
       "      <th>TN</th>\n",
       "      <th>TG</th>\n",
       "      <th>TR</th>\n",
       "      <th>UP</th>\n",
       "      <th>UT</th>\n",
       "      <th>WB</th>\n",
       "      <th>UN</th>\n",
       "    </tr>\n",
       "    <tr>\n",
       "      <th>Date</th>\n",
       "      <th></th>\n",
       "      <th></th>\n",
       "      <th></th>\n",
       "      <th></th>\n",
       "      <th></th>\n",
       "      <th></th>\n",
       "      <th></th>\n",
       "      <th></th>\n",
       "      <th></th>\n",
       "      <th></th>\n",
       "      <th></th>\n",
       "      <th></th>\n",
       "      <th></th>\n",
       "      <th></th>\n",
       "      <th></th>\n",
       "      <th></th>\n",
       "      <th></th>\n",
       "      <th></th>\n",
       "      <th></th>\n",
       "      <th></th>\n",
       "      <th></th>\n",
       "    </tr>\n",
       "  </thead>\n",
       "  <tbody>\n",
       "    <tr>\n",
       "      <th>14-Mar-20</th>\n",
       "      <td>2020-03-14</td>\n",
       "      <td>81</td>\n",
       "      <td>0</td>\n",
       "      <td>1</td>\n",
       "      <td>0</td>\n",
       "      <td>0</td>\n",
       "      <td>0</td>\n",
       "      <td>0</td>\n",
       "      <td>0</td>\n",
       "      <td>0</td>\n",
       "      <td>...</td>\n",
       "      <td>1</td>\n",
       "      <td>3</td>\n",
       "      <td>0</td>\n",
       "      <td>1</td>\n",
       "      <td>1</td>\n",
       "      <td>0</td>\n",
       "      <td>12</td>\n",
       "      <td>0</td>\n",
       "      <td>0</td>\n",
       "      <td>0</td>\n",
       "    </tr>\n",
       "    <tr>\n",
       "      <th>15-Mar-20</th>\n",
       "      <td>2020-03-15</td>\n",
       "      <td>27</td>\n",
       "      <td>0</td>\n",
       "      <td>0</td>\n",
       "      <td>0</td>\n",
       "      <td>0</td>\n",
       "      <td>0</td>\n",
       "      <td>0</td>\n",
       "      <td>0</td>\n",
       "      <td>0</td>\n",
       "      <td>...</td>\n",
       "      <td>0</td>\n",
       "      <td>1</td>\n",
       "      <td>0</td>\n",
       "      <td>0</td>\n",
       "      <td>2</td>\n",
       "      <td>0</td>\n",
       "      <td>1</td>\n",
       "      <td>0</td>\n",
       "      <td>0</td>\n",
       "      <td>0</td>\n",
       "    </tr>\n",
       "    <tr>\n",
       "      <th>16-Mar-20</th>\n",
       "      <td>2020-03-16</td>\n",
       "      <td>15</td>\n",
       "      <td>0</td>\n",
       "      <td>0</td>\n",
       "      <td>0</td>\n",
       "      <td>0</td>\n",
       "      <td>0</td>\n",
       "      <td>0</td>\n",
       "      <td>0</td>\n",
       "      <td>0</td>\n",
       "      <td>...</td>\n",
       "      <td>0</td>\n",
       "      <td>0</td>\n",
       "      <td>0</td>\n",
       "      <td>0</td>\n",
       "      <td>1</td>\n",
       "      <td>0</td>\n",
       "      <td>0</td>\n",
       "      <td>1</td>\n",
       "      <td>0</td>\n",
       "      <td>0</td>\n",
       "    </tr>\n",
       "    <tr>\n",
       "      <th>17-Mar-20</th>\n",
       "      <td>2020-03-17</td>\n",
       "      <td>11</td>\n",
       "      <td>0</td>\n",
       "      <td>0</td>\n",
       "      <td>0</td>\n",
       "      <td>0</td>\n",
       "      <td>0</td>\n",
       "      <td>0</td>\n",
       "      <td>0</td>\n",
       "      <td>0</td>\n",
       "      <td>...</td>\n",
       "      <td>0</td>\n",
       "      <td>0</td>\n",
       "      <td>0</td>\n",
       "      <td>0</td>\n",
       "      <td>1</td>\n",
       "      <td>0</td>\n",
       "      <td>2</td>\n",
       "      <td>0</td>\n",
       "      <td>1</td>\n",
       "      <td>0</td>\n",
       "    </tr>\n",
       "    <tr>\n",
       "      <th>18-Mar-20</th>\n",
       "      <td>2020-03-18</td>\n",
       "      <td>37</td>\n",
       "      <td>0</td>\n",
       "      <td>0</td>\n",
       "      <td>0</td>\n",
       "      <td>0</td>\n",
       "      <td>0</td>\n",
       "      <td>0</td>\n",
       "      <td>0</td>\n",
       "      <td>0</td>\n",
       "      <td>...</td>\n",
       "      <td>1</td>\n",
       "      <td>3</td>\n",
       "      <td>0</td>\n",
       "      <td>1</td>\n",
       "      <td>8</td>\n",
       "      <td>0</td>\n",
       "      <td>2</td>\n",
       "      <td>1</td>\n",
       "      <td>0</td>\n",
       "      <td>0</td>\n",
       "    </tr>\n",
       "    <tr>\n",
       "      <th>...</th>\n",
       "      <td>...</td>\n",
       "      <td>...</td>\n",
       "      <td>...</td>\n",
       "      <td>...</td>\n",
       "      <td>...</td>\n",
       "      <td>...</td>\n",
       "      <td>...</td>\n",
       "      <td>...</td>\n",
       "      <td>...</td>\n",
       "      <td>...</td>\n",
       "      <td>...</td>\n",
       "      <td>...</td>\n",
       "      <td>...</td>\n",
       "      <td>...</td>\n",
       "      <td>...</td>\n",
       "      <td>...</td>\n",
       "      <td>...</td>\n",
       "      <td>...</td>\n",
       "      <td>...</td>\n",
       "      <td>...</td>\n",
       "      <td>...</td>\n",
       "    </tr>\n",
       "    <tr>\n",
       "      <th>11-Jun-21</th>\n",
       "      <td>2021-06-11</td>\n",
       "      <td>84574</td>\n",
       "      <td>36</td>\n",
       "      <td>8239</td>\n",
       "      <td>358</td>\n",
       "      <td>3666</td>\n",
       "      <td>566</td>\n",
       "      <td>70</td>\n",
       "      <td>741</td>\n",
       "      <td>8</td>\n",
       "      <td>...</td>\n",
       "      <td>1201</td>\n",
       "      <td>446</td>\n",
       "      <td>147</td>\n",
       "      <td>15759</td>\n",
       "      <td>1707</td>\n",
       "      <td>641</td>\n",
       "      <td>596</td>\n",
       "      <td>287</td>\n",
       "      <td>4883</td>\n",
       "      <td>0</td>\n",
       "    </tr>\n",
       "    <tr>\n",
       "      <th>12-Jun-21</th>\n",
       "      <td>2021-06-12</td>\n",
       "      <td>80525</td>\n",
       "      <td>10</td>\n",
       "      <td>6952</td>\n",
       "      <td>298</td>\n",
       "      <td>3463</td>\n",
       "      <td>432</td>\n",
       "      <td>58</td>\n",
       "      <td>813</td>\n",
       "      <td>5</td>\n",
       "      <td>...</td>\n",
       "      <td>961</td>\n",
       "      <td>368</td>\n",
       "      <td>167</td>\n",
       "      <td>15108</td>\n",
       "      <td>1771</td>\n",
       "      <td>428</td>\n",
       "      <td>504</td>\n",
       "      <td>463</td>\n",
       "      <td>4286</td>\n",
       "      <td>0</td>\n",
       "    </tr>\n",
       "    <tr>\n",
       "      <th>13-Jun-21</th>\n",
       "      <td>2021-06-13</td>\n",
       "      <td>71001</td>\n",
       "      <td>18</td>\n",
       "      <td>6770</td>\n",
       "      <td>134</td>\n",
       "      <td>2167</td>\n",
       "      <td>487</td>\n",
       "      <td>54</td>\n",
       "      <td>459</td>\n",
       "      <td>0</td>\n",
       "      <td>...</td>\n",
       "      <td>956</td>\n",
       "      <td>308</td>\n",
       "      <td>157</td>\n",
       "      <td>14016</td>\n",
       "      <td>1280</td>\n",
       "      <td>565</td>\n",
       "      <td>452</td>\n",
       "      <td>263</td>\n",
       "      <td>3984</td>\n",
       "      <td>0</td>\n",
       "    </tr>\n",
       "    <tr>\n",
       "      <th>14-Jun-21</th>\n",
       "      <td>2021-06-14</td>\n",
       "      <td>60008</td>\n",
       "      <td>8</td>\n",
       "      <td>4549</td>\n",
       "      <td>366</td>\n",
       "      <td>3678</td>\n",
       "      <td>324</td>\n",
       "      <td>50</td>\n",
       "      <td>600</td>\n",
       "      <td>1</td>\n",
       "      <td>...</td>\n",
       "      <td>622</td>\n",
       "      <td>277</td>\n",
       "      <td>36</td>\n",
       "      <td>12772</td>\n",
       "      <td>1511</td>\n",
       "      <td>235</td>\n",
       "      <td>313</td>\n",
       "      <td>296</td>\n",
       "      <td>3519</td>\n",
       "      <td>0</td>\n",
       "    </tr>\n",
       "    <tr>\n",
       "      <th>15-Jun-21</th>\n",
       "      <td>2021-06-15</td>\n",
       "      <td>62214</td>\n",
       "      <td>11</td>\n",
       "      <td>5741</td>\n",
       "      <td>290</td>\n",
       "      <td>3415</td>\n",
       "      <td>410</td>\n",
       "      <td>40</td>\n",
       "      <td>609</td>\n",
       "      <td>7</td>\n",
       "      <td>...</td>\n",
       "      <td>628</td>\n",
       "      <td>172</td>\n",
       "      <td>209</td>\n",
       "      <td>11805</td>\n",
       "      <td>1556</td>\n",
       "      <td>528</td>\n",
       "      <td>270</td>\n",
       "      <td>274</td>\n",
       "      <td>3268</td>\n",
       "      <td>0</td>\n",
       "    </tr>\n",
       "  </tbody>\n",
       "</table>\n",
       "<p>459 rows × 40 columns</p>\n",
       "</div>"
      ],
      "text/plain": [
       "             Date_YMD     TT  AN    AP   AR    AS   BR  CH   CT  DN  ...  \\\n",
       "Date                                                                 ...   \n",
       "14-Mar-20  2020-03-14     81   0     1    0     0    0   0    0   0  ...   \n",
       "15-Mar-20  2020-03-15     27   0     0    0     0    0   0    0   0  ...   \n",
       "16-Mar-20  2020-03-16     15   0     0    0     0    0   0    0   0  ...   \n",
       "17-Mar-20  2020-03-17     11   0     0    0     0    0   0    0   0  ...   \n",
       "18-Mar-20  2020-03-18     37   0     0    0     0    0   0    0   0  ...   \n",
       "...               ...    ...  ..   ...  ...   ...  ...  ..  ...  ..  ...   \n",
       "11-Jun-21  2021-06-11  84574  36  8239  358  3666  566  70  741   8  ...   \n",
       "12-Jun-21  2021-06-12  80525  10  6952  298  3463  432  58  813   5  ...   \n",
       "13-Jun-21  2021-06-13  71001  18  6770  134  2167  487  54  459   0  ...   \n",
       "14-Jun-21  2021-06-14  60008   8  4549  366  3678  324  50  600   1  ...   \n",
       "15-Jun-21  2021-06-15  62214  11  5741  290  3415  410  40  609   7  ...   \n",
       "\n",
       "             PB   RJ   SK     TN    TG   TR   UP   UT    WB  UN  \n",
       "Date                                                             \n",
       "14-Mar-20     1    3    0      1     1    0   12    0     0   0  \n",
       "15-Mar-20     0    1    0      0     2    0    1    0     0   0  \n",
       "16-Mar-20     0    0    0      0     1    0    0    1     0   0  \n",
       "17-Mar-20     0    0    0      0     1    0    2    0     1   0  \n",
       "18-Mar-20     1    3    0      1     8    0    2    1     0   0  \n",
       "...         ...  ...  ...    ...   ...  ...  ...  ...   ...  ..  \n",
       "11-Jun-21  1201  446  147  15759  1707  641  596  287  4883   0  \n",
       "12-Jun-21   961  368  167  15108  1771  428  504  463  4286   0  \n",
       "13-Jun-21   956  308  157  14016  1280  565  452  263  3984   0  \n",
       "14-Jun-21   622  277   36  12772  1511  235  313  296  3519   0  \n",
       "15-Jun-21   628  172  209  11805  1556  528  270  274  3268   0  \n",
       "\n",
       "[459 rows x 40 columns]"
      ]
     },
     "execution_count": 7,
     "metadata": {},
     "output_type": "execute_result"
    }
   ],
   "source": [
    "df.reset_index()\n",
    "df = df.set_index(\"Date\")\n",
    "df"
   ]
  },
  {
   "cell_type": "code",
   "execution_count": 8,
   "metadata": {},
   "outputs": [
    {
     "data": {
      "text/plain": [
       "Date\n",
       "14-Mar-20       1\n",
       "15-Mar-20       0\n",
       "16-Mar-20       0\n",
       "17-Mar-20       0\n",
       "18-Mar-20       1\n",
       "             ... \n",
       "11-Jun-21    1201\n",
       "12-Jun-21     961\n",
       "13-Jun-21     956\n",
       "14-Jun-21     622\n",
       "15-Jun-21     628\n",
       "Name: PB, Length: 459, dtype: int64"
      ]
     },
     "execution_count": 8,
     "metadata": {},
     "output_type": "execute_result"
    }
   ],
   "source": [
    "df['PB']"
   ]
  },
  {
   "cell_type": "code",
   "execution_count": 9,
   "metadata": {},
   "outputs": [
    {
     "data": {
      "text/html": [
       "        <script type=\"text/javascript\">\n",
       "        window.PlotlyConfig = {MathJaxConfig: 'local'};\n",
       "        if (window.MathJax) {MathJax.Hub.Config({SVG: {font: \"STIX-Web\"}});}\n",
       "        if (typeof require !== 'undefined') {\n",
       "        require.undef(\"plotly\");\n",
       "        requirejs.config({\n",
       "            paths: {\n",
       "                'plotly': ['https://cdn.plot.ly/plotly-latest.min']\n",
       "            }\n",
       "        });\n",
       "        require(['plotly'], function(Plotly) {\n",
       "            window._Plotly = Plotly;\n",
       "        });\n",
       "        }\n",
       "        </script>\n",
       "        "
      ]
     },
     "metadata": {},
     "output_type": "display_data"
    },
    {
     "data": {
      "application/vnd.plotly.v1+json": {
       "config": {
        "linkText": "Export to plot.ly",
        "plotlyServerURL": "https://plot.ly",
        "showLink": false
       },
       "data": [
        {
         "name": "daily confirmed cases PUNJAB",
         "type": "scatter",
         "x": [
          "14-Mar-20",
          "15-Mar-20",
          "16-Mar-20",
          "17-Mar-20",
          "18-Mar-20",
          "19-Mar-20",
          "20-Mar-20",
          "21-Mar-20",
          "22-Mar-20",
          "23-Mar-20",
          "24-Mar-20",
          "25-Mar-20",
          "26-Mar-20",
          "27-Mar-20",
          "28-Mar-20",
          "29-Mar-20",
          "30-Mar-20",
          "31-Mar-20",
          "01-Apr-20",
          "02-Apr-20",
          "03-Apr-20",
          "04-Apr-20",
          "05-Apr-20",
          "06-Apr-20",
          "07-Apr-20",
          "08-Apr-20",
          "09-Apr-20",
          "10-Apr-20",
          "11-Apr-20",
          "12-Apr-20",
          "13-Apr-20",
          "14-Apr-20",
          "15-Apr-20",
          "16-Apr-20",
          "17-Apr-20",
          "18-Apr-20",
          "19-Apr-20",
          "20-Apr-20",
          "21-Apr-20",
          "22-Apr-20",
          "23-Apr-20",
          "24-Apr-20",
          "25-Apr-20",
          "26-Apr-20",
          "27-Apr-20",
          "28-Apr-20",
          "29-Apr-20",
          "30-Apr-20",
          "01-May-20",
          "02-May-20",
          "03-May-20",
          "04-May-20",
          "05-May-20",
          "06-May-20",
          "07-May-20",
          "08-May-20",
          "09-May-20",
          "10-May-20",
          "11-May-20",
          "12-May-20",
          "13-May-20",
          "14-May-20",
          "15-May-20",
          "16-May-20",
          "17-May-20",
          "18-May-20",
          "19-May-20",
          "20-May-20",
          "21-May-20",
          "22-May-20",
          "23-May-20",
          "24-May-20",
          "25-May-20",
          "26-May-20",
          "27-May-20",
          "28-May-20",
          "29-May-20",
          "30-May-20",
          "31-May-20",
          "01-Jun-20",
          "02-Jun-20",
          "03-Jun-20",
          "04-Jun-20",
          "05-Jun-20",
          "06-Jun-20",
          "07-Jun-20",
          "08-Jun-20",
          "09-Jun-20",
          "10-Jun-20",
          "11-Jun-20",
          "12-Jun-20",
          "13-Jun-20",
          "14-Jun-20",
          "15-Jun-20",
          "16-Jun-20",
          "17-Jun-20",
          "18-Jun-20",
          "19-Jun-20",
          "20-Jun-20",
          "21-Jun-20",
          "22-Jun-20",
          "23-Jun-20",
          "24-Jun-20",
          "25-Jun-20",
          "26-Jun-20",
          "27-Jun-20",
          "28-Jun-20",
          "29-Jun-20",
          "30-Jun-20",
          "01-Jul-20",
          "02-Jul-20",
          "03-Jul-20",
          "04-Jul-20",
          "05-Jul-20",
          "06-Jul-20",
          "07-Jul-20",
          "08-Jul-20",
          "09-Jul-20",
          "10-Jul-20",
          "11-Jul-20",
          "12-Jul-20",
          "13-Jul-20",
          "14-Jul-20",
          "15-Jul-20",
          "16-Jul-20",
          "17-Jul-20",
          "18-Jul-20",
          "19-Jul-20",
          "20-Jul-20",
          "21-Jul-20",
          "22-Jul-20",
          "23-Jul-20",
          "24-Jul-20",
          "25-Jul-20",
          "26-Jul-20",
          "27-Jul-20",
          "28-Jul-20",
          "29-Jul-20",
          "30-Jul-20",
          "31-Jul-20",
          "01-Aug-20",
          "02-Aug-20",
          "03-Aug-20",
          "04-Aug-20",
          "05-Aug-20",
          "06-Aug-20",
          "07-Aug-20",
          "08-Aug-20",
          "09-Aug-20",
          "10-Aug-20",
          "11-Aug-20",
          "12-Aug-20",
          "13-Aug-20",
          "14-Aug-20",
          "15-Aug-20",
          "16-Aug-20",
          "17-Aug-20",
          "18-Aug-20",
          "19-Aug-20",
          "20-Aug-20",
          "21-Aug-20",
          "22-Aug-20",
          "23-Aug-20",
          "24-Aug-20",
          "25-Aug-20",
          "26-Aug-20",
          "27-Aug-20",
          "28-Aug-20",
          "29-Aug-20",
          "30-Aug-20",
          "31-Aug-20",
          "01-Sep-20",
          "02-Sep-20",
          "03-Sep-20",
          "04-Sep-20",
          "05-Sep-20",
          "06-Sep-20",
          "07-Sep-20",
          "08-Sep-20",
          "09-Sep-20",
          "10-Sep-20",
          "11-Sep-20",
          "12-Sep-20",
          "13-Sep-20",
          "14-Sep-20",
          "15-Sep-20",
          "16-Sep-20",
          "17-Sep-20",
          "18-Sep-20",
          "19-Sep-20",
          "20-Sep-20",
          "21-Sep-20",
          "22-Sep-20",
          "23-Sep-20",
          "24-Sep-20",
          "25-Sep-20",
          "26-Sep-20",
          "27-Sep-20",
          "28-Sep-20",
          "29-Sep-20",
          "30-Sep-20",
          "01-Oct-20",
          "02-Oct-20",
          "03-Oct-20",
          "04-Oct-20",
          "05-Oct-20",
          "06-Oct-20",
          "07-Oct-20",
          "08-Oct-20",
          "09-Oct-20",
          "10-Oct-20",
          "11-Oct-20",
          "12-Oct-20",
          "13-Oct-20",
          "14-Oct-20",
          "15-Oct-20",
          "16-Oct-20",
          "17-Oct-20",
          "18-Oct-20",
          "19-Oct-20",
          "20-Oct-20",
          "21-Oct-20",
          "22-Oct-20",
          "23-Oct-20",
          "24-Oct-20",
          "25-Oct-20",
          "26-Oct-20",
          "27-Oct-20",
          "28-Oct-20",
          "29-Oct-20",
          "30-Oct-20",
          "31-Oct-20",
          "01-Nov-20",
          "02-Nov-20",
          "03-Nov-20",
          "04-Nov-20",
          "05-Nov-20",
          "06-Nov-20",
          "07-Nov-20",
          "08-Nov-20",
          "09-Nov-20",
          "10-Nov-20",
          "11-Nov-20",
          "12-Nov-20",
          "13-Nov-20",
          "14-Nov-20",
          "15-Nov-20",
          "16-Nov-20",
          "17-Nov-20",
          "18-Nov-20",
          "19-Nov-20",
          "20-Nov-20",
          "21-Nov-20",
          "22-Nov-20",
          "23-Nov-20",
          "24-Nov-20",
          "25-Nov-20",
          "26-Nov-20",
          "27-Nov-20",
          "28-Nov-20",
          "29-Nov-20",
          "30-Nov-20",
          "01-Dec-20",
          "02-Dec-20",
          "03-Dec-20",
          "04-Dec-20",
          "05-Dec-20",
          "06-Dec-20",
          "07-Dec-20",
          "08-Dec-20",
          "09-Dec-20",
          "10-Dec-20",
          "11-Dec-20",
          "12-Dec-20",
          "13-Dec-20",
          "14-Dec-20",
          "15-Dec-20",
          "16-Dec-20",
          "17-Dec-20",
          "18-Dec-20",
          "19-Dec-20",
          "20-Dec-20",
          "21-Dec-20",
          "22-Dec-20",
          "23-Dec-20",
          "24-Dec-20",
          "25-Dec-20",
          "26-Dec-20",
          "27-Dec-20",
          "28-Dec-20",
          "29-Dec-20",
          "30-Dec-20",
          "31-Dec-20",
          "01-Jan-21",
          "02-Jan-21",
          "03-Jan-21",
          "04-Jan-21",
          "05-Jan-21",
          "06-Jan-21",
          "07-Jan-21",
          "08-Jan-21",
          "09-Jan-21",
          "10-Jan-21",
          "11-Jan-21",
          "12-Jan-21",
          "13-Jan-21",
          "14-Jan-21",
          "15-Jan-21",
          "16-Jan-21",
          "17-Jan-21",
          "18-Jan-21",
          "19-Jan-21",
          "20-Jan-21",
          "21-Jan-21",
          "22-Jan-21",
          "23-Jan-21",
          "24-Jan-21",
          "25-Jan-21",
          "26-Jan-21",
          "27-Jan-21",
          "28-Jan-21",
          "29-Jan-21",
          "30-Jan-21",
          "31-Jan-21",
          "01-Feb-21",
          "02-Feb-21",
          "03-Feb-21",
          "04-Feb-21",
          "05-Feb-21",
          "06-Feb-21",
          "07-Feb-21",
          "08-Feb-21",
          "09-Feb-21",
          "10-Feb-21",
          "11-Feb-21",
          "12-Feb-21",
          "13-Feb-21",
          "14-Feb-21",
          "15-Feb-21",
          "16-Feb-21",
          "17-Feb-21",
          "18-Feb-21",
          "19-Feb-21",
          "20-Feb-21",
          "21-Feb-21",
          "22-Feb-21",
          "23-Feb-21",
          "24-Feb-21",
          "25-Feb-21",
          "26-Feb-21",
          "27-Feb-21",
          "28-Feb-21",
          "01-Mar-21",
          "02-Mar-21",
          "03-Mar-21",
          "04-Mar-21",
          "05-Mar-21",
          "06-Mar-21",
          "07-Mar-21",
          "08-Mar-21",
          "09-Mar-21",
          "10-Mar-21",
          "11-Mar-21",
          "12-Mar-21",
          "13-Mar-21",
          "14-Mar-21",
          "15-Mar-21",
          "16-Mar-21",
          "17-Mar-21",
          "18-Mar-21",
          "19-Mar-21",
          "20-Mar-21",
          "21-Mar-21",
          "22-Mar-21",
          "23-Mar-21",
          "24-Mar-21",
          "25-Mar-21",
          "26-Mar-21",
          "27-Mar-21",
          "28-Mar-21",
          "29-Mar-21",
          "30-Mar-21",
          "31-Mar-21",
          "01-Apr-21",
          "02-Apr-21",
          "03-Apr-21",
          "04-Apr-21",
          "05-Apr-21",
          "06-Apr-21",
          "07-Apr-21",
          "08-Apr-21",
          "09-Apr-21",
          "10-Apr-21",
          "11-Apr-21",
          "12-Apr-21",
          "13-Apr-21",
          "14-Apr-21",
          "15-Apr-21",
          "16-Apr-21",
          "17-Apr-21",
          "18-Apr-21",
          "19-Apr-21",
          "20-Apr-21",
          "21-Apr-21",
          "22-Apr-21",
          "23-Apr-21",
          "24-Apr-21",
          "25-Apr-21",
          "26-Apr-21",
          "27-Apr-21",
          "28-Apr-21",
          "29-Apr-21",
          "30-Apr-21",
          "01-May-21",
          "02-May-21",
          "03-May-21",
          "04-May-21",
          "05-May-21",
          "06-May-21",
          "07-May-21",
          "08-May-21",
          "09-May-21",
          "10-May-21",
          "11-May-21",
          "12-May-21",
          "13-May-21",
          "14-May-21",
          "15-May-21",
          "16-May-21",
          "17-May-21",
          "18-May-21",
          "19-May-21",
          "20-May-21",
          "21-May-21",
          "22-May-21",
          "23-May-21",
          "24-May-21",
          "25-May-21",
          "26-May-21",
          "27-May-21",
          "28-May-21",
          "29-May-21",
          "30-May-21",
          "31-May-21",
          "01-Jun-21",
          "02-Jun-21",
          "03-Jun-21",
          "04-Jun-21",
          "05-Jun-21",
          "06-Jun-21",
          "07-Jun-21",
          "08-Jun-21",
          "09-Jun-21",
          "10-Jun-21",
          "11-Jun-21",
          "12-Jun-21",
          "13-Jun-21",
          "14-Jun-21",
          "15-Jun-21"
         ],
         "y": [
          1,
          0,
          0,
          0,
          1,
          0,
          1,
          10,
          8,
          2,
          6,
          2,
          2,
          5,
          0,
          0,
          3,
          1,
          4,
          1,
          6,
          12,
          3,
          11,
          20,
          7,
          24,
          21,
          7,
          12,
          6,
          8,
          2,
          11,
          14,
          23,
          10,
          1,
          6,
          27,
          5,
          15,
          10,
          14,
          8,
          12,
          33,
          105,
          105,
          187,
          330,
          130,
          219,
          75,
          118,
          87,
          31,
          61,
          54,
          37,
          10,
          11,
          -3,
          14,
          18,
          16,
          22,
          3,
          23,
          1,
          16,
          15,
          21,
          25,
          33,
          19,
          39,
          36,
          30,
          38,
          41,
          34,
          39,
          46,
          54,
          93,
          55,
          56,
          86,
          82,
          99,
          77,
          77,
          127,
          104,
          126,
          118,
          217,
          120,
          122,
          161,
          162,
          230,
          142,
          188,
          99,
          160,
          202,
          150,
          100,
          116,
          153,
          172,
          174,
          208,
          258,
          158,
          233,
          217,
          230,
          234,
          357,
          333,
          288,
          295,
          348,
          350,
          308,
          410,
          379,
          412,
          438,
          477,
          468,
          534,
          551,
          609,
          568,
          510,
          663,
          944,
          790,
          674,
          488,
          841,
          1035,
          1039,
          998,
          975,
          986,
          1000,
          1020,
          1027,
          1077,
          1028,
          1165,
          1489,
          1705,
          1683,
          1741,
          1503,
          1316,
          1136,
          1505,
          1293,
          1513,
          1746,
          1542,
          1470,
          1678,
          1466,
          1516,
          1481,
          1526,
          1498,
          1514,
          1946,
          2110,
          1964,
          2137,
          2459,
          2473,
          2441,
          2622,
          2421,
          2382,
          2702,
          2848,
          2774,
          2723,
          2160,
          2241,
          1411,
          2123,
          1756,
          1876,
          1588,
          1422,
          1269,
          1085,
          1426,
          1265,
          1062,
          1106,
          838,
          1029,
          830,
          852,
          848,
          743,
          858,
          656,
          562,
          676,
          549,
          470,
          507,
          417,
          476,
          473,
          487,
          498,
          605,
          464,
          483,
          415,
          336,
          346,
          526,
          464,
          431,
          500,
          317,
          396,
          415,
          527,
          521,
          647,
          477,
          487,
          554,
          486,
          699,
          685,
          736,
          0,
          1053,
          424,
          515,
          798,
          782,
          818,
          672,
          679,
          711,
          608,
          770,
          843,
          808,
          719,
          733,
          553,
          618,
          599,
          756,
          724,
          636,
          802,
          613,
          492,
          597,
          628,
          543,
          480,
          621,
          459,
          394,
          330,
          448,
          439,
          435,
          337,
          336,
          287,
          480,
          360,
          316,
          305,
          279,
          263,
          210,
          361,
          283,
          248,
          242,
          207,
          222,
          211,
          258,
          277,
          299,
          248,
          299,
          192,
          254,
          258,
          213,
          241,
          175,
          239,
          124,
          208,
          199,
          180,
          206,
          211,
          197,
          159,
          129,
          188,
          200,
          254,
          224,
          192,
          194,
          204,
          187,
          196,
          199,
          183,
          207,
          192,
          185,
          229,
          306,
          246,
          260,
          234,
          222,
          247,
          341,
          268,
          383,
          352,
          348,
          388,
          414,
          558,
          563,
          622,
          593,
          579,
          633,
          729,
          772,
          1071,
          808,
          1159,
          1043,
          1229,
          1027,
          1393,
          1305,
          1408,
          1510,
          1492,
          1818,
          1463,
          2013,
          2369,
          2470,
          2578,
          2644,
          2299,
          2254,
          2613,
          2661,
          3122,
          2805,
          2870,
          2868,
          2188,
          2944,
          3161,
          2873,
          2686,
          3006,
          2692,
          2905,
          2963,
          3070,
          3404,
          3239,
          3039,
          3451,
          2980,
          3302,
          4311,
          3891,
          4431,
          4900,
          4622,
          4656,
          4953,
          5450,
          6728,
          5663,
          6980,
          6276,
          5916,
          6904,
          6724,
          6063,
          7017,
          7280,
          6772,
          7514,
          7953,
          8841,
          8297,
          9042,
          8436,
          8549,
          8594,
          8271,
          8410,
          8035,
          6771,
          6950,
          6881,
          7066,
          6302,
          5469,
          5253,
          5297,
          5021,
          4481,
          4756,
          4004,
          3854,
          3706,
          3036,
          2584,
          2192,
          2149,
          2214,
          2144,
          2005,
          1878,
          1563,
          1269,
          1252,
          1393,
          1311,
          1201,
          961,
          956,
          622,
          628
         ]
        }
       ],
       "layout": {
        "template": {
         "data": {
          "bar": [
           {
            "error_x": {
             "color": "#2a3f5f"
            },
            "error_y": {
             "color": "#2a3f5f"
            },
            "marker": {
             "line": {
              "color": "#E5ECF6",
              "width": 0.5
             }
            },
            "type": "bar"
           }
          ],
          "barpolar": [
           {
            "marker": {
             "line": {
              "color": "#E5ECF6",
              "width": 0.5
             }
            },
            "type": "barpolar"
           }
          ],
          "carpet": [
           {
            "aaxis": {
             "endlinecolor": "#2a3f5f",
             "gridcolor": "white",
             "linecolor": "white",
             "minorgridcolor": "white",
             "startlinecolor": "#2a3f5f"
            },
            "baxis": {
             "endlinecolor": "#2a3f5f",
             "gridcolor": "white",
             "linecolor": "white",
             "minorgridcolor": "white",
             "startlinecolor": "#2a3f5f"
            },
            "type": "carpet"
           }
          ],
          "choropleth": [
           {
            "colorbar": {
             "outlinewidth": 0,
             "ticks": ""
            },
            "type": "choropleth"
           }
          ],
          "contour": [
           {
            "colorbar": {
             "outlinewidth": 0,
             "ticks": ""
            },
            "colorscale": [
             [
              0,
              "#0d0887"
             ],
             [
              0.1111111111111111,
              "#46039f"
             ],
             [
              0.2222222222222222,
              "#7201a8"
             ],
             [
              0.3333333333333333,
              "#9c179e"
             ],
             [
              0.4444444444444444,
              "#bd3786"
             ],
             [
              0.5555555555555556,
              "#d8576b"
             ],
             [
              0.6666666666666666,
              "#ed7953"
             ],
             [
              0.7777777777777778,
              "#fb9f3a"
             ],
             [
              0.8888888888888888,
              "#fdca26"
             ],
             [
              1,
              "#f0f921"
             ]
            ],
            "type": "contour"
           }
          ],
          "contourcarpet": [
           {
            "colorbar": {
             "outlinewidth": 0,
             "ticks": ""
            },
            "type": "contourcarpet"
           }
          ],
          "heatmap": [
           {
            "colorbar": {
             "outlinewidth": 0,
             "ticks": ""
            },
            "colorscale": [
             [
              0,
              "#0d0887"
             ],
             [
              0.1111111111111111,
              "#46039f"
             ],
             [
              0.2222222222222222,
              "#7201a8"
             ],
             [
              0.3333333333333333,
              "#9c179e"
             ],
             [
              0.4444444444444444,
              "#bd3786"
             ],
             [
              0.5555555555555556,
              "#d8576b"
             ],
             [
              0.6666666666666666,
              "#ed7953"
             ],
             [
              0.7777777777777778,
              "#fb9f3a"
             ],
             [
              0.8888888888888888,
              "#fdca26"
             ],
             [
              1,
              "#f0f921"
             ]
            ],
            "type": "heatmap"
           }
          ],
          "heatmapgl": [
           {
            "colorbar": {
             "outlinewidth": 0,
             "ticks": ""
            },
            "colorscale": [
             [
              0,
              "#0d0887"
             ],
             [
              0.1111111111111111,
              "#46039f"
             ],
             [
              0.2222222222222222,
              "#7201a8"
             ],
             [
              0.3333333333333333,
              "#9c179e"
             ],
             [
              0.4444444444444444,
              "#bd3786"
             ],
             [
              0.5555555555555556,
              "#d8576b"
             ],
             [
              0.6666666666666666,
              "#ed7953"
             ],
             [
              0.7777777777777778,
              "#fb9f3a"
             ],
             [
              0.8888888888888888,
              "#fdca26"
             ],
             [
              1,
              "#f0f921"
             ]
            ],
            "type": "heatmapgl"
           }
          ],
          "histogram": [
           {
            "marker": {
             "colorbar": {
              "outlinewidth": 0,
              "ticks": ""
             }
            },
            "type": "histogram"
           }
          ],
          "histogram2d": [
           {
            "colorbar": {
             "outlinewidth": 0,
             "ticks": ""
            },
            "colorscale": [
             [
              0,
              "#0d0887"
             ],
             [
              0.1111111111111111,
              "#46039f"
             ],
             [
              0.2222222222222222,
              "#7201a8"
             ],
             [
              0.3333333333333333,
              "#9c179e"
             ],
             [
              0.4444444444444444,
              "#bd3786"
             ],
             [
              0.5555555555555556,
              "#d8576b"
             ],
             [
              0.6666666666666666,
              "#ed7953"
             ],
             [
              0.7777777777777778,
              "#fb9f3a"
             ],
             [
              0.8888888888888888,
              "#fdca26"
             ],
             [
              1,
              "#f0f921"
             ]
            ],
            "type": "histogram2d"
           }
          ],
          "histogram2dcontour": [
           {
            "colorbar": {
             "outlinewidth": 0,
             "ticks": ""
            },
            "colorscale": [
             [
              0,
              "#0d0887"
             ],
             [
              0.1111111111111111,
              "#46039f"
             ],
             [
              0.2222222222222222,
              "#7201a8"
             ],
             [
              0.3333333333333333,
              "#9c179e"
             ],
             [
              0.4444444444444444,
              "#bd3786"
             ],
             [
              0.5555555555555556,
              "#d8576b"
             ],
             [
              0.6666666666666666,
              "#ed7953"
             ],
             [
              0.7777777777777778,
              "#fb9f3a"
             ],
             [
              0.8888888888888888,
              "#fdca26"
             ],
             [
              1,
              "#f0f921"
             ]
            ],
            "type": "histogram2dcontour"
           }
          ],
          "mesh3d": [
           {
            "colorbar": {
             "outlinewidth": 0,
             "ticks": ""
            },
            "type": "mesh3d"
           }
          ],
          "parcoords": [
           {
            "line": {
             "colorbar": {
              "outlinewidth": 0,
              "ticks": ""
             }
            },
            "type": "parcoords"
           }
          ],
          "pie": [
           {
            "automargin": true,
            "type": "pie"
           }
          ],
          "scatter": [
           {
            "marker": {
             "colorbar": {
              "outlinewidth": 0,
              "ticks": ""
             }
            },
            "type": "scatter"
           }
          ],
          "scatter3d": [
           {
            "line": {
             "colorbar": {
              "outlinewidth": 0,
              "ticks": ""
             }
            },
            "marker": {
             "colorbar": {
              "outlinewidth": 0,
              "ticks": ""
             }
            },
            "type": "scatter3d"
           }
          ],
          "scattercarpet": [
           {
            "marker": {
             "colorbar": {
              "outlinewidth": 0,
              "ticks": ""
             }
            },
            "type": "scattercarpet"
           }
          ],
          "scattergeo": [
           {
            "marker": {
             "colorbar": {
              "outlinewidth": 0,
              "ticks": ""
             }
            },
            "type": "scattergeo"
           }
          ],
          "scattergl": [
           {
            "marker": {
             "colorbar": {
              "outlinewidth": 0,
              "ticks": ""
             }
            },
            "type": "scattergl"
           }
          ],
          "scattermapbox": [
           {
            "marker": {
             "colorbar": {
              "outlinewidth": 0,
              "ticks": ""
             }
            },
            "type": "scattermapbox"
           }
          ],
          "scatterpolar": [
           {
            "marker": {
             "colorbar": {
              "outlinewidth": 0,
              "ticks": ""
             }
            },
            "type": "scatterpolar"
           }
          ],
          "scatterpolargl": [
           {
            "marker": {
             "colorbar": {
              "outlinewidth": 0,
              "ticks": ""
             }
            },
            "type": "scatterpolargl"
           }
          ],
          "scatterternary": [
           {
            "marker": {
             "colorbar": {
              "outlinewidth": 0,
              "ticks": ""
             }
            },
            "type": "scatterternary"
           }
          ],
          "surface": [
           {
            "colorbar": {
             "outlinewidth": 0,
             "ticks": ""
            },
            "colorscale": [
             [
              0,
              "#0d0887"
             ],
             [
              0.1111111111111111,
              "#46039f"
             ],
             [
              0.2222222222222222,
              "#7201a8"
             ],
             [
              0.3333333333333333,
              "#9c179e"
             ],
             [
              0.4444444444444444,
              "#bd3786"
             ],
             [
              0.5555555555555556,
              "#d8576b"
             ],
             [
              0.6666666666666666,
              "#ed7953"
             ],
             [
              0.7777777777777778,
              "#fb9f3a"
             ],
             [
              0.8888888888888888,
              "#fdca26"
             ],
             [
              1,
              "#f0f921"
             ]
            ],
            "type": "surface"
           }
          ],
          "table": [
           {
            "cells": {
             "fill": {
              "color": "#EBF0F8"
             },
             "line": {
              "color": "white"
             }
            },
            "header": {
             "fill": {
              "color": "#C8D4E3"
             },
             "line": {
              "color": "white"
             }
            },
            "type": "table"
           }
          ]
         },
         "layout": {
          "annotationdefaults": {
           "arrowcolor": "#2a3f5f",
           "arrowhead": 0,
           "arrowwidth": 1
          },
          "coloraxis": {
           "colorbar": {
            "outlinewidth": 0,
            "ticks": ""
           }
          },
          "colorscale": {
           "diverging": [
            [
             0,
             "#8e0152"
            ],
            [
             0.1,
             "#c51b7d"
            ],
            [
             0.2,
             "#de77ae"
            ],
            [
             0.3,
             "#f1b6da"
            ],
            [
             0.4,
             "#fde0ef"
            ],
            [
             0.5,
             "#f7f7f7"
            ],
            [
             0.6,
             "#e6f5d0"
            ],
            [
             0.7,
             "#b8e186"
            ],
            [
             0.8,
             "#7fbc41"
            ],
            [
             0.9,
             "#4d9221"
            ],
            [
             1,
             "#276419"
            ]
           ],
           "sequential": [
            [
             0,
             "#0d0887"
            ],
            [
             0.1111111111111111,
             "#46039f"
            ],
            [
             0.2222222222222222,
             "#7201a8"
            ],
            [
             0.3333333333333333,
             "#9c179e"
            ],
            [
             0.4444444444444444,
             "#bd3786"
            ],
            [
             0.5555555555555556,
             "#d8576b"
            ],
            [
             0.6666666666666666,
             "#ed7953"
            ],
            [
             0.7777777777777778,
             "#fb9f3a"
            ],
            [
             0.8888888888888888,
             "#fdca26"
            ],
            [
             1,
             "#f0f921"
            ]
           ],
           "sequentialminus": [
            [
             0,
             "#0d0887"
            ],
            [
             0.1111111111111111,
             "#46039f"
            ],
            [
             0.2222222222222222,
             "#7201a8"
            ],
            [
             0.3333333333333333,
             "#9c179e"
            ],
            [
             0.4444444444444444,
             "#bd3786"
            ],
            [
             0.5555555555555556,
             "#d8576b"
            ],
            [
             0.6666666666666666,
             "#ed7953"
            ],
            [
             0.7777777777777778,
             "#fb9f3a"
            ],
            [
             0.8888888888888888,
             "#fdca26"
            ],
            [
             1,
             "#f0f921"
            ]
           ]
          },
          "colorway": [
           "#636efa",
           "#EF553B",
           "#00cc96",
           "#ab63fa",
           "#FFA15A",
           "#19d3f3",
           "#FF6692",
           "#B6E880",
           "#FF97FF",
           "#FECB52"
          ],
          "font": {
           "color": "#2a3f5f"
          },
          "geo": {
           "bgcolor": "white",
           "lakecolor": "white",
           "landcolor": "#E5ECF6",
           "showlakes": true,
           "showland": true,
           "subunitcolor": "white"
          },
          "hoverlabel": {
           "align": "left"
          },
          "hovermode": "closest",
          "mapbox": {
           "style": "light"
          },
          "paper_bgcolor": "white",
          "plot_bgcolor": "#E5ECF6",
          "polar": {
           "angularaxis": {
            "gridcolor": "white",
            "linecolor": "white",
            "ticks": ""
           },
           "bgcolor": "#E5ECF6",
           "radialaxis": {
            "gridcolor": "white",
            "linecolor": "white",
            "ticks": ""
           }
          },
          "scene": {
           "xaxis": {
            "backgroundcolor": "#E5ECF6",
            "gridcolor": "white",
            "gridwidth": 2,
            "linecolor": "white",
            "showbackground": true,
            "ticks": "",
            "zerolinecolor": "white"
           },
           "yaxis": {
            "backgroundcolor": "#E5ECF6",
            "gridcolor": "white",
            "gridwidth": 2,
            "linecolor": "white",
            "showbackground": true,
            "ticks": "",
            "zerolinecolor": "white"
           },
           "zaxis": {
            "backgroundcolor": "#E5ECF6",
            "gridcolor": "white",
            "gridwidth": 2,
            "linecolor": "white",
            "showbackground": true,
            "ticks": "",
            "zerolinecolor": "white"
           }
          },
          "shapedefaults": {
           "line": {
            "color": "#2a3f5f"
           }
          },
          "ternary": {
           "aaxis": {
            "gridcolor": "white",
            "linecolor": "white",
            "ticks": ""
           },
           "baxis": {
            "gridcolor": "white",
            "linecolor": "white",
            "ticks": ""
           },
           "bgcolor": "#E5ECF6",
           "caxis": {
            "gridcolor": "white",
            "linecolor": "white",
            "ticks": ""
           }
          },
          "title": {
           "x": 0.05
          },
          "xaxis": {
           "automargin": true,
           "gridcolor": "white",
           "linecolor": "white",
           "ticks": "",
           "title": {
            "standoff": 15
           },
           "zerolinecolor": "white",
           "zerolinewidth": 2
          },
          "yaxis": {
           "automargin": true,
           "gridcolor": "white",
           "linecolor": "white",
           "ticks": "",
           "title": {
            "standoff": 15
           },
           "zerolinecolor": "white",
           "zerolinewidth": 2
          }
         }
        },
        "title": {
         "text": "Dail Confirm PUNJAB"
        }
       }
      },
      "text/html": [
       "<div>                            <div id=\"ab44359e-7fa9-432a-8937-993dd5b6468d\" class=\"plotly-graph-div\" style=\"height:525px; width:100%;\"></div>            <script type=\"text/javascript\">                require([\"plotly\"], function(Plotly) {                    window.PLOTLYENV=window.PLOTLYENV || {};                                    if (document.getElementById(\"ab44359e-7fa9-432a-8937-993dd5b6468d\")) {                    Plotly.newPlot(                        \"ab44359e-7fa9-432a-8937-993dd5b6468d\",                        [{\"name\": \"daily confirmed cases PUNJAB\", \"type\": \"scatter\", \"x\": [\"14-Mar-20\", \"15-Mar-20\", \"16-Mar-20\", \"17-Mar-20\", \"18-Mar-20\", \"19-Mar-20\", \"20-Mar-20\", \"21-Mar-20\", \"22-Mar-20\", \"23-Mar-20\", \"24-Mar-20\", \"25-Mar-20\", \"26-Mar-20\", \"27-Mar-20\", \"28-Mar-20\", \"29-Mar-20\", \"30-Mar-20\", \"31-Mar-20\", \"01-Apr-20\", \"02-Apr-20\", \"03-Apr-20\", \"04-Apr-20\", \"05-Apr-20\", \"06-Apr-20\", \"07-Apr-20\", \"08-Apr-20\", \"09-Apr-20\", \"10-Apr-20\", \"11-Apr-20\", \"12-Apr-20\", \"13-Apr-20\", \"14-Apr-20\", \"15-Apr-20\", \"16-Apr-20\", \"17-Apr-20\", \"18-Apr-20\", \"19-Apr-20\", \"20-Apr-20\", \"21-Apr-20\", \"22-Apr-20\", \"23-Apr-20\", \"24-Apr-20\", \"25-Apr-20\", \"26-Apr-20\", \"27-Apr-20\", \"28-Apr-20\", \"29-Apr-20\", \"30-Apr-20\", \"01-May-20\", \"02-May-20\", \"03-May-20\", \"04-May-20\", \"05-May-20\", \"06-May-20\", \"07-May-20\", \"08-May-20\", \"09-May-20\", \"10-May-20\", \"11-May-20\", \"12-May-20\", \"13-May-20\", \"14-May-20\", \"15-May-20\", \"16-May-20\", \"17-May-20\", \"18-May-20\", \"19-May-20\", \"20-May-20\", \"21-May-20\", \"22-May-20\", \"23-May-20\", \"24-May-20\", \"25-May-20\", \"26-May-20\", \"27-May-20\", \"28-May-20\", \"29-May-20\", \"30-May-20\", \"31-May-20\", \"01-Jun-20\", \"02-Jun-20\", \"03-Jun-20\", \"04-Jun-20\", \"05-Jun-20\", \"06-Jun-20\", \"07-Jun-20\", \"08-Jun-20\", \"09-Jun-20\", \"10-Jun-20\", \"11-Jun-20\", \"12-Jun-20\", \"13-Jun-20\", \"14-Jun-20\", \"15-Jun-20\", \"16-Jun-20\", \"17-Jun-20\", \"18-Jun-20\", \"19-Jun-20\", \"20-Jun-20\", \"21-Jun-20\", \"22-Jun-20\", \"23-Jun-20\", \"24-Jun-20\", \"25-Jun-20\", \"26-Jun-20\", \"27-Jun-20\", \"28-Jun-20\", \"29-Jun-20\", \"30-Jun-20\", \"01-Jul-20\", \"02-Jul-20\", \"03-Jul-20\", \"04-Jul-20\", \"05-Jul-20\", \"06-Jul-20\", \"07-Jul-20\", \"08-Jul-20\", \"09-Jul-20\", \"10-Jul-20\", \"11-Jul-20\", \"12-Jul-20\", \"13-Jul-20\", \"14-Jul-20\", \"15-Jul-20\", \"16-Jul-20\", \"17-Jul-20\", \"18-Jul-20\", \"19-Jul-20\", \"20-Jul-20\", \"21-Jul-20\", \"22-Jul-20\", \"23-Jul-20\", \"24-Jul-20\", \"25-Jul-20\", \"26-Jul-20\", \"27-Jul-20\", \"28-Jul-20\", \"29-Jul-20\", \"30-Jul-20\", \"31-Jul-20\", \"01-Aug-20\", \"02-Aug-20\", \"03-Aug-20\", \"04-Aug-20\", \"05-Aug-20\", \"06-Aug-20\", \"07-Aug-20\", \"08-Aug-20\", \"09-Aug-20\", \"10-Aug-20\", \"11-Aug-20\", \"12-Aug-20\", \"13-Aug-20\", \"14-Aug-20\", \"15-Aug-20\", \"16-Aug-20\", \"17-Aug-20\", \"18-Aug-20\", \"19-Aug-20\", \"20-Aug-20\", \"21-Aug-20\", \"22-Aug-20\", \"23-Aug-20\", \"24-Aug-20\", \"25-Aug-20\", \"26-Aug-20\", \"27-Aug-20\", \"28-Aug-20\", \"29-Aug-20\", \"30-Aug-20\", \"31-Aug-20\", \"01-Sep-20\", \"02-Sep-20\", \"03-Sep-20\", \"04-Sep-20\", \"05-Sep-20\", \"06-Sep-20\", \"07-Sep-20\", \"08-Sep-20\", \"09-Sep-20\", \"10-Sep-20\", \"11-Sep-20\", \"12-Sep-20\", \"13-Sep-20\", \"14-Sep-20\", \"15-Sep-20\", \"16-Sep-20\", \"17-Sep-20\", \"18-Sep-20\", \"19-Sep-20\", \"20-Sep-20\", \"21-Sep-20\", \"22-Sep-20\", \"23-Sep-20\", \"24-Sep-20\", \"25-Sep-20\", \"26-Sep-20\", \"27-Sep-20\", \"28-Sep-20\", \"29-Sep-20\", \"30-Sep-20\", \"01-Oct-20\", \"02-Oct-20\", \"03-Oct-20\", \"04-Oct-20\", \"05-Oct-20\", \"06-Oct-20\", \"07-Oct-20\", \"08-Oct-20\", \"09-Oct-20\", \"10-Oct-20\", \"11-Oct-20\", \"12-Oct-20\", \"13-Oct-20\", \"14-Oct-20\", \"15-Oct-20\", \"16-Oct-20\", \"17-Oct-20\", \"18-Oct-20\", \"19-Oct-20\", \"20-Oct-20\", \"21-Oct-20\", \"22-Oct-20\", \"23-Oct-20\", \"24-Oct-20\", \"25-Oct-20\", \"26-Oct-20\", \"27-Oct-20\", \"28-Oct-20\", \"29-Oct-20\", \"30-Oct-20\", \"31-Oct-20\", \"01-Nov-20\", \"02-Nov-20\", \"03-Nov-20\", \"04-Nov-20\", \"05-Nov-20\", \"06-Nov-20\", \"07-Nov-20\", \"08-Nov-20\", \"09-Nov-20\", \"10-Nov-20\", \"11-Nov-20\", \"12-Nov-20\", \"13-Nov-20\", \"14-Nov-20\", \"15-Nov-20\", \"16-Nov-20\", \"17-Nov-20\", \"18-Nov-20\", \"19-Nov-20\", \"20-Nov-20\", \"21-Nov-20\", \"22-Nov-20\", \"23-Nov-20\", \"24-Nov-20\", \"25-Nov-20\", \"26-Nov-20\", \"27-Nov-20\", \"28-Nov-20\", \"29-Nov-20\", \"30-Nov-20\", \"01-Dec-20\", \"02-Dec-20\", \"03-Dec-20\", \"04-Dec-20\", \"05-Dec-20\", \"06-Dec-20\", \"07-Dec-20\", \"08-Dec-20\", \"09-Dec-20\", \"10-Dec-20\", \"11-Dec-20\", \"12-Dec-20\", \"13-Dec-20\", \"14-Dec-20\", \"15-Dec-20\", \"16-Dec-20\", \"17-Dec-20\", \"18-Dec-20\", \"19-Dec-20\", \"20-Dec-20\", \"21-Dec-20\", \"22-Dec-20\", \"23-Dec-20\", \"24-Dec-20\", \"25-Dec-20\", \"26-Dec-20\", \"27-Dec-20\", \"28-Dec-20\", \"29-Dec-20\", \"30-Dec-20\", \"31-Dec-20\", \"01-Jan-21\", \"02-Jan-21\", \"03-Jan-21\", \"04-Jan-21\", \"05-Jan-21\", \"06-Jan-21\", \"07-Jan-21\", \"08-Jan-21\", \"09-Jan-21\", \"10-Jan-21\", \"11-Jan-21\", \"12-Jan-21\", \"13-Jan-21\", \"14-Jan-21\", \"15-Jan-21\", \"16-Jan-21\", \"17-Jan-21\", \"18-Jan-21\", \"19-Jan-21\", \"20-Jan-21\", \"21-Jan-21\", \"22-Jan-21\", \"23-Jan-21\", \"24-Jan-21\", \"25-Jan-21\", \"26-Jan-21\", \"27-Jan-21\", \"28-Jan-21\", \"29-Jan-21\", \"30-Jan-21\", \"31-Jan-21\", \"01-Feb-21\", \"02-Feb-21\", \"03-Feb-21\", \"04-Feb-21\", \"05-Feb-21\", \"06-Feb-21\", \"07-Feb-21\", \"08-Feb-21\", \"09-Feb-21\", \"10-Feb-21\", \"11-Feb-21\", \"12-Feb-21\", \"13-Feb-21\", \"14-Feb-21\", \"15-Feb-21\", \"16-Feb-21\", \"17-Feb-21\", \"18-Feb-21\", \"19-Feb-21\", \"20-Feb-21\", \"21-Feb-21\", \"22-Feb-21\", \"23-Feb-21\", \"24-Feb-21\", \"25-Feb-21\", \"26-Feb-21\", \"27-Feb-21\", \"28-Feb-21\", \"01-Mar-21\", \"02-Mar-21\", \"03-Mar-21\", \"04-Mar-21\", \"05-Mar-21\", \"06-Mar-21\", \"07-Mar-21\", \"08-Mar-21\", \"09-Mar-21\", \"10-Mar-21\", \"11-Mar-21\", \"12-Mar-21\", \"13-Mar-21\", \"14-Mar-21\", \"15-Mar-21\", \"16-Mar-21\", \"17-Mar-21\", \"18-Mar-21\", \"19-Mar-21\", \"20-Mar-21\", \"21-Mar-21\", \"22-Mar-21\", \"23-Mar-21\", \"24-Mar-21\", \"25-Mar-21\", \"26-Mar-21\", \"27-Mar-21\", \"28-Mar-21\", \"29-Mar-21\", \"30-Mar-21\", \"31-Mar-21\", \"01-Apr-21\", \"02-Apr-21\", \"03-Apr-21\", \"04-Apr-21\", \"05-Apr-21\", \"06-Apr-21\", \"07-Apr-21\", \"08-Apr-21\", \"09-Apr-21\", \"10-Apr-21\", \"11-Apr-21\", \"12-Apr-21\", \"13-Apr-21\", \"14-Apr-21\", \"15-Apr-21\", \"16-Apr-21\", \"17-Apr-21\", \"18-Apr-21\", \"19-Apr-21\", \"20-Apr-21\", \"21-Apr-21\", \"22-Apr-21\", \"23-Apr-21\", \"24-Apr-21\", \"25-Apr-21\", \"26-Apr-21\", \"27-Apr-21\", \"28-Apr-21\", \"29-Apr-21\", \"30-Apr-21\", \"01-May-21\", \"02-May-21\", \"03-May-21\", \"04-May-21\", \"05-May-21\", \"06-May-21\", \"07-May-21\", \"08-May-21\", \"09-May-21\", \"10-May-21\", \"11-May-21\", \"12-May-21\", \"13-May-21\", \"14-May-21\", \"15-May-21\", \"16-May-21\", \"17-May-21\", \"18-May-21\", \"19-May-21\", \"20-May-21\", \"21-May-21\", \"22-May-21\", \"23-May-21\", \"24-May-21\", \"25-May-21\", \"26-May-21\", \"27-May-21\", \"28-May-21\", \"29-May-21\", \"30-May-21\", \"31-May-21\", \"01-Jun-21\", \"02-Jun-21\", \"03-Jun-21\", \"04-Jun-21\", \"05-Jun-21\", \"06-Jun-21\", \"07-Jun-21\", \"08-Jun-21\", \"09-Jun-21\", \"10-Jun-21\", \"11-Jun-21\", \"12-Jun-21\", \"13-Jun-21\", \"14-Jun-21\", \"15-Jun-21\"], \"y\": [1, 0, 0, 0, 1, 0, 1, 10, 8, 2, 6, 2, 2, 5, 0, 0, 3, 1, 4, 1, 6, 12, 3, 11, 20, 7, 24, 21, 7, 12, 6, 8, 2, 11, 14, 23, 10, 1, 6, 27, 5, 15, 10, 14, 8, 12, 33, 105, 105, 187, 330, 130, 219, 75, 118, 87, 31, 61, 54, 37, 10, 11, -3, 14, 18, 16, 22, 3, 23, 1, 16, 15, 21, 25, 33, 19, 39, 36, 30, 38, 41, 34, 39, 46, 54, 93, 55, 56, 86, 82, 99, 77, 77, 127, 104, 126, 118, 217, 120, 122, 161, 162, 230, 142, 188, 99, 160, 202, 150, 100, 116, 153, 172, 174, 208, 258, 158, 233, 217, 230, 234, 357, 333, 288, 295, 348, 350, 308, 410, 379, 412, 438, 477, 468, 534, 551, 609, 568, 510, 663, 944, 790, 674, 488, 841, 1035, 1039, 998, 975, 986, 1000, 1020, 1027, 1077, 1028, 1165, 1489, 1705, 1683, 1741, 1503, 1316, 1136, 1505, 1293, 1513, 1746, 1542, 1470, 1678, 1466, 1516, 1481, 1526, 1498, 1514, 1946, 2110, 1964, 2137, 2459, 2473, 2441, 2622, 2421, 2382, 2702, 2848, 2774, 2723, 2160, 2241, 1411, 2123, 1756, 1876, 1588, 1422, 1269, 1085, 1426, 1265, 1062, 1106, 838, 1029, 830, 852, 848, 743, 858, 656, 562, 676, 549, 470, 507, 417, 476, 473, 487, 498, 605, 464, 483, 415, 336, 346, 526, 464, 431, 500, 317, 396, 415, 527, 521, 647, 477, 487, 554, 486, 699, 685, 736, 0, 1053, 424, 515, 798, 782, 818, 672, 679, 711, 608, 770, 843, 808, 719, 733, 553, 618, 599, 756, 724, 636, 802, 613, 492, 597, 628, 543, 480, 621, 459, 394, 330, 448, 439, 435, 337, 336, 287, 480, 360, 316, 305, 279, 263, 210, 361, 283, 248, 242, 207, 222, 211, 258, 277, 299, 248, 299, 192, 254, 258, 213, 241, 175, 239, 124, 208, 199, 180, 206, 211, 197, 159, 129, 188, 200, 254, 224, 192, 194, 204, 187, 196, 199, 183, 207, 192, 185, 229, 306, 246, 260, 234, 222, 247, 341, 268, 383, 352, 348, 388, 414, 558, 563, 622, 593, 579, 633, 729, 772, 1071, 808, 1159, 1043, 1229, 1027, 1393, 1305, 1408, 1510, 1492, 1818, 1463, 2013, 2369, 2470, 2578, 2644, 2299, 2254, 2613, 2661, 3122, 2805, 2870, 2868, 2188, 2944, 3161, 2873, 2686, 3006, 2692, 2905, 2963, 3070, 3404, 3239, 3039, 3451, 2980, 3302, 4311, 3891, 4431, 4900, 4622, 4656, 4953, 5450, 6728, 5663, 6980, 6276, 5916, 6904, 6724, 6063, 7017, 7280, 6772, 7514, 7953, 8841, 8297, 9042, 8436, 8549, 8594, 8271, 8410, 8035, 6771, 6950, 6881, 7066, 6302, 5469, 5253, 5297, 5021, 4481, 4756, 4004, 3854, 3706, 3036, 2584, 2192, 2149, 2214, 2144, 2005, 1878, 1563, 1269, 1252, 1393, 1311, 1201, 961, 956, 622, 628]}],                        {\"template\": {\"data\": {\"bar\": [{\"error_x\": {\"color\": \"#2a3f5f\"}, \"error_y\": {\"color\": \"#2a3f5f\"}, \"marker\": {\"line\": {\"color\": \"#E5ECF6\", \"width\": 0.5}}, \"type\": \"bar\"}], \"barpolar\": [{\"marker\": {\"line\": {\"color\": \"#E5ECF6\", \"width\": 0.5}}, \"type\": \"barpolar\"}], \"carpet\": [{\"aaxis\": {\"endlinecolor\": \"#2a3f5f\", \"gridcolor\": \"white\", \"linecolor\": \"white\", \"minorgridcolor\": \"white\", \"startlinecolor\": \"#2a3f5f\"}, \"baxis\": {\"endlinecolor\": \"#2a3f5f\", \"gridcolor\": \"white\", \"linecolor\": \"white\", \"minorgridcolor\": \"white\", \"startlinecolor\": \"#2a3f5f\"}, \"type\": \"carpet\"}], \"choropleth\": [{\"colorbar\": {\"outlinewidth\": 0, \"ticks\": \"\"}, \"type\": \"choropleth\"}], \"contour\": [{\"colorbar\": {\"outlinewidth\": 0, \"ticks\": \"\"}, \"colorscale\": [[0.0, \"#0d0887\"], [0.1111111111111111, \"#46039f\"], [0.2222222222222222, \"#7201a8\"], [0.3333333333333333, \"#9c179e\"], [0.4444444444444444, \"#bd3786\"], [0.5555555555555556, \"#d8576b\"], [0.6666666666666666, \"#ed7953\"], [0.7777777777777778, \"#fb9f3a\"], [0.8888888888888888, \"#fdca26\"], [1.0, \"#f0f921\"]], \"type\": \"contour\"}], \"contourcarpet\": [{\"colorbar\": {\"outlinewidth\": 0, \"ticks\": \"\"}, \"type\": \"contourcarpet\"}], \"heatmap\": [{\"colorbar\": {\"outlinewidth\": 0, \"ticks\": \"\"}, \"colorscale\": [[0.0, \"#0d0887\"], [0.1111111111111111, \"#46039f\"], [0.2222222222222222, \"#7201a8\"], [0.3333333333333333, \"#9c179e\"], [0.4444444444444444, \"#bd3786\"], [0.5555555555555556, \"#d8576b\"], [0.6666666666666666, \"#ed7953\"], [0.7777777777777778, \"#fb9f3a\"], [0.8888888888888888, \"#fdca26\"], [1.0, \"#f0f921\"]], \"type\": \"heatmap\"}], \"heatmapgl\": [{\"colorbar\": {\"outlinewidth\": 0, \"ticks\": \"\"}, \"colorscale\": [[0.0, \"#0d0887\"], [0.1111111111111111, \"#46039f\"], [0.2222222222222222, \"#7201a8\"], [0.3333333333333333, \"#9c179e\"], [0.4444444444444444, \"#bd3786\"], [0.5555555555555556, \"#d8576b\"], [0.6666666666666666, \"#ed7953\"], [0.7777777777777778, \"#fb9f3a\"], [0.8888888888888888, \"#fdca26\"], [1.0, \"#f0f921\"]], \"type\": \"heatmapgl\"}], \"histogram\": [{\"marker\": {\"colorbar\": {\"outlinewidth\": 0, \"ticks\": \"\"}}, \"type\": \"histogram\"}], \"histogram2d\": [{\"colorbar\": {\"outlinewidth\": 0, \"ticks\": \"\"}, \"colorscale\": [[0.0, \"#0d0887\"], [0.1111111111111111, \"#46039f\"], [0.2222222222222222, \"#7201a8\"], [0.3333333333333333, \"#9c179e\"], [0.4444444444444444, \"#bd3786\"], [0.5555555555555556, \"#d8576b\"], [0.6666666666666666, \"#ed7953\"], [0.7777777777777778, \"#fb9f3a\"], [0.8888888888888888, \"#fdca26\"], [1.0, \"#f0f921\"]], \"type\": \"histogram2d\"}], \"histogram2dcontour\": [{\"colorbar\": {\"outlinewidth\": 0, \"ticks\": \"\"}, \"colorscale\": [[0.0, \"#0d0887\"], [0.1111111111111111, \"#46039f\"], [0.2222222222222222, \"#7201a8\"], [0.3333333333333333, \"#9c179e\"], [0.4444444444444444, \"#bd3786\"], [0.5555555555555556, \"#d8576b\"], [0.6666666666666666, \"#ed7953\"], [0.7777777777777778, \"#fb9f3a\"], [0.8888888888888888, \"#fdca26\"], [1.0, \"#f0f921\"]], \"type\": \"histogram2dcontour\"}], \"mesh3d\": [{\"colorbar\": {\"outlinewidth\": 0, \"ticks\": \"\"}, \"type\": \"mesh3d\"}], \"parcoords\": [{\"line\": {\"colorbar\": {\"outlinewidth\": 0, \"ticks\": \"\"}}, \"type\": \"parcoords\"}], \"pie\": [{\"automargin\": true, \"type\": \"pie\"}], \"scatter\": [{\"marker\": {\"colorbar\": {\"outlinewidth\": 0, \"ticks\": \"\"}}, \"type\": \"scatter\"}], \"scatter3d\": [{\"line\": {\"colorbar\": {\"outlinewidth\": 0, \"ticks\": \"\"}}, \"marker\": {\"colorbar\": {\"outlinewidth\": 0, \"ticks\": \"\"}}, \"type\": \"scatter3d\"}], \"scattercarpet\": [{\"marker\": {\"colorbar\": {\"outlinewidth\": 0, \"ticks\": \"\"}}, \"type\": \"scattercarpet\"}], \"scattergeo\": [{\"marker\": {\"colorbar\": {\"outlinewidth\": 0, \"ticks\": \"\"}}, \"type\": \"scattergeo\"}], \"scattergl\": [{\"marker\": {\"colorbar\": {\"outlinewidth\": 0, \"ticks\": \"\"}}, \"type\": \"scattergl\"}], \"scattermapbox\": [{\"marker\": {\"colorbar\": {\"outlinewidth\": 0, \"ticks\": \"\"}}, \"type\": \"scattermapbox\"}], \"scatterpolar\": [{\"marker\": {\"colorbar\": {\"outlinewidth\": 0, \"ticks\": \"\"}}, \"type\": \"scatterpolar\"}], \"scatterpolargl\": [{\"marker\": {\"colorbar\": {\"outlinewidth\": 0, \"ticks\": \"\"}}, \"type\": \"scatterpolargl\"}], \"scatterternary\": [{\"marker\": {\"colorbar\": {\"outlinewidth\": 0, \"ticks\": \"\"}}, \"type\": \"scatterternary\"}], \"surface\": [{\"colorbar\": {\"outlinewidth\": 0, \"ticks\": \"\"}, \"colorscale\": [[0.0, \"#0d0887\"], [0.1111111111111111, \"#46039f\"], [0.2222222222222222, \"#7201a8\"], [0.3333333333333333, \"#9c179e\"], [0.4444444444444444, \"#bd3786\"], [0.5555555555555556, \"#d8576b\"], [0.6666666666666666, \"#ed7953\"], [0.7777777777777778, \"#fb9f3a\"], [0.8888888888888888, \"#fdca26\"], [1.0, \"#f0f921\"]], \"type\": \"surface\"}], \"table\": [{\"cells\": {\"fill\": {\"color\": \"#EBF0F8\"}, \"line\": {\"color\": \"white\"}}, \"header\": {\"fill\": {\"color\": \"#C8D4E3\"}, \"line\": {\"color\": \"white\"}}, \"type\": \"table\"}]}, \"layout\": {\"annotationdefaults\": {\"arrowcolor\": \"#2a3f5f\", \"arrowhead\": 0, \"arrowwidth\": 1}, \"coloraxis\": {\"colorbar\": {\"outlinewidth\": 0, \"ticks\": \"\"}}, \"colorscale\": {\"diverging\": [[0, \"#8e0152\"], [0.1, \"#c51b7d\"], [0.2, \"#de77ae\"], [0.3, \"#f1b6da\"], [0.4, \"#fde0ef\"], [0.5, \"#f7f7f7\"], [0.6, \"#e6f5d0\"], [0.7, \"#b8e186\"], [0.8, \"#7fbc41\"], [0.9, \"#4d9221\"], [1, \"#276419\"]], \"sequential\": [[0.0, \"#0d0887\"], [0.1111111111111111, \"#46039f\"], [0.2222222222222222, \"#7201a8\"], [0.3333333333333333, \"#9c179e\"], [0.4444444444444444, \"#bd3786\"], [0.5555555555555556, \"#d8576b\"], [0.6666666666666666, \"#ed7953\"], [0.7777777777777778, \"#fb9f3a\"], [0.8888888888888888, \"#fdca26\"], [1.0, \"#f0f921\"]], \"sequentialminus\": [[0.0, \"#0d0887\"], [0.1111111111111111, \"#46039f\"], [0.2222222222222222, \"#7201a8\"], [0.3333333333333333, \"#9c179e\"], [0.4444444444444444, \"#bd3786\"], [0.5555555555555556, \"#d8576b\"], [0.6666666666666666, \"#ed7953\"], [0.7777777777777778, \"#fb9f3a\"], [0.8888888888888888, \"#fdca26\"], [1.0, \"#f0f921\"]]}, \"colorway\": [\"#636efa\", \"#EF553B\", \"#00cc96\", \"#ab63fa\", \"#FFA15A\", \"#19d3f3\", \"#FF6692\", \"#B6E880\", \"#FF97FF\", \"#FECB52\"], \"font\": {\"color\": \"#2a3f5f\"}, \"geo\": {\"bgcolor\": \"white\", \"lakecolor\": \"white\", \"landcolor\": \"#E5ECF6\", \"showlakes\": true, \"showland\": true, \"subunitcolor\": \"white\"}, \"hoverlabel\": {\"align\": \"left\"}, \"hovermode\": \"closest\", \"mapbox\": {\"style\": \"light\"}, \"paper_bgcolor\": \"white\", \"plot_bgcolor\": \"#E5ECF6\", \"polar\": {\"angularaxis\": {\"gridcolor\": \"white\", \"linecolor\": \"white\", \"ticks\": \"\"}, \"bgcolor\": \"#E5ECF6\", \"radialaxis\": {\"gridcolor\": \"white\", \"linecolor\": \"white\", \"ticks\": \"\"}}, \"scene\": {\"xaxis\": {\"backgroundcolor\": \"#E5ECF6\", \"gridcolor\": \"white\", \"gridwidth\": 2, \"linecolor\": \"white\", \"showbackground\": true, \"ticks\": \"\", \"zerolinecolor\": \"white\"}, \"yaxis\": {\"backgroundcolor\": \"#E5ECF6\", \"gridcolor\": \"white\", \"gridwidth\": 2, \"linecolor\": \"white\", \"showbackground\": true, \"ticks\": \"\", \"zerolinecolor\": \"white\"}, \"zaxis\": {\"backgroundcolor\": \"#E5ECF6\", \"gridcolor\": \"white\", \"gridwidth\": 2, \"linecolor\": \"white\", \"showbackground\": true, \"ticks\": \"\", \"zerolinecolor\": \"white\"}}, \"shapedefaults\": {\"line\": {\"color\": \"#2a3f5f\"}}, \"ternary\": {\"aaxis\": {\"gridcolor\": \"white\", \"linecolor\": \"white\", \"ticks\": \"\"}, \"baxis\": {\"gridcolor\": \"white\", \"linecolor\": \"white\", \"ticks\": \"\"}, \"bgcolor\": \"#E5ECF6\", \"caxis\": {\"gridcolor\": \"white\", \"linecolor\": \"white\", \"ticks\": \"\"}}, \"title\": {\"x\": 0.05}, \"xaxis\": {\"automargin\": true, \"gridcolor\": \"white\", \"linecolor\": \"white\", \"ticks\": \"\", \"title\": {\"standoff\": 15}, \"zerolinecolor\": \"white\", \"zerolinewidth\": 2}, \"yaxis\": {\"automargin\": true, \"gridcolor\": \"white\", \"linecolor\": \"white\", \"ticks\": \"\", \"title\": {\"standoff\": 15}, \"zerolinecolor\": \"white\", \"zerolinewidth\": 2}}}, \"title\": {\"text\": \"Dail Confirm PUNJAB\"}},                        {\"responsive\": true}                    ).then(function(){\n",
       "                            \n",
       "var gd = document.getElementById('ab44359e-7fa9-432a-8937-993dd5b6468d');\n",
       "var x = new MutationObserver(function (mutations, observer) {{\n",
       "        var display = window.getComputedStyle(gd).display;\n",
       "        if (!display || display === 'none') {{\n",
       "            console.log([gd, 'removed!']);\n",
       "            Plotly.purge(gd);\n",
       "            observer.disconnect();\n",
       "        }}\n",
       "}});\n",
       "\n",
       "// Listen for the removal of the full notebook cells\n",
       "var notebookContainer = gd.closest('#notebook-container');\n",
       "if (notebookContainer) {{\n",
       "    x.observe(notebookContainer, {childList: true});\n",
       "}}\n",
       "\n",
       "// Listen for the clearing of the current output cell\n",
       "var outputEl = gd.closest('.output');\n",
       "if (outputEl) {{\n",
       "    x.observe(outputEl, {childList: true});\n",
       "}}\n",
       "\n",
       "                        })                };                });            </script>        </div>"
      ]
     },
     "metadata": {},
     "output_type": "display_data"
    }
   ],
   "source": [
    "import plotly.graph_objs as go\n",
    "from plotly.offline import download_plotlyjs, init_notebook_mode, plot, iplot\n",
    "init_notebook_mode(connected=True)\n",
    "\n",
    "trace1 = go.Scatter(x=df.index,\n",
    "                    y=df['PB'],\n",
    "                    name = \"daily confirmed cases PUNJAB\"\n",
    "        \n",
    "                    )\n",
    "\n",
    "layout = dict(title='Dail Confirm PUNJAB',)\n",
    "\n",
    "fig = dict(data=[trace1], layout=layout)\n",
    "iplot(fig)"
   ]
  },
  {
   "cell_type": "code",
   "execution_count": 10,
   "metadata": {},
   "outputs": [
    {
     "data": {
      "text/plain": [
       "459"
      ]
     },
     "execution_count": 10,
     "metadata": {},
     "output_type": "execute_result"
    }
   ],
   "source": [
    "len(df)"
   ]
  },
  {
   "cell_type": "code",
   "execution_count": 11,
   "metadata": {},
   "outputs": [
    {
     "data": {
      "text/plain": [
       "459"
      ]
     },
     "execution_count": 11,
     "metadata": {},
     "output_type": "execute_result"
    }
   ],
   "source": [
    "close_data=df\n",
    "len(close_data)"
   ]
  },
  {
   "cell_type": "code",
   "execution_count": 12,
   "metadata": {},
   "outputs": [
    {
     "data": {
      "text/plain": [
       "399"
      ]
     },
     "execution_count": 12,
     "metadata": {},
     "output_type": "execute_result"
    }
   ],
   "source": [
    "x=len(close_data)-60\n",
    "x"
   ]
  },
  {
   "cell_type": "code",
   "execution_count": 13,
   "metadata": {},
   "outputs": [
    {
     "name": "stdout",
     "output_type": "stream",
     "text": [
      "399\n",
      "60\n"
     ]
    }
   ],
   "source": [
    "close_data = df['PB'].values\n",
    "close_data = close_data.reshape((-1,1))\n",
    "\n",
    "\n",
    "close_train = close_data[:x]\n",
    "close_test = close_data[x:]\n",
    "\n",
    "date_train = df.index[:x]\n",
    "date_test = df.index[x:]\n",
    "\n",
    "print(len(close_train))\n",
    "print(len(close_test))"
   ]
  },
  {
   "cell_type": "code",
   "execution_count": 14,
   "metadata": {},
   "outputs": [
    {
     "data": {
      "text/plain": [
       "59"
      ]
     },
     "execution_count": 14,
     "metadata": {},
     "output_type": "execute_result"
    }
   ],
   "source": [
    "close_data1 = df.drop(df.index[range(399)])\n",
    "close_data1\n",
    "close_data1=close_data1.drop(close_data1.index[-1])\n",
    "len(close_data1)"
   ]
  },
  {
   "cell_type": "code",
   "execution_count": 15,
   "metadata": {},
   "outputs": [],
   "source": [
    "close_data2=close_data1"
   ]
  },
  {
   "cell_type": "code",
   "execution_count": 16,
   "metadata": {},
   "outputs": [],
   "source": [
    "close_data2\n",
    "len(close_data2)\n",
    "close_data2=close_data2['PB'].values\n",
    "close_data2 = close_data2.reshape((-1,1))"
   ]
  },
  {
   "cell_type": "code",
   "execution_count": 17,
   "metadata": {},
   "outputs": [],
   "source": [
    "import keras\n",
    "import tensorflow as tf\n",
    "from keras.preprocessing.sequence import TimeseriesGenerator"
   ]
  },
  {
   "cell_type": "code",
   "execution_count": 18,
   "metadata": {},
   "outputs": [],
   "source": [
    "\n",
    "look_back = 1\n",
    "\n",
    "train_generator = TimeseriesGenerator(close_train, close_train, length=look_back, batch_size=20)     \n",
    "test_generator = TimeseriesGenerator(close_test, close_test,length=look_back, batch_size=20)\n"
   ]
  },
  {
   "cell_type": "code",
   "execution_count": 19,
   "metadata": {},
   "outputs": [
    {
     "name": "stdout",
     "output_type": "stream",
     "text": [
      "Epoch 1/20\n",
      "20/20 - 0s - loss: 1285761.7500 - accuracy: 0.0176\n",
      "Epoch 2/20\n",
      "20/20 - 0s - loss: 1235976.0000 - accuracy: 0.0176\n",
      "Epoch 3/20\n",
      "20/20 - 0s - loss: 1142534.8750 - accuracy: 0.0176\n",
      "Epoch 4/20\n",
      "20/20 - 0s - loss: 1086494.5000 - accuracy: 0.0176\n",
      "Epoch 5/20\n",
      "20/20 - 0s - loss: 1061839.2500 - accuracy: 0.0201\n",
      "Epoch 6/20\n",
      "20/20 - 0s - loss: 973377.6250 - accuracy: 0.0201\n",
      "Epoch 7/20\n",
      "20/20 - 0s - loss: 861900.2500 - accuracy: 0.0176\n",
      "Epoch 8/20\n",
      "20/20 - 0s - loss: 794279.1250 - accuracy: 0.0201\n",
      "Epoch 9/20\n",
      "20/20 - 0s - loss: 740206.0000 - accuracy: 0.0226\n",
      "Epoch 10/20\n",
      "20/20 - 0s - loss: 689745.4375 - accuracy: 0.0226\n",
      "Epoch 11/20\n",
      "20/20 - 0s - loss: 318712.6562 - accuracy: 0.0226\n",
      "Epoch 12/20\n",
      "20/20 - 0s - loss: 198839.2344 - accuracy: 0.0226\n",
      "Epoch 13/20\n",
      "20/20 - 0s - loss: 153130.6094 - accuracy: 0.0176\n",
      "Epoch 14/20\n",
      "20/20 - 0s - loss: 105271.6953 - accuracy: 0.0176\n",
      "Epoch 15/20\n",
      "20/20 - 0s - loss: 86332.9531 - accuracy: 0.0176\n",
      "Epoch 16/20\n",
      "20/20 - 0s - loss: 64171.1211 - accuracy: 0.0176\n",
      "Epoch 17/20\n",
      "20/20 - 0s - loss: 52817.6680 - accuracy: 0.0176\n",
      "Epoch 18/20\n",
      "20/20 - 0s - loss: 43697.1016 - accuracy: 0.0176\n",
      "Epoch 19/20\n",
      "20/20 - 0s - loss: 39097.7148 - accuracy: 0.0176\n",
      "Epoch 20/20\n",
      "20/20 - 0s - loss: 35361.3047 - accuracy: 0.0151\n"
     ]
    },
    {
     "data": {
      "text/plain": [
       "<tensorflow.python.keras.callbacks.History at 0x3e93c7f588>"
      ]
     },
     "execution_count": 19,
     "metadata": {},
     "output_type": "execute_result"
    }
   ],
   "source": [
    "from keras.models import Sequential\n",
    "from keras.layers import LSTM, Dense\n",
    "\n",
    "model = Sequential()\n",
    "model.add(\n",
    "    LSTM(40,\n",
    "        activation='relu',\n",
    "        input_shape=(look_back,1))\n",
    ")\n",
    "model.add(Dense(1))\n",
    "model.compile(optimizer='adam', loss='mse',metrics=['accuracy'])\n",
    "\n",
    "num_epochs = 20 \n",
    "model.fit(train_generator, epochs=num_epochs, verbose=2)\n"
   ]
  },
  {
   "cell_type": "code",
   "execution_count": 20,
   "metadata": {},
   "outputs": [
    {
     "name": "stdout",
     "output_type": "stream",
     "text": [
      "Model: \"sequential\"\n",
      "_________________________________________________________________\n",
      "Layer (type)                 Output Shape              Param #   \n",
      "=================================================================\n",
      "lstm (LSTM)                  (None, 40)                6720      \n",
      "_________________________________________________________________\n",
      "dense (Dense)                (None, 1)                 41        \n",
      "=================================================================\n",
      "Total params: 6,761\n",
      "Trainable params: 6,761\n",
      "Non-trainable params: 0\n",
      "_________________________________________________________________\n"
     ]
    }
   ],
   "source": [
    "model.summary()"
   ]
  },
  {
   "cell_type": "code",
   "execution_count": 21,
   "metadata": {},
   "outputs": [
    {
     "data": {
      "application/vnd.plotly.v1+json": {
       "config": {
        "plotlyServerURL": "https://plot.ly"
       },
       "data": [
        {
         "mode": "lines",
         "name": "Training Data",
         "type": "scatter",
         "x": [
          "14-Mar-20",
          "15-Mar-20",
          "16-Mar-20",
          "17-Mar-20",
          "18-Mar-20",
          "19-Mar-20",
          "20-Mar-20",
          "21-Mar-20",
          "22-Mar-20",
          "23-Mar-20",
          "24-Mar-20",
          "25-Mar-20",
          "26-Mar-20",
          "27-Mar-20",
          "28-Mar-20",
          "29-Mar-20",
          "30-Mar-20",
          "31-Mar-20",
          "01-Apr-20",
          "02-Apr-20",
          "03-Apr-20",
          "04-Apr-20",
          "05-Apr-20",
          "06-Apr-20",
          "07-Apr-20",
          "08-Apr-20",
          "09-Apr-20",
          "10-Apr-20",
          "11-Apr-20",
          "12-Apr-20",
          "13-Apr-20",
          "14-Apr-20",
          "15-Apr-20",
          "16-Apr-20",
          "17-Apr-20",
          "18-Apr-20",
          "19-Apr-20",
          "20-Apr-20",
          "21-Apr-20",
          "22-Apr-20",
          "23-Apr-20",
          "24-Apr-20",
          "25-Apr-20",
          "26-Apr-20",
          "27-Apr-20",
          "28-Apr-20",
          "29-Apr-20",
          "30-Apr-20",
          "01-May-20",
          "02-May-20",
          "03-May-20",
          "04-May-20",
          "05-May-20",
          "06-May-20",
          "07-May-20",
          "08-May-20",
          "09-May-20",
          "10-May-20",
          "11-May-20",
          "12-May-20",
          "13-May-20",
          "14-May-20",
          "15-May-20",
          "16-May-20",
          "17-May-20",
          "18-May-20",
          "19-May-20",
          "20-May-20",
          "21-May-20",
          "22-May-20",
          "23-May-20",
          "24-May-20",
          "25-May-20",
          "26-May-20",
          "27-May-20",
          "28-May-20",
          "29-May-20",
          "30-May-20",
          "31-May-20",
          "01-Jun-20",
          "02-Jun-20",
          "03-Jun-20",
          "04-Jun-20",
          "05-Jun-20",
          "06-Jun-20",
          "07-Jun-20",
          "08-Jun-20",
          "09-Jun-20",
          "10-Jun-20",
          "11-Jun-20",
          "12-Jun-20",
          "13-Jun-20",
          "14-Jun-20",
          "15-Jun-20",
          "16-Jun-20",
          "17-Jun-20",
          "18-Jun-20",
          "19-Jun-20",
          "20-Jun-20",
          "21-Jun-20",
          "22-Jun-20",
          "23-Jun-20",
          "24-Jun-20",
          "25-Jun-20",
          "26-Jun-20",
          "27-Jun-20",
          "28-Jun-20",
          "29-Jun-20",
          "30-Jun-20",
          "01-Jul-20",
          "02-Jul-20",
          "03-Jul-20",
          "04-Jul-20",
          "05-Jul-20",
          "06-Jul-20",
          "07-Jul-20",
          "08-Jul-20",
          "09-Jul-20",
          "10-Jul-20",
          "11-Jul-20",
          "12-Jul-20",
          "13-Jul-20",
          "14-Jul-20",
          "15-Jul-20",
          "16-Jul-20",
          "17-Jul-20",
          "18-Jul-20",
          "19-Jul-20",
          "20-Jul-20",
          "21-Jul-20",
          "22-Jul-20",
          "23-Jul-20",
          "24-Jul-20",
          "25-Jul-20",
          "26-Jul-20",
          "27-Jul-20",
          "28-Jul-20",
          "29-Jul-20",
          "30-Jul-20",
          "31-Jul-20",
          "01-Aug-20",
          "02-Aug-20",
          "03-Aug-20",
          "04-Aug-20",
          "05-Aug-20",
          "06-Aug-20",
          "07-Aug-20",
          "08-Aug-20",
          "09-Aug-20",
          "10-Aug-20",
          "11-Aug-20",
          "12-Aug-20",
          "13-Aug-20",
          "14-Aug-20",
          "15-Aug-20",
          "16-Aug-20",
          "17-Aug-20",
          "18-Aug-20",
          "19-Aug-20",
          "20-Aug-20",
          "21-Aug-20",
          "22-Aug-20",
          "23-Aug-20",
          "24-Aug-20",
          "25-Aug-20",
          "26-Aug-20",
          "27-Aug-20",
          "28-Aug-20",
          "29-Aug-20",
          "30-Aug-20",
          "31-Aug-20",
          "01-Sep-20",
          "02-Sep-20",
          "03-Sep-20",
          "04-Sep-20",
          "05-Sep-20",
          "06-Sep-20",
          "07-Sep-20",
          "08-Sep-20",
          "09-Sep-20",
          "10-Sep-20",
          "11-Sep-20",
          "12-Sep-20",
          "13-Sep-20",
          "14-Sep-20",
          "15-Sep-20",
          "16-Sep-20",
          "17-Sep-20",
          "18-Sep-20",
          "19-Sep-20",
          "20-Sep-20",
          "21-Sep-20",
          "22-Sep-20",
          "23-Sep-20",
          "24-Sep-20",
          "25-Sep-20",
          "26-Sep-20",
          "27-Sep-20",
          "28-Sep-20",
          "29-Sep-20",
          "30-Sep-20",
          "01-Oct-20",
          "02-Oct-20",
          "03-Oct-20",
          "04-Oct-20",
          "05-Oct-20",
          "06-Oct-20",
          "07-Oct-20",
          "08-Oct-20",
          "09-Oct-20",
          "10-Oct-20",
          "11-Oct-20",
          "12-Oct-20",
          "13-Oct-20",
          "14-Oct-20",
          "15-Oct-20",
          "16-Oct-20",
          "17-Oct-20",
          "18-Oct-20",
          "19-Oct-20",
          "20-Oct-20",
          "21-Oct-20",
          "22-Oct-20",
          "23-Oct-20",
          "24-Oct-20",
          "25-Oct-20",
          "26-Oct-20",
          "27-Oct-20",
          "28-Oct-20",
          "29-Oct-20",
          "30-Oct-20",
          "31-Oct-20",
          "01-Nov-20",
          "02-Nov-20",
          "03-Nov-20",
          "04-Nov-20",
          "05-Nov-20",
          "06-Nov-20",
          "07-Nov-20",
          "08-Nov-20",
          "09-Nov-20",
          "10-Nov-20",
          "11-Nov-20",
          "12-Nov-20",
          "13-Nov-20",
          "14-Nov-20",
          "15-Nov-20",
          "16-Nov-20",
          "17-Nov-20",
          "18-Nov-20",
          "19-Nov-20",
          "20-Nov-20",
          "21-Nov-20",
          "22-Nov-20",
          "23-Nov-20",
          "24-Nov-20",
          "25-Nov-20",
          "26-Nov-20",
          "27-Nov-20",
          "28-Nov-20",
          "29-Nov-20",
          "30-Nov-20",
          "01-Dec-20",
          "02-Dec-20",
          "03-Dec-20",
          "04-Dec-20",
          "05-Dec-20",
          "06-Dec-20",
          "07-Dec-20",
          "08-Dec-20",
          "09-Dec-20",
          "10-Dec-20",
          "11-Dec-20",
          "12-Dec-20",
          "13-Dec-20",
          "14-Dec-20",
          "15-Dec-20",
          "16-Dec-20",
          "17-Dec-20",
          "18-Dec-20",
          "19-Dec-20",
          "20-Dec-20",
          "21-Dec-20",
          "22-Dec-20",
          "23-Dec-20",
          "24-Dec-20",
          "25-Dec-20",
          "26-Dec-20",
          "27-Dec-20",
          "28-Dec-20",
          "29-Dec-20",
          "30-Dec-20",
          "31-Dec-20",
          "01-Jan-21",
          "02-Jan-21",
          "03-Jan-21",
          "04-Jan-21",
          "05-Jan-21",
          "06-Jan-21",
          "07-Jan-21",
          "08-Jan-21",
          "09-Jan-21",
          "10-Jan-21",
          "11-Jan-21",
          "12-Jan-21",
          "13-Jan-21",
          "14-Jan-21",
          "15-Jan-21",
          "16-Jan-21",
          "17-Jan-21",
          "18-Jan-21",
          "19-Jan-21",
          "20-Jan-21",
          "21-Jan-21",
          "22-Jan-21",
          "23-Jan-21",
          "24-Jan-21",
          "25-Jan-21",
          "26-Jan-21",
          "27-Jan-21",
          "28-Jan-21",
          "29-Jan-21",
          "30-Jan-21",
          "31-Jan-21",
          "01-Feb-21",
          "02-Feb-21",
          "03-Feb-21",
          "04-Feb-21",
          "05-Feb-21",
          "06-Feb-21",
          "07-Feb-21",
          "08-Feb-21",
          "09-Feb-21",
          "10-Feb-21",
          "11-Feb-21",
          "12-Feb-21",
          "13-Feb-21",
          "14-Feb-21",
          "15-Feb-21",
          "16-Feb-21",
          "17-Feb-21",
          "18-Feb-21",
          "19-Feb-21",
          "20-Feb-21",
          "21-Feb-21",
          "22-Feb-21",
          "23-Feb-21",
          "24-Feb-21",
          "25-Feb-21",
          "26-Feb-21",
          "27-Feb-21",
          "28-Feb-21",
          "01-Mar-21",
          "02-Mar-21",
          "03-Mar-21",
          "04-Mar-21",
          "05-Mar-21",
          "06-Mar-21",
          "07-Mar-21",
          "08-Mar-21",
          "09-Mar-21",
          "10-Mar-21",
          "11-Mar-21",
          "12-Mar-21",
          "13-Mar-21",
          "14-Mar-21",
          "15-Mar-21",
          "16-Mar-21",
          "17-Mar-21",
          "18-Mar-21",
          "19-Mar-21",
          "20-Mar-21",
          "21-Mar-21",
          "22-Mar-21",
          "23-Mar-21",
          "24-Mar-21",
          "25-Mar-21",
          "26-Mar-21",
          "27-Mar-21",
          "28-Mar-21",
          "29-Mar-21",
          "30-Mar-21",
          "31-Mar-21",
          "01-Apr-21",
          "02-Apr-21",
          "03-Apr-21",
          "04-Apr-21",
          "05-Apr-21",
          "06-Apr-21",
          "07-Apr-21",
          "08-Apr-21",
          "09-Apr-21",
          "10-Apr-21",
          "11-Apr-21",
          "12-Apr-21",
          "13-Apr-21",
          "14-Apr-21",
          "15-Apr-21",
          "16-Apr-21"
         ],
         "y": [
          1,
          0,
          0,
          0,
          1,
          0,
          1,
          10,
          8,
          2,
          6,
          2,
          2,
          5,
          0,
          0,
          3,
          1,
          4,
          1,
          6,
          12,
          3,
          11,
          20,
          7,
          24,
          21,
          7,
          12,
          6,
          8,
          2,
          11,
          14,
          23,
          10,
          1,
          6,
          27,
          5,
          15,
          10,
          14,
          8,
          12,
          33,
          105,
          105,
          187,
          330,
          130,
          219,
          75,
          118,
          87,
          31,
          61,
          54,
          37,
          10,
          11,
          -3,
          14,
          18,
          16,
          22,
          3,
          23,
          1,
          16,
          15,
          21,
          25,
          33,
          19,
          39,
          36,
          30,
          38,
          41,
          34,
          39,
          46,
          54,
          93,
          55,
          56,
          86,
          82,
          99,
          77,
          77,
          127,
          104,
          126,
          118,
          217,
          120,
          122,
          161,
          162,
          230,
          142,
          188,
          99,
          160,
          202,
          150,
          100,
          116,
          153,
          172,
          174,
          208,
          258,
          158,
          233,
          217,
          230,
          234,
          357,
          333,
          288,
          295,
          348,
          350,
          308,
          410,
          379,
          412,
          438,
          477,
          468,
          534,
          551,
          609,
          568,
          510,
          663,
          944,
          790,
          674,
          488,
          841,
          1035,
          1039,
          998,
          975,
          986,
          1000,
          1020,
          1027,
          1077,
          1028,
          1165,
          1489,
          1705,
          1683,
          1741,
          1503,
          1316,
          1136,
          1505,
          1293,
          1513,
          1746,
          1542,
          1470,
          1678,
          1466,
          1516,
          1481,
          1526,
          1498,
          1514,
          1946,
          2110,
          1964,
          2137,
          2459,
          2473,
          2441,
          2622,
          2421,
          2382,
          2702,
          2848,
          2774,
          2723,
          2160,
          2241,
          1411,
          2123,
          1756,
          1876,
          1588,
          1422,
          1269,
          1085,
          1426,
          1265,
          1062,
          1106,
          838,
          1029,
          830,
          852,
          848,
          743,
          858,
          656,
          562,
          676,
          549,
          470,
          507,
          417,
          476,
          473,
          487,
          498,
          605,
          464,
          483,
          415,
          336,
          346,
          526,
          464,
          431,
          500,
          317,
          396,
          415,
          527,
          521,
          647,
          477,
          487,
          554,
          486,
          699,
          685,
          736,
          0,
          1053,
          424,
          515,
          798,
          782,
          818,
          672,
          679,
          711,
          608,
          770,
          843,
          808,
          719,
          733,
          553,
          618,
          599,
          756,
          724,
          636,
          802,
          613,
          492,
          597,
          628,
          543,
          480,
          621,
          459,
          394,
          330,
          448,
          439,
          435,
          337,
          336,
          287,
          480,
          360,
          316,
          305,
          279,
          263,
          210,
          361,
          283,
          248,
          242,
          207,
          222,
          211,
          258,
          277,
          299,
          248,
          299,
          192,
          254,
          258,
          213,
          241,
          175,
          239,
          124,
          208,
          199,
          180,
          206,
          211,
          197,
          159,
          129,
          188,
          200,
          254,
          224,
          192,
          194,
          204,
          187,
          196,
          199,
          183,
          207,
          192,
          185,
          229,
          306,
          246,
          260,
          234,
          222,
          247,
          341,
          268,
          383,
          352,
          348,
          388,
          414,
          558,
          563,
          622,
          593,
          579,
          633,
          729,
          772,
          1071,
          808,
          1159,
          1043,
          1229,
          1027,
          1393,
          1305,
          1408,
          1510,
          1492,
          1818,
          1463,
          2013,
          2369,
          2470,
          2578,
          2644,
          2299,
          2254,
          2613,
          2661,
          3122,
          2805,
          2870,
          2868,
          2188,
          2944,
          3161,
          2873,
          2686,
          3006,
          2692,
          2905,
          2963,
          3070,
          3404,
          3239,
          3039,
          3451,
          2980,
          3302,
          4311,
          3891
         ]
        },
        {
         "mode": "lines",
         "name": "Prediction",
         "type": "scatter",
         "x": [
          "17-Apr-21",
          "18-Apr-21",
          "19-Apr-21",
          "20-Apr-21",
          "21-Apr-21",
          "22-Apr-21",
          "23-Apr-21",
          "24-Apr-21",
          "25-Apr-21",
          "26-Apr-21",
          "27-Apr-21",
          "28-Apr-21",
          "29-Apr-21",
          "30-Apr-21",
          "01-May-21",
          "02-May-21",
          "03-May-21",
          "04-May-21",
          "05-May-21",
          "06-May-21",
          "07-May-21",
          "08-May-21",
          "09-May-21",
          "10-May-21",
          "11-May-21",
          "12-May-21",
          "13-May-21",
          "14-May-21",
          "15-May-21",
          "16-May-21",
          "17-May-21",
          "18-May-21",
          "19-May-21",
          "20-May-21",
          "21-May-21",
          "22-May-21",
          "23-May-21",
          "24-May-21",
          "25-May-21",
          "26-May-21",
          "27-May-21",
          "28-May-21",
          "29-May-21",
          "30-May-21",
          "31-May-21",
          "01-Jun-21",
          "02-Jun-21",
          "03-Jun-21",
          "04-Jun-21",
          "05-Jun-21",
          "06-Jun-21",
          "07-Jun-21",
          "08-Jun-21",
          "09-Jun-21",
          "10-Jun-21",
          "11-Jun-21",
          "12-Jun-21",
          "13-Jun-21",
          "14-Jun-21",
          "15-Jun-21"
         ],
         "y": [
          4219.7802734375,
          4666.33056640625,
          4401.6376953125,
          4434.01025390625,
          4716.79345703125,
          5190.00341796875,
          6406.82958984375,
          5392.80810546875,
          6646.76708984375,
          5976.46533203125,
          5633.69775390625,
          6574.40478515625,
          6403.02099609375,
          5773.66064453125,
          6681.99560546875,
          6932.40673828125,
          6448.72314453125,
          7155.2060546875,
          7573.19287109375,
          8418.6875,
          7900.72607421875,
          8610.06640625,
          8033.07275390625,
          8140.6640625,
          8183.50927734375,
          7875.970703125,
          8008.31689453125,
          7651.267578125,
          6447.77099609375,
          6618.20361328125,
          6552.50634765625,
          6728.65087890625,
          6001.22119140625,
          5208.09423828125,
          5002.43310546875,
          5044.3271484375,
          4781.53857421875,
          4267.38623046875,
          4529.22314453125,
          3813.219482421875,
          3670.399658203125,
          3529.48388671875,
          2891.5546875,
          2461.190673828125,
          2087.95458984375,
          2047.0128173828125,
          2108.901611328125,
          2042.252197265625,
          1909.9056396484375,
          1788.9847412109375,
          1489.0628662109375,
          1209.1357421875,
          1192.9493408203125,
          1327.2001953125,
          1249.1253662109375,
          1144.3907470703125,
          915.8781127929688,
          911.1173706054688,
          593.0618286132812
         ]
        },
        {
         "mode": "lines",
         "name": "Testing Data",
         "type": "scatter",
         "x": [
          "17-Apr-21",
          "18-Apr-21",
          "19-Apr-21",
          "20-Apr-21",
          "21-Apr-21",
          "22-Apr-21",
          "23-Apr-21",
          "24-Apr-21",
          "25-Apr-21",
          "26-Apr-21",
          "27-Apr-21",
          "28-Apr-21",
          "29-Apr-21",
          "30-Apr-21",
          "01-May-21",
          "02-May-21",
          "03-May-21",
          "04-May-21",
          "05-May-21",
          "06-May-21",
          "07-May-21",
          "08-May-21",
          "09-May-21",
          "10-May-21",
          "11-May-21",
          "12-May-21",
          "13-May-21",
          "14-May-21",
          "15-May-21",
          "16-May-21",
          "17-May-21",
          "18-May-21",
          "19-May-21",
          "20-May-21",
          "21-May-21",
          "22-May-21",
          "23-May-21",
          "24-May-21",
          "25-May-21",
          "26-May-21",
          "27-May-21",
          "28-May-21",
          "29-May-21",
          "30-May-21",
          "31-May-21",
          "01-Jun-21",
          "02-Jun-21",
          "03-Jun-21",
          "04-Jun-21",
          "05-Jun-21",
          "06-Jun-21",
          "07-Jun-21",
          "08-Jun-21",
          "09-Jun-21",
          "10-Jun-21",
          "11-Jun-21",
          "12-Jun-21",
          "13-Jun-21",
          "14-Jun-21",
          "15-Jun-21"
         ],
         "y": [
          4431,
          4900,
          4622,
          4656,
          4953,
          5450,
          6728,
          5663,
          6980,
          6276,
          5916,
          6904,
          6724,
          6063,
          7017,
          7280,
          6772,
          7514,
          7953,
          8841,
          8297,
          9042,
          8436,
          8549,
          8594,
          8271,
          8410,
          8035,
          6771,
          6950,
          6881,
          7066,
          6302,
          5469,
          5253,
          5297,
          5021,
          4481,
          4756,
          4004,
          3854,
          3706,
          3036,
          2584,
          2192,
          2149,
          2214,
          2144,
          2005,
          1878,
          1563,
          1269,
          1252,
          1393,
          1311,
          1201,
          961,
          956,
          622
         ]
        }
       ],
       "layout": {
        "template": {
         "data": {
          "bar": [
           {
            "error_x": {
             "color": "#2a3f5f"
            },
            "error_y": {
             "color": "#2a3f5f"
            },
            "marker": {
             "line": {
              "color": "#E5ECF6",
              "width": 0.5
             }
            },
            "type": "bar"
           }
          ],
          "barpolar": [
           {
            "marker": {
             "line": {
              "color": "#E5ECF6",
              "width": 0.5
             }
            },
            "type": "barpolar"
           }
          ],
          "carpet": [
           {
            "aaxis": {
             "endlinecolor": "#2a3f5f",
             "gridcolor": "white",
             "linecolor": "white",
             "minorgridcolor": "white",
             "startlinecolor": "#2a3f5f"
            },
            "baxis": {
             "endlinecolor": "#2a3f5f",
             "gridcolor": "white",
             "linecolor": "white",
             "minorgridcolor": "white",
             "startlinecolor": "#2a3f5f"
            },
            "type": "carpet"
           }
          ],
          "choropleth": [
           {
            "colorbar": {
             "outlinewidth": 0,
             "ticks": ""
            },
            "type": "choropleth"
           }
          ],
          "contour": [
           {
            "colorbar": {
             "outlinewidth": 0,
             "ticks": ""
            },
            "colorscale": [
             [
              0,
              "#0d0887"
             ],
             [
              0.1111111111111111,
              "#46039f"
             ],
             [
              0.2222222222222222,
              "#7201a8"
             ],
             [
              0.3333333333333333,
              "#9c179e"
             ],
             [
              0.4444444444444444,
              "#bd3786"
             ],
             [
              0.5555555555555556,
              "#d8576b"
             ],
             [
              0.6666666666666666,
              "#ed7953"
             ],
             [
              0.7777777777777778,
              "#fb9f3a"
             ],
             [
              0.8888888888888888,
              "#fdca26"
             ],
             [
              1,
              "#f0f921"
             ]
            ],
            "type": "contour"
           }
          ],
          "contourcarpet": [
           {
            "colorbar": {
             "outlinewidth": 0,
             "ticks": ""
            },
            "type": "contourcarpet"
           }
          ],
          "heatmap": [
           {
            "colorbar": {
             "outlinewidth": 0,
             "ticks": ""
            },
            "colorscale": [
             [
              0,
              "#0d0887"
             ],
             [
              0.1111111111111111,
              "#46039f"
             ],
             [
              0.2222222222222222,
              "#7201a8"
             ],
             [
              0.3333333333333333,
              "#9c179e"
             ],
             [
              0.4444444444444444,
              "#bd3786"
             ],
             [
              0.5555555555555556,
              "#d8576b"
             ],
             [
              0.6666666666666666,
              "#ed7953"
             ],
             [
              0.7777777777777778,
              "#fb9f3a"
             ],
             [
              0.8888888888888888,
              "#fdca26"
             ],
             [
              1,
              "#f0f921"
             ]
            ],
            "type": "heatmap"
           }
          ],
          "heatmapgl": [
           {
            "colorbar": {
             "outlinewidth": 0,
             "ticks": ""
            },
            "colorscale": [
             [
              0,
              "#0d0887"
             ],
             [
              0.1111111111111111,
              "#46039f"
             ],
             [
              0.2222222222222222,
              "#7201a8"
             ],
             [
              0.3333333333333333,
              "#9c179e"
             ],
             [
              0.4444444444444444,
              "#bd3786"
             ],
             [
              0.5555555555555556,
              "#d8576b"
             ],
             [
              0.6666666666666666,
              "#ed7953"
             ],
             [
              0.7777777777777778,
              "#fb9f3a"
             ],
             [
              0.8888888888888888,
              "#fdca26"
             ],
             [
              1,
              "#f0f921"
             ]
            ],
            "type": "heatmapgl"
           }
          ],
          "histogram": [
           {
            "marker": {
             "colorbar": {
              "outlinewidth": 0,
              "ticks": ""
             }
            },
            "type": "histogram"
           }
          ],
          "histogram2d": [
           {
            "colorbar": {
             "outlinewidth": 0,
             "ticks": ""
            },
            "colorscale": [
             [
              0,
              "#0d0887"
             ],
             [
              0.1111111111111111,
              "#46039f"
             ],
             [
              0.2222222222222222,
              "#7201a8"
             ],
             [
              0.3333333333333333,
              "#9c179e"
             ],
             [
              0.4444444444444444,
              "#bd3786"
             ],
             [
              0.5555555555555556,
              "#d8576b"
             ],
             [
              0.6666666666666666,
              "#ed7953"
             ],
             [
              0.7777777777777778,
              "#fb9f3a"
             ],
             [
              0.8888888888888888,
              "#fdca26"
             ],
             [
              1,
              "#f0f921"
             ]
            ],
            "type": "histogram2d"
           }
          ],
          "histogram2dcontour": [
           {
            "colorbar": {
             "outlinewidth": 0,
             "ticks": ""
            },
            "colorscale": [
             [
              0,
              "#0d0887"
             ],
             [
              0.1111111111111111,
              "#46039f"
             ],
             [
              0.2222222222222222,
              "#7201a8"
             ],
             [
              0.3333333333333333,
              "#9c179e"
             ],
             [
              0.4444444444444444,
              "#bd3786"
             ],
             [
              0.5555555555555556,
              "#d8576b"
             ],
             [
              0.6666666666666666,
              "#ed7953"
             ],
             [
              0.7777777777777778,
              "#fb9f3a"
             ],
             [
              0.8888888888888888,
              "#fdca26"
             ],
             [
              1,
              "#f0f921"
             ]
            ],
            "type": "histogram2dcontour"
           }
          ],
          "mesh3d": [
           {
            "colorbar": {
             "outlinewidth": 0,
             "ticks": ""
            },
            "type": "mesh3d"
           }
          ],
          "parcoords": [
           {
            "line": {
             "colorbar": {
              "outlinewidth": 0,
              "ticks": ""
             }
            },
            "type": "parcoords"
           }
          ],
          "pie": [
           {
            "automargin": true,
            "type": "pie"
           }
          ],
          "scatter": [
           {
            "marker": {
             "colorbar": {
              "outlinewidth": 0,
              "ticks": ""
             }
            },
            "type": "scatter"
           }
          ],
          "scatter3d": [
           {
            "line": {
             "colorbar": {
              "outlinewidth": 0,
              "ticks": ""
             }
            },
            "marker": {
             "colorbar": {
              "outlinewidth": 0,
              "ticks": ""
             }
            },
            "type": "scatter3d"
           }
          ],
          "scattercarpet": [
           {
            "marker": {
             "colorbar": {
              "outlinewidth": 0,
              "ticks": ""
             }
            },
            "type": "scattercarpet"
           }
          ],
          "scattergeo": [
           {
            "marker": {
             "colorbar": {
              "outlinewidth": 0,
              "ticks": ""
             }
            },
            "type": "scattergeo"
           }
          ],
          "scattergl": [
           {
            "marker": {
             "colorbar": {
              "outlinewidth": 0,
              "ticks": ""
             }
            },
            "type": "scattergl"
           }
          ],
          "scattermapbox": [
           {
            "marker": {
             "colorbar": {
              "outlinewidth": 0,
              "ticks": ""
             }
            },
            "type": "scattermapbox"
           }
          ],
          "scatterpolar": [
           {
            "marker": {
             "colorbar": {
              "outlinewidth": 0,
              "ticks": ""
             }
            },
            "type": "scatterpolar"
           }
          ],
          "scatterpolargl": [
           {
            "marker": {
             "colorbar": {
              "outlinewidth": 0,
              "ticks": ""
             }
            },
            "type": "scatterpolargl"
           }
          ],
          "scatterternary": [
           {
            "marker": {
             "colorbar": {
              "outlinewidth": 0,
              "ticks": ""
             }
            },
            "type": "scatterternary"
           }
          ],
          "surface": [
           {
            "colorbar": {
             "outlinewidth": 0,
             "ticks": ""
            },
            "colorscale": [
             [
              0,
              "#0d0887"
             ],
             [
              0.1111111111111111,
              "#46039f"
             ],
             [
              0.2222222222222222,
              "#7201a8"
             ],
             [
              0.3333333333333333,
              "#9c179e"
             ],
             [
              0.4444444444444444,
              "#bd3786"
             ],
             [
              0.5555555555555556,
              "#d8576b"
             ],
             [
              0.6666666666666666,
              "#ed7953"
             ],
             [
              0.7777777777777778,
              "#fb9f3a"
             ],
             [
              0.8888888888888888,
              "#fdca26"
             ],
             [
              1,
              "#f0f921"
             ]
            ],
            "type": "surface"
           }
          ],
          "table": [
           {
            "cells": {
             "fill": {
              "color": "#EBF0F8"
             },
             "line": {
              "color": "white"
             }
            },
            "header": {
             "fill": {
              "color": "#C8D4E3"
             },
             "line": {
              "color": "white"
             }
            },
            "type": "table"
           }
          ]
         },
         "layout": {
          "annotationdefaults": {
           "arrowcolor": "#2a3f5f",
           "arrowhead": 0,
           "arrowwidth": 1
          },
          "coloraxis": {
           "colorbar": {
            "outlinewidth": 0,
            "ticks": ""
           }
          },
          "colorscale": {
           "diverging": [
            [
             0,
             "#8e0152"
            ],
            [
             0.1,
             "#c51b7d"
            ],
            [
             0.2,
             "#de77ae"
            ],
            [
             0.3,
             "#f1b6da"
            ],
            [
             0.4,
             "#fde0ef"
            ],
            [
             0.5,
             "#f7f7f7"
            ],
            [
             0.6,
             "#e6f5d0"
            ],
            [
             0.7,
             "#b8e186"
            ],
            [
             0.8,
             "#7fbc41"
            ],
            [
             0.9,
             "#4d9221"
            ],
            [
             1,
             "#276419"
            ]
           ],
           "sequential": [
            [
             0,
             "#0d0887"
            ],
            [
             0.1111111111111111,
             "#46039f"
            ],
            [
             0.2222222222222222,
             "#7201a8"
            ],
            [
             0.3333333333333333,
             "#9c179e"
            ],
            [
             0.4444444444444444,
             "#bd3786"
            ],
            [
             0.5555555555555556,
             "#d8576b"
            ],
            [
             0.6666666666666666,
             "#ed7953"
            ],
            [
             0.7777777777777778,
             "#fb9f3a"
            ],
            [
             0.8888888888888888,
             "#fdca26"
            ],
            [
             1,
             "#f0f921"
            ]
           ],
           "sequentialminus": [
            [
             0,
             "#0d0887"
            ],
            [
             0.1111111111111111,
             "#46039f"
            ],
            [
             0.2222222222222222,
             "#7201a8"
            ],
            [
             0.3333333333333333,
             "#9c179e"
            ],
            [
             0.4444444444444444,
             "#bd3786"
            ],
            [
             0.5555555555555556,
             "#d8576b"
            ],
            [
             0.6666666666666666,
             "#ed7953"
            ],
            [
             0.7777777777777778,
             "#fb9f3a"
            ],
            [
             0.8888888888888888,
             "#fdca26"
            ],
            [
             1,
             "#f0f921"
            ]
           ]
          },
          "colorway": [
           "#636efa",
           "#EF553B",
           "#00cc96",
           "#ab63fa",
           "#FFA15A",
           "#19d3f3",
           "#FF6692",
           "#B6E880",
           "#FF97FF",
           "#FECB52"
          ],
          "font": {
           "color": "#2a3f5f"
          },
          "geo": {
           "bgcolor": "white",
           "lakecolor": "white",
           "landcolor": "#E5ECF6",
           "showlakes": true,
           "showland": true,
           "subunitcolor": "white"
          },
          "hoverlabel": {
           "align": "left"
          },
          "hovermode": "closest",
          "mapbox": {
           "style": "light"
          },
          "paper_bgcolor": "white",
          "plot_bgcolor": "#E5ECF6",
          "polar": {
           "angularaxis": {
            "gridcolor": "white",
            "linecolor": "white",
            "ticks": ""
           },
           "bgcolor": "#E5ECF6",
           "radialaxis": {
            "gridcolor": "white",
            "linecolor": "white",
            "ticks": ""
           }
          },
          "scene": {
           "xaxis": {
            "backgroundcolor": "#E5ECF6",
            "gridcolor": "white",
            "gridwidth": 2,
            "linecolor": "white",
            "showbackground": true,
            "ticks": "",
            "zerolinecolor": "white"
           },
           "yaxis": {
            "backgroundcolor": "#E5ECF6",
            "gridcolor": "white",
            "gridwidth": 2,
            "linecolor": "white",
            "showbackground": true,
            "ticks": "",
            "zerolinecolor": "white"
           },
           "zaxis": {
            "backgroundcolor": "#E5ECF6",
            "gridcolor": "white",
            "gridwidth": 2,
            "linecolor": "white",
            "showbackground": true,
            "ticks": "",
            "zerolinecolor": "white"
           }
          },
          "shapedefaults": {
           "line": {
            "color": "#2a3f5f"
           }
          },
          "ternary": {
           "aaxis": {
            "gridcolor": "white",
            "linecolor": "white",
            "ticks": ""
           },
           "baxis": {
            "gridcolor": "white",
            "linecolor": "white",
            "ticks": ""
           },
           "bgcolor": "#E5ECF6",
           "caxis": {
            "gridcolor": "white",
            "linecolor": "white",
            "ticks": ""
           }
          },
          "title": {
           "x": 0.05
          },
          "xaxis": {
           "automargin": true,
           "gridcolor": "white",
           "linecolor": "white",
           "ticks": "",
           "title": {
            "standoff": 15
           },
           "zerolinecolor": "white",
           "zerolinewidth": 2
          },
          "yaxis": {
           "automargin": true,
           "gridcolor": "white",
           "linecolor": "white",
           "ticks": "",
           "title": {
            "standoff": 15
           },
           "zerolinecolor": "white",
           "zerolinewidth": 2
          }
         }
        },
        "title": {
         "text": "Daily Confirmed Covid cases Prediction PUNJAB"
        },
        "xaxis": {
         "title": {
          "text": "Date"
         }
        },
        "yaxis": {
         "title": {
          "text": "Close"
         }
        }
       }
      },
      "text/html": [
       "<div>                            <div id=\"02729a2f-50f1-4feb-8d93-fb7707a0806e\" class=\"plotly-graph-div\" style=\"height:525px; width:100%;\"></div>            <script type=\"text/javascript\">                require([\"plotly\"], function(Plotly) {                    window.PLOTLYENV=window.PLOTLYENV || {};                                    if (document.getElementById(\"02729a2f-50f1-4feb-8d93-fb7707a0806e\")) {                    Plotly.newPlot(                        \"02729a2f-50f1-4feb-8d93-fb7707a0806e\",                        [{\"mode\": \"lines\", \"name\": \"Training Data\", \"type\": \"scatter\", \"x\": [\"14-Mar-20\", \"15-Mar-20\", \"16-Mar-20\", \"17-Mar-20\", \"18-Mar-20\", \"19-Mar-20\", \"20-Mar-20\", \"21-Mar-20\", \"22-Mar-20\", \"23-Mar-20\", \"24-Mar-20\", \"25-Mar-20\", \"26-Mar-20\", \"27-Mar-20\", \"28-Mar-20\", \"29-Mar-20\", \"30-Mar-20\", \"31-Mar-20\", \"01-Apr-20\", \"02-Apr-20\", \"03-Apr-20\", \"04-Apr-20\", \"05-Apr-20\", \"06-Apr-20\", \"07-Apr-20\", \"08-Apr-20\", \"09-Apr-20\", \"10-Apr-20\", \"11-Apr-20\", \"12-Apr-20\", \"13-Apr-20\", \"14-Apr-20\", \"15-Apr-20\", \"16-Apr-20\", \"17-Apr-20\", \"18-Apr-20\", \"19-Apr-20\", \"20-Apr-20\", \"21-Apr-20\", \"22-Apr-20\", \"23-Apr-20\", \"24-Apr-20\", \"25-Apr-20\", \"26-Apr-20\", \"27-Apr-20\", \"28-Apr-20\", \"29-Apr-20\", \"30-Apr-20\", \"01-May-20\", \"02-May-20\", \"03-May-20\", \"04-May-20\", \"05-May-20\", \"06-May-20\", \"07-May-20\", \"08-May-20\", \"09-May-20\", \"10-May-20\", \"11-May-20\", \"12-May-20\", \"13-May-20\", \"14-May-20\", \"15-May-20\", \"16-May-20\", \"17-May-20\", \"18-May-20\", \"19-May-20\", \"20-May-20\", \"21-May-20\", \"22-May-20\", \"23-May-20\", \"24-May-20\", \"25-May-20\", \"26-May-20\", \"27-May-20\", \"28-May-20\", \"29-May-20\", \"30-May-20\", \"31-May-20\", \"01-Jun-20\", \"02-Jun-20\", \"03-Jun-20\", \"04-Jun-20\", \"05-Jun-20\", \"06-Jun-20\", \"07-Jun-20\", \"08-Jun-20\", \"09-Jun-20\", \"10-Jun-20\", \"11-Jun-20\", \"12-Jun-20\", \"13-Jun-20\", \"14-Jun-20\", \"15-Jun-20\", \"16-Jun-20\", \"17-Jun-20\", \"18-Jun-20\", \"19-Jun-20\", \"20-Jun-20\", \"21-Jun-20\", \"22-Jun-20\", \"23-Jun-20\", \"24-Jun-20\", \"25-Jun-20\", \"26-Jun-20\", \"27-Jun-20\", \"28-Jun-20\", \"29-Jun-20\", \"30-Jun-20\", \"01-Jul-20\", \"02-Jul-20\", \"03-Jul-20\", \"04-Jul-20\", \"05-Jul-20\", \"06-Jul-20\", \"07-Jul-20\", \"08-Jul-20\", \"09-Jul-20\", \"10-Jul-20\", \"11-Jul-20\", \"12-Jul-20\", \"13-Jul-20\", \"14-Jul-20\", \"15-Jul-20\", \"16-Jul-20\", \"17-Jul-20\", \"18-Jul-20\", \"19-Jul-20\", \"20-Jul-20\", \"21-Jul-20\", \"22-Jul-20\", \"23-Jul-20\", \"24-Jul-20\", \"25-Jul-20\", \"26-Jul-20\", \"27-Jul-20\", \"28-Jul-20\", \"29-Jul-20\", \"30-Jul-20\", \"31-Jul-20\", \"01-Aug-20\", \"02-Aug-20\", \"03-Aug-20\", \"04-Aug-20\", \"05-Aug-20\", \"06-Aug-20\", \"07-Aug-20\", \"08-Aug-20\", \"09-Aug-20\", \"10-Aug-20\", \"11-Aug-20\", \"12-Aug-20\", \"13-Aug-20\", \"14-Aug-20\", \"15-Aug-20\", \"16-Aug-20\", \"17-Aug-20\", \"18-Aug-20\", \"19-Aug-20\", \"20-Aug-20\", \"21-Aug-20\", \"22-Aug-20\", \"23-Aug-20\", \"24-Aug-20\", \"25-Aug-20\", \"26-Aug-20\", \"27-Aug-20\", \"28-Aug-20\", \"29-Aug-20\", \"30-Aug-20\", \"31-Aug-20\", \"01-Sep-20\", \"02-Sep-20\", \"03-Sep-20\", \"04-Sep-20\", \"05-Sep-20\", \"06-Sep-20\", \"07-Sep-20\", \"08-Sep-20\", \"09-Sep-20\", \"10-Sep-20\", \"11-Sep-20\", \"12-Sep-20\", \"13-Sep-20\", \"14-Sep-20\", \"15-Sep-20\", \"16-Sep-20\", \"17-Sep-20\", \"18-Sep-20\", \"19-Sep-20\", \"20-Sep-20\", \"21-Sep-20\", \"22-Sep-20\", \"23-Sep-20\", \"24-Sep-20\", \"25-Sep-20\", \"26-Sep-20\", \"27-Sep-20\", \"28-Sep-20\", \"29-Sep-20\", \"30-Sep-20\", \"01-Oct-20\", \"02-Oct-20\", \"03-Oct-20\", \"04-Oct-20\", \"05-Oct-20\", \"06-Oct-20\", \"07-Oct-20\", \"08-Oct-20\", \"09-Oct-20\", \"10-Oct-20\", \"11-Oct-20\", \"12-Oct-20\", \"13-Oct-20\", \"14-Oct-20\", \"15-Oct-20\", \"16-Oct-20\", \"17-Oct-20\", \"18-Oct-20\", \"19-Oct-20\", \"20-Oct-20\", \"21-Oct-20\", \"22-Oct-20\", \"23-Oct-20\", \"24-Oct-20\", \"25-Oct-20\", \"26-Oct-20\", \"27-Oct-20\", \"28-Oct-20\", \"29-Oct-20\", \"30-Oct-20\", \"31-Oct-20\", \"01-Nov-20\", \"02-Nov-20\", \"03-Nov-20\", \"04-Nov-20\", \"05-Nov-20\", \"06-Nov-20\", \"07-Nov-20\", \"08-Nov-20\", \"09-Nov-20\", \"10-Nov-20\", \"11-Nov-20\", \"12-Nov-20\", \"13-Nov-20\", \"14-Nov-20\", \"15-Nov-20\", \"16-Nov-20\", \"17-Nov-20\", \"18-Nov-20\", \"19-Nov-20\", \"20-Nov-20\", \"21-Nov-20\", \"22-Nov-20\", \"23-Nov-20\", \"24-Nov-20\", \"25-Nov-20\", \"26-Nov-20\", \"27-Nov-20\", \"28-Nov-20\", \"29-Nov-20\", \"30-Nov-20\", \"01-Dec-20\", \"02-Dec-20\", \"03-Dec-20\", \"04-Dec-20\", \"05-Dec-20\", \"06-Dec-20\", \"07-Dec-20\", \"08-Dec-20\", \"09-Dec-20\", \"10-Dec-20\", \"11-Dec-20\", \"12-Dec-20\", \"13-Dec-20\", \"14-Dec-20\", \"15-Dec-20\", \"16-Dec-20\", \"17-Dec-20\", \"18-Dec-20\", \"19-Dec-20\", \"20-Dec-20\", \"21-Dec-20\", \"22-Dec-20\", \"23-Dec-20\", \"24-Dec-20\", \"25-Dec-20\", \"26-Dec-20\", \"27-Dec-20\", \"28-Dec-20\", \"29-Dec-20\", \"30-Dec-20\", \"31-Dec-20\", \"01-Jan-21\", \"02-Jan-21\", \"03-Jan-21\", \"04-Jan-21\", \"05-Jan-21\", \"06-Jan-21\", \"07-Jan-21\", \"08-Jan-21\", \"09-Jan-21\", \"10-Jan-21\", \"11-Jan-21\", \"12-Jan-21\", \"13-Jan-21\", \"14-Jan-21\", \"15-Jan-21\", \"16-Jan-21\", \"17-Jan-21\", \"18-Jan-21\", \"19-Jan-21\", \"20-Jan-21\", \"21-Jan-21\", \"22-Jan-21\", \"23-Jan-21\", \"24-Jan-21\", \"25-Jan-21\", \"26-Jan-21\", \"27-Jan-21\", \"28-Jan-21\", \"29-Jan-21\", \"30-Jan-21\", \"31-Jan-21\", \"01-Feb-21\", \"02-Feb-21\", \"03-Feb-21\", \"04-Feb-21\", \"05-Feb-21\", \"06-Feb-21\", \"07-Feb-21\", \"08-Feb-21\", \"09-Feb-21\", \"10-Feb-21\", \"11-Feb-21\", \"12-Feb-21\", \"13-Feb-21\", \"14-Feb-21\", \"15-Feb-21\", \"16-Feb-21\", \"17-Feb-21\", \"18-Feb-21\", \"19-Feb-21\", \"20-Feb-21\", \"21-Feb-21\", \"22-Feb-21\", \"23-Feb-21\", \"24-Feb-21\", \"25-Feb-21\", \"26-Feb-21\", \"27-Feb-21\", \"28-Feb-21\", \"01-Mar-21\", \"02-Mar-21\", \"03-Mar-21\", \"04-Mar-21\", \"05-Mar-21\", \"06-Mar-21\", \"07-Mar-21\", \"08-Mar-21\", \"09-Mar-21\", \"10-Mar-21\", \"11-Mar-21\", \"12-Mar-21\", \"13-Mar-21\", \"14-Mar-21\", \"15-Mar-21\", \"16-Mar-21\", \"17-Mar-21\", \"18-Mar-21\", \"19-Mar-21\", \"20-Mar-21\", \"21-Mar-21\", \"22-Mar-21\", \"23-Mar-21\", \"24-Mar-21\", \"25-Mar-21\", \"26-Mar-21\", \"27-Mar-21\", \"28-Mar-21\", \"29-Mar-21\", \"30-Mar-21\", \"31-Mar-21\", \"01-Apr-21\", \"02-Apr-21\", \"03-Apr-21\", \"04-Apr-21\", \"05-Apr-21\", \"06-Apr-21\", \"07-Apr-21\", \"08-Apr-21\", \"09-Apr-21\", \"10-Apr-21\", \"11-Apr-21\", \"12-Apr-21\", \"13-Apr-21\", \"14-Apr-21\", \"15-Apr-21\", \"16-Apr-21\"], \"y\": [1, 0, 0, 0, 1, 0, 1, 10, 8, 2, 6, 2, 2, 5, 0, 0, 3, 1, 4, 1, 6, 12, 3, 11, 20, 7, 24, 21, 7, 12, 6, 8, 2, 11, 14, 23, 10, 1, 6, 27, 5, 15, 10, 14, 8, 12, 33, 105, 105, 187, 330, 130, 219, 75, 118, 87, 31, 61, 54, 37, 10, 11, -3, 14, 18, 16, 22, 3, 23, 1, 16, 15, 21, 25, 33, 19, 39, 36, 30, 38, 41, 34, 39, 46, 54, 93, 55, 56, 86, 82, 99, 77, 77, 127, 104, 126, 118, 217, 120, 122, 161, 162, 230, 142, 188, 99, 160, 202, 150, 100, 116, 153, 172, 174, 208, 258, 158, 233, 217, 230, 234, 357, 333, 288, 295, 348, 350, 308, 410, 379, 412, 438, 477, 468, 534, 551, 609, 568, 510, 663, 944, 790, 674, 488, 841, 1035, 1039, 998, 975, 986, 1000, 1020, 1027, 1077, 1028, 1165, 1489, 1705, 1683, 1741, 1503, 1316, 1136, 1505, 1293, 1513, 1746, 1542, 1470, 1678, 1466, 1516, 1481, 1526, 1498, 1514, 1946, 2110, 1964, 2137, 2459, 2473, 2441, 2622, 2421, 2382, 2702, 2848, 2774, 2723, 2160, 2241, 1411, 2123, 1756, 1876, 1588, 1422, 1269, 1085, 1426, 1265, 1062, 1106, 838, 1029, 830, 852, 848, 743, 858, 656, 562, 676, 549, 470, 507, 417, 476, 473, 487, 498, 605, 464, 483, 415, 336, 346, 526, 464, 431, 500, 317, 396, 415, 527, 521, 647, 477, 487, 554, 486, 699, 685, 736, 0, 1053, 424, 515, 798, 782, 818, 672, 679, 711, 608, 770, 843, 808, 719, 733, 553, 618, 599, 756, 724, 636, 802, 613, 492, 597, 628, 543, 480, 621, 459, 394, 330, 448, 439, 435, 337, 336, 287, 480, 360, 316, 305, 279, 263, 210, 361, 283, 248, 242, 207, 222, 211, 258, 277, 299, 248, 299, 192, 254, 258, 213, 241, 175, 239, 124, 208, 199, 180, 206, 211, 197, 159, 129, 188, 200, 254, 224, 192, 194, 204, 187, 196, 199, 183, 207, 192, 185, 229, 306, 246, 260, 234, 222, 247, 341, 268, 383, 352, 348, 388, 414, 558, 563, 622, 593, 579, 633, 729, 772, 1071, 808, 1159, 1043, 1229, 1027, 1393, 1305, 1408, 1510, 1492, 1818, 1463, 2013, 2369, 2470, 2578, 2644, 2299, 2254, 2613, 2661, 3122, 2805, 2870, 2868, 2188, 2944, 3161, 2873, 2686, 3006, 2692, 2905, 2963, 3070, 3404, 3239, 3039, 3451, 2980, 3302, 4311, 3891]}, {\"mode\": \"lines\", \"name\": \"Prediction\", \"type\": \"scatter\", \"x\": [\"17-Apr-21\", \"18-Apr-21\", \"19-Apr-21\", \"20-Apr-21\", \"21-Apr-21\", \"22-Apr-21\", \"23-Apr-21\", \"24-Apr-21\", \"25-Apr-21\", \"26-Apr-21\", \"27-Apr-21\", \"28-Apr-21\", \"29-Apr-21\", \"30-Apr-21\", \"01-May-21\", \"02-May-21\", \"03-May-21\", \"04-May-21\", \"05-May-21\", \"06-May-21\", \"07-May-21\", \"08-May-21\", \"09-May-21\", \"10-May-21\", \"11-May-21\", \"12-May-21\", \"13-May-21\", \"14-May-21\", \"15-May-21\", \"16-May-21\", \"17-May-21\", \"18-May-21\", \"19-May-21\", \"20-May-21\", \"21-May-21\", \"22-May-21\", \"23-May-21\", \"24-May-21\", \"25-May-21\", \"26-May-21\", \"27-May-21\", \"28-May-21\", \"29-May-21\", \"30-May-21\", \"31-May-21\", \"01-Jun-21\", \"02-Jun-21\", \"03-Jun-21\", \"04-Jun-21\", \"05-Jun-21\", \"06-Jun-21\", \"07-Jun-21\", \"08-Jun-21\", \"09-Jun-21\", \"10-Jun-21\", \"11-Jun-21\", \"12-Jun-21\", \"13-Jun-21\", \"14-Jun-21\", \"15-Jun-21\"], \"y\": [4219.7802734375, 4666.33056640625, 4401.6376953125, 4434.01025390625, 4716.79345703125, 5190.00341796875, 6406.82958984375, 5392.80810546875, 6646.76708984375, 5976.46533203125, 5633.69775390625, 6574.40478515625, 6403.02099609375, 5773.66064453125, 6681.99560546875, 6932.40673828125, 6448.72314453125, 7155.2060546875, 7573.19287109375, 8418.6875, 7900.72607421875, 8610.06640625, 8033.07275390625, 8140.6640625, 8183.50927734375, 7875.970703125, 8008.31689453125, 7651.267578125, 6447.77099609375, 6618.20361328125, 6552.50634765625, 6728.65087890625, 6001.22119140625, 5208.09423828125, 5002.43310546875, 5044.3271484375, 4781.53857421875, 4267.38623046875, 4529.22314453125, 3813.219482421875, 3670.399658203125, 3529.48388671875, 2891.5546875, 2461.190673828125, 2087.95458984375, 2047.0128173828125, 2108.901611328125, 2042.252197265625, 1909.9056396484375, 1788.9847412109375, 1489.0628662109375, 1209.1357421875, 1192.9493408203125, 1327.2001953125, 1249.1253662109375, 1144.3907470703125, 915.8781127929688, 911.1173706054688, 593.0618286132812]}, {\"mode\": \"lines\", \"name\": \"Testing Data\", \"type\": \"scatter\", \"x\": [\"17-Apr-21\", \"18-Apr-21\", \"19-Apr-21\", \"20-Apr-21\", \"21-Apr-21\", \"22-Apr-21\", \"23-Apr-21\", \"24-Apr-21\", \"25-Apr-21\", \"26-Apr-21\", \"27-Apr-21\", \"28-Apr-21\", \"29-Apr-21\", \"30-Apr-21\", \"01-May-21\", \"02-May-21\", \"03-May-21\", \"04-May-21\", \"05-May-21\", \"06-May-21\", \"07-May-21\", \"08-May-21\", \"09-May-21\", \"10-May-21\", \"11-May-21\", \"12-May-21\", \"13-May-21\", \"14-May-21\", \"15-May-21\", \"16-May-21\", \"17-May-21\", \"18-May-21\", \"19-May-21\", \"20-May-21\", \"21-May-21\", \"22-May-21\", \"23-May-21\", \"24-May-21\", \"25-May-21\", \"26-May-21\", \"27-May-21\", \"28-May-21\", \"29-May-21\", \"30-May-21\", \"31-May-21\", \"01-Jun-21\", \"02-Jun-21\", \"03-Jun-21\", \"04-Jun-21\", \"05-Jun-21\", \"06-Jun-21\", \"07-Jun-21\", \"08-Jun-21\", \"09-Jun-21\", \"10-Jun-21\", \"11-Jun-21\", \"12-Jun-21\", \"13-Jun-21\", \"14-Jun-21\", \"15-Jun-21\"], \"y\": [4431, 4900, 4622, 4656, 4953, 5450, 6728, 5663, 6980, 6276, 5916, 6904, 6724, 6063, 7017, 7280, 6772, 7514, 7953, 8841, 8297, 9042, 8436, 8549, 8594, 8271, 8410, 8035, 6771, 6950, 6881, 7066, 6302, 5469, 5253, 5297, 5021, 4481, 4756, 4004, 3854, 3706, 3036, 2584, 2192, 2149, 2214, 2144, 2005, 1878, 1563, 1269, 1252, 1393, 1311, 1201, 961, 956, 622]}],                        {\"template\": {\"data\": {\"bar\": [{\"error_x\": {\"color\": \"#2a3f5f\"}, \"error_y\": {\"color\": \"#2a3f5f\"}, \"marker\": {\"line\": {\"color\": \"#E5ECF6\", \"width\": 0.5}}, \"type\": \"bar\"}], \"barpolar\": [{\"marker\": {\"line\": {\"color\": \"#E5ECF6\", \"width\": 0.5}}, \"type\": \"barpolar\"}], \"carpet\": [{\"aaxis\": {\"endlinecolor\": \"#2a3f5f\", \"gridcolor\": \"white\", \"linecolor\": \"white\", \"minorgridcolor\": \"white\", \"startlinecolor\": \"#2a3f5f\"}, \"baxis\": {\"endlinecolor\": \"#2a3f5f\", \"gridcolor\": \"white\", \"linecolor\": \"white\", \"minorgridcolor\": \"white\", \"startlinecolor\": \"#2a3f5f\"}, \"type\": \"carpet\"}], \"choropleth\": [{\"colorbar\": {\"outlinewidth\": 0, \"ticks\": \"\"}, \"type\": \"choropleth\"}], \"contour\": [{\"colorbar\": {\"outlinewidth\": 0, \"ticks\": \"\"}, \"colorscale\": [[0.0, \"#0d0887\"], [0.1111111111111111, \"#46039f\"], [0.2222222222222222, \"#7201a8\"], [0.3333333333333333, \"#9c179e\"], [0.4444444444444444, \"#bd3786\"], [0.5555555555555556, \"#d8576b\"], [0.6666666666666666, \"#ed7953\"], [0.7777777777777778, \"#fb9f3a\"], [0.8888888888888888, \"#fdca26\"], [1.0, \"#f0f921\"]], \"type\": \"contour\"}], \"contourcarpet\": [{\"colorbar\": {\"outlinewidth\": 0, \"ticks\": \"\"}, \"type\": \"contourcarpet\"}], \"heatmap\": [{\"colorbar\": {\"outlinewidth\": 0, \"ticks\": \"\"}, \"colorscale\": [[0.0, \"#0d0887\"], [0.1111111111111111, \"#46039f\"], [0.2222222222222222, \"#7201a8\"], [0.3333333333333333, \"#9c179e\"], [0.4444444444444444, \"#bd3786\"], [0.5555555555555556, \"#d8576b\"], [0.6666666666666666, \"#ed7953\"], [0.7777777777777778, \"#fb9f3a\"], [0.8888888888888888, \"#fdca26\"], [1.0, \"#f0f921\"]], \"type\": \"heatmap\"}], \"heatmapgl\": [{\"colorbar\": {\"outlinewidth\": 0, \"ticks\": \"\"}, \"colorscale\": [[0.0, \"#0d0887\"], [0.1111111111111111, \"#46039f\"], [0.2222222222222222, \"#7201a8\"], [0.3333333333333333, \"#9c179e\"], [0.4444444444444444, \"#bd3786\"], [0.5555555555555556, \"#d8576b\"], [0.6666666666666666, \"#ed7953\"], [0.7777777777777778, \"#fb9f3a\"], [0.8888888888888888, \"#fdca26\"], [1.0, \"#f0f921\"]], \"type\": \"heatmapgl\"}], \"histogram\": [{\"marker\": {\"colorbar\": {\"outlinewidth\": 0, \"ticks\": \"\"}}, \"type\": \"histogram\"}], \"histogram2d\": [{\"colorbar\": {\"outlinewidth\": 0, \"ticks\": \"\"}, \"colorscale\": [[0.0, \"#0d0887\"], [0.1111111111111111, \"#46039f\"], [0.2222222222222222, \"#7201a8\"], [0.3333333333333333, \"#9c179e\"], [0.4444444444444444, \"#bd3786\"], [0.5555555555555556, \"#d8576b\"], [0.6666666666666666, \"#ed7953\"], [0.7777777777777778, \"#fb9f3a\"], [0.8888888888888888, \"#fdca26\"], [1.0, \"#f0f921\"]], \"type\": \"histogram2d\"}], \"histogram2dcontour\": [{\"colorbar\": {\"outlinewidth\": 0, \"ticks\": \"\"}, \"colorscale\": [[0.0, \"#0d0887\"], [0.1111111111111111, \"#46039f\"], [0.2222222222222222, \"#7201a8\"], [0.3333333333333333, \"#9c179e\"], [0.4444444444444444, \"#bd3786\"], [0.5555555555555556, \"#d8576b\"], [0.6666666666666666, \"#ed7953\"], [0.7777777777777778, \"#fb9f3a\"], [0.8888888888888888, \"#fdca26\"], [1.0, \"#f0f921\"]], \"type\": \"histogram2dcontour\"}], \"mesh3d\": [{\"colorbar\": {\"outlinewidth\": 0, \"ticks\": \"\"}, \"type\": \"mesh3d\"}], \"parcoords\": [{\"line\": {\"colorbar\": {\"outlinewidth\": 0, \"ticks\": \"\"}}, \"type\": \"parcoords\"}], \"pie\": [{\"automargin\": true, \"type\": \"pie\"}], \"scatter\": [{\"marker\": {\"colorbar\": {\"outlinewidth\": 0, \"ticks\": \"\"}}, \"type\": \"scatter\"}], \"scatter3d\": [{\"line\": {\"colorbar\": {\"outlinewidth\": 0, \"ticks\": \"\"}}, \"marker\": {\"colorbar\": {\"outlinewidth\": 0, \"ticks\": \"\"}}, \"type\": \"scatter3d\"}], \"scattercarpet\": [{\"marker\": {\"colorbar\": {\"outlinewidth\": 0, \"ticks\": \"\"}}, \"type\": \"scattercarpet\"}], \"scattergeo\": [{\"marker\": {\"colorbar\": {\"outlinewidth\": 0, \"ticks\": \"\"}}, \"type\": \"scattergeo\"}], \"scattergl\": [{\"marker\": {\"colorbar\": {\"outlinewidth\": 0, \"ticks\": \"\"}}, \"type\": \"scattergl\"}], \"scattermapbox\": [{\"marker\": {\"colorbar\": {\"outlinewidth\": 0, \"ticks\": \"\"}}, \"type\": \"scattermapbox\"}], \"scatterpolar\": [{\"marker\": {\"colorbar\": {\"outlinewidth\": 0, \"ticks\": \"\"}}, \"type\": \"scatterpolar\"}], \"scatterpolargl\": [{\"marker\": {\"colorbar\": {\"outlinewidth\": 0, \"ticks\": \"\"}}, \"type\": \"scatterpolargl\"}], \"scatterternary\": [{\"marker\": {\"colorbar\": {\"outlinewidth\": 0, \"ticks\": \"\"}}, \"type\": \"scatterternary\"}], \"surface\": [{\"colorbar\": {\"outlinewidth\": 0, \"ticks\": \"\"}, \"colorscale\": [[0.0, \"#0d0887\"], [0.1111111111111111, \"#46039f\"], [0.2222222222222222, \"#7201a8\"], [0.3333333333333333, \"#9c179e\"], [0.4444444444444444, \"#bd3786\"], [0.5555555555555556, \"#d8576b\"], [0.6666666666666666, \"#ed7953\"], [0.7777777777777778, \"#fb9f3a\"], [0.8888888888888888, \"#fdca26\"], [1.0, \"#f0f921\"]], \"type\": \"surface\"}], \"table\": [{\"cells\": {\"fill\": {\"color\": \"#EBF0F8\"}, \"line\": {\"color\": \"white\"}}, \"header\": {\"fill\": {\"color\": \"#C8D4E3\"}, \"line\": {\"color\": \"white\"}}, \"type\": \"table\"}]}, \"layout\": {\"annotationdefaults\": {\"arrowcolor\": \"#2a3f5f\", \"arrowhead\": 0, \"arrowwidth\": 1}, \"coloraxis\": {\"colorbar\": {\"outlinewidth\": 0, \"ticks\": \"\"}}, \"colorscale\": {\"diverging\": [[0, \"#8e0152\"], [0.1, \"#c51b7d\"], [0.2, \"#de77ae\"], [0.3, \"#f1b6da\"], [0.4, \"#fde0ef\"], [0.5, \"#f7f7f7\"], [0.6, \"#e6f5d0\"], [0.7, \"#b8e186\"], [0.8, \"#7fbc41\"], [0.9, \"#4d9221\"], [1, \"#276419\"]], \"sequential\": [[0.0, \"#0d0887\"], [0.1111111111111111, \"#46039f\"], [0.2222222222222222, \"#7201a8\"], [0.3333333333333333, \"#9c179e\"], [0.4444444444444444, \"#bd3786\"], [0.5555555555555556, \"#d8576b\"], [0.6666666666666666, \"#ed7953\"], [0.7777777777777778, \"#fb9f3a\"], [0.8888888888888888, \"#fdca26\"], [1.0, \"#f0f921\"]], \"sequentialminus\": [[0.0, \"#0d0887\"], [0.1111111111111111, \"#46039f\"], [0.2222222222222222, \"#7201a8\"], [0.3333333333333333, \"#9c179e\"], [0.4444444444444444, \"#bd3786\"], [0.5555555555555556, \"#d8576b\"], [0.6666666666666666, \"#ed7953\"], [0.7777777777777778, \"#fb9f3a\"], [0.8888888888888888, \"#fdca26\"], [1.0, \"#f0f921\"]]}, \"colorway\": [\"#636efa\", \"#EF553B\", \"#00cc96\", \"#ab63fa\", \"#FFA15A\", \"#19d3f3\", \"#FF6692\", \"#B6E880\", \"#FF97FF\", \"#FECB52\"], \"font\": {\"color\": \"#2a3f5f\"}, \"geo\": {\"bgcolor\": \"white\", \"lakecolor\": \"white\", \"landcolor\": \"#E5ECF6\", \"showlakes\": true, \"showland\": true, \"subunitcolor\": \"white\"}, \"hoverlabel\": {\"align\": \"left\"}, \"hovermode\": \"closest\", \"mapbox\": {\"style\": \"light\"}, \"paper_bgcolor\": \"white\", \"plot_bgcolor\": \"#E5ECF6\", \"polar\": {\"angularaxis\": {\"gridcolor\": \"white\", \"linecolor\": \"white\", \"ticks\": \"\"}, \"bgcolor\": \"#E5ECF6\", \"radialaxis\": {\"gridcolor\": \"white\", \"linecolor\": \"white\", \"ticks\": \"\"}}, \"scene\": {\"xaxis\": {\"backgroundcolor\": \"#E5ECF6\", \"gridcolor\": \"white\", \"gridwidth\": 2, \"linecolor\": \"white\", \"showbackground\": true, \"ticks\": \"\", \"zerolinecolor\": \"white\"}, \"yaxis\": {\"backgroundcolor\": \"#E5ECF6\", \"gridcolor\": \"white\", \"gridwidth\": 2, \"linecolor\": \"white\", \"showbackground\": true, \"ticks\": \"\", \"zerolinecolor\": \"white\"}, \"zaxis\": {\"backgroundcolor\": \"#E5ECF6\", \"gridcolor\": \"white\", \"gridwidth\": 2, \"linecolor\": \"white\", \"showbackground\": true, \"ticks\": \"\", \"zerolinecolor\": \"white\"}}, \"shapedefaults\": {\"line\": {\"color\": \"#2a3f5f\"}}, \"ternary\": {\"aaxis\": {\"gridcolor\": \"white\", \"linecolor\": \"white\", \"ticks\": \"\"}, \"baxis\": {\"gridcolor\": \"white\", \"linecolor\": \"white\", \"ticks\": \"\"}, \"bgcolor\": \"#E5ECF6\", \"caxis\": {\"gridcolor\": \"white\", \"linecolor\": \"white\", \"ticks\": \"\"}}, \"title\": {\"x\": 0.05}, \"xaxis\": {\"automargin\": true, \"gridcolor\": \"white\", \"linecolor\": \"white\", \"ticks\": \"\", \"title\": {\"standoff\": 15}, \"zerolinecolor\": \"white\", \"zerolinewidth\": 2}, \"yaxis\": {\"automargin\": true, \"gridcolor\": \"white\", \"linecolor\": \"white\", \"ticks\": \"\", \"title\": {\"standoff\": 15}, \"zerolinecolor\": \"white\", \"zerolinewidth\": 2}}}, \"title\": {\"text\": \"Daily Confirmed Covid cases Prediction PUNJAB\"}, \"xaxis\": {\"title\": {\"text\": \"Date\"}}, \"yaxis\": {\"title\": {\"text\": \"Close\"}}},                        {\"responsive\": true}                    ).then(function(){\n",
       "                            \n",
       "var gd = document.getElementById('02729a2f-50f1-4feb-8d93-fb7707a0806e');\n",
       "var x = new MutationObserver(function (mutations, observer) {{\n",
       "        var display = window.getComputedStyle(gd).display;\n",
       "        if (!display || display === 'none') {{\n",
       "            console.log([gd, 'removed!']);\n",
       "            Plotly.purge(gd);\n",
       "            observer.disconnect();\n",
       "        }}\n",
       "}});\n",
       "\n",
       "// Listen for the removal of the full notebook cells\n",
       "var notebookContainer = gd.closest('#notebook-container');\n",
       "if (notebookContainer) {{\n",
       "    x.observe(notebookContainer, {childList: true});\n",
       "}}\n",
       "\n",
       "// Listen for the clearing of the current output cell\n",
       "var outputEl = gd.closest('.output');\n",
       "if (outputEl) {{\n",
       "    x.observe(outputEl, {childList: true});\n",
       "}}\n",
       "\n",
       "                        })                };                });            </script>        </div>"
      ]
     },
     "metadata": {},
     "output_type": "display_data"
    }
   ],
   "source": [
    "prediction = model.predict(test_generator)\n",
    "\n",
    "\n",
    "close_train = close_train.reshape((-1))\n",
    "close_data2 = close_data2.reshape((-1))\n",
    "prediction = prediction.reshape((-1))\n",
    "\n",
    "trace1 = go.Scatter(\n",
    "    x = date_train,\n",
    "    y = close_train,\n",
    "    mode = 'lines',\n",
    "    name = 'Training Data'\n",
    ")\n",
    "trace2 = go.Scatter(\n",
    "    x = date_test,\n",
    "    y = prediction,\n",
    "    mode = 'lines',\n",
    "    name = 'Prediction'\n",
    ")\n",
    "trace3 = go.Scatter(\n",
    "    x = date_test,\n",
    "    y = close_data2,\n",
    "    mode='lines',\n",
    "    name = 'Testing Data'\n",
    ")\n",
    "layout = go.Layout(\n",
    "    title = \"Daily Confirmed Covid cases Prediction PUNJAB\",\n",
    "    xaxis = {'title' : \"Date\"},\n",
    "    yaxis = {'title' : \"Close\"}\n",
    ")\n",
    "fig = go.Figure(data=[trace1, trace2, trace3], layout=layout)\n",
    "fig.show()"
   ]
  },
  {
   "cell_type": "code",
   "execution_count": 22,
   "metadata": {},
   "outputs": [
    {
     "data": {
      "application/vnd.plotly.v1+json": {
       "config": {
        "plotlyServerURL": "https://plot.ly"
       },
       "data": [
        {
         "mode": "lines",
         "name": "Daily confirmed",
         "type": "scatter",
         "x": [
          "17-Apr-21",
          "18-Apr-21",
          "19-Apr-21",
          "20-Apr-21",
          "21-Apr-21",
          "22-Apr-21",
          "23-Apr-21",
          "24-Apr-21",
          "25-Apr-21",
          "26-Apr-21",
          "27-Apr-21",
          "28-Apr-21",
          "29-Apr-21",
          "30-Apr-21",
          "01-May-21",
          "02-May-21",
          "03-May-21",
          "04-May-21",
          "05-May-21",
          "06-May-21",
          "07-May-21",
          "08-May-21",
          "09-May-21",
          "10-May-21",
          "11-May-21",
          "12-May-21",
          "13-May-21",
          "14-May-21",
          "15-May-21",
          "16-May-21",
          "17-May-21",
          "18-May-21",
          "19-May-21",
          "20-May-21",
          "21-May-21",
          "22-May-21",
          "23-May-21",
          "24-May-21",
          "25-May-21",
          "26-May-21",
          "27-May-21",
          "28-May-21",
          "29-May-21",
          "30-May-21",
          "31-May-21",
          "01-Jun-21",
          "02-Jun-21",
          "03-Jun-21",
          "04-Jun-21",
          "05-Jun-21",
          "06-Jun-21",
          "07-Jun-21",
          "08-Jun-21",
          "09-Jun-21",
          "10-Jun-21",
          "11-Jun-21",
          "12-Jun-21",
          "13-Jun-21",
          "14-Jun-21",
          "15-Jun-21"
         ],
         "y": [
          4431,
          4900,
          4622,
          4656,
          4953,
          5450,
          6728,
          5663,
          6980,
          6276,
          5916,
          6904,
          6724,
          6063,
          7017,
          7280,
          6772,
          7514,
          7953,
          8841,
          8297,
          9042,
          8436,
          8549,
          8594,
          8271,
          8410,
          8035,
          6771,
          6950,
          6881,
          7066,
          6302,
          5469,
          5253,
          5297,
          5021,
          4481,
          4756,
          4004,
          3854,
          3706,
          3036,
          2584,
          2192,
          2149,
          2214,
          2144,
          2005,
          1878,
          1563,
          1269,
          1252,
          1393,
          1311,
          1201,
          961,
          956,
          622
         ]
        },
        {
         "line": {
          "color": "red"
         },
         "mode": "lines",
         "name": "Predicted confirm",
         "type": "scatter",
         "x": [
          "17-Apr-21",
          "18-Apr-21",
          "19-Apr-21",
          "20-Apr-21",
          "21-Apr-21",
          "22-Apr-21",
          "23-Apr-21",
          "24-Apr-21",
          "25-Apr-21",
          "26-Apr-21",
          "27-Apr-21",
          "28-Apr-21",
          "29-Apr-21",
          "30-Apr-21",
          "01-May-21",
          "02-May-21",
          "03-May-21",
          "04-May-21",
          "05-May-21",
          "06-May-21",
          "07-May-21",
          "08-May-21",
          "09-May-21",
          "10-May-21",
          "11-May-21",
          "12-May-21",
          "13-May-21",
          "14-May-21",
          "15-May-21",
          "16-May-21",
          "17-May-21",
          "18-May-21",
          "19-May-21",
          "20-May-21",
          "21-May-21",
          "22-May-21",
          "23-May-21",
          "24-May-21",
          "25-May-21",
          "26-May-21",
          "27-May-21",
          "28-May-21",
          "29-May-21",
          "30-May-21",
          "31-May-21",
          "01-Jun-21",
          "02-Jun-21",
          "03-Jun-21",
          "04-Jun-21",
          "05-Jun-21",
          "06-Jun-21",
          "07-Jun-21",
          "08-Jun-21",
          "09-Jun-21",
          "10-Jun-21",
          "11-Jun-21",
          "12-Jun-21",
          "13-Jun-21",
          "14-Jun-21",
          "15-Jun-21"
         ],
         "y": [
          4219.7802734375,
          4666.33056640625,
          4401.6376953125,
          4434.01025390625,
          4716.79345703125,
          5190.00341796875,
          6406.82958984375,
          5392.80810546875,
          6646.76708984375,
          5976.46533203125,
          5633.69775390625,
          6574.40478515625,
          6403.02099609375,
          5773.66064453125,
          6681.99560546875,
          6932.40673828125,
          6448.72314453125,
          7155.2060546875,
          7573.19287109375,
          8418.6875,
          7900.72607421875,
          8610.06640625,
          8033.07275390625,
          8140.6640625,
          8183.50927734375,
          7875.970703125,
          8008.31689453125,
          7651.267578125,
          6447.77099609375,
          6618.20361328125,
          6552.50634765625,
          6728.65087890625,
          6001.22119140625,
          5208.09423828125,
          5002.43310546875,
          5044.3271484375,
          4781.53857421875,
          4267.38623046875,
          4529.22314453125,
          3813.219482421875,
          3670.399658203125,
          3529.48388671875,
          2891.5546875,
          2461.190673828125,
          2087.95458984375,
          2047.0128173828125,
          2108.901611328125,
          2042.252197265625,
          1909.9056396484375,
          1788.9847412109375,
          1489.0628662109375,
          1209.1357421875,
          1192.9493408203125,
          1327.2001953125,
          1249.1253662109375,
          1144.3907470703125,
          915.8781127929688,
          911.1173706054688,
          593.0618286132812
         ]
        }
       ],
       "layout": {
        "template": {
         "data": {
          "bar": [
           {
            "error_x": {
             "color": "#2a3f5f"
            },
            "error_y": {
             "color": "#2a3f5f"
            },
            "marker": {
             "line": {
              "color": "#E5ECF6",
              "width": 0.5
             }
            },
            "type": "bar"
           }
          ],
          "barpolar": [
           {
            "marker": {
             "line": {
              "color": "#E5ECF6",
              "width": 0.5
             }
            },
            "type": "barpolar"
           }
          ],
          "carpet": [
           {
            "aaxis": {
             "endlinecolor": "#2a3f5f",
             "gridcolor": "white",
             "linecolor": "white",
             "minorgridcolor": "white",
             "startlinecolor": "#2a3f5f"
            },
            "baxis": {
             "endlinecolor": "#2a3f5f",
             "gridcolor": "white",
             "linecolor": "white",
             "minorgridcolor": "white",
             "startlinecolor": "#2a3f5f"
            },
            "type": "carpet"
           }
          ],
          "choropleth": [
           {
            "colorbar": {
             "outlinewidth": 0,
             "ticks": ""
            },
            "type": "choropleth"
           }
          ],
          "contour": [
           {
            "colorbar": {
             "outlinewidth": 0,
             "ticks": ""
            },
            "colorscale": [
             [
              0,
              "#0d0887"
             ],
             [
              0.1111111111111111,
              "#46039f"
             ],
             [
              0.2222222222222222,
              "#7201a8"
             ],
             [
              0.3333333333333333,
              "#9c179e"
             ],
             [
              0.4444444444444444,
              "#bd3786"
             ],
             [
              0.5555555555555556,
              "#d8576b"
             ],
             [
              0.6666666666666666,
              "#ed7953"
             ],
             [
              0.7777777777777778,
              "#fb9f3a"
             ],
             [
              0.8888888888888888,
              "#fdca26"
             ],
             [
              1,
              "#f0f921"
             ]
            ],
            "type": "contour"
           }
          ],
          "contourcarpet": [
           {
            "colorbar": {
             "outlinewidth": 0,
             "ticks": ""
            },
            "type": "contourcarpet"
           }
          ],
          "heatmap": [
           {
            "colorbar": {
             "outlinewidth": 0,
             "ticks": ""
            },
            "colorscale": [
             [
              0,
              "#0d0887"
             ],
             [
              0.1111111111111111,
              "#46039f"
             ],
             [
              0.2222222222222222,
              "#7201a8"
             ],
             [
              0.3333333333333333,
              "#9c179e"
             ],
             [
              0.4444444444444444,
              "#bd3786"
             ],
             [
              0.5555555555555556,
              "#d8576b"
             ],
             [
              0.6666666666666666,
              "#ed7953"
             ],
             [
              0.7777777777777778,
              "#fb9f3a"
             ],
             [
              0.8888888888888888,
              "#fdca26"
             ],
             [
              1,
              "#f0f921"
             ]
            ],
            "type": "heatmap"
           }
          ],
          "heatmapgl": [
           {
            "colorbar": {
             "outlinewidth": 0,
             "ticks": ""
            },
            "colorscale": [
             [
              0,
              "#0d0887"
             ],
             [
              0.1111111111111111,
              "#46039f"
             ],
             [
              0.2222222222222222,
              "#7201a8"
             ],
             [
              0.3333333333333333,
              "#9c179e"
             ],
             [
              0.4444444444444444,
              "#bd3786"
             ],
             [
              0.5555555555555556,
              "#d8576b"
             ],
             [
              0.6666666666666666,
              "#ed7953"
             ],
             [
              0.7777777777777778,
              "#fb9f3a"
             ],
             [
              0.8888888888888888,
              "#fdca26"
             ],
             [
              1,
              "#f0f921"
             ]
            ],
            "type": "heatmapgl"
           }
          ],
          "histogram": [
           {
            "marker": {
             "colorbar": {
              "outlinewidth": 0,
              "ticks": ""
             }
            },
            "type": "histogram"
           }
          ],
          "histogram2d": [
           {
            "colorbar": {
             "outlinewidth": 0,
             "ticks": ""
            },
            "colorscale": [
             [
              0,
              "#0d0887"
             ],
             [
              0.1111111111111111,
              "#46039f"
             ],
             [
              0.2222222222222222,
              "#7201a8"
             ],
             [
              0.3333333333333333,
              "#9c179e"
             ],
             [
              0.4444444444444444,
              "#bd3786"
             ],
             [
              0.5555555555555556,
              "#d8576b"
             ],
             [
              0.6666666666666666,
              "#ed7953"
             ],
             [
              0.7777777777777778,
              "#fb9f3a"
             ],
             [
              0.8888888888888888,
              "#fdca26"
             ],
             [
              1,
              "#f0f921"
             ]
            ],
            "type": "histogram2d"
           }
          ],
          "histogram2dcontour": [
           {
            "colorbar": {
             "outlinewidth": 0,
             "ticks": ""
            },
            "colorscale": [
             [
              0,
              "#0d0887"
             ],
             [
              0.1111111111111111,
              "#46039f"
             ],
             [
              0.2222222222222222,
              "#7201a8"
             ],
             [
              0.3333333333333333,
              "#9c179e"
             ],
             [
              0.4444444444444444,
              "#bd3786"
             ],
             [
              0.5555555555555556,
              "#d8576b"
             ],
             [
              0.6666666666666666,
              "#ed7953"
             ],
             [
              0.7777777777777778,
              "#fb9f3a"
             ],
             [
              0.8888888888888888,
              "#fdca26"
             ],
             [
              1,
              "#f0f921"
             ]
            ],
            "type": "histogram2dcontour"
           }
          ],
          "mesh3d": [
           {
            "colorbar": {
             "outlinewidth": 0,
             "ticks": ""
            },
            "type": "mesh3d"
           }
          ],
          "parcoords": [
           {
            "line": {
             "colorbar": {
              "outlinewidth": 0,
              "ticks": ""
             }
            },
            "type": "parcoords"
           }
          ],
          "pie": [
           {
            "automargin": true,
            "type": "pie"
           }
          ],
          "scatter": [
           {
            "marker": {
             "colorbar": {
              "outlinewidth": 0,
              "ticks": ""
             }
            },
            "type": "scatter"
           }
          ],
          "scatter3d": [
           {
            "line": {
             "colorbar": {
              "outlinewidth": 0,
              "ticks": ""
             }
            },
            "marker": {
             "colorbar": {
              "outlinewidth": 0,
              "ticks": ""
             }
            },
            "type": "scatter3d"
           }
          ],
          "scattercarpet": [
           {
            "marker": {
             "colorbar": {
              "outlinewidth": 0,
              "ticks": ""
             }
            },
            "type": "scattercarpet"
           }
          ],
          "scattergeo": [
           {
            "marker": {
             "colorbar": {
              "outlinewidth": 0,
              "ticks": ""
             }
            },
            "type": "scattergeo"
           }
          ],
          "scattergl": [
           {
            "marker": {
             "colorbar": {
              "outlinewidth": 0,
              "ticks": ""
             }
            },
            "type": "scattergl"
           }
          ],
          "scattermapbox": [
           {
            "marker": {
             "colorbar": {
              "outlinewidth": 0,
              "ticks": ""
             }
            },
            "type": "scattermapbox"
           }
          ],
          "scatterpolar": [
           {
            "marker": {
             "colorbar": {
              "outlinewidth": 0,
              "ticks": ""
             }
            },
            "type": "scatterpolar"
           }
          ],
          "scatterpolargl": [
           {
            "marker": {
             "colorbar": {
              "outlinewidth": 0,
              "ticks": ""
             }
            },
            "type": "scatterpolargl"
           }
          ],
          "scatterternary": [
           {
            "marker": {
             "colorbar": {
              "outlinewidth": 0,
              "ticks": ""
             }
            },
            "type": "scatterternary"
           }
          ],
          "surface": [
           {
            "colorbar": {
             "outlinewidth": 0,
             "ticks": ""
            },
            "colorscale": [
             [
              0,
              "#0d0887"
             ],
             [
              0.1111111111111111,
              "#46039f"
             ],
             [
              0.2222222222222222,
              "#7201a8"
             ],
             [
              0.3333333333333333,
              "#9c179e"
             ],
             [
              0.4444444444444444,
              "#bd3786"
             ],
             [
              0.5555555555555556,
              "#d8576b"
             ],
             [
              0.6666666666666666,
              "#ed7953"
             ],
             [
              0.7777777777777778,
              "#fb9f3a"
             ],
             [
              0.8888888888888888,
              "#fdca26"
             ],
             [
              1,
              "#f0f921"
             ]
            ],
            "type": "surface"
           }
          ],
          "table": [
           {
            "cells": {
             "fill": {
              "color": "#EBF0F8"
             },
             "line": {
              "color": "white"
             }
            },
            "header": {
             "fill": {
              "color": "#C8D4E3"
             },
             "line": {
              "color": "white"
             }
            },
            "type": "table"
           }
          ]
         },
         "layout": {
          "annotationdefaults": {
           "arrowcolor": "#2a3f5f",
           "arrowhead": 0,
           "arrowwidth": 1
          },
          "coloraxis": {
           "colorbar": {
            "outlinewidth": 0,
            "ticks": ""
           }
          },
          "colorscale": {
           "diverging": [
            [
             0,
             "#8e0152"
            ],
            [
             0.1,
             "#c51b7d"
            ],
            [
             0.2,
             "#de77ae"
            ],
            [
             0.3,
             "#f1b6da"
            ],
            [
             0.4,
             "#fde0ef"
            ],
            [
             0.5,
             "#f7f7f7"
            ],
            [
             0.6,
             "#e6f5d0"
            ],
            [
             0.7,
             "#b8e186"
            ],
            [
             0.8,
             "#7fbc41"
            ],
            [
             0.9,
             "#4d9221"
            ],
            [
             1,
             "#276419"
            ]
           ],
           "sequential": [
            [
             0,
             "#0d0887"
            ],
            [
             0.1111111111111111,
             "#46039f"
            ],
            [
             0.2222222222222222,
             "#7201a8"
            ],
            [
             0.3333333333333333,
             "#9c179e"
            ],
            [
             0.4444444444444444,
             "#bd3786"
            ],
            [
             0.5555555555555556,
             "#d8576b"
            ],
            [
             0.6666666666666666,
             "#ed7953"
            ],
            [
             0.7777777777777778,
             "#fb9f3a"
            ],
            [
             0.8888888888888888,
             "#fdca26"
            ],
            [
             1,
             "#f0f921"
            ]
           ],
           "sequentialminus": [
            [
             0,
             "#0d0887"
            ],
            [
             0.1111111111111111,
             "#46039f"
            ],
            [
             0.2222222222222222,
             "#7201a8"
            ],
            [
             0.3333333333333333,
             "#9c179e"
            ],
            [
             0.4444444444444444,
             "#bd3786"
            ],
            [
             0.5555555555555556,
             "#d8576b"
            ],
            [
             0.6666666666666666,
             "#ed7953"
            ],
            [
             0.7777777777777778,
             "#fb9f3a"
            ],
            [
             0.8888888888888888,
             "#fdca26"
            ],
            [
             1,
             "#f0f921"
            ]
           ]
          },
          "colorway": [
           "#636efa",
           "#EF553B",
           "#00cc96",
           "#ab63fa",
           "#FFA15A",
           "#19d3f3",
           "#FF6692",
           "#B6E880",
           "#FF97FF",
           "#FECB52"
          ],
          "font": {
           "color": "#2a3f5f"
          },
          "geo": {
           "bgcolor": "white",
           "lakecolor": "white",
           "landcolor": "#E5ECF6",
           "showlakes": true,
           "showland": true,
           "subunitcolor": "white"
          },
          "hoverlabel": {
           "align": "left"
          },
          "hovermode": "closest",
          "mapbox": {
           "style": "light"
          },
          "paper_bgcolor": "white",
          "plot_bgcolor": "#E5ECF6",
          "polar": {
           "angularaxis": {
            "gridcolor": "white",
            "linecolor": "white",
            "ticks": ""
           },
           "bgcolor": "#E5ECF6",
           "radialaxis": {
            "gridcolor": "white",
            "linecolor": "white",
            "ticks": ""
           }
          },
          "scene": {
           "xaxis": {
            "backgroundcolor": "#E5ECF6",
            "gridcolor": "white",
            "gridwidth": 2,
            "linecolor": "white",
            "showbackground": true,
            "ticks": "",
            "zerolinecolor": "white"
           },
           "yaxis": {
            "backgroundcolor": "#E5ECF6",
            "gridcolor": "white",
            "gridwidth": 2,
            "linecolor": "white",
            "showbackground": true,
            "ticks": "",
            "zerolinecolor": "white"
           },
           "zaxis": {
            "backgroundcolor": "#E5ECF6",
            "gridcolor": "white",
            "gridwidth": 2,
            "linecolor": "white",
            "showbackground": true,
            "ticks": "",
            "zerolinecolor": "white"
           }
          },
          "shapedefaults": {
           "line": {
            "color": "#2a3f5f"
           }
          },
          "ternary": {
           "aaxis": {
            "gridcolor": "white",
            "linecolor": "white",
            "ticks": ""
           },
           "baxis": {
            "gridcolor": "white",
            "linecolor": "white",
            "ticks": ""
           },
           "bgcolor": "#E5ECF6",
           "caxis": {
            "gridcolor": "white",
            "linecolor": "white",
            "ticks": ""
           }
          },
          "title": {
           "x": 0.05
          },
          "xaxis": {
           "automargin": true,
           "gridcolor": "white",
           "linecolor": "white",
           "ticks": "",
           "title": {
            "standoff": 15
           },
           "zerolinecolor": "white",
           "zerolinewidth": 2
          },
          "yaxis": {
           "automargin": true,
           "gridcolor": "white",
           "linecolor": "white",
           "ticks": "",
           "title": {
            "standoff": 15
           },
           "zerolinecolor": "white",
           "zerolinewidth": 2
          }
         }
        },
        "title": {
         "text": "Daily predicted Confirmed Covid cases of INDIA"
        },
        "xaxis": {
         "title": {
          "text": "Date"
         }
        },
        "yaxis": {
         "title": {
          "text": "Close"
         }
        }
       }
      },
      "text/html": [
       "<div>                            <div id=\"4a28c155-64fd-4846-8e3a-021d671f824e\" class=\"plotly-graph-div\" style=\"height:525px; width:100%;\"></div>            <script type=\"text/javascript\">                require([\"plotly\"], function(Plotly) {                    window.PLOTLYENV=window.PLOTLYENV || {};                                    if (document.getElementById(\"4a28c155-64fd-4846-8e3a-021d671f824e\")) {                    Plotly.newPlot(                        \"4a28c155-64fd-4846-8e3a-021d671f824e\",                        [{\"mode\": \"lines\", \"name\": \"Daily confirmed\", \"type\": \"scatter\", \"x\": [\"17-Apr-21\", \"18-Apr-21\", \"19-Apr-21\", \"20-Apr-21\", \"21-Apr-21\", \"22-Apr-21\", \"23-Apr-21\", \"24-Apr-21\", \"25-Apr-21\", \"26-Apr-21\", \"27-Apr-21\", \"28-Apr-21\", \"29-Apr-21\", \"30-Apr-21\", \"01-May-21\", \"02-May-21\", \"03-May-21\", \"04-May-21\", \"05-May-21\", \"06-May-21\", \"07-May-21\", \"08-May-21\", \"09-May-21\", \"10-May-21\", \"11-May-21\", \"12-May-21\", \"13-May-21\", \"14-May-21\", \"15-May-21\", \"16-May-21\", \"17-May-21\", \"18-May-21\", \"19-May-21\", \"20-May-21\", \"21-May-21\", \"22-May-21\", \"23-May-21\", \"24-May-21\", \"25-May-21\", \"26-May-21\", \"27-May-21\", \"28-May-21\", \"29-May-21\", \"30-May-21\", \"31-May-21\", \"01-Jun-21\", \"02-Jun-21\", \"03-Jun-21\", \"04-Jun-21\", \"05-Jun-21\", \"06-Jun-21\", \"07-Jun-21\", \"08-Jun-21\", \"09-Jun-21\", \"10-Jun-21\", \"11-Jun-21\", \"12-Jun-21\", \"13-Jun-21\", \"14-Jun-21\", \"15-Jun-21\"], \"y\": [4431, 4900, 4622, 4656, 4953, 5450, 6728, 5663, 6980, 6276, 5916, 6904, 6724, 6063, 7017, 7280, 6772, 7514, 7953, 8841, 8297, 9042, 8436, 8549, 8594, 8271, 8410, 8035, 6771, 6950, 6881, 7066, 6302, 5469, 5253, 5297, 5021, 4481, 4756, 4004, 3854, 3706, 3036, 2584, 2192, 2149, 2214, 2144, 2005, 1878, 1563, 1269, 1252, 1393, 1311, 1201, 961, 956, 622]}, {\"line\": {\"color\": \"red\"}, \"mode\": \"lines\", \"name\": \"Predicted confirm\", \"type\": \"scatter\", \"x\": [\"17-Apr-21\", \"18-Apr-21\", \"19-Apr-21\", \"20-Apr-21\", \"21-Apr-21\", \"22-Apr-21\", \"23-Apr-21\", \"24-Apr-21\", \"25-Apr-21\", \"26-Apr-21\", \"27-Apr-21\", \"28-Apr-21\", \"29-Apr-21\", \"30-Apr-21\", \"01-May-21\", \"02-May-21\", \"03-May-21\", \"04-May-21\", \"05-May-21\", \"06-May-21\", \"07-May-21\", \"08-May-21\", \"09-May-21\", \"10-May-21\", \"11-May-21\", \"12-May-21\", \"13-May-21\", \"14-May-21\", \"15-May-21\", \"16-May-21\", \"17-May-21\", \"18-May-21\", \"19-May-21\", \"20-May-21\", \"21-May-21\", \"22-May-21\", \"23-May-21\", \"24-May-21\", \"25-May-21\", \"26-May-21\", \"27-May-21\", \"28-May-21\", \"29-May-21\", \"30-May-21\", \"31-May-21\", \"01-Jun-21\", \"02-Jun-21\", \"03-Jun-21\", \"04-Jun-21\", \"05-Jun-21\", \"06-Jun-21\", \"07-Jun-21\", \"08-Jun-21\", \"09-Jun-21\", \"10-Jun-21\", \"11-Jun-21\", \"12-Jun-21\", \"13-Jun-21\", \"14-Jun-21\", \"15-Jun-21\"], \"y\": [4219.7802734375, 4666.33056640625, 4401.6376953125, 4434.01025390625, 4716.79345703125, 5190.00341796875, 6406.82958984375, 5392.80810546875, 6646.76708984375, 5976.46533203125, 5633.69775390625, 6574.40478515625, 6403.02099609375, 5773.66064453125, 6681.99560546875, 6932.40673828125, 6448.72314453125, 7155.2060546875, 7573.19287109375, 8418.6875, 7900.72607421875, 8610.06640625, 8033.07275390625, 8140.6640625, 8183.50927734375, 7875.970703125, 8008.31689453125, 7651.267578125, 6447.77099609375, 6618.20361328125, 6552.50634765625, 6728.65087890625, 6001.22119140625, 5208.09423828125, 5002.43310546875, 5044.3271484375, 4781.53857421875, 4267.38623046875, 4529.22314453125, 3813.219482421875, 3670.399658203125, 3529.48388671875, 2891.5546875, 2461.190673828125, 2087.95458984375, 2047.0128173828125, 2108.901611328125, 2042.252197265625, 1909.9056396484375, 1788.9847412109375, 1489.0628662109375, 1209.1357421875, 1192.9493408203125, 1327.2001953125, 1249.1253662109375, 1144.3907470703125, 915.8781127929688, 911.1173706054688, 593.0618286132812]}],                        {\"template\": {\"data\": {\"bar\": [{\"error_x\": {\"color\": \"#2a3f5f\"}, \"error_y\": {\"color\": \"#2a3f5f\"}, \"marker\": {\"line\": {\"color\": \"#E5ECF6\", \"width\": 0.5}}, \"type\": \"bar\"}], \"barpolar\": [{\"marker\": {\"line\": {\"color\": \"#E5ECF6\", \"width\": 0.5}}, \"type\": \"barpolar\"}], \"carpet\": [{\"aaxis\": {\"endlinecolor\": \"#2a3f5f\", \"gridcolor\": \"white\", \"linecolor\": \"white\", \"minorgridcolor\": \"white\", \"startlinecolor\": \"#2a3f5f\"}, \"baxis\": {\"endlinecolor\": \"#2a3f5f\", \"gridcolor\": \"white\", \"linecolor\": \"white\", \"minorgridcolor\": \"white\", \"startlinecolor\": \"#2a3f5f\"}, \"type\": \"carpet\"}], \"choropleth\": [{\"colorbar\": {\"outlinewidth\": 0, \"ticks\": \"\"}, \"type\": \"choropleth\"}], \"contour\": [{\"colorbar\": {\"outlinewidth\": 0, \"ticks\": \"\"}, \"colorscale\": [[0.0, \"#0d0887\"], [0.1111111111111111, \"#46039f\"], [0.2222222222222222, \"#7201a8\"], [0.3333333333333333, \"#9c179e\"], [0.4444444444444444, \"#bd3786\"], [0.5555555555555556, \"#d8576b\"], [0.6666666666666666, \"#ed7953\"], [0.7777777777777778, \"#fb9f3a\"], [0.8888888888888888, \"#fdca26\"], [1.0, \"#f0f921\"]], \"type\": \"contour\"}], \"contourcarpet\": [{\"colorbar\": {\"outlinewidth\": 0, \"ticks\": \"\"}, \"type\": \"contourcarpet\"}], \"heatmap\": [{\"colorbar\": {\"outlinewidth\": 0, \"ticks\": \"\"}, \"colorscale\": [[0.0, \"#0d0887\"], [0.1111111111111111, \"#46039f\"], [0.2222222222222222, \"#7201a8\"], [0.3333333333333333, \"#9c179e\"], [0.4444444444444444, \"#bd3786\"], [0.5555555555555556, \"#d8576b\"], [0.6666666666666666, \"#ed7953\"], [0.7777777777777778, \"#fb9f3a\"], [0.8888888888888888, \"#fdca26\"], [1.0, \"#f0f921\"]], \"type\": \"heatmap\"}], \"heatmapgl\": [{\"colorbar\": {\"outlinewidth\": 0, \"ticks\": \"\"}, \"colorscale\": [[0.0, \"#0d0887\"], [0.1111111111111111, \"#46039f\"], [0.2222222222222222, \"#7201a8\"], [0.3333333333333333, \"#9c179e\"], [0.4444444444444444, \"#bd3786\"], [0.5555555555555556, \"#d8576b\"], [0.6666666666666666, \"#ed7953\"], [0.7777777777777778, \"#fb9f3a\"], [0.8888888888888888, \"#fdca26\"], [1.0, \"#f0f921\"]], \"type\": \"heatmapgl\"}], \"histogram\": [{\"marker\": {\"colorbar\": {\"outlinewidth\": 0, \"ticks\": \"\"}}, \"type\": \"histogram\"}], \"histogram2d\": [{\"colorbar\": {\"outlinewidth\": 0, \"ticks\": \"\"}, \"colorscale\": [[0.0, \"#0d0887\"], [0.1111111111111111, \"#46039f\"], [0.2222222222222222, \"#7201a8\"], [0.3333333333333333, \"#9c179e\"], [0.4444444444444444, \"#bd3786\"], [0.5555555555555556, \"#d8576b\"], [0.6666666666666666, \"#ed7953\"], [0.7777777777777778, \"#fb9f3a\"], [0.8888888888888888, \"#fdca26\"], [1.0, \"#f0f921\"]], \"type\": \"histogram2d\"}], \"histogram2dcontour\": [{\"colorbar\": {\"outlinewidth\": 0, \"ticks\": \"\"}, \"colorscale\": [[0.0, \"#0d0887\"], [0.1111111111111111, \"#46039f\"], [0.2222222222222222, \"#7201a8\"], [0.3333333333333333, \"#9c179e\"], [0.4444444444444444, \"#bd3786\"], [0.5555555555555556, \"#d8576b\"], [0.6666666666666666, \"#ed7953\"], [0.7777777777777778, \"#fb9f3a\"], [0.8888888888888888, \"#fdca26\"], [1.0, \"#f0f921\"]], \"type\": \"histogram2dcontour\"}], \"mesh3d\": [{\"colorbar\": {\"outlinewidth\": 0, \"ticks\": \"\"}, \"type\": \"mesh3d\"}], \"parcoords\": [{\"line\": {\"colorbar\": {\"outlinewidth\": 0, \"ticks\": \"\"}}, \"type\": \"parcoords\"}], \"pie\": [{\"automargin\": true, \"type\": \"pie\"}], \"scatter\": [{\"marker\": {\"colorbar\": {\"outlinewidth\": 0, \"ticks\": \"\"}}, \"type\": \"scatter\"}], \"scatter3d\": [{\"line\": {\"colorbar\": {\"outlinewidth\": 0, \"ticks\": \"\"}}, \"marker\": {\"colorbar\": {\"outlinewidth\": 0, \"ticks\": \"\"}}, \"type\": \"scatter3d\"}], \"scattercarpet\": [{\"marker\": {\"colorbar\": {\"outlinewidth\": 0, \"ticks\": \"\"}}, \"type\": \"scattercarpet\"}], \"scattergeo\": [{\"marker\": {\"colorbar\": {\"outlinewidth\": 0, \"ticks\": \"\"}}, \"type\": \"scattergeo\"}], \"scattergl\": [{\"marker\": {\"colorbar\": {\"outlinewidth\": 0, \"ticks\": \"\"}}, \"type\": \"scattergl\"}], \"scattermapbox\": [{\"marker\": {\"colorbar\": {\"outlinewidth\": 0, \"ticks\": \"\"}}, \"type\": \"scattermapbox\"}], \"scatterpolar\": [{\"marker\": {\"colorbar\": {\"outlinewidth\": 0, \"ticks\": \"\"}}, \"type\": \"scatterpolar\"}], \"scatterpolargl\": [{\"marker\": {\"colorbar\": {\"outlinewidth\": 0, \"ticks\": \"\"}}, \"type\": \"scatterpolargl\"}], \"scatterternary\": [{\"marker\": {\"colorbar\": {\"outlinewidth\": 0, \"ticks\": \"\"}}, \"type\": \"scatterternary\"}], \"surface\": [{\"colorbar\": {\"outlinewidth\": 0, \"ticks\": \"\"}, \"colorscale\": [[0.0, \"#0d0887\"], [0.1111111111111111, \"#46039f\"], [0.2222222222222222, \"#7201a8\"], [0.3333333333333333, \"#9c179e\"], [0.4444444444444444, \"#bd3786\"], [0.5555555555555556, \"#d8576b\"], [0.6666666666666666, \"#ed7953\"], [0.7777777777777778, \"#fb9f3a\"], [0.8888888888888888, \"#fdca26\"], [1.0, \"#f0f921\"]], \"type\": \"surface\"}], \"table\": [{\"cells\": {\"fill\": {\"color\": \"#EBF0F8\"}, \"line\": {\"color\": \"white\"}}, \"header\": {\"fill\": {\"color\": \"#C8D4E3\"}, \"line\": {\"color\": \"white\"}}, \"type\": \"table\"}]}, \"layout\": {\"annotationdefaults\": {\"arrowcolor\": \"#2a3f5f\", \"arrowhead\": 0, \"arrowwidth\": 1}, \"coloraxis\": {\"colorbar\": {\"outlinewidth\": 0, \"ticks\": \"\"}}, \"colorscale\": {\"diverging\": [[0, \"#8e0152\"], [0.1, \"#c51b7d\"], [0.2, \"#de77ae\"], [0.3, \"#f1b6da\"], [0.4, \"#fde0ef\"], [0.5, \"#f7f7f7\"], [0.6, \"#e6f5d0\"], [0.7, \"#b8e186\"], [0.8, \"#7fbc41\"], [0.9, \"#4d9221\"], [1, \"#276419\"]], \"sequential\": [[0.0, \"#0d0887\"], [0.1111111111111111, \"#46039f\"], [0.2222222222222222, \"#7201a8\"], [0.3333333333333333, \"#9c179e\"], [0.4444444444444444, \"#bd3786\"], [0.5555555555555556, \"#d8576b\"], [0.6666666666666666, \"#ed7953\"], [0.7777777777777778, \"#fb9f3a\"], [0.8888888888888888, \"#fdca26\"], [1.0, \"#f0f921\"]], \"sequentialminus\": [[0.0, \"#0d0887\"], [0.1111111111111111, \"#46039f\"], [0.2222222222222222, \"#7201a8\"], [0.3333333333333333, \"#9c179e\"], [0.4444444444444444, \"#bd3786\"], [0.5555555555555556, \"#d8576b\"], [0.6666666666666666, \"#ed7953\"], [0.7777777777777778, \"#fb9f3a\"], [0.8888888888888888, \"#fdca26\"], [1.0, \"#f0f921\"]]}, \"colorway\": [\"#636efa\", \"#EF553B\", \"#00cc96\", \"#ab63fa\", \"#FFA15A\", \"#19d3f3\", \"#FF6692\", \"#B6E880\", \"#FF97FF\", \"#FECB52\"], \"font\": {\"color\": \"#2a3f5f\"}, \"geo\": {\"bgcolor\": \"white\", \"lakecolor\": \"white\", \"landcolor\": \"#E5ECF6\", \"showlakes\": true, \"showland\": true, \"subunitcolor\": \"white\"}, \"hoverlabel\": {\"align\": \"left\"}, \"hovermode\": \"closest\", \"mapbox\": {\"style\": \"light\"}, \"paper_bgcolor\": \"white\", \"plot_bgcolor\": \"#E5ECF6\", \"polar\": {\"angularaxis\": {\"gridcolor\": \"white\", \"linecolor\": \"white\", \"ticks\": \"\"}, \"bgcolor\": \"#E5ECF6\", \"radialaxis\": {\"gridcolor\": \"white\", \"linecolor\": \"white\", \"ticks\": \"\"}}, \"scene\": {\"xaxis\": {\"backgroundcolor\": \"#E5ECF6\", \"gridcolor\": \"white\", \"gridwidth\": 2, \"linecolor\": \"white\", \"showbackground\": true, \"ticks\": \"\", \"zerolinecolor\": \"white\"}, \"yaxis\": {\"backgroundcolor\": \"#E5ECF6\", \"gridcolor\": \"white\", \"gridwidth\": 2, \"linecolor\": \"white\", \"showbackground\": true, \"ticks\": \"\", \"zerolinecolor\": \"white\"}, \"zaxis\": {\"backgroundcolor\": \"#E5ECF6\", \"gridcolor\": \"white\", \"gridwidth\": 2, \"linecolor\": \"white\", \"showbackground\": true, \"ticks\": \"\", \"zerolinecolor\": \"white\"}}, \"shapedefaults\": {\"line\": {\"color\": \"#2a3f5f\"}}, \"ternary\": {\"aaxis\": {\"gridcolor\": \"white\", \"linecolor\": \"white\", \"ticks\": \"\"}, \"baxis\": {\"gridcolor\": \"white\", \"linecolor\": \"white\", \"ticks\": \"\"}, \"bgcolor\": \"#E5ECF6\", \"caxis\": {\"gridcolor\": \"white\", \"linecolor\": \"white\", \"ticks\": \"\"}}, \"title\": {\"x\": 0.05}, \"xaxis\": {\"automargin\": true, \"gridcolor\": \"white\", \"linecolor\": \"white\", \"ticks\": \"\", \"title\": {\"standoff\": 15}, \"zerolinecolor\": \"white\", \"zerolinewidth\": 2}, \"yaxis\": {\"automargin\": true, \"gridcolor\": \"white\", \"linecolor\": \"white\", \"ticks\": \"\", \"title\": {\"standoff\": 15}, \"zerolinecolor\": \"white\", \"zerolinewidth\": 2}}}, \"title\": {\"text\": \"Daily predicted Confirmed Covid cases of INDIA\"}, \"xaxis\": {\"title\": {\"text\": \"Date\"}}, \"yaxis\": {\"title\": {\"text\": \"Close\"}}},                        {\"responsive\": true}                    ).then(function(){\n",
       "                            \n",
       "var gd = document.getElementById('4a28c155-64fd-4846-8e3a-021d671f824e');\n",
       "var x = new MutationObserver(function (mutations, observer) {{\n",
       "        var display = window.getComputedStyle(gd).display;\n",
       "        if (!display || display === 'none') {{\n",
       "            console.log([gd, 'removed!']);\n",
       "            Plotly.purge(gd);\n",
       "            observer.disconnect();\n",
       "        }}\n",
       "}});\n",
       "\n",
       "// Listen for the removal of the full notebook cells\n",
       "var notebookContainer = gd.closest('#notebook-container');\n",
       "if (notebookContainer) {{\n",
       "    x.observe(notebookContainer, {childList: true});\n",
       "}}\n",
       "\n",
       "// Listen for the clearing of the current output cell\n",
       "var outputEl = gd.closest('.output');\n",
       "if (outputEl) {{\n",
       "    x.observe(outputEl, {childList: true});\n",
       "}}\n",
       "\n",
       "                        })                };                });            </script>        </div>"
      ]
     },
     "metadata": {},
     "output_type": "display_data"
    }
   ],
   "source": [
    "prediction = model.predict(test_generator)\n",
    "close_train = close_train.reshape((-1))\n",
    "close_data2 = close_data2.reshape((-1))\n",
    "prediction = prediction.reshape((-1))\n",
    "\n",
    "trace1 = go.Scatter(\n",
    "    x = date_test,\n",
    "    y = close_data2,\n",
    "    mode = 'lines',\n",
    "    name = 'Daily confirmed',\n",
    "    \n",
    "    \n",
    "    \n",
    ")\n",
    "trace2 = go.Scatter(\n",
    "    x = date_test,\n",
    "    y = prediction,\n",
    "    mode = 'lines',\n",
    "    name = 'Predicted confirm',\n",
    "    line = dict(color = 'red')\n",
    "    \n",
    ")\n",
    "\n",
    "layout = go.Layout(\n",
    "    title = \"Daily predicted Confirmed Covid cases of INDIA\",\n",
    "    xaxis = {'title' : \"Date\"},\n",
    "    yaxis = {'title' : \"Close\"}\n",
    ")\n",
    "fig = go.Figure(data=[trace1, trace2], layout=layout)\n",
    "fig.show()"
   ]
  },
  {
   "cell_type": "code",
   "execution_count": 23,
   "metadata": {},
   "outputs": [
    {
     "data": {
      "text/plain": [
       "array([4219.7803, 4666.3306, 4401.6377, 4434.0103, 4716.7935, 5190.0034,\n",
       "       6406.8296, 5392.808 , 6646.767 , 5976.4653, 5633.6978, 6574.405 ,\n",
       "       6403.021 , 5773.6606, 6681.9956, 6932.4067, 6448.723 , 7155.206 ,\n",
       "       7573.193 , 8418.6875, 7900.726 , 8610.066 , 8033.0728, 8140.664 ,\n",
       "       8183.5093, 7875.9707, 8008.317 , 7651.2676, 6447.771 , 6618.2036,\n",
       "       6552.5063, 6728.651 , 6001.221 , 5208.094 , 5002.433 , 5044.327 ,\n",
       "       4781.5386, 4267.386 , 4529.223 , 3813.2195, 3670.3997, 3529.484 ,\n",
       "       2891.5547, 2461.1907, 2087.9546, 2047.0128, 2108.9016, 2042.2522,\n",
       "       1909.9056, 1788.9847, 1489.0629, 1209.1357, 1192.9493, 1327.2002,\n",
       "       1249.1254, 1144.3907,  915.8781,  911.1174,  593.0618],\n",
       "      dtype=float32)"
      ]
     },
     "execution_count": 23,
     "metadata": {},
     "output_type": "execute_result"
    }
   ],
   "source": [
    "prediction = prediction.reshape((-1))\n",
    "prediction"
   ]
  },
  {
   "cell_type": "code",
   "execution_count": 24,
   "metadata": {},
   "outputs": [
    {
     "name": "stdout",
     "output_type": "stream",
     "text": [
      "\n",
      "Pandas DataFrame: \n"
     ]
    }
   ],
   "source": [
    "df= pd.DataFrame( columns =['Daily Confirmed','Daily Confpred'],index=date_test)\n",
    "print(\"\\nPandas DataFrame: \")\n",
    "df\n",
    "df = df.drop(df.index[-1])"
   ]
  },
  {
   "cell_type": "code",
   "execution_count": 25,
   "metadata": {},
   "outputs": [
    {
     "data": {
      "text/html": [
       "<div>\n",
       "<style scoped>\n",
       "    .dataframe tbody tr th:only-of-type {\n",
       "        vertical-align: middle;\n",
       "    }\n",
       "\n",
       "    .dataframe tbody tr th {\n",
       "        vertical-align: top;\n",
       "    }\n",
       "\n",
       "    .dataframe thead th {\n",
       "        text-align: right;\n",
       "    }\n",
       "</style>\n",
       "<table border=\"1\" class=\"dataframe\">\n",
       "  <thead>\n",
       "    <tr style=\"text-align: right;\">\n",
       "      <th></th>\n",
       "      <th>Daily Confirmed</th>\n",
       "      <th>Daily Confpred</th>\n",
       "    </tr>\n",
       "    <tr>\n",
       "      <th>Date</th>\n",
       "      <th></th>\n",
       "      <th></th>\n",
       "    </tr>\n",
       "  </thead>\n",
       "  <tbody>\n",
       "    <tr>\n",
       "      <th>17-Apr-21</th>\n",
       "      <td>4431</td>\n",
       "      <td>4219.780273</td>\n",
       "    </tr>\n",
       "    <tr>\n",
       "      <th>18-Apr-21</th>\n",
       "      <td>4900</td>\n",
       "      <td>4666.330566</td>\n",
       "    </tr>\n",
       "    <tr>\n",
       "      <th>19-Apr-21</th>\n",
       "      <td>4622</td>\n",
       "      <td>4401.637695</td>\n",
       "    </tr>\n",
       "    <tr>\n",
       "      <th>20-Apr-21</th>\n",
       "      <td>4656</td>\n",
       "      <td>4434.010254</td>\n",
       "    </tr>\n",
       "    <tr>\n",
       "      <th>21-Apr-21</th>\n",
       "      <td>4953</td>\n",
       "      <td>4716.793457</td>\n",
       "    </tr>\n",
       "    <tr>\n",
       "      <th>22-Apr-21</th>\n",
       "      <td>5450</td>\n",
       "      <td>5190.003418</td>\n",
       "    </tr>\n",
       "    <tr>\n",
       "      <th>23-Apr-21</th>\n",
       "      <td>6728</td>\n",
       "      <td>6406.829590</td>\n",
       "    </tr>\n",
       "    <tr>\n",
       "      <th>24-Apr-21</th>\n",
       "      <td>5663</td>\n",
       "      <td>5392.808105</td>\n",
       "    </tr>\n",
       "    <tr>\n",
       "      <th>25-Apr-21</th>\n",
       "      <td>6980</td>\n",
       "      <td>6646.767090</td>\n",
       "    </tr>\n",
       "    <tr>\n",
       "      <th>26-Apr-21</th>\n",
       "      <td>6276</td>\n",
       "      <td>5976.465332</td>\n",
       "    </tr>\n",
       "    <tr>\n",
       "      <th>27-Apr-21</th>\n",
       "      <td>5916</td>\n",
       "      <td>5633.697754</td>\n",
       "    </tr>\n",
       "    <tr>\n",
       "      <th>28-Apr-21</th>\n",
       "      <td>6904</td>\n",
       "      <td>6574.404785</td>\n",
       "    </tr>\n",
       "    <tr>\n",
       "      <th>29-Apr-21</th>\n",
       "      <td>6724</td>\n",
       "      <td>6403.020996</td>\n",
       "    </tr>\n",
       "    <tr>\n",
       "      <th>30-Apr-21</th>\n",
       "      <td>6063</td>\n",
       "      <td>5773.660645</td>\n",
       "    </tr>\n",
       "    <tr>\n",
       "      <th>01-May-21</th>\n",
       "      <td>7017</td>\n",
       "      <td>6681.995605</td>\n",
       "    </tr>\n",
       "    <tr>\n",
       "      <th>02-May-21</th>\n",
       "      <td>7280</td>\n",
       "      <td>6932.406738</td>\n",
       "    </tr>\n",
       "    <tr>\n",
       "      <th>03-May-21</th>\n",
       "      <td>6772</td>\n",
       "      <td>6448.723145</td>\n",
       "    </tr>\n",
       "    <tr>\n",
       "      <th>04-May-21</th>\n",
       "      <td>7514</td>\n",
       "      <td>7155.206055</td>\n",
       "    </tr>\n",
       "    <tr>\n",
       "      <th>05-May-21</th>\n",
       "      <td>7953</td>\n",
       "      <td>7573.192871</td>\n",
       "    </tr>\n",
       "    <tr>\n",
       "      <th>06-May-21</th>\n",
       "      <td>8841</td>\n",
       "      <td>8418.687500</td>\n",
       "    </tr>\n",
       "    <tr>\n",
       "      <th>07-May-21</th>\n",
       "      <td>8297</td>\n",
       "      <td>7900.726074</td>\n",
       "    </tr>\n",
       "    <tr>\n",
       "      <th>08-May-21</th>\n",
       "      <td>9042</td>\n",
       "      <td>8610.066406</td>\n",
       "    </tr>\n",
       "    <tr>\n",
       "      <th>09-May-21</th>\n",
       "      <td>8436</td>\n",
       "      <td>8033.072754</td>\n",
       "    </tr>\n",
       "    <tr>\n",
       "      <th>10-May-21</th>\n",
       "      <td>8549</td>\n",
       "      <td>8140.664062</td>\n",
       "    </tr>\n",
       "    <tr>\n",
       "      <th>11-May-21</th>\n",
       "      <td>8594</td>\n",
       "      <td>8183.509277</td>\n",
       "    </tr>\n",
       "    <tr>\n",
       "      <th>12-May-21</th>\n",
       "      <td>8271</td>\n",
       "      <td>7875.970703</td>\n",
       "    </tr>\n",
       "    <tr>\n",
       "      <th>13-May-21</th>\n",
       "      <td>8410</td>\n",
       "      <td>8008.316895</td>\n",
       "    </tr>\n",
       "    <tr>\n",
       "      <th>14-May-21</th>\n",
       "      <td>8035</td>\n",
       "      <td>7651.267578</td>\n",
       "    </tr>\n",
       "    <tr>\n",
       "      <th>15-May-21</th>\n",
       "      <td>6771</td>\n",
       "      <td>6447.770996</td>\n",
       "    </tr>\n",
       "    <tr>\n",
       "      <th>16-May-21</th>\n",
       "      <td>6950</td>\n",
       "      <td>6618.203613</td>\n",
       "    </tr>\n",
       "    <tr>\n",
       "      <th>17-May-21</th>\n",
       "      <td>6881</td>\n",
       "      <td>6552.506348</td>\n",
       "    </tr>\n",
       "    <tr>\n",
       "      <th>18-May-21</th>\n",
       "      <td>7066</td>\n",
       "      <td>6728.650879</td>\n",
       "    </tr>\n",
       "    <tr>\n",
       "      <th>19-May-21</th>\n",
       "      <td>6302</td>\n",
       "      <td>6001.221191</td>\n",
       "    </tr>\n",
       "    <tr>\n",
       "      <th>20-May-21</th>\n",
       "      <td>5469</td>\n",
       "      <td>5208.094238</td>\n",
       "    </tr>\n",
       "    <tr>\n",
       "      <th>21-May-21</th>\n",
       "      <td>5253</td>\n",
       "      <td>5002.433105</td>\n",
       "    </tr>\n",
       "    <tr>\n",
       "      <th>22-May-21</th>\n",
       "      <td>5297</td>\n",
       "      <td>5044.327148</td>\n",
       "    </tr>\n",
       "    <tr>\n",
       "      <th>23-May-21</th>\n",
       "      <td>5021</td>\n",
       "      <td>4781.538574</td>\n",
       "    </tr>\n",
       "    <tr>\n",
       "      <th>24-May-21</th>\n",
       "      <td>4481</td>\n",
       "      <td>4267.386230</td>\n",
       "    </tr>\n",
       "    <tr>\n",
       "      <th>25-May-21</th>\n",
       "      <td>4756</td>\n",
       "      <td>4529.223145</td>\n",
       "    </tr>\n",
       "    <tr>\n",
       "      <th>26-May-21</th>\n",
       "      <td>4004</td>\n",
       "      <td>3813.219482</td>\n",
       "    </tr>\n",
       "    <tr>\n",
       "      <th>27-May-21</th>\n",
       "      <td>3854</td>\n",
       "      <td>3670.399658</td>\n",
       "    </tr>\n",
       "    <tr>\n",
       "      <th>28-May-21</th>\n",
       "      <td>3706</td>\n",
       "      <td>3529.483887</td>\n",
       "    </tr>\n",
       "    <tr>\n",
       "      <th>29-May-21</th>\n",
       "      <td>3036</td>\n",
       "      <td>2891.554688</td>\n",
       "    </tr>\n",
       "    <tr>\n",
       "      <th>30-May-21</th>\n",
       "      <td>2584</td>\n",
       "      <td>2461.190674</td>\n",
       "    </tr>\n",
       "    <tr>\n",
       "      <th>31-May-21</th>\n",
       "      <td>2192</td>\n",
       "      <td>2087.954590</td>\n",
       "    </tr>\n",
       "    <tr>\n",
       "      <th>01-Jun-21</th>\n",
       "      <td>2149</td>\n",
       "      <td>2047.012817</td>\n",
       "    </tr>\n",
       "    <tr>\n",
       "      <th>02-Jun-21</th>\n",
       "      <td>2214</td>\n",
       "      <td>2108.901611</td>\n",
       "    </tr>\n",
       "    <tr>\n",
       "      <th>03-Jun-21</th>\n",
       "      <td>2144</td>\n",
       "      <td>2042.252197</td>\n",
       "    </tr>\n",
       "    <tr>\n",
       "      <th>04-Jun-21</th>\n",
       "      <td>2005</td>\n",
       "      <td>1909.905640</td>\n",
       "    </tr>\n",
       "    <tr>\n",
       "      <th>05-Jun-21</th>\n",
       "      <td>1878</td>\n",
       "      <td>1788.984741</td>\n",
       "    </tr>\n",
       "    <tr>\n",
       "      <th>06-Jun-21</th>\n",
       "      <td>1563</td>\n",
       "      <td>1489.062866</td>\n",
       "    </tr>\n",
       "    <tr>\n",
       "      <th>07-Jun-21</th>\n",
       "      <td>1269</td>\n",
       "      <td>1209.135742</td>\n",
       "    </tr>\n",
       "    <tr>\n",
       "      <th>08-Jun-21</th>\n",
       "      <td>1252</td>\n",
       "      <td>1192.949341</td>\n",
       "    </tr>\n",
       "    <tr>\n",
       "      <th>09-Jun-21</th>\n",
       "      <td>1393</td>\n",
       "      <td>1327.200195</td>\n",
       "    </tr>\n",
       "    <tr>\n",
       "      <th>10-Jun-21</th>\n",
       "      <td>1311</td>\n",
       "      <td>1249.125366</td>\n",
       "    </tr>\n",
       "    <tr>\n",
       "      <th>11-Jun-21</th>\n",
       "      <td>1201</td>\n",
       "      <td>1144.390747</td>\n",
       "    </tr>\n",
       "    <tr>\n",
       "      <th>12-Jun-21</th>\n",
       "      <td>961</td>\n",
       "      <td>915.878113</td>\n",
       "    </tr>\n",
       "    <tr>\n",
       "      <th>13-Jun-21</th>\n",
       "      <td>956</td>\n",
       "      <td>911.117371</td>\n",
       "    </tr>\n",
       "    <tr>\n",
       "      <th>14-Jun-21</th>\n",
       "      <td>622</td>\n",
       "      <td>593.061829</td>\n",
       "    </tr>\n",
       "  </tbody>\n",
       "</table>\n",
       "</div>"
      ],
      "text/plain": [
       "           Daily Confirmed  Daily Confpred\n",
       "Date                                      \n",
       "17-Apr-21             4431     4219.780273\n",
       "18-Apr-21             4900     4666.330566\n",
       "19-Apr-21             4622     4401.637695\n",
       "20-Apr-21             4656     4434.010254\n",
       "21-Apr-21             4953     4716.793457\n",
       "22-Apr-21             5450     5190.003418\n",
       "23-Apr-21             6728     6406.829590\n",
       "24-Apr-21             5663     5392.808105\n",
       "25-Apr-21             6980     6646.767090\n",
       "26-Apr-21             6276     5976.465332\n",
       "27-Apr-21             5916     5633.697754\n",
       "28-Apr-21             6904     6574.404785\n",
       "29-Apr-21             6724     6403.020996\n",
       "30-Apr-21             6063     5773.660645\n",
       "01-May-21             7017     6681.995605\n",
       "02-May-21             7280     6932.406738\n",
       "03-May-21             6772     6448.723145\n",
       "04-May-21             7514     7155.206055\n",
       "05-May-21             7953     7573.192871\n",
       "06-May-21             8841     8418.687500\n",
       "07-May-21             8297     7900.726074\n",
       "08-May-21             9042     8610.066406\n",
       "09-May-21             8436     8033.072754\n",
       "10-May-21             8549     8140.664062\n",
       "11-May-21             8594     8183.509277\n",
       "12-May-21             8271     7875.970703\n",
       "13-May-21             8410     8008.316895\n",
       "14-May-21             8035     7651.267578\n",
       "15-May-21             6771     6447.770996\n",
       "16-May-21             6950     6618.203613\n",
       "17-May-21             6881     6552.506348\n",
       "18-May-21             7066     6728.650879\n",
       "19-May-21             6302     6001.221191\n",
       "20-May-21             5469     5208.094238\n",
       "21-May-21             5253     5002.433105\n",
       "22-May-21             5297     5044.327148\n",
       "23-May-21             5021     4781.538574\n",
       "24-May-21             4481     4267.386230\n",
       "25-May-21             4756     4529.223145\n",
       "26-May-21             4004     3813.219482\n",
       "27-May-21             3854     3670.399658\n",
       "28-May-21             3706     3529.483887\n",
       "29-May-21             3036     2891.554688\n",
       "30-May-21             2584     2461.190674\n",
       "31-May-21             2192     2087.954590\n",
       "01-Jun-21             2149     2047.012817\n",
       "02-Jun-21             2214     2108.901611\n",
       "03-Jun-21             2144     2042.252197\n",
       "04-Jun-21             2005     1909.905640\n",
       "05-Jun-21             1878     1788.984741\n",
       "06-Jun-21             1563     1489.062866\n",
       "07-Jun-21             1269     1209.135742\n",
       "08-Jun-21             1252     1192.949341\n",
       "09-Jun-21             1393     1327.200195\n",
       "10-Jun-21             1311     1249.125366\n",
       "11-Jun-21             1201     1144.390747\n",
       "12-Jun-21              961      915.878113\n",
       "13-Jun-21              956      911.117371\n",
       "14-Jun-21              622      593.061829"
      ]
     },
     "execution_count": 25,
     "metadata": {},
     "output_type": "execute_result"
    }
   ],
   "source": [
    "df.loc[:,\"Daily Confirmed\"] = close_data2\n",
    "df.loc[:,\"Daily Confpred\"]=prediction\n",
    "df"
   ]
  },
  {
   "cell_type": "code",
   "execution_count": 26,
   "metadata": {},
   "outputs": [
    {
     "name": "stdout",
     "output_type": "stream",
     "text": [
      "RMSE:  268.9781070763464\n",
      "MAE:  240.7431754419359\n"
     ]
    }
   ],
   "source": [
    "from sklearn.metrics import mean_squared_error\n",
    "import math\n",
    "print('RMSE: ', math.sqrt(mean_squared_error(df['Daily Confirmed'], df['Daily Confpred'])))\n",
    "from sklearn.metrics import mean_absolute_error\n",
    "print('MAE: ', mean_absolute_error(df['Daily Confirmed'], df['Daily Confpred']))\n"
   ]
  },
  {
   "cell_type": "code",
   "execution_count": 27,
   "metadata": {},
   "outputs": [
    {
     "name": "stdout",
     "output_type": "stream",
     "text": [
      "MAPE is 4.758845170912393 %\n"
     ]
    }
   ],
   "source": [
    "MAPE = np.mean(np.abs(np.array(df[\"Daily Confirmed\"][:59]) - np.array(df[\"Daily Confpred\"][:59]))/np.array(df[\"Daily Confirmed\"][:59]))\n",
    "print(\"MAPE is \" + str(MAPE*100) + \" %\")"
   ]
  },
  {
   "cell_type": "code",
   "execution_count": 28,
   "metadata": {},
   "outputs": [
    {
     "data": {
      "text/plain": [
       "4268604.103096094"
      ]
     },
     "execution_count": 28,
     "metadata": {},
     "output_type": "execute_result"
    }
   ],
   "source": [
    "sum_errs = np.sum((np.array(df[\"Daily Confirmed\"][:59]) - np.array(df[\"Daily Confpred\"][:59]))**2)\n",
    "sum_errs"
   ]
  },
  {
   "cell_type": "code",
   "execution_count": 29,
   "metadata": {},
   "outputs": [
    {
     "data": {
      "text/plain": [
       "1192.8403222415666"
      ]
     },
     "execution_count": 29,
     "metadata": {},
     "output_type": "execute_result"
    }
   ],
   "source": [
    "stdev = np.sqrt(1/(5-2) * sum_errs)\n",
    "stdev"
   ]
  },
  {
   "cell_type": "code",
   "execution_count": 30,
   "metadata": {},
   "outputs": [
    {
     "data": {
      "text/plain": [
       "2337.9670315934704"
      ]
     },
     "execution_count": 30,
     "metadata": {},
     "output_type": "execute_result"
    }
   ],
   "source": [
    "# calculate prediction interval\n",
    "interval = 1.96 * stdev\n",
    "interval"
   ]
  },
  {
   "cell_type": "code",
   "execution_count": 31,
   "metadata": {},
   "outputs": [
    {
     "data": {
      "text/html": [
       "<div>\n",
       "<style scoped>\n",
       "    .dataframe tbody tr th:only-of-type {\n",
       "        vertical-align: middle;\n",
       "    }\n",
       "\n",
       "    .dataframe tbody tr th {\n",
       "        vertical-align: top;\n",
       "    }\n",
       "\n",
       "    .dataframe thead th {\n",
       "        text-align: right;\n",
       "    }\n",
       "</style>\n",
       "<table border=\"1\" class=\"dataframe\">\n",
       "  <thead>\n",
       "    <tr style=\"text-align: right;\">\n",
       "      <th></th>\n",
       "      <th>Daily Confirmed</th>\n",
       "      <th>Daily Confpred</th>\n",
       "      <th>confirm_min</th>\n",
       "      <th>confirm_max</th>\n",
       "    </tr>\n",
       "    <tr>\n",
       "      <th>Date</th>\n",
       "      <th></th>\n",
       "      <th></th>\n",
       "      <th></th>\n",
       "      <th></th>\n",
       "    </tr>\n",
       "  </thead>\n",
       "  <tbody>\n",
       "    <tr>\n",
       "      <th>17-Apr-21</th>\n",
       "      <td>4431</td>\n",
       "      <td>4219.780273</td>\n",
       "      <td>1881.813232</td>\n",
       "      <td>6557.747070</td>\n",
       "    </tr>\n",
       "    <tr>\n",
       "      <th>18-Apr-21</th>\n",
       "      <td>4900</td>\n",
       "      <td>4666.330566</td>\n",
       "      <td>2328.363525</td>\n",
       "      <td>7004.297852</td>\n",
       "    </tr>\n",
       "    <tr>\n",
       "      <th>19-Apr-21</th>\n",
       "      <td>4622</td>\n",
       "      <td>4401.637695</td>\n",
       "      <td>2063.670654</td>\n",
       "      <td>6739.604492</td>\n",
       "    </tr>\n",
       "    <tr>\n",
       "      <th>20-Apr-21</th>\n",
       "      <td>4656</td>\n",
       "      <td>4434.010254</td>\n",
       "      <td>2096.043213</td>\n",
       "      <td>6771.977539</td>\n",
       "    </tr>\n",
       "    <tr>\n",
       "      <th>21-Apr-21</th>\n",
       "      <td>4953</td>\n",
       "      <td>4716.793457</td>\n",
       "      <td>2378.826416</td>\n",
       "      <td>7054.760742</td>\n",
       "    </tr>\n",
       "    <tr>\n",
       "      <th>22-Apr-21</th>\n",
       "      <td>5450</td>\n",
       "      <td>5190.003418</td>\n",
       "      <td>2852.036377</td>\n",
       "      <td>7527.970703</td>\n",
       "    </tr>\n",
       "    <tr>\n",
       "      <th>23-Apr-21</th>\n",
       "      <td>6728</td>\n",
       "      <td>6406.829590</td>\n",
       "      <td>4068.862549</td>\n",
       "      <td>8744.796875</td>\n",
       "    </tr>\n",
       "    <tr>\n",
       "      <th>24-Apr-21</th>\n",
       "      <td>5663</td>\n",
       "      <td>5392.808105</td>\n",
       "      <td>3054.841064</td>\n",
       "      <td>7730.775391</td>\n",
       "    </tr>\n",
       "    <tr>\n",
       "      <th>25-Apr-21</th>\n",
       "      <td>6980</td>\n",
       "      <td>6646.767090</td>\n",
       "      <td>4308.799805</td>\n",
       "      <td>8984.734375</td>\n",
       "    </tr>\n",
       "    <tr>\n",
       "      <th>26-Apr-21</th>\n",
       "      <td>6276</td>\n",
       "      <td>5976.465332</td>\n",
       "      <td>3638.498291</td>\n",
       "      <td>8314.432617</td>\n",
       "    </tr>\n",
       "    <tr>\n",
       "      <th>27-Apr-21</th>\n",
       "      <td>5916</td>\n",
       "      <td>5633.697754</td>\n",
       "      <td>3295.730713</td>\n",
       "      <td>7971.665039</td>\n",
       "    </tr>\n",
       "    <tr>\n",
       "      <th>28-Apr-21</th>\n",
       "      <td>6904</td>\n",
       "      <td>6574.404785</td>\n",
       "      <td>4236.437500</td>\n",
       "      <td>8912.372070</td>\n",
       "    </tr>\n",
       "    <tr>\n",
       "      <th>29-Apr-21</th>\n",
       "      <td>6724</td>\n",
       "      <td>6403.020996</td>\n",
       "      <td>4065.053955</td>\n",
       "      <td>8740.988281</td>\n",
       "    </tr>\n",
       "    <tr>\n",
       "      <th>30-Apr-21</th>\n",
       "      <td>6063</td>\n",
       "      <td>5773.660645</td>\n",
       "      <td>3435.693604</td>\n",
       "      <td>8111.627930</td>\n",
       "    </tr>\n",
       "    <tr>\n",
       "      <th>01-May-21</th>\n",
       "      <td>7017</td>\n",
       "      <td>6681.995605</td>\n",
       "      <td>4344.028320</td>\n",
       "      <td>9019.962891</td>\n",
       "    </tr>\n",
       "    <tr>\n",
       "      <th>02-May-21</th>\n",
       "      <td>7280</td>\n",
       "      <td>6932.406738</td>\n",
       "      <td>4594.439453</td>\n",
       "      <td>9270.374023</td>\n",
       "    </tr>\n",
       "    <tr>\n",
       "      <th>03-May-21</th>\n",
       "      <td>6772</td>\n",
       "      <td>6448.723145</td>\n",
       "      <td>4110.755859</td>\n",
       "      <td>8786.690430</td>\n",
       "    </tr>\n",
       "    <tr>\n",
       "      <th>04-May-21</th>\n",
       "      <td>7514</td>\n",
       "      <td>7155.206055</td>\n",
       "      <td>4817.239258</td>\n",
       "      <td>9493.172852</td>\n",
       "    </tr>\n",
       "    <tr>\n",
       "      <th>05-May-21</th>\n",
       "      <td>7953</td>\n",
       "      <td>7573.192871</td>\n",
       "      <td>5235.225586</td>\n",
       "      <td>9911.160156</td>\n",
       "    </tr>\n",
       "    <tr>\n",
       "      <th>06-May-21</th>\n",
       "      <td>8841</td>\n",
       "      <td>8418.687500</td>\n",
       "      <td>6080.720703</td>\n",
       "      <td>10756.654297</td>\n",
       "    </tr>\n",
       "    <tr>\n",
       "      <th>07-May-21</th>\n",
       "      <td>8297</td>\n",
       "      <td>7900.726074</td>\n",
       "      <td>5562.758789</td>\n",
       "      <td>10238.693359</td>\n",
       "    </tr>\n",
       "    <tr>\n",
       "      <th>08-May-21</th>\n",
       "      <td>9042</td>\n",
       "      <td>8610.066406</td>\n",
       "      <td>6272.099609</td>\n",
       "      <td>10948.033203</td>\n",
       "    </tr>\n",
       "    <tr>\n",
       "      <th>09-May-21</th>\n",
       "      <td>8436</td>\n",
       "      <td>8033.072754</td>\n",
       "      <td>5695.105469</td>\n",
       "      <td>10371.040039</td>\n",
       "    </tr>\n",
       "    <tr>\n",
       "      <th>10-May-21</th>\n",
       "      <td>8549</td>\n",
       "      <td>8140.664062</td>\n",
       "      <td>5802.697266</td>\n",
       "      <td>10478.630859</td>\n",
       "    </tr>\n",
       "    <tr>\n",
       "      <th>11-May-21</th>\n",
       "      <td>8594</td>\n",
       "      <td>8183.509277</td>\n",
       "      <td>5845.541992</td>\n",
       "      <td>10521.476562</td>\n",
       "    </tr>\n",
       "    <tr>\n",
       "      <th>12-May-21</th>\n",
       "      <td>8271</td>\n",
       "      <td>7875.970703</td>\n",
       "      <td>5538.003906</td>\n",
       "      <td>10213.937500</td>\n",
       "    </tr>\n",
       "    <tr>\n",
       "      <th>13-May-21</th>\n",
       "      <td>8410</td>\n",
       "      <td>8008.316895</td>\n",
       "      <td>5670.349609</td>\n",
       "      <td>10346.284180</td>\n",
       "    </tr>\n",
       "    <tr>\n",
       "      <th>14-May-21</th>\n",
       "      <td>8035</td>\n",
       "      <td>7651.267578</td>\n",
       "      <td>5313.300781</td>\n",
       "      <td>9989.234375</td>\n",
       "    </tr>\n",
       "    <tr>\n",
       "      <th>15-May-21</th>\n",
       "      <td>6771</td>\n",
       "      <td>6447.770996</td>\n",
       "      <td>4109.803711</td>\n",
       "      <td>8785.738281</td>\n",
       "    </tr>\n",
       "    <tr>\n",
       "      <th>16-May-21</th>\n",
       "      <td>6950</td>\n",
       "      <td>6618.203613</td>\n",
       "      <td>4280.236328</td>\n",
       "      <td>8956.170898</td>\n",
       "    </tr>\n",
       "    <tr>\n",
       "      <th>17-May-21</th>\n",
       "      <td>6881</td>\n",
       "      <td>6552.506348</td>\n",
       "      <td>4214.539062</td>\n",
       "      <td>8890.473633</td>\n",
       "    </tr>\n",
       "    <tr>\n",
       "      <th>18-May-21</th>\n",
       "      <td>7066</td>\n",
       "      <td>6728.650879</td>\n",
       "      <td>4390.683594</td>\n",
       "      <td>9066.618164</td>\n",
       "    </tr>\n",
       "    <tr>\n",
       "      <th>19-May-21</th>\n",
       "      <td>6302</td>\n",
       "      <td>6001.221191</td>\n",
       "      <td>3663.254150</td>\n",
       "      <td>8339.188477</td>\n",
       "    </tr>\n",
       "    <tr>\n",
       "      <th>20-May-21</th>\n",
       "      <td>5469</td>\n",
       "      <td>5208.094238</td>\n",
       "      <td>2870.127197</td>\n",
       "      <td>7546.061523</td>\n",
       "    </tr>\n",
       "    <tr>\n",
       "      <th>21-May-21</th>\n",
       "      <td>5253</td>\n",
       "      <td>5002.433105</td>\n",
       "      <td>2664.466064</td>\n",
       "      <td>7340.400391</td>\n",
       "    </tr>\n",
       "    <tr>\n",
       "      <th>22-May-21</th>\n",
       "      <td>5297</td>\n",
       "      <td>5044.327148</td>\n",
       "      <td>2706.360107</td>\n",
       "      <td>7382.293945</td>\n",
       "    </tr>\n",
       "    <tr>\n",
       "      <th>23-May-21</th>\n",
       "      <td>5021</td>\n",
       "      <td>4781.538574</td>\n",
       "      <td>2443.571533</td>\n",
       "      <td>7119.505859</td>\n",
       "    </tr>\n",
       "    <tr>\n",
       "      <th>24-May-21</th>\n",
       "      <td>4481</td>\n",
       "      <td>4267.386230</td>\n",
       "      <td>1929.419189</td>\n",
       "      <td>6605.353516</td>\n",
       "    </tr>\n",
       "    <tr>\n",
       "      <th>25-May-21</th>\n",
       "      <td>4756</td>\n",
       "      <td>4529.223145</td>\n",
       "      <td>2191.256104</td>\n",
       "      <td>6867.190430</td>\n",
       "    </tr>\n",
       "    <tr>\n",
       "      <th>26-May-21</th>\n",
       "      <td>4004</td>\n",
       "      <td>3813.219482</td>\n",
       "      <td>1475.252441</td>\n",
       "      <td>6151.186523</td>\n",
       "    </tr>\n",
       "    <tr>\n",
       "      <th>27-May-21</th>\n",
       "      <td>3854</td>\n",
       "      <td>3670.399658</td>\n",
       "      <td>1332.432617</td>\n",
       "      <td>6008.366699</td>\n",
       "    </tr>\n",
       "    <tr>\n",
       "      <th>28-May-21</th>\n",
       "      <td>3706</td>\n",
       "      <td>3529.483887</td>\n",
       "      <td>1191.516846</td>\n",
       "      <td>5867.451172</td>\n",
       "    </tr>\n",
       "    <tr>\n",
       "      <th>29-May-21</th>\n",
       "      <td>3036</td>\n",
       "      <td>2891.554688</td>\n",
       "      <td>553.587646</td>\n",
       "      <td>5229.521484</td>\n",
       "    </tr>\n",
       "    <tr>\n",
       "      <th>30-May-21</th>\n",
       "      <td>2584</td>\n",
       "      <td>2461.190674</td>\n",
       "      <td>123.223633</td>\n",
       "      <td>4799.157715</td>\n",
       "    </tr>\n",
       "    <tr>\n",
       "      <th>31-May-21</th>\n",
       "      <td>2192</td>\n",
       "      <td>2087.954590</td>\n",
       "      <td>-250.012451</td>\n",
       "      <td>4425.921875</td>\n",
       "    </tr>\n",
       "    <tr>\n",
       "      <th>01-Jun-21</th>\n",
       "      <td>2149</td>\n",
       "      <td>2047.012817</td>\n",
       "      <td>-290.954224</td>\n",
       "      <td>4384.979980</td>\n",
       "    </tr>\n",
       "    <tr>\n",
       "      <th>02-Jun-21</th>\n",
       "      <td>2214</td>\n",
       "      <td>2108.901611</td>\n",
       "      <td>-229.065430</td>\n",
       "      <td>4446.868652</td>\n",
       "    </tr>\n",
       "    <tr>\n",
       "      <th>03-Jun-21</th>\n",
       "      <td>2144</td>\n",
       "      <td>2042.252197</td>\n",
       "      <td>-295.714844</td>\n",
       "      <td>4380.219238</td>\n",
       "    </tr>\n",
       "    <tr>\n",
       "      <th>04-Jun-21</th>\n",
       "      <td>2005</td>\n",
       "      <td>1909.905640</td>\n",
       "      <td>-428.061401</td>\n",
       "      <td>4247.872559</td>\n",
       "    </tr>\n",
       "    <tr>\n",
       "      <th>05-Jun-21</th>\n",
       "      <td>1878</td>\n",
       "      <td>1788.984741</td>\n",
       "      <td>-548.982300</td>\n",
       "      <td>4126.951660</td>\n",
       "    </tr>\n",
       "    <tr>\n",
       "      <th>06-Jun-21</th>\n",
       "      <td>1563</td>\n",
       "      <td>1489.062866</td>\n",
       "      <td>-848.904175</td>\n",
       "      <td>3827.029785</td>\n",
       "    </tr>\n",
       "    <tr>\n",
       "      <th>07-Jun-21</th>\n",
       "      <td>1269</td>\n",
       "      <td>1209.135742</td>\n",
       "      <td>-1128.831299</td>\n",
       "      <td>3547.102783</td>\n",
       "    </tr>\n",
       "    <tr>\n",
       "      <th>08-Jun-21</th>\n",
       "      <td>1252</td>\n",
       "      <td>1192.949341</td>\n",
       "      <td>-1145.017700</td>\n",
       "      <td>3530.916504</td>\n",
       "    </tr>\n",
       "    <tr>\n",
       "      <th>09-Jun-21</th>\n",
       "      <td>1393</td>\n",
       "      <td>1327.200195</td>\n",
       "      <td>-1010.766846</td>\n",
       "      <td>3665.167236</td>\n",
       "    </tr>\n",
       "    <tr>\n",
       "      <th>10-Jun-21</th>\n",
       "      <td>1311</td>\n",
       "      <td>1249.125366</td>\n",
       "      <td>-1088.841675</td>\n",
       "      <td>3587.092285</td>\n",
       "    </tr>\n",
       "    <tr>\n",
       "      <th>11-Jun-21</th>\n",
       "      <td>1201</td>\n",
       "      <td>1144.390747</td>\n",
       "      <td>-1193.576294</td>\n",
       "      <td>3482.357910</td>\n",
       "    </tr>\n",
       "    <tr>\n",
       "      <th>12-Jun-21</th>\n",
       "      <td>961</td>\n",
       "      <td>915.878113</td>\n",
       "      <td>-1422.088867</td>\n",
       "      <td>3253.845215</td>\n",
       "    </tr>\n",
       "    <tr>\n",
       "      <th>13-Jun-21</th>\n",
       "      <td>956</td>\n",
       "      <td>911.117371</td>\n",
       "      <td>-1426.849609</td>\n",
       "      <td>3249.084473</td>\n",
       "    </tr>\n",
       "    <tr>\n",
       "      <th>14-Jun-21</th>\n",
       "      <td>622</td>\n",
       "      <td>593.061829</td>\n",
       "      <td>-1744.905273</td>\n",
       "      <td>2931.028809</td>\n",
       "    </tr>\n",
       "  </tbody>\n",
       "</table>\n",
       "</div>"
      ],
      "text/plain": [
       "           Daily Confirmed  Daily Confpred  confirm_min   confirm_max\n",
       "Date                                                                 \n",
       "17-Apr-21             4431     4219.780273  1881.813232   6557.747070\n",
       "18-Apr-21             4900     4666.330566  2328.363525   7004.297852\n",
       "19-Apr-21             4622     4401.637695  2063.670654   6739.604492\n",
       "20-Apr-21             4656     4434.010254  2096.043213   6771.977539\n",
       "21-Apr-21             4953     4716.793457  2378.826416   7054.760742\n",
       "22-Apr-21             5450     5190.003418  2852.036377   7527.970703\n",
       "23-Apr-21             6728     6406.829590  4068.862549   8744.796875\n",
       "24-Apr-21             5663     5392.808105  3054.841064   7730.775391\n",
       "25-Apr-21             6980     6646.767090  4308.799805   8984.734375\n",
       "26-Apr-21             6276     5976.465332  3638.498291   8314.432617\n",
       "27-Apr-21             5916     5633.697754  3295.730713   7971.665039\n",
       "28-Apr-21             6904     6574.404785  4236.437500   8912.372070\n",
       "29-Apr-21             6724     6403.020996  4065.053955   8740.988281\n",
       "30-Apr-21             6063     5773.660645  3435.693604   8111.627930\n",
       "01-May-21             7017     6681.995605  4344.028320   9019.962891\n",
       "02-May-21             7280     6932.406738  4594.439453   9270.374023\n",
       "03-May-21             6772     6448.723145  4110.755859   8786.690430\n",
       "04-May-21             7514     7155.206055  4817.239258   9493.172852\n",
       "05-May-21             7953     7573.192871  5235.225586   9911.160156\n",
       "06-May-21             8841     8418.687500  6080.720703  10756.654297\n",
       "07-May-21             8297     7900.726074  5562.758789  10238.693359\n",
       "08-May-21             9042     8610.066406  6272.099609  10948.033203\n",
       "09-May-21             8436     8033.072754  5695.105469  10371.040039\n",
       "10-May-21             8549     8140.664062  5802.697266  10478.630859\n",
       "11-May-21             8594     8183.509277  5845.541992  10521.476562\n",
       "12-May-21             8271     7875.970703  5538.003906  10213.937500\n",
       "13-May-21             8410     8008.316895  5670.349609  10346.284180\n",
       "14-May-21             8035     7651.267578  5313.300781   9989.234375\n",
       "15-May-21             6771     6447.770996  4109.803711   8785.738281\n",
       "16-May-21             6950     6618.203613  4280.236328   8956.170898\n",
       "17-May-21             6881     6552.506348  4214.539062   8890.473633\n",
       "18-May-21             7066     6728.650879  4390.683594   9066.618164\n",
       "19-May-21             6302     6001.221191  3663.254150   8339.188477\n",
       "20-May-21             5469     5208.094238  2870.127197   7546.061523\n",
       "21-May-21             5253     5002.433105  2664.466064   7340.400391\n",
       "22-May-21             5297     5044.327148  2706.360107   7382.293945\n",
       "23-May-21             5021     4781.538574  2443.571533   7119.505859\n",
       "24-May-21             4481     4267.386230  1929.419189   6605.353516\n",
       "25-May-21             4756     4529.223145  2191.256104   6867.190430\n",
       "26-May-21             4004     3813.219482  1475.252441   6151.186523\n",
       "27-May-21             3854     3670.399658  1332.432617   6008.366699\n",
       "28-May-21             3706     3529.483887  1191.516846   5867.451172\n",
       "29-May-21             3036     2891.554688   553.587646   5229.521484\n",
       "30-May-21             2584     2461.190674   123.223633   4799.157715\n",
       "31-May-21             2192     2087.954590  -250.012451   4425.921875\n",
       "01-Jun-21             2149     2047.012817  -290.954224   4384.979980\n",
       "02-Jun-21             2214     2108.901611  -229.065430   4446.868652\n",
       "03-Jun-21             2144     2042.252197  -295.714844   4380.219238\n",
       "04-Jun-21             2005     1909.905640  -428.061401   4247.872559\n",
       "05-Jun-21             1878     1788.984741  -548.982300   4126.951660\n",
       "06-Jun-21             1563     1489.062866  -848.904175   3827.029785\n",
       "07-Jun-21             1269     1209.135742 -1128.831299   3547.102783\n",
       "08-Jun-21             1252     1192.949341 -1145.017700   3530.916504\n",
       "09-Jun-21             1393     1327.200195 -1010.766846   3665.167236\n",
       "10-Jun-21             1311     1249.125366 -1088.841675   3587.092285\n",
       "11-Jun-21             1201     1144.390747 -1193.576294   3482.357910\n",
       "12-Jun-21              961      915.878113 -1422.088867   3253.845215\n",
       "13-Jun-21              956      911.117371 -1426.849609   3249.084473\n",
       "14-Jun-21              622      593.061829 -1744.905273   2931.028809"
      ]
     },
     "execution_count": 31,
     "metadata": {},
     "output_type": "execute_result"
    }
   ],
   "source": [
    "df[\"confirm_min\"] = df[\"Daily Confpred\"] - interval\n",
    "df[\"confirm_max\"] = df[\"Daily Confpred\"] + interval\n",
    "df"
   ]
  },
  {
   "cell_type": "code",
   "execution_count": 32,
   "metadata": {},
   "outputs": [
    {
     "data": {
      "text/plain": [
       "<matplotlib.axes._subplots.AxesSubplot at 0x3e96541888>"
      ]
     },
     "execution_count": 32,
     "metadata": {},
     "output_type": "execute_result"
    },
    {
     "data": {
      "image/png": "[encoded data removed]",
      "text/plain": [
       "<Figure size 432x288 with 1 Axes>"
      ]
     },
     "metadata": {
      "needs_background": "light"
     },
     "output_type": "display_data"
    }
   ],
   "source": [
    "df.plot()"
   ]
  },
  {
   "cell_type": "code",
   "execution_count": 33,
   "metadata": {},
   "outputs": [
    {
     "data": {
      "text/html": [
       "<div>\n",
       "<style scoped>\n",
       "    .dataframe tbody tr th:only-of-type {\n",
       "        vertical-align: middle;\n",
       "    }\n",
       "\n",
       "    .dataframe tbody tr th {\n",
       "        vertical-align: top;\n",
       "    }\n",
       "\n",
       "    .dataframe thead th {\n",
       "        text-align: right;\n",
       "    }\n",
       "</style>\n",
       "<table border=\"1\" class=\"dataframe\">\n",
       "  <thead>\n",
       "    <tr style=\"text-align: right;\">\n",
       "      <th></th>\n",
       "      <th>Daily Confirmed</th>\n",
       "      <th>Daily Confpred</th>\n",
       "      <th>confirm_min</th>\n",
       "      <th>confirm_max</th>\n",
       "      <th>Model Accuracy</th>\n",
       "    </tr>\n",
       "    <tr>\n",
       "      <th>Date</th>\n",
       "      <th></th>\n",
       "      <th></th>\n",
       "      <th></th>\n",
       "      <th></th>\n",
       "      <th></th>\n",
       "    </tr>\n",
       "  </thead>\n",
       "  <tbody>\n",
       "    <tr>\n",
       "      <th>17-Apr-21</th>\n",
       "      <td>4431</td>\n",
       "      <td>4219.780273</td>\n",
       "      <td>1881.813232</td>\n",
       "      <td>6557.747070</td>\n",
       "      <td>0.95</td>\n",
       "    </tr>\n",
       "    <tr>\n",
       "      <th>18-Apr-21</th>\n",
       "      <td>4900</td>\n",
       "      <td>4666.330566</td>\n",
       "      <td>2328.363525</td>\n",
       "      <td>7004.297852</td>\n",
       "      <td>0.95</td>\n",
       "    </tr>\n",
       "    <tr>\n",
       "      <th>19-Apr-21</th>\n",
       "      <td>4622</td>\n",
       "      <td>4401.637695</td>\n",
       "      <td>2063.670654</td>\n",
       "      <td>6739.604492</td>\n",
       "      <td>0.95</td>\n",
       "    </tr>\n",
       "    <tr>\n",
       "      <th>20-Apr-21</th>\n",
       "      <td>4656</td>\n",
       "      <td>4434.010254</td>\n",
       "      <td>2096.043213</td>\n",
       "      <td>6771.977539</td>\n",
       "      <td>0.95</td>\n",
       "    </tr>\n",
       "    <tr>\n",
       "      <th>21-Apr-21</th>\n",
       "      <td>4953</td>\n",
       "      <td>4716.793457</td>\n",
       "      <td>2378.826416</td>\n",
       "      <td>7054.760742</td>\n",
       "      <td>0.95</td>\n",
       "    </tr>\n",
       "    <tr>\n",
       "      <th>22-Apr-21</th>\n",
       "      <td>5450</td>\n",
       "      <td>5190.003418</td>\n",
       "      <td>2852.036377</td>\n",
       "      <td>7527.970703</td>\n",
       "      <td>0.95</td>\n",
       "    </tr>\n",
       "    <tr>\n",
       "      <th>23-Apr-21</th>\n",
       "      <td>6728</td>\n",
       "      <td>6406.829590</td>\n",
       "      <td>4068.862549</td>\n",
       "      <td>8744.796875</td>\n",
       "      <td>0.95</td>\n",
       "    </tr>\n",
       "    <tr>\n",
       "      <th>24-Apr-21</th>\n",
       "      <td>5663</td>\n",
       "      <td>5392.808105</td>\n",
       "      <td>3054.841064</td>\n",
       "      <td>7730.775391</td>\n",
       "      <td>0.95</td>\n",
       "    </tr>\n",
       "    <tr>\n",
       "      <th>25-Apr-21</th>\n",
       "      <td>6980</td>\n",
       "      <td>6646.767090</td>\n",
       "      <td>4308.799805</td>\n",
       "      <td>8984.734375</td>\n",
       "      <td>0.95</td>\n",
       "    </tr>\n",
       "    <tr>\n",
       "      <th>26-Apr-21</th>\n",
       "      <td>6276</td>\n",
       "      <td>5976.465332</td>\n",
       "      <td>3638.498291</td>\n",
       "      <td>8314.432617</td>\n",
       "      <td>0.95</td>\n",
       "    </tr>\n",
       "    <tr>\n",
       "      <th>27-Apr-21</th>\n",
       "      <td>5916</td>\n",
       "      <td>5633.697754</td>\n",
       "      <td>3295.730713</td>\n",
       "      <td>7971.665039</td>\n",
       "      <td>0.95</td>\n",
       "    </tr>\n",
       "    <tr>\n",
       "      <th>28-Apr-21</th>\n",
       "      <td>6904</td>\n",
       "      <td>6574.404785</td>\n",
       "      <td>4236.437500</td>\n",
       "      <td>8912.372070</td>\n",
       "      <td>0.95</td>\n",
       "    </tr>\n",
       "    <tr>\n",
       "      <th>29-Apr-21</th>\n",
       "      <td>6724</td>\n",
       "      <td>6403.020996</td>\n",
       "      <td>4065.053955</td>\n",
       "      <td>8740.988281</td>\n",
       "      <td>0.95</td>\n",
       "    </tr>\n",
       "    <tr>\n",
       "      <th>30-Apr-21</th>\n",
       "      <td>6063</td>\n",
       "      <td>5773.660645</td>\n",
       "      <td>3435.693604</td>\n",
       "      <td>8111.627930</td>\n",
       "      <td>0.95</td>\n",
       "    </tr>\n",
       "    <tr>\n",
       "      <th>01-May-21</th>\n",
       "      <td>7017</td>\n",
       "      <td>6681.995605</td>\n",
       "      <td>4344.028320</td>\n",
       "      <td>9019.962891</td>\n",
       "      <td>0.95</td>\n",
       "    </tr>\n",
       "    <tr>\n",
       "      <th>02-May-21</th>\n",
       "      <td>7280</td>\n",
       "      <td>6932.406738</td>\n",
       "      <td>4594.439453</td>\n",
       "      <td>9270.374023</td>\n",
       "      <td>0.95</td>\n",
       "    </tr>\n",
       "    <tr>\n",
       "      <th>03-May-21</th>\n",
       "      <td>6772</td>\n",
       "      <td>6448.723145</td>\n",
       "      <td>4110.755859</td>\n",
       "      <td>8786.690430</td>\n",
       "      <td>0.95</td>\n",
       "    </tr>\n",
       "    <tr>\n",
       "      <th>04-May-21</th>\n",
       "      <td>7514</td>\n",
       "      <td>7155.206055</td>\n",
       "      <td>4817.239258</td>\n",
       "      <td>9493.172852</td>\n",
       "      <td>0.95</td>\n",
       "    </tr>\n",
       "    <tr>\n",
       "      <th>05-May-21</th>\n",
       "      <td>7953</td>\n",
       "      <td>7573.192871</td>\n",
       "      <td>5235.225586</td>\n",
       "      <td>9911.160156</td>\n",
       "      <td>0.95</td>\n",
       "    </tr>\n",
       "    <tr>\n",
       "      <th>06-May-21</th>\n",
       "      <td>8841</td>\n",
       "      <td>8418.687500</td>\n",
       "      <td>6080.720703</td>\n",
       "      <td>10756.654297</td>\n",
       "      <td>0.95</td>\n",
       "    </tr>\n",
       "    <tr>\n",
       "      <th>07-May-21</th>\n",
       "      <td>8297</td>\n",
       "      <td>7900.726074</td>\n",
       "      <td>5562.758789</td>\n",
       "      <td>10238.693359</td>\n",
       "      <td>0.95</td>\n",
       "    </tr>\n",
       "    <tr>\n",
       "      <th>08-May-21</th>\n",
       "      <td>9042</td>\n",
       "      <td>8610.066406</td>\n",
       "      <td>6272.099609</td>\n",
       "      <td>10948.033203</td>\n",
       "      <td>0.95</td>\n",
       "    </tr>\n",
       "    <tr>\n",
       "      <th>09-May-21</th>\n",
       "      <td>8436</td>\n",
       "      <td>8033.072754</td>\n",
       "      <td>5695.105469</td>\n",
       "      <td>10371.040039</td>\n",
       "      <td>0.95</td>\n",
       "    </tr>\n",
       "    <tr>\n",
       "      <th>10-May-21</th>\n",
       "      <td>8549</td>\n",
       "      <td>8140.664062</td>\n",
       "      <td>5802.697266</td>\n",
       "      <td>10478.630859</td>\n",
       "      <td>0.95</td>\n",
       "    </tr>\n",
       "    <tr>\n",
       "      <th>11-May-21</th>\n",
       "      <td>8594</td>\n",
       "      <td>8183.509277</td>\n",
       "      <td>5845.541992</td>\n",
       "      <td>10521.476562</td>\n",
       "      <td>0.95</td>\n",
       "    </tr>\n",
       "    <tr>\n",
       "      <th>12-May-21</th>\n",
       "      <td>8271</td>\n",
       "      <td>7875.970703</td>\n",
       "      <td>5538.003906</td>\n",
       "      <td>10213.937500</td>\n",
       "      <td>0.95</td>\n",
       "    </tr>\n",
       "    <tr>\n",
       "      <th>13-May-21</th>\n",
       "      <td>8410</td>\n",
       "      <td>8008.316895</td>\n",
       "      <td>5670.349609</td>\n",
       "      <td>10346.284180</td>\n",
       "      <td>0.95</td>\n",
       "    </tr>\n",
       "    <tr>\n",
       "      <th>14-May-21</th>\n",
       "      <td>8035</td>\n",
       "      <td>7651.267578</td>\n",
       "      <td>5313.300781</td>\n",
       "      <td>9989.234375</td>\n",
       "      <td>0.95</td>\n",
       "    </tr>\n",
       "    <tr>\n",
       "      <th>15-May-21</th>\n",
       "      <td>6771</td>\n",
       "      <td>6447.770996</td>\n",
       "      <td>4109.803711</td>\n",
       "      <td>8785.738281</td>\n",
       "      <td>0.95</td>\n",
       "    </tr>\n",
       "    <tr>\n",
       "      <th>16-May-21</th>\n",
       "      <td>6950</td>\n",
       "      <td>6618.203613</td>\n",
       "      <td>4280.236328</td>\n",
       "      <td>8956.170898</td>\n",
       "      <td>0.95</td>\n",
       "    </tr>\n",
       "    <tr>\n",
       "      <th>17-May-21</th>\n",
       "      <td>6881</td>\n",
       "      <td>6552.506348</td>\n",
       "      <td>4214.539062</td>\n",
       "      <td>8890.473633</td>\n",
       "      <td>0.95</td>\n",
       "    </tr>\n",
       "    <tr>\n",
       "      <th>18-May-21</th>\n",
       "      <td>7066</td>\n",
       "      <td>6728.650879</td>\n",
       "      <td>4390.683594</td>\n",
       "      <td>9066.618164</td>\n",
       "      <td>0.95</td>\n",
       "    </tr>\n",
       "    <tr>\n",
       "      <th>19-May-21</th>\n",
       "      <td>6302</td>\n",
       "      <td>6001.221191</td>\n",
       "      <td>3663.254150</td>\n",
       "      <td>8339.188477</td>\n",
       "      <td>0.95</td>\n",
       "    </tr>\n",
       "    <tr>\n",
       "      <th>20-May-21</th>\n",
       "      <td>5469</td>\n",
       "      <td>5208.094238</td>\n",
       "      <td>2870.127197</td>\n",
       "      <td>7546.061523</td>\n",
       "      <td>0.95</td>\n",
       "    </tr>\n",
       "    <tr>\n",
       "      <th>21-May-21</th>\n",
       "      <td>5253</td>\n",
       "      <td>5002.433105</td>\n",
       "      <td>2664.466064</td>\n",
       "      <td>7340.400391</td>\n",
       "      <td>0.95</td>\n",
       "    </tr>\n",
       "    <tr>\n",
       "      <th>22-May-21</th>\n",
       "      <td>5297</td>\n",
       "      <td>5044.327148</td>\n",
       "      <td>2706.360107</td>\n",
       "      <td>7382.293945</td>\n",
       "      <td>0.95</td>\n",
       "    </tr>\n",
       "    <tr>\n",
       "      <th>23-May-21</th>\n",
       "      <td>5021</td>\n",
       "      <td>4781.538574</td>\n",
       "      <td>2443.571533</td>\n",
       "      <td>7119.505859</td>\n",
       "      <td>0.95</td>\n",
       "    </tr>\n",
       "    <tr>\n",
       "      <th>24-May-21</th>\n",
       "      <td>4481</td>\n",
       "      <td>4267.386230</td>\n",
       "      <td>1929.419189</td>\n",
       "      <td>6605.353516</td>\n",
       "      <td>0.95</td>\n",
       "    </tr>\n",
       "    <tr>\n",
       "      <th>25-May-21</th>\n",
       "      <td>4756</td>\n",
       "      <td>4529.223145</td>\n",
       "      <td>2191.256104</td>\n",
       "      <td>6867.190430</td>\n",
       "      <td>0.95</td>\n",
       "    </tr>\n",
       "    <tr>\n",
       "      <th>26-May-21</th>\n",
       "      <td>4004</td>\n",
       "      <td>3813.219482</td>\n",
       "      <td>1475.252441</td>\n",
       "      <td>6151.186523</td>\n",
       "      <td>0.95</td>\n",
       "    </tr>\n",
       "    <tr>\n",
       "      <th>27-May-21</th>\n",
       "      <td>3854</td>\n",
       "      <td>3670.399658</td>\n",
       "      <td>1332.432617</td>\n",
       "      <td>6008.366699</td>\n",
       "      <td>0.95</td>\n",
       "    </tr>\n",
       "    <tr>\n",
       "      <th>28-May-21</th>\n",
       "      <td>3706</td>\n",
       "      <td>3529.483887</td>\n",
       "      <td>1191.516846</td>\n",
       "      <td>5867.451172</td>\n",
       "      <td>0.95</td>\n",
       "    </tr>\n",
       "    <tr>\n",
       "      <th>29-May-21</th>\n",
       "      <td>3036</td>\n",
       "      <td>2891.554688</td>\n",
       "      <td>553.587646</td>\n",
       "      <td>5229.521484</td>\n",
       "      <td>0.95</td>\n",
       "    </tr>\n",
       "    <tr>\n",
       "      <th>30-May-21</th>\n",
       "      <td>2584</td>\n",
       "      <td>2461.190674</td>\n",
       "      <td>123.223633</td>\n",
       "      <td>4799.157715</td>\n",
       "      <td>0.95</td>\n",
       "    </tr>\n",
       "    <tr>\n",
       "      <th>31-May-21</th>\n",
       "      <td>2192</td>\n",
       "      <td>2087.954590</td>\n",
       "      <td>-250.012451</td>\n",
       "      <td>4425.921875</td>\n",
       "      <td>0.95</td>\n",
       "    </tr>\n",
       "    <tr>\n",
       "      <th>01-Jun-21</th>\n",
       "      <td>2149</td>\n",
       "      <td>2047.012817</td>\n",
       "      <td>-290.954224</td>\n",
       "      <td>4384.979980</td>\n",
       "      <td>0.95</td>\n",
       "    </tr>\n",
       "    <tr>\n",
       "      <th>02-Jun-21</th>\n",
       "      <td>2214</td>\n",
       "      <td>2108.901611</td>\n",
       "      <td>-229.065430</td>\n",
       "      <td>4446.868652</td>\n",
       "      <td>0.95</td>\n",
       "    </tr>\n",
       "    <tr>\n",
       "      <th>03-Jun-21</th>\n",
       "      <td>2144</td>\n",
       "      <td>2042.252197</td>\n",
       "      <td>-295.714844</td>\n",
       "      <td>4380.219238</td>\n",
       "      <td>0.95</td>\n",
       "    </tr>\n",
       "    <tr>\n",
       "      <th>04-Jun-21</th>\n",
       "      <td>2005</td>\n",
       "      <td>1909.905640</td>\n",
       "      <td>-428.061401</td>\n",
       "      <td>4247.872559</td>\n",
       "      <td>0.95</td>\n",
       "    </tr>\n",
       "    <tr>\n",
       "      <th>05-Jun-21</th>\n",
       "      <td>1878</td>\n",
       "      <td>1788.984741</td>\n",
       "      <td>-548.982300</td>\n",
       "      <td>4126.951660</td>\n",
       "      <td>0.95</td>\n",
       "    </tr>\n",
       "    <tr>\n",
       "      <th>06-Jun-21</th>\n",
       "      <td>1563</td>\n",
       "      <td>1489.062866</td>\n",
       "      <td>-848.904175</td>\n",
       "      <td>3827.029785</td>\n",
       "      <td>0.95</td>\n",
       "    </tr>\n",
       "    <tr>\n",
       "      <th>07-Jun-21</th>\n",
       "      <td>1269</td>\n",
       "      <td>1209.135742</td>\n",
       "      <td>-1128.831299</td>\n",
       "      <td>3547.102783</td>\n",
       "      <td>0.95</td>\n",
       "    </tr>\n",
       "    <tr>\n",
       "      <th>08-Jun-21</th>\n",
       "      <td>1252</td>\n",
       "      <td>1192.949341</td>\n",
       "      <td>-1145.017700</td>\n",
       "      <td>3530.916504</td>\n",
       "      <td>0.95</td>\n",
       "    </tr>\n",
       "    <tr>\n",
       "      <th>09-Jun-21</th>\n",
       "      <td>1393</td>\n",
       "      <td>1327.200195</td>\n",
       "      <td>-1010.766846</td>\n",
       "      <td>3665.167236</td>\n",
       "      <td>0.95</td>\n",
       "    </tr>\n",
       "    <tr>\n",
       "      <th>10-Jun-21</th>\n",
       "      <td>1311</td>\n",
       "      <td>1249.125366</td>\n",
       "      <td>-1088.841675</td>\n",
       "      <td>3587.092285</td>\n",
       "      <td>0.95</td>\n",
       "    </tr>\n",
       "    <tr>\n",
       "      <th>11-Jun-21</th>\n",
       "      <td>1201</td>\n",
       "      <td>1144.390747</td>\n",
       "      <td>-1193.576294</td>\n",
       "      <td>3482.357910</td>\n",
       "      <td>0.95</td>\n",
       "    </tr>\n",
       "    <tr>\n",
       "      <th>12-Jun-21</th>\n",
       "      <td>961</td>\n",
       "      <td>915.878113</td>\n",
       "      <td>-1422.088867</td>\n",
       "      <td>3253.845215</td>\n",
       "      <td>0.95</td>\n",
       "    </tr>\n",
       "    <tr>\n",
       "      <th>13-Jun-21</th>\n",
       "      <td>956</td>\n",
       "      <td>911.117371</td>\n",
       "      <td>-1426.849609</td>\n",
       "      <td>3249.084473</td>\n",
       "      <td>0.95</td>\n",
       "    </tr>\n",
       "    <tr>\n",
       "      <th>14-Jun-21</th>\n",
       "      <td>622</td>\n",
       "      <td>593.061829</td>\n",
       "      <td>-1744.905273</td>\n",
       "      <td>2931.028809</td>\n",
       "      <td>0.95</td>\n",
       "    </tr>\n",
       "  </tbody>\n",
       "</table>\n",
       "</div>"
      ],
      "text/plain": [
       "           Daily Confirmed  Daily Confpred  confirm_min   confirm_max  \\\n",
       "Date                                                                    \n",
       "17-Apr-21             4431     4219.780273  1881.813232   6557.747070   \n",
       "18-Apr-21             4900     4666.330566  2328.363525   7004.297852   \n",
       "19-Apr-21             4622     4401.637695  2063.670654   6739.604492   \n",
       "20-Apr-21             4656     4434.010254  2096.043213   6771.977539   \n",
       "21-Apr-21             4953     4716.793457  2378.826416   7054.760742   \n",
       "22-Apr-21             5450     5190.003418  2852.036377   7527.970703   \n",
       "23-Apr-21             6728     6406.829590  4068.862549   8744.796875   \n",
       "24-Apr-21             5663     5392.808105  3054.841064   7730.775391   \n",
       "25-Apr-21             6980     6646.767090  4308.799805   8984.734375   \n",
       "26-Apr-21             6276     5976.465332  3638.498291   8314.432617   \n",
       "27-Apr-21             5916     5633.697754  3295.730713   7971.665039   \n",
       "28-Apr-21             6904     6574.404785  4236.437500   8912.372070   \n",
       "29-Apr-21             6724     6403.020996  4065.053955   8740.988281   \n",
       "30-Apr-21             6063     5773.660645  3435.693604   8111.627930   \n",
       "01-May-21             7017     6681.995605  4344.028320   9019.962891   \n",
       "02-May-21             7280     6932.406738  4594.439453   9270.374023   \n",
       "03-May-21             6772     6448.723145  4110.755859   8786.690430   \n",
       "04-May-21             7514     7155.206055  4817.239258   9493.172852   \n",
       "05-May-21             7953     7573.192871  5235.225586   9911.160156   \n",
       "06-May-21             8841     8418.687500  6080.720703  10756.654297   \n",
       "07-May-21             8297     7900.726074  5562.758789  10238.693359   \n",
       "08-May-21             9042     8610.066406  6272.099609  10948.033203   \n",
       "09-May-21             8436     8033.072754  5695.105469  10371.040039   \n",
       "10-May-21             8549     8140.664062  5802.697266  10478.630859   \n",
       "11-May-21             8594     8183.509277  5845.541992  10521.476562   \n",
       "12-May-21             8271     7875.970703  5538.003906  10213.937500   \n",
       "13-May-21             8410     8008.316895  5670.349609  10346.284180   \n",
       "14-May-21             8035     7651.267578  5313.300781   9989.234375   \n",
       "15-May-21             6771     6447.770996  4109.803711   8785.738281   \n",
       "16-May-21             6950     6618.203613  4280.236328   8956.170898   \n",
       "17-May-21             6881     6552.506348  4214.539062   8890.473633   \n",
       "18-May-21             7066     6728.650879  4390.683594   9066.618164   \n",
       "19-May-21             6302     6001.221191  3663.254150   8339.188477   \n",
       "20-May-21             5469     5208.094238  2870.127197   7546.061523   \n",
       "21-May-21             5253     5002.433105  2664.466064   7340.400391   \n",
       "22-May-21             5297     5044.327148  2706.360107   7382.293945   \n",
       "23-May-21             5021     4781.538574  2443.571533   7119.505859   \n",
       "24-May-21             4481     4267.386230  1929.419189   6605.353516   \n",
       "25-May-21             4756     4529.223145  2191.256104   6867.190430   \n",
       "26-May-21             4004     3813.219482  1475.252441   6151.186523   \n",
       "27-May-21             3854     3670.399658  1332.432617   6008.366699   \n",
       "28-May-21             3706     3529.483887  1191.516846   5867.451172   \n",
       "29-May-21             3036     2891.554688   553.587646   5229.521484   \n",
       "30-May-21             2584     2461.190674   123.223633   4799.157715   \n",
       "31-May-21             2192     2087.954590  -250.012451   4425.921875   \n",
       "01-Jun-21             2149     2047.012817  -290.954224   4384.979980   \n",
       "02-Jun-21             2214     2108.901611  -229.065430   4446.868652   \n",
       "03-Jun-21             2144     2042.252197  -295.714844   4380.219238   \n",
       "04-Jun-21             2005     1909.905640  -428.061401   4247.872559   \n",
       "05-Jun-21             1878     1788.984741  -548.982300   4126.951660   \n",
       "06-Jun-21             1563     1489.062866  -848.904175   3827.029785   \n",
       "07-Jun-21             1269     1209.135742 -1128.831299   3547.102783   \n",
       "08-Jun-21             1252     1192.949341 -1145.017700   3530.916504   \n",
       "09-Jun-21             1393     1327.200195 -1010.766846   3665.167236   \n",
       "10-Jun-21             1311     1249.125366 -1088.841675   3587.092285   \n",
       "11-Jun-21             1201     1144.390747 -1193.576294   3482.357910   \n",
       "12-Jun-21              961      915.878113 -1422.088867   3253.845215   \n",
       "13-Jun-21              956      911.117371 -1426.849609   3249.084473   \n",
       "14-Jun-21              622      593.061829 -1744.905273   2931.028809   \n",
       "\n",
       "           Model Accuracy  \n",
       "Date                       \n",
       "17-Apr-21            0.95  \n",
       "18-Apr-21            0.95  \n",
       "19-Apr-21            0.95  \n",
       "20-Apr-21            0.95  \n",
       "21-Apr-21            0.95  \n",
       "22-Apr-21            0.95  \n",
       "23-Apr-21            0.95  \n",
       "24-Apr-21            0.95  \n",
       "25-Apr-21            0.95  \n",
       "26-Apr-21            0.95  \n",
       "27-Apr-21            0.95  \n",
       "28-Apr-21            0.95  \n",
       "29-Apr-21            0.95  \n",
       "30-Apr-21            0.95  \n",
       "01-May-21            0.95  \n",
       "02-May-21            0.95  \n",
       "03-May-21            0.95  \n",
       "04-May-21            0.95  \n",
       "05-May-21            0.95  \n",
       "06-May-21            0.95  \n",
       "07-May-21            0.95  \n",
       "08-May-21            0.95  \n",
       "09-May-21            0.95  \n",
       "10-May-21            0.95  \n",
       "11-May-21            0.95  \n",
       "12-May-21            0.95  \n",
       "13-May-21            0.95  \n",
       "14-May-21            0.95  \n",
       "15-May-21            0.95  \n",
       "16-May-21            0.95  \n",
       "17-May-21            0.95  \n",
       "18-May-21            0.95  \n",
       "19-May-21            0.95  \n",
       "20-May-21            0.95  \n",
       "21-May-21            0.95  \n",
       "22-May-21            0.95  \n",
       "23-May-21            0.95  \n",
       "24-May-21            0.95  \n",
       "25-May-21            0.95  \n",
       "26-May-21            0.95  \n",
       "27-May-21            0.95  \n",
       "28-May-21            0.95  \n",
       "29-May-21            0.95  \n",
       "30-May-21            0.95  \n",
       "31-May-21            0.95  \n",
       "01-Jun-21            0.95  \n",
       "02-Jun-21            0.95  \n",
       "03-Jun-21            0.95  \n",
       "04-Jun-21            0.95  \n",
       "05-Jun-21            0.95  \n",
       "06-Jun-21            0.95  \n",
       "07-Jun-21            0.95  \n",
       "08-Jun-21            0.95  \n",
       "09-Jun-21            0.95  \n",
       "10-Jun-21            0.95  \n",
       "11-Jun-21            0.95  \n",
       "12-Jun-21            0.95  \n",
       "13-Jun-21            0.95  \n",
       "14-Jun-21            0.95  "
      ]
     },
     "execution_count": 33,
     "metadata": {},
     "output_type": "execute_result"
    }
   ],
   "source": [
    "df[\"Model Accuracy\"] = round((1-MAPE),2)\n",
    "df"
   ]
  },
  {
   "cell_type": "code",
   "execution_count": null,
   "metadata": {},
   "outputs": [],
   "source": []
  }
 ],
 "metadata": {
  "kernelspec": {
   "display_name": "Python 3",
   "language": "python",
   "name": "python3"
  },
  "language_info": {
   "codemirror_mode": {
    "name": "ipython",
    "version": 3
   },
   "file_extension": ".py",
   "mimetype": "text/x-python",
   "name": "python",
   "nbconvert_exporter": "python",
   "pygments_lexer": "ipython3",
   "version": "3.7.0"
  }
 },
 "nbformat": 4,
 "nbformat_minor": 4
}
