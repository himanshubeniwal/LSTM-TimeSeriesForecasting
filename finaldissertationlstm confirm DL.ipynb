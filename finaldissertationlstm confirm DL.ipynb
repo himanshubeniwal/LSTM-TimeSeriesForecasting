{
 "cells": [
  {
   "cell_type": "code",
   "execution_count": 1,
   "metadata": {},
   "outputs": [],
   "source": [
    "import re\n",
    "import numpy as np\n",
    "import pandas as pd\n",
    "\n",
    "import warnings\n",
    "warnings.filterwarnings(\"ignore\")\n",
    "\n",
    "import matplotlib.pyplot as plt\n",
    "%matplotlib inline\n",
    "\n",
    "from numpy.random import seed\n",
    "seed(1)\n",
    "\n",
    "import tensorflow\n",
    "tensorflow.random.set_seed(1)\n",
    "\n",
    "import requests\n",
    "import io\n",
    "\n",
    "def get_data(url):\n",
    "    s=requests.get(url).content\n",
    "    return pd.read_csv(io.StringIO(s.decode('utf-8')))"
   ]
  },
  {
   "cell_type": "code",
   "execution_count": 2,
   "metadata": {},
   "outputs": [],
   "source": [
    "df = get_data(\"https://api.covid19india.org/csv/latest/state_wise_daily.csv\")"
   ]
  },
  {
   "cell_type": "code",
   "execution_count": 3,
   "metadata": {},
   "outputs": [
    {
     "data": {
      "text/html": [
       "<div>\n",
       "<style scoped>\n",
       "    .dataframe tbody tr th:only-of-type {\n",
       "        vertical-align: middle;\n",
       "    }\n",
       "\n",
       "    .dataframe tbody tr th {\n",
       "        vertical-align: top;\n",
       "    }\n",
       "\n",
       "    .dataframe thead th {\n",
       "        text-align: right;\n",
       "    }\n",
       "</style>\n",
       "<table border=\"1\" class=\"dataframe\">\n",
       "  <thead>\n",
       "    <tr style=\"text-align: right;\">\n",
       "      <th></th>\n",
       "      <th>Date</th>\n",
       "      <th>Date_YMD</th>\n",
       "      <th>Status</th>\n",
       "      <th>TT</th>\n",
       "      <th>AN</th>\n",
       "      <th>AP</th>\n",
       "      <th>AR</th>\n",
       "      <th>AS</th>\n",
       "      <th>BR</th>\n",
       "      <th>CH</th>\n",
       "      <th>...</th>\n",
       "      <th>PB</th>\n",
       "      <th>RJ</th>\n",
       "      <th>SK</th>\n",
       "      <th>TN</th>\n",
       "      <th>TG</th>\n",
       "      <th>TR</th>\n",
       "      <th>UP</th>\n",
       "      <th>UT</th>\n",
       "      <th>WB</th>\n",
       "      <th>UN</th>\n",
       "    </tr>\n",
       "  </thead>\n",
       "  <tbody>\n",
       "    <tr>\n",
       "      <th>1375</th>\n",
       "      <td>15-Jun-21</td>\n",
       "      <td>2021-06-15</td>\n",
       "      <td>Recovered</td>\n",
       "      <td>107767</td>\n",
       "      <td>15</td>\n",
       "      <td>10567</td>\n",
       "      <td>326</td>\n",
       "      <td>2906</td>\n",
       "      <td>813</td>\n",
       "      <td>58</td>\n",
       "      <td>...</td>\n",
       "      <td>1691</td>\n",
       "      <td>1006</td>\n",
       "      <td>272</td>\n",
       "      <td>23207</td>\n",
       "      <td>2070</td>\n",
       "      <td>743</td>\n",
       "      <td>1104</td>\n",
       "      <td>515</td>\n",
       "      <td>2068</td>\n",
       "      <td>0</td>\n",
       "    </tr>\n",
       "    <tr>\n",
       "      <th>1376</th>\n",
       "      <td>15-Jun-21</td>\n",
       "      <td>2021-06-15</td>\n",
       "      <td>Deceased</td>\n",
       "      <td>2540</td>\n",
       "      <td>0</td>\n",
       "      <td>53</td>\n",
       "      <td>4</td>\n",
       "      <td>34</td>\n",
       "      <td>9</td>\n",
       "      <td>3</td>\n",
       "      <td>...</td>\n",
       "      <td>48</td>\n",
       "      <td>14</td>\n",
       "      <td>3</td>\n",
       "      <td>267</td>\n",
       "      <td>14</td>\n",
       "      <td>4</td>\n",
       "      <td>56</td>\n",
       "      <td>25</td>\n",
       "      <td>75</td>\n",
       "      <td>0</td>\n",
       "    </tr>\n",
       "    <tr>\n",
       "      <th>1377</th>\n",
       "      <td>16-Jun-21</td>\n",
       "      <td>2021-06-16</td>\n",
       "      <td>Confirmed</td>\n",
       "      <td>67256</td>\n",
       "      <td>26</td>\n",
       "      <td>6617</td>\n",
       "      <td>250</td>\n",
       "      <td>3386</td>\n",
       "      <td>370</td>\n",
       "      <td>41</td>\n",
       "      <td>...</td>\n",
       "      <td>675</td>\n",
       "      <td>280</td>\n",
       "      <td>147</td>\n",
       "      <td>10448</td>\n",
       "      <td>1489</td>\n",
       "      <td>536</td>\n",
       "      <td>251</td>\n",
       "      <td>353</td>\n",
       "      <td>3187</td>\n",
       "      <td>0</td>\n",
       "    </tr>\n",
       "    <tr>\n",
       "      <th>1378</th>\n",
       "      <td>16-Jun-21</td>\n",
       "      <td>2021-06-16</td>\n",
       "      <td>Recovered</td>\n",
       "      <td>103853</td>\n",
       "      <td>30</td>\n",
       "      <td>10228</td>\n",
       "      <td>289</td>\n",
       "      <td>4881</td>\n",
       "      <td>730</td>\n",
       "      <td>63</td>\n",
       "      <td>...</td>\n",
       "      <td>1383</td>\n",
       "      <td>928</td>\n",
       "      <td>420</td>\n",
       "      <td>21058</td>\n",
       "      <td>1436</td>\n",
       "      <td>596</td>\n",
       "      <td>927</td>\n",
       "      <td>398</td>\n",
       "      <td>2012</td>\n",
       "      <td>0</td>\n",
       "    </tr>\n",
       "    <tr>\n",
       "      <th>1379</th>\n",
       "      <td>16-Jun-21</td>\n",
       "      <td>2021-06-16</td>\n",
       "      <td>Deceased</td>\n",
       "      <td>2329</td>\n",
       "      <td>1</td>\n",
       "      <td>57</td>\n",
       "      <td>0</td>\n",
       "      <td>36</td>\n",
       "      <td>9</td>\n",
       "      <td>2</td>\n",
       "      <td>...</td>\n",
       "      <td>48</td>\n",
       "      <td>9</td>\n",
       "      <td>1</td>\n",
       "      <td>270</td>\n",
       "      <td>11</td>\n",
       "      <td>5</td>\n",
       "      <td>49</td>\n",
       "      <td>12</td>\n",
       "      <td>69</td>\n",
       "      <td>0</td>\n",
       "    </tr>\n",
       "  </tbody>\n",
       "</table>\n",
       "<p>5 rows × 42 columns</p>\n",
       "</div>"
      ],
      "text/plain": [
       "           Date    Date_YMD     Status      TT  AN     AP   AR    AS   BR  CH  \\\n",
       "1375  15-Jun-21  2021-06-15  Recovered  107767  15  10567  326  2906  813  58   \n",
       "1376  15-Jun-21  2021-06-15   Deceased    2540   0     53    4    34    9   3   \n",
       "1377  16-Jun-21  2021-06-16  Confirmed   67256  26   6617  250  3386  370  41   \n",
       "1378  16-Jun-21  2021-06-16  Recovered  103853  30  10228  289  4881  730  63   \n",
       "1379  16-Jun-21  2021-06-16   Deceased    2329   1     57    0    36    9   2   \n",
       "\n",
       "      ...    PB    RJ   SK     TN    TG   TR    UP   UT    WB  UN  \n",
       "1375  ...  1691  1006  272  23207  2070  743  1104  515  2068   0  \n",
       "1376  ...    48    14    3    267    14    4    56   25    75   0  \n",
       "1377  ...   675   280  147  10448  1489  536   251  353  3187   0  \n",
       "1378  ...  1383   928  420  21058  1436  596   927  398  2012   0  \n",
       "1379  ...    48     9    1    270    11    5    49   12    69   0  \n",
       "\n",
       "[5 rows x 42 columns]"
      ]
     },
     "execution_count": 3,
     "metadata": {},
     "output_type": "execute_result"
    }
   ],
   "source": [
    "df.tail()"
   ]
  },
  {
   "cell_type": "code",
   "execution_count": 4,
   "metadata": {},
   "outputs": [
    {
     "data": {
      "text/html": [
       "<div>\n",
       "<style scoped>\n",
       "    .dataframe tbody tr th:only-of-type {\n",
       "        vertical-align: middle;\n",
       "    }\n",
       "\n",
       "    .dataframe tbody tr th {\n",
       "        vertical-align: top;\n",
       "    }\n",
       "\n",
       "    .dataframe thead th {\n",
       "        text-align: right;\n",
       "    }\n",
       "</style>\n",
       "<table border=\"1\" class=\"dataframe\">\n",
       "  <thead>\n",
       "    <tr style=\"text-align: right;\">\n",
       "      <th></th>\n",
       "      <th>Date</th>\n",
       "      <th>Date_YMD</th>\n",
       "      <th>Status</th>\n",
       "      <th>TT</th>\n",
       "      <th>AN</th>\n",
       "      <th>AP</th>\n",
       "      <th>AR</th>\n",
       "      <th>AS</th>\n",
       "      <th>BR</th>\n",
       "      <th>CH</th>\n",
       "      <th>...</th>\n",
       "      <th>PB</th>\n",
       "      <th>RJ</th>\n",
       "      <th>SK</th>\n",
       "      <th>TN</th>\n",
       "      <th>TG</th>\n",
       "      <th>TR</th>\n",
       "      <th>UP</th>\n",
       "      <th>UT</th>\n",
       "      <th>WB</th>\n",
       "      <th>UN</th>\n",
       "    </tr>\n",
       "  </thead>\n",
       "  <tbody>\n",
       "    <tr>\n",
       "      <th>0</th>\n",
       "      <td>14-Mar-20</td>\n",
       "      <td>2020-03-14</td>\n",
       "      <td>Confirmed</td>\n",
       "      <td>81</td>\n",
       "      <td>0</td>\n",
       "      <td>1</td>\n",
       "      <td>0</td>\n",
       "      <td>0</td>\n",
       "      <td>0</td>\n",
       "      <td>0</td>\n",
       "      <td>...</td>\n",
       "      <td>1</td>\n",
       "      <td>3</td>\n",
       "      <td>0</td>\n",
       "      <td>1</td>\n",
       "      <td>1</td>\n",
       "      <td>0</td>\n",
       "      <td>12</td>\n",
       "      <td>0</td>\n",
       "      <td>0</td>\n",
       "      <td>0</td>\n",
       "    </tr>\n",
       "    <tr>\n",
       "      <th>3</th>\n",
       "      <td>15-Mar-20</td>\n",
       "      <td>2020-03-15</td>\n",
       "      <td>Confirmed</td>\n",
       "      <td>27</td>\n",
       "      <td>0</td>\n",
       "      <td>0</td>\n",
       "      <td>0</td>\n",
       "      <td>0</td>\n",
       "      <td>0</td>\n",
       "      <td>0</td>\n",
       "      <td>...</td>\n",
       "      <td>0</td>\n",
       "      <td>1</td>\n",
       "      <td>0</td>\n",
       "      <td>0</td>\n",
       "      <td>2</td>\n",
       "      <td>0</td>\n",
       "      <td>1</td>\n",
       "      <td>0</td>\n",
       "      <td>0</td>\n",
       "      <td>0</td>\n",
       "    </tr>\n",
       "    <tr>\n",
       "      <th>6</th>\n",
       "      <td>16-Mar-20</td>\n",
       "      <td>2020-03-16</td>\n",
       "      <td>Confirmed</td>\n",
       "      <td>15</td>\n",
       "      <td>0</td>\n",
       "      <td>0</td>\n",
       "      <td>0</td>\n",
       "      <td>0</td>\n",
       "      <td>0</td>\n",
       "      <td>0</td>\n",
       "      <td>...</td>\n",
       "      <td>0</td>\n",
       "      <td>0</td>\n",
       "      <td>0</td>\n",
       "      <td>0</td>\n",
       "      <td>1</td>\n",
       "      <td>0</td>\n",
       "      <td>0</td>\n",
       "      <td>1</td>\n",
       "      <td>0</td>\n",
       "      <td>0</td>\n",
       "    </tr>\n",
       "    <tr>\n",
       "      <th>9</th>\n",
       "      <td>17-Mar-20</td>\n",
       "      <td>2020-03-17</td>\n",
       "      <td>Confirmed</td>\n",
       "      <td>11</td>\n",
       "      <td>0</td>\n",
       "      <td>0</td>\n",
       "      <td>0</td>\n",
       "      <td>0</td>\n",
       "      <td>0</td>\n",
       "      <td>0</td>\n",
       "      <td>...</td>\n",
       "      <td>0</td>\n",
       "      <td>0</td>\n",
       "      <td>0</td>\n",
       "      <td>0</td>\n",
       "      <td>1</td>\n",
       "      <td>0</td>\n",
       "      <td>2</td>\n",
       "      <td>0</td>\n",
       "      <td>1</td>\n",
       "      <td>0</td>\n",
       "    </tr>\n",
       "    <tr>\n",
       "      <th>12</th>\n",
       "      <td>18-Mar-20</td>\n",
       "      <td>2020-03-18</td>\n",
       "      <td>Confirmed</td>\n",
       "      <td>37</td>\n",
       "      <td>0</td>\n",
       "      <td>0</td>\n",
       "      <td>0</td>\n",
       "      <td>0</td>\n",
       "      <td>0</td>\n",
       "      <td>0</td>\n",
       "      <td>...</td>\n",
       "      <td>1</td>\n",
       "      <td>3</td>\n",
       "      <td>0</td>\n",
       "      <td>1</td>\n",
       "      <td>8</td>\n",
       "      <td>0</td>\n",
       "      <td>2</td>\n",
       "      <td>1</td>\n",
       "      <td>0</td>\n",
       "      <td>0</td>\n",
       "    </tr>\n",
       "    <tr>\n",
       "      <th>...</th>\n",
       "      <td>...</td>\n",
       "      <td>...</td>\n",
       "      <td>...</td>\n",
       "      <td>...</td>\n",
       "      <td>...</td>\n",
       "      <td>...</td>\n",
       "      <td>...</td>\n",
       "      <td>...</td>\n",
       "      <td>...</td>\n",
       "      <td>...</td>\n",
       "      <td>...</td>\n",
       "      <td>...</td>\n",
       "      <td>...</td>\n",
       "      <td>...</td>\n",
       "      <td>...</td>\n",
       "      <td>...</td>\n",
       "      <td>...</td>\n",
       "      <td>...</td>\n",
       "      <td>...</td>\n",
       "      <td>...</td>\n",
       "      <td>...</td>\n",
       "    </tr>\n",
       "    <tr>\n",
       "      <th>1362</th>\n",
       "      <td>11-Jun-21</td>\n",
       "      <td>2021-06-11</td>\n",
       "      <td>Confirmed</td>\n",
       "      <td>84574</td>\n",
       "      <td>36</td>\n",
       "      <td>8239</td>\n",
       "      <td>358</td>\n",
       "      <td>3666</td>\n",
       "      <td>566</td>\n",
       "      <td>70</td>\n",
       "      <td>...</td>\n",
       "      <td>1201</td>\n",
       "      <td>446</td>\n",
       "      <td>147</td>\n",
       "      <td>15759</td>\n",
       "      <td>1707</td>\n",
       "      <td>641</td>\n",
       "      <td>596</td>\n",
       "      <td>287</td>\n",
       "      <td>4883</td>\n",
       "      <td>0</td>\n",
       "    </tr>\n",
       "    <tr>\n",
       "      <th>1365</th>\n",
       "      <td>12-Jun-21</td>\n",
       "      <td>2021-06-12</td>\n",
       "      <td>Confirmed</td>\n",
       "      <td>80525</td>\n",
       "      <td>10</td>\n",
       "      <td>6952</td>\n",
       "      <td>298</td>\n",
       "      <td>3463</td>\n",
       "      <td>432</td>\n",
       "      <td>58</td>\n",
       "      <td>...</td>\n",
       "      <td>961</td>\n",
       "      <td>368</td>\n",
       "      <td>167</td>\n",
       "      <td>15108</td>\n",
       "      <td>1771</td>\n",
       "      <td>428</td>\n",
       "      <td>504</td>\n",
       "      <td>463</td>\n",
       "      <td>4286</td>\n",
       "      <td>0</td>\n",
       "    </tr>\n",
       "    <tr>\n",
       "      <th>1368</th>\n",
       "      <td>13-Jun-21</td>\n",
       "      <td>2021-06-13</td>\n",
       "      <td>Confirmed</td>\n",
       "      <td>71001</td>\n",
       "      <td>18</td>\n",
       "      <td>6770</td>\n",
       "      <td>134</td>\n",
       "      <td>2167</td>\n",
       "      <td>487</td>\n",
       "      <td>54</td>\n",
       "      <td>...</td>\n",
       "      <td>956</td>\n",
       "      <td>308</td>\n",
       "      <td>157</td>\n",
       "      <td>14016</td>\n",
       "      <td>1280</td>\n",
       "      <td>565</td>\n",
       "      <td>452</td>\n",
       "      <td>263</td>\n",
       "      <td>3984</td>\n",
       "      <td>0</td>\n",
       "    </tr>\n",
       "    <tr>\n",
       "      <th>1371</th>\n",
       "      <td>14-Jun-21</td>\n",
       "      <td>2021-06-14</td>\n",
       "      <td>Confirmed</td>\n",
       "      <td>60008</td>\n",
       "      <td>8</td>\n",
       "      <td>4549</td>\n",
       "      <td>366</td>\n",
       "      <td>3678</td>\n",
       "      <td>324</td>\n",
       "      <td>50</td>\n",
       "      <td>...</td>\n",
       "      <td>622</td>\n",
       "      <td>277</td>\n",
       "      <td>36</td>\n",
       "      <td>12772</td>\n",
       "      <td>1511</td>\n",
       "      <td>235</td>\n",
       "      <td>313</td>\n",
       "      <td>296</td>\n",
       "      <td>3519</td>\n",
       "      <td>0</td>\n",
       "    </tr>\n",
       "    <tr>\n",
       "      <th>1374</th>\n",
       "      <td>15-Jun-21</td>\n",
       "      <td>2021-06-15</td>\n",
       "      <td>Confirmed</td>\n",
       "      <td>62214</td>\n",
       "      <td>11</td>\n",
       "      <td>5741</td>\n",
       "      <td>290</td>\n",
       "      <td>3415</td>\n",
       "      <td>410</td>\n",
       "      <td>40</td>\n",
       "      <td>...</td>\n",
       "      <td>628</td>\n",
       "      <td>172</td>\n",
       "      <td>209</td>\n",
       "      <td>11805</td>\n",
       "      <td>1556</td>\n",
       "      <td>528</td>\n",
       "      <td>270</td>\n",
       "      <td>274</td>\n",
       "      <td>3268</td>\n",
       "      <td>0</td>\n",
       "    </tr>\n",
       "  </tbody>\n",
       "</table>\n",
       "<p>459 rows × 42 columns</p>\n",
       "</div>"
      ],
      "text/plain": [
       "           Date    Date_YMD     Status     TT  AN    AP   AR    AS   BR  CH  \\\n",
       "0     14-Mar-20  2020-03-14  Confirmed     81   0     1    0     0    0   0   \n",
       "3     15-Mar-20  2020-03-15  Confirmed     27   0     0    0     0    0   0   \n",
       "6     16-Mar-20  2020-03-16  Confirmed     15   0     0    0     0    0   0   \n",
       "9     17-Mar-20  2020-03-17  Confirmed     11   0     0    0     0    0   0   \n",
       "12    18-Mar-20  2020-03-18  Confirmed     37   0     0    0     0    0   0   \n",
       "...         ...         ...        ...    ...  ..   ...  ...   ...  ...  ..   \n",
       "1362  11-Jun-21  2021-06-11  Confirmed  84574  36  8239  358  3666  566  70   \n",
       "1365  12-Jun-21  2021-06-12  Confirmed  80525  10  6952  298  3463  432  58   \n",
       "1368  13-Jun-21  2021-06-13  Confirmed  71001  18  6770  134  2167  487  54   \n",
       "1371  14-Jun-21  2021-06-14  Confirmed  60008   8  4549  366  3678  324  50   \n",
       "1374  15-Jun-21  2021-06-15  Confirmed  62214  11  5741  290  3415  410  40   \n",
       "\n",
       "      ...    PB   RJ   SK     TN    TG   TR   UP   UT    WB  UN  \n",
       "0     ...     1    3    0      1     1    0   12    0     0   0  \n",
       "3     ...     0    1    0      0     2    0    1    0     0   0  \n",
       "6     ...     0    0    0      0     1    0    0    1     0   0  \n",
       "9     ...     0    0    0      0     1    0    2    0     1   0  \n",
       "12    ...     1    3    0      1     8    0    2    1     0   0  \n",
       "...   ...   ...  ...  ...    ...   ...  ...  ...  ...   ...  ..  \n",
       "1362  ...  1201  446  147  15759  1707  641  596  287  4883   0  \n",
       "1365  ...   961  368  167  15108  1771  428  504  463  4286   0  \n",
       "1368  ...   956  308  157  14016  1280  565  452  263  3984   0  \n",
       "1371  ...   622  277   36  12772  1511  235  313  296  3519   0  \n",
       "1374  ...   628  172  209  11805  1556  528  270  274  3268   0  \n",
       "\n",
       "[459 rows x 42 columns]"
      ]
     },
     "execution_count": 4,
     "metadata": {},
     "output_type": "execute_result"
    }
   ],
   "source": [
    "df = df[df['Status']=='Confirmed']\n",
    "df.head(-1)"
   ]
  },
  {
   "cell_type": "code",
   "execution_count": 5,
   "metadata": {},
   "outputs": [],
   "source": [
    "df = df.drop(['Status'], axis=1)"
   ]
  },
  {
   "cell_type": "code",
   "execution_count": 6,
   "metadata": {},
   "outputs": [],
   "source": [
    "from sklearn.preprocessing import MinMaxScaler\n",
    "scaler = MinMaxScaler()"
   ]
  },
  {
   "cell_type": "code",
   "execution_count": 7,
   "metadata": {},
   "outputs": [
    {
     "data": {
      "text/html": [
       "<div>\n",
       "<style scoped>\n",
       "    .dataframe tbody tr th:only-of-type {\n",
       "        vertical-align: middle;\n",
       "    }\n",
       "\n",
       "    .dataframe tbody tr th {\n",
       "        vertical-align: top;\n",
       "    }\n",
       "\n",
       "    .dataframe thead th {\n",
       "        text-align: right;\n",
       "    }\n",
       "</style>\n",
       "<table border=\"1\" class=\"dataframe\">\n",
       "  <thead>\n",
       "    <tr style=\"text-align: right;\">\n",
       "      <th></th>\n",
       "      <th>Date_YMD</th>\n",
       "      <th>TT</th>\n",
       "      <th>AN</th>\n",
       "      <th>AP</th>\n",
       "      <th>AR</th>\n",
       "      <th>AS</th>\n",
       "      <th>BR</th>\n",
       "      <th>CH</th>\n",
       "      <th>CT</th>\n",
       "      <th>DN</th>\n",
       "      <th>...</th>\n",
       "      <th>PB</th>\n",
       "      <th>RJ</th>\n",
       "      <th>SK</th>\n",
       "      <th>TN</th>\n",
       "      <th>TG</th>\n",
       "      <th>TR</th>\n",
       "      <th>UP</th>\n",
       "      <th>UT</th>\n",
       "      <th>WB</th>\n",
       "      <th>UN</th>\n",
       "    </tr>\n",
       "    <tr>\n",
       "      <th>Date</th>\n",
       "      <th></th>\n",
       "      <th></th>\n",
       "      <th></th>\n",
       "      <th></th>\n",
       "      <th></th>\n",
       "      <th></th>\n",
       "      <th></th>\n",
       "      <th></th>\n",
       "      <th></th>\n",
       "      <th></th>\n",
       "      <th></th>\n",
       "      <th></th>\n",
       "      <th></th>\n",
       "      <th></th>\n",
       "      <th></th>\n",
       "      <th></th>\n",
       "      <th></th>\n",
       "      <th></th>\n",
       "      <th></th>\n",
       "      <th></th>\n",
       "      <th></th>\n",
       "    </tr>\n",
       "  </thead>\n",
       "  <tbody>\n",
       "    <tr>\n",
       "      <th>14-Mar-20</th>\n",
       "      <td>2020-03-14</td>\n",
       "      <td>81</td>\n",
       "      <td>0</td>\n",
       "      <td>1</td>\n",
       "      <td>0</td>\n",
       "      <td>0</td>\n",
       "      <td>0</td>\n",
       "      <td>0</td>\n",
       "      <td>0</td>\n",
       "      <td>0</td>\n",
       "      <td>...</td>\n",
       "      <td>1</td>\n",
       "      <td>3</td>\n",
       "      <td>0</td>\n",
       "      <td>1</td>\n",
       "      <td>1</td>\n",
       "      <td>0</td>\n",
       "      <td>12</td>\n",
       "      <td>0</td>\n",
       "      <td>0</td>\n",
       "      <td>0</td>\n",
       "    </tr>\n",
       "    <tr>\n",
       "      <th>15-Mar-20</th>\n",
       "      <td>2020-03-15</td>\n",
       "      <td>27</td>\n",
       "      <td>0</td>\n",
       "      <td>0</td>\n",
       "      <td>0</td>\n",
       "      <td>0</td>\n",
       "      <td>0</td>\n",
       "      <td>0</td>\n",
       "      <td>0</td>\n",
       "      <td>0</td>\n",
       "      <td>...</td>\n",
       "      <td>0</td>\n",
       "      <td>1</td>\n",
       "      <td>0</td>\n",
       "      <td>0</td>\n",
       "      <td>2</td>\n",
       "      <td>0</td>\n",
       "      <td>1</td>\n",
       "      <td>0</td>\n",
       "      <td>0</td>\n",
       "      <td>0</td>\n",
       "    </tr>\n",
       "    <tr>\n",
       "      <th>16-Mar-20</th>\n",
       "      <td>2020-03-16</td>\n",
       "      <td>15</td>\n",
       "      <td>0</td>\n",
       "      <td>0</td>\n",
       "      <td>0</td>\n",
       "      <td>0</td>\n",
       "      <td>0</td>\n",
       "      <td>0</td>\n",
       "      <td>0</td>\n",
       "      <td>0</td>\n",
       "      <td>...</td>\n",
       "      <td>0</td>\n",
       "      <td>0</td>\n",
       "      <td>0</td>\n",
       "      <td>0</td>\n",
       "      <td>1</td>\n",
       "      <td>0</td>\n",
       "      <td>0</td>\n",
       "      <td>1</td>\n",
       "      <td>0</td>\n",
       "      <td>0</td>\n",
       "    </tr>\n",
       "    <tr>\n",
       "      <th>17-Mar-20</th>\n",
       "      <td>2020-03-17</td>\n",
       "      <td>11</td>\n",
       "      <td>0</td>\n",
       "      <td>0</td>\n",
       "      <td>0</td>\n",
       "      <td>0</td>\n",
       "      <td>0</td>\n",
       "      <td>0</td>\n",
       "      <td>0</td>\n",
       "      <td>0</td>\n",
       "      <td>...</td>\n",
       "      <td>0</td>\n",
       "      <td>0</td>\n",
       "      <td>0</td>\n",
       "      <td>0</td>\n",
       "      <td>1</td>\n",
       "      <td>0</td>\n",
       "      <td>2</td>\n",
       "      <td>0</td>\n",
       "      <td>1</td>\n",
       "      <td>0</td>\n",
       "    </tr>\n",
       "    <tr>\n",
       "      <th>18-Mar-20</th>\n",
       "      <td>2020-03-18</td>\n",
       "      <td>37</td>\n",
       "      <td>0</td>\n",
       "      <td>0</td>\n",
       "      <td>0</td>\n",
       "      <td>0</td>\n",
       "      <td>0</td>\n",
       "      <td>0</td>\n",
       "      <td>0</td>\n",
       "      <td>0</td>\n",
       "      <td>...</td>\n",
       "      <td>1</td>\n",
       "      <td>3</td>\n",
       "      <td>0</td>\n",
       "      <td>1</td>\n",
       "      <td>8</td>\n",
       "      <td>0</td>\n",
       "      <td>2</td>\n",
       "      <td>1</td>\n",
       "      <td>0</td>\n",
       "      <td>0</td>\n",
       "    </tr>\n",
       "    <tr>\n",
       "      <th>...</th>\n",
       "      <td>...</td>\n",
       "      <td>...</td>\n",
       "      <td>...</td>\n",
       "      <td>...</td>\n",
       "      <td>...</td>\n",
       "      <td>...</td>\n",
       "      <td>...</td>\n",
       "      <td>...</td>\n",
       "      <td>...</td>\n",
       "      <td>...</td>\n",
       "      <td>...</td>\n",
       "      <td>...</td>\n",
       "      <td>...</td>\n",
       "      <td>...</td>\n",
       "      <td>...</td>\n",
       "      <td>...</td>\n",
       "      <td>...</td>\n",
       "      <td>...</td>\n",
       "      <td>...</td>\n",
       "      <td>...</td>\n",
       "      <td>...</td>\n",
       "    </tr>\n",
       "    <tr>\n",
       "      <th>12-Jun-21</th>\n",
       "      <td>2021-06-12</td>\n",
       "      <td>80525</td>\n",
       "      <td>10</td>\n",
       "      <td>6952</td>\n",
       "      <td>298</td>\n",
       "      <td>3463</td>\n",
       "      <td>432</td>\n",
       "      <td>58</td>\n",
       "      <td>813</td>\n",
       "      <td>5</td>\n",
       "      <td>...</td>\n",
       "      <td>961</td>\n",
       "      <td>368</td>\n",
       "      <td>167</td>\n",
       "      <td>15108</td>\n",
       "      <td>1771</td>\n",
       "      <td>428</td>\n",
       "      <td>504</td>\n",
       "      <td>463</td>\n",
       "      <td>4286</td>\n",
       "      <td>0</td>\n",
       "    </tr>\n",
       "    <tr>\n",
       "      <th>13-Jun-21</th>\n",
       "      <td>2021-06-13</td>\n",
       "      <td>71001</td>\n",
       "      <td>18</td>\n",
       "      <td>6770</td>\n",
       "      <td>134</td>\n",
       "      <td>2167</td>\n",
       "      <td>487</td>\n",
       "      <td>54</td>\n",
       "      <td>459</td>\n",
       "      <td>0</td>\n",
       "      <td>...</td>\n",
       "      <td>956</td>\n",
       "      <td>308</td>\n",
       "      <td>157</td>\n",
       "      <td>14016</td>\n",
       "      <td>1280</td>\n",
       "      <td>565</td>\n",
       "      <td>452</td>\n",
       "      <td>263</td>\n",
       "      <td>3984</td>\n",
       "      <td>0</td>\n",
       "    </tr>\n",
       "    <tr>\n",
       "      <th>14-Jun-21</th>\n",
       "      <td>2021-06-14</td>\n",
       "      <td>60008</td>\n",
       "      <td>8</td>\n",
       "      <td>4549</td>\n",
       "      <td>366</td>\n",
       "      <td>3678</td>\n",
       "      <td>324</td>\n",
       "      <td>50</td>\n",
       "      <td>600</td>\n",
       "      <td>1</td>\n",
       "      <td>...</td>\n",
       "      <td>622</td>\n",
       "      <td>277</td>\n",
       "      <td>36</td>\n",
       "      <td>12772</td>\n",
       "      <td>1511</td>\n",
       "      <td>235</td>\n",
       "      <td>313</td>\n",
       "      <td>296</td>\n",
       "      <td>3519</td>\n",
       "      <td>0</td>\n",
       "    </tr>\n",
       "    <tr>\n",
       "      <th>15-Jun-21</th>\n",
       "      <td>2021-06-15</td>\n",
       "      <td>62214</td>\n",
       "      <td>11</td>\n",
       "      <td>5741</td>\n",
       "      <td>290</td>\n",
       "      <td>3415</td>\n",
       "      <td>410</td>\n",
       "      <td>40</td>\n",
       "      <td>609</td>\n",
       "      <td>7</td>\n",
       "      <td>...</td>\n",
       "      <td>628</td>\n",
       "      <td>172</td>\n",
       "      <td>209</td>\n",
       "      <td>11805</td>\n",
       "      <td>1556</td>\n",
       "      <td>528</td>\n",
       "      <td>270</td>\n",
       "      <td>274</td>\n",
       "      <td>3268</td>\n",
       "      <td>0</td>\n",
       "    </tr>\n",
       "    <tr>\n",
       "      <th>16-Jun-21</th>\n",
       "      <td>2021-06-16</td>\n",
       "      <td>67256</td>\n",
       "      <td>26</td>\n",
       "      <td>6617</td>\n",
       "      <td>250</td>\n",
       "      <td>3386</td>\n",
       "      <td>370</td>\n",
       "      <td>41</td>\n",
       "      <td>573</td>\n",
       "      <td>8</td>\n",
       "      <td>...</td>\n",
       "      <td>675</td>\n",
       "      <td>280</td>\n",
       "      <td>147</td>\n",
       "      <td>10448</td>\n",
       "      <td>1489</td>\n",
       "      <td>536</td>\n",
       "      <td>251</td>\n",
       "      <td>353</td>\n",
       "      <td>3187</td>\n",
       "      <td>0</td>\n",
       "    </tr>\n",
       "  </tbody>\n",
       "</table>\n",
       "<p>460 rows × 40 columns</p>\n",
       "</div>"
      ],
      "text/plain": [
       "             Date_YMD     TT  AN    AP   AR    AS   BR  CH   CT  DN  ...   PB  \\\n",
       "Date                                                                 ...        \n",
       "14-Mar-20  2020-03-14     81   0     1    0     0    0   0    0   0  ...    1   \n",
       "15-Mar-20  2020-03-15     27   0     0    0     0    0   0    0   0  ...    0   \n",
       "16-Mar-20  2020-03-16     15   0     0    0     0    0   0    0   0  ...    0   \n",
       "17-Mar-20  2020-03-17     11   0     0    0     0    0   0    0   0  ...    0   \n",
       "18-Mar-20  2020-03-18     37   0     0    0     0    0   0    0   0  ...    1   \n",
       "...               ...    ...  ..   ...  ...   ...  ...  ..  ...  ..  ...  ...   \n",
       "12-Jun-21  2021-06-12  80525  10  6952  298  3463  432  58  813   5  ...  961   \n",
       "13-Jun-21  2021-06-13  71001  18  6770  134  2167  487  54  459   0  ...  956   \n",
       "14-Jun-21  2021-06-14  60008   8  4549  366  3678  324  50  600   1  ...  622   \n",
       "15-Jun-21  2021-06-15  62214  11  5741  290  3415  410  40  609   7  ...  628   \n",
       "16-Jun-21  2021-06-16  67256  26  6617  250  3386  370  41  573   8  ...  675   \n",
       "\n",
       "            RJ   SK     TN    TG   TR   UP   UT    WB  UN  \n",
       "Date                                                       \n",
       "14-Mar-20    3    0      1     1    0   12    0     0   0  \n",
       "15-Mar-20    1    0      0     2    0    1    0     0   0  \n",
       "16-Mar-20    0    0      0     1    0    0    1     0   0  \n",
       "17-Mar-20    0    0      0     1    0    2    0     1   0  \n",
       "18-Mar-20    3    0      1     8    0    2    1     0   0  \n",
       "...        ...  ...    ...   ...  ...  ...  ...   ...  ..  \n",
       "12-Jun-21  368  167  15108  1771  428  504  463  4286   0  \n",
       "13-Jun-21  308  157  14016  1280  565  452  263  3984   0  \n",
       "14-Jun-21  277   36  12772  1511  235  313  296  3519   0  \n",
       "15-Jun-21  172  209  11805  1556  528  270  274  3268   0  \n",
       "16-Jun-21  280  147  10448  1489  536  251  353  3187   0  \n",
       "\n",
       "[460 rows x 40 columns]"
      ]
     },
     "execution_count": 7,
     "metadata": {},
     "output_type": "execute_result"
    }
   ],
   "source": [
    "df.reset_index()\n",
    "df = df.set_index(\"Date\")\n",
    "df"
   ]
  },
  {
   "cell_type": "code",
   "execution_count": 8,
   "metadata": {},
   "outputs": [
    {
     "data": {
      "text/plain": [
       "Date\n",
       "14-Mar-20      7\n",
       "15-Mar-20      0\n",
       "16-Mar-20      0\n",
       "17-Mar-20      1\n",
       "18-Mar-20      2\n",
       "            ... \n",
       "12-Jun-21    213\n",
       "13-Jun-21    255\n",
       "14-Jun-21    131\n",
       "15-Jun-21    228\n",
       "16-Jun-21    212\n",
       "Name: DL, Length: 460, dtype: int64"
      ]
     },
     "execution_count": 8,
     "metadata": {},
     "output_type": "execute_result"
    }
   ],
   "source": [
    "df['DL']"
   ]
  },
  {
   "cell_type": "code",
   "execution_count": 9,
   "metadata": {},
   "outputs": [
    {
     "data": {
      "text/html": [
       "        <script type=\"text/javascript\">\n",
       "        window.PlotlyConfig = {MathJaxConfig: 'local'};\n",
       "        if (window.MathJax) {MathJax.Hub.Config({SVG: {font: \"STIX-Web\"}});}\n",
       "        if (typeof require !== 'undefined') {\n",
       "        require.undef(\"plotly\");\n",
       "        requirejs.config({\n",
       "            paths: {\n",
       "                'plotly': ['https://cdn.plot.ly/plotly-latest.min']\n",
       "            }\n",
       "        });\n",
       "        require(['plotly'], function(Plotly) {\n",
       "            window._Plotly = Plotly;\n",
       "        });\n",
       "        }\n",
       "        </script>\n",
       "        "
      ]
     },
     "metadata": {},
     "output_type": "display_data"
    },
    {
     "data": {
      "application/vnd.plotly.v1+json": {
       "config": {
        "linkText": "Export to plot.ly",
        "plotlyServerURL": "https://plot.ly",
        "showLink": false
       },
       "data": [
        {
         "name": "daily confirmed cases DELHI",
         "type": "scatter",
         "x": [
          "14-Mar-20",
          "15-Mar-20",
          "16-Mar-20",
          "17-Mar-20",
          "18-Mar-20",
          "19-Mar-20",
          "20-Mar-20",
          "21-Mar-20",
          "22-Mar-20",
          "23-Mar-20",
          "24-Mar-20",
          "25-Mar-20",
          "26-Mar-20",
          "27-Mar-20",
          "28-Mar-20",
          "29-Mar-20",
          "30-Mar-20",
          "31-Mar-20",
          "01-Apr-20",
          "02-Apr-20",
          "03-Apr-20",
          "04-Apr-20",
          "05-Apr-20",
          "06-Apr-20",
          "07-Apr-20",
          "08-Apr-20",
          "09-Apr-20",
          "10-Apr-20",
          "11-Apr-20",
          "12-Apr-20",
          "13-Apr-20",
          "14-Apr-20",
          "15-Apr-20",
          "16-Apr-20",
          "17-Apr-20",
          "18-Apr-20",
          "19-Apr-20",
          "20-Apr-20",
          "21-Apr-20",
          "22-Apr-20",
          "23-Apr-20",
          "24-Apr-20",
          "25-Apr-20",
          "26-Apr-20",
          "27-Apr-20",
          "28-Apr-20",
          "29-Apr-20",
          "30-Apr-20",
          "01-May-20",
          "02-May-20",
          "03-May-20",
          "04-May-20",
          "05-May-20",
          "06-May-20",
          "07-May-20",
          "08-May-20",
          "09-May-20",
          "10-May-20",
          "11-May-20",
          "12-May-20",
          "13-May-20",
          "14-May-20",
          "15-May-20",
          "16-May-20",
          "17-May-20",
          "18-May-20",
          "19-May-20",
          "20-May-20",
          "21-May-20",
          "22-May-20",
          "23-May-20",
          "24-May-20",
          "25-May-20",
          "26-May-20",
          "27-May-20",
          "28-May-20",
          "29-May-20",
          "30-May-20",
          "31-May-20",
          "01-Jun-20",
          "02-Jun-20",
          "03-Jun-20",
          "04-Jun-20",
          "05-Jun-20",
          "06-Jun-20",
          "07-Jun-20",
          "08-Jun-20",
          "09-Jun-20",
          "10-Jun-20",
          "11-Jun-20",
          "12-Jun-20",
          "13-Jun-20",
          "14-Jun-20",
          "15-Jun-20",
          "16-Jun-20",
          "17-Jun-20",
          "18-Jun-20",
          "19-Jun-20",
          "20-Jun-20",
          "21-Jun-20",
          "22-Jun-20",
          "23-Jun-20",
          "24-Jun-20",
          "25-Jun-20",
          "26-Jun-20",
          "27-Jun-20",
          "28-Jun-20",
          "29-Jun-20",
          "30-Jun-20",
          "01-Jul-20",
          "02-Jul-20",
          "03-Jul-20",
          "04-Jul-20",
          "05-Jul-20",
          "06-Jul-20",
          "07-Jul-20",
          "08-Jul-20",
          "09-Jul-20",
          "10-Jul-20",
          "11-Jul-20",
          "12-Jul-20",
          "13-Jul-20",
          "14-Jul-20",
          "15-Jul-20",
          "16-Jul-20",
          "17-Jul-20",
          "18-Jul-20",
          "19-Jul-20",
          "20-Jul-20",
          "21-Jul-20",
          "22-Jul-20",
          "23-Jul-20",
          "24-Jul-20",
          "25-Jul-20",
          "26-Jul-20",
          "27-Jul-20",
          "28-Jul-20",
          "29-Jul-20",
          "30-Jul-20",
          "31-Jul-20",
          "01-Aug-20",
          "02-Aug-20",
          "03-Aug-20",
          "04-Aug-20",
          "05-Aug-20",
          "06-Aug-20",
          "07-Aug-20",
          "08-Aug-20",
          "09-Aug-20",
          "10-Aug-20",
          "11-Aug-20",
          "12-Aug-20",
          "13-Aug-20",
          "14-Aug-20",
          "15-Aug-20",
          "16-Aug-20",
          "17-Aug-20",
          "18-Aug-20",
          "19-Aug-20",
          "20-Aug-20",
          "21-Aug-20",
          "22-Aug-20",
          "23-Aug-20",
          "24-Aug-20",
          "25-Aug-20",
          "26-Aug-20",
          "27-Aug-20",
          "28-Aug-20",
          "29-Aug-20",
          "30-Aug-20",
          "31-Aug-20",
          "01-Sep-20",
          "02-Sep-20",
          "03-Sep-20",
          "04-Sep-20",
          "05-Sep-20",
          "06-Sep-20",
          "07-Sep-20",
          "08-Sep-20",
          "09-Sep-20",
          "10-Sep-20",
          "11-Sep-20",
          "12-Sep-20",
          "13-Sep-20",
          "14-Sep-20",
          "15-Sep-20",
          "16-Sep-20",
          "17-Sep-20",
          "18-Sep-20",
          "19-Sep-20",
          "20-Sep-20",
          "21-Sep-20",
          "22-Sep-20",
          "23-Sep-20",
          "24-Sep-20",
          "25-Sep-20",
          "26-Sep-20",
          "27-Sep-20",
          "28-Sep-20",
          "29-Sep-20",
          "30-Sep-20",
          "01-Oct-20",
          "02-Oct-20",
          "03-Oct-20",
          "04-Oct-20",
          "05-Oct-20",
          "06-Oct-20",
          "07-Oct-20",
          "08-Oct-20",
          "09-Oct-20",
          "10-Oct-20",
          "11-Oct-20",
          "12-Oct-20",
          "13-Oct-20",
          "14-Oct-20",
          "15-Oct-20",
          "16-Oct-20",
          "17-Oct-20",
          "18-Oct-20",
          "19-Oct-20",
          "20-Oct-20",
          "21-Oct-20",
          "22-Oct-20",
          "23-Oct-20",
          "24-Oct-20",
          "25-Oct-20",
          "26-Oct-20",
          "27-Oct-20",
          "28-Oct-20",
          "29-Oct-20",
          "30-Oct-20",
          "31-Oct-20",
          "01-Nov-20",
          "02-Nov-20",
          "03-Nov-20",
          "04-Nov-20",
          "05-Nov-20",
          "06-Nov-20",
          "07-Nov-20",
          "08-Nov-20",
          "09-Nov-20",
          "10-Nov-20",
          "11-Nov-20",
          "12-Nov-20",
          "13-Nov-20",
          "14-Nov-20",
          "15-Nov-20",
          "16-Nov-20",
          "17-Nov-20",
          "18-Nov-20",
          "19-Nov-20",
          "20-Nov-20",
          "21-Nov-20",
          "22-Nov-20",
          "23-Nov-20",
          "24-Nov-20",
          "25-Nov-20",
          "26-Nov-20",
          "27-Nov-20",
          "28-Nov-20",
          "29-Nov-20",
          "30-Nov-20",
          "01-Dec-20",
          "02-Dec-20",
          "03-Dec-20",
          "04-Dec-20",
          "05-Dec-20",
          "06-Dec-20",
          "07-Dec-20",
          "08-Dec-20",
          "09-Dec-20",
          "10-Dec-20",
          "11-Dec-20",
          "12-Dec-20",
          "13-Dec-20",
          "14-Dec-20",
          "15-Dec-20",
          "16-Dec-20",
          "17-Dec-20",
          "18-Dec-20",
          "19-Dec-20",
          "20-Dec-20",
          "21-Dec-20",
          "22-Dec-20",
          "23-Dec-20",
          "24-Dec-20",
          "25-Dec-20",
          "26-Dec-20",
          "27-Dec-20",
          "28-Dec-20",
          "29-Dec-20",
          "30-Dec-20",
          "31-Dec-20",
          "01-Jan-21",
          "02-Jan-21",
          "03-Jan-21",
          "04-Jan-21",
          "05-Jan-21",
          "06-Jan-21",
          "07-Jan-21",
          "08-Jan-21",
          "09-Jan-21",
          "10-Jan-21",
          "11-Jan-21",
          "12-Jan-21",
          "13-Jan-21",
          "14-Jan-21",
          "15-Jan-21",
          "16-Jan-21",
          "17-Jan-21",
          "18-Jan-21",
          "19-Jan-21",
          "20-Jan-21",
          "21-Jan-21",
          "22-Jan-21",
          "23-Jan-21",
          "24-Jan-21",
          "25-Jan-21",
          "26-Jan-21",
          "27-Jan-21",
          "28-Jan-21",
          "29-Jan-21",
          "30-Jan-21",
          "31-Jan-21",
          "01-Feb-21",
          "02-Feb-21",
          "03-Feb-21",
          "04-Feb-21",
          "05-Feb-21",
          "06-Feb-21",
          "07-Feb-21",
          "08-Feb-21",
          "09-Feb-21",
          "10-Feb-21",
          "11-Feb-21",
          "12-Feb-21",
          "13-Feb-21",
          "14-Feb-21",
          "15-Feb-21",
          "16-Feb-21",
          "17-Feb-21",
          "18-Feb-21",
          "19-Feb-21",
          "20-Feb-21",
          "21-Feb-21",
          "22-Feb-21",
          "23-Feb-21",
          "24-Feb-21",
          "25-Feb-21",
          "26-Feb-21",
          "27-Feb-21",
          "28-Feb-21",
          "01-Mar-21",
          "02-Mar-21",
          "03-Mar-21",
          "04-Mar-21",
          "05-Mar-21",
          "06-Mar-21",
          "07-Mar-21",
          "08-Mar-21",
          "09-Mar-21",
          "10-Mar-21",
          "11-Mar-21",
          "12-Mar-21",
          "13-Mar-21",
          "14-Mar-21",
          "15-Mar-21",
          "16-Mar-21",
          "17-Mar-21",
          "18-Mar-21",
          "19-Mar-21",
          "20-Mar-21",
          "21-Mar-21",
          "22-Mar-21",
          "23-Mar-21",
          "24-Mar-21",
          "25-Mar-21",
          "26-Mar-21",
          "27-Mar-21",
          "28-Mar-21",
          "29-Mar-21",
          "30-Mar-21",
          "31-Mar-21",
          "01-Apr-21",
          "02-Apr-21",
          "03-Apr-21",
          "04-Apr-21",
          "05-Apr-21",
          "06-Apr-21",
          "07-Apr-21",
          "08-Apr-21",
          "09-Apr-21",
          "10-Apr-21",
          "11-Apr-21",
          "12-Apr-21",
          "13-Apr-21",
          "14-Apr-21",
          "15-Apr-21",
          "16-Apr-21",
          "17-Apr-21",
          "18-Apr-21",
          "19-Apr-21",
          "20-Apr-21",
          "21-Apr-21",
          "22-Apr-21",
          "23-Apr-21",
          "24-Apr-21",
          "25-Apr-21",
          "26-Apr-21",
          "27-Apr-21",
          "28-Apr-21",
          "29-Apr-21",
          "30-Apr-21",
          "01-May-21",
          "02-May-21",
          "03-May-21",
          "04-May-21",
          "05-May-21",
          "06-May-21",
          "07-May-21",
          "08-May-21",
          "09-May-21",
          "10-May-21",
          "11-May-21",
          "12-May-21",
          "13-May-21",
          "14-May-21",
          "15-May-21",
          "16-May-21",
          "17-May-21",
          "18-May-21",
          "19-May-21",
          "20-May-21",
          "21-May-21",
          "22-May-21",
          "23-May-21",
          "24-May-21",
          "25-May-21",
          "26-May-21",
          "27-May-21",
          "28-May-21",
          "29-May-21",
          "30-May-21",
          "31-May-21",
          "01-Jun-21",
          "02-Jun-21",
          "03-Jun-21",
          "04-Jun-21",
          "05-Jun-21",
          "06-Jun-21",
          "07-Jun-21",
          "08-Jun-21",
          "09-Jun-21",
          "10-Jun-21",
          "11-Jun-21",
          "12-Jun-21",
          "13-Jun-21",
          "14-Jun-21",
          "15-Jun-21",
          "16-Jun-21"
         ],
         "y": [
          7,
          0,
          0,
          1,
          2,
          4,
          6,
          7,
          0,
          3,
          0,
          5,
          1,
          4,
          9,
          23,
          25,
          23,
          32,
          141,
          93,
          59,
          58,
          22,
          51,
          93,
          51,
          183,
          166,
          85,
          356,
          51,
          17,
          62,
          67,
          186,
          110,
          78,
          75,
          92,
          128,
          138,
          111,
          293,
          190,
          206,
          125,
          76,
          223,
          384,
          427,
          349,
          206,
          428,
          448,
          338,
          224,
          381,
          310,
          406,
          359,
          472,
          425,
          438,
          422,
          299,
          500,
          534,
          571,
          660,
          591,
          508,
          635,
          412,
          792,
          1024,
          1105,
          1163,
          1295,
          990,
          1298,
          1513,
          1359,
          1330,
          1320,
          1282,
          1007,
          1366,
          1501,
          1877,
          2137,
          2134,
          2224,
          1647,
          1859,
          2414,
          2877,
          3137,
          3630,
          3000,
          2909,
          3947,
          3788,
          3390,
          3460,
          2948,
          2889,
          2084,
          2199,
          2442,
          2373,
          2520,
          2505,
          2244,
          1379,
          2008,
          2033,
          2187,
          2089,
          1781,
          1573,
          1246,
          1606,
          1647,
          1652,
          1462,
          1475,
          1211,
          954,
          1349,
          1227,
          1041,
          1025,
          1142,
          1075,
          613,
          1056,
          1035,
          1093,
          1195,
          1118,
          961,
          805,
          674,
          1076,
          1299,
          1192,
          1404,
          1300,
          707,
          1257,
          1113,
          956,
          1192,
          1276,
          652,
          787,
          1374,
          1398,
          1215,
          1250,
          1412,
          1450,
          1061,
          1544,
          1693,
          1840,
          1808,
          1954,
          2024,
          1358,
          2312,
          2509,
          2737,
          2914,
          2973,
          3256,
          2077,
          3609,
          4039,
          4308,
          4266,
          4321,
          4235,
          3229,
          4263,
          4473,
          4432,
          4127,
          4071,
          3812,
          2548,
          3816,
          3714,
          3834,
          3827,
          3372,
          3292,
          1984,
          3227,
          3390,
          3037,
          2920,
          2258,
          2683,
          1947,
          2676,
          2871,
          2726,
          2860,
          2866,
          2780,
          1849,
          3036,
          3324,
          3483,
          3428,
          3259,
          3299,
          2154,
          3579,
          3686,
          3882,
          4086,
          4116,
          4136,
          2832,
          4853,
          5673,
          5739,
          5891,
          5062,
          5664,
          4001,
          6725,
          6842,
          6715,
          7178,
          6953,
          7745,
          5023,
          7830,
          8593,
          7053,
          7802,
          7340,
          3235,
          3797,
          6396,
          7486,
          7546,
          6608,
          5879,
          6746,
          4454,
          6224,
          5246,
          5475,
          5482,
          4998,
          4906,
          3726,
          4006,
          3944,
          3734,
          4067,
          3419,
          2706,
          1674,
          3188,
          2463,
          1575,
          2385,
          1935,
          1984,
          1376,
          1617,
          1547,
          1363,
          1418,
          1139,
          1091,
          803,
          939,
          871,
          1063,
          758,
          655,
          757,
          564,
          703,
          677,
          574,
          585,
          494,
          424,
          384,
          442,
          654,
          486,
          444,
          519,
          399,
          306,
          386,
          357,
          340,
          295,
          299,
          246,
          161,
          231,
          228,
          227,
          266,
          197,
          185,
          148,
          157,
          96,
          199,
          249,
          183,
          140,
          121,
          114,
          150,
          158,
          154,
          123,
          119,
          125,
          100,
          127,
          142,
          141,
          126,
          150,
          141,
          94,
          134,
          130,
          158,
          152,
          145,
          128,
          145,
          200,
          220,
          256,
          243,
          197,
          175,
          217,
          240,
          261,
          312,
          321,
          286,
          239,
          320,
          370,
          409,
          431,
          419,
          407,
          368,
          425,
          536,
          607,
          716,
          813,
          823,
          888,
          1101,
          1254,
          1515,
          1534,
          1558,
          1881,
          1904,
          992,
          1819,
          2790,
          3594,
          3567,
          4033,
          3548,
          5100,
          5506,
          7437,
          8521,
          7897,
          10774,
          11491,
          13468,
          17282,
          16699,
          19486,
          24375,
          25462,
          23686,
          28395,
          24638,
          26169,
          24331,
          24103,
          22933,
          20201,
          24149,
          25986,
          24235,
          27047,
          25219,
          20394,
          18043,
          19953,
          20960,
          19133,
          19832,
          17364,
          13336,
          12651,
          12481,
          13287,
          10489,
          8506,
          6430,
          6456,
          4524,
          4482,
          3846,
          3231,
          3009,
          2260,
          1649,
          1550,
          1568,
          1491,
          1072,
          1141,
          956,
          946,
          648,
          623,
          576,
          487,
          523,
          414,
          381,
          231,
          316,
          337,
          305,
          238,
          213,
          255,
          131,
          228,
          212
         ]
        }
       ],
       "layout": {
        "template": {
         "data": {
          "bar": [
           {
            "error_x": {
             "color": "#2a3f5f"
            },
            "error_y": {
             "color": "#2a3f5f"
            },
            "marker": {
             "line": {
              "color": "#E5ECF6",
              "width": 0.5
             }
            },
            "type": "bar"
           }
          ],
          "barpolar": [
           {
            "marker": {
             "line": {
              "color": "#E5ECF6",
              "width": 0.5
             }
            },
            "type": "barpolar"
           }
          ],
          "carpet": [
           {
            "aaxis": {
             "endlinecolor": "#2a3f5f",
             "gridcolor": "white",
             "linecolor": "white",
             "minorgridcolor": "white",
             "startlinecolor": "#2a3f5f"
            },
            "baxis": {
             "endlinecolor": "#2a3f5f",
             "gridcolor": "white",
             "linecolor": "white",
             "minorgridcolor": "white",
             "startlinecolor": "#2a3f5f"
            },
            "type": "carpet"
           }
          ],
          "choropleth": [
           {
            "colorbar": {
             "outlinewidth": 0,
             "ticks": ""
            },
            "type": "choropleth"
           }
          ],
          "contour": [
           {
            "colorbar": {
             "outlinewidth": 0,
             "ticks": ""
            },
            "colorscale": [
             [
              0,
              "#0d0887"
             ],
             [
              0.1111111111111111,
              "#46039f"
             ],
             [
              0.2222222222222222,
              "#7201a8"
             ],
             [
              0.3333333333333333,
              "#9c179e"
             ],
             [
              0.4444444444444444,
              "#bd3786"
             ],
             [
              0.5555555555555556,
              "#d8576b"
             ],
             [
              0.6666666666666666,
              "#ed7953"
             ],
             [
              0.7777777777777778,
              "#fb9f3a"
             ],
             [
              0.8888888888888888,
              "#fdca26"
             ],
             [
              1,
              "#f0f921"
             ]
            ],
            "type": "contour"
           }
          ],
          "contourcarpet": [
           {
            "colorbar": {
             "outlinewidth": 0,
             "ticks": ""
            },
            "type": "contourcarpet"
           }
          ],
          "heatmap": [
           {
            "colorbar": {
             "outlinewidth": 0,
             "ticks": ""
            },
            "colorscale": [
             [
              0,
              "#0d0887"
             ],
             [
              0.1111111111111111,
              "#46039f"
             ],
             [
              0.2222222222222222,
              "#7201a8"
             ],
             [
              0.3333333333333333,
              "#9c179e"
             ],
             [
              0.4444444444444444,
              "#bd3786"
             ],
             [
              0.5555555555555556,
              "#d8576b"
             ],
             [
              0.6666666666666666,
              "#ed7953"
             ],
             [
              0.7777777777777778,
              "#fb9f3a"
             ],
             [
              0.8888888888888888,
              "#fdca26"
             ],
             [
              1,
              "#f0f921"
             ]
            ],
            "type": "heatmap"
           }
          ],
          "heatmapgl": [
           {
            "colorbar": {
             "outlinewidth": 0,
             "ticks": ""
            },
            "colorscale": [
             [
              0,
              "#0d0887"
             ],
             [
              0.1111111111111111,
              "#46039f"
             ],
             [
              0.2222222222222222,
              "#7201a8"
             ],
             [
              0.3333333333333333,
              "#9c179e"
             ],
             [
              0.4444444444444444,
              "#bd3786"
             ],
             [
              0.5555555555555556,
              "#d8576b"
             ],
             [
              0.6666666666666666,
              "#ed7953"
             ],
             [
              0.7777777777777778,
              "#fb9f3a"
             ],
             [
              0.8888888888888888,
              "#fdca26"
             ],
             [
              1,
              "#f0f921"
             ]
            ],
            "type": "heatmapgl"
           }
          ],
          "histogram": [
           {
            "marker": {
             "colorbar": {
              "outlinewidth": 0,
              "ticks": ""
             }
            },
            "type": "histogram"
           }
          ],
          "histogram2d": [
           {
            "colorbar": {
             "outlinewidth": 0,
             "ticks": ""
            },
            "colorscale": [
             [
              0,
              "#0d0887"
             ],
             [
              0.1111111111111111,
              "#46039f"
             ],
             [
              0.2222222222222222,
              "#7201a8"
             ],
             [
              0.3333333333333333,
              "#9c179e"
             ],
             [
              0.4444444444444444,
              "#bd3786"
             ],
             [
              0.5555555555555556,
              "#d8576b"
             ],
             [
              0.6666666666666666,
              "#ed7953"
             ],
             [
              0.7777777777777778,
              "#fb9f3a"
             ],
             [
              0.8888888888888888,
              "#fdca26"
             ],
             [
              1,
              "#f0f921"
             ]
            ],
            "type": "histogram2d"
           }
          ],
          "histogram2dcontour": [
           {
            "colorbar": {
             "outlinewidth": 0,
             "ticks": ""
            },
            "colorscale": [
             [
              0,
              "#0d0887"
             ],
             [
              0.1111111111111111,
              "#46039f"
             ],
             [
              0.2222222222222222,
              "#7201a8"
             ],
             [
              0.3333333333333333,
              "#9c179e"
             ],
             [
              0.4444444444444444,
              "#bd3786"
             ],
             [
              0.5555555555555556,
              "#d8576b"
             ],
             [
              0.6666666666666666,
              "#ed7953"
             ],
             [
              0.7777777777777778,
              "#fb9f3a"
             ],
             [
              0.8888888888888888,
              "#fdca26"
             ],
             [
              1,
              "#f0f921"
             ]
            ],
            "type": "histogram2dcontour"
           }
          ],
          "mesh3d": [
           {
            "colorbar": {
             "outlinewidth": 0,
             "ticks": ""
            },
            "type": "mesh3d"
           }
          ],
          "parcoords": [
           {
            "line": {
             "colorbar": {
              "outlinewidth": 0,
              "ticks": ""
             }
            },
            "type": "parcoords"
           }
          ],
          "pie": [
           {
            "automargin": true,
            "type": "pie"
           }
          ],
          "scatter": [
           {
            "marker": {
             "colorbar": {
              "outlinewidth": 0,
              "ticks": ""
             }
            },
            "type": "scatter"
           }
          ],
          "scatter3d": [
           {
            "line": {
             "colorbar": {
              "outlinewidth": 0,
              "ticks": ""
             }
            },
            "marker": {
             "colorbar": {
              "outlinewidth": 0,
              "ticks": ""
             }
            },
            "type": "scatter3d"
           }
          ],
          "scattercarpet": [
           {
            "marker": {
             "colorbar": {
              "outlinewidth": 0,
              "ticks": ""
             }
            },
            "type": "scattercarpet"
           }
          ],
          "scattergeo": [
           {
            "marker": {
             "colorbar": {
              "outlinewidth": 0,
              "ticks": ""
             }
            },
            "type": "scattergeo"
           }
          ],
          "scattergl": [
           {
            "marker": {
             "colorbar": {
              "outlinewidth": 0,
              "ticks": ""
             }
            },
            "type": "scattergl"
           }
          ],
          "scattermapbox": [
           {
            "marker": {
             "colorbar": {
              "outlinewidth": 0,
              "ticks": ""
             }
            },
            "type": "scattermapbox"
           }
          ],
          "scatterpolar": [
           {
            "marker": {
             "colorbar": {
              "outlinewidth": 0,
              "ticks": ""
             }
            },
            "type": "scatterpolar"
           }
          ],
          "scatterpolargl": [
           {
            "marker": {
             "colorbar": {
              "outlinewidth": 0,
              "ticks": ""
             }
            },
            "type": "scatterpolargl"
           }
          ],
          "scatterternary": [
           {
            "marker": {
             "colorbar": {
              "outlinewidth": 0,
              "ticks": ""
             }
            },
            "type": "scatterternary"
           }
          ],
          "surface": [
           {
            "colorbar": {
             "outlinewidth": 0,
             "ticks": ""
            },
            "colorscale": [
             [
              0,
              "#0d0887"
             ],
             [
              0.1111111111111111,
              "#46039f"
             ],
             [
              0.2222222222222222,
              "#7201a8"
             ],
             [
              0.3333333333333333,
              "#9c179e"
             ],
             [
              0.4444444444444444,
              "#bd3786"
             ],
             [
              0.5555555555555556,
              "#d8576b"
             ],
             [
              0.6666666666666666,
              "#ed7953"
             ],
             [
              0.7777777777777778,
              "#fb9f3a"
             ],
             [
              0.8888888888888888,
              "#fdca26"
             ],
             [
              1,
              "#f0f921"
             ]
            ],
            "type": "surface"
           }
          ],
          "table": [
           {
            "cells": {
             "fill": {
              "color": "#EBF0F8"
             },
             "line": {
              "color": "white"
             }
            },
            "header": {
             "fill": {
              "color": "#C8D4E3"
             },
             "line": {
              "color": "white"
             }
            },
            "type": "table"
           }
          ]
         },
         "layout": {
          "annotationdefaults": {
           "arrowcolor": "#2a3f5f",
           "arrowhead": 0,
           "arrowwidth": 1
          },
          "coloraxis": {
           "colorbar": {
            "outlinewidth": 0,
            "ticks": ""
           }
          },
          "colorscale": {
           "diverging": [
            [
             0,
             "#8e0152"
            ],
            [
             0.1,
             "#c51b7d"
            ],
            [
             0.2,
             "#de77ae"
            ],
            [
             0.3,
             "#f1b6da"
            ],
            [
             0.4,
             "#fde0ef"
            ],
            [
             0.5,
             "#f7f7f7"
            ],
            [
             0.6,
             "#e6f5d0"
            ],
            [
             0.7,
             "#b8e186"
            ],
            [
             0.8,
             "#7fbc41"
            ],
            [
             0.9,
             "#4d9221"
            ],
            [
             1,
             "#276419"
            ]
           ],
           "sequential": [
            [
             0,
             "#0d0887"
            ],
            [
             0.1111111111111111,
             "#46039f"
            ],
            [
             0.2222222222222222,
             "#7201a8"
            ],
            [
             0.3333333333333333,
             "#9c179e"
            ],
            [
             0.4444444444444444,
             "#bd3786"
            ],
            [
             0.5555555555555556,
             "#d8576b"
            ],
            [
             0.6666666666666666,
             "#ed7953"
            ],
            [
             0.7777777777777778,
             "#fb9f3a"
            ],
            [
             0.8888888888888888,
             "#fdca26"
            ],
            [
             1,
             "#f0f921"
            ]
           ],
           "sequentialminus": [
            [
             0,
             "#0d0887"
            ],
            [
             0.1111111111111111,
             "#46039f"
            ],
            [
             0.2222222222222222,
             "#7201a8"
            ],
            [
             0.3333333333333333,
             "#9c179e"
            ],
            [
             0.4444444444444444,
             "#bd3786"
            ],
            [
             0.5555555555555556,
             "#d8576b"
            ],
            [
             0.6666666666666666,
             "#ed7953"
            ],
            [
             0.7777777777777778,
             "#fb9f3a"
            ],
            [
             0.8888888888888888,
             "#fdca26"
            ],
            [
             1,
             "#f0f921"
            ]
           ]
          },
          "colorway": [
           "#636efa",
           "#EF553B",
           "#00cc96",
           "#ab63fa",
           "#FFA15A",
           "#19d3f3",
           "#FF6692",
           "#B6E880",
           "#FF97FF",
           "#FECB52"
          ],
          "font": {
           "color": "#2a3f5f"
          },
          "geo": {
           "bgcolor": "white",
           "lakecolor": "white",
           "landcolor": "#E5ECF6",
           "showlakes": true,
           "showland": true,
           "subunitcolor": "white"
          },
          "hoverlabel": {
           "align": "left"
          },
          "hovermode": "closest",
          "mapbox": {
           "style": "light"
          },
          "paper_bgcolor": "white",
          "plot_bgcolor": "#E5ECF6",
          "polar": {
           "angularaxis": {
            "gridcolor": "white",
            "linecolor": "white",
            "ticks": ""
           },
           "bgcolor": "#E5ECF6",
           "radialaxis": {
            "gridcolor": "white",
            "linecolor": "white",
            "ticks": ""
           }
          },
          "scene": {
           "xaxis": {
            "backgroundcolor": "#E5ECF6",
            "gridcolor": "white",
            "gridwidth": 2,
            "linecolor": "white",
            "showbackground": true,
            "ticks": "",
            "zerolinecolor": "white"
           },
           "yaxis": {
            "backgroundcolor": "#E5ECF6",
            "gridcolor": "white",
            "gridwidth": 2,
            "linecolor": "white",
            "showbackground": true,
            "ticks": "",
            "zerolinecolor": "white"
           },
           "zaxis": {
            "backgroundcolor": "#E5ECF6",
            "gridcolor": "white",
            "gridwidth": 2,
            "linecolor": "white",
            "showbackground": true,
            "ticks": "",
            "zerolinecolor": "white"
           }
          },
          "shapedefaults": {
           "line": {
            "color": "#2a3f5f"
           }
          },
          "ternary": {
           "aaxis": {
            "gridcolor": "white",
            "linecolor": "white",
            "ticks": ""
           },
           "baxis": {
            "gridcolor": "white",
            "linecolor": "white",
            "ticks": ""
           },
           "bgcolor": "#E5ECF6",
           "caxis": {
            "gridcolor": "white",
            "linecolor": "white",
            "ticks": ""
           }
          },
          "title": {
           "x": 0.05
          },
          "xaxis": {
           "automargin": true,
           "gridcolor": "white",
           "linecolor": "white",
           "ticks": "",
           "title": {
            "standoff": 15
           },
           "zerolinecolor": "white",
           "zerolinewidth": 2
          },
          "yaxis": {
           "automargin": true,
           "gridcolor": "white",
           "linecolor": "white",
           "ticks": "",
           "title": {
            "standoff": 15
           },
           "zerolinecolor": "white",
           "zerolinewidth": 2
          }
         }
        },
        "title": {
         "text": "Daily Confirm tOTAL DELHI"
        }
       }
      },
      "text/html": [
       "<div>                            <div id=\"2df4f023-3905-46e8-abc9-881d26403c25\" class=\"plotly-graph-div\" style=\"height:525px; width:100%;\"></div>            <script type=\"text/javascript\">                require([\"plotly\"], function(Plotly) {                    window.PLOTLYENV=window.PLOTLYENV || {};                                    if (document.getElementById(\"2df4f023-3905-46e8-abc9-881d26403c25\")) {                    Plotly.newPlot(                        \"2df4f023-3905-46e8-abc9-881d26403c25\",                        [{\"name\": \"daily confirmed cases DELHI\", \"type\": \"scatter\", \"x\": [\"14-Mar-20\", \"15-Mar-20\", \"16-Mar-20\", \"17-Mar-20\", \"18-Mar-20\", \"19-Mar-20\", \"20-Mar-20\", \"21-Mar-20\", \"22-Mar-20\", \"23-Mar-20\", \"24-Mar-20\", \"25-Mar-20\", \"26-Mar-20\", \"27-Mar-20\", \"28-Mar-20\", \"29-Mar-20\", \"30-Mar-20\", \"31-Mar-20\", \"01-Apr-20\", \"02-Apr-20\", \"03-Apr-20\", \"04-Apr-20\", \"05-Apr-20\", \"06-Apr-20\", \"07-Apr-20\", \"08-Apr-20\", \"09-Apr-20\", \"10-Apr-20\", \"11-Apr-20\", \"12-Apr-20\", \"13-Apr-20\", \"14-Apr-20\", \"15-Apr-20\", \"16-Apr-20\", \"17-Apr-20\", \"18-Apr-20\", \"19-Apr-20\", \"20-Apr-20\", \"21-Apr-20\", \"22-Apr-20\", \"23-Apr-20\", \"24-Apr-20\", \"25-Apr-20\", \"26-Apr-20\", \"27-Apr-20\", \"28-Apr-20\", \"29-Apr-20\", \"30-Apr-20\", \"01-May-20\", \"02-May-20\", \"03-May-20\", \"04-May-20\", \"05-May-20\", \"06-May-20\", \"07-May-20\", \"08-May-20\", \"09-May-20\", \"10-May-20\", \"11-May-20\", \"12-May-20\", \"13-May-20\", \"14-May-20\", \"15-May-20\", \"16-May-20\", \"17-May-20\", \"18-May-20\", \"19-May-20\", \"20-May-20\", \"21-May-20\", \"22-May-20\", \"23-May-20\", \"24-May-20\", \"25-May-20\", \"26-May-20\", \"27-May-20\", \"28-May-20\", \"29-May-20\", \"30-May-20\", \"31-May-20\", \"01-Jun-20\", \"02-Jun-20\", \"03-Jun-20\", \"04-Jun-20\", \"05-Jun-20\", \"06-Jun-20\", \"07-Jun-20\", \"08-Jun-20\", \"09-Jun-20\", \"10-Jun-20\", \"11-Jun-20\", \"12-Jun-20\", \"13-Jun-20\", \"14-Jun-20\", \"15-Jun-20\", \"16-Jun-20\", \"17-Jun-20\", \"18-Jun-20\", \"19-Jun-20\", \"20-Jun-20\", \"21-Jun-20\", \"22-Jun-20\", \"23-Jun-20\", \"24-Jun-20\", \"25-Jun-20\", \"26-Jun-20\", \"27-Jun-20\", \"28-Jun-20\", \"29-Jun-20\", \"30-Jun-20\", \"01-Jul-20\", \"02-Jul-20\", \"03-Jul-20\", \"04-Jul-20\", \"05-Jul-20\", \"06-Jul-20\", \"07-Jul-20\", \"08-Jul-20\", \"09-Jul-20\", \"10-Jul-20\", \"11-Jul-20\", \"12-Jul-20\", \"13-Jul-20\", \"14-Jul-20\", \"15-Jul-20\", \"16-Jul-20\", \"17-Jul-20\", \"18-Jul-20\", \"19-Jul-20\", \"20-Jul-20\", \"21-Jul-20\", \"22-Jul-20\", \"23-Jul-20\", \"24-Jul-20\", \"25-Jul-20\", \"26-Jul-20\", \"27-Jul-20\", \"28-Jul-20\", \"29-Jul-20\", \"30-Jul-20\", \"31-Jul-20\", \"01-Aug-20\", \"02-Aug-20\", \"03-Aug-20\", \"04-Aug-20\", \"05-Aug-20\", \"06-Aug-20\", \"07-Aug-20\", \"08-Aug-20\", \"09-Aug-20\", \"10-Aug-20\", \"11-Aug-20\", \"12-Aug-20\", \"13-Aug-20\", \"14-Aug-20\", \"15-Aug-20\", \"16-Aug-20\", \"17-Aug-20\", \"18-Aug-20\", \"19-Aug-20\", \"20-Aug-20\", \"21-Aug-20\", \"22-Aug-20\", \"23-Aug-20\", \"24-Aug-20\", \"25-Aug-20\", \"26-Aug-20\", \"27-Aug-20\", \"28-Aug-20\", \"29-Aug-20\", \"30-Aug-20\", \"31-Aug-20\", \"01-Sep-20\", \"02-Sep-20\", \"03-Sep-20\", \"04-Sep-20\", \"05-Sep-20\", \"06-Sep-20\", \"07-Sep-20\", \"08-Sep-20\", \"09-Sep-20\", \"10-Sep-20\", \"11-Sep-20\", \"12-Sep-20\", \"13-Sep-20\", \"14-Sep-20\", \"15-Sep-20\", \"16-Sep-20\", \"17-Sep-20\", \"18-Sep-20\", \"19-Sep-20\", \"20-Sep-20\", \"21-Sep-20\", \"22-Sep-20\", \"23-Sep-20\", \"24-Sep-20\", \"25-Sep-20\", \"26-Sep-20\", \"27-Sep-20\", \"28-Sep-20\", \"29-Sep-20\", \"30-Sep-20\", \"01-Oct-20\", \"02-Oct-20\", \"03-Oct-20\", \"04-Oct-20\", \"05-Oct-20\", \"06-Oct-20\", \"07-Oct-20\", \"08-Oct-20\", \"09-Oct-20\", \"10-Oct-20\", \"11-Oct-20\", \"12-Oct-20\", \"13-Oct-20\", \"14-Oct-20\", \"15-Oct-20\", \"16-Oct-20\", \"17-Oct-20\", \"18-Oct-20\", \"19-Oct-20\", \"20-Oct-20\", \"21-Oct-20\", \"22-Oct-20\", \"23-Oct-20\", \"24-Oct-20\", \"25-Oct-20\", \"26-Oct-20\", \"27-Oct-20\", \"28-Oct-20\", \"29-Oct-20\", \"30-Oct-20\", \"31-Oct-20\", \"01-Nov-20\", \"02-Nov-20\", \"03-Nov-20\", \"04-Nov-20\", \"05-Nov-20\", \"06-Nov-20\", \"07-Nov-20\", \"08-Nov-20\", \"09-Nov-20\", \"10-Nov-20\", \"11-Nov-20\", \"12-Nov-20\", \"13-Nov-20\", \"14-Nov-20\", \"15-Nov-20\", \"16-Nov-20\", \"17-Nov-20\", \"18-Nov-20\", \"19-Nov-20\", \"20-Nov-20\", \"21-Nov-20\", \"22-Nov-20\", \"23-Nov-20\", \"24-Nov-20\", \"25-Nov-20\", \"26-Nov-20\", \"27-Nov-20\", \"28-Nov-20\", \"29-Nov-20\", \"30-Nov-20\", \"01-Dec-20\", \"02-Dec-20\", \"03-Dec-20\", \"04-Dec-20\", \"05-Dec-20\", \"06-Dec-20\", \"07-Dec-20\", \"08-Dec-20\", \"09-Dec-20\", \"10-Dec-20\", \"11-Dec-20\", \"12-Dec-20\", \"13-Dec-20\", \"14-Dec-20\", \"15-Dec-20\", \"16-Dec-20\", \"17-Dec-20\", \"18-Dec-20\", \"19-Dec-20\", \"20-Dec-20\", \"21-Dec-20\", \"22-Dec-20\", \"23-Dec-20\", \"24-Dec-20\", \"25-Dec-20\", \"26-Dec-20\", \"27-Dec-20\", \"28-Dec-20\", \"29-Dec-20\", \"30-Dec-20\", \"31-Dec-20\", \"01-Jan-21\", \"02-Jan-21\", \"03-Jan-21\", \"04-Jan-21\", \"05-Jan-21\", \"06-Jan-21\", \"07-Jan-21\", \"08-Jan-21\", \"09-Jan-21\", \"10-Jan-21\", \"11-Jan-21\", \"12-Jan-21\", \"13-Jan-21\", \"14-Jan-21\", \"15-Jan-21\", \"16-Jan-21\", \"17-Jan-21\", \"18-Jan-21\", \"19-Jan-21\", \"20-Jan-21\", \"21-Jan-21\", \"22-Jan-21\", \"23-Jan-21\", \"24-Jan-21\", \"25-Jan-21\", \"26-Jan-21\", \"27-Jan-21\", \"28-Jan-21\", \"29-Jan-21\", \"30-Jan-21\", \"31-Jan-21\", \"01-Feb-21\", \"02-Feb-21\", \"03-Feb-21\", \"04-Feb-21\", \"05-Feb-21\", \"06-Feb-21\", \"07-Feb-21\", \"08-Feb-21\", \"09-Feb-21\", \"10-Feb-21\", \"11-Feb-21\", \"12-Feb-21\", \"13-Feb-21\", \"14-Feb-21\", \"15-Feb-21\", \"16-Feb-21\", \"17-Feb-21\", \"18-Feb-21\", \"19-Feb-21\", \"20-Feb-21\", \"21-Feb-21\", \"22-Feb-21\", \"23-Feb-21\", \"24-Feb-21\", \"25-Feb-21\", \"26-Feb-21\", \"27-Feb-21\", \"28-Feb-21\", \"01-Mar-21\", \"02-Mar-21\", \"03-Mar-21\", \"04-Mar-21\", \"05-Mar-21\", \"06-Mar-21\", \"07-Mar-21\", \"08-Mar-21\", \"09-Mar-21\", \"10-Mar-21\", \"11-Mar-21\", \"12-Mar-21\", \"13-Mar-21\", \"14-Mar-21\", \"15-Mar-21\", \"16-Mar-21\", \"17-Mar-21\", \"18-Mar-21\", \"19-Mar-21\", \"20-Mar-21\", \"21-Mar-21\", \"22-Mar-21\", \"23-Mar-21\", \"24-Mar-21\", \"25-Mar-21\", \"26-Mar-21\", \"27-Mar-21\", \"28-Mar-21\", \"29-Mar-21\", \"30-Mar-21\", \"31-Mar-21\", \"01-Apr-21\", \"02-Apr-21\", \"03-Apr-21\", \"04-Apr-21\", \"05-Apr-21\", \"06-Apr-21\", \"07-Apr-21\", \"08-Apr-21\", \"09-Apr-21\", \"10-Apr-21\", \"11-Apr-21\", \"12-Apr-21\", \"13-Apr-21\", \"14-Apr-21\", \"15-Apr-21\", \"16-Apr-21\", \"17-Apr-21\", \"18-Apr-21\", \"19-Apr-21\", \"20-Apr-21\", \"21-Apr-21\", \"22-Apr-21\", \"23-Apr-21\", \"24-Apr-21\", \"25-Apr-21\", \"26-Apr-21\", \"27-Apr-21\", \"28-Apr-21\", \"29-Apr-21\", \"30-Apr-21\", \"01-May-21\", \"02-May-21\", \"03-May-21\", \"04-May-21\", \"05-May-21\", \"06-May-21\", \"07-May-21\", \"08-May-21\", \"09-May-21\", \"10-May-21\", \"11-May-21\", \"12-May-21\", \"13-May-21\", \"14-May-21\", \"15-May-21\", \"16-May-21\", \"17-May-21\", \"18-May-21\", \"19-May-21\", \"20-May-21\", \"21-May-21\", \"22-May-21\", \"23-May-21\", \"24-May-21\", \"25-May-21\", \"26-May-21\", \"27-May-21\", \"28-May-21\", \"29-May-21\", \"30-May-21\", \"31-May-21\", \"01-Jun-21\", \"02-Jun-21\", \"03-Jun-21\", \"04-Jun-21\", \"05-Jun-21\", \"06-Jun-21\", \"07-Jun-21\", \"08-Jun-21\", \"09-Jun-21\", \"10-Jun-21\", \"11-Jun-21\", \"12-Jun-21\", \"13-Jun-21\", \"14-Jun-21\", \"15-Jun-21\", \"16-Jun-21\"], \"y\": [7, 0, 0, 1, 2, 4, 6, 7, 0, 3, 0, 5, 1, 4, 9, 23, 25, 23, 32, 141, 93, 59, 58, 22, 51, 93, 51, 183, 166, 85, 356, 51, 17, 62, 67, 186, 110, 78, 75, 92, 128, 138, 111, 293, 190, 206, 125, 76, 223, 384, 427, 349, 206, 428, 448, 338, 224, 381, 310, 406, 359, 472, 425, 438, 422, 299, 500, 534, 571, 660, 591, 508, 635, 412, 792, 1024, 1105, 1163, 1295, 990, 1298, 1513, 1359, 1330, 1320, 1282, 1007, 1366, 1501, 1877, 2137, 2134, 2224, 1647, 1859, 2414, 2877, 3137, 3630, 3000, 2909, 3947, 3788, 3390, 3460, 2948, 2889, 2084, 2199, 2442, 2373, 2520, 2505, 2244, 1379, 2008, 2033, 2187, 2089, 1781, 1573, 1246, 1606, 1647, 1652, 1462, 1475, 1211, 954, 1349, 1227, 1041, 1025, 1142, 1075, 613, 1056, 1035, 1093, 1195, 1118, 961, 805, 674, 1076, 1299, 1192, 1404, 1300, 707, 1257, 1113, 956, 1192, 1276, 652, 787, 1374, 1398, 1215, 1250, 1412, 1450, 1061, 1544, 1693, 1840, 1808, 1954, 2024, 1358, 2312, 2509, 2737, 2914, 2973, 3256, 2077, 3609, 4039, 4308, 4266, 4321, 4235, 3229, 4263, 4473, 4432, 4127, 4071, 3812, 2548, 3816, 3714, 3834, 3827, 3372, 3292, 1984, 3227, 3390, 3037, 2920, 2258, 2683, 1947, 2676, 2871, 2726, 2860, 2866, 2780, 1849, 3036, 3324, 3483, 3428, 3259, 3299, 2154, 3579, 3686, 3882, 4086, 4116, 4136, 2832, 4853, 5673, 5739, 5891, 5062, 5664, 4001, 6725, 6842, 6715, 7178, 6953, 7745, 5023, 7830, 8593, 7053, 7802, 7340, 3235, 3797, 6396, 7486, 7546, 6608, 5879, 6746, 4454, 6224, 5246, 5475, 5482, 4998, 4906, 3726, 4006, 3944, 3734, 4067, 3419, 2706, 1674, 3188, 2463, 1575, 2385, 1935, 1984, 1376, 1617, 1547, 1363, 1418, 1139, 1091, 803, 939, 871, 1063, 758, 655, 757, 564, 703, 677, 574, 585, 494, 424, 384, 442, 654, 486, 444, 519, 399, 306, 386, 357, 340, 295, 299, 246, 161, 231, 228, 227, 266, 197, 185, 148, 157, 96, 199, 249, 183, 140, 121, 114, 150, 158, 154, 123, 119, 125, 100, 127, 142, 141, 126, 150, 141, 94, 134, 130, 158, 152, 145, 128, 145, 200, 220, 256, 243, 197, 175, 217, 240, 261, 312, 321, 286, 239, 320, 370, 409, 431, 419, 407, 368, 425, 536, 607, 716, 813, 823, 888, 1101, 1254, 1515, 1534, 1558, 1881, 1904, 992, 1819, 2790, 3594, 3567, 4033, 3548, 5100, 5506, 7437, 8521, 7897, 10774, 11491, 13468, 17282, 16699, 19486, 24375, 25462, 23686, 28395, 24638, 26169, 24331, 24103, 22933, 20201, 24149, 25986, 24235, 27047, 25219, 20394, 18043, 19953, 20960, 19133, 19832, 17364, 13336, 12651, 12481, 13287, 10489, 8506, 6430, 6456, 4524, 4482, 3846, 3231, 3009, 2260, 1649, 1550, 1568, 1491, 1072, 1141, 956, 946, 648, 623, 576, 487, 523, 414, 381, 231, 316, 337, 305, 238, 213, 255, 131, 228, 212]}],                        {\"template\": {\"data\": {\"bar\": [{\"error_x\": {\"color\": \"#2a3f5f\"}, \"error_y\": {\"color\": \"#2a3f5f\"}, \"marker\": {\"line\": {\"color\": \"#E5ECF6\", \"width\": 0.5}}, \"type\": \"bar\"}], \"barpolar\": [{\"marker\": {\"line\": {\"color\": \"#E5ECF6\", \"width\": 0.5}}, \"type\": \"barpolar\"}], \"carpet\": [{\"aaxis\": {\"endlinecolor\": \"#2a3f5f\", \"gridcolor\": \"white\", \"linecolor\": \"white\", \"minorgridcolor\": \"white\", \"startlinecolor\": \"#2a3f5f\"}, \"baxis\": {\"endlinecolor\": \"#2a3f5f\", \"gridcolor\": \"white\", \"linecolor\": \"white\", \"minorgridcolor\": \"white\", \"startlinecolor\": \"#2a3f5f\"}, \"type\": \"carpet\"}], \"choropleth\": [{\"colorbar\": {\"outlinewidth\": 0, \"ticks\": \"\"}, \"type\": \"choropleth\"}], \"contour\": [{\"colorbar\": {\"outlinewidth\": 0, \"ticks\": \"\"}, \"colorscale\": [[0.0, \"#0d0887\"], [0.1111111111111111, \"#46039f\"], [0.2222222222222222, \"#7201a8\"], [0.3333333333333333, \"#9c179e\"], [0.4444444444444444, \"#bd3786\"], [0.5555555555555556, \"#d8576b\"], [0.6666666666666666, \"#ed7953\"], [0.7777777777777778, \"#fb9f3a\"], [0.8888888888888888, \"#fdca26\"], [1.0, \"#f0f921\"]], \"type\": \"contour\"}], \"contourcarpet\": [{\"colorbar\": {\"outlinewidth\": 0, \"ticks\": \"\"}, \"type\": \"contourcarpet\"}], \"heatmap\": [{\"colorbar\": {\"outlinewidth\": 0, \"ticks\": \"\"}, \"colorscale\": [[0.0, \"#0d0887\"], [0.1111111111111111, \"#46039f\"], [0.2222222222222222, \"#7201a8\"], [0.3333333333333333, \"#9c179e\"], [0.4444444444444444, \"#bd3786\"], [0.5555555555555556, \"#d8576b\"], [0.6666666666666666, \"#ed7953\"], [0.7777777777777778, \"#fb9f3a\"], [0.8888888888888888, \"#fdca26\"], [1.0, \"#f0f921\"]], \"type\": \"heatmap\"}], \"heatmapgl\": [{\"colorbar\": {\"outlinewidth\": 0, \"ticks\": \"\"}, \"colorscale\": [[0.0, \"#0d0887\"], [0.1111111111111111, \"#46039f\"], [0.2222222222222222, \"#7201a8\"], [0.3333333333333333, \"#9c179e\"], [0.4444444444444444, \"#bd3786\"], [0.5555555555555556, \"#d8576b\"], [0.6666666666666666, \"#ed7953\"], [0.7777777777777778, \"#fb9f3a\"], [0.8888888888888888, \"#fdca26\"], [1.0, \"#f0f921\"]], \"type\": \"heatmapgl\"}], \"histogram\": [{\"marker\": {\"colorbar\": {\"outlinewidth\": 0, \"ticks\": \"\"}}, \"type\": \"histogram\"}], \"histogram2d\": [{\"colorbar\": {\"outlinewidth\": 0, \"ticks\": \"\"}, \"colorscale\": [[0.0, \"#0d0887\"], [0.1111111111111111, \"#46039f\"], [0.2222222222222222, \"#7201a8\"], [0.3333333333333333, \"#9c179e\"], [0.4444444444444444, \"#bd3786\"], [0.5555555555555556, \"#d8576b\"], [0.6666666666666666, \"#ed7953\"], [0.7777777777777778, \"#fb9f3a\"], [0.8888888888888888, \"#fdca26\"], [1.0, \"#f0f921\"]], \"type\": \"histogram2d\"}], \"histogram2dcontour\": [{\"colorbar\": {\"outlinewidth\": 0, \"ticks\": \"\"}, \"colorscale\": [[0.0, \"#0d0887\"], [0.1111111111111111, \"#46039f\"], [0.2222222222222222, \"#7201a8\"], [0.3333333333333333, \"#9c179e\"], [0.4444444444444444, \"#bd3786\"], [0.5555555555555556, \"#d8576b\"], [0.6666666666666666, \"#ed7953\"], [0.7777777777777778, \"#fb9f3a\"], [0.8888888888888888, \"#fdca26\"], [1.0, \"#f0f921\"]], \"type\": \"histogram2dcontour\"}], \"mesh3d\": [{\"colorbar\": {\"outlinewidth\": 0, \"ticks\": \"\"}, \"type\": \"mesh3d\"}], \"parcoords\": [{\"line\": {\"colorbar\": {\"outlinewidth\": 0, \"ticks\": \"\"}}, \"type\": \"parcoords\"}], \"pie\": [{\"automargin\": true, \"type\": \"pie\"}], \"scatter\": [{\"marker\": {\"colorbar\": {\"outlinewidth\": 0, \"ticks\": \"\"}}, \"type\": \"scatter\"}], \"scatter3d\": [{\"line\": {\"colorbar\": {\"outlinewidth\": 0, \"ticks\": \"\"}}, \"marker\": {\"colorbar\": {\"outlinewidth\": 0, \"ticks\": \"\"}}, \"type\": \"scatter3d\"}], \"scattercarpet\": [{\"marker\": {\"colorbar\": {\"outlinewidth\": 0, \"ticks\": \"\"}}, \"type\": \"scattercarpet\"}], \"scattergeo\": [{\"marker\": {\"colorbar\": {\"outlinewidth\": 0, \"ticks\": \"\"}}, \"type\": \"scattergeo\"}], \"scattergl\": [{\"marker\": {\"colorbar\": {\"outlinewidth\": 0, \"ticks\": \"\"}}, \"type\": \"scattergl\"}], \"scattermapbox\": [{\"marker\": {\"colorbar\": {\"outlinewidth\": 0, \"ticks\": \"\"}}, \"type\": \"scattermapbox\"}], \"scatterpolar\": [{\"marker\": {\"colorbar\": {\"outlinewidth\": 0, \"ticks\": \"\"}}, \"type\": \"scatterpolar\"}], \"scatterpolargl\": [{\"marker\": {\"colorbar\": {\"outlinewidth\": 0, \"ticks\": \"\"}}, \"type\": \"scatterpolargl\"}], \"scatterternary\": [{\"marker\": {\"colorbar\": {\"outlinewidth\": 0, \"ticks\": \"\"}}, \"type\": \"scatterternary\"}], \"surface\": [{\"colorbar\": {\"outlinewidth\": 0, \"ticks\": \"\"}, \"colorscale\": [[0.0, \"#0d0887\"], [0.1111111111111111, \"#46039f\"], [0.2222222222222222, \"#7201a8\"], [0.3333333333333333, \"#9c179e\"], [0.4444444444444444, \"#bd3786\"], [0.5555555555555556, \"#d8576b\"], [0.6666666666666666, \"#ed7953\"], [0.7777777777777778, \"#fb9f3a\"], [0.8888888888888888, \"#fdca26\"], [1.0, \"#f0f921\"]], \"type\": \"surface\"}], \"table\": [{\"cells\": {\"fill\": {\"color\": \"#EBF0F8\"}, \"line\": {\"color\": \"white\"}}, \"header\": {\"fill\": {\"color\": \"#C8D4E3\"}, \"line\": {\"color\": \"white\"}}, \"type\": \"table\"}]}, \"layout\": {\"annotationdefaults\": {\"arrowcolor\": \"#2a3f5f\", \"arrowhead\": 0, \"arrowwidth\": 1}, \"coloraxis\": {\"colorbar\": {\"outlinewidth\": 0, \"ticks\": \"\"}}, \"colorscale\": {\"diverging\": [[0, \"#8e0152\"], [0.1, \"#c51b7d\"], [0.2, \"#de77ae\"], [0.3, \"#f1b6da\"], [0.4, \"#fde0ef\"], [0.5, \"#f7f7f7\"], [0.6, \"#e6f5d0\"], [0.7, \"#b8e186\"], [0.8, \"#7fbc41\"], [0.9, \"#4d9221\"], [1, \"#276419\"]], \"sequential\": [[0.0, \"#0d0887\"], [0.1111111111111111, \"#46039f\"], [0.2222222222222222, \"#7201a8\"], [0.3333333333333333, \"#9c179e\"], [0.4444444444444444, \"#bd3786\"], [0.5555555555555556, \"#d8576b\"], [0.6666666666666666, \"#ed7953\"], [0.7777777777777778, \"#fb9f3a\"], [0.8888888888888888, \"#fdca26\"], [1.0, \"#f0f921\"]], \"sequentialminus\": [[0.0, \"#0d0887\"], [0.1111111111111111, \"#46039f\"], [0.2222222222222222, \"#7201a8\"], [0.3333333333333333, \"#9c179e\"], [0.4444444444444444, \"#bd3786\"], [0.5555555555555556, \"#d8576b\"], [0.6666666666666666, \"#ed7953\"], [0.7777777777777778, \"#fb9f3a\"], [0.8888888888888888, \"#fdca26\"], [1.0, \"#f0f921\"]]}, \"colorway\": [\"#636efa\", \"#EF553B\", \"#00cc96\", \"#ab63fa\", \"#FFA15A\", \"#19d3f3\", \"#FF6692\", \"#B6E880\", \"#FF97FF\", \"#FECB52\"], \"font\": {\"color\": \"#2a3f5f\"}, \"geo\": {\"bgcolor\": \"white\", \"lakecolor\": \"white\", \"landcolor\": \"#E5ECF6\", \"showlakes\": true, \"showland\": true, \"subunitcolor\": \"white\"}, \"hoverlabel\": {\"align\": \"left\"}, \"hovermode\": \"closest\", \"mapbox\": {\"style\": \"light\"}, \"paper_bgcolor\": \"white\", \"plot_bgcolor\": \"#E5ECF6\", \"polar\": {\"angularaxis\": {\"gridcolor\": \"white\", \"linecolor\": \"white\", \"ticks\": \"\"}, \"bgcolor\": \"#E5ECF6\", \"radialaxis\": {\"gridcolor\": \"white\", \"linecolor\": \"white\", \"ticks\": \"\"}}, \"scene\": {\"xaxis\": {\"backgroundcolor\": \"#E5ECF6\", \"gridcolor\": \"white\", \"gridwidth\": 2, \"linecolor\": \"white\", \"showbackground\": true, \"ticks\": \"\", \"zerolinecolor\": \"white\"}, \"yaxis\": {\"backgroundcolor\": \"#E5ECF6\", \"gridcolor\": \"white\", \"gridwidth\": 2, \"linecolor\": \"white\", \"showbackground\": true, \"ticks\": \"\", \"zerolinecolor\": \"white\"}, \"zaxis\": {\"backgroundcolor\": \"#E5ECF6\", \"gridcolor\": \"white\", \"gridwidth\": 2, \"linecolor\": \"white\", \"showbackground\": true, \"ticks\": \"\", \"zerolinecolor\": \"white\"}}, \"shapedefaults\": {\"line\": {\"color\": \"#2a3f5f\"}}, \"ternary\": {\"aaxis\": {\"gridcolor\": \"white\", \"linecolor\": \"white\", \"ticks\": \"\"}, \"baxis\": {\"gridcolor\": \"white\", \"linecolor\": \"white\", \"ticks\": \"\"}, \"bgcolor\": \"#E5ECF6\", \"caxis\": {\"gridcolor\": \"white\", \"linecolor\": \"white\", \"ticks\": \"\"}}, \"title\": {\"x\": 0.05}, \"xaxis\": {\"automargin\": true, \"gridcolor\": \"white\", \"linecolor\": \"white\", \"ticks\": \"\", \"title\": {\"standoff\": 15}, \"zerolinecolor\": \"white\", \"zerolinewidth\": 2}, \"yaxis\": {\"automargin\": true, \"gridcolor\": \"white\", \"linecolor\": \"white\", \"ticks\": \"\", \"title\": {\"standoff\": 15}, \"zerolinecolor\": \"white\", \"zerolinewidth\": 2}}}, \"title\": {\"text\": \"Daily Confirm tOTAL DELHI\"}},                        {\"responsive\": true}                    ).then(function(){\n",
       "                            \n",
       "var gd = document.getElementById('2df4f023-3905-46e8-abc9-881d26403c25');\n",
       "var x = new MutationObserver(function (mutations, observer) {{\n",
       "        var display = window.getComputedStyle(gd).display;\n",
       "        if (!display || display === 'none') {{\n",
       "            console.log([gd, 'removed!']);\n",
       "            Plotly.purge(gd);\n",
       "            observer.disconnect();\n",
       "        }}\n",
       "}});\n",
       "\n",
       "// Listen for the removal of the full notebook cells\n",
       "var notebookContainer = gd.closest('#notebook-container');\n",
       "if (notebookContainer) {{\n",
       "    x.observe(notebookContainer, {childList: true});\n",
       "}}\n",
       "\n",
       "// Listen for the clearing of the current output cell\n",
       "var outputEl = gd.closest('.output');\n",
       "if (outputEl) {{\n",
       "    x.observe(outputEl, {childList: true});\n",
       "}}\n",
       "\n",
       "                        })                };                });            </script>        </div>"
      ]
     },
     "metadata": {},
     "output_type": "display_data"
    }
   ],
   "source": [
    "import plotly.graph_objs as go\n",
    "from plotly.offline import download_plotlyjs, init_notebook_mode, plot, iplot\n",
    "init_notebook_mode(connected=True)\n",
    "\n",
    "trace1 = go.Scatter(x=df.index,\n",
    "                    y=df['DL'],\n",
    "                    name = \"daily confirmed cases DELHI\"\n",
    "        \n",
    "                    )\n",
    "\n",
    "layout = dict(title='Daily Confirm tOTAL DELHI',)\n",
    "\n",
    "fig = dict(data=[trace1], layout=layout)\n",
    "iplot(fig)"
   ]
  },
  {
   "cell_type": "code",
   "execution_count": 10,
   "metadata": {},
   "outputs": [
    {
     "data": {
      "text/plain": [
       "460"
      ]
     },
     "execution_count": 10,
     "metadata": {},
     "output_type": "execute_result"
    }
   ],
   "source": [
    "len(df)"
   ]
  },
  {
   "cell_type": "code",
   "execution_count": 11,
   "metadata": {},
   "outputs": [
    {
     "data": {
      "text/plain": [
       "460"
      ]
     },
     "execution_count": 11,
     "metadata": {},
     "output_type": "execute_result"
    }
   ],
   "source": [
    "close_data=df\n",
    "len(close_data)"
   ]
  },
  {
   "cell_type": "code",
   "execution_count": 12,
   "metadata": {},
   "outputs": [
    {
     "data": {
      "text/plain": [
       "400"
      ]
     },
     "execution_count": 12,
     "metadata": {},
     "output_type": "execute_result"
    }
   ],
   "source": [
    "x=len(close_data)-60\n",
    "x"
   ]
  },
  {
   "cell_type": "code",
   "execution_count": 13,
   "metadata": {},
   "outputs": [
    {
     "name": "stdout",
     "output_type": "stream",
     "text": [
      "400\n",
      "60\n"
     ]
    }
   ],
   "source": [
    "close_data = df['DL'].values\n",
    "close_data = close_data.reshape((-1,1))\n",
    "\n",
    "\n",
    "close_train = close_data[:x]\n",
    "close_test = close_data[x:]\n",
    "\n",
    "date_train = df.index[:x]\n",
    "date_test = df.index[x:]\n",
    "\n",
    "print(len(close_train))\n",
    "print(len(close_test))"
   ]
  },
  {
   "cell_type": "code",
   "execution_count": 14,
   "metadata": {},
   "outputs": [],
   "source": [
    "close_data1 = df.drop(df.index[range(400)])\n",
    "close_data1\n",
    "close_data1=close_data1.drop(close_data1.index[-1])"
   ]
  },
  {
   "cell_type": "code",
   "execution_count": 15,
   "metadata": {},
   "outputs": [],
   "source": [
    "close_data2=close_data1"
   ]
  },
  {
   "cell_type": "code",
   "execution_count": 16,
   "metadata": {},
   "outputs": [],
   "source": [
    "close_data2\n",
    "len(close_data2)\n",
    "close_data2=close_data2['DL'].values\n",
    "close_data2 = close_data2.reshape((-1,1))"
   ]
  },
  {
   "cell_type": "code",
   "execution_count": 17,
   "metadata": {},
   "outputs": [],
   "source": [
    "import keras\n",
    "import tensorflow as tf\n",
    "from keras.preprocessing.sequence import TimeseriesGenerator"
   ]
  },
  {
   "cell_type": "code",
   "execution_count": 18,
   "metadata": {},
   "outputs": [],
   "source": [
    "\n",
    "look_back = 1\n",
    "\n",
    "train_generator = TimeseriesGenerator(close_train, close_train, length=look_back, batch_size=20)     \n",
    "test_generator = TimeseriesGenerator(close_test, close_test,length=look_back, batch_size=20)\n"
   ]
  },
  {
   "cell_type": "code",
   "execution_count": 19,
   "metadata": {},
   "outputs": [
    {
     "name": "stdout",
     "output_type": "stream",
     "text": [
      "Epoch 1/20\n",
      "20/20 - 0s - loss: 11900017.0000 - accuracy: 0.0100\n",
      "Epoch 2/20\n",
      "20/20 - 0s - loss: 11775343.0000 - accuracy: 0.0100\n",
      "Epoch 3/20\n",
      "20/20 - 0s - loss: 10632483.0000 - accuracy: 0.0100\n",
      "Epoch 4/20\n",
      "20/20 - 0s - loss: 10190087.0000 - accuracy: 0.0100\n",
      "Epoch 5/20\n",
      "20/20 - 0s - loss: 9947319.0000 - accuracy: 0.0100\n",
      "Epoch 6/20\n",
      "20/20 - 0s - loss: 9729236.0000 - accuracy: 0.0100\n",
      "Epoch 7/20\n",
      "20/20 - 0s - loss: 8682490.0000 - accuracy: 0.0050\n",
      "Epoch 8/20\n",
      "20/20 - 0s - loss: 7988629.0000 - accuracy: 0.0075\n",
      "Epoch 9/20\n",
      "20/20 - 0s - loss: 7518218.5000 - accuracy: 0.0075\n",
      "Epoch 10/20\n",
      "20/20 - 0s - loss: 7029588.5000 - accuracy: 0.0050\n",
      "Epoch 11/20\n",
      "20/20 - 0s - loss: 6587621.0000 - accuracy: 0.0050\n",
      "Epoch 12/20\n",
      "20/20 - 0s - loss: 6108987.0000 - accuracy: 0.0050\n",
      "Epoch 13/20\n",
      "20/20 - 0s - loss: 2779351.5000 - accuracy: 0.0050\n",
      "Epoch 14/20\n",
      "20/20 - 0s - loss: 2066631.0000 - accuracy: 0.0050\n",
      "Epoch 15/20\n",
      "20/20 - 0s - loss: 1631649.0000 - accuracy: 0.0050\n",
      "Epoch 16/20\n",
      "20/20 - 0s - loss: 1319881.6250 - accuracy: 0.0050\n",
      "Epoch 17/20\n",
      "20/20 - 0s - loss: 1063590.6250 - accuracy: 0.0050\n",
      "Epoch 18/20\n",
      "20/20 - 0s - loss: 941277.2500 - accuracy: 0.0050\n",
      "Epoch 19/20\n",
      "20/20 - 0s - loss: 766860.1875 - accuracy: 0.0050\n",
      "Epoch 20/20\n",
      "20/20 - 0s - loss: 679928.0625 - accuracy: 0.0050\n"
     ]
    },
    {
     "data": {
      "text/plain": [
       "<tensorflow.python.keras.callbacks.History at 0x1837ed0688>"
      ]
     },
     "execution_count": 19,
     "metadata": {},
     "output_type": "execute_result"
    }
   ],
   "source": [
    "from keras.models import Sequential\n",
    "from keras.layers import LSTM, Dense\n",
    "\n",
    "model = Sequential()\n",
    "model.add(\n",
    "    LSTM(40,\n",
    "        activation='relu',\n",
    "        input_shape=(look_back,1))\n",
    ")\n",
    "model.add(Dense(1))\n",
    "model.compile(optimizer='adam', loss='mse',metrics=['accuracy'])\n",
    "\n",
    "num_epochs = 20 \n",
    "model.fit(train_generator, epochs=num_epochs, verbose=2)\n"
   ]
  },
  {
   "cell_type": "code",
   "execution_count": 20,
   "metadata": {},
   "outputs": [
    {
     "name": "stdout",
     "output_type": "stream",
     "text": [
      "Model: \"sequential\"\n",
      "_________________________________________________________________\n",
      "Layer (type)                 Output Shape              Param #   \n",
      "=================================================================\n",
      "lstm (LSTM)                  (None, 40)                6720      \n",
      "_________________________________________________________________\n",
      "dense (Dense)                (None, 1)                 41        \n",
      "=================================================================\n",
      "Total params: 6,761\n",
      "Trainable params: 6,761\n",
      "Non-trainable params: 0\n",
      "_________________________________________________________________\n"
     ]
    }
   ],
   "source": [
    "model.summary()"
   ]
  },
  {
   "cell_type": "code",
   "execution_count": 21,
   "metadata": {},
   "outputs": [
    {
     "data": {
      "application/vnd.plotly.v1+json": {
       "config": {
        "plotlyServerURL": "https://plot.ly"
       },
       "data": [
        {
         "mode": "lines",
         "name": "Training Data",
         "type": "scatter",
         "x": [
          "14-Mar-20",
          "15-Mar-20",
          "16-Mar-20",
          "17-Mar-20",
          "18-Mar-20",
          "19-Mar-20",
          "20-Mar-20",
          "21-Mar-20",
          "22-Mar-20",
          "23-Mar-20",
          "24-Mar-20",
          "25-Mar-20",
          "26-Mar-20",
          "27-Mar-20",
          "28-Mar-20",
          "29-Mar-20",
          "30-Mar-20",
          "31-Mar-20",
          "01-Apr-20",
          "02-Apr-20",
          "03-Apr-20",
          "04-Apr-20",
          "05-Apr-20",
          "06-Apr-20",
          "07-Apr-20",
          "08-Apr-20",
          "09-Apr-20",
          "10-Apr-20",
          "11-Apr-20",
          "12-Apr-20",
          "13-Apr-20",
          "14-Apr-20",
          "15-Apr-20",
          "16-Apr-20",
          "17-Apr-20",
          "18-Apr-20",
          "19-Apr-20",
          "20-Apr-20",
          "21-Apr-20",
          "22-Apr-20",
          "23-Apr-20",
          "24-Apr-20",
          "25-Apr-20",
          "26-Apr-20",
          "27-Apr-20",
          "28-Apr-20",
          "29-Apr-20",
          "30-Apr-20",
          "01-May-20",
          "02-May-20",
          "03-May-20",
          "04-May-20",
          "05-May-20",
          "06-May-20",
          "07-May-20",
          "08-May-20",
          "09-May-20",
          "10-May-20",
          "11-May-20",
          "12-May-20",
          "13-May-20",
          "14-May-20",
          "15-May-20",
          "16-May-20",
          "17-May-20",
          "18-May-20",
          "19-May-20",
          "20-May-20",
          "21-May-20",
          "22-May-20",
          "23-May-20",
          "24-May-20",
          "25-May-20",
          "26-May-20",
          "27-May-20",
          "28-May-20",
          "29-May-20",
          "30-May-20",
          "31-May-20",
          "01-Jun-20",
          "02-Jun-20",
          "03-Jun-20",
          "04-Jun-20",
          "05-Jun-20",
          "06-Jun-20",
          "07-Jun-20",
          "08-Jun-20",
          "09-Jun-20",
          "10-Jun-20",
          "11-Jun-20",
          "12-Jun-20",
          "13-Jun-20",
          "14-Jun-20",
          "15-Jun-20",
          "16-Jun-20",
          "17-Jun-20",
          "18-Jun-20",
          "19-Jun-20",
          "20-Jun-20",
          "21-Jun-20",
          "22-Jun-20",
          "23-Jun-20",
          "24-Jun-20",
          "25-Jun-20",
          "26-Jun-20",
          "27-Jun-20",
          "28-Jun-20",
          "29-Jun-20",
          "30-Jun-20",
          "01-Jul-20",
          "02-Jul-20",
          "03-Jul-20",
          "04-Jul-20",
          "05-Jul-20",
          "06-Jul-20",
          "07-Jul-20",
          "08-Jul-20",
          "09-Jul-20",
          "10-Jul-20",
          "11-Jul-20",
          "12-Jul-20",
          "13-Jul-20",
          "14-Jul-20",
          "15-Jul-20",
          "16-Jul-20",
          "17-Jul-20",
          "18-Jul-20",
          "19-Jul-20",
          "20-Jul-20",
          "21-Jul-20",
          "22-Jul-20",
          "23-Jul-20",
          "24-Jul-20",
          "25-Jul-20",
          "26-Jul-20",
          "27-Jul-20",
          "28-Jul-20",
          "29-Jul-20",
          "30-Jul-20",
          "31-Jul-20",
          "01-Aug-20",
          "02-Aug-20",
          "03-Aug-20",
          "04-Aug-20",
          "05-Aug-20",
          "06-Aug-20",
          "07-Aug-20",
          "08-Aug-20",
          "09-Aug-20",
          "10-Aug-20",
          "11-Aug-20",
          "12-Aug-20",
          "13-Aug-20",
          "14-Aug-20",
          "15-Aug-20",
          "16-Aug-20",
          "17-Aug-20",
          "18-Aug-20",
          "19-Aug-20",
          "20-Aug-20",
          "21-Aug-20",
          "22-Aug-20",
          "23-Aug-20",
          "24-Aug-20",
          "25-Aug-20",
          "26-Aug-20",
          "27-Aug-20",
          "28-Aug-20",
          "29-Aug-20",
          "30-Aug-20",
          "31-Aug-20",
          "01-Sep-20",
          "02-Sep-20",
          "03-Sep-20",
          "04-Sep-20",
          "05-Sep-20",
          "06-Sep-20",
          "07-Sep-20",
          "08-Sep-20",
          "09-Sep-20",
          "10-Sep-20",
          "11-Sep-20",
          "12-Sep-20",
          "13-Sep-20",
          "14-Sep-20",
          "15-Sep-20",
          "16-Sep-20",
          "17-Sep-20",
          "18-Sep-20",
          "19-Sep-20",
          "20-Sep-20",
          "21-Sep-20",
          "22-Sep-20",
          "23-Sep-20",
          "24-Sep-20",
          "25-Sep-20",
          "26-Sep-20",
          "27-Sep-20",
          "28-Sep-20",
          "29-Sep-20",
          "30-Sep-20",
          "01-Oct-20",
          "02-Oct-20",
          "03-Oct-20",
          "04-Oct-20",
          "05-Oct-20",
          "06-Oct-20",
          "07-Oct-20",
          "08-Oct-20",
          "09-Oct-20",
          "10-Oct-20",
          "11-Oct-20",
          "12-Oct-20",
          "13-Oct-20",
          "14-Oct-20",
          "15-Oct-20",
          "16-Oct-20",
          "17-Oct-20",
          "18-Oct-20",
          "19-Oct-20",
          "20-Oct-20",
          "21-Oct-20",
          "22-Oct-20",
          "23-Oct-20",
          "24-Oct-20",
          "25-Oct-20",
          "26-Oct-20",
          "27-Oct-20",
          "28-Oct-20",
          "29-Oct-20",
          "30-Oct-20",
          "31-Oct-20",
          "01-Nov-20",
          "02-Nov-20",
          "03-Nov-20",
          "04-Nov-20",
          "05-Nov-20",
          "06-Nov-20",
          "07-Nov-20",
          "08-Nov-20",
          "09-Nov-20",
          "10-Nov-20",
          "11-Nov-20",
          "12-Nov-20",
          "13-Nov-20",
          "14-Nov-20",
          "15-Nov-20",
          "16-Nov-20",
          "17-Nov-20",
          "18-Nov-20",
          "19-Nov-20",
          "20-Nov-20",
          "21-Nov-20",
          "22-Nov-20",
          "23-Nov-20",
          "24-Nov-20",
          "25-Nov-20",
          "26-Nov-20",
          "27-Nov-20",
          "28-Nov-20",
          "29-Nov-20",
          "30-Nov-20",
          "01-Dec-20",
          "02-Dec-20",
          "03-Dec-20",
          "04-Dec-20",
          "05-Dec-20",
          "06-Dec-20",
          "07-Dec-20",
          "08-Dec-20",
          "09-Dec-20",
          "10-Dec-20",
          "11-Dec-20",
          "12-Dec-20",
          "13-Dec-20",
          "14-Dec-20",
          "15-Dec-20",
          "16-Dec-20",
          "17-Dec-20",
          "18-Dec-20",
          "19-Dec-20",
          "20-Dec-20",
          "21-Dec-20",
          "22-Dec-20",
          "23-Dec-20",
          "24-Dec-20",
          "25-Dec-20",
          "26-Dec-20",
          "27-Dec-20",
          "28-Dec-20",
          "29-Dec-20",
          "30-Dec-20",
          "31-Dec-20",
          "01-Jan-21",
          "02-Jan-21",
          "03-Jan-21",
          "04-Jan-21",
          "05-Jan-21",
          "06-Jan-21",
          "07-Jan-21",
          "08-Jan-21",
          "09-Jan-21",
          "10-Jan-21",
          "11-Jan-21",
          "12-Jan-21",
          "13-Jan-21",
          "14-Jan-21",
          "15-Jan-21",
          "16-Jan-21",
          "17-Jan-21",
          "18-Jan-21",
          "19-Jan-21",
          "20-Jan-21",
          "21-Jan-21",
          "22-Jan-21",
          "23-Jan-21",
          "24-Jan-21",
          "25-Jan-21",
          "26-Jan-21",
          "27-Jan-21",
          "28-Jan-21",
          "29-Jan-21",
          "30-Jan-21",
          "31-Jan-21",
          "01-Feb-21",
          "02-Feb-21",
          "03-Feb-21",
          "04-Feb-21",
          "05-Feb-21",
          "06-Feb-21",
          "07-Feb-21",
          "08-Feb-21",
          "09-Feb-21",
          "10-Feb-21",
          "11-Feb-21",
          "12-Feb-21",
          "13-Feb-21",
          "14-Feb-21",
          "15-Feb-21",
          "16-Feb-21",
          "17-Feb-21",
          "18-Feb-21",
          "19-Feb-21",
          "20-Feb-21",
          "21-Feb-21",
          "22-Feb-21",
          "23-Feb-21",
          "24-Feb-21",
          "25-Feb-21",
          "26-Feb-21",
          "27-Feb-21",
          "28-Feb-21",
          "01-Mar-21",
          "02-Mar-21",
          "03-Mar-21",
          "04-Mar-21",
          "05-Mar-21",
          "06-Mar-21",
          "07-Mar-21",
          "08-Mar-21",
          "09-Mar-21",
          "10-Mar-21",
          "11-Mar-21",
          "12-Mar-21",
          "13-Mar-21",
          "14-Mar-21",
          "15-Mar-21",
          "16-Mar-21",
          "17-Mar-21",
          "18-Mar-21",
          "19-Mar-21",
          "20-Mar-21",
          "21-Mar-21",
          "22-Mar-21",
          "23-Mar-21",
          "24-Mar-21",
          "25-Mar-21",
          "26-Mar-21",
          "27-Mar-21",
          "28-Mar-21",
          "29-Mar-21",
          "30-Mar-21",
          "31-Mar-21",
          "01-Apr-21",
          "02-Apr-21",
          "03-Apr-21",
          "04-Apr-21",
          "05-Apr-21",
          "06-Apr-21",
          "07-Apr-21",
          "08-Apr-21",
          "09-Apr-21",
          "10-Apr-21",
          "11-Apr-21",
          "12-Apr-21",
          "13-Apr-21",
          "14-Apr-21",
          "15-Apr-21",
          "16-Apr-21",
          "17-Apr-21"
         ],
         "y": [
          7,
          0,
          0,
          1,
          2,
          4,
          6,
          7,
          0,
          3,
          0,
          5,
          1,
          4,
          9,
          23,
          25,
          23,
          32,
          141,
          93,
          59,
          58,
          22,
          51,
          93,
          51,
          183,
          166,
          85,
          356,
          51,
          17,
          62,
          67,
          186,
          110,
          78,
          75,
          92,
          128,
          138,
          111,
          293,
          190,
          206,
          125,
          76,
          223,
          384,
          427,
          349,
          206,
          428,
          448,
          338,
          224,
          381,
          310,
          406,
          359,
          472,
          425,
          438,
          422,
          299,
          500,
          534,
          571,
          660,
          591,
          508,
          635,
          412,
          792,
          1024,
          1105,
          1163,
          1295,
          990,
          1298,
          1513,
          1359,
          1330,
          1320,
          1282,
          1007,
          1366,
          1501,
          1877,
          2137,
          2134,
          2224,
          1647,
          1859,
          2414,
          2877,
          3137,
          3630,
          3000,
          2909,
          3947,
          3788,
          3390,
          3460,
          2948,
          2889,
          2084,
          2199,
          2442,
          2373,
          2520,
          2505,
          2244,
          1379,
          2008,
          2033,
          2187,
          2089,
          1781,
          1573,
          1246,
          1606,
          1647,
          1652,
          1462,
          1475,
          1211,
          954,
          1349,
          1227,
          1041,
          1025,
          1142,
          1075,
          613,
          1056,
          1035,
          1093,
          1195,
          1118,
          961,
          805,
          674,
          1076,
          1299,
          1192,
          1404,
          1300,
          707,
          1257,
          1113,
          956,
          1192,
          1276,
          652,
          787,
          1374,
          1398,
          1215,
          1250,
          1412,
          1450,
          1061,
          1544,
          1693,
          1840,
          1808,
          1954,
          2024,
          1358,
          2312,
          2509,
          2737,
          2914,
          2973,
          3256,
          2077,
          3609,
          4039,
          4308,
          4266,
          4321,
          4235,
          3229,
          4263,
          4473,
          4432,
          4127,
          4071,
          3812,
          2548,
          3816,
          3714,
          3834,
          3827,
          3372,
          3292,
          1984,
          3227,
          3390,
          3037,
          2920,
          2258,
          2683,
          1947,
          2676,
          2871,
          2726,
          2860,
          2866,
          2780,
          1849,
          3036,
          3324,
          3483,
          3428,
          3259,
          3299,
          2154,
          3579,
          3686,
          3882,
          4086,
          4116,
          4136,
          2832,
          4853,
          5673,
          5739,
          5891,
          5062,
          5664,
          4001,
          6725,
          6842,
          6715,
          7178,
          6953,
          7745,
          5023,
          7830,
          8593,
          7053,
          7802,
          7340,
          3235,
          3797,
          6396,
          7486,
          7546,
          6608,
          5879,
          6746,
          4454,
          6224,
          5246,
          5475,
          5482,
          4998,
          4906,
          3726,
          4006,
          3944,
          3734,
          4067,
          3419,
          2706,
          1674,
          3188,
          2463,
          1575,
          2385,
          1935,
          1984,
          1376,
          1617,
          1547,
          1363,
          1418,
          1139,
          1091,
          803,
          939,
          871,
          1063,
          758,
          655,
          757,
          564,
          703,
          677,
          574,
          585,
          494,
          424,
          384,
          442,
          654,
          486,
          444,
          519,
          399,
          306,
          386,
          357,
          340,
          295,
          299,
          246,
          161,
          231,
          228,
          227,
          266,
          197,
          185,
          148,
          157,
          96,
          199,
          249,
          183,
          140,
          121,
          114,
          150,
          158,
          154,
          123,
          119,
          125,
          100,
          127,
          142,
          141,
          126,
          150,
          141,
          94,
          134,
          130,
          158,
          152,
          145,
          128,
          145,
          200,
          220,
          256,
          243,
          197,
          175,
          217,
          240,
          261,
          312,
          321,
          286,
          239,
          320,
          370,
          409,
          431,
          419,
          407,
          368,
          425,
          536,
          607,
          716,
          813,
          823,
          888,
          1101,
          1254,
          1515,
          1534,
          1558,
          1881,
          1904,
          992,
          1819,
          2790,
          3594,
          3567,
          4033,
          3548,
          5100,
          5506,
          7437,
          8521,
          7897,
          10774,
          11491,
          13468,
          17282,
          16699,
          19486,
          24375
         ]
        },
        {
         "mode": "lines",
         "name": "Prediction",
         "type": "scatter",
         "x": [
          "18-Apr-21",
          "19-Apr-21",
          "20-Apr-21",
          "21-Apr-21",
          "22-Apr-21",
          "23-Apr-21",
          "24-Apr-21",
          "25-Apr-21",
          "26-Apr-21",
          "27-Apr-21",
          "28-Apr-21",
          "29-Apr-21",
          "30-Apr-21",
          "01-May-21",
          "02-May-21",
          "03-May-21",
          "04-May-21",
          "05-May-21",
          "06-May-21",
          "07-May-21",
          "08-May-21",
          "09-May-21",
          "10-May-21",
          "11-May-21",
          "12-May-21",
          "13-May-21",
          "14-May-21",
          "15-May-21",
          "16-May-21",
          "17-May-21",
          "18-May-21",
          "19-May-21",
          "20-May-21",
          "21-May-21",
          "22-May-21",
          "23-May-21",
          "24-May-21",
          "25-May-21",
          "26-May-21",
          "27-May-21",
          "28-May-21",
          "29-May-21",
          "30-May-21",
          "31-May-21",
          "01-Jun-21",
          "02-Jun-21",
          "03-Jun-21",
          "04-Jun-21",
          "05-Jun-21",
          "06-Jun-21",
          "07-Jun-21",
          "08-Jun-21",
          "09-Jun-21",
          "10-Jun-21",
          "11-Jun-21",
          "12-Jun-21",
          "13-Jun-21",
          "14-Jun-21",
          "15-Jun-21",
          "16-Jun-21"
         ],
         "y": [
          23364.55078125,
          21734.91796875,
          26055.828125,
          22608.458984375,
          24013.28515625,
          22326.759765625,
          22117.55078125,
          21043.9765625,
          18537.1328125,
          22159.759765625,
          23845.3671875,
          22238.673828125,
          24818.921875,
          23141.576171875,
          18714.2265625,
          16556.98046875,
          18309.5703125,
          19233.578125,
          17557.150390625,
          18198.54296875,
          15933.94140625,
          12237.90625,
          11609.3603515625,
          11453.37109375,
          12192.9453125,
          9625.5400390625,
          7805.96826171875,
          5901.06005859375,
          5924.91796875,
          4152.14208984375,
          4113.603515625,
          3530.01904296875,
          2965.7041015625,
          2762,
          2074.728271484375,
          1514.0836181640625,
          1423.242431640625,
          1439.759033203125,
          1369.10498046875,
          984.633056640625,
          1047.9482421875,
          878.1863403320312,
          869.009521484375,
          595.4085693359375,
          572.4246826171875,
          529.1820068359375,
          447.09747314453125,
          480.3419189453125,
          379.40008544921875,
          348.6080322265625,
          205.72169494628906,
          287.4091796875,
          307.2770080566406,
          276.95880126953125,
          212.53631591796875,
          188.125244140625,
          229.01800537109375,
          107.29181671142578,
          202.79620361328125
         ]
        },
        {
         "mode": "lines",
         "name": "Testing Data",
         "type": "scatter",
         "x": [
          "18-Apr-21",
          "19-Apr-21",
          "20-Apr-21",
          "21-Apr-21",
          "22-Apr-21",
          "23-Apr-21",
          "24-Apr-21",
          "25-Apr-21",
          "26-Apr-21",
          "27-Apr-21",
          "28-Apr-21",
          "29-Apr-21",
          "30-Apr-21",
          "01-May-21",
          "02-May-21",
          "03-May-21",
          "04-May-21",
          "05-May-21",
          "06-May-21",
          "07-May-21",
          "08-May-21",
          "09-May-21",
          "10-May-21",
          "11-May-21",
          "12-May-21",
          "13-May-21",
          "14-May-21",
          "15-May-21",
          "16-May-21",
          "17-May-21",
          "18-May-21",
          "19-May-21",
          "20-May-21",
          "21-May-21",
          "22-May-21",
          "23-May-21",
          "24-May-21",
          "25-May-21",
          "26-May-21",
          "27-May-21",
          "28-May-21",
          "29-May-21",
          "30-May-21",
          "31-May-21",
          "01-Jun-21",
          "02-Jun-21",
          "03-Jun-21",
          "04-Jun-21",
          "05-Jun-21",
          "06-Jun-21",
          "07-Jun-21",
          "08-Jun-21",
          "09-Jun-21",
          "10-Jun-21",
          "11-Jun-21",
          "12-Jun-21",
          "13-Jun-21",
          "14-Jun-21",
          "15-Jun-21",
          "16-Jun-21"
         ],
         "y": [
          25462,
          23686,
          28395,
          24638,
          26169,
          24331,
          24103,
          22933,
          20201,
          24149,
          25986,
          24235,
          27047,
          25219,
          20394,
          18043,
          19953,
          20960,
          19133,
          19832,
          17364,
          13336,
          12651,
          12481,
          13287,
          10489,
          8506,
          6430,
          6456,
          4524,
          4482,
          3846,
          3231,
          3009,
          2260,
          1649,
          1550,
          1568,
          1491,
          1072,
          1141,
          956,
          946,
          648,
          623,
          576,
          487,
          523,
          414,
          381,
          231,
          316,
          337,
          305,
          238,
          213,
          255,
          131,
          228
         ]
        }
       ],
       "layout": {
        "template": {
         "data": {
          "bar": [
           {
            "error_x": {
             "color": "#2a3f5f"
            },
            "error_y": {
             "color": "#2a3f5f"
            },
            "marker": {
             "line": {
              "color": "#E5ECF6",
              "width": 0.5
             }
            },
            "type": "bar"
           }
          ],
          "barpolar": [
           {
            "marker": {
             "line": {
              "color": "#E5ECF6",
              "width": 0.5
             }
            },
            "type": "barpolar"
           }
          ],
          "carpet": [
           {
            "aaxis": {
             "endlinecolor": "#2a3f5f",
             "gridcolor": "white",
             "linecolor": "white",
             "minorgridcolor": "white",
             "startlinecolor": "#2a3f5f"
            },
            "baxis": {
             "endlinecolor": "#2a3f5f",
             "gridcolor": "white",
             "linecolor": "white",
             "minorgridcolor": "white",
             "startlinecolor": "#2a3f5f"
            },
            "type": "carpet"
           }
          ],
          "choropleth": [
           {
            "colorbar": {
             "outlinewidth": 0,
             "ticks": ""
            },
            "type": "choropleth"
           }
          ],
          "contour": [
           {
            "colorbar": {
             "outlinewidth": 0,
             "ticks": ""
            },
            "colorscale": [
             [
              0,
              "#0d0887"
             ],
             [
              0.1111111111111111,
              "#46039f"
             ],
             [
              0.2222222222222222,
              "#7201a8"
             ],
             [
              0.3333333333333333,
              "#9c179e"
             ],
             [
              0.4444444444444444,
              "#bd3786"
             ],
             [
              0.5555555555555556,
              "#d8576b"
             ],
             [
              0.6666666666666666,
              "#ed7953"
             ],
             [
              0.7777777777777778,
              "#fb9f3a"
             ],
             [
              0.8888888888888888,
              "#fdca26"
             ],
             [
              1,
              "#f0f921"
             ]
            ],
            "type": "contour"
           }
          ],
          "contourcarpet": [
           {
            "colorbar": {
             "outlinewidth": 0,
             "ticks": ""
            },
            "type": "contourcarpet"
           }
          ],
          "heatmap": [
           {
            "colorbar": {
             "outlinewidth": 0,
             "ticks": ""
            },
            "colorscale": [
             [
              0,
              "#0d0887"
             ],
             [
              0.1111111111111111,
              "#46039f"
             ],
             [
              0.2222222222222222,
              "#7201a8"
             ],
             [
              0.3333333333333333,
              "#9c179e"
             ],
             [
              0.4444444444444444,
              "#bd3786"
             ],
             [
              0.5555555555555556,
              "#d8576b"
             ],
             [
              0.6666666666666666,
              "#ed7953"
             ],
             [
              0.7777777777777778,
              "#fb9f3a"
             ],
             [
              0.8888888888888888,
              "#fdca26"
             ],
             [
              1,
              "#f0f921"
             ]
            ],
            "type": "heatmap"
           }
          ],
          "heatmapgl": [
           {
            "colorbar": {
             "outlinewidth": 0,
             "ticks": ""
            },
            "colorscale": [
             [
              0,
              "#0d0887"
             ],
             [
              0.1111111111111111,
              "#46039f"
             ],
             [
              0.2222222222222222,
              "#7201a8"
             ],
             [
              0.3333333333333333,
              "#9c179e"
             ],
             [
              0.4444444444444444,
              "#bd3786"
             ],
             [
              0.5555555555555556,
              "#d8576b"
             ],
             [
              0.6666666666666666,
              "#ed7953"
             ],
             [
              0.7777777777777778,
              "#fb9f3a"
             ],
             [
              0.8888888888888888,
              "#fdca26"
             ],
             [
              1,
              "#f0f921"
             ]
            ],
            "type": "heatmapgl"
           }
          ],
          "histogram": [
           {
            "marker": {
             "colorbar": {
              "outlinewidth": 0,
              "ticks": ""
             }
            },
            "type": "histogram"
           }
          ],
          "histogram2d": [
           {
            "colorbar": {
             "outlinewidth": 0,
             "ticks": ""
            },
            "colorscale": [
             [
              0,
              "#0d0887"
             ],
             [
              0.1111111111111111,
              "#46039f"
             ],
             [
              0.2222222222222222,
              "#7201a8"
             ],
             [
              0.3333333333333333,
              "#9c179e"
             ],
             [
              0.4444444444444444,
              "#bd3786"
             ],
             [
              0.5555555555555556,
              "#d8576b"
             ],
             [
              0.6666666666666666,
              "#ed7953"
             ],
             [
              0.7777777777777778,
              "#fb9f3a"
             ],
             [
              0.8888888888888888,
              "#fdca26"
             ],
             [
              1,
              "#f0f921"
             ]
            ],
            "type": "histogram2d"
           }
          ],
          "histogram2dcontour": [
           {
            "colorbar": {
             "outlinewidth": 0,
             "ticks": ""
            },
            "colorscale": [
             [
              0,
              "#0d0887"
             ],
             [
              0.1111111111111111,
              "#46039f"
             ],
             [
              0.2222222222222222,
              "#7201a8"
             ],
             [
              0.3333333333333333,
              "#9c179e"
             ],
             [
              0.4444444444444444,
              "#bd3786"
             ],
             [
              0.5555555555555556,
              "#d8576b"
             ],
             [
              0.6666666666666666,
              "#ed7953"
             ],
             [
              0.7777777777777778,
              "#fb9f3a"
             ],
             [
              0.8888888888888888,
              "#fdca26"
             ],
             [
              1,
              "#f0f921"
             ]
            ],
            "type": "histogram2dcontour"
           }
          ],
          "mesh3d": [
           {
            "colorbar": {
             "outlinewidth": 0,
             "ticks": ""
            },
            "type": "mesh3d"
           }
          ],
          "parcoords": [
           {
            "line": {
             "colorbar": {
              "outlinewidth": 0,
              "ticks": ""
             }
            },
            "type": "parcoords"
           }
          ],
          "pie": [
           {
            "automargin": true,
            "type": "pie"
           }
          ],
          "scatter": [
           {
            "marker": {
             "colorbar": {
              "outlinewidth": 0,
              "ticks": ""
             }
            },
            "type": "scatter"
           }
          ],
          "scatter3d": [
           {
            "line": {
             "colorbar": {
              "outlinewidth": 0,
              "ticks": ""
             }
            },
            "marker": {
             "colorbar": {
              "outlinewidth": 0,
              "ticks": ""
             }
            },
            "type": "scatter3d"
           }
          ],
          "scattercarpet": [
           {
            "marker": {
             "colorbar": {
              "outlinewidth": 0,
              "ticks": ""
             }
            },
            "type": "scattercarpet"
           }
          ],
          "scattergeo": [
           {
            "marker": {
             "colorbar": {
              "outlinewidth": 0,
              "ticks": ""
             }
            },
            "type": "scattergeo"
           }
          ],
          "scattergl": [
           {
            "marker": {
             "colorbar": {
              "outlinewidth": 0,
              "ticks": ""
             }
            },
            "type": "scattergl"
           }
          ],
          "scattermapbox": [
           {
            "marker": {
             "colorbar": {
              "outlinewidth": 0,
              "ticks": ""
             }
            },
            "type": "scattermapbox"
           }
          ],
          "scatterpolar": [
           {
            "marker": {
             "colorbar": {
              "outlinewidth": 0,
              "ticks": ""
             }
            },
            "type": "scatterpolar"
           }
          ],
          "scatterpolargl": [
           {
            "marker": {
             "colorbar": {
              "outlinewidth": 0,
              "ticks": ""
             }
            },
            "type": "scatterpolargl"
           }
          ],
          "scatterternary": [
           {
            "marker": {
             "colorbar": {
              "outlinewidth": 0,
              "ticks": ""
             }
            },
            "type": "scatterternary"
           }
          ],
          "surface": [
           {
            "colorbar": {
             "outlinewidth": 0,
             "ticks": ""
            },
            "colorscale": [
             [
              0,
              "#0d0887"
             ],
             [
              0.1111111111111111,
              "#46039f"
             ],
             [
              0.2222222222222222,
              "#7201a8"
             ],
             [
              0.3333333333333333,
              "#9c179e"
             ],
             [
              0.4444444444444444,
              "#bd3786"
             ],
             [
              0.5555555555555556,
              "#d8576b"
             ],
             [
              0.6666666666666666,
              "#ed7953"
             ],
             [
              0.7777777777777778,
              "#fb9f3a"
             ],
             [
              0.8888888888888888,
              "#fdca26"
             ],
             [
              1,
              "#f0f921"
             ]
            ],
            "type": "surface"
           }
          ],
          "table": [
           {
            "cells": {
             "fill": {
              "color": "#EBF0F8"
             },
             "line": {
              "color": "white"
             }
            },
            "header": {
             "fill": {
              "color": "#C8D4E3"
             },
             "line": {
              "color": "white"
             }
            },
            "type": "table"
           }
          ]
         },
         "layout": {
          "annotationdefaults": {
           "arrowcolor": "#2a3f5f",
           "arrowhead": 0,
           "arrowwidth": 1
          },
          "coloraxis": {
           "colorbar": {
            "outlinewidth": 0,
            "ticks": ""
           }
          },
          "colorscale": {
           "diverging": [
            [
             0,
             "#8e0152"
            ],
            [
             0.1,
             "#c51b7d"
            ],
            [
             0.2,
             "#de77ae"
            ],
            [
             0.3,
             "#f1b6da"
            ],
            [
             0.4,
             "#fde0ef"
            ],
            [
             0.5,
             "#f7f7f7"
            ],
            [
             0.6,
             "#e6f5d0"
            ],
            [
             0.7,
             "#b8e186"
            ],
            [
             0.8,
             "#7fbc41"
            ],
            [
             0.9,
             "#4d9221"
            ],
            [
             1,
             "#276419"
            ]
           ],
           "sequential": [
            [
             0,
             "#0d0887"
            ],
            [
             0.1111111111111111,
             "#46039f"
            ],
            [
             0.2222222222222222,
             "#7201a8"
            ],
            [
             0.3333333333333333,
             "#9c179e"
            ],
            [
             0.4444444444444444,
             "#bd3786"
            ],
            [
             0.5555555555555556,
             "#d8576b"
            ],
            [
             0.6666666666666666,
             "#ed7953"
            ],
            [
             0.7777777777777778,
             "#fb9f3a"
            ],
            [
             0.8888888888888888,
             "#fdca26"
            ],
            [
             1,
             "#f0f921"
            ]
           ],
           "sequentialminus": [
            [
             0,
             "#0d0887"
            ],
            [
             0.1111111111111111,
             "#46039f"
            ],
            [
             0.2222222222222222,
             "#7201a8"
            ],
            [
             0.3333333333333333,
             "#9c179e"
            ],
            [
             0.4444444444444444,
             "#bd3786"
            ],
            [
             0.5555555555555556,
             "#d8576b"
            ],
            [
             0.6666666666666666,
             "#ed7953"
            ],
            [
             0.7777777777777778,
             "#fb9f3a"
            ],
            [
             0.8888888888888888,
             "#fdca26"
            ],
            [
             1,
             "#f0f921"
            ]
           ]
          },
          "colorway": [
           "#636efa",
           "#EF553B",
           "#00cc96",
           "#ab63fa",
           "#FFA15A",
           "#19d3f3",
           "#FF6692",
           "#B6E880",
           "#FF97FF",
           "#FECB52"
          ],
          "font": {
           "color": "#2a3f5f"
          },
          "geo": {
           "bgcolor": "white",
           "lakecolor": "white",
           "landcolor": "#E5ECF6",
           "showlakes": true,
           "showland": true,
           "subunitcolor": "white"
          },
          "hoverlabel": {
           "align": "left"
          },
          "hovermode": "closest",
          "mapbox": {
           "style": "light"
          },
          "paper_bgcolor": "white",
          "plot_bgcolor": "#E5ECF6",
          "polar": {
           "angularaxis": {
            "gridcolor": "white",
            "linecolor": "white",
            "ticks": ""
           },
           "bgcolor": "#E5ECF6",
           "radialaxis": {
            "gridcolor": "white",
            "linecolor": "white",
            "ticks": ""
           }
          },
          "scene": {
           "xaxis": {
            "backgroundcolor": "#E5ECF6",
            "gridcolor": "white",
            "gridwidth": 2,
            "linecolor": "white",
            "showbackground": true,
            "ticks": "",
            "zerolinecolor": "white"
           },
           "yaxis": {
            "backgroundcolor": "#E5ECF6",
            "gridcolor": "white",
            "gridwidth": 2,
            "linecolor": "white",
            "showbackground": true,
            "ticks": "",
            "zerolinecolor": "white"
           },
           "zaxis": {
            "backgroundcolor": "#E5ECF6",
            "gridcolor": "white",
            "gridwidth": 2,
            "linecolor": "white",
            "showbackground": true,
            "ticks": "",
            "zerolinecolor": "white"
           }
          },
          "shapedefaults": {
           "line": {
            "color": "#2a3f5f"
           }
          },
          "ternary": {
           "aaxis": {
            "gridcolor": "white",
            "linecolor": "white",
            "ticks": ""
           },
           "baxis": {
            "gridcolor": "white",
            "linecolor": "white",
            "ticks": ""
           },
           "bgcolor": "#E5ECF6",
           "caxis": {
            "gridcolor": "white",
            "linecolor": "white",
            "ticks": ""
           }
          },
          "title": {
           "x": 0.05
          },
          "xaxis": {
           "automargin": true,
           "gridcolor": "white",
           "linecolor": "white",
           "ticks": "",
           "title": {
            "standoff": 15
           },
           "zerolinecolor": "white",
           "zerolinewidth": 2
          },
          "yaxis": {
           "automargin": true,
           "gridcolor": "white",
           "linecolor": "white",
           "ticks": "",
           "title": {
            "standoff": 15
           },
           "zerolinecolor": "white",
           "zerolinewidth": 2
          }
         }
        },
        "title": {
         "text": "Daily Confirmed Covid cases Prediction DELHI"
        },
        "xaxis": {
         "title": {
          "text": "Date"
         }
        },
        "yaxis": {
         "title": {
          "text": "Close"
         }
        }
       }
      },
      "text/html": [
       "<div>                            <div id=\"315f001c-4928-40b3-9fff-8d40b3557cf0\" class=\"plotly-graph-div\" style=\"height:525px; width:100%;\"></div>            <script type=\"text/javascript\">                require([\"plotly\"], function(Plotly) {                    window.PLOTLYENV=window.PLOTLYENV || {};                                    if (document.getElementById(\"315f001c-4928-40b3-9fff-8d40b3557cf0\")) {                    Plotly.newPlot(                        \"315f001c-4928-40b3-9fff-8d40b3557cf0\",                        [{\"mode\": \"lines\", \"name\": \"Training Data\", \"type\": \"scatter\", \"x\": [\"14-Mar-20\", \"15-Mar-20\", \"16-Mar-20\", \"17-Mar-20\", \"18-Mar-20\", \"19-Mar-20\", \"20-Mar-20\", \"21-Mar-20\", \"22-Mar-20\", \"23-Mar-20\", \"24-Mar-20\", \"25-Mar-20\", \"26-Mar-20\", \"27-Mar-20\", \"28-Mar-20\", \"29-Mar-20\", \"30-Mar-20\", \"31-Mar-20\", \"01-Apr-20\", \"02-Apr-20\", \"03-Apr-20\", \"04-Apr-20\", \"05-Apr-20\", \"06-Apr-20\", \"07-Apr-20\", \"08-Apr-20\", \"09-Apr-20\", \"10-Apr-20\", \"11-Apr-20\", \"12-Apr-20\", \"13-Apr-20\", \"14-Apr-20\", \"15-Apr-20\", \"16-Apr-20\", \"17-Apr-20\", \"18-Apr-20\", \"19-Apr-20\", \"20-Apr-20\", \"21-Apr-20\", \"22-Apr-20\", \"23-Apr-20\", \"24-Apr-20\", \"25-Apr-20\", \"26-Apr-20\", \"27-Apr-20\", \"28-Apr-20\", \"29-Apr-20\", \"30-Apr-20\", \"01-May-20\", \"02-May-20\", \"03-May-20\", \"04-May-20\", \"05-May-20\", \"06-May-20\", \"07-May-20\", \"08-May-20\", \"09-May-20\", \"10-May-20\", \"11-May-20\", \"12-May-20\", \"13-May-20\", \"14-May-20\", \"15-May-20\", \"16-May-20\", \"17-May-20\", \"18-May-20\", \"19-May-20\", \"20-May-20\", \"21-May-20\", \"22-May-20\", \"23-May-20\", \"24-May-20\", \"25-May-20\", \"26-May-20\", \"27-May-20\", \"28-May-20\", \"29-May-20\", \"30-May-20\", \"31-May-20\", \"01-Jun-20\", \"02-Jun-20\", \"03-Jun-20\", \"04-Jun-20\", \"05-Jun-20\", \"06-Jun-20\", \"07-Jun-20\", \"08-Jun-20\", \"09-Jun-20\", \"10-Jun-20\", \"11-Jun-20\", \"12-Jun-20\", \"13-Jun-20\", \"14-Jun-20\", \"15-Jun-20\", \"16-Jun-20\", \"17-Jun-20\", \"18-Jun-20\", \"19-Jun-20\", \"20-Jun-20\", \"21-Jun-20\", \"22-Jun-20\", \"23-Jun-20\", \"24-Jun-20\", \"25-Jun-20\", \"26-Jun-20\", \"27-Jun-20\", \"28-Jun-20\", \"29-Jun-20\", \"30-Jun-20\", \"01-Jul-20\", \"02-Jul-20\", \"03-Jul-20\", \"04-Jul-20\", \"05-Jul-20\", \"06-Jul-20\", \"07-Jul-20\", \"08-Jul-20\", \"09-Jul-20\", \"10-Jul-20\", \"11-Jul-20\", \"12-Jul-20\", \"13-Jul-20\", \"14-Jul-20\", \"15-Jul-20\", \"16-Jul-20\", \"17-Jul-20\", \"18-Jul-20\", \"19-Jul-20\", \"20-Jul-20\", \"21-Jul-20\", \"22-Jul-20\", \"23-Jul-20\", \"24-Jul-20\", \"25-Jul-20\", \"26-Jul-20\", \"27-Jul-20\", \"28-Jul-20\", \"29-Jul-20\", \"30-Jul-20\", \"31-Jul-20\", \"01-Aug-20\", \"02-Aug-20\", \"03-Aug-20\", \"04-Aug-20\", \"05-Aug-20\", \"06-Aug-20\", \"07-Aug-20\", \"08-Aug-20\", \"09-Aug-20\", \"10-Aug-20\", \"11-Aug-20\", \"12-Aug-20\", \"13-Aug-20\", \"14-Aug-20\", \"15-Aug-20\", \"16-Aug-20\", \"17-Aug-20\", \"18-Aug-20\", \"19-Aug-20\", \"20-Aug-20\", \"21-Aug-20\", \"22-Aug-20\", \"23-Aug-20\", \"24-Aug-20\", \"25-Aug-20\", \"26-Aug-20\", \"27-Aug-20\", \"28-Aug-20\", \"29-Aug-20\", \"30-Aug-20\", \"31-Aug-20\", \"01-Sep-20\", \"02-Sep-20\", \"03-Sep-20\", \"04-Sep-20\", \"05-Sep-20\", \"06-Sep-20\", \"07-Sep-20\", \"08-Sep-20\", \"09-Sep-20\", \"10-Sep-20\", \"11-Sep-20\", \"12-Sep-20\", \"13-Sep-20\", \"14-Sep-20\", \"15-Sep-20\", \"16-Sep-20\", \"17-Sep-20\", \"18-Sep-20\", \"19-Sep-20\", \"20-Sep-20\", \"21-Sep-20\", \"22-Sep-20\", \"23-Sep-20\", \"24-Sep-20\", \"25-Sep-20\", \"26-Sep-20\", \"27-Sep-20\", \"28-Sep-20\", \"29-Sep-20\", \"30-Sep-20\", \"01-Oct-20\", \"02-Oct-20\", \"03-Oct-20\", \"04-Oct-20\", \"05-Oct-20\", \"06-Oct-20\", \"07-Oct-20\", \"08-Oct-20\", \"09-Oct-20\", \"10-Oct-20\", \"11-Oct-20\", \"12-Oct-20\", \"13-Oct-20\", \"14-Oct-20\", \"15-Oct-20\", \"16-Oct-20\", \"17-Oct-20\", \"18-Oct-20\", \"19-Oct-20\", \"20-Oct-20\", \"21-Oct-20\", \"22-Oct-20\", \"23-Oct-20\", \"24-Oct-20\", \"25-Oct-20\", \"26-Oct-20\", \"27-Oct-20\", \"28-Oct-20\", \"29-Oct-20\", \"30-Oct-20\", \"31-Oct-20\", \"01-Nov-20\", \"02-Nov-20\", \"03-Nov-20\", \"04-Nov-20\", \"05-Nov-20\", \"06-Nov-20\", \"07-Nov-20\", \"08-Nov-20\", \"09-Nov-20\", \"10-Nov-20\", \"11-Nov-20\", \"12-Nov-20\", \"13-Nov-20\", \"14-Nov-20\", \"15-Nov-20\", \"16-Nov-20\", \"17-Nov-20\", \"18-Nov-20\", \"19-Nov-20\", \"20-Nov-20\", \"21-Nov-20\", \"22-Nov-20\", \"23-Nov-20\", \"24-Nov-20\", \"25-Nov-20\", \"26-Nov-20\", \"27-Nov-20\", \"28-Nov-20\", \"29-Nov-20\", \"30-Nov-20\", \"01-Dec-20\", \"02-Dec-20\", \"03-Dec-20\", \"04-Dec-20\", \"05-Dec-20\", \"06-Dec-20\", \"07-Dec-20\", \"08-Dec-20\", \"09-Dec-20\", \"10-Dec-20\", \"11-Dec-20\", \"12-Dec-20\", \"13-Dec-20\", \"14-Dec-20\", \"15-Dec-20\", \"16-Dec-20\", \"17-Dec-20\", \"18-Dec-20\", \"19-Dec-20\", \"20-Dec-20\", \"21-Dec-20\", \"22-Dec-20\", \"23-Dec-20\", \"24-Dec-20\", \"25-Dec-20\", \"26-Dec-20\", \"27-Dec-20\", \"28-Dec-20\", \"29-Dec-20\", \"30-Dec-20\", \"31-Dec-20\", \"01-Jan-21\", \"02-Jan-21\", \"03-Jan-21\", \"04-Jan-21\", \"05-Jan-21\", \"06-Jan-21\", \"07-Jan-21\", \"08-Jan-21\", \"09-Jan-21\", \"10-Jan-21\", \"11-Jan-21\", \"12-Jan-21\", \"13-Jan-21\", \"14-Jan-21\", \"15-Jan-21\", \"16-Jan-21\", \"17-Jan-21\", \"18-Jan-21\", \"19-Jan-21\", \"20-Jan-21\", \"21-Jan-21\", \"22-Jan-21\", \"23-Jan-21\", \"24-Jan-21\", \"25-Jan-21\", \"26-Jan-21\", \"27-Jan-21\", \"28-Jan-21\", \"29-Jan-21\", \"30-Jan-21\", \"31-Jan-21\", \"01-Feb-21\", \"02-Feb-21\", \"03-Feb-21\", \"04-Feb-21\", \"05-Feb-21\", \"06-Feb-21\", \"07-Feb-21\", \"08-Feb-21\", \"09-Feb-21\", \"10-Feb-21\", \"11-Feb-21\", \"12-Feb-21\", \"13-Feb-21\", \"14-Feb-21\", \"15-Feb-21\", \"16-Feb-21\", \"17-Feb-21\", \"18-Feb-21\", \"19-Feb-21\", \"20-Feb-21\", \"21-Feb-21\", \"22-Feb-21\", \"23-Feb-21\", \"24-Feb-21\", \"25-Feb-21\", \"26-Feb-21\", \"27-Feb-21\", \"28-Feb-21\", \"01-Mar-21\", \"02-Mar-21\", \"03-Mar-21\", \"04-Mar-21\", \"05-Mar-21\", \"06-Mar-21\", \"07-Mar-21\", \"08-Mar-21\", \"09-Mar-21\", \"10-Mar-21\", \"11-Mar-21\", \"12-Mar-21\", \"13-Mar-21\", \"14-Mar-21\", \"15-Mar-21\", \"16-Mar-21\", \"17-Mar-21\", \"18-Mar-21\", \"19-Mar-21\", \"20-Mar-21\", \"21-Mar-21\", \"22-Mar-21\", \"23-Mar-21\", \"24-Mar-21\", \"25-Mar-21\", \"26-Mar-21\", \"27-Mar-21\", \"28-Mar-21\", \"29-Mar-21\", \"30-Mar-21\", \"31-Mar-21\", \"01-Apr-21\", \"02-Apr-21\", \"03-Apr-21\", \"04-Apr-21\", \"05-Apr-21\", \"06-Apr-21\", \"07-Apr-21\", \"08-Apr-21\", \"09-Apr-21\", \"10-Apr-21\", \"11-Apr-21\", \"12-Apr-21\", \"13-Apr-21\", \"14-Apr-21\", \"15-Apr-21\", \"16-Apr-21\", \"17-Apr-21\"], \"y\": [7, 0, 0, 1, 2, 4, 6, 7, 0, 3, 0, 5, 1, 4, 9, 23, 25, 23, 32, 141, 93, 59, 58, 22, 51, 93, 51, 183, 166, 85, 356, 51, 17, 62, 67, 186, 110, 78, 75, 92, 128, 138, 111, 293, 190, 206, 125, 76, 223, 384, 427, 349, 206, 428, 448, 338, 224, 381, 310, 406, 359, 472, 425, 438, 422, 299, 500, 534, 571, 660, 591, 508, 635, 412, 792, 1024, 1105, 1163, 1295, 990, 1298, 1513, 1359, 1330, 1320, 1282, 1007, 1366, 1501, 1877, 2137, 2134, 2224, 1647, 1859, 2414, 2877, 3137, 3630, 3000, 2909, 3947, 3788, 3390, 3460, 2948, 2889, 2084, 2199, 2442, 2373, 2520, 2505, 2244, 1379, 2008, 2033, 2187, 2089, 1781, 1573, 1246, 1606, 1647, 1652, 1462, 1475, 1211, 954, 1349, 1227, 1041, 1025, 1142, 1075, 613, 1056, 1035, 1093, 1195, 1118, 961, 805, 674, 1076, 1299, 1192, 1404, 1300, 707, 1257, 1113, 956, 1192, 1276, 652, 787, 1374, 1398, 1215, 1250, 1412, 1450, 1061, 1544, 1693, 1840, 1808, 1954, 2024, 1358, 2312, 2509, 2737, 2914, 2973, 3256, 2077, 3609, 4039, 4308, 4266, 4321, 4235, 3229, 4263, 4473, 4432, 4127, 4071, 3812, 2548, 3816, 3714, 3834, 3827, 3372, 3292, 1984, 3227, 3390, 3037, 2920, 2258, 2683, 1947, 2676, 2871, 2726, 2860, 2866, 2780, 1849, 3036, 3324, 3483, 3428, 3259, 3299, 2154, 3579, 3686, 3882, 4086, 4116, 4136, 2832, 4853, 5673, 5739, 5891, 5062, 5664, 4001, 6725, 6842, 6715, 7178, 6953, 7745, 5023, 7830, 8593, 7053, 7802, 7340, 3235, 3797, 6396, 7486, 7546, 6608, 5879, 6746, 4454, 6224, 5246, 5475, 5482, 4998, 4906, 3726, 4006, 3944, 3734, 4067, 3419, 2706, 1674, 3188, 2463, 1575, 2385, 1935, 1984, 1376, 1617, 1547, 1363, 1418, 1139, 1091, 803, 939, 871, 1063, 758, 655, 757, 564, 703, 677, 574, 585, 494, 424, 384, 442, 654, 486, 444, 519, 399, 306, 386, 357, 340, 295, 299, 246, 161, 231, 228, 227, 266, 197, 185, 148, 157, 96, 199, 249, 183, 140, 121, 114, 150, 158, 154, 123, 119, 125, 100, 127, 142, 141, 126, 150, 141, 94, 134, 130, 158, 152, 145, 128, 145, 200, 220, 256, 243, 197, 175, 217, 240, 261, 312, 321, 286, 239, 320, 370, 409, 431, 419, 407, 368, 425, 536, 607, 716, 813, 823, 888, 1101, 1254, 1515, 1534, 1558, 1881, 1904, 992, 1819, 2790, 3594, 3567, 4033, 3548, 5100, 5506, 7437, 8521, 7897, 10774, 11491, 13468, 17282, 16699, 19486, 24375]}, {\"mode\": \"lines\", \"name\": \"Prediction\", \"type\": \"scatter\", \"x\": [\"18-Apr-21\", \"19-Apr-21\", \"20-Apr-21\", \"21-Apr-21\", \"22-Apr-21\", \"23-Apr-21\", \"24-Apr-21\", \"25-Apr-21\", \"26-Apr-21\", \"27-Apr-21\", \"28-Apr-21\", \"29-Apr-21\", \"30-Apr-21\", \"01-May-21\", \"02-May-21\", \"03-May-21\", \"04-May-21\", \"05-May-21\", \"06-May-21\", \"07-May-21\", \"08-May-21\", \"09-May-21\", \"10-May-21\", \"11-May-21\", \"12-May-21\", \"13-May-21\", \"14-May-21\", \"15-May-21\", \"16-May-21\", \"17-May-21\", \"18-May-21\", \"19-May-21\", \"20-May-21\", \"21-May-21\", \"22-May-21\", \"23-May-21\", \"24-May-21\", \"25-May-21\", \"26-May-21\", \"27-May-21\", \"28-May-21\", \"29-May-21\", \"30-May-21\", \"31-May-21\", \"01-Jun-21\", \"02-Jun-21\", \"03-Jun-21\", \"04-Jun-21\", \"05-Jun-21\", \"06-Jun-21\", \"07-Jun-21\", \"08-Jun-21\", \"09-Jun-21\", \"10-Jun-21\", \"11-Jun-21\", \"12-Jun-21\", \"13-Jun-21\", \"14-Jun-21\", \"15-Jun-21\", \"16-Jun-21\"], \"y\": [23364.55078125, 21734.91796875, 26055.828125, 22608.458984375, 24013.28515625, 22326.759765625, 22117.55078125, 21043.9765625, 18537.1328125, 22159.759765625, 23845.3671875, 22238.673828125, 24818.921875, 23141.576171875, 18714.2265625, 16556.98046875, 18309.5703125, 19233.578125, 17557.150390625, 18198.54296875, 15933.94140625, 12237.90625, 11609.3603515625, 11453.37109375, 12192.9453125, 9625.5400390625, 7805.96826171875, 5901.06005859375, 5924.91796875, 4152.14208984375, 4113.603515625, 3530.01904296875, 2965.7041015625, 2762.0, 2074.728271484375, 1514.0836181640625, 1423.242431640625, 1439.759033203125, 1369.10498046875, 984.633056640625, 1047.9482421875, 878.1863403320312, 869.009521484375, 595.4085693359375, 572.4246826171875, 529.1820068359375, 447.09747314453125, 480.3419189453125, 379.40008544921875, 348.6080322265625, 205.72169494628906, 287.4091796875, 307.2770080566406, 276.95880126953125, 212.53631591796875, 188.125244140625, 229.01800537109375, 107.29181671142578, 202.79620361328125]}, {\"mode\": \"lines\", \"name\": \"Testing Data\", \"type\": \"scatter\", \"x\": [\"18-Apr-21\", \"19-Apr-21\", \"20-Apr-21\", \"21-Apr-21\", \"22-Apr-21\", \"23-Apr-21\", \"24-Apr-21\", \"25-Apr-21\", \"26-Apr-21\", \"27-Apr-21\", \"28-Apr-21\", \"29-Apr-21\", \"30-Apr-21\", \"01-May-21\", \"02-May-21\", \"03-May-21\", \"04-May-21\", \"05-May-21\", \"06-May-21\", \"07-May-21\", \"08-May-21\", \"09-May-21\", \"10-May-21\", \"11-May-21\", \"12-May-21\", \"13-May-21\", \"14-May-21\", \"15-May-21\", \"16-May-21\", \"17-May-21\", \"18-May-21\", \"19-May-21\", \"20-May-21\", \"21-May-21\", \"22-May-21\", \"23-May-21\", \"24-May-21\", \"25-May-21\", \"26-May-21\", \"27-May-21\", \"28-May-21\", \"29-May-21\", \"30-May-21\", \"31-May-21\", \"01-Jun-21\", \"02-Jun-21\", \"03-Jun-21\", \"04-Jun-21\", \"05-Jun-21\", \"06-Jun-21\", \"07-Jun-21\", \"08-Jun-21\", \"09-Jun-21\", \"10-Jun-21\", \"11-Jun-21\", \"12-Jun-21\", \"13-Jun-21\", \"14-Jun-21\", \"15-Jun-21\", \"16-Jun-21\"], \"y\": [25462, 23686, 28395, 24638, 26169, 24331, 24103, 22933, 20201, 24149, 25986, 24235, 27047, 25219, 20394, 18043, 19953, 20960, 19133, 19832, 17364, 13336, 12651, 12481, 13287, 10489, 8506, 6430, 6456, 4524, 4482, 3846, 3231, 3009, 2260, 1649, 1550, 1568, 1491, 1072, 1141, 956, 946, 648, 623, 576, 487, 523, 414, 381, 231, 316, 337, 305, 238, 213, 255, 131, 228]}],                        {\"template\": {\"data\": {\"bar\": [{\"error_x\": {\"color\": \"#2a3f5f\"}, \"error_y\": {\"color\": \"#2a3f5f\"}, \"marker\": {\"line\": {\"color\": \"#E5ECF6\", \"width\": 0.5}}, \"type\": \"bar\"}], \"barpolar\": [{\"marker\": {\"line\": {\"color\": \"#E5ECF6\", \"width\": 0.5}}, \"type\": \"barpolar\"}], \"carpet\": [{\"aaxis\": {\"endlinecolor\": \"#2a3f5f\", \"gridcolor\": \"white\", \"linecolor\": \"white\", \"minorgridcolor\": \"white\", \"startlinecolor\": \"#2a3f5f\"}, \"baxis\": {\"endlinecolor\": \"#2a3f5f\", \"gridcolor\": \"white\", \"linecolor\": \"white\", \"minorgridcolor\": \"white\", \"startlinecolor\": \"#2a3f5f\"}, \"type\": \"carpet\"}], \"choropleth\": [{\"colorbar\": {\"outlinewidth\": 0, \"ticks\": \"\"}, \"type\": \"choropleth\"}], \"contour\": [{\"colorbar\": {\"outlinewidth\": 0, \"ticks\": \"\"}, \"colorscale\": [[0.0, \"#0d0887\"], [0.1111111111111111, \"#46039f\"], [0.2222222222222222, \"#7201a8\"], [0.3333333333333333, \"#9c179e\"], [0.4444444444444444, \"#bd3786\"], [0.5555555555555556, \"#d8576b\"], [0.6666666666666666, \"#ed7953\"], [0.7777777777777778, \"#fb9f3a\"], [0.8888888888888888, \"#fdca26\"], [1.0, \"#f0f921\"]], \"type\": \"contour\"}], \"contourcarpet\": [{\"colorbar\": {\"outlinewidth\": 0, \"ticks\": \"\"}, \"type\": \"contourcarpet\"}], \"heatmap\": [{\"colorbar\": {\"outlinewidth\": 0, \"ticks\": \"\"}, \"colorscale\": [[0.0, \"#0d0887\"], [0.1111111111111111, \"#46039f\"], [0.2222222222222222, \"#7201a8\"], [0.3333333333333333, \"#9c179e\"], [0.4444444444444444, \"#bd3786\"], [0.5555555555555556, \"#d8576b\"], [0.6666666666666666, \"#ed7953\"], [0.7777777777777778, \"#fb9f3a\"], [0.8888888888888888, \"#fdca26\"], [1.0, \"#f0f921\"]], \"type\": \"heatmap\"}], \"heatmapgl\": [{\"colorbar\": {\"outlinewidth\": 0, \"ticks\": \"\"}, \"colorscale\": [[0.0, \"#0d0887\"], [0.1111111111111111, \"#46039f\"], [0.2222222222222222, \"#7201a8\"], [0.3333333333333333, \"#9c179e\"], [0.4444444444444444, \"#bd3786\"], [0.5555555555555556, \"#d8576b\"], [0.6666666666666666, \"#ed7953\"], [0.7777777777777778, \"#fb9f3a\"], [0.8888888888888888, \"#fdca26\"], [1.0, \"#f0f921\"]], \"type\": \"heatmapgl\"}], \"histogram\": [{\"marker\": {\"colorbar\": {\"outlinewidth\": 0, \"ticks\": \"\"}}, \"type\": \"histogram\"}], \"histogram2d\": [{\"colorbar\": {\"outlinewidth\": 0, \"ticks\": \"\"}, \"colorscale\": [[0.0, \"#0d0887\"], [0.1111111111111111, \"#46039f\"], [0.2222222222222222, \"#7201a8\"], [0.3333333333333333, \"#9c179e\"], [0.4444444444444444, \"#bd3786\"], [0.5555555555555556, \"#d8576b\"], [0.6666666666666666, \"#ed7953\"], [0.7777777777777778, \"#fb9f3a\"], [0.8888888888888888, \"#fdca26\"], [1.0, \"#f0f921\"]], \"type\": \"histogram2d\"}], \"histogram2dcontour\": [{\"colorbar\": {\"outlinewidth\": 0, \"ticks\": \"\"}, \"colorscale\": [[0.0, \"#0d0887\"], [0.1111111111111111, \"#46039f\"], [0.2222222222222222, \"#7201a8\"], [0.3333333333333333, \"#9c179e\"], [0.4444444444444444, \"#bd3786\"], [0.5555555555555556, \"#d8576b\"], [0.6666666666666666, \"#ed7953\"], [0.7777777777777778, \"#fb9f3a\"], [0.8888888888888888, \"#fdca26\"], [1.0, \"#f0f921\"]], \"type\": \"histogram2dcontour\"}], \"mesh3d\": [{\"colorbar\": {\"outlinewidth\": 0, \"ticks\": \"\"}, \"type\": \"mesh3d\"}], \"parcoords\": [{\"line\": {\"colorbar\": {\"outlinewidth\": 0, \"ticks\": \"\"}}, \"type\": \"parcoords\"}], \"pie\": [{\"automargin\": true, \"type\": \"pie\"}], \"scatter\": [{\"marker\": {\"colorbar\": {\"outlinewidth\": 0, \"ticks\": \"\"}}, \"type\": \"scatter\"}], \"scatter3d\": [{\"line\": {\"colorbar\": {\"outlinewidth\": 0, \"ticks\": \"\"}}, \"marker\": {\"colorbar\": {\"outlinewidth\": 0, \"ticks\": \"\"}}, \"type\": \"scatter3d\"}], \"scattercarpet\": [{\"marker\": {\"colorbar\": {\"outlinewidth\": 0, \"ticks\": \"\"}}, \"type\": \"scattercarpet\"}], \"scattergeo\": [{\"marker\": {\"colorbar\": {\"outlinewidth\": 0, \"ticks\": \"\"}}, \"type\": \"scattergeo\"}], \"scattergl\": [{\"marker\": {\"colorbar\": {\"outlinewidth\": 0, \"ticks\": \"\"}}, \"type\": \"scattergl\"}], \"scattermapbox\": [{\"marker\": {\"colorbar\": {\"outlinewidth\": 0, \"ticks\": \"\"}}, \"type\": \"scattermapbox\"}], \"scatterpolar\": [{\"marker\": {\"colorbar\": {\"outlinewidth\": 0, \"ticks\": \"\"}}, \"type\": \"scatterpolar\"}], \"scatterpolargl\": [{\"marker\": {\"colorbar\": {\"outlinewidth\": 0, \"ticks\": \"\"}}, \"type\": \"scatterpolargl\"}], \"scatterternary\": [{\"marker\": {\"colorbar\": {\"outlinewidth\": 0, \"ticks\": \"\"}}, \"type\": \"scatterternary\"}], \"surface\": [{\"colorbar\": {\"outlinewidth\": 0, \"ticks\": \"\"}, \"colorscale\": [[0.0, \"#0d0887\"], [0.1111111111111111, \"#46039f\"], [0.2222222222222222, \"#7201a8\"], [0.3333333333333333, \"#9c179e\"], [0.4444444444444444, \"#bd3786\"], [0.5555555555555556, \"#d8576b\"], [0.6666666666666666, \"#ed7953\"], [0.7777777777777778, \"#fb9f3a\"], [0.8888888888888888, \"#fdca26\"], [1.0, \"#f0f921\"]], \"type\": \"surface\"}], \"table\": [{\"cells\": {\"fill\": {\"color\": \"#EBF0F8\"}, \"line\": {\"color\": \"white\"}}, \"header\": {\"fill\": {\"color\": \"#C8D4E3\"}, \"line\": {\"color\": \"white\"}}, \"type\": \"table\"}]}, \"layout\": {\"annotationdefaults\": {\"arrowcolor\": \"#2a3f5f\", \"arrowhead\": 0, \"arrowwidth\": 1}, \"coloraxis\": {\"colorbar\": {\"outlinewidth\": 0, \"ticks\": \"\"}}, \"colorscale\": {\"diverging\": [[0, \"#8e0152\"], [0.1, \"#c51b7d\"], [0.2, \"#de77ae\"], [0.3, \"#f1b6da\"], [0.4, \"#fde0ef\"], [0.5, \"#f7f7f7\"], [0.6, \"#e6f5d0\"], [0.7, \"#b8e186\"], [0.8, \"#7fbc41\"], [0.9, \"#4d9221\"], [1, \"#276419\"]], \"sequential\": [[0.0, \"#0d0887\"], [0.1111111111111111, \"#46039f\"], [0.2222222222222222, \"#7201a8\"], [0.3333333333333333, \"#9c179e\"], [0.4444444444444444, \"#bd3786\"], [0.5555555555555556, \"#d8576b\"], [0.6666666666666666, \"#ed7953\"], [0.7777777777777778, \"#fb9f3a\"], [0.8888888888888888, \"#fdca26\"], [1.0, \"#f0f921\"]], \"sequentialminus\": [[0.0, \"#0d0887\"], [0.1111111111111111, \"#46039f\"], [0.2222222222222222, \"#7201a8\"], [0.3333333333333333, \"#9c179e\"], [0.4444444444444444, \"#bd3786\"], [0.5555555555555556, \"#d8576b\"], [0.6666666666666666, \"#ed7953\"], [0.7777777777777778, \"#fb9f3a\"], [0.8888888888888888, \"#fdca26\"], [1.0, \"#f0f921\"]]}, \"colorway\": [\"#636efa\", \"#EF553B\", \"#00cc96\", \"#ab63fa\", \"#FFA15A\", \"#19d3f3\", \"#FF6692\", \"#B6E880\", \"#FF97FF\", \"#FECB52\"], \"font\": {\"color\": \"#2a3f5f\"}, \"geo\": {\"bgcolor\": \"white\", \"lakecolor\": \"white\", \"landcolor\": \"#E5ECF6\", \"showlakes\": true, \"showland\": true, \"subunitcolor\": \"white\"}, \"hoverlabel\": {\"align\": \"left\"}, \"hovermode\": \"closest\", \"mapbox\": {\"style\": \"light\"}, \"paper_bgcolor\": \"white\", \"plot_bgcolor\": \"#E5ECF6\", \"polar\": {\"angularaxis\": {\"gridcolor\": \"white\", \"linecolor\": \"white\", \"ticks\": \"\"}, \"bgcolor\": \"#E5ECF6\", \"radialaxis\": {\"gridcolor\": \"white\", \"linecolor\": \"white\", \"ticks\": \"\"}}, \"scene\": {\"xaxis\": {\"backgroundcolor\": \"#E5ECF6\", \"gridcolor\": \"white\", \"gridwidth\": 2, \"linecolor\": \"white\", \"showbackground\": true, \"ticks\": \"\", \"zerolinecolor\": \"white\"}, \"yaxis\": {\"backgroundcolor\": \"#E5ECF6\", \"gridcolor\": \"white\", \"gridwidth\": 2, \"linecolor\": \"white\", \"showbackground\": true, \"ticks\": \"\", \"zerolinecolor\": \"white\"}, \"zaxis\": {\"backgroundcolor\": \"#E5ECF6\", \"gridcolor\": \"white\", \"gridwidth\": 2, \"linecolor\": \"white\", \"showbackground\": true, \"ticks\": \"\", \"zerolinecolor\": \"white\"}}, \"shapedefaults\": {\"line\": {\"color\": \"#2a3f5f\"}}, \"ternary\": {\"aaxis\": {\"gridcolor\": \"white\", \"linecolor\": \"white\", \"ticks\": \"\"}, \"baxis\": {\"gridcolor\": \"white\", \"linecolor\": \"white\", \"ticks\": \"\"}, \"bgcolor\": \"#E5ECF6\", \"caxis\": {\"gridcolor\": \"white\", \"linecolor\": \"white\", \"ticks\": \"\"}}, \"title\": {\"x\": 0.05}, \"xaxis\": {\"automargin\": true, \"gridcolor\": \"white\", \"linecolor\": \"white\", \"ticks\": \"\", \"title\": {\"standoff\": 15}, \"zerolinecolor\": \"white\", \"zerolinewidth\": 2}, \"yaxis\": {\"automargin\": true, \"gridcolor\": \"white\", \"linecolor\": \"white\", \"ticks\": \"\", \"title\": {\"standoff\": 15}, \"zerolinecolor\": \"white\", \"zerolinewidth\": 2}}}, \"title\": {\"text\": \"Daily Confirmed Covid cases Prediction DELHI\"}, \"xaxis\": {\"title\": {\"text\": \"Date\"}}, \"yaxis\": {\"title\": {\"text\": \"Close\"}}},                        {\"responsive\": true}                    ).then(function(){\n",
       "                            \n",
       "var gd = document.getElementById('315f001c-4928-40b3-9fff-8d40b3557cf0');\n",
       "var x = new MutationObserver(function (mutations, observer) {{\n",
       "        var display = window.getComputedStyle(gd).display;\n",
       "        if (!display || display === 'none') {{\n",
       "            console.log([gd, 'removed!']);\n",
       "            Plotly.purge(gd);\n",
       "            observer.disconnect();\n",
       "        }}\n",
       "}});\n",
       "\n",
       "// Listen for the removal of the full notebook cells\n",
       "var notebookContainer = gd.closest('#notebook-container');\n",
       "if (notebookContainer) {{\n",
       "    x.observe(notebookContainer, {childList: true});\n",
       "}}\n",
       "\n",
       "// Listen for the clearing of the current output cell\n",
       "var outputEl = gd.closest('.output');\n",
       "if (outputEl) {{\n",
       "    x.observe(outputEl, {childList: true});\n",
       "}}\n",
       "\n",
       "                        })                };                });            </script>        </div>"
      ]
     },
     "metadata": {},
     "output_type": "display_data"
    }
   ],
   "source": [
    "prediction = model.predict(test_generator)\n",
    "\n",
    "\n",
    "close_train = close_train.reshape((-1))\n",
    "close_data2 = close_data2.reshape((-1))\n",
    "prediction = prediction.reshape((-1))\n",
    "\n",
    "trace1 = go.Scatter(\n",
    "    x = date_train,\n",
    "    y = close_train,\n",
    "    mode = 'lines',\n",
    "    name = 'Training Data'\n",
    ")\n",
    "trace2 = go.Scatter(\n",
    "    x = date_test,\n",
    "    y = prediction,\n",
    "    mode = 'lines',\n",
    "    name = 'Prediction'\n",
    ")\n",
    "trace3 = go.Scatter(\n",
    "    x = date_test,\n",
    "    y = close_data2,\n",
    "    mode='lines',\n",
    "    name = 'Testing Data'\n",
    ")\n",
    "layout = go.Layout(\n",
    "    title = \"Daily Confirmed Covid cases Prediction DELHI\",\n",
    "    xaxis = {'title' : \"Date\"},\n",
    "    yaxis = {'title' : \"Close\"}\n",
    ")\n",
    "fig = go.Figure(data=[trace1, trace2, trace3], layout=layout)\n",
    "fig.show()"
   ]
  },
  {
   "cell_type": "code",
   "execution_count": 22,
   "metadata": {},
   "outputs": [
    {
     "data": {
      "application/vnd.plotly.v1+json": {
       "config": {
        "plotlyServerURL": "https://plot.ly"
       },
       "data": [
        {
         "mode": "lines",
         "name": "Daily confirmed",
         "type": "scatter",
         "x": [
          "18-Apr-21",
          "19-Apr-21",
          "20-Apr-21",
          "21-Apr-21",
          "22-Apr-21",
          "23-Apr-21",
          "24-Apr-21",
          "25-Apr-21",
          "26-Apr-21",
          "27-Apr-21",
          "28-Apr-21",
          "29-Apr-21",
          "30-Apr-21",
          "01-May-21",
          "02-May-21",
          "03-May-21",
          "04-May-21",
          "05-May-21",
          "06-May-21",
          "07-May-21",
          "08-May-21",
          "09-May-21",
          "10-May-21",
          "11-May-21",
          "12-May-21",
          "13-May-21",
          "14-May-21",
          "15-May-21",
          "16-May-21",
          "17-May-21",
          "18-May-21",
          "19-May-21",
          "20-May-21",
          "21-May-21",
          "22-May-21",
          "23-May-21",
          "24-May-21",
          "25-May-21",
          "26-May-21",
          "27-May-21",
          "28-May-21",
          "29-May-21",
          "30-May-21",
          "31-May-21",
          "01-Jun-21",
          "02-Jun-21",
          "03-Jun-21",
          "04-Jun-21",
          "05-Jun-21",
          "06-Jun-21",
          "07-Jun-21",
          "08-Jun-21",
          "09-Jun-21",
          "10-Jun-21",
          "11-Jun-21",
          "12-Jun-21",
          "13-Jun-21",
          "14-Jun-21",
          "15-Jun-21",
          "16-Jun-21"
         ],
         "y": [
          25462,
          23686,
          28395,
          24638,
          26169,
          24331,
          24103,
          22933,
          20201,
          24149,
          25986,
          24235,
          27047,
          25219,
          20394,
          18043,
          19953,
          20960,
          19133,
          19832,
          17364,
          13336,
          12651,
          12481,
          13287,
          10489,
          8506,
          6430,
          6456,
          4524,
          4482,
          3846,
          3231,
          3009,
          2260,
          1649,
          1550,
          1568,
          1491,
          1072,
          1141,
          956,
          946,
          648,
          623,
          576,
          487,
          523,
          414,
          381,
          231,
          316,
          337,
          305,
          238,
          213,
          255,
          131,
          228
         ]
        },
        {
         "line": {
          "color": "red"
         },
         "mode": "lines",
         "name": "Predicted confirm",
         "type": "scatter",
         "x": [
          "18-Apr-21",
          "19-Apr-21",
          "20-Apr-21",
          "21-Apr-21",
          "22-Apr-21",
          "23-Apr-21",
          "24-Apr-21",
          "25-Apr-21",
          "26-Apr-21",
          "27-Apr-21",
          "28-Apr-21",
          "29-Apr-21",
          "30-Apr-21",
          "01-May-21",
          "02-May-21",
          "03-May-21",
          "04-May-21",
          "05-May-21",
          "06-May-21",
          "07-May-21",
          "08-May-21",
          "09-May-21",
          "10-May-21",
          "11-May-21",
          "12-May-21",
          "13-May-21",
          "14-May-21",
          "15-May-21",
          "16-May-21",
          "17-May-21",
          "18-May-21",
          "19-May-21",
          "20-May-21",
          "21-May-21",
          "22-May-21",
          "23-May-21",
          "24-May-21",
          "25-May-21",
          "26-May-21",
          "27-May-21",
          "28-May-21",
          "29-May-21",
          "30-May-21",
          "31-May-21",
          "01-Jun-21",
          "02-Jun-21",
          "03-Jun-21",
          "04-Jun-21",
          "05-Jun-21",
          "06-Jun-21",
          "07-Jun-21",
          "08-Jun-21",
          "09-Jun-21",
          "10-Jun-21",
          "11-Jun-21",
          "12-Jun-21",
          "13-Jun-21",
          "14-Jun-21",
          "15-Jun-21",
          "16-Jun-21"
         ],
         "y": [
          23364.55078125,
          21734.91796875,
          26055.828125,
          22608.458984375,
          24013.28515625,
          22326.759765625,
          22117.55078125,
          21043.9765625,
          18537.1328125,
          22159.759765625,
          23845.3671875,
          22238.673828125,
          24818.921875,
          23141.576171875,
          18714.2265625,
          16556.98046875,
          18309.5703125,
          19233.578125,
          17557.150390625,
          18198.54296875,
          15933.94140625,
          12237.90625,
          11609.3603515625,
          11453.37109375,
          12192.9453125,
          9625.5400390625,
          7805.96826171875,
          5901.06005859375,
          5924.91796875,
          4152.14208984375,
          4113.603515625,
          3530.01904296875,
          2965.7041015625,
          2762,
          2074.728271484375,
          1514.0836181640625,
          1423.242431640625,
          1439.759033203125,
          1369.10498046875,
          984.633056640625,
          1047.9482421875,
          878.1863403320312,
          869.009521484375,
          595.4085693359375,
          572.4246826171875,
          529.1820068359375,
          447.09747314453125,
          480.3419189453125,
          379.40008544921875,
          348.6080322265625,
          205.72169494628906,
          287.4091796875,
          307.2770080566406,
          276.95880126953125,
          212.53631591796875,
          188.125244140625,
          229.01800537109375,
          107.29181671142578,
          202.79620361328125
         ]
        }
       ],
       "layout": {
        "template": {
         "data": {
          "bar": [
           {
            "error_x": {
             "color": "#2a3f5f"
            },
            "error_y": {
             "color": "#2a3f5f"
            },
            "marker": {
             "line": {
              "color": "#E5ECF6",
              "width": 0.5
             }
            },
            "type": "bar"
           }
          ],
          "barpolar": [
           {
            "marker": {
             "line": {
              "color": "#E5ECF6",
              "width": 0.5
             }
            },
            "type": "barpolar"
           }
          ],
          "carpet": [
           {
            "aaxis": {
             "endlinecolor": "#2a3f5f",
             "gridcolor": "white",
             "linecolor": "white",
             "minorgridcolor": "white",
             "startlinecolor": "#2a3f5f"
            },
            "baxis": {
             "endlinecolor": "#2a3f5f",
             "gridcolor": "white",
             "linecolor": "white",
             "minorgridcolor": "white",
             "startlinecolor": "#2a3f5f"
            },
            "type": "carpet"
           }
          ],
          "choropleth": [
           {
            "colorbar": {
             "outlinewidth": 0,
             "ticks": ""
            },
            "type": "choropleth"
           }
          ],
          "contour": [
           {
            "colorbar": {
             "outlinewidth": 0,
             "ticks": ""
            },
            "colorscale": [
             [
              0,
              "#0d0887"
             ],
             [
              0.1111111111111111,
              "#46039f"
             ],
             [
              0.2222222222222222,
              "#7201a8"
             ],
             [
              0.3333333333333333,
              "#9c179e"
             ],
             [
              0.4444444444444444,
              "#bd3786"
             ],
             [
              0.5555555555555556,
              "#d8576b"
             ],
             [
              0.6666666666666666,
              "#ed7953"
             ],
             [
              0.7777777777777778,
              "#fb9f3a"
             ],
             [
              0.8888888888888888,
              "#fdca26"
             ],
             [
              1,
              "#f0f921"
             ]
            ],
            "type": "contour"
           }
          ],
          "contourcarpet": [
           {
            "colorbar": {
             "outlinewidth": 0,
             "ticks": ""
            },
            "type": "contourcarpet"
           }
          ],
          "heatmap": [
           {
            "colorbar": {
             "outlinewidth": 0,
             "ticks": ""
            },
            "colorscale": [
             [
              0,
              "#0d0887"
             ],
             [
              0.1111111111111111,
              "#46039f"
             ],
             [
              0.2222222222222222,
              "#7201a8"
             ],
             [
              0.3333333333333333,
              "#9c179e"
             ],
             [
              0.4444444444444444,
              "#bd3786"
             ],
             [
              0.5555555555555556,
              "#d8576b"
             ],
             [
              0.6666666666666666,
              "#ed7953"
             ],
             [
              0.7777777777777778,
              "#fb9f3a"
             ],
             [
              0.8888888888888888,
              "#fdca26"
             ],
             [
              1,
              "#f0f921"
             ]
            ],
            "type": "heatmap"
           }
          ],
          "heatmapgl": [
           {
            "colorbar": {
             "outlinewidth": 0,
             "ticks": ""
            },
            "colorscale": [
             [
              0,
              "#0d0887"
             ],
             [
              0.1111111111111111,
              "#46039f"
             ],
             [
              0.2222222222222222,
              "#7201a8"
             ],
             [
              0.3333333333333333,
              "#9c179e"
             ],
             [
              0.4444444444444444,
              "#bd3786"
             ],
             [
              0.5555555555555556,
              "#d8576b"
             ],
             [
              0.6666666666666666,
              "#ed7953"
             ],
             [
              0.7777777777777778,
              "#fb9f3a"
             ],
             [
              0.8888888888888888,
              "#fdca26"
             ],
             [
              1,
              "#f0f921"
             ]
            ],
            "type": "heatmapgl"
           }
          ],
          "histogram": [
           {
            "marker": {
             "colorbar": {
              "outlinewidth": 0,
              "ticks": ""
             }
            },
            "type": "histogram"
           }
          ],
          "histogram2d": [
           {
            "colorbar": {
             "outlinewidth": 0,
             "ticks": ""
            },
            "colorscale": [
             [
              0,
              "#0d0887"
             ],
             [
              0.1111111111111111,
              "#46039f"
             ],
             [
              0.2222222222222222,
              "#7201a8"
             ],
             [
              0.3333333333333333,
              "#9c179e"
             ],
             [
              0.4444444444444444,
              "#bd3786"
             ],
             [
              0.5555555555555556,
              "#d8576b"
             ],
             [
              0.6666666666666666,
              "#ed7953"
             ],
             [
              0.7777777777777778,
              "#fb9f3a"
             ],
             [
              0.8888888888888888,
              "#fdca26"
             ],
             [
              1,
              "#f0f921"
             ]
            ],
            "type": "histogram2d"
           }
          ],
          "histogram2dcontour": [
           {
            "colorbar": {
             "outlinewidth": 0,
             "ticks": ""
            },
            "colorscale": [
             [
              0,
              "#0d0887"
             ],
             [
              0.1111111111111111,
              "#46039f"
             ],
             [
              0.2222222222222222,
              "#7201a8"
             ],
             [
              0.3333333333333333,
              "#9c179e"
             ],
             [
              0.4444444444444444,
              "#bd3786"
             ],
             [
              0.5555555555555556,
              "#d8576b"
             ],
             [
              0.6666666666666666,
              "#ed7953"
             ],
             [
              0.7777777777777778,
              "#fb9f3a"
             ],
             [
              0.8888888888888888,
              "#fdca26"
             ],
             [
              1,
              "#f0f921"
             ]
            ],
            "type": "histogram2dcontour"
           }
          ],
          "mesh3d": [
           {
            "colorbar": {
             "outlinewidth": 0,
             "ticks": ""
            },
            "type": "mesh3d"
           }
          ],
          "parcoords": [
           {
            "line": {
             "colorbar": {
              "outlinewidth": 0,
              "ticks": ""
             }
            },
            "type": "parcoords"
           }
          ],
          "pie": [
           {
            "automargin": true,
            "type": "pie"
           }
          ],
          "scatter": [
           {
            "marker": {
             "colorbar": {
              "outlinewidth": 0,
              "ticks": ""
             }
            },
            "type": "scatter"
           }
          ],
          "scatter3d": [
           {
            "line": {
             "colorbar": {
              "outlinewidth": 0,
              "ticks": ""
             }
            },
            "marker": {
             "colorbar": {
              "outlinewidth": 0,
              "ticks": ""
             }
            },
            "type": "scatter3d"
           }
          ],
          "scattercarpet": [
           {
            "marker": {
             "colorbar": {
              "outlinewidth": 0,
              "ticks": ""
             }
            },
            "type": "scattercarpet"
           }
          ],
          "scattergeo": [
           {
            "marker": {
             "colorbar": {
              "outlinewidth": 0,
              "ticks": ""
             }
            },
            "type": "scattergeo"
           }
          ],
          "scattergl": [
           {
            "marker": {
             "colorbar": {
              "outlinewidth": 0,
              "ticks": ""
             }
            },
            "type": "scattergl"
           }
          ],
          "scattermapbox": [
           {
            "marker": {
             "colorbar": {
              "outlinewidth": 0,
              "ticks": ""
             }
            },
            "type": "scattermapbox"
           }
          ],
          "scatterpolar": [
           {
            "marker": {
             "colorbar": {
              "outlinewidth": 0,
              "ticks": ""
             }
            },
            "type": "scatterpolar"
           }
          ],
          "scatterpolargl": [
           {
            "marker": {
             "colorbar": {
              "outlinewidth": 0,
              "ticks": ""
             }
            },
            "type": "scatterpolargl"
           }
          ],
          "scatterternary": [
           {
            "marker": {
             "colorbar": {
              "outlinewidth": 0,
              "ticks": ""
             }
            },
            "type": "scatterternary"
           }
          ],
          "surface": [
           {
            "colorbar": {
             "outlinewidth": 0,
             "ticks": ""
            },
            "colorscale": [
             [
              0,
              "#0d0887"
             ],
             [
              0.1111111111111111,
              "#46039f"
             ],
             [
              0.2222222222222222,
              "#7201a8"
             ],
             [
              0.3333333333333333,
              "#9c179e"
             ],
             [
              0.4444444444444444,
              "#bd3786"
             ],
             [
              0.5555555555555556,
              "#d8576b"
             ],
             [
              0.6666666666666666,
              "#ed7953"
             ],
             [
              0.7777777777777778,
              "#fb9f3a"
             ],
             [
              0.8888888888888888,
              "#fdca26"
             ],
             [
              1,
              "#f0f921"
             ]
            ],
            "type": "surface"
           }
          ],
          "table": [
           {
            "cells": {
             "fill": {
              "color": "#EBF0F8"
             },
             "line": {
              "color": "white"
             }
            },
            "header": {
             "fill": {
              "color": "#C8D4E3"
             },
             "line": {
              "color": "white"
             }
            },
            "type": "table"
           }
          ]
         },
         "layout": {
          "annotationdefaults": {
           "arrowcolor": "#2a3f5f",
           "arrowhead": 0,
           "arrowwidth": 1
          },
          "coloraxis": {
           "colorbar": {
            "outlinewidth": 0,
            "ticks": ""
           }
          },
          "colorscale": {
           "diverging": [
            [
             0,
             "#8e0152"
            ],
            [
             0.1,
             "#c51b7d"
            ],
            [
             0.2,
             "#de77ae"
            ],
            [
             0.3,
             "#f1b6da"
            ],
            [
             0.4,
             "#fde0ef"
            ],
            [
             0.5,
             "#f7f7f7"
            ],
            [
             0.6,
             "#e6f5d0"
            ],
            [
             0.7,
             "#b8e186"
            ],
            [
             0.8,
             "#7fbc41"
            ],
            [
             0.9,
             "#4d9221"
            ],
            [
             1,
             "#276419"
            ]
           ],
           "sequential": [
            [
             0,
             "#0d0887"
            ],
            [
             0.1111111111111111,
             "#46039f"
            ],
            [
             0.2222222222222222,
             "#7201a8"
            ],
            [
             0.3333333333333333,
             "#9c179e"
            ],
            [
             0.4444444444444444,
             "#bd3786"
            ],
            [
             0.5555555555555556,
             "#d8576b"
            ],
            [
             0.6666666666666666,
             "#ed7953"
            ],
            [
             0.7777777777777778,
             "#fb9f3a"
            ],
            [
             0.8888888888888888,
             "#fdca26"
            ],
            [
             1,
             "#f0f921"
            ]
           ],
           "sequentialminus": [
            [
             0,
             "#0d0887"
            ],
            [
             0.1111111111111111,
             "#46039f"
            ],
            [
             0.2222222222222222,
             "#7201a8"
            ],
            [
             0.3333333333333333,
             "#9c179e"
            ],
            [
             0.4444444444444444,
             "#bd3786"
            ],
            [
             0.5555555555555556,
             "#d8576b"
            ],
            [
             0.6666666666666666,
             "#ed7953"
            ],
            [
             0.7777777777777778,
             "#fb9f3a"
            ],
            [
             0.8888888888888888,
             "#fdca26"
            ],
            [
             1,
             "#f0f921"
            ]
           ]
          },
          "colorway": [
           "#636efa",
           "#EF553B",
           "#00cc96",
           "#ab63fa",
           "#FFA15A",
           "#19d3f3",
           "#FF6692",
           "#B6E880",
           "#FF97FF",
           "#FECB52"
          ],
          "font": {
           "color": "#2a3f5f"
          },
          "geo": {
           "bgcolor": "white",
           "lakecolor": "white",
           "landcolor": "#E5ECF6",
           "showlakes": true,
           "showland": true,
           "subunitcolor": "white"
          },
          "hoverlabel": {
           "align": "left"
          },
          "hovermode": "closest",
          "mapbox": {
           "style": "light"
          },
          "paper_bgcolor": "white",
          "plot_bgcolor": "#E5ECF6",
          "polar": {
           "angularaxis": {
            "gridcolor": "white",
            "linecolor": "white",
            "ticks": ""
           },
           "bgcolor": "#E5ECF6",
           "radialaxis": {
            "gridcolor": "white",
            "linecolor": "white",
            "ticks": ""
           }
          },
          "scene": {
           "xaxis": {
            "backgroundcolor": "#E5ECF6",
            "gridcolor": "white",
            "gridwidth": 2,
            "linecolor": "white",
            "showbackground": true,
            "ticks": "",
            "zerolinecolor": "white"
           },
           "yaxis": {
            "backgroundcolor": "#E5ECF6",
            "gridcolor": "white",
            "gridwidth": 2,
            "linecolor": "white",
            "showbackground": true,
            "ticks": "",
            "zerolinecolor": "white"
           },
           "zaxis": {
            "backgroundcolor": "#E5ECF6",
            "gridcolor": "white",
            "gridwidth": 2,
            "linecolor": "white",
            "showbackground": true,
            "ticks": "",
            "zerolinecolor": "white"
           }
          },
          "shapedefaults": {
           "line": {
            "color": "#2a3f5f"
           }
          },
          "ternary": {
           "aaxis": {
            "gridcolor": "white",
            "linecolor": "white",
            "ticks": ""
           },
           "baxis": {
            "gridcolor": "white",
            "linecolor": "white",
            "ticks": ""
           },
           "bgcolor": "#E5ECF6",
           "caxis": {
            "gridcolor": "white",
            "linecolor": "white",
            "ticks": ""
           }
          },
          "title": {
           "x": 0.05
          },
          "xaxis": {
           "automargin": true,
           "gridcolor": "white",
           "linecolor": "white",
           "ticks": "",
           "title": {
            "standoff": 15
           },
           "zerolinecolor": "white",
           "zerolinewidth": 2
          },
          "yaxis": {
           "automargin": true,
           "gridcolor": "white",
           "linecolor": "white",
           "ticks": "",
           "title": {
            "standoff": 15
           },
           "zerolinecolor": "white",
           "zerolinewidth": 2
          }
         }
        },
        "title": {
         "text": "Daily predicted Confirmed Covid cases of DELHI"
        },
        "xaxis": {
         "title": {
          "text": "Date"
         }
        },
        "yaxis": {
         "title": {
          "text": "Close"
         }
        }
       }
      },
      "text/html": [
       "<div>                            <div id=\"c60c4fce-edfd-4312-9730-025047bdb4c0\" class=\"plotly-graph-div\" style=\"height:525px; width:100%;\"></div>            <script type=\"text/javascript\">                require([\"plotly\"], function(Plotly) {                    window.PLOTLYENV=window.PLOTLYENV || {};                                    if (document.getElementById(\"c60c4fce-edfd-4312-9730-025047bdb4c0\")) {                    Plotly.newPlot(                        \"c60c4fce-edfd-4312-9730-025047bdb4c0\",                        [{\"mode\": \"lines\", \"name\": \"Daily confirmed\", \"type\": \"scatter\", \"x\": [\"18-Apr-21\", \"19-Apr-21\", \"20-Apr-21\", \"21-Apr-21\", \"22-Apr-21\", \"23-Apr-21\", \"24-Apr-21\", \"25-Apr-21\", \"26-Apr-21\", \"27-Apr-21\", \"28-Apr-21\", \"29-Apr-21\", \"30-Apr-21\", \"01-May-21\", \"02-May-21\", \"03-May-21\", \"04-May-21\", \"05-May-21\", \"06-May-21\", \"07-May-21\", \"08-May-21\", \"09-May-21\", \"10-May-21\", \"11-May-21\", \"12-May-21\", \"13-May-21\", \"14-May-21\", \"15-May-21\", \"16-May-21\", \"17-May-21\", \"18-May-21\", \"19-May-21\", \"20-May-21\", \"21-May-21\", \"22-May-21\", \"23-May-21\", \"24-May-21\", \"25-May-21\", \"26-May-21\", \"27-May-21\", \"28-May-21\", \"29-May-21\", \"30-May-21\", \"31-May-21\", \"01-Jun-21\", \"02-Jun-21\", \"03-Jun-21\", \"04-Jun-21\", \"05-Jun-21\", \"06-Jun-21\", \"07-Jun-21\", \"08-Jun-21\", \"09-Jun-21\", \"10-Jun-21\", \"11-Jun-21\", \"12-Jun-21\", \"13-Jun-21\", \"14-Jun-21\", \"15-Jun-21\", \"16-Jun-21\"], \"y\": [25462, 23686, 28395, 24638, 26169, 24331, 24103, 22933, 20201, 24149, 25986, 24235, 27047, 25219, 20394, 18043, 19953, 20960, 19133, 19832, 17364, 13336, 12651, 12481, 13287, 10489, 8506, 6430, 6456, 4524, 4482, 3846, 3231, 3009, 2260, 1649, 1550, 1568, 1491, 1072, 1141, 956, 946, 648, 623, 576, 487, 523, 414, 381, 231, 316, 337, 305, 238, 213, 255, 131, 228]}, {\"line\": {\"color\": \"red\"}, \"mode\": \"lines\", \"name\": \"Predicted confirm\", \"type\": \"scatter\", \"x\": [\"18-Apr-21\", \"19-Apr-21\", \"20-Apr-21\", \"21-Apr-21\", \"22-Apr-21\", \"23-Apr-21\", \"24-Apr-21\", \"25-Apr-21\", \"26-Apr-21\", \"27-Apr-21\", \"28-Apr-21\", \"29-Apr-21\", \"30-Apr-21\", \"01-May-21\", \"02-May-21\", \"03-May-21\", \"04-May-21\", \"05-May-21\", \"06-May-21\", \"07-May-21\", \"08-May-21\", \"09-May-21\", \"10-May-21\", \"11-May-21\", \"12-May-21\", \"13-May-21\", \"14-May-21\", \"15-May-21\", \"16-May-21\", \"17-May-21\", \"18-May-21\", \"19-May-21\", \"20-May-21\", \"21-May-21\", \"22-May-21\", \"23-May-21\", \"24-May-21\", \"25-May-21\", \"26-May-21\", \"27-May-21\", \"28-May-21\", \"29-May-21\", \"30-May-21\", \"31-May-21\", \"01-Jun-21\", \"02-Jun-21\", \"03-Jun-21\", \"04-Jun-21\", \"05-Jun-21\", \"06-Jun-21\", \"07-Jun-21\", \"08-Jun-21\", \"09-Jun-21\", \"10-Jun-21\", \"11-Jun-21\", \"12-Jun-21\", \"13-Jun-21\", \"14-Jun-21\", \"15-Jun-21\", \"16-Jun-21\"], \"y\": [23364.55078125, 21734.91796875, 26055.828125, 22608.458984375, 24013.28515625, 22326.759765625, 22117.55078125, 21043.9765625, 18537.1328125, 22159.759765625, 23845.3671875, 22238.673828125, 24818.921875, 23141.576171875, 18714.2265625, 16556.98046875, 18309.5703125, 19233.578125, 17557.150390625, 18198.54296875, 15933.94140625, 12237.90625, 11609.3603515625, 11453.37109375, 12192.9453125, 9625.5400390625, 7805.96826171875, 5901.06005859375, 5924.91796875, 4152.14208984375, 4113.603515625, 3530.01904296875, 2965.7041015625, 2762.0, 2074.728271484375, 1514.0836181640625, 1423.242431640625, 1439.759033203125, 1369.10498046875, 984.633056640625, 1047.9482421875, 878.1863403320312, 869.009521484375, 595.4085693359375, 572.4246826171875, 529.1820068359375, 447.09747314453125, 480.3419189453125, 379.40008544921875, 348.6080322265625, 205.72169494628906, 287.4091796875, 307.2770080566406, 276.95880126953125, 212.53631591796875, 188.125244140625, 229.01800537109375, 107.29181671142578, 202.79620361328125]}],                        {\"template\": {\"data\": {\"bar\": [{\"error_x\": {\"color\": \"#2a3f5f\"}, \"error_y\": {\"color\": \"#2a3f5f\"}, \"marker\": {\"line\": {\"color\": \"#E5ECF6\", \"width\": 0.5}}, \"type\": \"bar\"}], \"barpolar\": [{\"marker\": {\"line\": {\"color\": \"#E5ECF6\", \"width\": 0.5}}, \"type\": \"barpolar\"}], \"carpet\": [{\"aaxis\": {\"endlinecolor\": \"#2a3f5f\", \"gridcolor\": \"white\", \"linecolor\": \"white\", \"minorgridcolor\": \"white\", \"startlinecolor\": \"#2a3f5f\"}, \"baxis\": {\"endlinecolor\": \"#2a3f5f\", \"gridcolor\": \"white\", \"linecolor\": \"white\", \"minorgridcolor\": \"white\", \"startlinecolor\": \"#2a3f5f\"}, \"type\": \"carpet\"}], \"choropleth\": [{\"colorbar\": {\"outlinewidth\": 0, \"ticks\": \"\"}, \"type\": \"choropleth\"}], \"contour\": [{\"colorbar\": {\"outlinewidth\": 0, \"ticks\": \"\"}, \"colorscale\": [[0.0, \"#0d0887\"], [0.1111111111111111, \"#46039f\"], [0.2222222222222222, \"#7201a8\"], [0.3333333333333333, \"#9c179e\"], [0.4444444444444444, \"#bd3786\"], [0.5555555555555556, \"#d8576b\"], [0.6666666666666666, \"#ed7953\"], [0.7777777777777778, \"#fb9f3a\"], [0.8888888888888888, \"#fdca26\"], [1.0, \"#f0f921\"]], \"type\": \"contour\"}], \"contourcarpet\": [{\"colorbar\": {\"outlinewidth\": 0, \"ticks\": \"\"}, \"type\": \"contourcarpet\"}], \"heatmap\": [{\"colorbar\": {\"outlinewidth\": 0, \"ticks\": \"\"}, \"colorscale\": [[0.0, \"#0d0887\"], [0.1111111111111111, \"#46039f\"], [0.2222222222222222, \"#7201a8\"], [0.3333333333333333, \"#9c179e\"], [0.4444444444444444, \"#bd3786\"], [0.5555555555555556, \"#d8576b\"], [0.6666666666666666, \"#ed7953\"], [0.7777777777777778, \"#fb9f3a\"], [0.8888888888888888, \"#fdca26\"], [1.0, \"#f0f921\"]], \"type\": \"heatmap\"}], \"heatmapgl\": [{\"colorbar\": {\"outlinewidth\": 0, \"ticks\": \"\"}, \"colorscale\": [[0.0, \"#0d0887\"], [0.1111111111111111, \"#46039f\"], [0.2222222222222222, \"#7201a8\"], [0.3333333333333333, \"#9c179e\"], [0.4444444444444444, \"#bd3786\"], [0.5555555555555556, \"#d8576b\"], [0.6666666666666666, \"#ed7953\"], [0.7777777777777778, \"#fb9f3a\"], [0.8888888888888888, \"#fdca26\"], [1.0, \"#f0f921\"]], \"type\": \"heatmapgl\"}], \"histogram\": [{\"marker\": {\"colorbar\": {\"outlinewidth\": 0, \"ticks\": \"\"}}, \"type\": \"histogram\"}], \"histogram2d\": [{\"colorbar\": {\"outlinewidth\": 0, \"ticks\": \"\"}, \"colorscale\": [[0.0, \"#0d0887\"], [0.1111111111111111, \"#46039f\"], [0.2222222222222222, \"#7201a8\"], [0.3333333333333333, \"#9c179e\"], [0.4444444444444444, \"#bd3786\"], [0.5555555555555556, \"#d8576b\"], [0.6666666666666666, \"#ed7953\"], [0.7777777777777778, \"#fb9f3a\"], [0.8888888888888888, \"#fdca26\"], [1.0, \"#f0f921\"]], \"type\": \"histogram2d\"}], \"histogram2dcontour\": [{\"colorbar\": {\"outlinewidth\": 0, \"ticks\": \"\"}, \"colorscale\": [[0.0, \"#0d0887\"], [0.1111111111111111, \"#46039f\"], [0.2222222222222222, \"#7201a8\"], [0.3333333333333333, \"#9c179e\"], [0.4444444444444444, \"#bd3786\"], [0.5555555555555556, \"#d8576b\"], [0.6666666666666666, \"#ed7953\"], [0.7777777777777778, \"#fb9f3a\"], [0.8888888888888888, \"#fdca26\"], [1.0, \"#f0f921\"]], \"type\": \"histogram2dcontour\"}], \"mesh3d\": [{\"colorbar\": {\"outlinewidth\": 0, \"ticks\": \"\"}, \"type\": \"mesh3d\"}], \"parcoords\": [{\"line\": {\"colorbar\": {\"outlinewidth\": 0, \"ticks\": \"\"}}, \"type\": \"parcoords\"}], \"pie\": [{\"automargin\": true, \"type\": \"pie\"}], \"scatter\": [{\"marker\": {\"colorbar\": {\"outlinewidth\": 0, \"ticks\": \"\"}}, \"type\": \"scatter\"}], \"scatter3d\": [{\"line\": {\"colorbar\": {\"outlinewidth\": 0, \"ticks\": \"\"}}, \"marker\": {\"colorbar\": {\"outlinewidth\": 0, \"ticks\": \"\"}}, \"type\": \"scatter3d\"}], \"scattercarpet\": [{\"marker\": {\"colorbar\": {\"outlinewidth\": 0, \"ticks\": \"\"}}, \"type\": \"scattercarpet\"}], \"scattergeo\": [{\"marker\": {\"colorbar\": {\"outlinewidth\": 0, \"ticks\": \"\"}}, \"type\": \"scattergeo\"}], \"scattergl\": [{\"marker\": {\"colorbar\": {\"outlinewidth\": 0, \"ticks\": \"\"}}, \"type\": \"scattergl\"}], \"scattermapbox\": [{\"marker\": {\"colorbar\": {\"outlinewidth\": 0, \"ticks\": \"\"}}, \"type\": \"scattermapbox\"}], \"scatterpolar\": [{\"marker\": {\"colorbar\": {\"outlinewidth\": 0, \"ticks\": \"\"}}, \"type\": \"scatterpolar\"}], \"scatterpolargl\": [{\"marker\": {\"colorbar\": {\"outlinewidth\": 0, \"ticks\": \"\"}}, \"type\": \"scatterpolargl\"}], \"scatterternary\": [{\"marker\": {\"colorbar\": {\"outlinewidth\": 0, \"ticks\": \"\"}}, \"type\": \"scatterternary\"}], \"surface\": [{\"colorbar\": {\"outlinewidth\": 0, \"ticks\": \"\"}, \"colorscale\": [[0.0, \"#0d0887\"], [0.1111111111111111, \"#46039f\"], [0.2222222222222222, \"#7201a8\"], [0.3333333333333333, \"#9c179e\"], [0.4444444444444444, \"#bd3786\"], [0.5555555555555556, \"#d8576b\"], [0.6666666666666666, \"#ed7953\"], [0.7777777777777778, \"#fb9f3a\"], [0.8888888888888888, \"#fdca26\"], [1.0, \"#f0f921\"]], \"type\": \"surface\"}], \"table\": [{\"cells\": {\"fill\": {\"color\": \"#EBF0F8\"}, \"line\": {\"color\": \"white\"}}, \"header\": {\"fill\": {\"color\": \"#C8D4E3\"}, \"line\": {\"color\": \"white\"}}, \"type\": \"table\"}]}, \"layout\": {\"annotationdefaults\": {\"arrowcolor\": \"#2a3f5f\", \"arrowhead\": 0, \"arrowwidth\": 1}, \"coloraxis\": {\"colorbar\": {\"outlinewidth\": 0, \"ticks\": \"\"}}, \"colorscale\": {\"diverging\": [[0, \"#8e0152\"], [0.1, \"#c51b7d\"], [0.2, \"#de77ae\"], [0.3, \"#f1b6da\"], [0.4, \"#fde0ef\"], [0.5, \"#f7f7f7\"], [0.6, \"#e6f5d0\"], [0.7, \"#b8e186\"], [0.8, \"#7fbc41\"], [0.9, \"#4d9221\"], [1, \"#276419\"]], \"sequential\": [[0.0, \"#0d0887\"], [0.1111111111111111, \"#46039f\"], [0.2222222222222222, \"#7201a8\"], [0.3333333333333333, \"#9c179e\"], [0.4444444444444444, \"#bd3786\"], [0.5555555555555556, \"#d8576b\"], [0.6666666666666666, \"#ed7953\"], [0.7777777777777778, \"#fb9f3a\"], [0.8888888888888888, \"#fdca26\"], [1.0, \"#f0f921\"]], \"sequentialminus\": [[0.0, \"#0d0887\"], [0.1111111111111111, \"#46039f\"], [0.2222222222222222, \"#7201a8\"], [0.3333333333333333, \"#9c179e\"], [0.4444444444444444, \"#bd3786\"], [0.5555555555555556, \"#d8576b\"], [0.6666666666666666, \"#ed7953\"], [0.7777777777777778, \"#fb9f3a\"], [0.8888888888888888, \"#fdca26\"], [1.0, \"#f0f921\"]]}, \"colorway\": [\"#636efa\", \"#EF553B\", \"#00cc96\", \"#ab63fa\", \"#FFA15A\", \"#19d3f3\", \"#FF6692\", \"#B6E880\", \"#FF97FF\", \"#FECB52\"], \"font\": {\"color\": \"#2a3f5f\"}, \"geo\": {\"bgcolor\": \"white\", \"lakecolor\": \"white\", \"landcolor\": \"#E5ECF6\", \"showlakes\": true, \"showland\": true, \"subunitcolor\": \"white\"}, \"hoverlabel\": {\"align\": \"left\"}, \"hovermode\": \"closest\", \"mapbox\": {\"style\": \"light\"}, \"paper_bgcolor\": \"white\", \"plot_bgcolor\": \"#E5ECF6\", \"polar\": {\"angularaxis\": {\"gridcolor\": \"white\", \"linecolor\": \"white\", \"ticks\": \"\"}, \"bgcolor\": \"#E5ECF6\", \"radialaxis\": {\"gridcolor\": \"white\", \"linecolor\": \"white\", \"ticks\": \"\"}}, \"scene\": {\"xaxis\": {\"backgroundcolor\": \"#E5ECF6\", \"gridcolor\": \"white\", \"gridwidth\": 2, \"linecolor\": \"white\", \"showbackground\": true, \"ticks\": \"\", \"zerolinecolor\": \"white\"}, \"yaxis\": {\"backgroundcolor\": \"#E5ECF6\", \"gridcolor\": \"white\", \"gridwidth\": 2, \"linecolor\": \"white\", \"showbackground\": true, \"ticks\": \"\", \"zerolinecolor\": \"white\"}, \"zaxis\": {\"backgroundcolor\": \"#E5ECF6\", \"gridcolor\": \"white\", \"gridwidth\": 2, \"linecolor\": \"white\", \"showbackground\": true, \"ticks\": \"\", \"zerolinecolor\": \"white\"}}, \"shapedefaults\": {\"line\": {\"color\": \"#2a3f5f\"}}, \"ternary\": {\"aaxis\": {\"gridcolor\": \"white\", \"linecolor\": \"white\", \"ticks\": \"\"}, \"baxis\": {\"gridcolor\": \"white\", \"linecolor\": \"white\", \"ticks\": \"\"}, \"bgcolor\": \"#E5ECF6\", \"caxis\": {\"gridcolor\": \"white\", \"linecolor\": \"white\", \"ticks\": \"\"}}, \"title\": {\"x\": 0.05}, \"xaxis\": {\"automargin\": true, \"gridcolor\": \"white\", \"linecolor\": \"white\", \"ticks\": \"\", \"title\": {\"standoff\": 15}, \"zerolinecolor\": \"white\", \"zerolinewidth\": 2}, \"yaxis\": {\"automargin\": true, \"gridcolor\": \"white\", \"linecolor\": \"white\", \"ticks\": \"\", \"title\": {\"standoff\": 15}, \"zerolinecolor\": \"white\", \"zerolinewidth\": 2}}}, \"title\": {\"text\": \"Daily predicted Confirmed Covid cases of DELHI\"}, \"xaxis\": {\"title\": {\"text\": \"Date\"}}, \"yaxis\": {\"title\": {\"text\": \"Close\"}}},                        {\"responsive\": true}                    ).then(function(){\n",
       "                            \n",
       "var gd = document.getElementById('c60c4fce-edfd-4312-9730-025047bdb4c0');\n",
       "var x = new MutationObserver(function (mutations, observer) {{\n",
       "        var display = window.getComputedStyle(gd).display;\n",
       "        if (!display || display === 'none') {{\n",
       "            console.log([gd, 'removed!']);\n",
       "            Plotly.purge(gd);\n",
       "            observer.disconnect();\n",
       "        }}\n",
       "}});\n",
       "\n",
       "// Listen for the removal of the full notebook cells\n",
       "var notebookContainer = gd.closest('#notebook-container');\n",
       "if (notebookContainer) {{\n",
       "    x.observe(notebookContainer, {childList: true});\n",
       "}}\n",
       "\n",
       "// Listen for the clearing of the current output cell\n",
       "var outputEl = gd.closest('.output');\n",
       "if (outputEl) {{\n",
       "    x.observe(outputEl, {childList: true});\n",
       "}}\n",
       "\n",
       "                        })                };                });            </script>        </div>"
      ]
     },
     "metadata": {},
     "output_type": "display_data"
    }
   ],
   "source": [
    "prediction = model.predict(test_generator)\n",
    "close_train = close_train.reshape((-1))\n",
    "close_data2 = close_data2.reshape((-1))\n",
    "prediction = prediction.reshape((-1))\n",
    "\n",
    "trace1 = go.Scatter(\n",
    "    x = date_test,\n",
    "    y = close_data2,\n",
    "    mode = 'lines',\n",
    "    name = 'Daily confirmed',\n",
    "    \n",
    "    \n",
    "    \n",
    ")\n",
    "trace2 = go.Scatter(\n",
    "    x = date_test,\n",
    "    y = prediction,\n",
    "    mode = 'lines',\n",
    "    name = 'Predicted confirm',\n",
    "    line = dict(color = 'red')\n",
    "    \n",
    ")\n",
    "\n",
    "layout = go.Layout(\n",
    "    title = \"Daily predicted Confirmed Covid cases of DELHI\",\n",
    "    xaxis = {'title' : \"Date\"},\n",
    "    yaxis = {'title' : \"Close\"}\n",
    ")\n",
    "fig = go.Figure(data=[trace1, trace2], layout=layout)\n",
    "fig.show()"
   ]
  },
  {
   "cell_type": "code",
   "execution_count": 23,
   "metadata": {},
   "outputs": [
    {
     "data": {
      "text/plain": [
       "array([23364.55   , 21734.918  , 26055.828  , 22608.459  , 24013.285  ,\n",
       "       22326.76   , 22117.55   , 21043.977  , 18537.133  , 22159.76   ,\n",
       "       23845.367  , 22238.674  , 24818.922  , 23141.576  , 18714.227  ,\n",
       "       16556.98   , 18309.57   , 19233.578  , 17557.15   , 18198.543  ,\n",
       "       15933.941  , 12237.906  , 11609.36   , 11453.371  , 12192.945  ,\n",
       "        9625.54   ,  7805.9683 ,  5901.06   ,  5924.918  ,  4152.142  ,\n",
       "        4113.6035 ,  3530.019  ,  2965.704  ,  2762.     ,  2074.7283 ,\n",
       "        1514.0836 ,  1423.2424 ,  1439.759  ,  1369.105  ,   984.63306,\n",
       "        1047.9482 ,   878.18634,   869.0095 ,   595.40857,   572.4247 ,\n",
       "         529.182  ,   447.09747,   480.34192,   379.4001 ,   348.60803,\n",
       "         205.7217 ,   287.40918,   307.277  ,   276.9588 ,   212.53632,\n",
       "         188.12524,   229.018  ,   107.29182,   202.7962 ], dtype=float32)"
      ]
     },
     "execution_count": 23,
     "metadata": {},
     "output_type": "execute_result"
    }
   ],
   "source": [
    "prediction = prediction.reshape((-1))\n",
    "prediction"
   ]
  },
  {
   "cell_type": "code",
   "execution_count": 24,
   "metadata": {},
   "outputs": [
    {
     "name": "stdout",
     "output_type": "stream",
     "text": [
      "\n",
      "Pandas DataFrame: \n"
     ]
    }
   ],
   "source": [
    "df= pd.DataFrame( columns =['Daily Confirmed','Daily Confpred'],index=date_test)\n",
    "print(\"\\nPandas DataFrame: \")\n",
    "df\n",
    "df = df.drop(df.index[-1])"
   ]
  },
  {
   "cell_type": "code",
   "execution_count": 25,
   "metadata": {},
   "outputs": [
    {
     "data": {
      "text/html": [
       "<div>\n",
       "<style scoped>\n",
       "    .dataframe tbody tr th:only-of-type {\n",
       "        vertical-align: middle;\n",
       "    }\n",
       "\n",
       "    .dataframe tbody tr th {\n",
       "        vertical-align: top;\n",
       "    }\n",
       "\n",
       "    .dataframe thead th {\n",
       "        text-align: right;\n",
       "    }\n",
       "</style>\n",
       "<table border=\"1\" class=\"dataframe\">\n",
       "  <thead>\n",
       "    <tr style=\"text-align: right;\">\n",
       "      <th></th>\n",
       "      <th>Daily Confirmed</th>\n",
       "      <th>Daily Confpred</th>\n",
       "    </tr>\n",
       "    <tr>\n",
       "      <th>Date</th>\n",
       "      <th></th>\n",
       "      <th></th>\n",
       "    </tr>\n",
       "  </thead>\n",
       "  <tbody>\n",
       "    <tr>\n",
       "      <th>18-Apr-21</th>\n",
       "      <td>25462</td>\n",
       "      <td>23364.550781</td>\n",
       "    </tr>\n",
       "    <tr>\n",
       "      <th>19-Apr-21</th>\n",
       "      <td>23686</td>\n",
       "      <td>21734.917969</td>\n",
       "    </tr>\n",
       "    <tr>\n",
       "      <th>20-Apr-21</th>\n",
       "      <td>28395</td>\n",
       "      <td>26055.828125</td>\n",
       "    </tr>\n",
       "    <tr>\n",
       "      <th>21-Apr-21</th>\n",
       "      <td>24638</td>\n",
       "      <td>22608.458984</td>\n",
       "    </tr>\n",
       "    <tr>\n",
       "      <th>22-Apr-21</th>\n",
       "      <td>26169</td>\n",
       "      <td>24013.285156</td>\n",
       "    </tr>\n",
       "    <tr>\n",
       "      <th>23-Apr-21</th>\n",
       "      <td>24331</td>\n",
       "      <td>22326.759766</td>\n",
       "    </tr>\n",
       "    <tr>\n",
       "      <th>24-Apr-21</th>\n",
       "      <td>24103</td>\n",
       "      <td>22117.550781</td>\n",
       "    </tr>\n",
       "    <tr>\n",
       "      <th>25-Apr-21</th>\n",
       "      <td>22933</td>\n",
       "      <td>21043.976562</td>\n",
       "    </tr>\n",
       "    <tr>\n",
       "      <th>26-Apr-21</th>\n",
       "      <td>20201</td>\n",
       "      <td>18537.132812</td>\n",
       "    </tr>\n",
       "    <tr>\n",
       "      <th>27-Apr-21</th>\n",
       "      <td>24149</td>\n",
       "      <td>22159.759766</td>\n",
       "    </tr>\n",
       "    <tr>\n",
       "      <th>28-Apr-21</th>\n",
       "      <td>25986</td>\n",
       "      <td>23845.367188</td>\n",
       "    </tr>\n",
       "    <tr>\n",
       "      <th>29-Apr-21</th>\n",
       "      <td>24235</td>\n",
       "      <td>22238.673828</td>\n",
       "    </tr>\n",
       "    <tr>\n",
       "      <th>30-Apr-21</th>\n",
       "      <td>27047</td>\n",
       "      <td>24818.921875</td>\n",
       "    </tr>\n",
       "    <tr>\n",
       "      <th>01-May-21</th>\n",
       "      <td>25219</td>\n",
       "      <td>23141.576172</td>\n",
       "    </tr>\n",
       "    <tr>\n",
       "      <th>02-May-21</th>\n",
       "      <td>20394</td>\n",
       "      <td>18714.226562</td>\n",
       "    </tr>\n",
       "    <tr>\n",
       "      <th>03-May-21</th>\n",
       "      <td>18043</td>\n",
       "      <td>16556.980469</td>\n",
       "    </tr>\n",
       "    <tr>\n",
       "      <th>04-May-21</th>\n",
       "      <td>19953</td>\n",
       "      <td>18309.570312</td>\n",
       "    </tr>\n",
       "    <tr>\n",
       "      <th>05-May-21</th>\n",
       "      <td>20960</td>\n",
       "      <td>19233.578125</td>\n",
       "    </tr>\n",
       "    <tr>\n",
       "      <th>06-May-21</th>\n",
       "      <td>19133</td>\n",
       "      <td>17557.150391</td>\n",
       "    </tr>\n",
       "    <tr>\n",
       "      <th>07-May-21</th>\n",
       "      <td>19832</td>\n",
       "      <td>18198.542969</td>\n",
       "    </tr>\n",
       "    <tr>\n",
       "      <th>08-May-21</th>\n",
       "      <td>17364</td>\n",
       "      <td>15933.941406</td>\n",
       "    </tr>\n",
       "    <tr>\n",
       "      <th>09-May-21</th>\n",
       "      <td>13336</td>\n",
       "      <td>12237.906250</td>\n",
       "    </tr>\n",
       "    <tr>\n",
       "      <th>10-May-21</th>\n",
       "      <td>12651</td>\n",
       "      <td>11609.360352</td>\n",
       "    </tr>\n",
       "    <tr>\n",
       "      <th>11-May-21</th>\n",
       "      <td>12481</td>\n",
       "      <td>11453.371094</td>\n",
       "    </tr>\n",
       "    <tr>\n",
       "      <th>12-May-21</th>\n",
       "      <td>13287</td>\n",
       "      <td>12192.945312</td>\n",
       "    </tr>\n",
       "    <tr>\n",
       "      <th>13-May-21</th>\n",
       "      <td>10489</td>\n",
       "      <td>9625.540039</td>\n",
       "    </tr>\n",
       "    <tr>\n",
       "      <th>14-May-21</th>\n",
       "      <td>8506</td>\n",
       "      <td>7805.968262</td>\n",
       "    </tr>\n",
       "    <tr>\n",
       "      <th>15-May-21</th>\n",
       "      <td>6430</td>\n",
       "      <td>5901.060059</td>\n",
       "    </tr>\n",
       "    <tr>\n",
       "      <th>16-May-21</th>\n",
       "      <td>6456</td>\n",
       "      <td>5924.917969</td>\n",
       "    </tr>\n",
       "    <tr>\n",
       "      <th>17-May-21</th>\n",
       "      <td>4524</td>\n",
       "      <td>4152.142090</td>\n",
       "    </tr>\n",
       "    <tr>\n",
       "      <th>18-May-21</th>\n",
       "      <td>4482</td>\n",
       "      <td>4113.603516</td>\n",
       "    </tr>\n",
       "    <tr>\n",
       "      <th>19-May-21</th>\n",
       "      <td>3846</td>\n",
       "      <td>3530.019043</td>\n",
       "    </tr>\n",
       "    <tr>\n",
       "      <th>20-May-21</th>\n",
       "      <td>3231</td>\n",
       "      <td>2965.704102</td>\n",
       "    </tr>\n",
       "    <tr>\n",
       "      <th>21-May-21</th>\n",
       "      <td>3009</td>\n",
       "      <td>2762.000000</td>\n",
       "    </tr>\n",
       "    <tr>\n",
       "      <th>22-May-21</th>\n",
       "      <td>2260</td>\n",
       "      <td>2074.728271</td>\n",
       "    </tr>\n",
       "    <tr>\n",
       "      <th>23-May-21</th>\n",
       "      <td>1649</td>\n",
       "      <td>1514.083618</td>\n",
       "    </tr>\n",
       "    <tr>\n",
       "      <th>24-May-21</th>\n",
       "      <td>1550</td>\n",
       "      <td>1423.242432</td>\n",
       "    </tr>\n",
       "    <tr>\n",
       "      <th>25-May-21</th>\n",
       "      <td>1568</td>\n",
       "      <td>1439.759033</td>\n",
       "    </tr>\n",
       "    <tr>\n",
       "      <th>26-May-21</th>\n",
       "      <td>1491</td>\n",
       "      <td>1369.104980</td>\n",
       "    </tr>\n",
       "    <tr>\n",
       "      <th>27-May-21</th>\n",
       "      <td>1072</td>\n",
       "      <td>984.633057</td>\n",
       "    </tr>\n",
       "    <tr>\n",
       "      <th>28-May-21</th>\n",
       "      <td>1141</td>\n",
       "      <td>1047.948242</td>\n",
       "    </tr>\n",
       "    <tr>\n",
       "      <th>29-May-21</th>\n",
       "      <td>956</td>\n",
       "      <td>878.186340</td>\n",
       "    </tr>\n",
       "    <tr>\n",
       "      <th>30-May-21</th>\n",
       "      <td>946</td>\n",
       "      <td>869.009521</td>\n",
       "    </tr>\n",
       "    <tr>\n",
       "      <th>31-May-21</th>\n",
       "      <td>648</td>\n",
       "      <td>595.408569</td>\n",
       "    </tr>\n",
       "    <tr>\n",
       "      <th>01-Jun-21</th>\n",
       "      <td>623</td>\n",
       "      <td>572.424683</td>\n",
       "    </tr>\n",
       "    <tr>\n",
       "      <th>02-Jun-21</th>\n",
       "      <td>576</td>\n",
       "      <td>529.182007</td>\n",
       "    </tr>\n",
       "    <tr>\n",
       "      <th>03-Jun-21</th>\n",
       "      <td>487</td>\n",
       "      <td>447.097473</td>\n",
       "    </tr>\n",
       "    <tr>\n",
       "      <th>04-Jun-21</th>\n",
       "      <td>523</td>\n",
       "      <td>480.341919</td>\n",
       "    </tr>\n",
       "    <tr>\n",
       "      <th>05-Jun-21</th>\n",
       "      <td>414</td>\n",
       "      <td>379.400085</td>\n",
       "    </tr>\n",
       "    <tr>\n",
       "      <th>06-Jun-21</th>\n",
       "      <td>381</td>\n",
       "      <td>348.608032</td>\n",
       "    </tr>\n",
       "    <tr>\n",
       "      <th>07-Jun-21</th>\n",
       "      <td>231</td>\n",
       "      <td>205.721695</td>\n",
       "    </tr>\n",
       "    <tr>\n",
       "      <th>08-Jun-21</th>\n",
       "      <td>316</td>\n",
       "      <td>287.409180</td>\n",
       "    </tr>\n",
       "    <tr>\n",
       "      <th>09-Jun-21</th>\n",
       "      <td>337</td>\n",
       "      <td>307.277008</td>\n",
       "    </tr>\n",
       "    <tr>\n",
       "      <th>10-Jun-21</th>\n",
       "      <td>305</td>\n",
       "      <td>276.958801</td>\n",
       "    </tr>\n",
       "    <tr>\n",
       "      <th>11-Jun-21</th>\n",
       "      <td>238</td>\n",
       "      <td>212.536316</td>\n",
       "    </tr>\n",
       "    <tr>\n",
       "      <th>12-Jun-21</th>\n",
       "      <td>213</td>\n",
       "      <td>188.125244</td>\n",
       "    </tr>\n",
       "    <tr>\n",
       "      <th>13-Jun-21</th>\n",
       "      <td>255</td>\n",
       "      <td>229.018005</td>\n",
       "    </tr>\n",
       "    <tr>\n",
       "      <th>14-Jun-21</th>\n",
       "      <td>131</td>\n",
       "      <td>107.291817</td>\n",
       "    </tr>\n",
       "    <tr>\n",
       "      <th>15-Jun-21</th>\n",
       "      <td>228</td>\n",
       "      <td>202.796204</td>\n",
       "    </tr>\n",
       "  </tbody>\n",
       "</table>\n",
       "</div>"
      ],
      "text/plain": [
       "           Daily Confirmed  Daily Confpred\n",
       "Date                                      \n",
       "18-Apr-21            25462    23364.550781\n",
       "19-Apr-21            23686    21734.917969\n",
       "20-Apr-21            28395    26055.828125\n",
       "21-Apr-21            24638    22608.458984\n",
       "22-Apr-21            26169    24013.285156\n",
       "23-Apr-21            24331    22326.759766\n",
       "24-Apr-21            24103    22117.550781\n",
       "25-Apr-21            22933    21043.976562\n",
       "26-Apr-21            20201    18537.132812\n",
       "27-Apr-21            24149    22159.759766\n",
       "28-Apr-21            25986    23845.367188\n",
       "29-Apr-21            24235    22238.673828\n",
       "30-Apr-21            27047    24818.921875\n",
       "01-May-21            25219    23141.576172\n",
       "02-May-21            20394    18714.226562\n",
       "03-May-21            18043    16556.980469\n",
       "04-May-21            19953    18309.570312\n",
       "05-May-21            20960    19233.578125\n",
       "06-May-21            19133    17557.150391\n",
       "07-May-21            19832    18198.542969\n",
       "08-May-21            17364    15933.941406\n",
       "09-May-21            13336    12237.906250\n",
       "10-May-21            12651    11609.360352\n",
       "11-May-21            12481    11453.371094\n",
       "12-May-21            13287    12192.945312\n",
       "13-May-21            10489     9625.540039\n",
       "14-May-21             8506     7805.968262\n",
       "15-May-21             6430     5901.060059\n",
       "16-May-21             6456     5924.917969\n",
       "17-May-21             4524     4152.142090\n",
       "18-May-21             4482     4113.603516\n",
       "19-May-21             3846     3530.019043\n",
       "20-May-21             3231     2965.704102\n",
       "21-May-21             3009     2762.000000\n",
       "22-May-21             2260     2074.728271\n",
       "23-May-21             1649     1514.083618\n",
       "24-May-21             1550     1423.242432\n",
       "25-May-21             1568     1439.759033\n",
       "26-May-21             1491     1369.104980\n",
       "27-May-21             1072      984.633057\n",
       "28-May-21             1141     1047.948242\n",
       "29-May-21              956      878.186340\n",
       "30-May-21              946      869.009521\n",
       "31-May-21              648      595.408569\n",
       "01-Jun-21              623      572.424683\n",
       "02-Jun-21              576      529.182007\n",
       "03-Jun-21              487      447.097473\n",
       "04-Jun-21              523      480.341919\n",
       "05-Jun-21              414      379.400085\n",
       "06-Jun-21              381      348.608032\n",
       "07-Jun-21              231      205.721695\n",
       "08-Jun-21              316      287.409180\n",
       "09-Jun-21              337      307.277008\n",
       "10-Jun-21              305      276.958801\n",
       "11-Jun-21              238      212.536316\n",
       "12-Jun-21              213      188.125244\n",
       "13-Jun-21              255      229.018005\n",
       "14-Jun-21              131      107.291817\n",
       "15-Jun-21              228      202.796204"
      ]
     },
     "execution_count": 25,
     "metadata": {},
     "output_type": "execute_result"
    }
   ],
   "source": [
    "df.loc[:,\"Daily Confirmed\"] = close_data2\n",
    "df.loc[:,\"Daily Confpred\"]=prediction\n",
    "df"
   ]
  },
  {
   "cell_type": "code",
   "execution_count": 26,
   "metadata": {},
   "outputs": [],
   "source": [
    "from sklearn.metrics import mean_squared_error\n",
    "import math\n",
    "RMSE=math.sqrt(mean_squared_error(df['Daily Confirmed'], df['Daily Confpred']))\n",
    "from sklearn.metrics import mean_absolute_error\n",
    "MAE=mean_absolute_error(df['Daily Confirmed'], df['Daily Confpred'])\n",
    "from sklearn.metrics import r2_score\n",
    "R2SCORE=r2_score(df['Daily Confirmed'], df['Daily Confpred'])\n"
   ]
  },
  {
   "cell_type": "code",
   "execution_count": 27,
   "metadata": {},
   "outputs": [
    {
     "data": {
      "text/plain": [
       "0.9863797343926485"
      ]
     },
     "execution_count": 27,
     "metadata": {},
     "output_type": "execute_result"
    }
   ],
   "source": [
    "R2SCORE"
   ]
  },
  {
   "cell_type": "code",
   "execution_count": 28,
   "metadata": {},
   "outputs": [
    {
     "data": {
      "text/plain": [
       "1189.2625035437413"
      ]
     },
     "execution_count": 28,
     "metadata": {},
     "output_type": "execute_result"
    }
   ],
   "source": [
    "RMSE"
   ]
  },
  {
   "cell_type": "code",
   "execution_count": 29,
   "metadata": {},
   "outputs": [
    {
     "data": {
      "text/plain": [
       "843.1257522065761"
      ]
     },
     "execution_count": 29,
     "metadata": {},
     "output_type": "execute_result"
    }
   ],
   "source": [
    "MAE"
   ]
  },
  {
   "cell_type": "code",
   "execution_count": 30,
   "metadata": {},
   "outputs": [
    {
     "name": "stdout",
     "output_type": "stream",
     "text": [
      "MAPE PERCENTAGE is 8.655789356020213 %\n"
     ]
    }
   ],
   "source": [
    "MAPE = np.mean(np.abs(np.array(df[\"Daily Confirmed\"][:59]) - np.array(df[\"Daily Confpred\"][:59]))/np.array(df[\"Daily Confirmed\"][:59]))\n",
    "print(\"MAPE PERCENTAGE is \" + str(MAPE*100) + \" %\")"
   ]
  },
  {
   "cell_type": "code",
   "execution_count": 31,
   "metadata": {},
   "outputs": [
    {
     "data": {
      "text/plain": [
       "0.08655789356020213"
      ]
     },
     "execution_count": 31,
     "metadata": {},
     "output_type": "execute_result"
    }
   ],
   "source": [
    "MAPE"
   ]
  },
  {
   "cell_type": "code",
   "execution_count": 32,
   "metadata": {},
   "outputs": [
    {
     "data": {
      "text/plain": [
       "83446372.8377725"
      ]
     },
     "execution_count": 32,
     "metadata": {},
     "output_type": "execute_result"
    }
   ],
   "source": [
    "sum_errs = np.sum((np.array(df[\"Daily Confirmed\"][:59]) - np.array(df[\"Daily Confpred\"][:59]))**2)\n",
    "sum_errs"
   ]
  },
  {
   "cell_type": "code",
   "execution_count": 33,
   "metadata": {},
   "outputs": [
    {
     "data": {
      "text/plain": [
       "5274.0361785439845"
      ]
     },
     "execution_count": 33,
     "metadata": {},
     "output_type": "execute_result"
    }
   ],
   "source": [
    "stdev = np.sqrt(1/(5-2) * sum_errs)\n",
    "stdev"
   ]
  },
  {
   "cell_type": "code",
   "execution_count": 34,
   "metadata": {},
   "outputs": [
    {
     "data": {
      "text/plain": [
       "10337.11090994621"
      ]
     },
     "execution_count": 34,
     "metadata": {},
     "output_type": "execute_result"
    }
   ],
   "source": [
    "# calculate prediction interval\n",
    "interval = 1.96 * stdev\n",
    "interval"
   ]
  },
  {
   "cell_type": "code",
   "execution_count": 35,
   "metadata": {},
   "outputs": [
    {
     "data": {
      "text/html": [
       "<div>\n",
       "<style scoped>\n",
       "    .dataframe tbody tr th:only-of-type {\n",
       "        vertical-align: middle;\n",
       "    }\n",
       "\n",
       "    .dataframe tbody tr th {\n",
       "        vertical-align: top;\n",
       "    }\n",
       "\n",
       "    .dataframe thead th {\n",
       "        text-align: right;\n",
       "    }\n",
       "</style>\n",
       "<table border=\"1\" class=\"dataframe\">\n",
       "  <thead>\n",
       "    <tr style=\"text-align: right;\">\n",
       "      <th></th>\n",
       "      <th>Daily Confirmed</th>\n",
       "      <th>Daily Confpred</th>\n",
       "      <th>confirm_min</th>\n",
       "      <th>confirm_max</th>\n",
       "    </tr>\n",
       "    <tr>\n",
       "      <th>Date</th>\n",
       "      <th></th>\n",
       "      <th></th>\n",
       "      <th></th>\n",
       "      <th></th>\n",
       "    </tr>\n",
       "  </thead>\n",
       "  <tbody>\n",
       "    <tr>\n",
       "      <th>18-Apr-21</th>\n",
       "      <td>25462</td>\n",
       "      <td>23364.550781</td>\n",
       "      <td>13027.439453</td>\n",
       "      <td>33701.664062</td>\n",
       "    </tr>\n",
       "    <tr>\n",
       "      <th>19-Apr-21</th>\n",
       "      <td>23686</td>\n",
       "      <td>21734.917969</td>\n",
       "      <td>11397.806641</td>\n",
       "      <td>32072.029297</td>\n",
       "    </tr>\n",
       "    <tr>\n",
       "      <th>20-Apr-21</th>\n",
       "      <td>28395</td>\n",
       "      <td>26055.828125</td>\n",
       "      <td>15718.716797</td>\n",
       "      <td>36392.937500</td>\n",
       "    </tr>\n",
       "    <tr>\n",
       "      <th>21-Apr-21</th>\n",
       "      <td>24638</td>\n",
       "      <td>22608.458984</td>\n",
       "      <td>12271.347656</td>\n",
       "      <td>32945.570312</td>\n",
       "    </tr>\n",
       "    <tr>\n",
       "      <th>22-Apr-21</th>\n",
       "      <td>26169</td>\n",
       "      <td>24013.285156</td>\n",
       "      <td>13676.173828</td>\n",
       "      <td>34350.398438</td>\n",
       "    </tr>\n",
       "    <tr>\n",
       "      <th>23-Apr-21</th>\n",
       "      <td>24331</td>\n",
       "      <td>22326.759766</td>\n",
       "      <td>11989.648438</td>\n",
       "      <td>32663.871094</td>\n",
       "    </tr>\n",
       "    <tr>\n",
       "      <th>24-Apr-21</th>\n",
       "      <td>24103</td>\n",
       "      <td>22117.550781</td>\n",
       "      <td>11780.439453</td>\n",
       "      <td>32454.662109</td>\n",
       "    </tr>\n",
       "    <tr>\n",
       "      <th>25-Apr-21</th>\n",
       "      <td>22933</td>\n",
       "      <td>21043.976562</td>\n",
       "      <td>10706.865234</td>\n",
       "      <td>31381.087891</td>\n",
       "    </tr>\n",
       "    <tr>\n",
       "      <th>26-Apr-21</th>\n",
       "      <td>20201</td>\n",
       "      <td>18537.132812</td>\n",
       "      <td>8200.021484</td>\n",
       "      <td>28874.244141</td>\n",
       "    </tr>\n",
       "    <tr>\n",
       "      <th>27-Apr-21</th>\n",
       "      <td>24149</td>\n",
       "      <td>22159.759766</td>\n",
       "      <td>11822.648438</td>\n",
       "      <td>32496.871094</td>\n",
       "    </tr>\n",
       "    <tr>\n",
       "      <th>28-Apr-21</th>\n",
       "      <td>25986</td>\n",
       "      <td>23845.367188</td>\n",
       "      <td>13508.255859</td>\n",
       "      <td>34182.476562</td>\n",
       "    </tr>\n",
       "    <tr>\n",
       "      <th>29-Apr-21</th>\n",
       "      <td>24235</td>\n",
       "      <td>22238.673828</td>\n",
       "      <td>11901.562500</td>\n",
       "      <td>32575.785156</td>\n",
       "    </tr>\n",
       "    <tr>\n",
       "      <th>30-Apr-21</th>\n",
       "      <td>27047</td>\n",
       "      <td>24818.921875</td>\n",
       "      <td>14481.810547</td>\n",
       "      <td>35156.031250</td>\n",
       "    </tr>\n",
       "    <tr>\n",
       "      <th>01-May-21</th>\n",
       "      <td>25219</td>\n",
       "      <td>23141.576172</td>\n",
       "      <td>12804.464844</td>\n",
       "      <td>33478.687500</td>\n",
       "    </tr>\n",
       "    <tr>\n",
       "      <th>02-May-21</th>\n",
       "      <td>20394</td>\n",
       "      <td>18714.226562</td>\n",
       "      <td>8377.115234</td>\n",
       "      <td>29051.337891</td>\n",
       "    </tr>\n",
       "    <tr>\n",
       "      <th>03-May-21</th>\n",
       "      <td>18043</td>\n",
       "      <td>16556.980469</td>\n",
       "      <td>6219.869141</td>\n",
       "      <td>26894.091797</td>\n",
       "    </tr>\n",
       "    <tr>\n",
       "      <th>04-May-21</th>\n",
       "      <td>19953</td>\n",
       "      <td>18309.570312</td>\n",
       "      <td>7972.458984</td>\n",
       "      <td>28646.681641</td>\n",
       "    </tr>\n",
       "    <tr>\n",
       "      <th>05-May-21</th>\n",
       "      <td>20960</td>\n",
       "      <td>19233.578125</td>\n",
       "      <td>8896.466797</td>\n",
       "      <td>29570.689453</td>\n",
       "    </tr>\n",
       "    <tr>\n",
       "      <th>06-May-21</th>\n",
       "      <td>19133</td>\n",
       "      <td>17557.150391</td>\n",
       "      <td>7220.039062</td>\n",
       "      <td>27894.261719</td>\n",
       "    </tr>\n",
       "    <tr>\n",
       "      <th>07-May-21</th>\n",
       "      <td>19832</td>\n",
       "      <td>18198.542969</td>\n",
       "      <td>7861.431641</td>\n",
       "      <td>28535.654297</td>\n",
       "    </tr>\n",
       "    <tr>\n",
       "      <th>08-May-21</th>\n",
       "      <td>17364</td>\n",
       "      <td>15933.941406</td>\n",
       "      <td>5596.830078</td>\n",
       "      <td>26271.052734</td>\n",
       "    </tr>\n",
       "    <tr>\n",
       "      <th>09-May-21</th>\n",
       "      <td>13336</td>\n",
       "      <td>12237.906250</td>\n",
       "      <td>1900.794922</td>\n",
       "      <td>22575.017578</td>\n",
       "    </tr>\n",
       "    <tr>\n",
       "      <th>10-May-21</th>\n",
       "      <td>12651</td>\n",
       "      <td>11609.360352</td>\n",
       "      <td>1272.249023</td>\n",
       "      <td>21946.472656</td>\n",
       "    </tr>\n",
       "    <tr>\n",
       "      <th>11-May-21</th>\n",
       "      <td>12481</td>\n",
       "      <td>11453.371094</td>\n",
       "      <td>1116.259766</td>\n",
       "      <td>21790.482422</td>\n",
       "    </tr>\n",
       "    <tr>\n",
       "      <th>12-May-21</th>\n",
       "      <td>13287</td>\n",
       "      <td>12192.945312</td>\n",
       "      <td>1855.833984</td>\n",
       "      <td>22530.056641</td>\n",
       "    </tr>\n",
       "    <tr>\n",
       "      <th>13-May-21</th>\n",
       "      <td>10489</td>\n",
       "      <td>9625.540039</td>\n",
       "      <td>-711.571289</td>\n",
       "      <td>19962.652344</td>\n",
       "    </tr>\n",
       "    <tr>\n",
       "      <th>14-May-21</th>\n",
       "      <td>8506</td>\n",
       "      <td>7805.968262</td>\n",
       "      <td>-2531.143066</td>\n",
       "      <td>18143.080078</td>\n",
       "    </tr>\n",
       "    <tr>\n",
       "      <th>15-May-21</th>\n",
       "      <td>6430</td>\n",
       "      <td>5901.060059</td>\n",
       "      <td>-4436.051270</td>\n",
       "      <td>16238.171875</td>\n",
       "    </tr>\n",
       "    <tr>\n",
       "      <th>16-May-21</th>\n",
       "      <td>6456</td>\n",
       "      <td>5924.917969</td>\n",
       "      <td>-4412.193359</td>\n",
       "      <td>16262.029297</td>\n",
       "    </tr>\n",
       "    <tr>\n",
       "      <th>17-May-21</th>\n",
       "      <td>4524</td>\n",
       "      <td>4152.142090</td>\n",
       "      <td>-6184.969238</td>\n",
       "      <td>14489.253906</td>\n",
       "    </tr>\n",
       "    <tr>\n",
       "      <th>18-May-21</th>\n",
       "      <td>4482</td>\n",
       "      <td>4113.603516</td>\n",
       "      <td>-6223.507812</td>\n",
       "      <td>14450.714844</td>\n",
       "    </tr>\n",
       "    <tr>\n",
       "      <th>19-May-21</th>\n",
       "      <td>3846</td>\n",
       "      <td>3530.019043</td>\n",
       "      <td>-6807.092285</td>\n",
       "      <td>13867.130859</td>\n",
       "    </tr>\n",
       "    <tr>\n",
       "      <th>20-May-21</th>\n",
       "      <td>3231</td>\n",
       "      <td>2965.704102</td>\n",
       "      <td>-7371.407227</td>\n",
       "      <td>13302.815430</td>\n",
       "    </tr>\n",
       "    <tr>\n",
       "      <th>21-May-21</th>\n",
       "      <td>3009</td>\n",
       "      <td>2762.000000</td>\n",
       "      <td>-7575.111328</td>\n",
       "      <td>13099.111328</td>\n",
       "    </tr>\n",
       "    <tr>\n",
       "      <th>22-May-21</th>\n",
       "      <td>2260</td>\n",
       "      <td>2074.728271</td>\n",
       "      <td>-8262.382812</td>\n",
       "      <td>12411.839844</td>\n",
       "    </tr>\n",
       "    <tr>\n",
       "      <th>23-May-21</th>\n",
       "      <td>1649</td>\n",
       "      <td>1514.083618</td>\n",
       "      <td>-8823.027344</td>\n",
       "      <td>11851.195312</td>\n",
       "    </tr>\n",
       "    <tr>\n",
       "      <th>24-May-21</th>\n",
       "      <td>1550</td>\n",
       "      <td>1423.242432</td>\n",
       "      <td>-8913.869141</td>\n",
       "      <td>11760.353516</td>\n",
       "    </tr>\n",
       "    <tr>\n",
       "      <th>25-May-21</th>\n",
       "      <td>1568</td>\n",
       "      <td>1439.759033</td>\n",
       "      <td>-8897.352539</td>\n",
       "      <td>11776.870117</td>\n",
       "    </tr>\n",
       "    <tr>\n",
       "      <th>26-May-21</th>\n",
       "      <td>1491</td>\n",
       "      <td>1369.104980</td>\n",
       "      <td>-8968.005859</td>\n",
       "      <td>11706.216797</td>\n",
       "    </tr>\n",
       "    <tr>\n",
       "      <th>27-May-21</th>\n",
       "      <td>1072</td>\n",
       "      <td>984.633057</td>\n",
       "      <td>-9352.478516</td>\n",
       "      <td>11321.744141</td>\n",
       "    </tr>\n",
       "    <tr>\n",
       "      <th>28-May-21</th>\n",
       "      <td>1141</td>\n",
       "      <td>1047.948242</td>\n",
       "      <td>-9289.163086</td>\n",
       "      <td>11385.059570</td>\n",
       "    </tr>\n",
       "    <tr>\n",
       "      <th>29-May-21</th>\n",
       "      <td>956</td>\n",
       "      <td>878.186340</td>\n",
       "      <td>-9458.924805</td>\n",
       "      <td>11215.297852</td>\n",
       "    </tr>\n",
       "    <tr>\n",
       "      <th>30-May-21</th>\n",
       "      <td>946</td>\n",
       "      <td>869.009521</td>\n",
       "      <td>-9468.101562</td>\n",
       "      <td>11206.121094</td>\n",
       "    </tr>\n",
       "    <tr>\n",
       "      <th>31-May-21</th>\n",
       "      <td>648</td>\n",
       "      <td>595.408569</td>\n",
       "      <td>-9741.703125</td>\n",
       "      <td>10932.519531</td>\n",
       "    </tr>\n",
       "    <tr>\n",
       "      <th>01-Jun-21</th>\n",
       "      <td>623</td>\n",
       "      <td>572.424683</td>\n",
       "      <td>-9764.686523</td>\n",
       "      <td>10909.536133</td>\n",
       "    </tr>\n",
       "    <tr>\n",
       "      <th>02-Jun-21</th>\n",
       "      <td>576</td>\n",
       "      <td>529.182007</td>\n",
       "      <td>-9807.929688</td>\n",
       "      <td>10866.292969</td>\n",
       "    </tr>\n",
       "    <tr>\n",
       "      <th>03-Jun-21</th>\n",
       "      <td>487</td>\n",
       "      <td>447.097473</td>\n",
       "      <td>-9890.013672</td>\n",
       "      <td>10784.208984</td>\n",
       "    </tr>\n",
       "    <tr>\n",
       "      <th>04-Jun-21</th>\n",
       "      <td>523</td>\n",
       "      <td>480.341919</td>\n",
       "      <td>-9856.769531</td>\n",
       "      <td>10817.453125</td>\n",
       "    </tr>\n",
       "    <tr>\n",
       "      <th>05-Jun-21</th>\n",
       "      <td>414</td>\n",
       "      <td>379.400085</td>\n",
       "      <td>-9957.710938</td>\n",
       "      <td>10716.511719</td>\n",
       "    </tr>\n",
       "    <tr>\n",
       "      <th>06-Jun-21</th>\n",
       "      <td>381</td>\n",
       "      <td>348.608032</td>\n",
       "      <td>-9988.502930</td>\n",
       "      <td>10685.719727</td>\n",
       "    </tr>\n",
       "    <tr>\n",
       "      <th>07-Jun-21</th>\n",
       "      <td>231</td>\n",
       "      <td>205.721695</td>\n",
       "      <td>-10131.389648</td>\n",
       "      <td>10542.833008</td>\n",
       "    </tr>\n",
       "    <tr>\n",
       "      <th>08-Jun-21</th>\n",
       "      <td>316</td>\n",
       "      <td>287.409180</td>\n",
       "      <td>-10049.702148</td>\n",
       "      <td>10624.520508</td>\n",
       "    </tr>\n",
       "    <tr>\n",
       "      <th>09-Jun-21</th>\n",
       "      <td>337</td>\n",
       "      <td>307.277008</td>\n",
       "      <td>-10029.833984</td>\n",
       "      <td>10644.388672</td>\n",
       "    </tr>\n",
       "    <tr>\n",
       "      <th>10-Jun-21</th>\n",
       "      <td>305</td>\n",
       "      <td>276.958801</td>\n",
       "      <td>-10060.152344</td>\n",
       "      <td>10614.070312</td>\n",
       "    </tr>\n",
       "    <tr>\n",
       "      <th>11-Jun-21</th>\n",
       "      <td>238</td>\n",
       "      <td>212.536316</td>\n",
       "      <td>-10124.575195</td>\n",
       "      <td>10549.647461</td>\n",
       "    </tr>\n",
       "    <tr>\n",
       "      <th>12-Jun-21</th>\n",
       "      <td>213</td>\n",
       "      <td>188.125244</td>\n",
       "      <td>-10148.986328</td>\n",
       "      <td>10525.236328</td>\n",
       "    </tr>\n",
       "    <tr>\n",
       "      <th>13-Jun-21</th>\n",
       "      <td>255</td>\n",
       "      <td>229.018005</td>\n",
       "      <td>-10108.093750</td>\n",
       "      <td>10566.128906</td>\n",
       "    </tr>\n",
       "    <tr>\n",
       "      <th>14-Jun-21</th>\n",
       "      <td>131</td>\n",
       "      <td>107.291817</td>\n",
       "      <td>-10229.819336</td>\n",
       "      <td>10444.403320</td>\n",
       "    </tr>\n",
       "    <tr>\n",
       "      <th>15-Jun-21</th>\n",
       "      <td>228</td>\n",
       "      <td>202.796204</td>\n",
       "      <td>-10134.315430</td>\n",
       "      <td>10539.907227</td>\n",
       "    </tr>\n",
       "  </tbody>\n",
       "</table>\n",
       "</div>"
      ],
      "text/plain": [
       "           Daily Confirmed  Daily Confpred   confirm_min   confirm_max\n",
       "Date                                                                  \n",
       "18-Apr-21            25462    23364.550781  13027.439453  33701.664062\n",
       "19-Apr-21            23686    21734.917969  11397.806641  32072.029297\n",
       "20-Apr-21            28395    26055.828125  15718.716797  36392.937500\n",
       "21-Apr-21            24638    22608.458984  12271.347656  32945.570312\n",
       "22-Apr-21            26169    24013.285156  13676.173828  34350.398438\n",
       "23-Apr-21            24331    22326.759766  11989.648438  32663.871094\n",
       "24-Apr-21            24103    22117.550781  11780.439453  32454.662109\n",
       "25-Apr-21            22933    21043.976562  10706.865234  31381.087891\n",
       "26-Apr-21            20201    18537.132812   8200.021484  28874.244141\n",
       "27-Apr-21            24149    22159.759766  11822.648438  32496.871094\n",
       "28-Apr-21            25986    23845.367188  13508.255859  34182.476562\n",
       "29-Apr-21            24235    22238.673828  11901.562500  32575.785156\n",
       "30-Apr-21            27047    24818.921875  14481.810547  35156.031250\n",
       "01-May-21            25219    23141.576172  12804.464844  33478.687500\n",
       "02-May-21            20394    18714.226562   8377.115234  29051.337891\n",
       "03-May-21            18043    16556.980469   6219.869141  26894.091797\n",
       "04-May-21            19953    18309.570312   7972.458984  28646.681641\n",
       "05-May-21            20960    19233.578125   8896.466797  29570.689453\n",
       "06-May-21            19133    17557.150391   7220.039062  27894.261719\n",
       "07-May-21            19832    18198.542969   7861.431641  28535.654297\n",
       "08-May-21            17364    15933.941406   5596.830078  26271.052734\n",
       "09-May-21            13336    12237.906250   1900.794922  22575.017578\n",
       "10-May-21            12651    11609.360352   1272.249023  21946.472656\n",
       "11-May-21            12481    11453.371094   1116.259766  21790.482422\n",
       "12-May-21            13287    12192.945312   1855.833984  22530.056641\n",
       "13-May-21            10489     9625.540039   -711.571289  19962.652344\n",
       "14-May-21             8506     7805.968262  -2531.143066  18143.080078\n",
       "15-May-21             6430     5901.060059  -4436.051270  16238.171875\n",
       "16-May-21             6456     5924.917969  -4412.193359  16262.029297\n",
       "17-May-21             4524     4152.142090  -6184.969238  14489.253906\n",
       "18-May-21             4482     4113.603516  -6223.507812  14450.714844\n",
       "19-May-21             3846     3530.019043  -6807.092285  13867.130859\n",
       "20-May-21             3231     2965.704102  -7371.407227  13302.815430\n",
       "21-May-21             3009     2762.000000  -7575.111328  13099.111328\n",
       "22-May-21             2260     2074.728271  -8262.382812  12411.839844\n",
       "23-May-21             1649     1514.083618  -8823.027344  11851.195312\n",
       "24-May-21             1550     1423.242432  -8913.869141  11760.353516\n",
       "25-May-21             1568     1439.759033  -8897.352539  11776.870117\n",
       "26-May-21             1491     1369.104980  -8968.005859  11706.216797\n",
       "27-May-21             1072      984.633057  -9352.478516  11321.744141\n",
       "28-May-21             1141     1047.948242  -9289.163086  11385.059570\n",
       "29-May-21              956      878.186340  -9458.924805  11215.297852\n",
       "30-May-21              946      869.009521  -9468.101562  11206.121094\n",
       "31-May-21              648      595.408569  -9741.703125  10932.519531\n",
       "01-Jun-21              623      572.424683  -9764.686523  10909.536133\n",
       "02-Jun-21              576      529.182007  -9807.929688  10866.292969\n",
       "03-Jun-21              487      447.097473  -9890.013672  10784.208984\n",
       "04-Jun-21              523      480.341919  -9856.769531  10817.453125\n",
       "05-Jun-21              414      379.400085  -9957.710938  10716.511719\n",
       "06-Jun-21              381      348.608032  -9988.502930  10685.719727\n",
       "07-Jun-21              231      205.721695 -10131.389648  10542.833008\n",
       "08-Jun-21              316      287.409180 -10049.702148  10624.520508\n",
       "09-Jun-21              337      307.277008 -10029.833984  10644.388672\n",
       "10-Jun-21              305      276.958801 -10060.152344  10614.070312\n",
       "11-Jun-21              238      212.536316 -10124.575195  10549.647461\n",
       "12-Jun-21              213      188.125244 -10148.986328  10525.236328\n",
       "13-Jun-21              255      229.018005 -10108.093750  10566.128906\n",
       "14-Jun-21              131      107.291817 -10229.819336  10444.403320\n",
       "15-Jun-21              228      202.796204 -10134.315430  10539.907227"
      ]
     },
     "execution_count": 35,
     "metadata": {},
     "output_type": "execute_result"
    }
   ],
   "source": [
    "df[\"confirm_min\"] = df[\"Daily Confpred\"] - interval\n",
    "df[\"confirm_max\"] = df[\"Daily Confpred\"] + interval\n",
    "df"
   ]
  },
  {
   "cell_type": "code",
   "execution_count": 36,
   "metadata": {},
   "outputs": [
    {
     "data": {
      "text/plain": [
       "<matplotlib.axes._subplots.AxesSubplot at 0x183a796a48>"
      ]
     },
     "execution_count": 36,
     "metadata": {},
     "output_type": "execute_result"
    },
    {
     "data": {
      "image/png": "[encoded data removed]",
      "text/plain": [
       "<Figure size 432x288 with 1 Axes>"
      ]
     },
     "metadata": {
      "needs_background": "light"
     },
     "output_type": "display_data"
    }
   ],
   "source": [
    "df.plot()"
   ]
  },
  {
   "cell_type": "code",
   "execution_count": 37,
   "metadata": {},
   "outputs": [
    {
     "data": {
      "text/html": [
       "<div>\n",
       "<style scoped>\n",
       "    .dataframe tbody tr th:only-of-type {\n",
       "        vertical-align: middle;\n",
       "    }\n",
       "\n",
       "    .dataframe tbody tr th {\n",
       "        vertical-align: top;\n",
       "    }\n",
       "\n",
       "    .dataframe thead th {\n",
       "        text-align: right;\n",
       "    }\n",
       "</style>\n",
       "<table border=\"1\" class=\"dataframe\">\n",
       "  <thead>\n",
       "    <tr style=\"text-align: right;\">\n",
       "      <th></th>\n",
       "      <th>Daily Confirmed</th>\n",
       "      <th>Daily Confpred</th>\n",
       "      <th>confirm_min</th>\n",
       "      <th>confirm_max</th>\n",
       "      <th>Model Accuracy</th>\n",
       "    </tr>\n",
       "    <tr>\n",
       "      <th>Date</th>\n",
       "      <th></th>\n",
       "      <th></th>\n",
       "      <th></th>\n",
       "      <th></th>\n",
       "      <th></th>\n",
       "    </tr>\n",
       "  </thead>\n",
       "  <tbody>\n",
       "    <tr>\n",
       "      <th>18-Apr-21</th>\n",
       "      <td>25462</td>\n",
       "      <td>23364.550781</td>\n",
       "      <td>13027.439453</td>\n",
       "      <td>33701.664062</td>\n",
       "      <td>0.91</td>\n",
       "    </tr>\n",
       "    <tr>\n",
       "      <th>19-Apr-21</th>\n",
       "      <td>23686</td>\n",
       "      <td>21734.917969</td>\n",
       "      <td>11397.806641</td>\n",
       "      <td>32072.029297</td>\n",
       "      <td>0.91</td>\n",
       "    </tr>\n",
       "    <tr>\n",
       "      <th>20-Apr-21</th>\n",
       "      <td>28395</td>\n",
       "      <td>26055.828125</td>\n",
       "      <td>15718.716797</td>\n",
       "      <td>36392.937500</td>\n",
       "      <td>0.91</td>\n",
       "    </tr>\n",
       "    <tr>\n",
       "      <th>21-Apr-21</th>\n",
       "      <td>24638</td>\n",
       "      <td>22608.458984</td>\n",
       "      <td>12271.347656</td>\n",
       "      <td>32945.570312</td>\n",
       "      <td>0.91</td>\n",
       "    </tr>\n",
       "    <tr>\n",
       "      <th>22-Apr-21</th>\n",
       "      <td>26169</td>\n",
       "      <td>24013.285156</td>\n",
       "      <td>13676.173828</td>\n",
       "      <td>34350.398438</td>\n",
       "      <td>0.91</td>\n",
       "    </tr>\n",
       "    <tr>\n",
       "      <th>23-Apr-21</th>\n",
       "      <td>24331</td>\n",
       "      <td>22326.759766</td>\n",
       "      <td>11989.648438</td>\n",
       "      <td>32663.871094</td>\n",
       "      <td>0.91</td>\n",
       "    </tr>\n",
       "    <tr>\n",
       "      <th>24-Apr-21</th>\n",
       "      <td>24103</td>\n",
       "      <td>22117.550781</td>\n",
       "      <td>11780.439453</td>\n",
       "      <td>32454.662109</td>\n",
       "      <td>0.91</td>\n",
       "    </tr>\n",
       "    <tr>\n",
       "      <th>25-Apr-21</th>\n",
       "      <td>22933</td>\n",
       "      <td>21043.976562</td>\n",
       "      <td>10706.865234</td>\n",
       "      <td>31381.087891</td>\n",
       "      <td>0.91</td>\n",
       "    </tr>\n",
       "    <tr>\n",
       "      <th>26-Apr-21</th>\n",
       "      <td>20201</td>\n",
       "      <td>18537.132812</td>\n",
       "      <td>8200.021484</td>\n",
       "      <td>28874.244141</td>\n",
       "      <td>0.91</td>\n",
       "    </tr>\n",
       "    <tr>\n",
       "      <th>27-Apr-21</th>\n",
       "      <td>24149</td>\n",
       "      <td>22159.759766</td>\n",
       "      <td>11822.648438</td>\n",
       "      <td>32496.871094</td>\n",
       "      <td>0.91</td>\n",
       "    </tr>\n",
       "    <tr>\n",
       "      <th>28-Apr-21</th>\n",
       "      <td>25986</td>\n",
       "      <td>23845.367188</td>\n",
       "      <td>13508.255859</td>\n",
       "      <td>34182.476562</td>\n",
       "      <td>0.91</td>\n",
       "    </tr>\n",
       "    <tr>\n",
       "      <th>29-Apr-21</th>\n",
       "      <td>24235</td>\n",
       "      <td>22238.673828</td>\n",
       "      <td>11901.562500</td>\n",
       "      <td>32575.785156</td>\n",
       "      <td>0.91</td>\n",
       "    </tr>\n",
       "    <tr>\n",
       "      <th>30-Apr-21</th>\n",
       "      <td>27047</td>\n",
       "      <td>24818.921875</td>\n",
       "      <td>14481.810547</td>\n",
       "      <td>35156.031250</td>\n",
       "      <td>0.91</td>\n",
       "    </tr>\n",
       "    <tr>\n",
       "      <th>01-May-21</th>\n",
       "      <td>25219</td>\n",
       "      <td>23141.576172</td>\n",
       "      <td>12804.464844</td>\n",
       "      <td>33478.687500</td>\n",
       "      <td>0.91</td>\n",
       "    </tr>\n",
       "    <tr>\n",
       "      <th>02-May-21</th>\n",
       "      <td>20394</td>\n",
       "      <td>18714.226562</td>\n",
       "      <td>8377.115234</td>\n",
       "      <td>29051.337891</td>\n",
       "      <td>0.91</td>\n",
       "    </tr>\n",
       "    <tr>\n",
       "      <th>03-May-21</th>\n",
       "      <td>18043</td>\n",
       "      <td>16556.980469</td>\n",
       "      <td>6219.869141</td>\n",
       "      <td>26894.091797</td>\n",
       "      <td>0.91</td>\n",
       "    </tr>\n",
       "    <tr>\n",
       "      <th>04-May-21</th>\n",
       "      <td>19953</td>\n",
       "      <td>18309.570312</td>\n",
       "      <td>7972.458984</td>\n",
       "      <td>28646.681641</td>\n",
       "      <td>0.91</td>\n",
       "    </tr>\n",
       "    <tr>\n",
       "      <th>05-May-21</th>\n",
       "      <td>20960</td>\n",
       "      <td>19233.578125</td>\n",
       "      <td>8896.466797</td>\n",
       "      <td>29570.689453</td>\n",
       "      <td>0.91</td>\n",
       "    </tr>\n",
       "    <tr>\n",
       "      <th>06-May-21</th>\n",
       "      <td>19133</td>\n",
       "      <td>17557.150391</td>\n",
       "      <td>7220.039062</td>\n",
       "      <td>27894.261719</td>\n",
       "      <td>0.91</td>\n",
       "    </tr>\n",
       "    <tr>\n",
       "      <th>07-May-21</th>\n",
       "      <td>19832</td>\n",
       "      <td>18198.542969</td>\n",
       "      <td>7861.431641</td>\n",
       "      <td>28535.654297</td>\n",
       "      <td>0.91</td>\n",
       "    </tr>\n",
       "    <tr>\n",
       "      <th>08-May-21</th>\n",
       "      <td>17364</td>\n",
       "      <td>15933.941406</td>\n",
       "      <td>5596.830078</td>\n",
       "      <td>26271.052734</td>\n",
       "      <td>0.91</td>\n",
       "    </tr>\n",
       "    <tr>\n",
       "      <th>09-May-21</th>\n",
       "      <td>13336</td>\n",
       "      <td>12237.906250</td>\n",
       "      <td>1900.794922</td>\n",
       "      <td>22575.017578</td>\n",
       "      <td>0.91</td>\n",
       "    </tr>\n",
       "    <tr>\n",
       "      <th>10-May-21</th>\n",
       "      <td>12651</td>\n",
       "      <td>11609.360352</td>\n",
       "      <td>1272.249023</td>\n",
       "      <td>21946.472656</td>\n",
       "      <td>0.91</td>\n",
       "    </tr>\n",
       "    <tr>\n",
       "      <th>11-May-21</th>\n",
       "      <td>12481</td>\n",
       "      <td>11453.371094</td>\n",
       "      <td>1116.259766</td>\n",
       "      <td>21790.482422</td>\n",
       "      <td>0.91</td>\n",
       "    </tr>\n",
       "    <tr>\n",
       "      <th>12-May-21</th>\n",
       "      <td>13287</td>\n",
       "      <td>12192.945312</td>\n",
       "      <td>1855.833984</td>\n",
       "      <td>22530.056641</td>\n",
       "      <td>0.91</td>\n",
       "    </tr>\n",
       "    <tr>\n",
       "      <th>13-May-21</th>\n",
       "      <td>10489</td>\n",
       "      <td>9625.540039</td>\n",
       "      <td>-711.571289</td>\n",
       "      <td>19962.652344</td>\n",
       "      <td>0.91</td>\n",
       "    </tr>\n",
       "    <tr>\n",
       "      <th>14-May-21</th>\n",
       "      <td>8506</td>\n",
       "      <td>7805.968262</td>\n",
       "      <td>-2531.143066</td>\n",
       "      <td>18143.080078</td>\n",
       "      <td>0.91</td>\n",
       "    </tr>\n",
       "    <tr>\n",
       "      <th>15-May-21</th>\n",
       "      <td>6430</td>\n",
       "      <td>5901.060059</td>\n",
       "      <td>-4436.051270</td>\n",
       "      <td>16238.171875</td>\n",
       "      <td>0.91</td>\n",
       "    </tr>\n",
       "    <tr>\n",
       "      <th>16-May-21</th>\n",
       "      <td>6456</td>\n",
       "      <td>5924.917969</td>\n",
       "      <td>-4412.193359</td>\n",
       "      <td>16262.029297</td>\n",
       "      <td>0.91</td>\n",
       "    </tr>\n",
       "    <tr>\n",
       "      <th>17-May-21</th>\n",
       "      <td>4524</td>\n",
       "      <td>4152.142090</td>\n",
       "      <td>-6184.969238</td>\n",
       "      <td>14489.253906</td>\n",
       "      <td>0.91</td>\n",
       "    </tr>\n",
       "    <tr>\n",
       "      <th>18-May-21</th>\n",
       "      <td>4482</td>\n",
       "      <td>4113.603516</td>\n",
       "      <td>-6223.507812</td>\n",
       "      <td>14450.714844</td>\n",
       "      <td>0.91</td>\n",
       "    </tr>\n",
       "    <tr>\n",
       "      <th>19-May-21</th>\n",
       "      <td>3846</td>\n",
       "      <td>3530.019043</td>\n",
       "      <td>-6807.092285</td>\n",
       "      <td>13867.130859</td>\n",
       "      <td>0.91</td>\n",
       "    </tr>\n",
       "    <tr>\n",
       "      <th>20-May-21</th>\n",
       "      <td>3231</td>\n",
       "      <td>2965.704102</td>\n",
       "      <td>-7371.407227</td>\n",
       "      <td>13302.815430</td>\n",
       "      <td>0.91</td>\n",
       "    </tr>\n",
       "    <tr>\n",
       "      <th>21-May-21</th>\n",
       "      <td>3009</td>\n",
       "      <td>2762.000000</td>\n",
       "      <td>-7575.111328</td>\n",
       "      <td>13099.111328</td>\n",
       "      <td>0.91</td>\n",
       "    </tr>\n",
       "    <tr>\n",
       "      <th>22-May-21</th>\n",
       "      <td>2260</td>\n",
       "      <td>2074.728271</td>\n",
       "      <td>-8262.382812</td>\n",
       "      <td>12411.839844</td>\n",
       "      <td>0.91</td>\n",
       "    </tr>\n",
       "    <tr>\n",
       "      <th>23-May-21</th>\n",
       "      <td>1649</td>\n",
       "      <td>1514.083618</td>\n",
       "      <td>-8823.027344</td>\n",
       "      <td>11851.195312</td>\n",
       "      <td>0.91</td>\n",
       "    </tr>\n",
       "    <tr>\n",
       "      <th>24-May-21</th>\n",
       "      <td>1550</td>\n",
       "      <td>1423.242432</td>\n",
       "      <td>-8913.869141</td>\n",
       "      <td>11760.353516</td>\n",
       "      <td>0.91</td>\n",
       "    </tr>\n",
       "    <tr>\n",
       "      <th>25-May-21</th>\n",
       "      <td>1568</td>\n",
       "      <td>1439.759033</td>\n",
       "      <td>-8897.352539</td>\n",
       "      <td>11776.870117</td>\n",
       "      <td>0.91</td>\n",
       "    </tr>\n",
       "    <tr>\n",
       "      <th>26-May-21</th>\n",
       "      <td>1491</td>\n",
       "      <td>1369.104980</td>\n",
       "      <td>-8968.005859</td>\n",
       "      <td>11706.216797</td>\n",
       "      <td>0.91</td>\n",
       "    </tr>\n",
       "    <tr>\n",
       "      <th>27-May-21</th>\n",
       "      <td>1072</td>\n",
       "      <td>984.633057</td>\n",
       "      <td>-9352.478516</td>\n",
       "      <td>11321.744141</td>\n",
       "      <td>0.91</td>\n",
       "    </tr>\n",
       "    <tr>\n",
       "      <th>28-May-21</th>\n",
       "      <td>1141</td>\n",
       "      <td>1047.948242</td>\n",
       "      <td>-9289.163086</td>\n",
       "      <td>11385.059570</td>\n",
       "      <td>0.91</td>\n",
       "    </tr>\n",
       "    <tr>\n",
       "      <th>29-May-21</th>\n",
       "      <td>956</td>\n",
       "      <td>878.186340</td>\n",
       "      <td>-9458.924805</td>\n",
       "      <td>11215.297852</td>\n",
       "      <td>0.91</td>\n",
       "    </tr>\n",
       "    <tr>\n",
       "      <th>30-May-21</th>\n",
       "      <td>946</td>\n",
       "      <td>869.009521</td>\n",
       "      <td>-9468.101562</td>\n",
       "      <td>11206.121094</td>\n",
       "      <td>0.91</td>\n",
       "    </tr>\n",
       "    <tr>\n",
       "      <th>31-May-21</th>\n",
       "      <td>648</td>\n",
       "      <td>595.408569</td>\n",
       "      <td>-9741.703125</td>\n",
       "      <td>10932.519531</td>\n",
       "      <td>0.91</td>\n",
       "    </tr>\n",
       "    <tr>\n",
       "      <th>01-Jun-21</th>\n",
       "      <td>623</td>\n",
       "      <td>572.424683</td>\n",
       "      <td>-9764.686523</td>\n",
       "      <td>10909.536133</td>\n",
       "      <td>0.91</td>\n",
       "    </tr>\n",
       "    <tr>\n",
       "      <th>02-Jun-21</th>\n",
       "      <td>576</td>\n",
       "      <td>529.182007</td>\n",
       "      <td>-9807.929688</td>\n",
       "      <td>10866.292969</td>\n",
       "      <td>0.91</td>\n",
       "    </tr>\n",
       "    <tr>\n",
       "      <th>03-Jun-21</th>\n",
       "      <td>487</td>\n",
       "      <td>447.097473</td>\n",
       "      <td>-9890.013672</td>\n",
       "      <td>10784.208984</td>\n",
       "      <td>0.91</td>\n",
       "    </tr>\n",
       "    <tr>\n",
       "      <th>04-Jun-21</th>\n",
       "      <td>523</td>\n",
       "      <td>480.341919</td>\n",
       "      <td>-9856.769531</td>\n",
       "      <td>10817.453125</td>\n",
       "      <td>0.91</td>\n",
       "    </tr>\n",
       "    <tr>\n",
       "      <th>05-Jun-21</th>\n",
       "      <td>414</td>\n",
       "      <td>379.400085</td>\n",
       "      <td>-9957.710938</td>\n",
       "      <td>10716.511719</td>\n",
       "      <td>0.91</td>\n",
       "    </tr>\n",
       "    <tr>\n",
       "      <th>06-Jun-21</th>\n",
       "      <td>381</td>\n",
       "      <td>348.608032</td>\n",
       "      <td>-9988.502930</td>\n",
       "      <td>10685.719727</td>\n",
       "      <td>0.91</td>\n",
       "    </tr>\n",
       "    <tr>\n",
       "      <th>07-Jun-21</th>\n",
       "      <td>231</td>\n",
       "      <td>205.721695</td>\n",
       "      <td>-10131.389648</td>\n",
       "      <td>10542.833008</td>\n",
       "      <td>0.91</td>\n",
       "    </tr>\n",
       "    <tr>\n",
       "      <th>08-Jun-21</th>\n",
       "      <td>316</td>\n",
       "      <td>287.409180</td>\n",
       "      <td>-10049.702148</td>\n",
       "      <td>10624.520508</td>\n",
       "      <td>0.91</td>\n",
       "    </tr>\n",
       "    <tr>\n",
       "      <th>09-Jun-21</th>\n",
       "      <td>337</td>\n",
       "      <td>307.277008</td>\n",
       "      <td>-10029.833984</td>\n",
       "      <td>10644.388672</td>\n",
       "      <td>0.91</td>\n",
       "    </tr>\n",
       "    <tr>\n",
       "      <th>10-Jun-21</th>\n",
       "      <td>305</td>\n",
       "      <td>276.958801</td>\n",
       "      <td>-10060.152344</td>\n",
       "      <td>10614.070312</td>\n",
       "      <td>0.91</td>\n",
       "    </tr>\n",
       "    <tr>\n",
       "      <th>11-Jun-21</th>\n",
       "      <td>238</td>\n",
       "      <td>212.536316</td>\n",
       "      <td>-10124.575195</td>\n",
       "      <td>10549.647461</td>\n",
       "      <td>0.91</td>\n",
       "    </tr>\n",
       "    <tr>\n",
       "      <th>12-Jun-21</th>\n",
       "      <td>213</td>\n",
       "      <td>188.125244</td>\n",
       "      <td>-10148.986328</td>\n",
       "      <td>10525.236328</td>\n",
       "      <td>0.91</td>\n",
       "    </tr>\n",
       "    <tr>\n",
       "      <th>13-Jun-21</th>\n",
       "      <td>255</td>\n",
       "      <td>229.018005</td>\n",
       "      <td>-10108.093750</td>\n",
       "      <td>10566.128906</td>\n",
       "      <td>0.91</td>\n",
       "    </tr>\n",
       "    <tr>\n",
       "      <th>14-Jun-21</th>\n",
       "      <td>131</td>\n",
       "      <td>107.291817</td>\n",
       "      <td>-10229.819336</td>\n",
       "      <td>10444.403320</td>\n",
       "      <td>0.91</td>\n",
       "    </tr>\n",
       "    <tr>\n",
       "      <th>15-Jun-21</th>\n",
       "      <td>228</td>\n",
       "      <td>202.796204</td>\n",
       "      <td>-10134.315430</td>\n",
       "      <td>10539.907227</td>\n",
       "      <td>0.91</td>\n",
       "    </tr>\n",
       "  </tbody>\n",
       "</table>\n",
       "</div>"
      ],
      "text/plain": [
       "           Daily Confirmed  Daily Confpred   confirm_min   confirm_max  \\\n",
       "Date                                                                     \n",
       "18-Apr-21            25462    23364.550781  13027.439453  33701.664062   \n",
       "19-Apr-21            23686    21734.917969  11397.806641  32072.029297   \n",
       "20-Apr-21            28395    26055.828125  15718.716797  36392.937500   \n",
       "21-Apr-21            24638    22608.458984  12271.347656  32945.570312   \n",
       "22-Apr-21            26169    24013.285156  13676.173828  34350.398438   \n",
       "23-Apr-21            24331    22326.759766  11989.648438  32663.871094   \n",
       "24-Apr-21            24103    22117.550781  11780.439453  32454.662109   \n",
       "25-Apr-21            22933    21043.976562  10706.865234  31381.087891   \n",
       "26-Apr-21            20201    18537.132812   8200.021484  28874.244141   \n",
       "27-Apr-21            24149    22159.759766  11822.648438  32496.871094   \n",
       "28-Apr-21            25986    23845.367188  13508.255859  34182.476562   \n",
       "29-Apr-21            24235    22238.673828  11901.562500  32575.785156   \n",
       "30-Apr-21            27047    24818.921875  14481.810547  35156.031250   \n",
       "01-May-21            25219    23141.576172  12804.464844  33478.687500   \n",
       "02-May-21            20394    18714.226562   8377.115234  29051.337891   \n",
       "03-May-21            18043    16556.980469   6219.869141  26894.091797   \n",
       "04-May-21            19953    18309.570312   7972.458984  28646.681641   \n",
       "05-May-21            20960    19233.578125   8896.466797  29570.689453   \n",
       "06-May-21            19133    17557.150391   7220.039062  27894.261719   \n",
       "07-May-21            19832    18198.542969   7861.431641  28535.654297   \n",
       "08-May-21            17364    15933.941406   5596.830078  26271.052734   \n",
       "09-May-21            13336    12237.906250   1900.794922  22575.017578   \n",
       "10-May-21            12651    11609.360352   1272.249023  21946.472656   \n",
       "11-May-21            12481    11453.371094   1116.259766  21790.482422   \n",
       "12-May-21            13287    12192.945312   1855.833984  22530.056641   \n",
       "13-May-21            10489     9625.540039   -711.571289  19962.652344   \n",
       "14-May-21             8506     7805.968262  -2531.143066  18143.080078   \n",
       "15-May-21             6430     5901.060059  -4436.051270  16238.171875   \n",
       "16-May-21             6456     5924.917969  -4412.193359  16262.029297   \n",
       "17-May-21             4524     4152.142090  -6184.969238  14489.253906   \n",
       "18-May-21             4482     4113.603516  -6223.507812  14450.714844   \n",
       "19-May-21             3846     3530.019043  -6807.092285  13867.130859   \n",
       "20-May-21             3231     2965.704102  -7371.407227  13302.815430   \n",
       "21-May-21             3009     2762.000000  -7575.111328  13099.111328   \n",
       "22-May-21             2260     2074.728271  -8262.382812  12411.839844   \n",
       "23-May-21             1649     1514.083618  -8823.027344  11851.195312   \n",
       "24-May-21             1550     1423.242432  -8913.869141  11760.353516   \n",
       "25-May-21             1568     1439.759033  -8897.352539  11776.870117   \n",
       "26-May-21             1491     1369.104980  -8968.005859  11706.216797   \n",
       "27-May-21             1072      984.633057  -9352.478516  11321.744141   \n",
       "28-May-21             1141     1047.948242  -9289.163086  11385.059570   \n",
       "29-May-21              956      878.186340  -9458.924805  11215.297852   \n",
       "30-May-21              946      869.009521  -9468.101562  11206.121094   \n",
       "31-May-21              648      595.408569  -9741.703125  10932.519531   \n",
       "01-Jun-21              623      572.424683  -9764.686523  10909.536133   \n",
       "02-Jun-21              576      529.182007  -9807.929688  10866.292969   \n",
       "03-Jun-21              487      447.097473  -9890.013672  10784.208984   \n",
       "04-Jun-21              523      480.341919  -9856.769531  10817.453125   \n",
       "05-Jun-21              414      379.400085  -9957.710938  10716.511719   \n",
       "06-Jun-21              381      348.608032  -9988.502930  10685.719727   \n",
       "07-Jun-21              231      205.721695 -10131.389648  10542.833008   \n",
       "08-Jun-21              316      287.409180 -10049.702148  10624.520508   \n",
       "09-Jun-21              337      307.277008 -10029.833984  10644.388672   \n",
       "10-Jun-21              305      276.958801 -10060.152344  10614.070312   \n",
       "11-Jun-21              238      212.536316 -10124.575195  10549.647461   \n",
       "12-Jun-21              213      188.125244 -10148.986328  10525.236328   \n",
       "13-Jun-21              255      229.018005 -10108.093750  10566.128906   \n",
       "14-Jun-21              131      107.291817 -10229.819336  10444.403320   \n",
       "15-Jun-21              228      202.796204 -10134.315430  10539.907227   \n",
       "\n",
       "           Model Accuracy  \n",
       "Date                       \n",
       "18-Apr-21            0.91  \n",
       "19-Apr-21            0.91  \n",
       "20-Apr-21            0.91  \n",
       "21-Apr-21            0.91  \n",
       "22-Apr-21            0.91  \n",
       "23-Apr-21            0.91  \n",
       "24-Apr-21            0.91  \n",
       "25-Apr-21            0.91  \n",
       "26-Apr-21            0.91  \n",
       "27-Apr-21            0.91  \n",
       "28-Apr-21            0.91  \n",
       "29-Apr-21            0.91  \n",
       "30-Apr-21            0.91  \n",
       "01-May-21            0.91  \n",
       "02-May-21            0.91  \n",
       "03-May-21            0.91  \n",
       "04-May-21            0.91  \n",
       "05-May-21            0.91  \n",
       "06-May-21            0.91  \n",
       "07-May-21            0.91  \n",
       "08-May-21            0.91  \n",
       "09-May-21            0.91  \n",
       "10-May-21            0.91  \n",
       "11-May-21            0.91  \n",
       "12-May-21            0.91  \n",
       "13-May-21            0.91  \n",
       "14-May-21            0.91  \n",
       "15-May-21            0.91  \n",
       "16-May-21            0.91  \n",
       "17-May-21            0.91  \n",
       "18-May-21            0.91  \n",
       "19-May-21            0.91  \n",
       "20-May-21            0.91  \n",
       "21-May-21            0.91  \n",
       "22-May-21            0.91  \n",
       "23-May-21            0.91  \n",
       "24-May-21            0.91  \n",
       "25-May-21            0.91  \n",
       "26-May-21            0.91  \n",
       "27-May-21            0.91  \n",
       "28-May-21            0.91  \n",
       "29-May-21            0.91  \n",
       "30-May-21            0.91  \n",
       "31-May-21            0.91  \n",
       "01-Jun-21            0.91  \n",
       "02-Jun-21            0.91  \n",
       "03-Jun-21            0.91  \n",
       "04-Jun-21            0.91  \n",
       "05-Jun-21            0.91  \n",
       "06-Jun-21            0.91  \n",
       "07-Jun-21            0.91  \n",
       "08-Jun-21            0.91  \n",
       "09-Jun-21            0.91  \n",
       "10-Jun-21            0.91  \n",
       "11-Jun-21            0.91  \n",
       "12-Jun-21            0.91  \n",
       "13-Jun-21            0.91  \n",
       "14-Jun-21            0.91  \n",
       "15-Jun-21            0.91  "
      ]
     },
     "execution_count": 37,
     "metadata": {},
     "output_type": "execute_result"
    }
   ],
   "source": [
    "df[\"Model Accuracy\"] = round((1-MAPE),2)\n",
    "df"
   ]
  },
  {
   "cell_type": "code",
   "execution_count": 38,
   "metadata": {},
   "outputs": [
    {
     "name": "stdout",
     "output_type": "stream",
     "text": [
      "\n",
      "Pandas DataFrame: \n"
     ]
    },
    {
     "data": {
      "text/html": [
       "<div>\n",
       "<style scoped>\n",
       "    .dataframe tbody tr th:only-of-type {\n",
       "        vertical-align: middle;\n",
       "    }\n",
       "\n",
       "    .dataframe tbody tr th {\n",
       "        vertical-align: top;\n",
       "    }\n",
       "\n",
       "    .dataframe thead th {\n",
       "        text-align: right;\n",
       "    }\n",
       "</style>\n",
       "<table border=\"1\" class=\"dataframe\">\n",
       "  <thead>\n",
       "    <tr style=\"text-align: right;\">\n",
       "      <th></th>\n",
       "      <th>RMSE</th>\n",
       "      <th>MAE</th>\n",
       "      <th>ST_DEV</th>\n",
       "    </tr>\n",
       "  </thead>\n",
       "  <tbody>\n",
       "  </tbody>\n",
       "</table>\n",
       "</div>"
      ],
      "text/plain": [
       "Empty DataFrame\n",
       "Columns: [RMSE, MAE, ST_DEV]\n",
       "Index: []"
      ]
     },
     "execution_count": 38,
     "metadata": {},
     "output_type": "execute_result"
    }
   ],
   "source": [
    "df1= pd.DataFrame( columns =['RMSE','MAE','ST_DEV'])\n",
    "print(\"\\nPandas DataFrame: \")\n",
    "df1"
   ]
  },
  {
   "cell_type": "code",
   "execution_count": 39,
   "metadata": {},
   "outputs": [
    {
     "data": {
      "text/html": [
       "<div>\n",
       "<style scoped>\n",
       "    .dataframe tbody tr th:only-of-type {\n",
       "        vertical-align: middle;\n",
       "    }\n",
       "\n",
       "    .dataframe tbody tr th {\n",
       "        vertical-align: top;\n",
       "    }\n",
       "\n",
       "    .dataframe thead th {\n",
       "        text-align: right;\n",
       "    }\n",
       "</style>\n",
       "<table border=\"1\" class=\"dataframe\">\n",
       "  <thead>\n",
       "    <tr style=\"text-align: right;\">\n",
       "      <th></th>\n",
       "      <th>RMSE</th>\n",
       "      <th>MAE</th>\n",
       "      <th>ST_DEV</th>\n",
       "    </tr>\n",
       "  </thead>\n",
       "  <tbody>\n",
       "  </tbody>\n",
       "</table>\n",
       "</div>"
      ],
      "text/plain": [
       "Empty DataFrame\n",
       "Columns: [RMSE, MAE, ST_DEV]\n",
       "Index: []"
      ]
     },
     "execution_count": 39,
     "metadata": {},
     "output_type": "execute_result"
    }
   ],
   "source": [
    "\n",
    "df1.loc[:,\"ST_DEV\"]=stdev\n",
    "df1"
   ]
  },
  {
   "cell_type": "code",
   "execution_count": 40,
   "metadata": {},
   "outputs": [
    {
     "data": {
      "text/plain": [
       "843.1257522065761"
      ]
     },
     "execution_count": 40,
     "metadata": {},
     "output_type": "execute_result"
    }
   ],
   "source": [
    "MAE"
   ]
  },
  {
   "cell_type": "code",
   "execution_count": null,
   "metadata": {},
   "outputs": [],
   "source": []
  }
 ],
 "metadata": {
  "kernelspec": {
   "display_name": "Python 3",
   "language": "python",
   "name": "python3"
  },
  "language_info": {
   "codemirror_mode": {
    "name": "ipython",
    "version": 3
   },
   "file_extension": ".py",
   "mimetype": "text/x-python",
   "name": "python",
   "nbconvert_exporter": "python",
   "pygments_lexer": "ipython3",
   "version": "3.7.0"
  }
 },
 "nbformat": 4,
 "nbformat_minor": 4
}
