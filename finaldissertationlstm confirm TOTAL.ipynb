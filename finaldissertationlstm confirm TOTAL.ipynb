{
 "cells": [
  {
   "cell_type": "code",
   "execution_count": 1,
   "metadata": {},
   "outputs": [],
   "source": [
    "import re\n",
    "import numpy as np\n",
    "import pandas as pd\n",
    "\n",
    "import warnings\n",
    "warnings.filterwarnings(\"ignore\")\n",
    "\n",
    "import matplotlib.pyplot as plt\n",
    "%matplotlib inline\n",
    "\n",
    "from numpy.random import seed\n",
    "seed(1)\n",
    "\n",
    "import tensorflow\n",
    "tensorflow.random.set_seed(1)\n",
    "\n",
    "import requests\n",
    "import io\n",
    "\n",
    "def get_data(url):\n",
    "    s=requests.get(url).content\n",
    "    return pd.read_csv(io.StringIO(s.decode('utf-8')))"
   ]
  },
  {
   "cell_type": "code",
   "execution_count": 2,
   "metadata": {},
   "outputs": [],
   "source": [
    "df = get_data(\"https://api.covid19india.org/csv/latest/state_wise_daily.csv\")"
   ]
  },
  {
   "cell_type": "code",
   "execution_count": 3,
   "metadata": {},
   "outputs": [
    {
     "data": {
      "text/html": [
       "<div>\n",
       "<style scoped>\n",
       "    .dataframe tbody tr th:only-of-type {\n",
       "        vertical-align: middle;\n",
       "    }\n",
       "\n",
       "    .dataframe tbody tr th {\n",
       "        vertical-align: top;\n",
       "    }\n",
       "\n",
       "    .dataframe thead th {\n",
       "        text-align: right;\n",
       "    }\n",
       "</style>\n",
       "<table border=\"1\" class=\"dataframe\">\n",
       "  <thead>\n",
       "    <tr style=\"text-align: right;\">\n",
       "      <th></th>\n",
       "      <th>Date</th>\n",
       "      <th>Date_YMD</th>\n",
       "      <th>Status</th>\n",
       "      <th>TT</th>\n",
       "      <th>AN</th>\n",
       "      <th>AP</th>\n",
       "      <th>AR</th>\n",
       "      <th>AS</th>\n",
       "      <th>BR</th>\n",
       "      <th>CH</th>\n",
       "      <th>...</th>\n",
       "      <th>PB</th>\n",
       "      <th>RJ</th>\n",
       "      <th>SK</th>\n",
       "      <th>TN</th>\n",
       "      <th>TG</th>\n",
       "      <th>TR</th>\n",
       "      <th>UP</th>\n",
       "      <th>UT</th>\n",
       "      <th>WB</th>\n",
       "      <th>UN</th>\n",
       "    </tr>\n",
       "  </thead>\n",
       "  <tbody>\n",
       "    <tr>\n",
       "      <th>1375</th>\n",
       "      <td>15-Jun-21</td>\n",
       "      <td>2021-06-15</td>\n",
       "      <td>Recovered</td>\n",
       "      <td>107767</td>\n",
       "      <td>15</td>\n",
       "      <td>10567</td>\n",
       "      <td>326</td>\n",
       "      <td>2906</td>\n",
       "      <td>813</td>\n",
       "      <td>58</td>\n",
       "      <td>...</td>\n",
       "      <td>1691</td>\n",
       "      <td>1006</td>\n",
       "      <td>272</td>\n",
       "      <td>23207</td>\n",
       "      <td>2070</td>\n",
       "      <td>743</td>\n",
       "      <td>1104</td>\n",
       "      <td>515</td>\n",
       "      <td>2068</td>\n",
       "      <td>0</td>\n",
       "    </tr>\n",
       "    <tr>\n",
       "      <th>1376</th>\n",
       "      <td>15-Jun-21</td>\n",
       "      <td>2021-06-15</td>\n",
       "      <td>Deceased</td>\n",
       "      <td>2540</td>\n",
       "      <td>0</td>\n",
       "      <td>53</td>\n",
       "      <td>4</td>\n",
       "      <td>34</td>\n",
       "      <td>9</td>\n",
       "      <td>3</td>\n",
       "      <td>...</td>\n",
       "      <td>48</td>\n",
       "      <td>14</td>\n",
       "      <td>3</td>\n",
       "      <td>267</td>\n",
       "      <td>14</td>\n",
       "      <td>4</td>\n",
       "      <td>56</td>\n",
       "      <td>25</td>\n",
       "      <td>75</td>\n",
       "      <td>0</td>\n",
       "    </tr>\n",
       "    <tr>\n",
       "      <th>1377</th>\n",
       "      <td>16-Jun-21</td>\n",
       "      <td>2021-06-16</td>\n",
       "      <td>Confirmed</td>\n",
       "      <td>67289</td>\n",
       "      <td>26</td>\n",
       "      <td>6617</td>\n",
       "      <td>250</td>\n",
       "      <td>3386</td>\n",
       "      <td>370</td>\n",
       "      <td>41</td>\n",
       "      <td>...</td>\n",
       "      <td>675</td>\n",
       "      <td>280</td>\n",
       "      <td>147</td>\n",
       "      <td>10448</td>\n",
       "      <td>1489</td>\n",
       "      <td>536</td>\n",
       "      <td>251</td>\n",
       "      <td>353</td>\n",
       "      <td>3187</td>\n",
       "      <td>0</td>\n",
       "    </tr>\n",
       "    <tr>\n",
       "      <th>1378</th>\n",
       "      <td>16-Jun-21</td>\n",
       "      <td>2021-06-16</td>\n",
       "      <td>Recovered</td>\n",
       "      <td>103900</td>\n",
       "      <td>30</td>\n",
       "      <td>10228</td>\n",
       "      <td>289</td>\n",
       "      <td>4881</td>\n",
       "      <td>730</td>\n",
       "      <td>63</td>\n",
       "      <td>...</td>\n",
       "      <td>1383</td>\n",
       "      <td>928</td>\n",
       "      <td>420</td>\n",
       "      <td>21058</td>\n",
       "      <td>1436</td>\n",
       "      <td>596</td>\n",
       "      <td>927</td>\n",
       "      <td>398</td>\n",
       "      <td>2012</td>\n",
       "      <td>0</td>\n",
       "    </tr>\n",
       "    <tr>\n",
       "      <th>1379</th>\n",
       "      <td>16-Jun-21</td>\n",
       "      <td>2021-06-16</td>\n",
       "      <td>Deceased</td>\n",
       "      <td>2329</td>\n",
       "      <td>1</td>\n",
       "      <td>57</td>\n",
       "      <td>0</td>\n",
       "      <td>36</td>\n",
       "      <td>9</td>\n",
       "      <td>2</td>\n",
       "      <td>...</td>\n",
       "      <td>48</td>\n",
       "      <td>9</td>\n",
       "      <td>1</td>\n",
       "      <td>270</td>\n",
       "      <td>11</td>\n",
       "      <td>5</td>\n",
       "      <td>49</td>\n",
       "      <td>12</td>\n",
       "      <td>69</td>\n",
       "      <td>0</td>\n",
       "    </tr>\n",
       "  </tbody>\n",
       "</table>\n",
       "<p>5 rows × 42 columns</p>\n",
       "</div>"
      ],
      "text/plain": [
       "           Date    Date_YMD     Status      TT  AN     AP   AR    AS   BR  CH  \\\n",
       "1375  15-Jun-21  2021-06-15  Recovered  107767  15  10567  326  2906  813  58   \n",
       "1376  15-Jun-21  2021-06-15   Deceased    2540   0     53    4    34    9   3   \n",
       "1377  16-Jun-21  2021-06-16  Confirmed   67289  26   6617  250  3386  370  41   \n",
       "1378  16-Jun-21  2021-06-16  Recovered  103900  30  10228  289  4881  730  63   \n",
       "1379  16-Jun-21  2021-06-16   Deceased    2329   1     57    0    36    9   2   \n",
       "\n",
       "      ...    PB    RJ   SK     TN    TG   TR    UP   UT    WB  UN  \n",
       "1375  ...  1691  1006  272  23207  2070  743  1104  515  2068   0  \n",
       "1376  ...    48    14    3    267    14    4    56   25    75   0  \n",
       "1377  ...   675   280  147  10448  1489  536   251  353  3187   0  \n",
       "1378  ...  1383   928  420  21058  1436  596   927  398  2012   0  \n",
       "1379  ...    48     9    1    270    11    5    49   12    69   0  \n",
       "\n",
       "[5 rows x 42 columns]"
      ]
     },
     "execution_count": 3,
     "metadata": {},
     "output_type": "execute_result"
    }
   ],
   "source": [
    "df.tail()"
   ]
  },
  {
   "cell_type": "code",
   "execution_count": 4,
   "metadata": {},
   "outputs": [
    {
     "data": {
      "text/html": [
       "<div>\n",
       "<style scoped>\n",
       "    .dataframe tbody tr th:only-of-type {\n",
       "        vertical-align: middle;\n",
       "    }\n",
       "\n",
       "    .dataframe tbody tr th {\n",
       "        vertical-align: top;\n",
       "    }\n",
       "\n",
       "    .dataframe thead th {\n",
       "        text-align: right;\n",
       "    }\n",
       "</style>\n",
       "<table border=\"1\" class=\"dataframe\">\n",
       "  <thead>\n",
       "    <tr style=\"text-align: right;\">\n",
       "      <th></th>\n",
       "      <th>Date</th>\n",
       "      <th>Date_YMD</th>\n",
       "      <th>Status</th>\n",
       "      <th>TT</th>\n",
       "      <th>AN</th>\n",
       "      <th>AP</th>\n",
       "      <th>AR</th>\n",
       "      <th>AS</th>\n",
       "      <th>BR</th>\n",
       "      <th>CH</th>\n",
       "      <th>...</th>\n",
       "      <th>PB</th>\n",
       "      <th>RJ</th>\n",
       "      <th>SK</th>\n",
       "      <th>TN</th>\n",
       "      <th>TG</th>\n",
       "      <th>TR</th>\n",
       "      <th>UP</th>\n",
       "      <th>UT</th>\n",
       "      <th>WB</th>\n",
       "      <th>UN</th>\n",
       "    </tr>\n",
       "  </thead>\n",
       "  <tbody>\n",
       "    <tr>\n",
       "      <th>0</th>\n",
       "      <td>14-Mar-20</td>\n",
       "      <td>2020-03-14</td>\n",
       "      <td>Confirmed</td>\n",
       "      <td>81</td>\n",
       "      <td>0</td>\n",
       "      <td>1</td>\n",
       "      <td>0</td>\n",
       "      <td>0</td>\n",
       "      <td>0</td>\n",
       "      <td>0</td>\n",
       "      <td>...</td>\n",
       "      <td>1</td>\n",
       "      <td>3</td>\n",
       "      <td>0</td>\n",
       "      <td>1</td>\n",
       "      <td>1</td>\n",
       "      <td>0</td>\n",
       "      <td>12</td>\n",
       "      <td>0</td>\n",
       "      <td>0</td>\n",
       "      <td>0</td>\n",
       "    </tr>\n",
       "    <tr>\n",
       "      <th>3</th>\n",
       "      <td>15-Mar-20</td>\n",
       "      <td>2020-03-15</td>\n",
       "      <td>Confirmed</td>\n",
       "      <td>27</td>\n",
       "      <td>0</td>\n",
       "      <td>0</td>\n",
       "      <td>0</td>\n",
       "      <td>0</td>\n",
       "      <td>0</td>\n",
       "      <td>0</td>\n",
       "      <td>...</td>\n",
       "      <td>0</td>\n",
       "      <td>1</td>\n",
       "      <td>0</td>\n",
       "      <td>0</td>\n",
       "      <td>2</td>\n",
       "      <td>0</td>\n",
       "      <td>1</td>\n",
       "      <td>0</td>\n",
       "      <td>0</td>\n",
       "      <td>0</td>\n",
       "    </tr>\n",
       "    <tr>\n",
       "      <th>6</th>\n",
       "      <td>16-Mar-20</td>\n",
       "      <td>2020-03-16</td>\n",
       "      <td>Confirmed</td>\n",
       "      <td>15</td>\n",
       "      <td>0</td>\n",
       "      <td>0</td>\n",
       "      <td>0</td>\n",
       "      <td>0</td>\n",
       "      <td>0</td>\n",
       "      <td>0</td>\n",
       "      <td>...</td>\n",
       "      <td>0</td>\n",
       "      <td>0</td>\n",
       "      <td>0</td>\n",
       "      <td>0</td>\n",
       "      <td>1</td>\n",
       "      <td>0</td>\n",
       "      <td>0</td>\n",
       "      <td>1</td>\n",
       "      <td>0</td>\n",
       "      <td>0</td>\n",
       "    </tr>\n",
       "    <tr>\n",
       "      <th>9</th>\n",
       "      <td>17-Mar-20</td>\n",
       "      <td>2020-03-17</td>\n",
       "      <td>Confirmed</td>\n",
       "      <td>11</td>\n",
       "      <td>0</td>\n",
       "      <td>0</td>\n",
       "      <td>0</td>\n",
       "      <td>0</td>\n",
       "      <td>0</td>\n",
       "      <td>0</td>\n",
       "      <td>...</td>\n",
       "      <td>0</td>\n",
       "      <td>0</td>\n",
       "      <td>0</td>\n",
       "      <td>0</td>\n",
       "      <td>1</td>\n",
       "      <td>0</td>\n",
       "      <td>2</td>\n",
       "      <td>0</td>\n",
       "      <td>1</td>\n",
       "      <td>0</td>\n",
       "    </tr>\n",
       "    <tr>\n",
       "      <th>12</th>\n",
       "      <td>18-Mar-20</td>\n",
       "      <td>2020-03-18</td>\n",
       "      <td>Confirmed</td>\n",
       "      <td>37</td>\n",
       "      <td>0</td>\n",
       "      <td>0</td>\n",
       "      <td>0</td>\n",
       "      <td>0</td>\n",
       "      <td>0</td>\n",
       "      <td>0</td>\n",
       "      <td>...</td>\n",
       "      <td>1</td>\n",
       "      <td>3</td>\n",
       "      <td>0</td>\n",
       "      <td>1</td>\n",
       "      <td>8</td>\n",
       "      <td>0</td>\n",
       "      <td>2</td>\n",
       "      <td>1</td>\n",
       "      <td>0</td>\n",
       "      <td>0</td>\n",
       "    </tr>\n",
       "    <tr>\n",
       "      <th>...</th>\n",
       "      <td>...</td>\n",
       "      <td>...</td>\n",
       "      <td>...</td>\n",
       "      <td>...</td>\n",
       "      <td>...</td>\n",
       "      <td>...</td>\n",
       "      <td>...</td>\n",
       "      <td>...</td>\n",
       "      <td>...</td>\n",
       "      <td>...</td>\n",
       "      <td>...</td>\n",
       "      <td>...</td>\n",
       "      <td>...</td>\n",
       "      <td>...</td>\n",
       "      <td>...</td>\n",
       "      <td>...</td>\n",
       "      <td>...</td>\n",
       "      <td>...</td>\n",
       "      <td>...</td>\n",
       "      <td>...</td>\n",
       "      <td>...</td>\n",
       "    </tr>\n",
       "    <tr>\n",
       "      <th>1362</th>\n",
       "      <td>11-Jun-21</td>\n",
       "      <td>2021-06-11</td>\n",
       "      <td>Confirmed</td>\n",
       "      <td>84574</td>\n",
       "      <td>36</td>\n",
       "      <td>8239</td>\n",
       "      <td>358</td>\n",
       "      <td>3666</td>\n",
       "      <td>566</td>\n",
       "      <td>70</td>\n",
       "      <td>...</td>\n",
       "      <td>1201</td>\n",
       "      <td>446</td>\n",
       "      <td>147</td>\n",
       "      <td>15759</td>\n",
       "      <td>1707</td>\n",
       "      <td>641</td>\n",
       "      <td>596</td>\n",
       "      <td>287</td>\n",
       "      <td>4883</td>\n",
       "      <td>0</td>\n",
       "    </tr>\n",
       "    <tr>\n",
       "      <th>1365</th>\n",
       "      <td>12-Jun-21</td>\n",
       "      <td>2021-06-12</td>\n",
       "      <td>Confirmed</td>\n",
       "      <td>80525</td>\n",
       "      <td>10</td>\n",
       "      <td>6952</td>\n",
       "      <td>298</td>\n",
       "      <td>3463</td>\n",
       "      <td>432</td>\n",
       "      <td>58</td>\n",
       "      <td>...</td>\n",
       "      <td>961</td>\n",
       "      <td>368</td>\n",
       "      <td>167</td>\n",
       "      <td>15108</td>\n",
       "      <td>1771</td>\n",
       "      <td>428</td>\n",
       "      <td>504</td>\n",
       "      <td>463</td>\n",
       "      <td>4286</td>\n",
       "      <td>0</td>\n",
       "    </tr>\n",
       "    <tr>\n",
       "      <th>1368</th>\n",
       "      <td>13-Jun-21</td>\n",
       "      <td>2021-06-13</td>\n",
       "      <td>Confirmed</td>\n",
       "      <td>71001</td>\n",
       "      <td>18</td>\n",
       "      <td>6770</td>\n",
       "      <td>134</td>\n",
       "      <td>2167</td>\n",
       "      <td>487</td>\n",
       "      <td>54</td>\n",
       "      <td>...</td>\n",
       "      <td>956</td>\n",
       "      <td>308</td>\n",
       "      <td>157</td>\n",
       "      <td>14016</td>\n",
       "      <td>1280</td>\n",
       "      <td>565</td>\n",
       "      <td>452</td>\n",
       "      <td>263</td>\n",
       "      <td>3984</td>\n",
       "      <td>0</td>\n",
       "    </tr>\n",
       "    <tr>\n",
       "      <th>1371</th>\n",
       "      <td>14-Jun-21</td>\n",
       "      <td>2021-06-14</td>\n",
       "      <td>Confirmed</td>\n",
       "      <td>60008</td>\n",
       "      <td>8</td>\n",
       "      <td>4549</td>\n",
       "      <td>366</td>\n",
       "      <td>3678</td>\n",
       "      <td>324</td>\n",
       "      <td>50</td>\n",
       "      <td>...</td>\n",
       "      <td>622</td>\n",
       "      <td>277</td>\n",
       "      <td>36</td>\n",
       "      <td>12772</td>\n",
       "      <td>1511</td>\n",
       "      <td>235</td>\n",
       "      <td>313</td>\n",
       "      <td>296</td>\n",
       "      <td>3519</td>\n",
       "      <td>0</td>\n",
       "    </tr>\n",
       "    <tr>\n",
       "      <th>1374</th>\n",
       "      <td>15-Jun-21</td>\n",
       "      <td>2021-06-15</td>\n",
       "      <td>Confirmed</td>\n",
       "      <td>62214</td>\n",
       "      <td>11</td>\n",
       "      <td>5741</td>\n",
       "      <td>290</td>\n",
       "      <td>3415</td>\n",
       "      <td>410</td>\n",
       "      <td>40</td>\n",
       "      <td>...</td>\n",
       "      <td>628</td>\n",
       "      <td>172</td>\n",
       "      <td>209</td>\n",
       "      <td>11805</td>\n",
       "      <td>1556</td>\n",
       "      <td>528</td>\n",
       "      <td>270</td>\n",
       "      <td>274</td>\n",
       "      <td>3268</td>\n",
       "      <td>0</td>\n",
       "    </tr>\n",
       "  </tbody>\n",
       "</table>\n",
       "<p>459 rows × 42 columns</p>\n",
       "</div>"
      ],
      "text/plain": [
       "           Date    Date_YMD     Status     TT  AN    AP   AR    AS   BR  CH  \\\n",
       "0     14-Mar-20  2020-03-14  Confirmed     81   0     1    0     0    0   0   \n",
       "3     15-Mar-20  2020-03-15  Confirmed     27   0     0    0     0    0   0   \n",
       "6     16-Mar-20  2020-03-16  Confirmed     15   0     0    0     0    0   0   \n",
       "9     17-Mar-20  2020-03-17  Confirmed     11   0     0    0     0    0   0   \n",
       "12    18-Mar-20  2020-03-18  Confirmed     37   0     0    0     0    0   0   \n",
       "...         ...         ...        ...    ...  ..   ...  ...   ...  ...  ..   \n",
       "1362  11-Jun-21  2021-06-11  Confirmed  84574  36  8239  358  3666  566  70   \n",
       "1365  12-Jun-21  2021-06-12  Confirmed  80525  10  6952  298  3463  432  58   \n",
       "1368  13-Jun-21  2021-06-13  Confirmed  71001  18  6770  134  2167  487  54   \n",
       "1371  14-Jun-21  2021-06-14  Confirmed  60008   8  4549  366  3678  324  50   \n",
       "1374  15-Jun-21  2021-06-15  Confirmed  62214  11  5741  290  3415  410  40   \n",
       "\n",
       "      ...    PB   RJ   SK     TN    TG   TR   UP   UT    WB  UN  \n",
       "0     ...     1    3    0      1     1    0   12    0     0   0  \n",
       "3     ...     0    1    0      0     2    0    1    0     0   0  \n",
       "6     ...     0    0    0      0     1    0    0    1     0   0  \n",
       "9     ...     0    0    0      0     1    0    2    0     1   0  \n",
       "12    ...     1    3    0      1     8    0    2    1     0   0  \n",
       "...   ...   ...  ...  ...    ...   ...  ...  ...  ...   ...  ..  \n",
       "1362  ...  1201  446  147  15759  1707  641  596  287  4883   0  \n",
       "1365  ...   961  368  167  15108  1771  428  504  463  4286   0  \n",
       "1368  ...   956  308  157  14016  1280  565  452  263  3984   0  \n",
       "1371  ...   622  277   36  12772  1511  235  313  296  3519   0  \n",
       "1374  ...   628  172  209  11805  1556  528  270  274  3268   0  \n",
       "\n",
       "[459 rows x 42 columns]"
      ]
     },
     "execution_count": 4,
     "metadata": {},
     "output_type": "execute_result"
    }
   ],
   "source": [
    "df = df[df['Status']=='Confirmed']\n",
    "df.head(-1)"
   ]
  },
  {
   "cell_type": "code",
   "execution_count": 5,
   "metadata": {},
   "outputs": [],
   "source": [
    "df = df.drop(['Status'], axis=1)"
   ]
  },
  {
   "cell_type": "code",
   "execution_count": 6,
   "metadata": {},
   "outputs": [],
   "source": [
    "from sklearn.preprocessing import MinMaxScaler\n",
    "scaler = MinMaxScaler()"
   ]
  },
  {
   "cell_type": "code",
   "execution_count": 7,
   "metadata": {},
   "outputs": [
    {
     "data": {
      "text/html": [
       "<div>\n",
       "<style scoped>\n",
       "    .dataframe tbody tr th:only-of-type {\n",
       "        vertical-align: middle;\n",
       "    }\n",
       "\n",
       "    .dataframe tbody tr th {\n",
       "        vertical-align: top;\n",
       "    }\n",
       "\n",
       "    .dataframe thead th {\n",
       "        text-align: right;\n",
       "    }\n",
       "</style>\n",
       "<table border=\"1\" class=\"dataframe\">\n",
       "  <thead>\n",
       "    <tr style=\"text-align: right;\">\n",
       "      <th></th>\n",
       "      <th>Date_YMD</th>\n",
       "      <th>TT</th>\n",
       "      <th>AN</th>\n",
       "      <th>AP</th>\n",
       "      <th>AR</th>\n",
       "      <th>AS</th>\n",
       "      <th>BR</th>\n",
       "      <th>CH</th>\n",
       "      <th>CT</th>\n",
       "      <th>DN</th>\n",
       "      <th>...</th>\n",
       "      <th>PB</th>\n",
       "      <th>RJ</th>\n",
       "      <th>SK</th>\n",
       "      <th>TN</th>\n",
       "      <th>TG</th>\n",
       "      <th>TR</th>\n",
       "      <th>UP</th>\n",
       "      <th>UT</th>\n",
       "      <th>WB</th>\n",
       "      <th>UN</th>\n",
       "    </tr>\n",
       "    <tr>\n",
       "      <th>Date</th>\n",
       "      <th></th>\n",
       "      <th></th>\n",
       "      <th></th>\n",
       "      <th></th>\n",
       "      <th></th>\n",
       "      <th></th>\n",
       "      <th></th>\n",
       "      <th></th>\n",
       "      <th></th>\n",
       "      <th></th>\n",
       "      <th></th>\n",
       "      <th></th>\n",
       "      <th></th>\n",
       "      <th></th>\n",
       "      <th></th>\n",
       "      <th></th>\n",
       "      <th></th>\n",
       "      <th></th>\n",
       "      <th></th>\n",
       "      <th></th>\n",
       "      <th></th>\n",
       "    </tr>\n",
       "  </thead>\n",
       "  <tbody>\n",
       "    <tr>\n",
       "      <th>14-Mar-20</th>\n",
       "      <td>2020-03-14</td>\n",
       "      <td>81</td>\n",
       "      <td>0</td>\n",
       "      <td>1</td>\n",
       "      <td>0</td>\n",
       "      <td>0</td>\n",
       "      <td>0</td>\n",
       "      <td>0</td>\n",
       "      <td>0</td>\n",
       "      <td>0</td>\n",
       "      <td>...</td>\n",
       "      <td>1</td>\n",
       "      <td>3</td>\n",
       "      <td>0</td>\n",
       "      <td>1</td>\n",
       "      <td>1</td>\n",
       "      <td>0</td>\n",
       "      <td>12</td>\n",
       "      <td>0</td>\n",
       "      <td>0</td>\n",
       "      <td>0</td>\n",
       "    </tr>\n",
       "    <tr>\n",
       "      <th>15-Mar-20</th>\n",
       "      <td>2020-03-15</td>\n",
       "      <td>27</td>\n",
       "      <td>0</td>\n",
       "      <td>0</td>\n",
       "      <td>0</td>\n",
       "      <td>0</td>\n",
       "      <td>0</td>\n",
       "      <td>0</td>\n",
       "      <td>0</td>\n",
       "      <td>0</td>\n",
       "      <td>...</td>\n",
       "      <td>0</td>\n",
       "      <td>1</td>\n",
       "      <td>0</td>\n",
       "      <td>0</td>\n",
       "      <td>2</td>\n",
       "      <td>0</td>\n",
       "      <td>1</td>\n",
       "      <td>0</td>\n",
       "      <td>0</td>\n",
       "      <td>0</td>\n",
       "    </tr>\n",
       "    <tr>\n",
       "      <th>16-Mar-20</th>\n",
       "      <td>2020-03-16</td>\n",
       "      <td>15</td>\n",
       "      <td>0</td>\n",
       "      <td>0</td>\n",
       "      <td>0</td>\n",
       "      <td>0</td>\n",
       "      <td>0</td>\n",
       "      <td>0</td>\n",
       "      <td>0</td>\n",
       "      <td>0</td>\n",
       "      <td>...</td>\n",
       "      <td>0</td>\n",
       "      <td>0</td>\n",
       "      <td>0</td>\n",
       "      <td>0</td>\n",
       "      <td>1</td>\n",
       "      <td>0</td>\n",
       "      <td>0</td>\n",
       "      <td>1</td>\n",
       "      <td>0</td>\n",
       "      <td>0</td>\n",
       "    </tr>\n",
       "    <tr>\n",
       "      <th>17-Mar-20</th>\n",
       "      <td>2020-03-17</td>\n",
       "      <td>11</td>\n",
       "      <td>0</td>\n",
       "      <td>0</td>\n",
       "      <td>0</td>\n",
       "      <td>0</td>\n",
       "      <td>0</td>\n",
       "      <td>0</td>\n",
       "      <td>0</td>\n",
       "      <td>0</td>\n",
       "      <td>...</td>\n",
       "      <td>0</td>\n",
       "      <td>0</td>\n",
       "      <td>0</td>\n",
       "      <td>0</td>\n",
       "      <td>1</td>\n",
       "      <td>0</td>\n",
       "      <td>2</td>\n",
       "      <td>0</td>\n",
       "      <td>1</td>\n",
       "      <td>0</td>\n",
       "    </tr>\n",
       "    <tr>\n",
       "      <th>18-Mar-20</th>\n",
       "      <td>2020-03-18</td>\n",
       "      <td>37</td>\n",
       "      <td>0</td>\n",
       "      <td>0</td>\n",
       "      <td>0</td>\n",
       "      <td>0</td>\n",
       "      <td>0</td>\n",
       "      <td>0</td>\n",
       "      <td>0</td>\n",
       "      <td>0</td>\n",
       "      <td>...</td>\n",
       "      <td>1</td>\n",
       "      <td>3</td>\n",
       "      <td>0</td>\n",
       "      <td>1</td>\n",
       "      <td>8</td>\n",
       "      <td>0</td>\n",
       "      <td>2</td>\n",
       "      <td>1</td>\n",
       "      <td>0</td>\n",
       "      <td>0</td>\n",
       "    </tr>\n",
       "    <tr>\n",
       "      <th>...</th>\n",
       "      <td>...</td>\n",
       "      <td>...</td>\n",
       "      <td>...</td>\n",
       "      <td>...</td>\n",
       "      <td>...</td>\n",
       "      <td>...</td>\n",
       "      <td>...</td>\n",
       "      <td>...</td>\n",
       "      <td>...</td>\n",
       "      <td>...</td>\n",
       "      <td>...</td>\n",
       "      <td>...</td>\n",
       "      <td>...</td>\n",
       "      <td>...</td>\n",
       "      <td>...</td>\n",
       "      <td>...</td>\n",
       "      <td>...</td>\n",
       "      <td>...</td>\n",
       "      <td>...</td>\n",
       "      <td>...</td>\n",
       "      <td>...</td>\n",
       "    </tr>\n",
       "    <tr>\n",
       "      <th>12-Jun-21</th>\n",
       "      <td>2021-06-12</td>\n",
       "      <td>80525</td>\n",
       "      <td>10</td>\n",
       "      <td>6952</td>\n",
       "      <td>298</td>\n",
       "      <td>3463</td>\n",
       "      <td>432</td>\n",
       "      <td>58</td>\n",
       "      <td>813</td>\n",
       "      <td>5</td>\n",
       "      <td>...</td>\n",
       "      <td>961</td>\n",
       "      <td>368</td>\n",
       "      <td>167</td>\n",
       "      <td>15108</td>\n",
       "      <td>1771</td>\n",
       "      <td>428</td>\n",
       "      <td>504</td>\n",
       "      <td>463</td>\n",
       "      <td>4286</td>\n",
       "      <td>0</td>\n",
       "    </tr>\n",
       "    <tr>\n",
       "      <th>13-Jun-21</th>\n",
       "      <td>2021-06-13</td>\n",
       "      <td>71001</td>\n",
       "      <td>18</td>\n",
       "      <td>6770</td>\n",
       "      <td>134</td>\n",
       "      <td>2167</td>\n",
       "      <td>487</td>\n",
       "      <td>54</td>\n",
       "      <td>459</td>\n",
       "      <td>0</td>\n",
       "      <td>...</td>\n",
       "      <td>956</td>\n",
       "      <td>308</td>\n",
       "      <td>157</td>\n",
       "      <td>14016</td>\n",
       "      <td>1280</td>\n",
       "      <td>565</td>\n",
       "      <td>452</td>\n",
       "      <td>263</td>\n",
       "      <td>3984</td>\n",
       "      <td>0</td>\n",
       "    </tr>\n",
       "    <tr>\n",
       "      <th>14-Jun-21</th>\n",
       "      <td>2021-06-14</td>\n",
       "      <td>60008</td>\n",
       "      <td>8</td>\n",
       "      <td>4549</td>\n",
       "      <td>366</td>\n",
       "      <td>3678</td>\n",
       "      <td>324</td>\n",
       "      <td>50</td>\n",
       "      <td>600</td>\n",
       "      <td>1</td>\n",
       "      <td>...</td>\n",
       "      <td>622</td>\n",
       "      <td>277</td>\n",
       "      <td>36</td>\n",
       "      <td>12772</td>\n",
       "      <td>1511</td>\n",
       "      <td>235</td>\n",
       "      <td>313</td>\n",
       "      <td>296</td>\n",
       "      <td>3519</td>\n",
       "      <td>0</td>\n",
       "    </tr>\n",
       "    <tr>\n",
       "      <th>15-Jun-21</th>\n",
       "      <td>2021-06-15</td>\n",
       "      <td>62214</td>\n",
       "      <td>11</td>\n",
       "      <td>5741</td>\n",
       "      <td>290</td>\n",
       "      <td>3415</td>\n",
       "      <td>410</td>\n",
       "      <td>40</td>\n",
       "      <td>609</td>\n",
       "      <td>7</td>\n",
       "      <td>...</td>\n",
       "      <td>628</td>\n",
       "      <td>172</td>\n",
       "      <td>209</td>\n",
       "      <td>11805</td>\n",
       "      <td>1556</td>\n",
       "      <td>528</td>\n",
       "      <td>270</td>\n",
       "      <td>274</td>\n",
       "      <td>3268</td>\n",
       "      <td>0</td>\n",
       "    </tr>\n",
       "    <tr>\n",
       "      <th>16-Jun-21</th>\n",
       "      <td>2021-06-16</td>\n",
       "      <td>67289</td>\n",
       "      <td>26</td>\n",
       "      <td>6617</td>\n",
       "      <td>250</td>\n",
       "      <td>3386</td>\n",
       "      <td>370</td>\n",
       "      <td>41</td>\n",
       "      <td>573</td>\n",
       "      <td>8</td>\n",
       "      <td>...</td>\n",
       "      <td>675</td>\n",
       "      <td>280</td>\n",
       "      <td>147</td>\n",
       "      <td>10448</td>\n",
       "      <td>1489</td>\n",
       "      <td>536</td>\n",
       "      <td>251</td>\n",
       "      <td>353</td>\n",
       "      <td>3187</td>\n",
       "      <td>0</td>\n",
       "    </tr>\n",
       "  </tbody>\n",
       "</table>\n",
       "<p>460 rows × 40 columns</p>\n",
       "</div>"
      ],
      "text/plain": [
       "             Date_YMD     TT  AN    AP   AR    AS   BR  CH   CT  DN  ...   PB  \\\n",
       "Date                                                                 ...        \n",
       "14-Mar-20  2020-03-14     81   0     1    0     0    0   0    0   0  ...    1   \n",
       "15-Mar-20  2020-03-15     27   0     0    0     0    0   0    0   0  ...    0   \n",
       "16-Mar-20  2020-03-16     15   0     0    0     0    0   0    0   0  ...    0   \n",
       "17-Mar-20  2020-03-17     11   0     0    0     0    0   0    0   0  ...    0   \n",
       "18-Mar-20  2020-03-18     37   0     0    0     0    0   0    0   0  ...    1   \n",
       "...               ...    ...  ..   ...  ...   ...  ...  ..  ...  ..  ...  ...   \n",
       "12-Jun-21  2021-06-12  80525  10  6952  298  3463  432  58  813   5  ...  961   \n",
       "13-Jun-21  2021-06-13  71001  18  6770  134  2167  487  54  459   0  ...  956   \n",
       "14-Jun-21  2021-06-14  60008   8  4549  366  3678  324  50  600   1  ...  622   \n",
       "15-Jun-21  2021-06-15  62214  11  5741  290  3415  410  40  609   7  ...  628   \n",
       "16-Jun-21  2021-06-16  67289  26  6617  250  3386  370  41  573   8  ...  675   \n",
       "\n",
       "            RJ   SK     TN    TG   TR   UP   UT    WB  UN  \n",
       "Date                                                       \n",
       "14-Mar-20    3    0      1     1    0   12    0     0   0  \n",
       "15-Mar-20    1    0      0     2    0    1    0     0   0  \n",
       "16-Mar-20    0    0      0     1    0    0    1     0   0  \n",
       "17-Mar-20    0    0      0     1    0    2    0     1   0  \n",
       "18-Mar-20    3    0      1     8    0    2    1     0   0  \n",
       "...        ...  ...    ...   ...  ...  ...  ...   ...  ..  \n",
       "12-Jun-21  368  167  15108  1771  428  504  463  4286   0  \n",
       "13-Jun-21  308  157  14016  1280  565  452  263  3984   0  \n",
       "14-Jun-21  277   36  12772  1511  235  313  296  3519   0  \n",
       "15-Jun-21  172  209  11805  1556  528  270  274  3268   0  \n",
       "16-Jun-21  280  147  10448  1489  536  251  353  3187   0  \n",
       "\n",
       "[460 rows x 40 columns]"
      ]
     },
     "execution_count": 7,
     "metadata": {},
     "output_type": "execute_result"
    }
   ],
   "source": [
    "df.reset_index()\n",
    "df = df.set_index(\"Date\")\n",
    "df"
   ]
  },
  {
   "cell_type": "code",
   "execution_count": 8,
   "metadata": {},
   "outputs": [
    {
     "data": {
      "text/plain": [
       "Date\n",
       "14-Mar-20       81\n",
       "15-Mar-20       27\n",
       "16-Mar-20       15\n",
       "17-Mar-20       11\n",
       "18-Mar-20       37\n",
       "             ...  \n",
       "12-Jun-21    80525\n",
       "13-Jun-21    71001\n",
       "14-Jun-21    60008\n",
       "15-Jun-21    62214\n",
       "16-Jun-21    67289\n",
       "Name: TT, Length: 460, dtype: int64"
      ]
     },
     "execution_count": 8,
     "metadata": {},
     "output_type": "execute_result"
    }
   ],
   "source": [
    "df['TT']"
   ]
  },
  {
   "cell_type": "code",
   "execution_count": 9,
   "metadata": {},
   "outputs": [
    {
     "data": {
      "text/html": [
       "        <script type=\"text/javascript\">\n",
       "        window.PlotlyConfig = {MathJaxConfig: 'local'};\n",
       "        if (window.MathJax) {MathJax.Hub.Config({SVG: {font: \"STIX-Web\"}});}\n",
       "        if (typeof require !== 'undefined') {\n",
       "        require.undef(\"plotly\");\n",
       "        requirejs.config({\n",
       "            paths: {\n",
       "                'plotly': ['https://cdn.plot.ly/plotly-latest.min']\n",
       "            }\n",
       "        });\n",
       "        require(['plotly'], function(Plotly) {\n",
       "            window._Plotly = Plotly;\n",
       "        });\n",
       "        }\n",
       "        </script>\n",
       "        "
      ]
     },
     "metadata": {},
     "output_type": "display_data"
    },
    {
     "data": {
      "application/vnd.plotly.v1+json": {
       "config": {
        "linkText": "Export to plot.ly",
        "plotlyServerURL": "https://plot.ly",
        "showLink": false
       },
       "data": [
        {
         "name": "daily confirmed cases TOTAL",
         "type": "scatter",
         "x": [
          "14-Mar-20",
          "15-Mar-20",
          "16-Mar-20",
          "17-Mar-20",
          "18-Mar-20",
          "19-Mar-20",
          "20-Mar-20",
          "21-Mar-20",
          "22-Mar-20",
          "23-Mar-20",
          "24-Mar-20",
          "25-Mar-20",
          "26-Mar-20",
          "27-Mar-20",
          "28-Mar-20",
          "29-Mar-20",
          "30-Mar-20",
          "31-Mar-20",
          "01-Apr-20",
          "02-Apr-20",
          "03-Apr-20",
          "04-Apr-20",
          "05-Apr-20",
          "06-Apr-20",
          "07-Apr-20",
          "08-Apr-20",
          "09-Apr-20",
          "10-Apr-20",
          "11-Apr-20",
          "12-Apr-20",
          "13-Apr-20",
          "14-Apr-20",
          "15-Apr-20",
          "16-Apr-20",
          "17-Apr-20",
          "18-Apr-20",
          "19-Apr-20",
          "20-Apr-20",
          "21-Apr-20",
          "22-Apr-20",
          "23-Apr-20",
          "24-Apr-20",
          "25-Apr-20",
          "26-Apr-20",
          "27-Apr-20",
          "28-Apr-20",
          "29-Apr-20",
          "30-Apr-20",
          "01-May-20",
          "02-May-20",
          "03-May-20",
          "04-May-20",
          "05-May-20",
          "06-May-20",
          "07-May-20",
          "08-May-20",
          "09-May-20",
          "10-May-20",
          "11-May-20",
          "12-May-20",
          "13-May-20",
          "14-May-20",
          "15-May-20",
          "16-May-20",
          "17-May-20",
          "18-May-20",
          "19-May-20",
          "20-May-20",
          "21-May-20",
          "22-May-20",
          "23-May-20",
          "24-May-20",
          "25-May-20",
          "26-May-20",
          "27-May-20",
          "28-May-20",
          "29-May-20",
          "30-May-20",
          "31-May-20",
          "01-Jun-20",
          "02-Jun-20",
          "03-Jun-20",
          "04-Jun-20",
          "05-Jun-20",
          "06-Jun-20",
          "07-Jun-20",
          "08-Jun-20",
          "09-Jun-20",
          "10-Jun-20",
          "11-Jun-20",
          "12-Jun-20",
          "13-Jun-20",
          "14-Jun-20",
          "15-Jun-20",
          "16-Jun-20",
          "17-Jun-20",
          "18-Jun-20",
          "19-Jun-20",
          "20-Jun-20",
          "21-Jun-20",
          "22-Jun-20",
          "23-Jun-20",
          "24-Jun-20",
          "25-Jun-20",
          "26-Jun-20",
          "27-Jun-20",
          "28-Jun-20",
          "29-Jun-20",
          "30-Jun-20",
          "01-Jul-20",
          "02-Jul-20",
          "03-Jul-20",
          "04-Jul-20",
          "05-Jul-20",
          "06-Jul-20",
          "07-Jul-20",
          "08-Jul-20",
          "09-Jul-20",
          "10-Jul-20",
          "11-Jul-20",
          "12-Jul-20",
          "13-Jul-20",
          "14-Jul-20",
          "15-Jul-20",
          "16-Jul-20",
          "17-Jul-20",
          "18-Jul-20",
          "19-Jul-20",
          "20-Jul-20",
          "21-Jul-20",
          "22-Jul-20",
          "23-Jul-20",
          "24-Jul-20",
          "25-Jul-20",
          "26-Jul-20",
          "27-Jul-20",
          "28-Jul-20",
          "29-Jul-20",
          "30-Jul-20",
          "31-Jul-20",
          "01-Aug-20",
          "02-Aug-20",
          "03-Aug-20",
          "04-Aug-20",
          "05-Aug-20",
          "06-Aug-20",
          "07-Aug-20",
          "08-Aug-20",
          "09-Aug-20",
          "10-Aug-20",
          "11-Aug-20",
          "12-Aug-20",
          "13-Aug-20",
          "14-Aug-20",
          "15-Aug-20",
          "16-Aug-20",
          "17-Aug-20",
          "18-Aug-20",
          "19-Aug-20",
          "20-Aug-20",
          "21-Aug-20",
          "22-Aug-20",
          "23-Aug-20",
          "24-Aug-20",
          "25-Aug-20",
          "26-Aug-20",
          "27-Aug-20",
          "28-Aug-20",
          "29-Aug-20",
          "30-Aug-20",
          "31-Aug-20",
          "01-Sep-20",
          "02-Sep-20",
          "03-Sep-20",
          "04-Sep-20",
          "05-Sep-20",
          "06-Sep-20",
          "07-Sep-20",
          "08-Sep-20",
          "09-Sep-20",
          "10-Sep-20",
          "11-Sep-20",
          "12-Sep-20",
          "13-Sep-20",
          "14-Sep-20",
          "15-Sep-20",
          "16-Sep-20",
          "17-Sep-20",
          "18-Sep-20",
          "19-Sep-20",
          "20-Sep-20",
          "21-Sep-20",
          "22-Sep-20",
          "23-Sep-20",
          "24-Sep-20",
          "25-Sep-20",
          "26-Sep-20",
          "27-Sep-20",
          "28-Sep-20",
          "29-Sep-20",
          "30-Sep-20",
          "01-Oct-20",
          "02-Oct-20",
          "03-Oct-20",
          "04-Oct-20",
          "05-Oct-20",
          "06-Oct-20",
          "07-Oct-20",
          "08-Oct-20",
          "09-Oct-20",
          "10-Oct-20",
          "11-Oct-20",
          "12-Oct-20",
          "13-Oct-20",
          "14-Oct-20",
          "15-Oct-20",
          "16-Oct-20",
          "17-Oct-20",
          "18-Oct-20",
          "19-Oct-20",
          "20-Oct-20",
          "21-Oct-20",
          "22-Oct-20",
          "23-Oct-20",
          "24-Oct-20",
          "25-Oct-20",
          "26-Oct-20",
          "27-Oct-20",
          "28-Oct-20",
          "29-Oct-20",
          "30-Oct-20",
          "31-Oct-20",
          "01-Nov-20",
          "02-Nov-20",
          "03-Nov-20",
          "04-Nov-20",
          "05-Nov-20",
          "06-Nov-20",
          "07-Nov-20",
          "08-Nov-20",
          "09-Nov-20",
          "10-Nov-20",
          "11-Nov-20",
          "12-Nov-20",
          "13-Nov-20",
          "14-Nov-20",
          "15-Nov-20",
          "16-Nov-20",
          "17-Nov-20",
          "18-Nov-20",
          "19-Nov-20",
          "20-Nov-20",
          "21-Nov-20",
          "22-Nov-20",
          "23-Nov-20",
          "24-Nov-20",
          "25-Nov-20",
          "26-Nov-20",
          "27-Nov-20",
          "28-Nov-20",
          "29-Nov-20",
          "30-Nov-20",
          "01-Dec-20",
          "02-Dec-20",
          "03-Dec-20",
          "04-Dec-20",
          "05-Dec-20",
          "06-Dec-20",
          "07-Dec-20",
          "08-Dec-20",
          "09-Dec-20",
          "10-Dec-20",
          "11-Dec-20",
          "12-Dec-20",
          "13-Dec-20",
          "14-Dec-20",
          "15-Dec-20",
          "16-Dec-20",
          "17-Dec-20",
          "18-Dec-20",
          "19-Dec-20",
          "20-Dec-20",
          "21-Dec-20",
          "22-Dec-20",
          "23-Dec-20",
          "24-Dec-20",
          "25-Dec-20",
          "26-Dec-20",
          "27-Dec-20",
          "28-Dec-20",
          "29-Dec-20",
          "30-Dec-20",
          "31-Dec-20",
          "01-Jan-21",
          "02-Jan-21",
          "03-Jan-21",
          "04-Jan-21",
          "05-Jan-21",
          "06-Jan-21",
          "07-Jan-21",
          "08-Jan-21",
          "09-Jan-21",
          "10-Jan-21",
          "11-Jan-21",
          "12-Jan-21",
          "13-Jan-21",
          "14-Jan-21",
          "15-Jan-21",
          "16-Jan-21",
          "17-Jan-21",
          "18-Jan-21",
          "19-Jan-21",
          "20-Jan-21",
          "21-Jan-21",
          "22-Jan-21",
          "23-Jan-21",
          "24-Jan-21",
          "25-Jan-21",
          "26-Jan-21",
          "27-Jan-21",
          "28-Jan-21",
          "29-Jan-21",
          "30-Jan-21",
          "31-Jan-21",
          "01-Feb-21",
          "02-Feb-21",
          "03-Feb-21",
          "04-Feb-21",
          "05-Feb-21",
          "06-Feb-21",
          "07-Feb-21",
          "08-Feb-21",
          "09-Feb-21",
          "10-Feb-21",
          "11-Feb-21",
          "12-Feb-21",
          "13-Feb-21",
          "14-Feb-21",
          "15-Feb-21",
          "16-Feb-21",
          "17-Feb-21",
          "18-Feb-21",
          "19-Feb-21",
          "20-Feb-21",
          "21-Feb-21",
          "22-Feb-21",
          "23-Feb-21",
          "24-Feb-21",
          "25-Feb-21",
          "26-Feb-21",
          "27-Feb-21",
          "28-Feb-21",
          "01-Mar-21",
          "02-Mar-21",
          "03-Mar-21",
          "04-Mar-21",
          "05-Mar-21",
          "06-Mar-21",
          "07-Mar-21",
          "08-Mar-21",
          "09-Mar-21",
          "10-Mar-21",
          "11-Mar-21",
          "12-Mar-21",
          "13-Mar-21",
          "14-Mar-21",
          "15-Mar-21",
          "16-Mar-21",
          "17-Mar-21",
          "18-Mar-21",
          "19-Mar-21",
          "20-Mar-21",
          "21-Mar-21",
          "22-Mar-21",
          "23-Mar-21",
          "24-Mar-21",
          "25-Mar-21",
          "26-Mar-21",
          "27-Mar-21",
          "28-Mar-21",
          "29-Mar-21",
          "30-Mar-21",
          "31-Mar-21",
          "01-Apr-21",
          "02-Apr-21",
          "03-Apr-21",
          "04-Apr-21",
          "05-Apr-21",
          "06-Apr-21",
          "07-Apr-21",
          "08-Apr-21",
          "09-Apr-21",
          "10-Apr-21",
          "11-Apr-21",
          "12-Apr-21",
          "13-Apr-21",
          "14-Apr-21",
          "15-Apr-21",
          "16-Apr-21",
          "17-Apr-21",
          "18-Apr-21",
          "19-Apr-21",
          "20-Apr-21",
          "21-Apr-21",
          "22-Apr-21",
          "23-Apr-21",
          "24-Apr-21",
          "25-Apr-21",
          "26-Apr-21",
          "27-Apr-21",
          "28-Apr-21",
          "29-Apr-21",
          "30-Apr-21",
          "01-May-21",
          "02-May-21",
          "03-May-21",
          "04-May-21",
          "05-May-21",
          "06-May-21",
          "07-May-21",
          "08-May-21",
          "09-May-21",
          "10-May-21",
          "11-May-21",
          "12-May-21",
          "13-May-21",
          "14-May-21",
          "15-May-21",
          "16-May-21",
          "17-May-21",
          "18-May-21",
          "19-May-21",
          "20-May-21",
          "21-May-21",
          "22-May-21",
          "23-May-21",
          "24-May-21",
          "25-May-21",
          "26-May-21",
          "27-May-21",
          "28-May-21",
          "29-May-21",
          "30-May-21",
          "31-May-21",
          "01-Jun-21",
          "02-Jun-21",
          "03-Jun-21",
          "04-Jun-21",
          "05-Jun-21",
          "06-Jun-21",
          "07-Jun-21",
          "08-Jun-21",
          "09-Jun-21",
          "10-Jun-21",
          "11-Jun-21",
          "12-Jun-21",
          "13-Jun-21",
          "14-Jun-21",
          "15-Jun-21",
          "16-Jun-21"
         ],
         "y": [
          1,
          0,
          0,
          0,
          1,
          0,
          1,
          10,
          8,
          2,
          6,
          2,
          2,
          5,
          0,
          0,
          3,
          1,
          4,
          1,
          6,
          12,
          3,
          11,
          20,
          7,
          24,
          21,
          7,
          12,
          6,
          8,
          2,
          11,
          14,
          23,
          10,
          1,
          6,
          27,
          5,
          15,
          10,
          14,
          8,
          12,
          33,
          105,
          105,
          187,
          330,
          130,
          219,
          75,
          118,
          87,
          31,
          61,
          54,
          37,
          10,
          11,
          -3,
          14,
          18,
          16,
          22,
          3,
          23,
          1,
          16,
          15,
          21,
          25,
          33,
          19,
          39,
          36,
          30,
          38,
          41,
          34,
          39,
          46,
          54,
          93,
          55,
          56,
          86,
          82,
          99,
          77,
          77,
          127,
          104,
          126,
          118,
          217,
          120,
          122,
          161,
          162,
          230,
          142,
          188,
          99,
          160,
          202,
          150,
          100,
          116,
          153,
          172,
          174,
          208,
          258,
          158,
          233,
          217,
          230,
          234,
          357,
          333,
          288,
          295,
          348,
          350,
          308,
          410,
          379,
          412,
          438,
          477,
          468,
          534,
          551,
          609,
          568,
          510,
          663,
          944,
          790,
          674,
          488,
          841,
          1035,
          1039,
          998,
          975,
          986,
          1000,
          1020,
          1027,
          1077,
          1028,
          1165,
          1489,
          1705,
          1683,
          1741,
          1503,
          1316,
          1136,
          1505,
          1293,
          1513,
          1746,
          1542,
          1470,
          1678,
          1466,
          1516,
          1481,
          1526,
          1498,
          1514,
          1946,
          2110,
          1964,
          2137,
          2459,
          2473,
          2441,
          2622,
          2421,
          2382,
          2702,
          2848,
          2774,
          2723,
          2160,
          2241,
          1411,
          2123,
          1756,
          1876,
          1588,
          1422,
          1269,
          1085,
          1426,
          1265,
          1062,
          1106,
          838,
          1029,
          830,
          852,
          848,
          743,
          858,
          656,
          562,
          676,
          549,
          470,
          507,
          417,
          476,
          473,
          487,
          498,
          605,
          464,
          483,
          415,
          336,
          346,
          526,
          464,
          431,
          500,
          317,
          396,
          415,
          527,
          521,
          647,
          477,
          487,
          554,
          486,
          699,
          685,
          736,
          0,
          1053,
          424,
          515,
          798,
          782,
          818,
          672,
          679,
          711,
          608,
          770,
          843,
          808,
          719,
          733,
          553,
          618,
          599,
          756,
          724,
          636,
          802,
          613,
          492,
          597,
          628,
          543,
          480,
          621,
          459,
          394,
          330,
          448,
          439,
          435,
          337,
          336,
          287,
          480,
          360,
          316,
          305,
          279,
          263,
          210,
          361,
          283,
          248,
          242,
          207,
          222,
          211,
          258,
          277,
          299,
          248,
          299,
          192,
          254,
          258,
          213,
          241,
          175,
          239,
          124,
          208,
          199,
          180,
          206,
          211,
          197,
          159,
          129,
          188,
          200,
          254,
          224,
          192,
          194,
          204,
          187,
          196,
          199,
          183,
          207,
          192,
          185,
          229,
          306,
          246,
          260,
          234,
          222,
          247,
          341,
          268,
          383,
          352,
          348,
          388,
          414,
          558,
          563,
          622,
          593,
          579,
          633,
          729,
          772,
          1071,
          808,
          1159,
          1043,
          1229,
          1027,
          1393,
          1305,
          1408,
          1510,
          1492,
          1818,
          1463,
          2013,
          2369,
          2470,
          2578,
          2644,
          2299,
          2254,
          2613,
          2661,
          3122,
          2805,
          2870,
          2868,
          2188,
          2944,
          3161,
          2873,
          2686,
          3006,
          2692,
          2905,
          2963,
          3070,
          3404,
          3239,
          3039,
          3451,
          2980,
          3302,
          4311,
          3891,
          4431,
          4900,
          4622,
          4656,
          4953,
          5450,
          6728,
          5663,
          6980,
          6276,
          5916,
          6904,
          6724,
          6063,
          7017,
          7280,
          6772,
          7514,
          7953,
          8841,
          8297,
          9042,
          8436,
          8549,
          8594,
          8271,
          8410,
          8035,
          6771,
          6950,
          6881,
          7066,
          6302,
          5469,
          5253,
          5297,
          5021,
          4481,
          4756,
          4004,
          3854,
          3706,
          3036,
          2584,
          2192,
          2149,
          2214,
          2144,
          2005,
          1878,
          1563,
          1269,
          1252,
          1393,
          1311,
          1201,
          961,
          956,
          622,
          628,
          675
         ]
        }
       ],
       "layout": {
        "template": {
         "data": {
          "bar": [
           {
            "error_x": {
             "color": "#2a3f5f"
            },
            "error_y": {
             "color": "#2a3f5f"
            },
            "marker": {
             "line": {
              "color": "#E5ECF6",
              "width": 0.5
             }
            },
            "type": "bar"
           }
          ],
          "barpolar": [
           {
            "marker": {
             "line": {
              "color": "#E5ECF6",
              "width": 0.5
             }
            },
            "type": "barpolar"
           }
          ],
          "carpet": [
           {
            "aaxis": {
             "endlinecolor": "#2a3f5f",
             "gridcolor": "white",
             "linecolor": "white",
             "minorgridcolor": "white",
             "startlinecolor": "#2a3f5f"
            },
            "baxis": {
             "endlinecolor": "#2a3f5f",
             "gridcolor": "white",
             "linecolor": "white",
             "minorgridcolor": "white",
             "startlinecolor": "#2a3f5f"
            },
            "type": "carpet"
           }
          ],
          "choropleth": [
           {
            "colorbar": {
             "outlinewidth": 0,
             "ticks": ""
            },
            "type": "choropleth"
           }
          ],
          "contour": [
           {
            "colorbar": {
             "outlinewidth": 0,
             "ticks": ""
            },
            "colorscale": [
             [
              0,
              "#0d0887"
             ],
             [
              0.1111111111111111,
              "#46039f"
             ],
             [
              0.2222222222222222,
              "#7201a8"
             ],
             [
              0.3333333333333333,
              "#9c179e"
             ],
             [
              0.4444444444444444,
              "#bd3786"
             ],
             [
              0.5555555555555556,
              "#d8576b"
             ],
             [
              0.6666666666666666,
              "#ed7953"
             ],
             [
              0.7777777777777778,
              "#fb9f3a"
             ],
             [
              0.8888888888888888,
              "#fdca26"
             ],
             [
              1,
              "#f0f921"
             ]
            ],
            "type": "contour"
           }
          ],
          "contourcarpet": [
           {
            "colorbar": {
             "outlinewidth": 0,
             "ticks": ""
            },
            "type": "contourcarpet"
           }
          ],
          "heatmap": [
           {
            "colorbar": {
             "outlinewidth": 0,
             "ticks": ""
            },
            "colorscale": [
             [
              0,
              "#0d0887"
             ],
             [
              0.1111111111111111,
              "#46039f"
             ],
             [
              0.2222222222222222,
              "#7201a8"
             ],
             [
              0.3333333333333333,
              "#9c179e"
             ],
             [
              0.4444444444444444,
              "#bd3786"
             ],
             [
              0.5555555555555556,
              "#d8576b"
             ],
             [
              0.6666666666666666,
              "#ed7953"
             ],
             [
              0.7777777777777778,
              "#fb9f3a"
             ],
             [
              0.8888888888888888,
              "#fdca26"
             ],
             [
              1,
              "#f0f921"
             ]
            ],
            "type": "heatmap"
           }
          ],
          "heatmapgl": [
           {
            "colorbar": {
             "outlinewidth": 0,
             "ticks": ""
            },
            "colorscale": [
             [
              0,
              "#0d0887"
             ],
             [
              0.1111111111111111,
              "#46039f"
             ],
             [
              0.2222222222222222,
              "#7201a8"
             ],
             [
              0.3333333333333333,
              "#9c179e"
             ],
             [
              0.4444444444444444,
              "#bd3786"
             ],
             [
              0.5555555555555556,
              "#d8576b"
             ],
             [
              0.6666666666666666,
              "#ed7953"
             ],
             [
              0.7777777777777778,
              "#fb9f3a"
             ],
             [
              0.8888888888888888,
              "#fdca26"
             ],
             [
              1,
              "#f0f921"
             ]
            ],
            "type": "heatmapgl"
           }
          ],
          "histogram": [
           {
            "marker": {
             "colorbar": {
              "outlinewidth": 0,
              "ticks": ""
             }
            },
            "type": "histogram"
           }
          ],
          "histogram2d": [
           {
            "colorbar": {
             "outlinewidth": 0,
             "ticks": ""
            },
            "colorscale": [
             [
              0,
              "#0d0887"
             ],
             [
              0.1111111111111111,
              "#46039f"
             ],
             [
              0.2222222222222222,
              "#7201a8"
             ],
             [
              0.3333333333333333,
              "#9c179e"
             ],
             [
              0.4444444444444444,
              "#bd3786"
             ],
             [
              0.5555555555555556,
              "#d8576b"
             ],
             [
              0.6666666666666666,
              "#ed7953"
             ],
             [
              0.7777777777777778,
              "#fb9f3a"
             ],
             [
              0.8888888888888888,
              "#fdca26"
             ],
             [
              1,
              "#f0f921"
             ]
            ],
            "type": "histogram2d"
           }
          ],
          "histogram2dcontour": [
           {
            "colorbar": {
             "outlinewidth": 0,
             "ticks": ""
            },
            "colorscale": [
             [
              0,
              "#0d0887"
             ],
             [
              0.1111111111111111,
              "#46039f"
             ],
             [
              0.2222222222222222,
              "#7201a8"
             ],
             [
              0.3333333333333333,
              "#9c179e"
             ],
             [
              0.4444444444444444,
              "#bd3786"
             ],
             [
              0.5555555555555556,
              "#d8576b"
             ],
             [
              0.6666666666666666,
              "#ed7953"
             ],
             [
              0.7777777777777778,
              "#fb9f3a"
             ],
             [
              0.8888888888888888,
              "#fdca26"
             ],
             [
              1,
              "#f0f921"
             ]
            ],
            "type": "histogram2dcontour"
           }
          ],
          "mesh3d": [
           {
            "colorbar": {
             "outlinewidth": 0,
             "ticks": ""
            },
            "type": "mesh3d"
           }
          ],
          "parcoords": [
           {
            "line": {
             "colorbar": {
              "outlinewidth": 0,
              "ticks": ""
             }
            },
            "type": "parcoords"
           }
          ],
          "pie": [
           {
            "automargin": true,
            "type": "pie"
           }
          ],
          "scatter": [
           {
            "marker": {
             "colorbar": {
              "outlinewidth": 0,
              "ticks": ""
             }
            },
            "type": "scatter"
           }
          ],
          "scatter3d": [
           {
            "line": {
             "colorbar": {
              "outlinewidth": 0,
              "ticks": ""
             }
            },
            "marker": {
             "colorbar": {
              "outlinewidth": 0,
              "ticks": ""
             }
            },
            "type": "scatter3d"
           }
          ],
          "scattercarpet": [
           {
            "marker": {
             "colorbar": {
              "outlinewidth": 0,
              "ticks": ""
             }
            },
            "type": "scattercarpet"
           }
          ],
          "scattergeo": [
           {
            "marker": {
             "colorbar": {
              "outlinewidth": 0,
              "ticks": ""
             }
            },
            "type": "scattergeo"
           }
          ],
          "scattergl": [
           {
            "marker": {
             "colorbar": {
              "outlinewidth": 0,
              "ticks": ""
             }
            },
            "type": "scattergl"
           }
          ],
          "scattermapbox": [
           {
            "marker": {
             "colorbar": {
              "outlinewidth": 0,
              "ticks": ""
             }
            },
            "type": "scattermapbox"
           }
          ],
          "scatterpolar": [
           {
            "marker": {
             "colorbar": {
              "outlinewidth": 0,
              "ticks": ""
             }
            },
            "type": "scatterpolar"
           }
          ],
          "scatterpolargl": [
           {
            "marker": {
             "colorbar": {
              "outlinewidth": 0,
              "ticks": ""
             }
            },
            "type": "scatterpolargl"
           }
          ],
          "scatterternary": [
           {
            "marker": {
             "colorbar": {
              "outlinewidth": 0,
              "ticks": ""
             }
            },
            "type": "scatterternary"
           }
          ],
          "surface": [
           {
            "colorbar": {
             "outlinewidth": 0,
             "ticks": ""
            },
            "colorscale": [
             [
              0,
              "#0d0887"
             ],
             [
              0.1111111111111111,
              "#46039f"
             ],
             [
              0.2222222222222222,
              "#7201a8"
             ],
             [
              0.3333333333333333,
              "#9c179e"
             ],
             [
              0.4444444444444444,
              "#bd3786"
             ],
             [
              0.5555555555555556,
              "#d8576b"
             ],
             [
              0.6666666666666666,
              "#ed7953"
             ],
             [
              0.7777777777777778,
              "#fb9f3a"
             ],
             [
              0.8888888888888888,
              "#fdca26"
             ],
             [
              1,
              "#f0f921"
             ]
            ],
            "type": "surface"
           }
          ],
          "table": [
           {
            "cells": {
             "fill": {
              "color": "#EBF0F8"
             },
             "line": {
              "color": "white"
             }
            },
            "header": {
             "fill": {
              "color": "#C8D4E3"
             },
             "line": {
              "color": "white"
             }
            },
            "type": "table"
           }
          ]
         },
         "layout": {
          "annotationdefaults": {
           "arrowcolor": "#2a3f5f",
           "arrowhead": 0,
           "arrowwidth": 1
          },
          "coloraxis": {
           "colorbar": {
            "outlinewidth": 0,
            "ticks": ""
           }
          },
          "colorscale": {
           "diverging": [
            [
             0,
             "#8e0152"
            ],
            [
             0.1,
             "#c51b7d"
            ],
            [
             0.2,
             "#de77ae"
            ],
            [
             0.3,
             "#f1b6da"
            ],
            [
             0.4,
             "#fde0ef"
            ],
            [
             0.5,
             "#f7f7f7"
            ],
            [
             0.6,
             "#e6f5d0"
            ],
            [
             0.7,
             "#b8e186"
            ],
            [
             0.8,
             "#7fbc41"
            ],
            [
             0.9,
             "#4d9221"
            ],
            [
             1,
             "#276419"
            ]
           ],
           "sequential": [
            [
             0,
             "#0d0887"
            ],
            [
             0.1111111111111111,
             "#46039f"
            ],
            [
             0.2222222222222222,
             "#7201a8"
            ],
            [
             0.3333333333333333,
             "#9c179e"
            ],
            [
             0.4444444444444444,
             "#bd3786"
            ],
            [
             0.5555555555555556,
             "#d8576b"
            ],
            [
             0.6666666666666666,
             "#ed7953"
            ],
            [
             0.7777777777777778,
             "#fb9f3a"
            ],
            [
             0.8888888888888888,
             "#fdca26"
            ],
            [
             1,
             "#f0f921"
            ]
           ],
           "sequentialminus": [
            [
             0,
             "#0d0887"
            ],
            [
             0.1111111111111111,
             "#46039f"
            ],
            [
             0.2222222222222222,
             "#7201a8"
            ],
            [
             0.3333333333333333,
             "#9c179e"
            ],
            [
             0.4444444444444444,
             "#bd3786"
            ],
            [
             0.5555555555555556,
             "#d8576b"
            ],
            [
             0.6666666666666666,
             "#ed7953"
            ],
            [
             0.7777777777777778,
             "#fb9f3a"
            ],
            [
             0.8888888888888888,
             "#fdca26"
            ],
            [
             1,
             "#f0f921"
            ]
           ]
          },
          "colorway": [
           "#636efa",
           "#EF553B",
           "#00cc96",
           "#ab63fa",
           "#FFA15A",
           "#19d3f3",
           "#FF6692",
           "#B6E880",
           "#FF97FF",
           "#FECB52"
          ],
          "font": {
           "color": "#2a3f5f"
          },
          "geo": {
           "bgcolor": "white",
           "lakecolor": "white",
           "landcolor": "#E5ECF6",
           "showlakes": true,
           "showland": true,
           "subunitcolor": "white"
          },
          "hoverlabel": {
           "align": "left"
          },
          "hovermode": "closest",
          "mapbox": {
           "style": "light"
          },
          "paper_bgcolor": "white",
          "plot_bgcolor": "#E5ECF6",
          "polar": {
           "angularaxis": {
            "gridcolor": "white",
            "linecolor": "white",
            "ticks": ""
           },
           "bgcolor": "#E5ECF6",
           "radialaxis": {
            "gridcolor": "white",
            "linecolor": "white",
            "ticks": ""
           }
          },
          "scene": {
           "xaxis": {
            "backgroundcolor": "#E5ECF6",
            "gridcolor": "white",
            "gridwidth": 2,
            "linecolor": "white",
            "showbackground": true,
            "ticks": "",
            "zerolinecolor": "white"
           },
           "yaxis": {
            "backgroundcolor": "#E5ECF6",
            "gridcolor": "white",
            "gridwidth": 2,
            "linecolor": "white",
            "showbackground": true,
            "ticks": "",
            "zerolinecolor": "white"
           },
           "zaxis": {
            "backgroundcolor": "#E5ECF6",
            "gridcolor": "white",
            "gridwidth": 2,
            "linecolor": "white",
            "showbackground": true,
            "ticks": "",
            "zerolinecolor": "white"
           }
          },
          "shapedefaults": {
           "line": {
            "color": "#2a3f5f"
           }
          },
          "ternary": {
           "aaxis": {
            "gridcolor": "white",
            "linecolor": "white",
            "ticks": ""
           },
           "baxis": {
            "gridcolor": "white",
            "linecolor": "white",
            "ticks": ""
           },
           "bgcolor": "#E5ECF6",
           "caxis": {
            "gridcolor": "white",
            "linecolor": "white",
            "ticks": ""
           }
          },
          "title": {
           "x": 0.05
          },
          "xaxis": {
           "automargin": true,
           "gridcolor": "white",
           "linecolor": "white",
           "ticks": "",
           "title": {
            "standoff": 15
           },
           "zerolinecolor": "white",
           "zerolinewidth": 2
          },
          "yaxis": {
           "automargin": true,
           "gridcolor": "white",
           "linecolor": "white",
           "ticks": "",
           "title": {
            "standoff": 15
           },
           "zerolinecolor": "white",
           "zerolinewidth": 2
          }
         }
        },
        "title": {
         "text": "Dail Confirm INDIA TOTAL"
        }
       }
      },
      "text/html": [
       "<div>                            <div id=\"3412e009-606b-42b3-ad1b-1642bd5f1210\" class=\"plotly-graph-div\" style=\"height:525px; width:100%;\"></div>            <script type=\"text/javascript\">                require([\"plotly\"], function(Plotly) {                    window.PLOTLYENV=window.PLOTLYENV || {};                                    if (document.getElementById(\"3412e009-606b-42b3-ad1b-1642bd5f1210\")) {                    Plotly.newPlot(                        \"3412e009-606b-42b3-ad1b-1642bd5f1210\",                        [{\"name\": \"daily confirmed cases TOTAL\", \"type\": \"scatter\", \"x\": [\"14-Mar-20\", \"15-Mar-20\", \"16-Mar-20\", \"17-Mar-20\", \"18-Mar-20\", \"19-Mar-20\", \"20-Mar-20\", \"21-Mar-20\", \"22-Mar-20\", \"23-Mar-20\", \"24-Mar-20\", \"25-Mar-20\", \"26-Mar-20\", \"27-Mar-20\", \"28-Mar-20\", \"29-Mar-20\", \"30-Mar-20\", \"31-Mar-20\", \"01-Apr-20\", \"02-Apr-20\", \"03-Apr-20\", \"04-Apr-20\", \"05-Apr-20\", \"06-Apr-20\", \"07-Apr-20\", \"08-Apr-20\", \"09-Apr-20\", \"10-Apr-20\", \"11-Apr-20\", \"12-Apr-20\", \"13-Apr-20\", \"14-Apr-20\", \"15-Apr-20\", \"16-Apr-20\", \"17-Apr-20\", \"18-Apr-20\", \"19-Apr-20\", \"20-Apr-20\", \"21-Apr-20\", \"22-Apr-20\", \"23-Apr-20\", \"24-Apr-20\", \"25-Apr-20\", \"26-Apr-20\", \"27-Apr-20\", \"28-Apr-20\", \"29-Apr-20\", \"30-Apr-20\", \"01-May-20\", \"02-May-20\", \"03-May-20\", \"04-May-20\", \"05-May-20\", \"06-May-20\", \"07-May-20\", \"08-May-20\", \"09-May-20\", \"10-May-20\", \"11-May-20\", \"12-May-20\", \"13-May-20\", \"14-May-20\", \"15-May-20\", \"16-May-20\", \"17-May-20\", \"18-May-20\", \"19-May-20\", \"20-May-20\", \"21-May-20\", \"22-May-20\", \"23-May-20\", \"24-May-20\", \"25-May-20\", \"26-May-20\", \"27-May-20\", \"28-May-20\", \"29-May-20\", \"30-May-20\", \"31-May-20\", \"01-Jun-20\", \"02-Jun-20\", \"03-Jun-20\", \"04-Jun-20\", \"05-Jun-20\", \"06-Jun-20\", \"07-Jun-20\", \"08-Jun-20\", \"09-Jun-20\", \"10-Jun-20\", \"11-Jun-20\", \"12-Jun-20\", \"13-Jun-20\", \"14-Jun-20\", \"15-Jun-20\", \"16-Jun-20\", \"17-Jun-20\", \"18-Jun-20\", \"19-Jun-20\", \"20-Jun-20\", \"21-Jun-20\", \"22-Jun-20\", \"23-Jun-20\", \"24-Jun-20\", \"25-Jun-20\", \"26-Jun-20\", \"27-Jun-20\", \"28-Jun-20\", \"29-Jun-20\", \"30-Jun-20\", \"01-Jul-20\", \"02-Jul-20\", \"03-Jul-20\", \"04-Jul-20\", \"05-Jul-20\", \"06-Jul-20\", \"07-Jul-20\", \"08-Jul-20\", \"09-Jul-20\", \"10-Jul-20\", \"11-Jul-20\", \"12-Jul-20\", \"13-Jul-20\", \"14-Jul-20\", \"15-Jul-20\", \"16-Jul-20\", \"17-Jul-20\", \"18-Jul-20\", \"19-Jul-20\", \"20-Jul-20\", \"21-Jul-20\", \"22-Jul-20\", \"23-Jul-20\", \"24-Jul-20\", \"25-Jul-20\", \"26-Jul-20\", \"27-Jul-20\", \"28-Jul-20\", \"29-Jul-20\", \"30-Jul-20\", \"31-Jul-20\", \"01-Aug-20\", \"02-Aug-20\", \"03-Aug-20\", \"04-Aug-20\", \"05-Aug-20\", \"06-Aug-20\", \"07-Aug-20\", \"08-Aug-20\", \"09-Aug-20\", \"10-Aug-20\", \"11-Aug-20\", \"12-Aug-20\", \"13-Aug-20\", \"14-Aug-20\", \"15-Aug-20\", \"16-Aug-20\", \"17-Aug-20\", \"18-Aug-20\", \"19-Aug-20\", \"20-Aug-20\", \"21-Aug-20\", \"22-Aug-20\", \"23-Aug-20\", \"24-Aug-20\", \"25-Aug-20\", \"26-Aug-20\", \"27-Aug-20\", \"28-Aug-20\", \"29-Aug-20\", \"30-Aug-20\", \"31-Aug-20\", \"01-Sep-20\", \"02-Sep-20\", \"03-Sep-20\", \"04-Sep-20\", \"05-Sep-20\", \"06-Sep-20\", \"07-Sep-20\", \"08-Sep-20\", \"09-Sep-20\", \"10-Sep-20\", \"11-Sep-20\", \"12-Sep-20\", \"13-Sep-20\", \"14-Sep-20\", \"15-Sep-20\", \"16-Sep-20\", \"17-Sep-20\", \"18-Sep-20\", \"19-Sep-20\", \"20-Sep-20\", \"21-Sep-20\", \"22-Sep-20\", \"23-Sep-20\", \"24-Sep-20\", \"25-Sep-20\", \"26-Sep-20\", \"27-Sep-20\", \"28-Sep-20\", \"29-Sep-20\", \"30-Sep-20\", \"01-Oct-20\", \"02-Oct-20\", \"03-Oct-20\", \"04-Oct-20\", \"05-Oct-20\", \"06-Oct-20\", \"07-Oct-20\", \"08-Oct-20\", \"09-Oct-20\", \"10-Oct-20\", \"11-Oct-20\", \"12-Oct-20\", \"13-Oct-20\", \"14-Oct-20\", \"15-Oct-20\", \"16-Oct-20\", \"17-Oct-20\", \"18-Oct-20\", \"19-Oct-20\", \"20-Oct-20\", \"21-Oct-20\", \"22-Oct-20\", \"23-Oct-20\", \"24-Oct-20\", \"25-Oct-20\", \"26-Oct-20\", \"27-Oct-20\", \"28-Oct-20\", \"29-Oct-20\", \"30-Oct-20\", \"31-Oct-20\", \"01-Nov-20\", \"02-Nov-20\", \"03-Nov-20\", \"04-Nov-20\", \"05-Nov-20\", \"06-Nov-20\", \"07-Nov-20\", \"08-Nov-20\", \"09-Nov-20\", \"10-Nov-20\", \"11-Nov-20\", \"12-Nov-20\", \"13-Nov-20\", \"14-Nov-20\", \"15-Nov-20\", \"16-Nov-20\", \"17-Nov-20\", \"18-Nov-20\", \"19-Nov-20\", \"20-Nov-20\", \"21-Nov-20\", \"22-Nov-20\", \"23-Nov-20\", \"24-Nov-20\", \"25-Nov-20\", \"26-Nov-20\", \"27-Nov-20\", \"28-Nov-20\", \"29-Nov-20\", \"30-Nov-20\", \"01-Dec-20\", \"02-Dec-20\", \"03-Dec-20\", \"04-Dec-20\", \"05-Dec-20\", \"06-Dec-20\", \"07-Dec-20\", \"08-Dec-20\", \"09-Dec-20\", \"10-Dec-20\", \"11-Dec-20\", \"12-Dec-20\", \"13-Dec-20\", \"14-Dec-20\", \"15-Dec-20\", \"16-Dec-20\", \"17-Dec-20\", \"18-Dec-20\", \"19-Dec-20\", \"20-Dec-20\", \"21-Dec-20\", \"22-Dec-20\", \"23-Dec-20\", \"24-Dec-20\", \"25-Dec-20\", \"26-Dec-20\", \"27-Dec-20\", \"28-Dec-20\", \"29-Dec-20\", \"30-Dec-20\", \"31-Dec-20\", \"01-Jan-21\", \"02-Jan-21\", \"03-Jan-21\", \"04-Jan-21\", \"05-Jan-21\", \"06-Jan-21\", \"07-Jan-21\", \"08-Jan-21\", \"09-Jan-21\", \"10-Jan-21\", \"11-Jan-21\", \"12-Jan-21\", \"13-Jan-21\", \"14-Jan-21\", \"15-Jan-21\", \"16-Jan-21\", \"17-Jan-21\", \"18-Jan-21\", \"19-Jan-21\", \"20-Jan-21\", \"21-Jan-21\", \"22-Jan-21\", \"23-Jan-21\", \"24-Jan-21\", \"25-Jan-21\", \"26-Jan-21\", \"27-Jan-21\", \"28-Jan-21\", \"29-Jan-21\", \"30-Jan-21\", \"31-Jan-21\", \"01-Feb-21\", \"02-Feb-21\", \"03-Feb-21\", \"04-Feb-21\", \"05-Feb-21\", \"06-Feb-21\", \"07-Feb-21\", \"08-Feb-21\", \"09-Feb-21\", \"10-Feb-21\", \"11-Feb-21\", \"12-Feb-21\", \"13-Feb-21\", \"14-Feb-21\", \"15-Feb-21\", \"16-Feb-21\", \"17-Feb-21\", \"18-Feb-21\", \"19-Feb-21\", \"20-Feb-21\", \"21-Feb-21\", \"22-Feb-21\", \"23-Feb-21\", \"24-Feb-21\", \"25-Feb-21\", \"26-Feb-21\", \"27-Feb-21\", \"28-Feb-21\", \"01-Mar-21\", \"02-Mar-21\", \"03-Mar-21\", \"04-Mar-21\", \"05-Mar-21\", \"06-Mar-21\", \"07-Mar-21\", \"08-Mar-21\", \"09-Mar-21\", \"10-Mar-21\", \"11-Mar-21\", \"12-Mar-21\", \"13-Mar-21\", \"14-Mar-21\", \"15-Mar-21\", \"16-Mar-21\", \"17-Mar-21\", \"18-Mar-21\", \"19-Mar-21\", \"20-Mar-21\", \"21-Mar-21\", \"22-Mar-21\", \"23-Mar-21\", \"24-Mar-21\", \"25-Mar-21\", \"26-Mar-21\", \"27-Mar-21\", \"28-Mar-21\", \"29-Mar-21\", \"30-Mar-21\", \"31-Mar-21\", \"01-Apr-21\", \"02-Apr-21\", \"03-Apr-21\", \"04-Apr-21\", \"05-Apr-21\", \"06-Apr-21\", \"07-Apr-21\", \"08-Apr-21\", \"09-Apr-21\", \"10-Apr-21\", \"11-Apr-21\", \"12-Apr-21\", \"13-Apr-21\", \"14-Apr-21\", \"15-Apr-21\", \"16-Apr-21\", \"17-Apr-21\", \"18-Apr-21\", \"19-Apr-21\", \"20-Apr-21\", \"21-Apr-21\", \"22-Apr-21\", \"23-Apr-21\", \"24-Apr-21\", \"25-Apr-21\", \"26-Apr-21\", \"27-Apr-21\", \"28-Apr-21\", \"29-Apr-21\", \"30-Apr-21\", \"01-May-21\", \"02-May-21\", \"03-May-21\", \"04-May-21\", \"05-May-21\", \"06-May-21\", \"07-May-21\", \"08-May-21\", \"09-May-21\", \"10-May-21\", \"11-May-21\", \"12-May-21\", \"13-May-21\", \"14-May-21\", \"15-May-21\", \"16-May-21\", \"17-May-21\", \"18-May-21\", \"19-May-21\", \"20-May-21\", \"21-May-21\", \"22-May-21\", \"23-May-21\", \"24-May-21\", \"25-May-21\", \"26-May-21\", \"27-May-21\", \"28-May-21\", \"29-May-21\", \"30-May-21\", \"31-May-21\", \"01-Jun-21\", \"02-Jun-21\", \"03-Jun-21\", \"04-Jun-21\", \"05-Jun-21\", \"06-Jun-21\", \"07-Jun-21\", \"08-Jun-21\", \"09-Jun-21\", \"10-Jun-21\", \"11-Jun-21\", \"12-Jun-21\", \"13-Jun-21\", \"14-Jun-21\", \"15-Jun-21\", \"16-Jun-21\"], \"y\": [1, 0, 0, 0, 1, 0, 1, 10, 8, 2, 6, 2, 2, 5, 0, 0, 3, 1, 4, 1, 6, 12, 3, 11, 20, 7, 24, 21, 7, 12, 6, 8, 2, 11, 14, 23, 10, 1, 6, 27, 5, 15, 10, 14, 8, 12, 33, 105, 105, 187, 330, 130, 219, 75, 118, 87, 31, 61, 54, 37, 10, 11, -3, 14, 18, 16, 22, 3, 23, 1, 16, 15, 21, 25, 33, 19, 39, 36, 30, 38, 41, 34, 39, 46, 54, 93, 55, 56, 86, 82, 99, 77, 77, 127, 104, 126, 118, 217, 120, 122, 161, 162, 230, 142, 188, 99, 160, 202, 150, 100, 116, 153, 172, 174, 208, 258, 158, 233, 217, 230, 234, 357, 333, 288, 295, 348, 350, 308, 410, 379, 412, 438, 477, 468, 534, 551, 609, 568, 510, 663, 944, 790, 674, 488, 841, 1035, 1039, 998, 975, 986, 1000, 1020, 1027, 1077, 1028, 1165, 1489, 1705, 1683, 1741, 1503, 1316, 1136, 1505, 1293, 1513, 1746, 1542, 1470, 1678, 1466, 1516, 1481, 1526, 1498, 1514, 1946, 2110, 1964, 2137, 2459, 2473, 2441, 2622, 2421, 2382, 2702, 2848, 2774, 2723, 2160, 2241, 1411, 2123, 1756, 1876, 1588, 1422, 1269, 1085, 1426, 1265, 1062, 1106, 838, 1029, 830, 852, 848, 743, 858, 656, 562, 676, 549, 470, 507, 417, 476, 473, 487, 498, 605, 464, 483, 415, 336, 346, 526, 464, 431, 500, 317, 396, 415, 527, 521, 647, 477, 487, 554, 486, 699, 685, 736, 0, 1053, 424, 515, 798, 782, 818, 672, 679, 711, 608, 770, 843, 808, 719, 733, 553, 618, 599, 756, 724, 636, 802, 613, 492, 597, 628, 543, 480, 621, 459, 394, 330, 448, 439, 435, 337, 336, 287, 480, 360, 316, 305, 279, 263, 210, 361, 283, 248, 242, 207, 222, 211, 258, 277, 299, 248, 299, 192, 254, 258, 213, 241, 175, 239, 124, 208, 199, 180, 206, 211, 197, 159, 129, 188, 200, 254, 224, 192, 194, 204, 187, 196, 199, 183, 207, 192, 185, 229, 306, 246, 260, 234, 222, 247, 341, 268, 383, 352, 348, 388, 414, 558, 563, 622, 593, 579, 633, 729, 772, 1071, 808, 1159, 1043, 1229, 1027, 1393, 1305, 1408, 1510, 1492, 1818, 1463, 2013, 2369, 2470, 2578, 2644, 2299, 2254, 2613, 2661, 3122, 2805, 2870, 2868, 2188, 2944, 3161, 2873, 2686, 3006, 2692, 2905, 2963, 3070, 3404, 3239, 3039, 3451, 2980, 3302, 4311, 3891, 4431, 4900, 4622, 4656, 4953, 5450, 6728, 5663, 6980, 6276, 5916, 6904, 6724, 6063, 7017, 7280, 6772, 7514, 7953, 8841, 8297, 9042, 8436, 8549, 8594, 8271, 8410, 8035, 6771, 6950, 6881, 7066, 6302, 5469, 5253, 5297, 5021, 4481, 4756, 4004, 3854, 3706, 3036, 2584, 2192, 2149, 2214, 2144, 2005, 1878, 1563, 1269, 1252, 1393, 1311, 1201, 961, 956, 622, 628, 675]}],                        {\"template\": {\"data\": {\"bar\": [{\"error_x\": {\"color\": \"#2a3f5f\"}, \"error_y\": {\"color\": \"#2a3f5f\"}, \"marker\": {\"line\": {\"color\": \"#E5ECF6\", \"width\": 0.5}}, \"type\": \"bar\"}], \"barpolar\": [{\"marker\": {\"line\": {\"color\": \"#E5ECF6\", \"width\": 0.5}}, \"type\": \"barpolar\"}], \"carpet\": [{\"aaxis\": {\"endlinecolor\": \"#2a3f5f\", \"gridcolor\": \"white\", \"linecolor\": \"white\", \"minorgridcolor\": \"white\", \"startlinecolor\": \"#2a3f5f\"}, \"baxis\": {\"endlinecolor\": \"#2a3f5f\", \"gridcolor\": \"white\", \"linecolor\": \"white\", \"minorgridcolor\": \"white\", \"startlinecolor\": \"#2a3f5f\"}, \"type\": \"carpet\"}], \"choropleth\": [{\"colorbar\": {\"outlinewidth\": 0, \"ticks\": \"\"}, \"type\": \"choropleth\"}], \"contour\": [{\"colorbar\": {\"outlinewidth\": 0, \"ticks\": \"\"}, \"colorscale\": [[0.0, \"#0d0887\"], [0.1111111111111111, \"#46039f\"], [0.2222222222222222, \"#7201a8\"], [0.3333333333333333, \"#9c179e\"], [0.4444444444444444, \"#bd3786\"], [0.5555555555555556, \"#d8576b\"], [0.6666666666666666, \"#ed7953\"], [0.7777777777777778, \"#fb9f3a\"], [0.8888888888888888, \"#fdca26\"], [1.0, \"#f0f921\"]], \"type\": \"contour\"}], \"contourcarpet\": [{\"colorbar\": {\"outlinewidth\": 0, \"ticks\": \"\"}, \"type\": \"contourcarpet\"}], \"heatmap\": [{\"colorbar\": {\"outlinewidth\": 0, \"ticks\": \"\"}, \"colorscale\": [[0.0, \"#0d0887\"], [0.1111111111111111, \"#46039f\"], [0.2222222222222222, \"#7201a8\"], [0.3333333333333333, \"#9c179e\"], [0.4444444444444444, \"#bd3786\"], [0.5555555555555556, \"#d8576b\"], [0.6666666666666666, \"#ed7953\"], [0.7777777777777778, \"#fb9f3a\"], [0.8888888888888888, \"#fdca26\"], [1.0, \"#f0f921\"]], \"type\": \"heatmap\"}], \"heatmapgl\": [{\"colorbar\": {\"outlinewidth\": 0, \"ticks\": \"\"}, \"colorscale\": [[0.0, \"#0d0887\"], [0.1111111111111111, \"#46039f\"], [0.2222222222222222, \"#7201a8\"], [0.3333333333333333, \"#9c179e\"], [0.4444444444444444, \"#bd3786\"], [0.5555555555555556, \"#d8576b\"], [0.6666666666666666, \"#ed7953\"], [0.7777777777777778, \"#fb9f3a\"], [0.8888888888888888, \"#fdca26\"], [1.0, \"#f0f921\"]], \"type\": \"heatmapgl\"}], \"histogram\": [{\"marker\": {\"colorbar\": {\"outlinewidth\": 0, \"ticks\": \"\"}}, \"type\": \"histogram\"}], \"histogram2d\": [{\"colorbar\": {\"outlinewidth\": 0, \"ticks\": \"\"}, \"colorscale\": [[0.0, \"#0d0887\"], [0.1111111111111111, \"#46039f\"], [0.2222222222222222, \"#7201a8\"], [0.3333333333333333, \"#9c179e\"], [0.4444444444444444, \"#bd3786\"], [0.5555555555555556, \"#d8576b\"], [0.6666666666666666, \"#ed7953\"], [0.7777777777777778, \"#fb9f3a\"], [0.8888888888888888, \"#fdca26\"], [1.0, \"#f0f921\"]], \"type\": \"histogram2d\"}], \"histogram2dcontour\": [{\"colorbar\": {\"outlinewidth\": 0, \"ticks\": \"\"}, \"colorscale\": [[0.0, \"#0d0887\"], [0.1111111111111111, \"#46039f\"], [0.2222222222222222, \"#7201a8\"], [0.3333333333333333, \"#9c179e\"], [0.4444444444444444, \"#bd3786\"], [0.5555555555555556, \"#d8576b\"], [0.6666666666666666, \"#ed7953\"], [0.7777777777777778, \"#fb9f3a\"], [0.8888888888888888, \"#fdca26\"], [1.0, \"#f0f921\"]], \"type\": \"histogram2dcontour\"}], \"mesh3d\": [{\"colorbar\": {\"outlinewidth\": 0, \"ticks\": \"\"}, \"type\": \"mesh3d\"}], \"parcoords\": [{\"line\": {\"colorbar\": {\"outlinewidth\": 0, \"ticks\": \"\"}}, \"type\": \"parcoords\"}], \"pie\": [{\"automargin\": true, \"type\": \"pie\"}], \"scatter\": [{\"marker\": {\"colorbar\": {\"outlinewidth\": 0, \"ticks\": \"\"}}, \"type\": \"scatter\"}], \"scatter3d\": [{\"line\": {\"colorbar\": {\"outlinewidth\": 0, \"ticks\": \"\"}}, \"marker\": {\"colorbar\": {\"outlinewidth\": 0, \"ticks\": \"\"}}, \"type\": \"scatter3d\"}], \"scattercarpet\": [{\"marker\": {\"colorbar\": {\"outlinewidth\": 0, \"ticks\": \"\"}}, \"type\": \"scattercarpet\"}], \"scattergeo\": [{\"marker\": {\"colorbar\": {\"outlinewidth\": 0, \"ticks\": \"\"}}, \"type\": \"scattergeo\"}], \"scattergl\": [{\"marker\": {\"colorbar\": {\"outlinewidth\": 0, \"ticks\": \"\"}}, \"type\": \"scattergl\"}], \"scattermapbox\": [{\"marker\": {\"colorbar\": {\"outlinewidth\": 0, \"ticks\": \"\"}}, \"type\": \"scattermapbox\"}], \"scatterpolar\": [{\"marker\": {\"colorbar\": {\"outlinewidth\": 0, \"ticks\": \"\"}}, \"type\": \"scatterpolar\"}], \"scatterpolargl\": [{\"marker\": {\"colorbar\": {\"outlinewidth\": 0, \"ticks\": \"\"}}, \"type\": \"scatterpolargl\"}], \"scatterternary\": [{\"marker\": {\"colorbar\": {\"outlinewidth\": 0, \"ticks\": \"\"}}, \"type\": \"scatterternary\"}], \"surface\": [{\"colorbar\": {\"outlinewidth\": 0, \"ticks\": \"\"}, \"colorscale\": [[0.0, \"#0d0887\"], [0.1111111111111111, \"#46039f\"], [0.2222222222222222, \"#7201a8\"], [0.3333333333333333, \"#9c179e\"], [0.4444444444444444, \"#bd3786\"], [0.5555555555555556, \"#d8576b\"], [0.6666666666666666, \"#ed7953\"], [0.7777777777777778, \"#fb9f3a\"], [0.8888888888888888, \"#fdca26\"], [1.0, \"#f0f921\"]], \"type\": \"surface\"}], \"table\": [{\"cells\": {\"fill\": {\"color\": \"#EBF0F8\"}, \"line\": {\"color\": \"white\"}}, \"header\": {\"fill\": {\"color\": \"#C8D4E3\"}, \"line\": {\"color\": \"white\"}}, \"type\": \"table\"}]}, \"layout\": {\"annotationdefaults\": {\"arrowcolor\": \"#2a3f5f\", \"arrowhead\": 0, \"arrowwidth\": 1}, \"coloraxis\": {\"colorbar\": {\"outlinewidth\": 0, \"ticks\": \"\"}}, \"colorscale\": {\"diverging\": [[0, \"#8e0152\"], [0.1, \"#c51b7d\"], [0.2, \"#de77ae\"], [0.3, \"#f1b6da\"], [0.4, \"#fde0ef\"], [0.5, \"#f7f7f7\"], [0.6, \"#e6f5d0\"], [0.7, \"#b8e186\"], [0.8, \"#7fbc41\"], [0.9, \"#4d9221\"], [1, \"#276419\"]], \"sequential\": [[0.0, \"#0d0887\"], [0.1111111111111111, \"#46039f\"], [0.2222222222222222, \"#7201a8\"], [0.3333333333333333, \"#9c179e\"], [0.4444444444444444, \"#bd3786\"], [0.5555555555555556, \"#d8576b\"], [0.6666666666666666, \"#ed7953\"], [0.7777777777777778, \"#fb9f3a\"], [0.8888888888888888, \"#fdca26\"], [1.0, \"#f0f921\"]], \"sequentialminus\": [[0.0, \"#0d0887\"], [0.1111111111111111, \"#46039f\"], [0.2222222222222222, \"#7201a8\"], [0.3333333333333333, \"#9c179e\"], [0.4444444444444444, \"#bd3786\"], [0.5555555555555556, \"#d8576b\"], [0.6666666666666666, \"#ed7953\"], [0.7777777777777778, \"#fb9f3a\"], [0.8888888888888888, \"#fdca26\"], [1.0, \"#f0f921\"]]}, \"colorway\": [\"#636efa\", \"#EF553B\", \"#00cc96\", \"#ab63fa\", \"#FFA15A\", \"#19d3f3\", \"#FF6692\", \"#B6E880\", \"#FF97FF\", \"#FECB52\"], \"font\": {\"color\": \"#2a3f5f\"}, \"geo\": {\"bgcolor\": \"white\", \"lakecolor\": \"white\", \"landcolor\": \"#E5ECF6\", \"showlakes\": true, \"showland\": true, \"subunitcolor\": \"white\"}, \"hoverlabel\": {\"align\": \"left\"}, \"hovermode\": \"closest\", \"mapbox\": {\"style\": \"light\"}, \"paper_bgcolor\": \"white\", \"plot_bgcolor\": \"#E5ECF6\", \"polar\": {\"angularaxis\": {\"gridcolor\": \"white\", \"linecolor\": \"white\", \"ticks\": \"\"}, \"bgcolor\": \"#E5ECF6\", \"radialaxis\": {\"gridcolor\": \"white\", \"linecolor\": \"white\", \"ticks\": \"\"}}, \"scene\": {\"xaxis\": {\"backgroundcolor\": \"#E5ECF6\", \"gridcolor\": \"white\", \"gridwidth\": 2, \"linecolor\": \"white\", \"showbackground\": true, \"ticks\": \"\", \"zerolinecolor\": \"white\"}, \"yaxis\": {\"backgroundcolor\": \"#E5ECF6\", \"gridcolor\": \"white\", \"gridwidth\": 2, \"linecolor\": \"white\", \"showbackground\": true, \"ticks\": \"\", \"zerolinecolor\": \"white\"}, \"zaxis\": {\"backgroundcolor\": \"#E5ECF6\", \"gridcolor\": \"white\", \"gridwidth\": 2, \"linecolor\": \"white\", \"showbackground\": true, \"ticks\": \"\", \"zerolinecolor\": \"white\"}}, \"shapedefaults\": {\"line\": {\"color\": \"#2a3f5f\"}}, \"ternary\": {\"aaxis\": {\"gridcolor\": \"white\", \"linecolor\": \"white\", \"ticks\": \"\"}, \"baxis\": {\"gridcolor\": \"white\", \"linecolor\": \"white\", \"ticks\": \"\"}, \"bgcolor\": \"#E5ECF6\", \"caxis\": {\"gridcolor\": \"white\", \"linecolor\": \"white\", \"ticks\": \"\"}}, \"title\": {\"x\": 0.05}, \"xaxis\": {\"automargin\": true, \"gridcolor\": \"white\", \"linecolor\": \"white\", \"ticks\": \"\", \"title\": {\"standoff\": 15}, \"zerolinecolor\": \"white\", \"zerolinewidth\": 2}, \"yaxis\": {\"automargin\": true, \"gridcolor\": \"white\", \"linecolor\": \"white\", \"ticks\": \"\", \"title\": {\"standoff\": 15}, \"zerolinecolor\": \"white\", \"zerolinewidth\": 2}}}, \"title\": {\"text\": \"Dail Confirm INDIA TOTAL\"}},                        {\"responsive\": true}                    ).then(function(){\n",
       "                            \n",
       "var gd = document.getElementById('3412e009-606b-42b3-ad1b-1642bd5f1210');\n",
       "var x = new MutationObserver(function (mutations, observer) {{\n",
       "        var display = window.getComputedStyle(gd).display;\n",
       "        if (!display || display === 'none') {{\n",
       "            console.log([gd, 'removed!']);\n",
       "            Plotly.purge(gd);\n",
       "            observer.disconnect();\n",
       "        }}\n",
       "}});\n",
       "\n",
       "// Listen for the removal of the full notebook cells\n",
       "var notebookContainer = gd.closest('#notebook-container');\n",
       "if (notebookContainer) {{\n",
       "    x.observe(notebookContainer, {childList: true});\n",
       "}}\n",
       "\n",
       "// Listen for the clearing of the current output cell\n",
       "var outputEl = gd.closest('.output');\n",
       "if (outputEl) {{\n",
       "    x.observe(outputEl, {childList: true});\n",
       "}}\n",
       "\n",
       "                        })                };                });            </script>        </div>"
      ]
     },
     "metadata": {},
     "output_type": "display_data"
    }
   ],
   "source": [
    "import plotly.graph_objs as go\n",
    "from plotly.offline import download_plotlyjs, init_notebook_mode, plot, iplot\n",
    "init_notebook_mode(connected=True)\n",
    "\n",
    "trace1 = go.Scatter(x=df.index,\n",
    "                    y=df['PB'],\n",
    "                    name = \"daily confirmed cases TOTAL\"\n",
    "        \n",
    "                    )\n",
    "\n",
    "layout = dict(title='Dail Confirm INDIA TOTAL',)\n",
    "\n",
    "fig = dict(data=[trace1], layout=layout)\n",
    "iplot(fig)"
   ]
  },
  {
   "cell_type": "code",
   "execution_count": 10,
   "metadata": {},
   "outputs": [
    {
     "data": {
      "text/plain": [
       "460"
      ]
     },
     "execution_count": 10,
     "metadata": {},
     "output_type": "execute_result"
    }
   ],
   "source": [
    "len(df)"
   ]
  },
  {
   "cell_type": "code",
   "execution_count": 11,
   "metadata": {},
   "outputs": [
    {
     "data": {
      "text/plain": [
       "460"
      ]
     },
     "execution_count": 11,
     "metadata": {},
     "output_type": "execute_result"
    }
   ],
   "source": [
    "close_data=df\n",
    "len(close_data)"
   ]
  },
  {
   "cell_type": "code",
   "execution_count": 12,
   "metadata": {},
   "outputs": [
    {
     "data": {
      "text/plain": [
       "400"
      ]
     },
     "execution_count": 12,
     "metadata": {},
     "output_type": "execute_result"
    }
   ],
   "source": [
    "x=len(close_data)-60\n",
    "x"
   ]
  },
  {
   "cell_type": "code",
   "execution_count": 13,
   "metadata": {},
   "outputs": [
    {
     "name": "stdout",
     "output_type": "stream",
     "text": [
      "400\n",
      "60\n"
     ]
    }
   ],
   "source": [
    "close_data = df['TT'].values\n",
    "close_data = close_data.reshape((-1,1))\n",
    "\n",
    "\n",
    "close_train = close_data[:x]\n",
    "close_test = close_data[x:]\n",
    "\n",
    "date_train = df.index[:x]\n",
    "date_test = df.index[x:]\n",
    "\n",
    "print(len(close_train))\n",
    "print(len(close_test))"
   ]
  },
  {
   "cell_type": "code",
   "execution_count": 14,
   "metadata": {},
   "outputs": [
    {
     "data": {
      "text/plain": [
       "59"
      ]
     },
     "execution_count": 14,
     "metadata": {},
     "output_type": "execute_result"
    }
   ],
   "source": [
    "close_data1 = df.drop(df.index[range(400)])\n",
    "close_data1\n",
    "close_data1=close_data1.drop(close_data1.index[-1])\n",
    "len(close_data1)"
   ]
  },
  {
   "cell_type": "code",
   "execution_count": 15,
   "metadata": {},
   "outputs": [],
   "source": [
    "close_data2=close_data1"
   ]
  },
  {
   "cell_type": "code",
   "execution_count": 16,
   "metadata": {},
   "outputs": [],
   "source": [
    "close_data2\n",
    "len(close_data2)\n",
    "close_data2=close_data2['TT'].values\n",
    "close_data2 = close_data2.reshape((-1,1))"
   ]
  },
  {
   "cell_type": "code",
   "execution_count": 17,
   "metadata": {},
   "outputs": [],
   "source": [
    "import keras\n",
    "import tensorflow as tf\n",
    "from keras.preprocessing.sequence import TimeseriesGenerator"
   ]
  },
  {
   "cell_type": "code",
   "execution_count": 18,
   "metadata": {},
   "outputs": [],
   "source": [
    "\n",
    "look_back = 1\n",
    "\n",
    "train_generator = TimeseriesGenerator(close_train, close_train, length=look_back, batch_size=20)     \n",
    "test_generator = TimeseriesGenerator(close_test, close_test,length=look_back, batch_size=20)\n"
   ]
  },
  {
   "cell_type": "code",
   "execution_count": 19,
   "metadata": {},
   "outputs": [
    {
     "name": "stdout",
     "output_type": "stream",
     "text": [
      "Epoch 1/20\n",
      "20/20 - 0s - loss: 2762381568.0000 - accuracy: 0.0000e+00\n",
      "Epoch 2/20\n",
      "20/20 - 0s - loss: 2759375616.0000 - accuracy: 0.0000e+00\n",
      "Epoch 3/20\n",
      "20/20 - 0s - loss: 2756039424.0000 - accuracy: 0.0000e+00\n",
      "Epoch 4/20\n",
      "20/20 - 0s - loss: 2631452672.0000 - accuracy: 0.0000e+00\n",
      "Epoch 5/20\n",
      "20/20 - 0s - loss: 2550084608.0000 - accuracy: 0.0000e+00\n",
      "Epoch 6/20\n",
      "20/20 - 0s - loss: 2365180160.0000 - accuracy: 0.0000e+00\n",
      "Epoch 7/20\n",
      "20/20 - 0s - loss: 2240753920.0000 - accuracy: 0.0000e+00\n",
      "Epoch 8/20\n",
      "20/20 - 0s - loss: 2152310272.0000 - accuracy: 0.0000e+00\n",
      "Epoch 9/20\n",
      "20/20 - 0s - loss: 2079276416.0000 - accuracy: 0.0000e+00\n",
      "Epoch 10/20\n",
      "20/20 - 0s - loss: 1987812224.0000 - accuracy: 0.0000e+00\n",
      "Epoch 11/20\n",
      "20/20 - 0s - loss: 1884552064.0000 - accuracy: 0.0000e+00\n",
      "Epoch 12/20\n",
      "20/20 - 0s - loss: 1656720512.0000 - accuracy: 0.0000e+00\n",
      "Epoch 13/20\n",
      "20/20 - 0s - loss: 1371002752.0000 - accuracy: 0.0000e+00\n",
      "Epoch 14/20\n",
      "20/20 - 0s - loss: 1230462336.0000 - accuracy: 0.0000e+00\n",
      "Epoch 15/20\n",
      "20/20 - 0s - loss: 1088268160.0000 - accuracy: 0.0000e+00\n",
      "Epoch 16/20\n",
      "20/20 - 0s - loss: 950464000.0000 - accuracy: 0.0000e+00\n",
      "Epoch 17/20\n",
      "20/20 - 0s - loss: 822292288.0000 - accuracy: 0.0000e+00\n",
      "Epoch 18/20\n",
      "20/20 - 0s - loss: 714097984.0000 - accuracy: 0.0000e+00\n",
      "Epoch 19/20\n",
      "20/20 - 0s - loss: 532124768.0000 - accuracy: 0.0000e+00\n",
      "Epoch 20/20\n",
      "20/20 - 0s - loss: 119510880.0000 - accuracy: 0.0000e+00\n"
     ]
    },
    {
     "data": {
      "text/plain": [
       "<tensorflow.python.keras.callbacks.History at 0x969c8cc948>"
      ]
     },
     "execution_count": 19,
     "metadata": {},
     "output_type": "execute_result"
    }
   ],
   "source": [
    "from keras.models import Sequential\n",
    "from keras.layers import LSTM, Dense\n",
    "\n",
    "model = Sequential()\n",
    "model.add(\n",
    "    LSTM(40,\n",
    "        activation='relu',\n",
    "        input_shape=(look_back,1))\n",
    ")\n",
    "model.add(Dense(1))\n",
    "model.compile(optimizer='adam', loss='mse',metrics=['accuracy'])\n",
    "\n",
    "num_epochs = 20 \n",
    "model.fit(train_generator, epochs=num_epochs, verbose=2)\n"
   ]
  },
  {
   "cell_type": "code",
   "execution_count": 20,
   "metadata": {},
   "outputs": [
    {
     "name": "stdout",
     "output_type": "stream",
     "text": [
      "Model: \"sequential\"\n",
      "_________________________________________________________________\n",
      "Layer (type)                 Output Shape              Param #   \n",
      "=================================================================\n",
      "lstm (LSTM)                  (None, 40)                6720      \n",
      "_________________________________________________________________\n",
      "dense (Dense)                (None, 1)                 41        \n",
      "=================================================================\n",
      "Total params: 6,761\n",
      "Trainable params: 6,761\n",
      "Non-trainable params: 0\n",
      "_________________________________________________________________\n"
     ]
    }
   ],
   "source": [
    "model.summary()"
   ]
  },
  {
   "cell_type": "code",
   "execution_count": 21,
   "metadata": {},
   "outputs": [
    {
     "data": {
      "application/vnd.plotly.v1+json": {
       "config": {
        "plotlyServerURL": "https://plot.ly"
       },
       "data": [
        {
         "mode": "lines",
         "name": "Training Data",
         "type": "scatter",
         "x": [
          "14-Mar-20",
          "15-Mar-20",
          "16-Mar-20",
          "17-Mar-20",
          "18-Mar-20",
          "19-Mar-20",
          "20-Mar-20",
          "21-Mar-20",
          "22-Mar-20",
          "23-Mar-20",
          "24-Mar-20",
          "25-Mar-20",
          "26-Mar-20",
          "27-Mar-20",
          "28-Mar-20",
          "29-Mar-20",
          "30-Mar-20",
          "31-Mar-20",
          "01-Apr-20",
          "02-Apr-20",
          "03-Apr-20",
          "04-Apr-20",
          "05-Apr-20",
          "06-Apr-20",
          "07-Apr-20",
          "08-Apr-20",
          "09-Apr-20",
          "10-Apr-20",
          "11-Apr-20",
          "12-Apr-20",
          "13-Apr-20",
          "14-Apr-20",
          "15-Apr-20",
          "16-Apr-20",
          "17-Apr-20",
          "18-Apr-20",
          "19-Apr-20",
          "20-Apr-20",
          "21-Apr-20",
          "22-Apr-20",
          "23-Apr-20",
          "24-Apr-20",
          "25-Apr-20",
          "26-Apr-20",
          "27-Apr-20",
          "28-Apr-20",
          "29-Apr-20",
          "30-Apr-20",
          "01-May-20",
          "02-May-20",
          "03-May-20",
          "04-May-20",
          "05-May-20",
          "06-May-20",
          "07-May-20",
          "08-May-20",
          "09-May-20",
          "10-May-20",
          "11-May-20",
          "12-May-20",
          "13-May-20",
          "14-May-20",
          "15-May-20",
          "16-May-20",
          "17-May-20",
          "18-May-20",
          "19-May-20",
          "20-May-20",
          "21-May-20",
          "22-May-20",
          "23-May-20",
          "24-May-20",
          "25-May-20",
          "26-May-20",
          "27-May-20",
          "28-May-20",
          "29-May-20",
          "30-May-20",
          "31-May-20",
          "01-Jun-20",
          "02-Jun-20",
          "03-Jun-20",
          "04-Jun-20",
          "05-Jun-20",
          "06-Jun-20",
          "07-Jun-20",
          "08-Jun-20",
          "09-Jun-20",
          "10-Jun-20",
          "11-Jun-20",
          "12-Jun-20",
          "13-Jun-20",
          "14-Jun-20",
          "15-Jun-20",
          "16-Jun-20",
          "17-Jun-20",
          "18-Jun-20",
          "19-Jun-20",
          "20-Jun-20",
          "21-Jun-20",
          "22-Jun-20",
          "23-Jun-20",
          "24-Jun-20",
          "25-Jun-20",
          "26-Jun-20",
          "27-Jun-20",
          "28-Jun-20",
          "29-Jun-20",
          "30-Jun-20",
          "01-Jul-20",
          "02-Jul-20",
          "03-Jul-20",
          "04-Jul-20",
          "05-Jul-20",
          "06-Jul-20",
          "07-Jul-20",
          "08-Jul-20",
          "09-Jul-20",
          "10-Jul-20",
          "11-Jul-20",
          "12-Jul-20",
          "13-Jul-20",
          "14-Jul-20",
          "15-Jul-20",
          "16-Jul-20",
          "17-Jul-20",
          "18-Jul-20",
          "19-Jul-20",
          "20-Jul-20",
          "21-Jul-20",
          "22-Jul-20",
          "23-Jul-20",
          "24-Jul-20",
          "25-Jul-20",
          "26-Jul-20",
          "27-Jul-20",
          "28-Jul-20",
          "29-Jul-20",
          "30-Jul-20",
          "31-Jul-20",
          "01-Aug-20",
          "02-Aug-20",
          "03-Aug-20",
          "04-Aug-20",
          "05-Aug-20",
          "06-Aug-20",
          "07-Aug-20",
          "08-Aug-20",
          "09-Aug-20",
          "10-Aug-20",
          "11-Aug-20",
          "12-Aug-20",
          "13-Aug-20",
          "14-Aug-20",
          "15-Aug-20",
          "16-Aug-20",
          "17-Aug-20",
          "18-Aug-20",
          "19-Aug-20",
          "20-Aug-20",
          "21-Aug-20",
          "22-Aug-20",
          "23-Aug-20",
          "24-Aug-20",
          "25-Aug-20",
          "26-Aug-20",
          "27-Aug-20",
          "28-Aug-20",
          "29-Aug-20",
          "30-Aug-20",
          "31-Aug-20",
          "01-Sep-20",
          "02-Sep-20",
          "03-Sep-20",
          "04-Sep-20",
          "05-Sep-20",
          "06-Sep-20",
          "07-Sep-20",
          "08-Sep-20",
          "09-Sep-20",
          "10-Sep-20",
          "11-Sep-20",
          "12-Sep-20",
          "13-Sep-20",
          "14-Sep-20",
          "15-Sep-20",
          "16-Sep-20",
          "17-Sep-20",
          "18-Sep-20",
          "19-Sep-20",
          "20-Sep-20",
          "21-Sep-20",
          "22-Sep-20",
          "23-Sep-20",
          "24-Sep-20",
          "25-Sep-20",
          "26-Sep-20",
          "27-Sep-20",
          "28-Sep-20",
          "29-Sep-20",
          "30-Sep-20",
          "01-Oct-20",
          "02-Oct-20",
          "03-Oct-20",
          "04-Oct-20",
          "05-Oct-20",
          "06-Oct-20",
          "07-Oct-20",
          "08-Oct-20",
          "09-Oct-20",
          "10-Oct-20",
          "11-Oct-20",
          "12-Oct-20",
          "13-Oct-20",
          "14-Oct-20",
          "15-Oct-20",
          "16-Oct-20",
          "17-Oct-20",
          "18-Oct-20",
          "19-Oct-20",
          "20-Oct-20",
          "21-Oct-20",
          "22-Oct-20",
          "23-Oct-20",
          "24-Oct-20",
          "25-Oct-20",
          "26-Oct-20",
          "27-Oct-20",
          "28-Oct-20",
          "29-Oct-20",
          "30-Oct-20",
          "31-Oct-20",
          "01-Nov-20",
          "02-Nov-20",
          "03-Nov-20",
          "04-Nov-20",
          "05-Nov-20",
          "06-Nov-20",
          "07-Nov-20",
          "08-Nov-20",
          "09-Nov-20",
          "10-Nov-20",
          "11-Nov-20",
          "12-Nov-20",
          "13-Nov-20",
          "14-Nov-20",
          "15-Nov-20",
          "16-Nov-20",
          "17-Nov-20",
          "18-Nov-20",
          "19-Nov-20",
          "20-Nov-20",
          "21-Nov-20",
          "22-Nov-20",
          "23-Nov-20",
          "24-Nov-20",
          "25-Nov-20",
          "26-Nov-20",
          "27-Nov-20",
          "28-Nov-20",
          "29-Nov-20",
          "30-Nov-20",
          "01-Dec-20",
          "02-Dec-20",
          "03-Dec-20",
          "04-Dec-20",
          "05-Dec-20",
          "06-Dec-20",
          "07-Dec-20",
          "08-Dec-20",
          "09-Dec-20",
          "10-Dec-20",
          "11-Dec-20",
          "12-Dec-20",
          "13-Dec-20",
          "14-Dec-20",
          "15-Dec-20",
          "16-Dec-20",
          "17-Dec-20",
          "18-Dec-20",
          "19-Dec-20",
          "20-Dec-20",
          "21-Dec-20",
          "22-Dec-20",
          "23-Dec-20",
          "24-Dec-20",
          "25-Dec-20",
          "26-Dec-20",
          "27-Dec-20",
          "28-Dec-20",
          "29-Dec-20",
          "30-Dec-20",
          "31-Dec-20",
          "01-Jan-21",
          "02-Jan-21",
          "03-Jan-21",
          "04-Jan-21",
          "05-Jan-21",
          "06-Jan-21",
          "07-Jan-21",
          "08-Jan-21",
          "09-Jan-21",
          "10-Jan-21",
          "11-Jan-21",
          "12-Jan-21",
          "13-Jan-21",
          "14-Jan-21",
          "15-Jan-21",
          "16-Jan-21",
          "17-Jan-21",
          "18-Jan-21",
          "19-Jan-21",
          "20-Jan-21",
          "21-Jan-21",
          "22-Jan-21",
          "23-Jan-21",
          "24-Jan-21",
          "25-Jan-21",
          "26-Jan-21",
          "27-Jan-21",
          "28-Jan-21",
          "29-Jan-21",
          "30-Jan-21",
          "31-Jan-21",
          "01-Feb-21",
          "02-Feb-21",
          "03-Feb-21",
          "04-Feb-21",
          "05-Feb-21",
          "06-Feb-21",
          "07-Feb-21",
          "08-Feb-21",
          "09-Feb-21",
          "10-Feb-21",
          "11-Feb-21",
          "12-Feb-21",
          "13-Feb-21",
          "14-Feb-21",
          "15-Feb-21",
          "16-Feb-21",
          "17-Feb-21",
          "18-Feb-21",
          "19-Feb-21",
          "20-Feb-21",
          "21-Feb-21",
          "22-Feb-21",
          "23-Feb-21",
          "24-Feb-21",
          "25-Feb-21",
          "26-Feb-21",
          "27-Feb-21",
          "28-Feb-21",
          "01-Mar-21",
          "02-Mar-21",
          "03-Mar-21",
          "04-Mar-21",
          "05-Mar-21",
          "06-Mar-21",
          "07-Mar-21",
          "08-Mar-21",
          "09-Mar-21",
          "10-Mar-21",
          "11-Mar-21",
          "12-Mar-21",
          "13-Mar-21",
          "14-Mar-21",
          "15-Mar-21",
          "16-Mar-21",
          "17-Mar-21",
          "18-Mar-21",
          "19-Mar-21",
          "20-Mar-21",
          "21-Mar-21",
          "22-Mar-21",
          "23-Mar-21",
          "24-Mar-21",
          "25-Mar-21",
          "26-Mar-21",
          "27-Mar-21",
          "28-Mar-21",
          "29-Mar-21",
          "30-Mar-21",
          "31-Mar-21",
          "01-Apr-21",
          "02-Apr-21",
          "03-Apr-21",
          "04-Apr-21",
          "05-Apr-21",
          "06-Apr-21",
          "07-Apr-21",
          "08-Apr-21",
          "09-Apr-21",
          "10-Apr-21",
          "11-Apr-21",
          "12-Apr-21",
          "13-Apr-21",
          "14-Apr-21",
          "15-Apr-21",
          "16-Apr-21",
          "17-Apr-21"
         ],
         "y": [
          81,
          27,
          15,
          11,
          37,
          27,
          58,
          78,
          67,
          102,
          64,
          90,
          65,
          164,
          143,
          110,
          187,
          309,
          424,
          486,
          560,
          579,
          609,
          484,
          572,
          565,
          813,
          871,
          854,
          758,
          1243,
          1031,
          886,
          1061,
          922,
          1371,
          1580,
          1239,
          1537,
          1292,
          1667,
          1408,
          1835,
          1607,
          1568,
          1902,
          1705,
          1802,
          2396,
          2564,
          2952,
          3656,
          2971,
          3602,
          3344,
          3339,
          3175,
          4311,
          3592,
          3562,
          3726,
          3991,
          3808,
          4794,
          5049,
          4628,
          6154,
          5720,
          6023,
          6536,
          6663,
          7111,
          6414,
          5907,
          7246,
          7254,
          8138,
          8364,
          8789,
          7723,
          8812,
          9689,
          9847,
          9472,
          10408,
          10882,
          8536,
          9981,
          11156,
          11135,
          11306,
          12039,
          11405,
          10032,
          11086,
          13108,
          13829,
          14638,
          15918,
          15151,
          13560,
          15656,
          16868,
          18205,
          18255,
          20142,
          19610,
          18339,
          18256,
          19429,
          21947,
          22718,
          24018,
          23942,
          22500,
          23147,
          25561,
          25790,
          27762,
          27757,
          29106,
          28178,
          29917,
          32607,
          35468,
          34820,
          37411,
          40235,
          36806,
          39170,
          45601,
          48443,
          48888,
          50072,
          48932,
          46484,
          49631,
          52479,
          54968,
          57486,
          55117,
          52672,
          50488,
          51282,
          56626,
          62170,
          61455,
          65156,
          62117,
          53016,
          61252,
          67066,
          64141,
          65610,
          63986,
          58096,
          54298,
          64999,
          69196,
          68518,
          68519,
          70067,
          61749,
          59696,
          66873,
          75995,
          76827,
          76657,
          78479,
          79461,
          68766,
          78168,
          82860,
          84156,
          87115,
          90600,
          91725,
          75015,
          89855,
          95536,
          96762,
          97655,
          94414,
          93220,
          81913,
          91098,
          97860,
          96787,
          92973,
          92574,
          87395,
          74493,
          83362,
          86703,
          85921,
          85717,
          88759,
          82770,
          69669,
          80500,
          86748,
          81784,
          79883,
          75479,
          74770,
          60130,
          71869,
          78809,
          70797,
          73305,
          74418,
          67789,
          54262,
          63717,
          67811,
          63441,
          62304,
          61893,
          56519,
          45506,
          54348,
          56264,
          54371,
          53931,
          50366,
          45922,
          36019,
          43036,
          50188,
          48765,
          48117,
          47228,
          45928,
          37592,
          46027,
          50465,
          47628,
          50017,
          46153,
          46707,
          37119,
          44724,
          48285,
          44585,
          44620,
          41692,
          30681,
          28609,
          38548,
          45366,
          46185,
          46283,
          45301,
          44404,
          37441,
          44245,
          44699,
          43174,
          41353,
          41815,
          39036,
          31179,
          36474,
          35506,
          36574,
          36711,
          36010,
          33178,
          26227,
          32083,
          31637,
          29411,
          29961,
          30354,
          27336,
          21941,
          26251,
          18172,
          26754,
          26991,
          26834,
          24622,
          19147,
          23880,
          24716,
          23444,
          22349,
          18575,
          20333,
          16072,
          20542,
          21945,
          19026,
          20159,
          18144,
          16678,
          16278,
          17909,
          20472,
          18123,
          18453,
          18820,
          16086,
          12481,
          15903,
          17015,
          15677,
          15155,
          15050,
          13962,
          9987,
          13787,
          15279,
          14495,
          14323,
          14896,
          13232,
          9098,
          12733,
          11556,
          18912,
          13054,
          13073,
          11527,
          8579,
          11001,
          12925,
          12401,
          11711,
          12069,
          11786,
          8715,
          10731,
          12539,
          9353,
          12137,
          12198,
          11706,
          9086,
          11592,
          12862,
          13237,
          13916,
          13919,
          14278,
          10494,
          13682,
          16930,
          16599,
          16562,
          16805,
          15614,
          12270,
          14998,
          17425,
          16824,
          18324,
          18724,
          18650,
          15353,
          17873,
          22851,
          23298,
          24845,
          25154,
          26513,
          24437,
          28869,
          35838,
          39687,
          40906,
          43815,
          47009,
          40636,
          47239,
          53419,
          59083,
          62276,
          62632,
          68206,
          56152,
          53237,
          72113,
          81398,
          89023,
          92994,
          103794,
          96563,
          115312,
          126276,
          131878,
          144945,
          152565,
          169914,
          160838,
          185297,
          199584,
          216828,
          234002,
          260895
         ]
        },
        {
         "mode": "lines",
         "name": "Prediction",
         "type": "scatter",
         "x": [
          "18-Apr-21",
          "19-Apr-21",
          "20-Apr-21",
          "21-Apr-21",
          "22-Apr-21",
          "23-Apr-21",
          "24-Apr-21",
          "25-Apr-21",
          "26-Apr-21",
          "27-Apr-21",
          "28-Apr-21",
          "29-Apr-21",
          "30-Apr-21",
          "01-May-21",
          "02-May-21",
          "03-May-21",
          "04-May-21",
          "05-May-21",
          "06-May-21",
          "07-May-21",
          "08-May-21",
          "09-May-21",
          "10-May-21",
          "11-May-21",
          "12-May-21",
          "13-May-21",
          "14-May-21",
          "15-May-21",
          "16-May-21",
          "17-May-21",
          "18-May-21",
          "19-May-21",
          "20-May-21",
          "21-May-21",
          "22-May-21",
          "23-May-21",
          "24-May-21",
          "25-May-21",
          "26-May-21",
          "27-May-21",
          "28-May-21",
          "29-May-21",
          "30-May-21",
          "31-May-21",
          "01-Jun-21",
          "02-Jun-21",
          "03-Jun-21",
          "04-Jun-21",
          "05-Jun-21",
          "06-Jun-21",
          "07-Jun-21",
          "08-Jun-21",
          "09-Jun-21",
          "10-Jun-21",
          "11-Jun-21",
          "12-Jun-21",
          "13-Jun-21",
          "14-Jun-21",
          "15-Jun-21",
          "16-Jun-21"
         ],
         "y": [
          247961.640625,
          231681.140625,
          265361.8125,
          284641.5,
          299767.28125,
          311274.5,
          314609.9375,
          319714.0625,
          287994.09375,
          327155.6875,
          342021.8125,
          348664.75,
          362404,
          353895.96875,
          333625.53125,
          320715.59375,
          345125.5625,
          371968.59375,
          373461.4375,
          366809.5,
          364021.25,
          330348.6875,
          297026.8125,
          314212.40625,
          326902.375,
          309209.25,
          294110.5625,
          280138.6875,
          254068.203125,
          237106.171875,
          240914.859375,
          248974.890625,
          233699.515625,
          231947.953125,
          217162.0625,
          200878.859375,
          176559.921875,
          188400.71875,
          190670.625,
          167741.765625,
          156931.34375,
          148997.53125,
          138282.671875,
          114382.0390625,
          120033.3515625,
          120837.4609375,
          119377.078125,
          108586.5078125,
          103208.34375,
          91237.7421875,
          77350.6171875,
          83645.5703125,
          84633.5859375,
          82799.9921875,
          76241.8203125,
          72591.7734375,
          64006.1796875,
          54096.33203125,
          56084.97265625
         ]
        },
        {
         "mode": "lines",
         "name": "Testing Data",
         "type": "scatter",
         "x": [
          "18-Apr-21",
          "19-Apr-21",
          "20-Apr-21",
          "21-Apr-21",
          "22-Apr-21",
          "23-Apr-21",
          "24-Apr-21",
          "25-Apr-21",
          "26-Apr-21",
          "27-Apr-21",
          "28-Apr-21",
          "29-Apr-21",
          "30-Apr-21",
          "01-May-21",
          "02-May-21",
          "03-May-21",
          "04-May-21",
          "05-May-21",
          "06-May-21",
          "07-May-21",
          "08-May-21",
          "09-May-21",
          "10-May-21",
          "11-May-21",
          "12-May-21",
          "13-May-21",
          "14-May-21",
          "15-May-21",
          "16-May-21",
          "17-May-21",
          "18-May-21",
          "19-May-21",
          "20-May-21",
          "21-May-21",
          "22-May-21",
          "23-May-21",
          "24-May-21",
          "25-May-21",
          "26-May-21",
          "27-May-21",
          "28-May-21",
          "29-May-21",
          "30-May-21",
          "31-May-21",
          "01-Jun-21",
          "02-Jun-21",
          "03-Jun-21",
          "04-Jun-21",
          "05-Jun-21",
          "06-Jun-21",
          "07-Jun-21",
          "08-Jun-21",
          "09-Jun-21",
          "10-Jun-21",
          "11-Jun-21",
          "12-Jun-21",
          "13-Jun-21",
          "14-Jun-21",
          "15-Jun-21",
          "16-Jun-21"
         ],
         "y": [
          275063,
          257003,
          294365,
          315752,
          332531,
          345296,
          348996,
          354658,
          319471,
          362913,
          379404,
          386773,
          402014,
          392576,
          370090,
          355769,
          382847,
          412624,
          414280,
          406901,
          403808,
          366455,
          329491,
          348555,
          362632,
          343005,
          326256,
          310757,
          281837,
          263021,
          267246,
          276187,
          259242,
          257299,
          240897,
          222834,
          195857,
          208992,
          211510,
          186075,
          174083,
          165282,
          153396,
          126883,
          133152,
          134044,
          132424,
          120454,
          114488,
          101209,
          85804,
          92787,
          93883,
          91849,
          84574,
          80525,
          71001,
          60008,
          62214
         ]
        }
       ],
       "layout": {
        "template": {
         "data": {
          "bar": [
           {
            "error_x": {
             "color": "#2a3f5f"
            },
            "error_y": {
             "color": "#2a3f5f"
            },
            "marker": {
             "line": {
              "color": "#E5ECF6",
              "width": 0.5
             }
            },
            "type": "bar"
           }
          ],
          "barpolar": [
           {
            "marker": {
             "line": {
              "color": "#E5ECF6",
              "width": 0.5
             }
            },
            "type": "barpolar"
           }
          ],
          "carpet": [
           {
            "aaxis": {
             "endlinecolor": "#2a3f5f",
             "gridcolor": "white",
             "linecolor": "white",
             "minorgridcolor": "white",
             "startlinecolor": "#2a3f5f"
            },
            "baxis": {
             "endlinecolor": "#2a3f5f",
             "gridcolor": "white",
             "linecolor": "white",
             "minorgridcolor": "white",
             "startlinecolor": "#2a3f5f"
            },
            "type": "carpet"
           }
          ],
          "choropleth": [
           {
            "colorbar": {
             "outlinewidth": 0,
             "ticks": ""
            },
            "type": "choropleth"
           }
          ],
          "contour": [
           {
            "colorbar": {
             "outlinewidth": 0,
             "ticks": ""
            },
            "colorscale": [
             [
              0,
              "#0d0887"
             ],
             [
              0.1111111111111111,
              "#46039f"
             ],
             [
              0.2222222222222222,
              "#7201a8"
             ],
             [
              0.3333333333333333,
              "#9c179e"
             ],
             [
              0.4444444444444444,
              "#bd3786"
             ],
             [
              0.5555555555555556,
              "#d8576b"
             ],
             [
              0.6666666666666666,
              "#ed7953"
             ],
             [
              0.7777777777777778,
              "#fb9f3a"
             ],
             [
              0.8888888888888888,
              "#fdca26"
             ],
             [
              1,
              "#f0f921"
             ]
            ],
            "type": "contour"
           }
          ],
          "contourcarpet": [
           {
            "colorbar": {
             "outlinewidth": 0,
             "ticks": ""
            },
            "type": "contourcarpet"
           }
          ],
          "heatmap": [
           {
            "colorbar": {
             "outlinewidth": 0,
             "ticks": ""
            },
            "colorscale": [
             [
              0,
              "#0d0887"
             ],
             [
              0.1111111111111111,
              "#46039f"
             ],
             [
              0.2222222222222222,
              "#7201a8"
             ],
             [
              0.3333333333333333,
              "#9c179e"
             ],
             [
              0.4444444444444444,
              "#bd3786"
             ],
             [
              0.5555555555555556,
              "#d8576b"
             ],
             [
              0.6666666666666666,
              "#ed7953"
             ],
             [
              0.7777777777777778,
              "#fb9f3a"
             ],
             [
              0.8888888888888888,
              "#fdca26"
             ],
             [
              1,
              "#f0f921"
             ]
            ],
            "type": "heatmap"
           }
          ],
          "heatmapgl": [
           {
            "colorbar": {
             "outlinewidth": 0,
             "ticks": ""
            },
            "colorscale": [
             [
              0,
              "#0d0887"
             ],
             [
              0.1111111111111111,
              "#46039f"
             ],
             [
              0.2222222222222222,
              "#7201a8"
             ],
             [
              0.3333333333333333,
              "#9c179e"
             ],
             [
              0.4444444444444444,
              "#bd3786"
             ],
             [
              0.5555555555555556,
              "#d8576b"
             ],
             [
              0.6666666666666666,
              "#ed7953"
             ],
             [
              0.7777777777777778,
              "#fb9f3a"
             ],
             [
              0.8888888888888888,
              "#fdca26"
             ],
             [
              1,
              "#f0f921"
             ]
            ],
            "type": "heatmapgl"
           }
          ],
          "histogram": [
           {
            "marker": {
             "colorbar": {
              "outlinewidth": 0,
              "ticks": ""
             }
            },
            "type": "histogram"
           }
          ],
          "histogram2d": [
           {
            "colorbar": {
             "outlinewidth": 0,
             "ticks": ""
            },
            "colorscale": [
             [
              0,
              "#0d0887"
             ],
             [
              0.1111111111111111,
              "#46039f"
             ],
             [
              0.2222222222222222,
              "#7201a8"
             ],
             [
              0.3333333333333333,
              "#9c179e"
             ],
             [
              0.4444444444444444,
              "#bd3786"
             ],
             [
              0.5555555555555556,
              "#d8576b"
             ],
             [
              0.6666666666666666,
              "#ed7953"
             ],
             [
              0.7777777777777778,
              "#fb9f3a"
             ],
             [
              0.8888888888888888,
              "#fdca26"
             ],
             [
              1,
              "#f0f921"
             ]
            ],
            "type": "histogram2d"
           }
          ],
          "histogram2dcontour": [
           {
            "colorbar": {
             "outlinewidth": 0,
             "ticks": ""
            },
            "colorscale": [
             [
              0,
              "#0d0887"
             ],
             [
              0.1111111111111111,
              "#46039f"
             ],
             [
              0.2222222222222222,
              "#7201a8"
             ],
             [
              0.3333333333333333,
              "#9c179e"
             ],
             [
              0.4444444444444444,
              "#bd3786"
             ],
             [
              0.5555555555555556,
              "#d8576b"
             ],
             [
              0.6666666666666666,
              "#ed7953"
             ],
             [
              0.7777777777777778,
              "#fb9f3a"
             ],
             [
              0.8888888888888888,
              "#fdca26"
             ],
             [
              1,
              "#f0f921"
             ]
            ],
            "type": "histogram2dcontour"
           }
          ],
          "mesh3d": [
           {
            "colorbar": {
             "outlinewidth": 0,
             "ticks": ""
            },
            "type": "mesh3d"
           }
          ],
          "parcoords": [
           {
            "line": {
             "colorbar": {
              "outlinewidth": 0,
              "ticks": ""
             }
            },
            "type": "parcoords"
           }
          ],
          "pie": [
           {
            "automargin": true,
            "type": "pie"
           }
          ],
          "scatter": [
           {
            "marker": {
             "colorbar": {
              "outlinewidth": 0,
              "ticks": ""
             }
            },
            "type": "scatter"
           }
          ],
          "scatter3d": [
           {
            "line": {
             "colorbar": {
              "outlinewidth": 0,
              "ticks": ""
             }
            },
            "marker": {
             "colorbar": {
              "outlinewidth": 0,
              "ticks": ""
             }
            },
            "type": "scatter3d"
           }
          ],
          "scattercarpet": [
           {
            "marker": {
             "colorbar": {
              "outlinewidth": 0,
              "ticks": ""
             }
            },
            "type": "scattercarpet"
           }
          ],
          "scattergeo": [
           {
            "marker": {
             "colorbar": {
              "outlinewidth": 0,
              "ticks": ""
             }
            },
            "type": "scattergeo"
           }
          ],
          "scattergl": [
           {
            "marker": {
             "colorbar": {
              "outlinewidth": 0,
              "ticks": ""
             }
            },
            "type": "scattergl"
           }
          ],
          "scattermapbox": [
           {
            "marker": {
             "colorbar": {
              "outlinewidth": 0,
              "ticks": ""
             }
            },
            "type": "scattermapbox"
           }
          ],
          "scatterpolar": [
           {
            "marker": {
             "colorbar": {
              "outlinewidth": 0,
              "ticks": ""
             }
            },
            "type": "scatterpolar"
           }
          ],
          "scatterpolargl": [
           {
            "marker": {
             "colorbar": {
              "outlinewidth": 0,
              "ticks": ""
             }
            },
            "type": "scatterpolargl"
           }
          ],
          "scatterternary": [
           {
            "marker": {
             "colorbar": {
              "outlinewidth": 0,
              "ticks": ""
             }
            },
            "type": "scatterternary"
           }
          ],
          "surface": [
           {
            "colorbar": {
             "outlinewidth": 0,
             "ticks": ""
            },
            "colorscale": [
             [
              0,
              "#0d0887"
             ],
             [
              0.1111111111111111,
              "#46039f"
             ],
             [
              0.2222222222222222,
              "#7201a8"
             ],
             [
              0.3333333333333333,
              "#9c179e"
             ],
             [
              0.4444444444444444,
              "#bd3786"
             ],
             [
              0.5555555555555556,
              "#d8576b"
             ],
             [
              0.6666666666666666,
              "#ed7953"
             ],
             [
              0.7777777777777778,
              "#fb9f3a"
             ],
             [
              0.8888888888888888,
              "#fdca26"
             ],
             [
              1,
              "#f0f921"
             ]
            ],
            "type": "surface"
           }
          ],
          "table": [
           {
            "cells": {
             "fill": {
              "color": "#EBF0F8"
             },
             "line": {
              "color": "white"
             }
            },
            "header": {
             "fill": {
              "color": "#C8D4E3"
             },
             "line": {
              "color": "white"
             }
            },
            "type": "table"
           }
          ]
         },
         "layout": {
          "annotationdefaults": {
           "arrowcolor": "#2a3f5f",
           "arrowhead": 0,
           "arrowwidth": 1
          },
          "coloraxis": {
           "colorbar": {
            "outlinewidth": 0,
            "ticks": ""
           }
          },
          "colorscale": {
           "diverging": [
            [
             0,
             "#8e0152"
            ],
            [
             0.1,
             "#c51b7d"
            ],
            [
             0.2,
             "#de77ae"
            ],
            [
             0.3,
             "#f1b6da"
            ],
            [
             0.4,
             "#fde0ef"
            ],
            [
             0.5,
             "#f7f7f7"
            ],
            [
             0.6,
             "#e6f5d0"
            ],
            [
             0.7,
             "#b8e186"
            ],
            [
             0.8,
             "#7fbc41"
            ],
            [
             0.9,
             "#4d9221"
            ],
            [
             1,
             "#276419"
            ]
           ],
           "sequential": [
            [
             0,
             "#0d0887"
            ],
            [
             0.1111111111111111,
             "#46039f"
            ],
            [
             0.2222222222222222,
             "#7201a8"
            ],
            [
             0.3333333333333333,
             "#9c179e"
            ],
            [
             0.4444444444444444,
             "#bd3786"
            ],
            [
             0.5555555555555556,
             "#d8576b"
            ],
            [
             0.6666666666666666,
             "#ed7953"
            ],
            [
             0.7777777777777778,
             "#fb9f3a"
            ],
            [
             0.8888888888888888,
             "#fdca26"
            ],
            [
             1,
             "#f0f921"
            ]
           ],
           "sequentialminus": [
            [
             0,
             "#0d0887"
            ],
            [
             0.1111111111111111,
             "#46039f"
            ],
            [
             0.2222222222222222,
             "#7201a8"
            ],
            [
             0.3333333333333333,
             "#9c179e"
            ],
            [
             0.4444444444444444,
             "#bd3786"
            ],
            [
             0.5555555555555556,
             "#d8576b"
            ],
            [
             0.6666666666666666,
             "#ed7953"
            ],
            [
             0.7777777777777778,
             "#fb9f3a"
            ],
            [
             0.8888888888888888,
             "#fdca26"
            ],
            [
             1,
             "#f0f921"
            ]
           ]
          },
          "colorway": [
           "#636efa",
           "#EF553B",
           "#00cc96",
           "#ab63fa",
           "#FFA15A",
           "#19d3f3",
           "#FF6692",
           "#B6E880",
           "#FF97FF",
           "#FECB52"
          ],
          "font": {
           "color": "#2a3f5f"
          },
          "geo": {
           "bgcolor": "white",
           "lakecolor": "white",
           "landcolor": "#E5ECF6",
           "showlakes": true,
           "showland": true,
           "subunitcolor": "white"
          },
          "hoverlabel": {
           "align": "left"
          },
          "hovermode": "closest",
          "mapbox": {
           "style": "light"
          },
          "paper_bgcolor": "white",
          "plot_bgcolor": "#E5ECF6",
          "polar": {
           "angularaxis": {
            "gridcolor": "white",
            "linecolor": "white",
            "ticks": ""
           },
           "bgcolor": "#E5ECF6",
           "radialaxis": {
            "gridcolor": "white",
            "linecolor": "white",
            "ticks": ""
           }
          },
          "scene": {
           "xaxis": {
            "backgroundcolor": "#E5ECF6",
            "gridcolor": "white",
            "gridwidth": 2,
            "linecolor": "white",
            "showbackground": true,
            "ticks": "",
            "zerolinecolor": "white"
           },
           "yaxis": {
            "backgroundcolor": "#E5ECF6",
            "gridcolor": "white",
            "gridwidth": 2,
            "linecolor": "white",
            "showbackground": true,
            "ticks": "",
            "zerolinecolor": "white"
           },
           "zaxis": {
            "backgroundcolor": "#E5ECF6",
            "gridcolor": "white",
            "gridwidth": 2,
            "linecolor": "white",
            "showbackground": true,
            "ticks": "",
            "zerolinecolor": "white"
           }
          },
          "shapedefaults": {
           "line": {
            "color": "#2a3f5f"
           }
          },
          "ternary": {
           "aaxis": {
            "gridcolor": "white",
            "linecolor": "white",
            "ticks": ""
           },
           "baxis": {
            "gridcolor": "white",
            "linecolor": "white",
            "ticks": ""
           },
           "bgcolor": "#E5ECF6",
           "caxis": {
            "gridcolor": "white",
            "linecolor": "white",
            "ticks": ""
           }
          },
          "title": {
           "x": 0.05
          },
          "xaxis": {
           "automargin": true,
           "gridcolor": "white",
           "linecolor": "white",
           "ticks": "",
           "title": {
            "standoff": 15
           },
           "zerolinecolor": "white",
           "zerolinewidth": 2
          },
          "yaxis": {
           "automargin": true,
           "gridcolor": "white",
           "linecolor": "white",
           "ticks": "",
           "title": {
            "standoff": 15
           },
           "zerolinecolor": "white",
           "zerolinewidth": 2
          }
         }
        },
        "title": {
         "text": "Daily Confirmed Covid cases Prediction INDIA"
        },
        "xaxis": {
         "title": {
          "text": "Date"
         }
        },
        "yaxis": {
         "title": {
          "text": "Close"
         }
        }
       }
      },
      "text/html": [
       "<div>                            <div id=\"858495b1-c044-478b-ac6a-696ef3258bb2\" class=\"plotly-graph-div\" style=\"height:525px; width:100%;\"></div>            <script type=\"text/javascript\">                require([\"plotly\"], function(Plotly) {                    window.PLOTLYENV=window.PLOTLYENV || {};                                    if (document.getElementById(\"858495b1-c044-478b-ac6a-696ef3258bb2\")) {                    Plotly.newPlot(                        \"858495b1-c044-478b-ac6a-696ef3258bb2\",                        [{\"mode\": \"lines\", \"name\": \"Training Data\", \"type\": \"scatter\", \"x\": [\"14-Mar-20\", \"15-Mar-20\", \"16-Mar-20\", \"17-Mar-20\", \"18-Mar-20\", \"19-Mar-20\", \"20-Mar-20\", \"21-Mar-20\", \"22-Mar-20\", \"23-Mar-20\", \"24-Mar-20\", \"25-Mar-20\", \"26-Mar-20\", \"27-Mar-20\", \"28-Mar-20\", \"29-Mar-20\", \"30-Mar-20\", \"31-Mar-20\", \"01-Apr-20\", \"02-Apr-20\", \"03-Apr-20\", \"04-Apr-20\", \"05-Apr-20\", \"06-Apr-20\", \"07-Apr-20\", \"08-Apr-20\", \"09-Apr-20\", \"10-Apr-20\", \"11-Apr-20\", \"12-Apr-20\", \"13-Apr-20\", \"14-Apr-20\", \"15-Apr-20\", \"16-Apr-20\", \"17-Apr-20\", \"18-Apr-20\", \"19-Apr-20\", \"20-Apr-20\", \"21-Apr-20\", \"22-Apr-20\", \"23-Apr-20\", \"24-Apr-20\", \"25-Apr-20\", \"26-Apr-20\", \"27-Apr-20\", \"28-Apr-20\", \"29-Apr-20\", \"30-Apr-20\", \"01-May-20\", \"02-May-20\", \"03-May-20\", \"04-May-20\", \"05-May-20\", \"06-May-20\", \"07-May-20\", \"08-May-20\", \"09-May-20\", \"10-May-20\", \"11-May-20\", \"12-May-20\", \"13-May-20\", \"14-May-20\", \"15-May-20\", \"16-May-20\", \"17-May-20\", \"18-May-20\", \"19-May-20\", \"20-May-20\", \"21-May-20\", \"22-May-20\", \"23-May-20\", \"24-May-20\", \"25-May-20\", \"26-May-20\", \"27-May-20\", \"28-May-20\", \"29-May-20\", \"30-May-20\", \"31-May-20\", \"01-Jun-20\", \"02-Jun-20\", \"03-Jun-20\", \"04-Jun-20\", \"05-Jun-20\", \"06-Jun-20\", \"07-Jun-20\", \"08-Jun-20\", \"09-Jun-20\", \"10-Jun-20\", \"11-Jun-20\", \"12-Jun-20\", \"13-Jun-20\", \"14-Jun-20\", \"15-Jun-20\", \"16-Jun-20\", \"17-Jun-20\", \"18-Jun-20\", \"19-Jun-20\", \"20-Jun-20\", \"21-Jun-20\", \"22-Jun-20\", \"23-Jun-20\", \"24-Jun-20\", \"25-Jun-20\", \"26-Jun-20\", \"27-Jun-20\", \"28-Jun-20\", \"29-Jun-20\", \"30-Jun-20\", \"01-Jul-20\", \"02-Jul-20\", \"03-Jul-20\", \"04-Jul-20\", \"05-Jul-20\", \"06-Jul-20\", \"07-Jul-20\", \"08-Jul-20\", \"09-Jul-20\", \"10-Jul-20\", \"11-Jul-20\", \"12-Jul-20\", \"13-Jul-20\", \"14-Jul-20\", \"15-Jul-20\", \"16-Jul-20\", \"17-Jul-20\", \"18-Jul-20\", \"19-Jul-20\", \"20-Jul-20\", \"21-Jul-20\", \"22-Jul-20\", \"23-Jul-20\", \"24-Jul-20\", \"25-Jul-20\", \"26-Jul-20\", \"27-Jul-20\", \"28-Jul-20\", \"29-Jul-20\", \"30-Jul-20\", \"31-Jul-20\", \"01-Aug-20\", \"02-Aug-20\", \"03-Aug-20\", \"04-Aug-20\", \"05-Aug-20\", \"06-Aug-20\", \"07-Aug-20\", \"08-Aug-20\", \"09-Aug-20\", \"10-Aug-20\", \"11-Aug-20\", \"12-Aug-20\", \"13-Aug-20\", \"14-Aug-20\", \"15-Aug-20\", \"16-Aug-20\", \"17-Aug-20\", \"18-Aug-20\", \"19-Aug-20\", \"20-Aug-20\", \"21-Aug-20\", \"22-Aug-20\", \"23-Aug-20\", \"24-Aug-20\", \"25-Aug-20\", \"26-Aug-20\", \"27-Aug-20\", \"28-Aug-20\", \"29-Aug-20\", \"30-Aug-20\", \"31-Aug-20\", \"01-Sep-20\", \"02-Sep-20\", \"03-Sep-20\", \"04-Sep-20\", \"05-Sep-20\", \"06-Sep-20\", \"07-Sep-20\", \"08-Sep-20\", \"09-Sep-20\", \"10-Sep-20\", \"11-Sep-20\", \"12-Sep-20\", \"13-Sep-20\", \"14-Sep-20\", \"15-Sep-20\", \"16-Sep-20\", \"17-Sep-20\", \"18-Sep-20\", \"19-Sep-20\", \"20-Sep-20\", \"21-Sep-20\", \"22-Sep-20\", \"23-Sep-20\", \"24-Sep-20\", \"25-Sep-20\", \"26-Sep-20\", \"27-Sep-20\", \"28-Sep-20\", \"29-Sep-20\", \"30-Sep-20\", \"01-Oct-20\", \"02-Oct-20\", \"03-Oct-20\", \"04-Oct-20\", \"05-Oct-20\", \"06-Oct-20\", \"07-Oct-20\", \"08-Oct-20\", \"09-Oct-20\", \"10-Oct-20\", \"11-Oct-20\", \"12-Oct-20\", \"13-Oct-20\", \"14-Oct-20\", \"15-Oct-20\", \"16-Oct-20\", \"17-Oct-20\", \"18-Oct-20\", \"19-Oct-20\", \"20-Oct-20\", \"21-Oct-20\", \"22-Oct-20\", \"23-Oct-20\", \"24-Oct-20\", \"25-Oct-20\", \"26-Oct-20\", \"27-Oct-20\", \"28-Oct-20\", \"29-Oct-20\", \"30-Oct-20\", \"31-Oct-20\", \"01-Nov-20\", \"02-Nov-20\", \"03-Nov-20\", \"04-Nov-20\", \"05-Nov-20\", \"06-Nov-20\", \"07-Nov-20\", \"08-Nov-20\", \"09-Nov-20\", \"10-Nov-20\", \"11-Nov-20\", \"12-Nov-20\", \"13-Nov-20\", \"14-Nov-20\", \"15-Nov-20\", \"16-Nov-20\", \"17-Nov-20\", \"18-Nov-20\", \"19-Nov-20\", \"20-Nov-20\", \"21-Nov-20\", \"22-Nov-20\", \"23-Nov-20\", \"24-Nov-20\", \"25-Nov-20\", \"26-Nov-20\", \"27-Nov-20\", \"28-Nov-20\", \"29-Nov-20\", \"30-Nov-20\", \"01-Dec-20\", \"02-Dec-20\", \"03-Dec-20\", \"04-Dec-20\", \"05-Dec-20\", \"06-Dec-20\", \"07-Dec-20\", \"08-Dec-20\", \"09-Dec-20\", \"10-Dec-20\", \"11-Dec-20\", \"12-Dec-20\", \"13-Dec-20\", \"14-Dec-20\", \"15-Dec-20\", \"16-Dec-20\", \"17-Dec-20\", \"18-Dec-20\", \"19-Dec-20\", \"20-Dec-20\", \"21-Dec-20\", \"22-Dec-20\", \"23-Dec-20\", \"24-Dec-20\", \"25-Dec-20\", \"26-Dec-20\", \"27-Dec-20\", \"28-Dec-20\", \"29-Dec-20\", \"30-Dec-20\", \"31-Dec-20\", \"01-Jan-21\", \"02-Jan-21\", \"03-Jan-21\", \"04-Jan-21\", \"05-Jan-21\", \"06-Jan-21\", \"07-Jan-21\", \"08-Jan-21\", \"09-Jan-21\", \"10-Jan-21\", \"11-Jan-21\", \"12-Jan-21\", \"13-Jan-21\", \"14-Jan-21\", \"15-Jan-21\", \"16-Jan-21\", \"17-Jan-21\", \"18-Jan-21\", \"19-Jan-21\", \"20-Jan-21\", \"21-Jan-21\", \"22-Jan-21\", \"23-Jan-21\", \"24-Jan-21\", \"25-Jan-21\", \"26-Jan-21\", \"27-Jan-21\", \"28-Jan-21\", \"29-Jan-21\", \"30-Jan-21\", \"31-Jan-21\", \"01-Feb-21\", \"02-Feb-21\", \"03-Feb-21\", \"04-Feb-21\", \"05-Feb-21\", \"06-Feb-21\", \"07-Feb-21\", \"08-Feb-21\", \"09-Feb-21\", \"10-Feb-21\", \"11-Feb-21\", \"12-Feb-21\", \"13-Feb-21\", \"14-Feb-21\", \"15-Feb-21\", \"16-Feb-21\", \"17-Feb-21\", \"18-Feb-21\", \"19-Feb-21\", \"20-Feb-21\", \"21-Feb-21\", \"22-Feb-21\", \"23-Feb-21\", \"24-Feb-21\", \"25-Feb-21\", \"26-Feb-21\", \"27-Feb-21\", \"28-Feb-21\", \"01-Mar-21\", \"02-Mar-21\", \"03-Mar-21\", \"04-Mar-21\", \"05-Mar-21\", \"06-Mar-21\", \"07-Mar-21\", \"08-Mar-21\", \"09-Mar-21\", \"10-Mar-21\", \"11-Mar-21\", \"12-Mar-21\", \"13-Mar-21\", \"14-Mar-21\", \"15-Mar-21\", \"16-Mar-21\", \"17-Mar-21\", \"18-Mar-21\", \"19-Mar-21\", \"20-Mar-21\", \"21-Mar-21\", \"22-Mar-21\", \"23-Mar-21\", \"24-Mar-21\", \"25-Mar-21\", \"26-Mar-21\", \"27-Mar-21\", \"28-Mar-21\", \"29-Mar-21\", \"30-Mar-21\", \"31-Mar-21\", \"01-Apr-21\", \"02-Apr-21\", \"03-Apr-21\", \"04-Apr-21\", \"05-Apr-21\", \"06-Apr-21\", \"07-Apr-21\", \"08-Apr-21\", \"09-Apr-21\", \"10-Apr-21\", \"11-Apr-21\", \"12-Apr-21\", \"13-Apr-21\", \"14-Apr-21\", \"15-Apr-21\", \"16-Apr-21\", \"17-Apr-21\"], \"y\": [81, 27, 15, 11, 37, 27, 58, 78, 67, 102, 64, 90, 65, 164, 143, 110, 187, 309, 424, 486, 560, 579, 609, 484, 572, 565, 813, 871, 854, 758, 1243, 1031, 886, 1061, 922, 1371, 1580, 1239, 1537, 1292, 1667, 1408, 1835, 1607, 1568, 1902, 1705, 1802, 2396, 2564, 2952, 3656, 2971, 3602, 3344, 3339, 3175, 4311, 3592, 3562, 3726, 3991, 3808, 4794, 5049, 4628, 6154, 5720, 6023, 6536, 6663, 7111, 6414, 5907, 7246, 7254, 8138, 8364, 8789, 7723, 8812, 9689, 9847, 9472, 10408, 10882, 8536, 9981, 11156, 11135, 11306, 12039, 11405, 10032, 11086, 13108, 13829, 14638, 15918, 15151, 13560, 15656, 16868, 18205, 18255, 20142, 19610, 18339, 18256, 19429, 21947, 22718, 24018, 23942, 22500, 23147, 25561, 25790, 27762, 27757, 29106, 28178, 29917, 32607, 35468, 34820, 37411, 40235, 36806, 39170, 45601, 48443, 48888, 50072, 48932, 46484, 49631, 52479, 54968, 57486, 55117, 52672, 50488, 51282, 56626, 62170, 61455, 65156, 62117, 53016, 61252, 67066, 64141, 65610, 63986, 58096, 54298, 64999, 69196, 68518, 68519, 70067, 61749, 59696, 66873, 75995, 76827, 76657, 78479, 79461, 68766, 78168, 82860, 84156, 87115, 90600, 91725, 75015, 89855, 95536, 96762, 97655, 94414, 93220, 81913, 91098, 97860, 96787, 92973, 92574, 87395, 74493, 83362, 86703, 85921, 85717, 88759, 82770, 69669, 80500, 86748, 81784, 79883, 75479, 74770, 60130, 71869, 78809, 70797, 73305, 74418, 67789, 54262, 63717, 67811, 63441, 62304, 61893, 56519, 45506, 54348, 56264, 54371, 53931, 50366, 45922, 36019, 43036, 50188, 48765, 48117, 47228, 45928, 37592, 46027, 50465, 47628, 50017, 46153, 46707, 37119, 44724, 48285, 44585, 44620, 41692, 30681, 28609, 38548, 45366, 46185, 46283, 45301, 44404, 37441, 44245, 44699, 43174, 41353, 41815, 39036, 31179, 36474, 35506, 36574, 36711, 36010, 33178, 26227, 32083, 31637, 29411, 29961, 30354, 27336, 21941, 26251, 18172, 26754, 26991, 26834, 24622, 19147, 23880, 24716, 23444, 22349, 18575, 20333, 16072, 20542, 21945, 19026, 20159, 18144, 16678, 16278, 17909, 20472, 18123, 18453, 18820, 16086, 12481, 15903, 17015, 15677, 15155, 15050, 13962, 9987, 13787, 15279, 14495, 14323, 14896, 13232, 9098, 12733, 11556, 18912, 13054, 13073, 11527, 8579, 11001, 12925, 12401, 11711, 12069, 11786, 8715, 10731, 12539, 9353, 12137, 12198, 11706, 9086, 11592, 12862, 13237, 13916, 13919, 14278, 10494, 13682, 16930, 16599, 16562, 16805, 15614, 12270, 14998, 17425, 16824, 18324, 18724, 18650, 15353, 17873, 22851, 23298, 24845, 25154, 26513, 24437, 28869, 35838, 39687, 40906, 43815, 47009, 40636, 47239, 53419, 59083, 62276, 62632, 68206, 56152, 53237, 72113, 81398, 89023, 92994, 103794, 96563, 115312, 126276, 131878, 144945, 152565, 169914, 160838, 185297, 199584, 216828, 234002, 260895]}, {\"mode\": \"lines\", \"name\": \"Prediction\", \"type\": \"scatter\", \"x\": [\"18-Apr-21\", \"19-Apr-21\", \"20-Apr-21\", \"21-Apr-21\", \"22-Apr-21\", \"23-Apr-21\", \"24-Apr-21\", \"25-Apr-21\", \"26-Apr-21\", \"27-Apr-21\", \"28-Apr-21\", \"29-Apr-21\", \"30-Apr-21\", \"01-May-21\", \"02-May-21\", \"03-May-21\", \"04-May-21\", \"05-May-21\", \"06-May-21\", \"07-May-21\", \"08-May-21\", \"09-May-21\", \"10-May-21\", \"11-May-21\", \"12-May-21\", \"13-May-21\", \"14-May-21\", \"15-May-21\", \"16-May-21\", \"17-May-21\", \"18-May-21\", \"19-May-21\", \"20-May-21\", \"21-May-21\", \"22-May-21\", \"23-May-21\", \"24-May-21\", \"25-May-21\", \"26-May-21\", \"27-May-21\", \"28-May-21\", \"29-May-21\", \"30-May-21\", \"31-May-21\", \"01-Jun-21\", \"02-Jun-21\", \"03-Jun-21\", \"04-Jun-21\", \"05-Jun-21\", \"06-Jun-21\", \"07-Jun-21\", \"08-Jun-21\", \"09-Jun-21\", \"10-Jun-21\", \"11-Jun-21\", \"12-Jun-21\", \"13-Jun-21\", \"14-Jun-21\", \"15-Jun-21\", \"16-Jun-21\"], \"y\": [247961.640625, 231681.140625, 265361.8125, 284641.5, 299767.28125, 311274.5, 314609.9375, 319714.0625, 287994.09375, 327155.6875, 342021.8125, 348664.75, 362404.0, 353895.96875, 333625.53125, 320715.59375, 345125.5625, 371968.59375, 373461.4375, 366809.5, 364021.25, 330348.6875, 297026.8125, 314212.40625, 326902.375, 309209.25, 294110.5625, 280138.6875, 254068.203125, 237106.171875, 240914.859375, 248974.890625, 233699.515625, 231947.953125, 217162.0625, 200878.859375, 176559.921875, 188400.71875, 190670.625, 167741.765625, 156931.34375, 148997.53125, 138282.671875, 114382.0390625, 120033.3515625, 120837.4609375, 119377.078125, 108586.5078125, 103208.34375, 91237.7421875, 77350.6171875, 83645.5703125, 84633.5859375, 82799.9921875, 76241.8203125, 72591.7734375, 64006.1796875, 54096.33203125, 56084.97265625]}, {\"mode\": \"lines\", \"name\": \"Testing Data\", \"type\": \"scatter\", \"x\": [\"18-Apr-21\", \"19-Apr-21\", \"20-Apr-21\", \"21-Apr-21\", \"22-Apr-21\", \"23-Apr-21\", \"24-Apr-21\", \"25-Apr-21\", \"26-Apr-21\", \"27-Apr-21\", \"28-Apr-21\", \"29-Apr-21\", \"30-Apr-21\", \"01-May-21\", \"02-May-21\", \"03-May-21\", \"04-May-21\", \"05-May-21\", \"06-May-21\", \"07-May-21\", \"08-May-21\", \"09-May-21\", \"10-May-21\", \"11-May-21\", \"12-May-21\", \"13-May-21\", \"14-May-21\", \"15-May-21\", \"16-May-21\", \"17-May-21\", \"18-May-21\", \"19-May-21\", \"20-May-21\", \"21-May-21\", \"22-May-21\", \"23-May-21\", \"24-May-21\", \"25-May-21\", \"26-May-21\", \"27-May-21\", \"28-May-21\", \"29-May-21\", \"30-May-21\", \"31-May-21\", \"01-Jun-21\", \"02-Jun-21\", \"03-Jun-21\", \"04-Jun-21\", \"05-Jun-21\", \"06-Jun-21\", \"07-Jun-21\", \"08-Jun-21\", \"09-Jun-21\", \"10-Jun-21\", \"11-Jun-21\", \"12-Jun-21\", \"13-Jun-21\", \"14-Jun-21\", \"15-Jun-21\", \"16-Jun-21\"], \"y\": [275063, 257003, 294365, 315752, 332531, 345296, 348996, 354658, 319471, 362913, 379404, 386773, 402014, 392576, 370090, 355769, 382847, 412624, 414280, 406901, 403808, 366455, 329491, 348555, 362632, 343005, 326256, 310757, 281837, 263021, 267246, 276187, 259242, 257299, 240897, 222834, 195857, 208992, 211510, 186075, 174083, 165282, 153396, 126883, 133152, 134044, 132424, 120454, 114488, 101209, 85804, 92787, 93883, 91849, 84574, 80525, 71001, 60008, 62214]}],                        {\"template\": {\"data\": {\"bar\": [{\"error_x\": {\"color\": \"#2a3f5f\"}, \"error_y\": {\"color\": \"#2a3f5f\"}, \"marker\": {\"line\": {\"color\": \"#E5ECF6\", \"width\": 0.5}}, \"type\": \"bar\"}], \"barpolar\": [{\"marker\": {\"line\": {\"color\": \"#E5ECF6\", \"width\": 0.5}}, \"type\": \"barpolar\"}], \"carpet\": [{\"aaxis\": {\"endlinecolor\": \"#2a3f5f\", \"gridcolor\": \"white\", \"linecolor\": \"white\", \"minorgridcolor\": \"white\", \"startlinecolor\": \"#2a3f5f\"}, \"baxis\": {\"endlinecolor\": \"#2a3f5f\", \"gridcolor\": \"white\", \"linecolor\": \"white\", \"minorgridcolor\": \"white\", \"startlinecolor\": \"#2a3f5f\"}, \"type\": \"carpet\"}], \"choropleth\": [{\"colorbar\": {\"outlinewidth\": 0, \"ticks\": \"\"}, \"type\": \"choropleth\"}], \"contour\": [{\"colorbar\": {\"outlinewidth\": 0, \"ticks\": \"\"}, \"colorscale\": [[0.0, \"#0d0887\"], [0.1111111111111111, \"#46039f\"], [0.2222222222222222, \"#7201a8\"], [0.3333333333333333, \"#9c179e\"], [0.4444444444444444, \"#bd3786\"], [0.5555555555555556, \"#d8576b\"], [0.6666666666666666, \"#ed7953\"], [0.7777777777777778, \"#fb9f3a\"], [0.8888888888888888, \"#fdca26\"], [1.0, \"#f0f921\"]], \"type\": \"contour\"}], \"contourcarpet\": [{\"colorbar\": {\"outlinewidth\": 0, \"ticks\": \"\"}, \"type\": \"contourcarpet\"}], \"heatmap\": [{\"colorbar\": {\"outlinewidth\": 0, \"ticks\": \"\"}, \"colorscale\": [[0.0, \"#0d0887\"], [0.1111111111111111, \"#46039f\"], [0.2222222222222222, \"#7201a8\"], [0.3333333333333333, \"#9c179e\"], [0.4444444444444444, \"#bd3786\"], [0.5555555555555556, \"#d8576b\"], [0.6666666666666666, \"#ed7953\"], [0.7777777777777778, \"#fb9f3a\"], [0.8888888888888888, \"#fdca26\"], [1.0, \"#f0f921\"]], \"type\": \"heatmap\"}], \"heatmapgl\": [{\"colorbar\": {\"outlinewidth\": 0, \"ticks\": \"\"}, \"colorscale\": [[0.0, \"#0d0887\"], [0.1111111111111111, \"#46039f\"], [0.2222222222222222, \"#7201a8\"], [0.3333333333333333, \"#9c179e\"], [0.4444444444444444, \"#bd3786\"], [0.5555555555555556, \"#d8576b\"], [0.6666666666666666, \"#ed7953\"], [0.7777777777777778, \"#fb9f3a\"], [0.8888888888888888, \"#fdca26\"], [1.0, \"#f0f921\"]], \"type\": \"heatmapgl\"}], \"histogram\": [{\"marker\": {\"colorbar\": {\"outlinewidth\": 0, \"ticks\": \"\"}}, \"type\": \"histogram\"}], \"histogram2d\": [{\"colorbar\": {\"outlinewidth\": 0, \"ticks\": \"\"}, \"colorscale\": [[0.0, \"#0d0887\"], [0.1111111111111111, \"#46039f\"], [0.2222222222222222, \"#7201a8\"], [0.3333333333333333, \"#9c179e\"], [0.4444444444444444, \"#bd3786\"], [0.5555555555555556, \"#d8576b\"], [0.6666666666666666, \"#ed7953\"], [0.7777777777777778, \"#fb9f3a\"], [0.8888888888888888, \"#fdca26\"], [1.0, \"#f0f921\"]], \"type\": \"histogram2d\"}], \"histogram2dcontour\": [{\"colorbar\": {\"outlinewidth\": 0, \"ticks\": \"\"}, \"colorscale\": [[0.0, \"#0d0887\"], [0.1111111111111111, \"#46039f\"], [0.2222222222222222, \"#7201a8\"], [0.3333333333333333, \"#9c179e\"], [0.4444444444444444, \"#bd3786\"], [0.5555555555555556, \"#d8576b\"], [0.6666666666666666, \"#ed7953\"], [0.7777777777777778, \"#fb9f3a\"], [0.8888888888888888, \"#fdca26\"], [1.0, \"#f0f921\"]], \"type\": \"histogram2dcontour\"}], \"mesh3d\": [{\"colorbar\": {\"outlinewidth\": 0, \"ticks\": \"\"}, \"type\": \"mesh3d\"}], \"parcoords\": [{\"line\": {\"colorbar\": {\"outlinewidth\": 0, \"ticks\": \"\"}}, \"type\": \"parcoords\"}], \"pie\": [{\"automargin\": true, \"type\": \"pie\"}], \"scatter\": [{\"marker\": {\"colorbar\": {\"outlinewidth\": 0, \"ticks\": \"\"}}, \"type\": \"scatter\"}], \"scatter3d\": [{\"line\": {\"colorbar\": {\"outlinewidth\": 0, \"ticks\": \"\"}}, \"marker\": {\"colorbar\": {\"outlinewidth\": 0, \"ticks\": \"\"}}, \"type\": \"scatter3d\"}], \"scattercarpet\": [{\"marker\": {\"colorbar\": {\"outlinewidth\": 0, \"ticks\": \"\"}}, \"type\": \"scattercarpet\"}], \"scattergeo\": [{\"marker\": {\"colorbar\": {\"outlinewidth\": 0, \"ticks\": \"\"}}, \"type\": \"scattergeo\"}], \"scattergl\": [{\"marker\": {\"colorbar\": {\"outlinewidth\": 0, \"ticks\": \"\"}}, \"type\": \"scattergl\"}], \"scattermapbox\": [{\"marker\": {\"colorbar\": {\"outlinewidth\": 0, \"ticks\": \"\"}}, \"type\": \"scattermapbox\"}], \"scatterpolar\": [{\"marker\": {\"colorbar\": {\"outlinewidth\": 0, \"ticks\": \"\"}}, \"type\": \"scatterpolar\"}], \"scatterpolargl\": [{\"marker\": {\"colorbar\": {\"outlinewidth\": 0, \"ticks\": \"\"}}, \"type\": \"scatterpolargl\"}], \"scatterternary\": [{\"marker\": {\"colorbar\": {\"outlinewidth\": 0, \"ticks\": \"\"}}, \"type\": \"scatterternary\"}], \"surface\": [{\"colorbar\": {\"outlinewidth\": 0, \"ticks\": \"\"}, \"colorscale\": [[0.0, \"#0d0887\"], [0.1111111111111111, \"#46039f\"], [0.2222222222222222, \"#7201a8\"], [0.3333333333333333, \"#9c179e\"], [0.4444444444444444, \"#bd3786\"], [0.5555555555555556, \"#d8576b\"], [0.6666666666666666, \"#ed7953\"], [0.7777777777777778, \"#fb9f3a\"], [0.8888888888888888, \"#fdca26\"], [1.0, \"#f0f921\"]], \"type\": \"surface\"}], \"table\": [{\"cells\": {\"fill\": {\"color\": \"#EBF0F8\"}, \"line\": {\"color\": \"white\"}}, \"header\": {\"fill\": {\"color\": \"#C8D4E3\"}, \"line\": {\"color\": \"white\"}}, \"type\": \"table\"}]}, \"layout\": {\"annotationdefaults\": {\"arrowcolor\": \"#2a3f5f\", \"arrowhead\": 0, \"arrowwidth\": 1}, \"coloraxis\": {\"colorbar\": {\"outlinewidth\": 0, \"ticks\": \"\"}}, \"colorscale\": {\"diverging\": [[0, \"#8e0152\"], [0.1, \"#c51b7d\"], [0.2, \"#de77ae\"], [0.3, \"#f1b6da\"], [0.4, \"#fde0ef\"], [0.5, \"#f7f7f7\"], [0.6, \"#e6f5d0\"], [0.7, \"#b8e186\"], [0.8, \"#7fbc41\"], [0.9, \"#4d9221\"], [1, \"#276419\"]], \"sequential\": [[0.0, \"#0d0887\"], [0.1111111111111111, \"#46039f\"], [0.2222222222222222, \"#7201a8\"], [0.3333333333333333, \"#9c179e\"], [0.4444444444444444, \"#bd3786\"], [0.5555555555555556, \"#d8576b\"], [0.6666666666666666, \"#ed7953\"], [0.7777777777777778, \"#fb9f3a\"], [0.8888888888888888, \"#fdca26\"], [1.0, \"#f0f921\"]], \"sequentialminus\": [[0.0, \"#0d0887\"], [0.1111111111111111, \"#46039f\"], [0.2222222222222222, \"#7201a8\"], [0.3333333333333333, \"#9c179e\"], [0.4444444444444444, \"#bd3786\"], [0.5555555555555556, \"#d8576b\"], [0.6666666666666666, \"#ed7953\"], [0.7777777777777778, \"#fb9f3a\"], [0.8888888888888888, \"#fdca26\"], [1.0, \"#f0f921\"]]}, \"colorway\": [\"#636efa\", \"#EF553B\", \"#00cc96\", \"#ab63fa\", \"#FFA15A\", \"#19d3f3\", \"#FF6692\", \"#B6E880\", \"#FF97FF\", \"#FECB52\"], \"font\": {\"color\": \"#2a3f5f\"}, \"geo\": {\"bgcolor\": \"white\", \"lakecolor\": \"white\", \"landcolor\": \"#E5ECF6\", \"showlakes\": true, \"showland\": true, \"subunitcolor\": \"white\"}, \"hoverlabel\": {\"align\": \"left\"}, \"hovermode\": \"closest\", \"mapbox\": {\"style\": \"light\"}, \"paper_bgcolor\": \"white\", \"plot_bgcolor\": \"#E5ECF6\", \"polar\": {\"angularaxis\": {\"gridcolor\": \"white\", \"linecolor\": \"white\", \"ticks\": \"\"}, \"bgcolor\": \"#E5ECF6\", \"radialaxis\": {\"gridcolor\": \"white\", \"linecolor\": \"white\", \"ticks\": \"\"}}, \"scene\": {\"xaxis\": {\"backgroundcolor\": \"#E5ECF6\", \"gridcolor\": \"white\", \"gridwidth\": 2, \"linecolor\": \"white\", \"showbackground\": true, \"ticks\": \"\", \"zerolinecolor\": \"white\"}, \"yaxis\": {\"backgroundcolor\": \"#E5ECF6\", \"gridcolor\": \"white\", \"gridwidth\": 2, \"linecolor\": \"white\", \"showbackground\": true, \"ticks\": \"\", \"zerolinecolor\": \"white\"}, \"zaxis\": {\"backgroundcolor\": \"#E5ECF6\", \"gridcolor\": \"white\", \"gridwidth\": 2, \"linecolor\": \"white\", \"showbackground\": true, \"ticks\": \"\", \"zerolinecolor\": \"white\"}}, \"shapedefaults\": {\"line\": {\"color\": \"#2a3f5f\"}}, \"ternary\": {\"aaxis\": {\"gridcolor\": \"white\", \"linecolor\": \"white\", \"ticks\": \"\"}, \"baxis\": {\"gridcolor\": \"white\", \"linecolor\": \"white\", \"ticks\": \"\"}, \"bgcolor\": \"#E5ECF6\", \"caxis\": {\"gridcolor\": \"white\", \"linecolor\": \"white\", \"ticks\": \"\"}}, \"title\": {\"x\": 0.05}, \"xaxis\": {\"automargin\": true, \"gridcolor\": \"white\", \"linecolor\": \"white\", \"ticks\": \"\", \"title\": {\"standoff\": 15}, \"zerolinecolor\": \"white\", \"zerolinewidth\": 2}, \"yaxis\": {\"automargin\": true, \"gridcolor\": \"white\", \"linecolor\": \"white\", \"ticks\": \"\", \"title\": {\"standoff\": 15}, \"zerolinecolor\": \"white\", \"zerolinewidth\": 2}}}, \"title\": {\"text\": \"Daily Confirmed Covid cases Prediction INDIA\"}, \"xaxis\": {\"title\": {\"text\": \"Date\"}}, \"yaxis\": {\"title\": {\"text\": \"Close\"}}},                        {\"responsive\": true}                    ).then(function(){\n",
       "                            \n",
       "var gd = document.getElementById('858495b1-c044-478b-ac6a-696ef3258bb2');\n",
       "var x = new MutationObserver(function (mutations, observer) {{\n",
       "        var display = window.getComputedStyle(gd).display;\n",
       "        if (!display || display === 'none') {{\n",
       "            console.log([gd, 'removed!']);\n",
       "            Plotly.purge(gd);\n",
       "            observer.disconnect();\n",
       "        }}\n",
       "}});\n",
       "\n",
       "// Listen for the removal of the full notebook cells\n",
       "var notebookContainer = gd.closest('#notebook-container');\n",
       "if (notebookContainer) {{\n",
       "    x.observe(notebookContainer, {childList: true});\n",
       "}}\n",
       "\n",
       "// Listen for the clearing of the current output cell\n",
       "var outputEl = gd.closest('.output');\n",
       "if (outputEl) {{\n",
       "    x.observe(outputEl, {childList: true});\n",
       "}}\n",
       "\n",
       "                        })                };                });            </script>        </div>"
      ]
     },
     "metadata": {},
     "output_type": "display_data"
    }
   ],
   "source": [
    "prediction = model.predict(test_generator)\n",
    "\n",
    "\n",
    "close_train = close_train.reshape((-1))\n",
    "close_data2 = close_data2.reshape((-1))\n",
    "prediction = prediction.reshape((-1))\n",
    "\n",
    "trace1 = go.Scatter(\n",
    "    x = date_train,\n",
    "    y = close_train,\n",
    "    mode = 'lines',\n",
    "    name = 'Training Data'\n",
    ")\n",
    "trace2 = go.Scatter(\n",
    "    x = date_test,\n",
    "    y = prediction,\n",
    "    mode = 'lines',\n",
    "    name = 'Prediction'\n",
    ")\n",
    "trace3 = go.Scatter(\n",
    "    x = date_test,\n",
    "    y = close_data2,\n",
    "    mode='lines',\n",
    "    name = 'Testing Data'\n",
    ")\n",
    "layout = go.Layout(\n",
    "    title = \"Daily Confirmed Covid cases Prediction INDIA\",\n",
    "    xaxis = {'title' : \"Date\"},\n",
    "    yaxis = {'title' : \"Close\"}\n",
    ")\n",
    "fig = go.Figure(data=[trace1, trace2, trace3], layout=layout)\n",
    "fig.show()"
   ]
  },
  {
   "cell_type": "code",
   "execution_count": 22,
   "metadata": {},
   "outputs": [
    {
     "data": {
      "application/vnd.plotly.v1+json": {
       "config": {
        "plotlyServerURL": "https://plot.ly"
       },
       "data": [
        {
         "mode": "lines",
         "name": "Daily confirmed",
         "type": "scatter",
         "x": [
          "18-Apr-21",
          "19-Apr-21",
          "20-Apr-21",
          "21-Apr-21",
          "22-Apr-21",
          "23-Apr-21",
          "24-Apr-21",
          "25-Apr-21",
          "26-Apr-21",
          "27-Apr-21",
          "28-Apr-21",
          "29-Apr-21",
          "30-Apr-21",
          "01-May-21",
          "02-May-21",
          "03-May-21",
          "04-May-21",
          "05-May-21",
          "06-May-21",
          "07-May-21",
          "08-May-21",
          "09-May-21",
          "10-May-21",
          "11-May-21",
          "12-May-21",
          "13-May-21",
          "14-May-21",
          "15-May-21",
          "16-May-21",
          "17-May-21",
          "18-May-21",
          "19-May-21",
          "20-May-21",
          "21-May-21",
          "22-May-21",
          "23-May-21",
          "24-May-21",
          "25-May-21",
          "26-May-21",
          "27-May-21",
          "28-May-21",
          "29-May-21",
          "30-May-21",
          "31-May-21",
          "01-Jun-21",
          "02-Jun-21",
          "03-Jun-21",
          "04-Jun-21",
          "05-Jun-21",
          "06-Jun-21",
          "07-Jun-21",
          "08-Jun-21",
          "09-Jun-21",
          "10-Jun-21",
          "11-Jun-21",
          "12-Jun-21",
          "13-Jun-21",
          "14-Jun-21",
          "15-Jun-21",
          "16-Jun-21"
         ],
         "y": [
          275063,
          257003,
          294365,
          315752,
          332531,
          345296,
          348996,
          354658,
          319471,
          362913,
          379404,
          386773,
          402014,
          392576,
          370090,
          355769,
          382847,
          412624,
          414280,
          406901,
          403808,
          366455,
          329491,
          348555,
          362632,
          343005,
          326256,
          310757,
          281837,
          263021,
          267246,
          276187,
          259242,
          257299,
          240897,
          222834,
          195857,
          208992,
          211510,
          186075,
          174083,
          165282,
          153396,
          126883,
          133152,
          134044,
          132424,
          120454,
          114488,
          101209,
          85804,
          92787,
          93883,
          91849,
          84574,
          80525,
          71001,
          60008,
          62214
         ]
        },
        {
         "line": {
          "color": "red"
         },
         "mode": "lines",
         "name": "Predicted confirm",
         "type": "scatter",
         "x": [
          "18-Apr-21",
          "19-Apr-21",
          "20-Apr-21",
          "21-Apr-21",
          "22-Apr-21",
          "23-Apr-21",
          "24-Apr-21",
          "25-Apr-21",
          "26-Apr-21",
          "27-Apr-21",
          "28-Apr-21",
          "29-Apr-21",
          "30-Apr-21",
          "01-May-21",
          "02-May-21",
          "03-May-21",
          "04-May-21",
          "05-May-21",
          "06-May-21",
          "07-May-21",
          "08-May-21",
          "09-May-21",
          "10-May-21",
          "11-May-21",
          "12-May-21",
          "13-May-21",
          "14-May-21",
          "15-May-21",
          "16-May-21",
          "17-May-21",
          "18-May-21",
          "19-May-21",
          "20-May-21",
          "21-May-21",
          "22-May-21",
          "23-May-21",
          "24-May-21",
          "25-May-21",
          "26-May-21",
          "27-May-21",
          "28-May-21",
          "29-May-21",
          "30-May-21",
          "31-May-21",
          "01-Jun-21",
          "02-Jun-21",
          "03-Jun-21",
          "04-Jun-21",
          "05-Jun-21",
          "06-Jun-21",
          "07-Jun-21",
          "08-Jun-21",
          "09-Jun-21",
          "10-Jun-21",
          "11-Jun-21",
          "12-Jun-21",
          "13-Jun-21",
          "14-Jun-21",
          "15-Jun-21",
          "16-Jun-21"
         ],
         "y": [
          247961.640625,
          231681.140625,
          265361.8125,
          284641.5,
          299767.28125,
          311274.5,
          314609.9375,
          319714.0625,
          287994.09375,
          327155.6875,
          342021.8125,
          348664.75,
          362404,
          353895.96875,
          333625.53125,
          320715.59375,
          345125.5625,
          371968.59375,
          373461.4375,
          366809.5,
          364021.25,
          330348.6875,
          297026.8125,
          314212.40625,
          326902.375,
          309209.25,
          294110.5625,
          280138.6875,
          254068.203125,
          237106.171875,
          240914.859375,
          248974.890625,
          233699.515625,
          231947.953125,
          217162.0625,
          200878.859375,
          176559.921875,
          188400.71875,
          190670.625,
          167741.765625,
          156931.34375,
          148997.53125,
          138282.671875,
          114382.0390625,
          120033.3515625,
          120837.4609375,
          119377.078125,
          108586.5078125,
          103208.34375,
          91237.7421875,
          77350.6171875,
          83645.5703125,
          84633.5859375,
          82799.9921875,
          76241.8203125,
          72591.7734375,
          64006.1796875,
          54096.33203125,
          56084.97265625
         ]
        }
       ],
       "layout": {
        "template": {
         "data": {
          "bar": [
           {
            "error_x": {
             "color": "#2a3f5f"
            },
            "error_y": {
             "color": "#2a3f5f"
            },
            "marker": {
             "line": {
              "color": "#E5ECF6",
              "width": 0.5
             }
            },
            "type": "bar"
           }
          ],
          "barpolar": [
           {
            "marker": {
             "line": {
              "color": "#E5ECF6",
              "width": 0.5
             }
            },
            "type": "barpolar"
           }
          ],
          "carpet": [
           {
            "aaxis": {
             "endlinecolor": "#2a3f5f",
             "gridcolor": "white",
             "linecolor": "white",
             "minorgridcolor": "white",
             "startlinecolor": "#2a3f5f"
            },
            "baxis": {
             "endlinecolor": "#2a3f5f",
             "gridcolor": "white",
             "linecolor": "white",
             "minorgridcolor": "white",
             "startlinecolor": "#2a3f5f"
            },
            "type": "carpet"
           }
          ],
          "choropleth": [
           {
            "colorbar": {
             "outlinewidth": 0,
             "ticks": ""
            },
            "type": "choropleth"
           }
          ],
          "contour": [
           {
            "colorbar": {
             "outlinewidth": 0,
             "ticks": ""
            },
            "colorscale": [
             [
              0,
              "#0d0887"
             ],
             [
              0.1111111111111111,
              "#46039f"
             ],
             [
              0.2222222222222222,
              "#7201a8"
             ],
             [
              0.3333333333333333,
              "#9c179e"
             ],
             [
              0.4444444444444444,
              "#bd3786"
             ],
             [
              0.5555555555555556,
              "#d8576b"
             ],
             [
              0.6666666666666666,
              "#ed7953"
             ],
             [
              0.7777777777777778,
              "#fb9f3a"
             ],
             [
              0.8888888888888888,
              "#fdca26"
             ],
             [
              1,
              "#f0f921"
             ]
            ],
            "type": "contour"
           }
          ],
          "contourcarpet": [
           {
            "colorbar": {
             "outlinewidth": 0,
             "ticks": ""
            },
            "type": "contourcarpet"
           }
          ],
          "heatmap": [
           {
            "colorbar": {
             "outlinewidth": 0,
             "ticks": ""
            },
            "colorscale": [
             [
              0,
              "#0d0887"
             ],
             [
              0.1111111111111111,
              "#46039f"
             ],
             [
              0.2222222222222222,
              "#7201a8"
             ],
             [
              0.3333333333333333,
              "#9c179e"
             ],
             [
              0.4444444444444444,
              "#bd3786"
             ],
             [
              0.5555555555555556,
              "#d8576b"
             ],
             [
              0.6666666666666666,
              "#ed7953"
             ],
             [
              0.7777777777777778,
              "#fb9f3a"
             ],
             [
              0.8888888888888888,
              "#fdca26"
             ],
             [
              1,
              "#f0f921"
             ]
            ],
            "type": "heatmap"
           }
          ],
          "heatmapgl": [
           {
            "colorbar": {
             "outlinewidth": 0,
             "ticks": ""
            },
            "colorscale": [
             [
              0,
              "#0d0887"
             ],
             [
              0.1111111111111111,
              "#46039f"
             ],
             [
              0.2222222222222222,
              "#7201a8"
             ],
             [
              0.3333333333333333,
              "#9c179e"
             ],
             [
              0.4444444444444444,
              "#bd3786"
             ],
             [
              0.5555555555555556,
              "#d8576b"
             ],
             [
              0.6666666666666666,
              "#ed7953"
             ],
             [
              0.7777777777777778,
              "#fb9f3a"
             ],
             [
              0.8888888888888888,
              "#fdca26"
             ],
             [
              1,
              "#f0f921"
             ]
            ],
            "type": "heatmapgl"
           }
          ],
          "histogram": [
           {
            "marker": {
             "colorbar": {
              "outlinewidth": 0,
              "ticks": ""
             }
            },
            "type": "histogram"
           }
          ],
          "histogram2d": [
           {
            "colorbar": {
             "outlinewidth": 0,
             "ticks": ""
            },
            "colorscale": [
             [
              0,
              "#0d0887"
             ],
             [
              0.1111111111111111,
              "#46039f"
             ],
             [
              0.2222222222222222,
              "#7201a8"
             ],
             [
              0.3333333333333333,
              "#9c179e"
             ],
             [
              0.4444444444444444,
              "#bd3786"
             ],
             [
              0.5555555555555556,
              "#d8576b"
             ],
             [
              0.6666666666666666,
              "#ed7953"
             ],
             [
              0.7777777777777778,
              "#fb9f3a"
             ],
             [
              0.8888888888888888,
              "#fdca26"
             ],
             [
              1,
              "#f0f921"
             ]
            ],
            "type": "histogram2d"
           }
          ],
          "histogram2dcontour": [
           {
            "colorbar": {
             "outlinewidth": 0,
             "ticks": ""
            },
            "colorscale": [
             [
              0,
              "#0d0887"
             ],
             [
              0.1111111111111111,
              "#46039f"
             ],
             [
              0.2222222222222222,
              "#7201a8"
             ],
             [
              0.3333333333333333,
              "#9c179e"
             ],
             [
              0.4444444444444444,
              "#bd3786"
             ],
             [
              0.5555555555555556,
              "#d8576b"
             ],
             [
              0.6666666666666666,
              "#ed7953"
             ],
             [
              0.7777777777777778,
              "#fb9f3a"
             ],
             [
              0.8888888888888888,
              "#fdca26"
             ],
             [
              1,
              "#f0f921"
             ]
            ],
            "type": "histogram2dcontour"
           }
          ],
          "mesh3d": [
           {
            "colorbar": {
             "outlinewidth": 0,
             "ticks": ""
            },
            "type": "mesh3d"
           }
          ],
          "parcoords": [
           {
            "line": {
             "colorbar": {
              "outlinewidth": 0,
              "ticks": ""
             }
            },
            "type": "parcoords"
           }
          ],
          "pie": [
           {
            "automargin": true,
            "type": "pie"
           }
          ],
          "scatter": [
           {
            "marker": {
             "colorbar": {
              "outlinewidth": 0,
              "ticks": ""
             }
            },
            "type": "scatter"
           }
          ],
          "scatter3d": [
           {
            "line": {
             "colorbar": {
              "outlinewidth": 0,
              "ticks": ""
             }
            },
            "marker": {
             "colorbar": {
              "outlinewidth": 0,
              "ticks": ""
             }
            },
            "type": "scatter3d"
           }
          ],
          "scattercarpet": [
           {
            "marker": {
             "colorbar": {
              "outlinewidth": 0,
              "ticks": ""
             }
            },
            "type": "scattercarpet"
           }
          ],
          "scattergeo": [
           {
            "marker": {
             "colorbar": {
              "outlinewidth": 0,
              "ticks": ""
             }
            },
            "type": "scattergeo"
           }
          ],
          "scattergl": [
           {
            "marker": {
             "colorbar": {
              "outlinewidth": 0,
              "ticks": ""
             }
            },
            "type": "scattergl"
           }
          ],
          "scattermapbox": [
           {
            "marker": {
             "colorbar": {
              "outlinewidth": 0,
              "ticks": ""
             }
            },
            "type": "scattermapbox"
           }
          ],
          "scatterpolar": [
           {
            "marker": {
             "colorbar": {
              "outlinewidth": 0,
              "ticks": ""
             }
            },
            "type": "scatterpolar"
           }
          ],
          "scatterpolargl": [
           {
            "marker": {
             "colorbar": {
              "outlinewidth": 0,
              "ticks": ""
             }
            },
            "type": "scatterpolargl"
           }
          ],
          "scatterternary": [
           {
            "marker": {
             "colorbar": {
              "outlinewidth": 0,
              "ticks": ""
             }
            },
            "type": "scatterternary"
           }
          ],
          "surface": [
           {
            "colorbar": {
             "outlinewidth": 0,
             "ticks": ""
            },
            "colorscale": [
             [
              0,
              "#0d0887"
             ],
             [
              0.1111111111111111,
              "#46039f"
             ],
             [
              0.2222222222222222,
              "#7201a8"
             ],
             [
              0.3333333333333333,
              "#9c179e"
             ],
             [
              0.4444444444444444,
              "#bd3786"
             ],
             [
              0.5555555555555556,
              "#d8576b"
             ],
             [
              0.6666666666666666,
              "#ed7953"
             ],
             [
              0.7777777777777778,
              "#fb9f3a"
             ],
             [
              0.8888888888888888,
              "#fdca26"
             ],
             [
              1,
              "#f0f921"
             ]
            ],
            "type": "surface"
           }
          ],
          "table": [
           {
            "cells": {
             "fill": {
              "color": "#EBF0F8"
             },
             "line": {
              "color": "white"
             }
            },
            "header": {
             "fill": {
              "color": "#C8D4E3"
             },
             "line": {
              "color": "white"
             }
            },
            "type": "table"
           }
          ]
         },
         "layout": {
          "annotationdefaults": {
           "arrowcolor": "#2a3f5f",
           "arrowhead": 0,
           "arrowwidth": 1
          },
          "coloraxis": {
           "colorbar": {
            "outlinewidth": 0,
            "ticks": ""
           }
          },
          "colorscale": {
           "diverging": [
            [
             0,
             "#8e0152"
            ],
            [
             0.1,
             "#c51b7d"
            ],
            [
             0.2,
             "#de77ae"
            ],
            [
             0.3,
             "#f1b6da"
            ],
            [
             0.4,
             "#fde0ef"
            ],
            [
             0.5,
             "#f7f7f7"
            ],
            [
             0.6,
             "#e6f5d0"
            ],
            [
             0.7,
             "#b8e186"
            ],
            [
             0.8,
             "#7fbc41"
            ],
            [
             0.9,
             "#4d9221"
            ],
            [
             1,
             "#276419"
            ]
           ],
           "sequential": [
            [
             0,
             "#0d0887"
            ],
            [
             0.1111111111111111,
             "#46039f"
            ],
            [
             0.2222222222222222,
             "#7201a8"
            ],
            [
             0.3333333333333333,
             "#9c179e"
            ],
            [
             0.4444444444444444,
             "#bd3786"
            ],
            [
             0.5555555555555556,
             "#d8576b"
            ],
            [
             0.6666666666666666,
             "#ed7953"
            ],
            [
             0.7777777777777778,
             "#fb9f3a"
            ],
            [
             0.8888888888888888,
             "#fdca26"
            ],
            [
             1,
             "#f0f921"
            ]
           ],
           "sequentialminus": [
            [
             0,
             "#0d0887"
            ],
            [
             0.1111111111111111,
             "#46039f"
            ],
            [
             0.2222222222222222,
             "#7201a8"
            ],
            [
             0.3333333333333333,
             "#9c179e"
            ],
            [
             0.4444444444444444,
             "#bd3786"
            ],
            [
             0.5555555555555556,
             "#d8576b"
            ],
            [
             0.6666666666666666,
             "#ed7953"
            ],
            [
             0.7777777777777778,
             "#fb9f3a"
            ],
            [
             0.8888888888888888,
             "#fdca26"
            ],
            [
             1,
             "#f0f921"
            ]
           ]
          },
          "colorway": [
           "#636efa",
           "#EF553B",
           "#00cc96",
           "#ab63fa",
           "#FFA15A",
           "#19d3f3",
           "#FF6692",
           "#B6E880",
           "#FF97FF",
           "#FECB52"
          ],
          "font": {
           "color": "#2a3f5f"
          },
          "geo": {
           "bgcolor": "white",
           "lakecolor": "white",
           "landcolor": "#E5ECF6",
           "showlakes": true,
           "showland": true,
           "subunitcolor": "white"
          },
          "hoverlabel": {
           "align": "left"
          },
          "hovermode": "closest",
          "mapbox": {
           "style": "light"
          },
          "paper_bgcolor": "white",
          "plot_bgcolor": "#E5ECF6",
          "polar": {
           "angularaxis": {
            "gridcolor": "white",
            "linecolor": "white",
            "ticks": ""
           },
           "bgcolor": "#E5ECF6",
           "radialaxis": {
            "gridcolor": "white",
            "linecolor": "white",
            "ticks": ""
           }
          },
          "scene": {
           "xaxis": {
            "backgroundcolor": "#E5ECF6",
            "gridcolor": "white",
            "gridwidth": 2,
            "linecolor": "white",
            "showbackground": true,
            "ticks": "",
            "zerolinecolor": "white"
           },
           "yaxis": {
            "backgroundcolor": "#E5ECF6",
            "gridcolor": "white",
            "gridwidth": 2,
            "linecolor": "white",
            "showbackground": true,
            "ticks": "",
            "zerolinecolor": "white"
           },
           "zaxis": {
            "backgroundcolor": "#E5ECF6",
            "gridcolor": "white",
            "gridwidth": 2,
            "linecolor": "white",
            "showbackground": true,
            "ticks": "",
            "zerolinecolor": "white"
           }
          },
          "shapedefaults": {
           "line": {
            "color": "#2a3f5f"
           }
          },
          "ternary": {
           "aaxis": {
            "gridcolor": "white",
            "linecolor": "white",
            "ticks": ""
           },
           "baxis": {
            "gridcolor": "white",
            "linecolor": "white",
            "ticks": ""
           },
           "bgcolor": "#E5ECF6",
           "caxis": {
            "gridcolor": "white",
            "linecolor": "white",
            "ticks": ""
           }
          },
          "title": {
           "x": 0.05
          },
          "xaxis": {
           "automargin": true,
           "gridcolor": "white",
           "linecolor": "white",
           "ticks": "",
           "title": {
            "standoff": 15
           },
           "zerolinecolor": "white",
           "zerolinewidth": 2
          },
          "yaxis": {
           "automargin": true,
           "gridcolor": "white",
           "linecolor": "white",
           "ticks": "",
           "title": {
            "standoff": 15
           },
           "zerolinecolor": "white",
           "zerolinewidth": 2
          }
         }
        },
        "title": {
         "text": "Daily predicted Confirmed Covid cases of INDIA"
        },
        "xaxis": {
         "title": {
          "text": "Date"
         }
        },
        "yaxis": {
         "title": {
          "text": "Close"
         }
        }
       }
      },
      "text/html": [
       "<div>                            <div id=\"ee5dd85d-77c2-47d1-a50c-964ed3140bd2\" class=\"plotly-graph-div\" style=\"height:525px; width:100%;\"></div>            <script type=\"text/javascript\">                require([\"plotly\"], function(Plotly) {                    window.PLOTLYENV=window.PLOTLYENV || {};                                    if (document.getElementById(\"ee5dd85d-77c2-47d1-a50c-964ed3140bd2\")) {                    Plotly.newPlot(                        \"ee5dd85d-77c2-47d1-a50c-964ed3140bd2\",                        [{\"mode\": \"lines\", \"name\": \"Daily confirmed\", \"type\": \"scatter\", \"x\": [\"18-Apr-21\", \"19-Apr-21\", \"20-Apr-21\", \"21-Apr-21\", \"22-Apr-21\", \"23-Apr-21\", \"24-Apr-21\", \"25-Apr-21\", \"26-Apr-21\", \"27-Apr-21\", \"28-Apr-21\", \"29-Apr-21\", \"30-Apr-21\", \"01-May-21\", \"02-May-21\", \"03-May-21\", \"04-May-21\", \"05-May-21\", \"06-May-21\", \"07-May-21\", \"08-May-21\", \"09-May-21\", \"10-May-21\", \"11-May-21\", \"12-May-21\", \"13-May-21\", \"14-May-21\", \"15-May-21\", \"16-May-21\", \"17-May-21\", \"18-May-21\", \"19-May-21\", \"20-May-21\", \"21-May-21\", \"22-May-21\", \"23-May-21\", \"24-May-21\", \"25-May-21\", \"26-May-21\", \"27-May-21\", \"28-May-21\", \"29-May-21\", \"30-May-21\", \"31-May-21\", \"01-Jun-21\", \"02-Jun-21\", \"03-Jun-21\", \"04-Jun-21\", \"05-Jun-21\", \"06-Jun-21\", \"07-Jun-21\", \"08-Jun-21\", \"09-Jun-21\", \"10-Jun-21\", \"11-Jun-21\", \"12-Jun-21\", \"13-Jun-21\", \"14-Jun-21\", \"15-Jun-21\", \"16-Jun-21\"], \"y\": [275063, 257003, 294365, 315752, 332531, 345296, 348996, 354658, 319471, 362913, 379404, 386773, 402014, 392576, 370090, 355769, 382847, 412624, 414280, 406901, 403808, 366455, 329491, 348555, 362632, 343005, 326256, 310757, 281837, 263021, 267246, 276187, 259242, 257299, 240897, 222834, 195857, 208992, 211510, 186075, 174083, 165282, 153396, 126883, 133152, 134044, 132424, 120454, 114488, 101209, 85804, 92787, 93883, 91849, 84574, 80525, 71001, 60008, 62214]}, {\"line\": {\"color\": \"red\"}, \"mode\": \"lines\", \"name\": \"Predicted confirm\", \"type\": \"scatter\", \"x\": [\"18-Apr-21\", \"19-Apr-21\", \"20-Apr-21\", \"21-Apr-21\", \"22-Apr-21\", \"23-Apr-21\", \"24-Apr-21\", \"25-Apr-21\", \"26-Apr-21\", \"27-Apr-21\", \"28-Apr-21\", \"29-Apr-21\", \"30-Apr-21\", \"01-May-21\", \"02-May-21\", \"03-May-21\", \"04-May-21\", \"05-May-21\", \"06-May-21\", \"07-May-21\", \"08-May-21\", \"09-May-21\", \"10-May-21\", \"11-May-21\", \"12-May-21\", \"13-May-21\", \"14-May-21\", \"15-May-21\", \"16-May-21\", \"17-May-21\", \"18-May-21\", \"19-May-21\", \"20-May-21\", \"21-May-21\", \"22-May-21\", \"23-May-21\", \"24-May-21\", \"25-May-21\", \"26-May-21\", \"27-May-21\", \"28-May-21\", \"29-May-21\", \"30-May-21\", \"31-May-21\", \"01-Jun-21\", \"02-Jun-21\", \"03-Jun-21\", \"04-Jun-21\", \"05-Jun-21\", \"06-Jun-21\", \"07-Jun-21\", \"08-Jun-21\", \"09-Jun-21\", \"10-Jun-21\", \"11-Jun-21\", \"12-Jun-21\", \"13-Jun-21\", \"14-Jun-21\", \"15-Jun-21\", \"16-Jun-21\"], \"y\": [247961.640625, 231681.140625, 265361.8125, 284641.5, 299767.28125, 311274.5, 314609.9375, 319714.0625, 287994.09375, 327155.6875, 342021.8125, 348664.75, 362404.0, 353895.96875, 333625.53125, 320715.59375, 345125.5625, 371968.59375, 373461.4375, 366809.5, 364021.25, 330348.6875, 297026.8125, 314212.40625, 326902.375, 309209.25, 294110.5625, 280138.6875, 254068.203125, 237106.171875, 240914.859375, 248974.890625, 233699.515625, 231947.953125, 217162.0625, 200878.859375, 176559.921875, 188400.71875, 190670.625, 167741.765625, 156931.34375, 148997.53125, 138282.671875, 114382.0390625, 120033.3515625, 120837.4609375, 119377.078125, 108586.5078125, 103208.34375, 91237.7421875, 77350.6171875, 83645.5703125, 84633.5859375, 82799.9921875, 76241.8203125, 72591.7734375, 64006.1796875, 54096.33203125, 56084.97265625]}],                        {\"template\": {\"data\": {\"bar\": [{\"error_x\": {\"color\": \"#2a3f5f\"}, \"error_y\": {\"color\": \"#2a3f5f\"}, \"marker\": {\"line\": {\"color\": \"#E5ECF6\", \"width\": 0.5}}, \"type\": \"bar\"}], \"barpolar\": [{\"marker\": {\"line\": {\"color\": \"#E5ECF6\", \"width\": 0.5}}, \"type\": \"barpolar\"}], \"carpet\": [{\"aaxis\": {\"endlinecolor\": \"#2a3f5f\", \"gridcolor\": \"white\", \"linecolor\": \"white\", \"minorgridcolor\": \"white\", \"startlinecolor\": \"#2a3f5f\"}, \"baxis\": {\"endlinecolor\": \"#2a3f5f\", \"gridcolor\": \"white\", \"linecolor\": \"white\", \"minorgridcolor\": \"white\", \"startlinecolor\": \"#2a3f5f\"}, \"type\": \"carpet\"}], \"choropleth\": [{\"colorbar\": {\"outlinewidth\": 0, \"ticks\": \"\"}, \"type\": \"choropleth\"}], \"contour\": [{\"colorbar\": {\"outlinewidth\": 0, \"ticks\": \"\"}, \"colorscale\": [[0.0, \"#0d0887\"], [0.1111111111111111, \"#46039f\"], [0.2222222222222222, \"#7201a8\"], [0.3333333333333333, \"#9c179e\"], [0.4444444444444444, \"#bd3786\"], [0.5555555555555556, \"#d8576b\"], [0.6666666666666666, \"#ed7953\"], [0.7777777777777778, \"#fb9f3a\"], [0.8888888888888888, \"#fdca26\"], [1.0, \"#f0f921\"]], \"type\": \"contour\"}], \"contourcarpet\": [{\"colorbar\": {\"outlinewidth\": 0, \"ticks\": \"\"}, \"type\": \"contourcarpet\"}], \"heatmap\": [{\"colorbar\": {\"outlinewidth\": 0, \"ticks\": \"\"}, \"colorscale\": [[0.0, \"#0d0887\"], [0.1111111111111111, \"#46039f\"], [0.2222222222222222, \"#7201a8\"], [0.3333333333333333, \"#9c179e\"], [0.4444444444444444, \"#bd3786\"], [0.5555555555555556, \"#d8576b\"], [0.6666666666666666, \"#ed7953\"], [0.7777777777777778, \"#fb9f3a\"], [0.8888888888888888, \"#fdca26\"], [1.0, \"#f0f921\"]], \"type\": \"heatmap\"}], \"heatmapgl\": [{\"colorbar\": {\"outlinewidth\": 0, \"ticks\": \"\"}, \"colorscale\": [[0.0, \"#0d0887\"], [0.1111111111111111, \"#46039f\"], [0.2222222222222222, \"#7201a8\"], [0.3333333333333333, \"#9c179e\"], [0.4444444444444444, \"#bd3786\"], [0.5555555555555556, \"#d8576b\"], [0.6666666666666666, \"#ed7953\"], [0.7777777777777778, \"#fb9f3a\"], [0.8888888888888888, \"#fdca26\"], [1.0, \"#f0f921\"]], \"type\": \"heatmapgl\"}], \"histogram\": [{\"marker\": {\"colorbar\": {\"outlinewidth\": 0, \"ticks\": \"\"}}, \"type\": \"histogram\"}], \"histogram2d\": [{\"colorbar\": {\"outlinewidth\": 0, \"ticks\": \"\"}, \"colorscale\": [[0.0, \"#0d0887\"], [0.1111111111111111, \"#46039f\"], [0.2222222222222222, \"#7201a8\"], [0.3333333333333333, \"#9c179e\"], [0.4444444444444444, \"#bd3786\"], [0.5555555555555556, \"#d8576b\"], [0.6666666666666666, \"#ed7953\"], [0.7777777777777778, \"#fb9f3a\"], [0.8888888888888888, \"#fdca26\"], [1.0, \"#f0f921\"]], \"type\": \"histogram2d\"}], \"histogram2dcontour\": [{\"colorbar\": {\"outlinewidth\": 0, \"ticks\": \"\"}, \"colorscale\": [[0.0, \"#0d0887\"], [0.1111111111111111, \"#46039f\"], [0.2222222222222222, \"#7201a8\"], [0.3333333333333333, \"#9c179e\"], [0.4444444444444444, \"#bd3786\"], [0.5555555555555556, \"#d8576b\"], [0.6666666666666666, \"#ed7953\"], [0.7777777777777778, \"#fb9f3a\"], [0.8888888888888888, \"#fdca26\"], [1.0, \"#f0f921\"]], \"type\": \"histogram2dcontour\"}], \"mesh3d\": [{\"colorbar\": {\"outlinewidth\": 0, \"ticks\": \"\"}, \"type\": \"mesh3d\"}], \"parcoords\": [{\"line\": {\"colorbar\": {\"outlinewidth\": 0, \"ticks\": \"\"}}, \"type\": \"parcoords\"}], \"pie\": [{\"automargin\": true, \"type\": \"pie\"}], \"scatter\": [{\"marker\": {\"colorbar\": {\"outlinewidth\": 0, \"ticks\": \"\"}}, \"type\": \"scatter\"}], \"scatter3d\": [{\"line\": {\"colorbar\": {\"outlinewidth\": 0, \"ticks\": \"\"}}, \"marker\": {\"colorbar\": {\"outlinewidth\": 0, \"ticks\": \"\"}}, \"type\": \"scatter3d\"}], \"scattercarpet\": [{\"marker\": {\"colorbar\": {\"outlinewidth\": 0, \"ticks\": \"\"}}, \"type\": \"scattercarpet\"}], \"scattergeo\": [{\"marker\": {\"colorbar\": {\"outlinewidth\": 0, \"ticks\": \"\"}}, \"type\": \"scattergeo\"}], \"scattergl\": [{\"marker\": {\"colorbar\": {\"outlinewidth\": 0, \"ticks\": \"\"}}, \"type\": \"scattergl\"}], \"scattermapbox\": [{\"marker\": {\"colorbar\": {\"outlinewidth\": 0, \"ticks\": \"\"}}, \"type\": \"scattermapbox\"}], \"scatterpolar\": [{\"marker\": {\"colorbar\": {\"outlinewidth\": 0, \"ticks\": \"\"}}, \"type\": \"scatterpolar\"}], \"scatterpolargl\": [{\"marker\": {\"colorbar\": {\"outlinewidth\": 0, \"ticks\": \"\"}}, \"type\": \"scatterpolargl\"}], \"scatterternary\": [{\"marker\": {\"colorbar\": {\"outlinewidth\": 0, \"ticks\": \"\"}}, \"type\": \"scatterternary\"}], \"surface\": [{\"colorbar\": {\"outlinewidth\": 0, \"ticks\": \"\"}, \"colorscale\": [[0.0, \"#0d0887\"], [0.1111111111111111, \"#46039f\"], [0.2222222222222222, \"#7201a8\"], [0.3333333333333333, \"#9c179e\"], [0.4444444444444444, \"#bd3786\"], [0.5555555555555556, \"#d8576b\"], [0.6666666666666666, \"#ed7953\"], [0.7777777777777778, \"#fb9f3a\"], [0.8888888888888888, \"#fdca26\"], [1.0, \"#f0f921\"]], \"type\": \"surface\"}], \"table\": [{\"cells\": {\"fill\": {\"color\": \"#EBF0F8\"}, \"line\": {\"color\": \"white\"}}, \"header\": {\"fill\": {\"color\": \"#C8D4E3\"}, \"line\": {\"color\": \"white\"}}, \"type\": \"table\"}]}, \"layout\": {\"annotationdefaults\": {\"arrowcolor\": \"#2a3f5f\", \"arrowhead\": 0, \"arrowwidth\": 1}, \"coloraxis\": {\"colorbar\": {\"outlinewidth\": 0, \"ticks\": \"\"}}, \"colorscale\": {\"diverging\": [[0, \"#8e0152\"], [0.1, \"#c51b7d\"], [0.2, \"#de77ae\"], [0.3, \"#f1b6da\"], [0.4, \"#fde0ef\"], [0.5, \"#f7f7f7\"], [0.6, \"#e6f5d0\"], [0.7, \"#b8e186\"], [0.8, \"#7fbc41\"], [0.9, \"#4d9221\"], [1, \"#276419\"]], \"sequential\": [[0.0, \"#0d0887\"], [0.1111111111111111, \"#46039f\"], [0.2222222222222222, \"#7201a8\"], [0.3333333333333333, \"#9c179e\"], [0.4444444444444444, \"#bd3786\"], [0.5555555555555556, \"#d8576b\"], [0.6666666666666666, \"#ed7953\"], [0.7777777777777778, \"#fb9f3a\"], [0.8888888888888888, \"#fdca26\"], [1.0, \"#f0f921\"]], \"sequentialminus\": [[0.0, \"#0d0887\"], [0.1111111111111111, \"#46039f\"], [0.2222222222222222, \"#7201a8\"], [0.3333333333333333, \"#9c179e\"], [0.4444444444444444, \"#bd3786\"], [0.5555555555555556, \"#d8576b\"], [0.6666666666666666, \"#ed7953\"], [0.7777777777777778, \"#fb9f3a\"], [0.8888888888888888, \"#fdca26\"], [1.0, \"#f0f921\"]]}, \"colorway\": [\"#636efa\", \"#EF553B\", \"#00cc96\", \"#ab63fa\", \"#FFA15A\", \"#19d3f3\", \"#FF6692\", \"#B6E880\", \"#FF97FF\", \"#FECB52\"], \"font\": {\"color\": \"#2a3f5f\"}, \"geo\": {\"bgcolor\": \"white\", \"lakecolor\": \"white\", \"landcolor\": \"#E5ECF6\", \"showlakes\": true, \"showland\": true, \"subunitcolor\": \"white\"}, \"hoverlabel\": {\"align\": \"left\"}, \"hovermode\": \"closest\", \"mapbox\": {\"style\": \"light\"}, \"paper_bgcolor\": \"white\", \"plot_bgcolor\": \"#E5ECF6\", \"polar\": {\"angularaxis\": {\"gridcolor\": \"white\", \"linecolor\": \"white\", \"ticks\": \"\"}, \"bgcolor\": \"#E5ECF6\", \"radialaxis\": {\"gridcolor\": \"white\", \"linecolor\": \"white\", \"ticks\": \"\"}}, \"scene\": {\"xaxis\": {\"backgroundcolor\": \"#E5ECF6\", \"gridcolor\": \"white\", \"gridwidth\": 2, \"linecolor\": \"white\", \"showbackground\": true, \"ticks\": \"\", \"zerolinecolor\": \"white\"}, \"yaxis\": {\"backgroundcolor\": \"#E5ECF6\", \"gridcolor\": \"white\", \"gridwidth\": 2, \"linecolor\": \"white\", \"showbackground\": true, \"ticks\": \"\", \"zerolinecolor\": \"white\"}, \"zaxis\": {\"backgroundcolor\": \"#E5ECF6\", \"gridcolor\": \"white\", \"gridwidth\": 2, \"linecolor\": \"white\", \"showbackground\": true, \"ticks\": \"\", \"zerolinecolor\": \"white\"}}, \"shapedefaults\": {\"line\": {\"color\": \"#2a3f5f\"}}, \"ternary\": {\"aaxis\": {\"gridcolor\": \"white\", \"linecolor\": \"white\", \"ticks\": \"\"}, \"baxis\": {\"gridcolor\": \"white\", \"linecolor\": \"white\", \"ticks\": \"\"}, \"bgcolor\": \"#E5ECF6\", \"caxis\": {\"gridcolor\": \"white\", \"linecolor\": \"white\", \"ticks\": \"\"}}, \"title\": {\"x\": 0.05}, \"xaxis\": {\"automargin\": true, \"gridcolor\": \"white\", \"linecolor\": \"white\", \"ticks\": \"\", \"title\": {\"standoff\": 15}, \"zerolinecolor\": \"white\", \"zerolinewidth\": 2}, \"yaxis\": {\"automargin\": true, \"gridcolor\": \"white\", \"linecolor\": \"white\", \"ticks\": \"\", \"title\": {\"standoff\": 15}, \"zerolinecolor\": \"white\", \"zerolinewidth\": 2}}}, \"title\": {\"text\": \"Daily predicted Confirmed Covid cases of INDIA\"}, \"xaxis\": {\"title\": {\"text\": \"Date\"}}, \"yaxis\": {\"title\": {\"text\": \"Close\"}}},                        {\"responsive\": true}                    ).then(function(){\n",
       "                            \n",
       "var gd = document.getElementById('ee5dd85d-77c2-47d1-a50c-964ed3140bd2');\n",
       "var x = new MutationObserver(function (mutations, observer) {{\n",
       "        var display = window.getComputedStyle(gd).display;\n",
       "        if (!display || display === 'none') {{\n",
       "            console.log([gd, 'removed!']);\n",
       "            Plotly.purge(gd);\n",
       "            observer.disconnect();\n",
       "        }}\n",
       "}});\n",
       "\n",
       "// Listen for the removal of the full notebook cells\n",
       "var notebookContainer = gd.closest('#notebook-container');\n",
       "if (notebookContainer) {{\n",
       "    x.observe(notebookContainer, {childList: true});\n",
       "}}\n",
       "\n",
       "// Listen for the clearing of the current output cell\n",
       "var outputEl = gd.closest('.output');\n",
       "if (outputEl) {{\n",
       "    x.observe(outputEl, {childList: true});\n",
       "}}\n",
       "\n",
       "                        })                };                });            </script>        </div>"
      ]
     },
     "metadata": {},
     "output_type": "display_data"
    }
   ],
   "source": [
    "prediction = model.predict(test_generator)\n",
    "close_train = close_train.reshape((-1))\n",
    "close_data2 = close_data2.reshape((-1))\n",
    "prediction = prediction.reshape((-1))\n",
    "\n",
    "trace1 = go.Scatter(\n",
    "    x = date_test,\n",
    "    y = close_data2,\n",
    "    mode = 'lines',\n",
    "    name = 'Daily confirmed',\n",
    "    \n",
    "    \n",
    "    \n",
    ")\n",
    "trace2 = go.Scatter(\n",
    "    x = date_test,\n",
    "    y = prediction,\n",
    "    mode = 'lines',\n",
    "    name = 'Predicted confirm',\n",
    "    line = dict(color = 'red')\n",
    "    \n",
    ")\n",
    "\n",
    "layout = go.Layout(\n",
    "    title = \"Daily predicted Confirmed Covid cases of INDIA\",\n",
    "    xaxis = {'title' : \"Date\"},\n",
    "    yaxis = {'title' : \"Close\"}\n",
    ")\n",
    "fig = go.Figure(data=[trace1, trace2], layout=layout)\n",
    "fig.show()"
   ]
  },
  {
   "cell_type": "code",
   "execution_count": 23,
   "metadata": {},
   "outputs": [
    {
     "data": {
      "text/plain": [
       "array([247961.64 , 231681.14 , 265361.8  , 284641.5  , 299767.28 ,\n",
       "       311274.5  , 314609.94 , 319714.06 , 287994.1  , 327155.7  ,\n",
       "       342021.8  , 348664.75 , 362404.   , 353895.97 , 333625.53 ,\n",
       "       320715.6  , 345125.56 , 371968.6  , 373461.44 , 366809.5  ,\n",
       "       364021.25 , 330348.7  , 297026.8  , 314212.4  , 326902.38 ,\n",
       "       309209.25 , 294110.56 , 280138.7  , 254068.2  , 237106.17 ,\n",
       "       240914.86 , 248974.89 , 233699.52 , 231947.95 , 217162.06 ,\n",
       "       200878.86 , 176559.92 , 188400.72 , 190670.62 , 167741.77 ,\n",
       "       156931.34 , 148997.53 , 138282.67 , 114382.04 , 120033.35 ,\n",
       "       120837.46 , 119377.08 , 108586.51 , 103208.34 ,  91237.74 ,\n",
       "        77350.62 ,  83645.57 ,  84633.586,  82799.99 ,  76241.82 ,\n",
       "        72591.77 ,  64006.18 ,  54096.332,  56084.973], dtype=float32)"
      ]
     },
     "execution_count": 23,
     "metadata": {},
     "output_type": "execute_result"
    }
   ],
   "source": [
    "prediction = prediction.reshape((-1))\n",
    "prediction"
   ]
  },
  {
   "cell_type": "code",
   "execution_count": 24,
   "metadata": {},
   "outputs": [
    {
     "name": "stdout",
     "output_type": "stream",
     "text": [
      "\n",
      "Pandas DataFrame: \n"
     ]
    }
   ],
   "source": [
    "df= pd.DataFrame( columns =['Daily Confirmed','Daily Confpred'],index=date_test)\n",
    "print(\"\\nPandas DataFrame: \")\n",
    "df\n",
    "df = df.drop(df.index[-1])"
   ]
  },
  {
   "cell_type": "code",
   "execution_count": 25,
   "metadata": {},
   "outputs": [
    {
     "data": {
      "text/html": [
       "<div>\n",
       "<style scoped>\n",
       "    .dataframe tbody tr th:only-of-type {\n",
       "        vertical-align: middle;\n",
       "    }\n",
       "\n",
       "    .dataframe tbody tr th {\n",
       "        vertical-align: top;\n",
       "    }\n",
       "\n",
       "    .dataframe thead th {\n",
       "        text-align: right;\n",
       "    }\n",
       "</style>\n",
       "<table border=\"1\" class=\"dataframe\">\n",
       "  <thead>\n",
       "    <tr style=\"text-align: right;\">\n",
       "      <th></th>\n",
       "      <th>Daily Confirmed</th>\n",
       "      <th>Daily Confpred</th>\n",
       "    </tr>\n",
       "    <tr>\n",
       "      <th>Date</th>\n",
       "      <th></th>\n",
       "      <th></th>\n",
       "    </tr>\n",
       "  </thead>\n",
       "  <tbody>\n",
       "    <tr>\n",
       "      <th>18-Apr-21</th>\n",
       "      <td>275063</td>\n",
       "      <td>247961.640625</td>\n",
       "    </tr>\n",
       "    <tr>\n",
       "      <th>19-Apr-21</th>\n",
       "      <td>257003</td>\n",
       "      <td>231681.140625</td>\n",
       "    </tr>\n",
       "    <tr>\n",
       "      <th>20-Apr-21</th>\n",
       "      <td>294365</td>\n",
       "      <td>265361.812500</td>\n",
       "    </tr>\n",
       "    <tr>\n",
       "      <th>21-Apr-21</th>\n",
       "      <td>315752</td>\n",
       "      <td>284641.500000</td>\n",
       "    </tr>\n",
       "    <tr>\n",
       "      <th>22-Apr-21</th>\n",
       "      <td>332531</td>\n",
       "      <td>299767.281250</td>\n",
       "    </tr>\n",
       "    <tr>\n",
       "      <th>23-Apr-21</th>\n",
       "      <td>345296</td>\n",
       "      <td>311274.500000</td>\n",
       "    </tr>\n",
       "    <tr>\n",
       "      <th>24-Apr-21</th>\n",
       "      <td>348996</td>\n",
       "      <td>314609.937500</td>\n",
       "    </tr>\n",
       "    <tr>\n",
       "      <th>25-Apr-21</th>\n",
       "      <td>354658</td>\n",
       "      <td>319714.062500</td>\n",
       "    </tr>\n",
       "    <tr>\n",
       "      <th>26-Apr-21</th>\n",
       "      <td>319471</td>\n",
       "      <td>287994.093750</td>\n",
       "    </tr>\n",
       "    <tr>\n",
       "      <th>27-Apr-21</th>\n",
       "      <td>362913</td>\n",
       "      <td>327155.687500</td>\n",
       "    </tr>\n",
       "    <tr>\n",
       "      <th>28-Apr-21</th>\n",
       "      <td>379404</td>\n",
       "      <td>342021.812500</td>\n",
       "    </tr>\n",
       "    <tr>\n",
       "      <th>29-Apr-21</th>\n",
       "      <td>386773</td>\n",
       "      <td>348664.750000</td>\n",
       "    </tr>\n",
       "    <tr>\n",
       "      <th>30-Apr-21</th>\n",
       "      <td>402014</td>\n",
       "      <td>362404.000000</td>\n",
       "    </tr>\n",
       "    <tr>\n",
       "      <th>01-May-21</th>\n",
       "      <td>392576</td>\n",
       "      <td>353895.968750</td>\n",
       "    </tr>\n",
       "    <tr>\n",
       "      <th>02-May-21</th>\n",
       "      <td>370090</td>\n",
       "      <td>333625.531250</td>\n",
       "    </tr>\n",
       "    <tr>\n",
       "      <th>03-May-21</th>\n",
       "      <td>355769</td>\n",
       "      <td>320715.593750</td>\n",
       "    </tr>\n",
       "    <tr>\n",
       "      <th>04-May-21</th>\n",
       "      <td>382847</td>\n",
       "      <td>345125.562500</td>\n",
       "    </tr>\n",
       "    <tr>\n",
       "      <th>05-May-21</th>\n",
       "      <td>412624</td>\n",
       "      <td>371968.593750</td>\n",
       "    </tr>\n",
       "    <tr>\n",
       "      <th>06-May-21</th>\n",
       "      <td>414280</td>\n",
       "      <td>373461.437500</td>\n",
       "    </tr>\n",
       "    <tr>\n",
       "      <th>07-May-21</th>\n",
       "      <td>406901</td>\n",
       "      <td>366809.500000</td>\n",
       "    </tr>\n",
       "    <tr>\n",
       "      <th>08-May-21</th>\n",
       "      <td>403808</td>\n",
       "      <td>364021.250000</td>\n",
       "    </tr>\n",
       "    <tr>\n",
       "      <th>09-May-21</th>\n",
       "      <td>366455</td>\n",
       "      <td>330348.687500</td>\n",
       "    </tr>\n",
       "    <tr>\n",
       "      <th>10-May-21</th>\n",
       "      <td>329491</td>\n",
       "      <td>297026.812500</td>\n",
       "    </tr>\n",
       "    <tr>\n",
       "      <th>11-May-21</th>\n",
       "      <td>348555</td>\n",
       "      <td>314212.406250</td>\n",
       "    </tr>\n",
       "    <tr>\n",
       "      <th>12-May-21</th>\n",
       "      <td>362632</td>\n",
       "      <td>326902.375000</td>\n",
       "    </tr>\n",
       "    <tr>\n",
       "      <th>13-May-21</th>\n",
       "      <td>343005</td>\n",
       "      <td>309209.250000</td>\n",
       "    </tr>\n",
       "    <tr>\n",
       "      <th>14-May-21</th>\n",
       "      <td>326256</td>\n",
       "      <td>294110.562500</td>\n",
       "    </tr>\n",
       "    <tr>\n",
       "      <th>15-May-21</th>\n",
       "      <td>310757</td>\n",
       "      <td>280138.687500</td>\n",
       "    </tr>\n",
       "    <tr>\n",
       "      <th>16-May-21</th>\n",
       "      <td>281837</td>\n",
       "      <td>254068.203125</td>\n",
       "    </tr>\n",
       "    <tr>\n",
       "      <th>17-May-21</th>\n",
       "      <td>263021</td>\n",
       "      <td>237106.171875</td>\n",
       "    </tr>\n",
       "    <tr>\n",
       "      <th>18-May-21</th>\n",
       "      <td>267246</td>\n",
       "      <td>240914.859375</td>\n",
       "    </tr>\n",
       "    <tr>\n",
       "      <th>19-May-21</th>\n",
       "      <td>276187</td>\n",
       "      <td>248974.890625</td>\n",
       "    </tr>\n",
       "    <tr>\n",
       "      <th>20-May-21</th>\n",
       "      <td>259242</td>\n",
       "      <td>233699.515625</td>\n",
       "    </tr>\n",
       "    <tr>\n",
       "      <th>21-May-21</th>\n",
       "      <td>257299</td>\n",
       "      <td>231947.953125</td>\n",
       "    </tr>\n",
       "    <tr>\n",
       "      <th>22-May-21</th>\n",
       "      <td>240897</td>\n",
       "      <td>217162.062500</td>\n",
       "    </tr>\n",
       "    <tr>\n",
       "      <th>23-May-21</th>\n",
       "      <td>222834</td>\n",
       "      <td>200878.859375</td>\n",
       "    </tr>\n",
       "    <tr>\n",
       "      <th>24-May-21</th>\n",
       "      <td>195857</td>\n",
       "      <td>176559.921875</td>\n",
       "    </tr>\n",
       "    <tr>\n",
       "      <th>25-May-21</th>\n",
       "      <td>208992</td>\n",
       "      <td>188400.718750</td>\n",
       "    </tr>\n",
       "    <tr>\n",
       "      <th>26-May-21</th>\n",
       "      <td>211510</td>\n",
       "      <td>190670.625000</td>\n",
       "    </tr>\n",
       "    <tr>\n",
       "      <th>27-May-21</th>\n",
       "      <td>186075</td>\n",
       "      <td>167741.765625</td>\n",
       "    </tr>\n",
       "    <tr>\n",
       "      <th>28-May-21</th>\n",
       "      <td>174083</td>\n",
       "      <td>156931.343750</td>\n",
       "    </tr>\n",
       "    <tr>\n",
       "      <th>29-May-21</th>\n",
       "      <td>165282</td>\n",
       "      <td>148997.531250</td>\n",
       "    </tr>\n",
       "    <tr>\n",
       "      <th>30-May-21</th>\n",
       "      <td>153396</td>\n",
       "      <td>138282.671875</td>\n",
       "    </tr>\n",
       "    <tr>\n",
       "      <th>31-May-21</th>\n",
       "      <td>126883</td>\n",
       "      <td>114382.039062</td>\n",
       "    </tr>\n",
       "    <tr>\n",
       "      <th>01-Jun-21</th>\n",
       "      <td>133152</td>\n",
       "      <td>120033.351562</td>\n",
       "    </tr>\n",
       "    <tr>\n",
       "      <th>02-Jun-21</th>\n",
       "      <td>134044</td>\n",
       "      <td>120837.460938</td>\n",
       "    </tr>\n",
       "    <tr>\n",
       "      <th>03-Jun-21</th>\n",
       "      <td>132424</td>\n",
       "      <td>119377.078125</td>\n",
       "    </tr>\n",
       "    <tr>\n",
       "      <th>04-Jun-21</th>\n",
       "      <td>120454</td>\n",
       "      <td>108586.507812</td>\n",
       "    </tr>\n",
       "    <tr>\n",
       "      <th>05-Jun-21</th>\n",
       "      <td>114488</td>\n",
       "      <td>103208.343750</td>\n",
       "    </tr>\n",
       "    <tr>\n",
       "      <th>06-Jun-21</th>\n",
       "      <td>101209</td>\n",
       "      <td>91237.742188</td>\n",
       "    </tr>\n",
       "    <tr>\n",
       "      <th>07-Jun-21</th>\n",
       "      <td>85804</td>\n",
       "      <td>77350.617188</td>\n",
       "    </tr>\n",
       "    <tr>\n",
       "      <th>08-Jun-21</th>\n",
       "      <td>92787</td>\n",
       "      <td>83645.570312</td>\n",
       "    </tr>\n",
       "    <tr>\n",
       "      <th>09-Jun-21</th>\n",
       "      <td>93883</td>\n",
       "      <td>84633.585938</td>\n",
       "    </tr>\n",
       "    <tr>\n",
       "      <th>10-Jun-21</th>\n",
       "      <td>91849</td>\n",
       "      <td>82799.992188</td>\n",
       "    </tr>\n",
       "    <tr>\n",
       "      <th>11-Jun-21</th>\n",
       "      <td>84574</td>\n",
       "      <td>76241.820312</td>\n",
       "    </tr>\n",
       "    <tr>\n",
       "      <th>12-Jun-21</th>\n",
       "      <td>80525</td>\n",
       "      <td>72591.773438</td>\n",
       "    </tr>\n",
       "    <tr>\n",
       "      <th>13-Jun-21</th>\n",
       "      <td>71001</td>\n",
       "      <td>64006.179688</td>\n",
       "    </tr>\n",
       "    <tr>\n",
       "      <th>14-Jun-21</th>\n",
       "      <td>60008</td>\n",
       "      <td>54096.332031</td>\n",
       "    </tr>\n",
       "    <tr>\n",
       "      <th>15-Jun-21</th>\n",
       "      <td>62214</td>\n",
       "      <td>56084.972656</td>\n",
       "    </tr>\n",
       "  </tbody>\n",
       "</table>\n",
       "</div>"
      ],
      "text/plain": [
       "           Daily Confirmed  Daily Confpred\n",
       "Date                                      \n",
       "18-Apr-21           275063   247961.640625\n",
       "19-Apr-21           257003   231681.140625\n",
       "20-Apr-21           294365   265361.812500\n",
       "21-Apr-21           315752   284641.500000\n",
       "22-Apr-21           332531   299767.281250\n",
       "23-Apr-21           345296   311274.500000\n",
       "24-Apr-21           348996   314609.937500\n",
       "25-Apr-21           354658   319714.062500\n",
       "26-Apr-21           319471   287994.093750\n",
       "27-Apr-21           362913   327155.687500\n",
       "28-Apr-21           379404   342021.812500\n",
       "29-Apr-21           386773   348664.750000\n",
       "30-Apr-21           402014   362404.000000\n",
       "01-May-21           392576   353895.968750\n",
       "02-May-21           370090   333625.531250\n",
       "03-May-21           355769   320715.593750\n",
       "04-May-21           382847   345125.562500\n",
       "05-May-21           412624   371968.593750\n",
       "06-May-21           414280   373461.437500\n",
       "07-May-21           406901   366809.500000\n",
       "08-May-21           403808   364021.250000\n",
       "09-May-21           366455   330348.687500\n",
       "10-May-21           329491   297026.812500\n",
       "11-May-21           348555   314212.406250\n",
       "12-May-21           362632   326902.375000\n",
       "13-May-21           343005   309209.250000\n",
       "14-May-21           326256   294110.562500\n",
       "15-May-21           310757   280138.687500\n",
       "16-May-21           281837   254068.203125\n",
       "17-May-21           263021   237106.171875\n",
       "18-May-21           267246   240914.859375\n",
       "19-May-21           276187   248974.890625\n",
       "20-May-21           259242   233699.515625\n",
       "21-May-21           257299   231947.953125\n",
       "22-May-21           240897   217162.062500\n",
       "23-May-21           222834   200878.859375\n",
       "24-May-21           195857   176559.921875\n",
       "25-May-21           208992   188400.718750\n",
       "26-May-21           211510   190670.625000\n",
       "27-May-21           186075   167741.765625\n",
       "28-May-21           174083   156931.343750\n",
       "29-May-21           165282   148997.531250\n",
       "30-May-21           153396   138282.671875\n",
       "31-May-21           126883   114382.039062\n",
       "01-Jun-21           133152   120033.351562\n",
       "02-Jun-21           134044   120837.460938\n",
       "03-Jun-21           132424   119377.078125\n",
       "04-Jun-21           120454   108586.507812\n",
       "05-Jun-21           114488   103208.343750\n",
       "06-Jun-21           101209    91237.742188\n",
       "07-Jun-21            85804    77350.617188\n",
       "08-Jun-21            92787    83645.570312\n",
       "09-Jun-21            93883    84633.585938\n",
       "10-Jun-21            91849    82799.992188\n",
       "11-Jun-21            84574    76241.820312\n",
       "12-Jun-21            80525    72591.773438\n",
       "13-Jun-21            71001    64006.179688\n",
       "14-Jun-21            60008    54096.332031\n",
       "15-Jun-21            62214    56084.972656"
      ]
     },
     "execution_count": 25,
     "metadata": {},
     "output_type": "execute_result"
    }
   ],
   "source": [
    "df.loc[:,\"Daily Confirmed\"] = close_data2\n",
    "df.loc[:,\"Daily Confpred\"]=prediction\n",
    "df"
   ]
  },
  {
   "cell_type": "code",
   "execution_count": 26,
   "metadata": {},
   "outputs": [
    {
     "name": "stdout",
     "output_type": "stream",
     "text": [
      "RMSE:  27186.9775741105\n",
      "MAE:  24797.74748411017\n"
     ]
    }
   ],
   "source": [
    "from sklearn.metrics import mean_squared_error\n",
    "import math\n",
    "print('RMSE: ', math.sqrt(mean_squared_error(df['Daily Confirmed'], df['Daily Confpred'])))\n",
    "from sklearn.metrics import mean_absolute_error\n",
    "print('MAE: ', mean_absolute_error(df['Daily Confirmed'], df['Daily Confpred']))\n"
   ]
  },
  {
   "cell_type": "code",
   "execution_count": 27,
   "metadata": {},
   "outputs": [
    {
     "name": "stdout",
     "output_type": "stream",
     "text": [
      "MAPE is 9.852591433884776 %\n"
     ]
    }
   ],
   "source": [
    "MAPE = np.mean(np.abs(np.array(df[\"Daily Confirmed\"][:59]) - np.array(df[\"Daily Confpred\"][:59]))/np.array(df[\"Daily Confirmed\"][:59]))\n",
    "print(\"MAPE is \" + str(MAPE*100) + \" %\")"
   ]
  },
  {
   "cell_type": "code",
   "execution_count": 28,
   "metadata": {},
   "outputs": [
    {
     "data": {
      "text/plain": [
       "43608773227.29605"
      ]
     },
     "execution_count": 28,
     "metadata": {},
     "output_type": "execute_result"
    }
   ],
   "source": [
    "sum_errs = np.sum((np.array(df[\"Daily Confirmed\"][:59]) - np.array(df[\"Daily Confpred\"][:59]))**2)\n",
    "sum_errs"
   ]
  },
  {
   "cell_type": "code",
   "execution_count": 29,
   "metadata": {},
   "outputs": [
    {
     "data": {
      "text/plain": [
       "120566.40387119463"
      ]
     },
     "execution_count": 29,
     "metadata": {},
     "output_type": "execute_result"
    }
   ],
   "source": [
    "stdev = np.sqrt(1/(5-2) * sum_errs)\n",
    "stdev"
   ]
  },
  {
   "cell_type": "code",
   "execution_count": 30,
   "metadata": {},
   "outputs": [
    {
     "data": {
      "text/plain": [
       "236310.15158754148"
      ]
     },
     "execution_count": 30,
     "metadata": {},
     "output_type": "execute_result"
    }
   ],
   "source": [
    "# calculate prediction interval\n",
    "interval = 1.96 * stdev\n",
    "interval"
   ]
  },
  {
   "cell_type": "code",
   "execution_count": 31,
   "metadata": {},
   "outputs": [
    {
     "data": {
      "text/html": [
       "<div>\n",
       "<style scoped>\n",
       "    .dataframe tbody tr th:only-of-type {\n",
       "        vertical-align: middle;\n",
       "    }\n",
       "\n",
       "    .dataframe tbody tr th {\n",
       "        vertical-align: top;\n",
       "    }\n",
       "\n",
       "    .dataframe thead th {\n",
       "        text-align: right;\n",
       "    }\n",
       "</style>\n",
       "<table border=\"1\" class=\"dataframe\">\n",
       "  <thead>\n",
       "    <tr style=\"text-align: right;\">\n",
       "      <th></th>\n",
       "      <th>Daily Confirmed</th>\n",
       "      <th>Daily Confpred</th>\n",
       "      <th>confirm_min</th>\n",
       "      <th>confirm_max</th>\n",
       "    </tr>\n",
       "    <tr>\n",
       "      <th>Date</th>\n",
       "      <th></th>\n",
       "      <th></th>\n",
       "      <th></th>\n",
       "      <th></th>\n",
       "    </tr>\n",
       "  </thead>\n",
       "  <tbody>\n",
       "    <tr>\n",
       "      <th>18-Apr-21</th>\n",
       "      <td>275063</td>\n",
       "      <td>247961.640625</td>\n",
       "      <td>11651.484375</td>\n",
       "      <td>484271.81250</td>\n",
       "    </tr>\n",
       "    <tr>\n",
       "      <th>19-Apr-21</th>\n",
       "      <td>257003</td>\n",
       "      <td>231681.140625</td>\n",
       "      <td>-4629.015625</td>\n",
       "      <td>467991.31250</td>\n",
       "    </tr>\n",
       "    <tr>\n",
       "      <th>20-Apr-21</th>\n",
       "      <td>294365</td>\n",
       "      <td>265361.812500</td>\n",
       "      <td>29051.656250</td>\n",
       "      <td>501671.96875</td>\n",
       "    </tr>\n",
       "    <tr>\n",
       "      <th>21-Apr-21</th>\n",
       "      <td>315752</td>\n",
       "      <td>284641.500000</td>\n",
       "      <td>48331.343750</td>\n",
       "      <td>520951.65625</td>\n",
       "    </tr>\n",
       "    <tr>\n",
       "      <th>22-Apr-21</th>\n",
       "      <td>332531</td>\n",
       "      <td>299767.281250</td>\n",
       "      <td>63457.125000</td>\n",
       "      <td>536077.43750</td>\n",
       "    </tr>\n",
       "    <tr>\n",
       "      <th>23-Apr-21</th>\n",
       "      <td>345296</td>\n",
       "      <td>311274.500000</td>\n",
       "      <td>74964.343750</td>\n",
       "      <td>547584.62500</td>\n",
       "    </tr>\n",
       "    <tr>\n",
       "      <th>24-Apr-21</th>\n",
       "      <td>348996</td>\n",
       "      <td>314609.937500</td>\n",
       "      <td>78299.781250</td>\n",
       "      <td>550920.12500</td>\n",
       "    </tr>\n",
       "    <tr>\n",
       "      <th>25-Apr-21</th>\n",
       "      <td>354658</td>\n",
       "      <td>319714.062500</td>\n",
       "      <td>83403.906250</td>\n",
       "      <td>556024.25000</td>\n",
       "    </tr>\n",
       "    <tr>\n",
       "      <th>26-Apr-21</th>\n",
       "      <td>319471</td>\n",
       "      <td>287994.093750</td>\n",
       "      <td>51683.937500</td>\n",
       "      <td>524304.25000</td>\n",
       "    </tr>\n",
       "    <tr>\n",
       "      <th>27-Apr-21</th>\n",
       "      <td>362913</td>\n",
       "      <td>327155.687500</td>\n",
       "      <td>90845.531250</td>\n",
       "      <td>563465.87500</td>\n",
       "    </tr>\n",
       "    <tr>\n",
       "      <th>28-Apr-21</th>\n",
       "      <td>379404</td>\n",
       "      <td>342021.812500</td>\n",
       "      <td>105711.656250</td>\n",
       "      <td>578332.00000</td>\n",
       "    </tr>\n",
       "    <tr>\n",
       "      <th>29-Apr-21</th>\n",
       "      <td>386773</td>\n",
       "      <td>348664.750000</td>\n",
       "      <td>112354.593750</td>\n",
       "      <td>584974.87500</td>\n",
       "    </tr>\n",
       "    <tr>\n",
       "      <th>30-Apr-21</th>\n",
       "      <td>402014</td>\n",
       "      <td>362404.000000</td>\n",
       "      <td>126093.843750</td>\n",
       "      <td>598714.12500</td>\n",
       "    </tr>\n",
       "    <tr>\n",
       "      <th>01-May-21</th>\n",
       "      <td>392576</td>\n",
       "      <td>353895.968750</td>\n",
       "      <td>117585.812500</td>\n",
       "      <td>590206.12500</td>\n",
       "    </tr>\n",
       "    <tr>\n",
       "      <th>02-May-21</th>\n",
       "      <td>370090</td>\n",
       "      <td>333625.531250</td>\n",
       "      <td>97315.375000</td>\n",
       "      <td>569935.68750</td>\n",
       "    </tr>\n",
       "    <tr>\n",
       "      <th>03-May-21</th>\n",
       "      <td>355769</td>\n",
       "      <td>320715.593750</td>\n",
       "      <td>84405.437500</td>\n",
       "      <td>557025.75000</td>\n",
       "    </tr>\n",
       "    <tr>\n",
       "      <th>04-May-21</th>\n",
       "      <td>382847</td>\n",
       "      <td>345125.562500</td>\n",
       "      <td>108815.406250</td>\n",
       "      <td>581435.75000</td>\n",
       "    </tr>\n",
       "    <tr>\n",
       "      <th>05-May-21</th>\n",
       "      <td>412624</td>\n",
       "      <td>371968.593750</td>\n",
       "      <td>135658.437500</td>\n",
       "      <td>608278.75000</td>\n",
       "    </tr>\n",
       "    <tr>\n",
       "      <th>06-May-21</th>\n",
       "      <td>414280</td>\n",
       "      <td>373461.437500</td>\n",
       "      <td>137151.281250</td>\n",
       "      <td>609771.62500</td>\n",
       "    </tr>\n",
       "    <tr>\n",
       "      <th>07-May-21</th>\n",
       "      <td>406901</td>\n",
       "      <td>366809.500000</td>\n",
       "      <td>130499.343750</td>\n",
       "      <td>603119.62500</td>\n",
       "    </tr>\n",
       "    <tr>\n",
       "      <th>08-May-21</th>\n",
       "      <td>403808</td>\n",
       "      <td>364021.250000</td>\n",
       "      <td>127711.093750</td>\n",
       "      <td>600331.37500</td>\n",
       "    </tr>\n",
       "    <tr>\n",
       "      <th>09-May-21</th>\n",
       "      <td>366455</td>\n",
       "      <td>330348.687500</td>\n",
       "      <td>94038.531250</td>\n",
       "      <td>566658.87500</td>\n",
       "    </tr>\n",
       "    <tr>\n",
       "      <th>10-May-21</th>\n",
       "      <td>329491</td>\n",
       "      <td>297026.812500</td>\n",
       "      <td>60716.656250</td>\n",
       "      <td>533337.00000</td>\n",
       "    </tr>\n",
       "    <tr>\n",
       "      <th>11-May-21</th>\n",
       "      <td>348555</td>\n",
       "      <td>314212.406250</td>\n",
       "      <td>77902.250000</td>\n",
       "      <td>550522.56250</td>\n",
       "    </tr>\n",
       "    <tr>\n",
       "      <th>12-May-21</th>\n",
       "      <td>362632</td>\n",
       "      <td>326902.375000</td>\n",
       "      <td>90592.218750</td>\n",
       "      <td>563212.50000</td>\n",
       "    </tr>\n",
       "    <tr>\n",
       "      <th>13-May-21</th>\n",
       "      <td>343005</td>\n",
       "      <td>309209.250000</td>\n",
       "      <td>72899.093750</td>\n",
       "      <td>545519.37500</td>\n",
       "    </tr>\n",
       "    <tr>\n",
       "      <th>14-May-21</th>\n",
       "      <td>326256</td>\n",
       "      <td>294110.562500</td>\n",
       "      <td>57800.406250</td>\n",
       "      <td>530420.75000</td>\n",
       "    </tr>\n",
       "    <tr>\n",
       "      <th>15-May-21</th>\n",
       "      <td>310757</td>\n",
       "      <td>280138.687500</td>\n",
       "      <td>43828.531250</td>\n",
       "      <td>516448.84375</td>\n",
       "    </tr>\n",
       "    <tr>\n",
       "      <th>16-May-21</th>\n",
       "      <td>281837</td>\n",
       "      <td>254068.203125</td>\n",
       "      <td>17758.046875</td>\n",
       "      <td>490378.37500</td>\n",
       "    </tr>\n",
       "    <tr>\n",
       "      <th>17-May-21</th>\n",
       "      <td>263021</td>\n",
       "      <td>237106.171875</td>\n",
       "      <td>796.015625</td>\n",
       "      <td>473416.31250</td>\n",
       "    </tr>\n",
       "    <tr>\n",
       "      <th>18-May-21</th>\n",
       "      <td>267246</td>\n",
       "      <td>240914.859375</td>\n",
       "      <td>4604.703125</td>\n",
       "      <td>477225.00000</td>\n",
       "    </tr>\n",
       "    <tr>\n",
       "      <th>19-May-21</th>\n",
       "      <td>276187</td>\n",
       "      <td>248974.890625</td>\n",
       "      <td>12664.734375</td>\n",
       "      <td>485285.06250</td>\n",
       "    </tr>\n",
       "    <tr>\n",
       "      <th>20-May-21</th>\n",
       "      <td>259242</td>\n",
       "      <td>233699.515625</td>\n",
       "      <td>-2610.640625</td>\n",
       "      <td>470009.68750</td>\n",
       "    </tr>\n",
       "    <tr>\n",
       "      <th>21-May-21</th>\n",
       "      <td>257299</td>\n",
       "      <td>231947.953125</td>\n",
       "      <td>-4362.203125</td>\n",
       "      <td>468258.12500</td>\n",
       "    </tr>\n",
       "    <tr>\n",
       "      <th>22-May-21</th>\n",
       "      <td>240897</td>\n",
       "      <td>217162.062500</td>\n",
       "      <td>-19148.093750</td>\n",
       "      <td>453472.21875</td>\n",
       "    </tr>\n",
       "    <tr>\n",
       "      <th>23-May-21</th>\n",
       "      <td>222834</td>\n",
       "      <td>200878.859375</td>\n",
       "      <td>-35431.296875</td>\n",
       "      <td>437189.00000</td>\n",
       "    </tr>\n",
       "    <tr>\n",
       "      <th>24-May-21</th>\n",
       "      <td>195857</td>\n",
       "      <td>176559.921875</td>\n",
       "      <td>-59750.234375</td>\n",
       "      <td>412870.06250</td>\n",
       "    </tr>\n",
       "    <tr>\n",
       "      <th>25-May-21</th>\n",
       "      <td>208992</td>\n",
       "      <td>188400.718750</td>\n",
       "      <td>-47909.437500</td>\n",
       "      <td>424710.87500</td>\n",
       "    </tr>\n",
       "    <tr>\n",
       "      <th>26-May-21</th>\n",
       "      <td>211510</td>\n",
       "      <td>190670.625000</td>\n",
       "      <td>-45639.531250</td>\n",
       "      <td>426980.78125</td>\n",
       "    </tr>\n",
       "    <tr>\n",
       "      <th>27-May-21</th>\n",
       "      <td>186075</td>\n",
       "      <td>167741.765625</td>\n",
       "      <td>-68568.390625</td>\n",
       "      <td>404051.93750</td>\n",
       "    </tr>\n",
       "    <tr>\n",
       "      <th>28-May-21</th>\n",
       "      <td>174083</td>\n",
       "      <td>156931.343750</td>\n",
       "      <td>-79378.812500</td>\n",
       "      <td>393241.50000</td>\n",
       "    </tr>\n",
       "    <tr>\n",
       "      <th>29-May-21</th>\n",
       "      <td>165282</td>\n",
       "      <td>148997.531250</td>\n",
       "      <td>-87312.625000</td>\n",
       "      <td>385307.68750</td>\n",
       "    </tr>\n",
       "    <tr>\n",
       "      <th>30-May-21</th>\n",
       "      <td>153396</td>\n",
       "      <td>138282.671875</td>\n",
       "      <td>-98027.484375</td>\n",
       "      <td>374592.81250</td>\n",
       "    </tr>\n",
       "    <tr>\n",
       "      <th>31-May-21</th>\n",
       "      <td>126883</td>\n",
       "      <td>114382.039062</td>\n",
       "      <td>-121928.117188</td>\n",
       "      <td>350692.18750</td>\n",
       "    </tr>\n",
       "    <tr>\n",
       "      <th>01-Jun-21</th>\n",
       "      <td>133152</td>\n",
       "      <td>120033.351562</td>\n",
       "      <td>-116276.804688</td>\n",
       "      <td>356343.50000</td>\n",
       "    </tr>\n",
       "    <tr>\n",
       "      <th>02-Jun-21</th>\n",
       "      <td>134044</td>\n",
       "      <td>120837.460938</td>\n",
       "      <td>-115472.695312</td>\n",
       "      <td>357147.62500</td>\n",
       "    </tr>\n",
       "    <tr>\n",
       "      <th>03-Jun-21</th>\n",
       "      <td>132424</td>\n",
       "      <td>119377.078125</td>\n",
       "      <td>-116933.078125</td>\n",
       "      <td>355687.25000</td>\n",
       "    </tr>\n",
       "    <tr>\n",
       "      <th>04-Jun-21</th>\n",
       "      <td>120454</td>\n",
       "      <td>108586.507812</td>\n",
       "      <td>-127723.648438</td>\n",
       "      <td>344896.65625</td>\n",
       "    </tr>\n",
       "    <tr>\n",
       "      <th>05-Jun-21</th>\n",
       "      <td>114488</td>\n",
       "      <td>103208.343750</td>\n",
       "      <td>-133101.812500</td>\n",
       "      <td>339518.50000</td>\n",
       "    </tr>\n",
       "    <tr>\n",
       "      <th>06-Jun-21</th>\n",
       "      <td>101209</td>\n",
       "      <td>91237.742188</td>\n",
       "      <td>-145072.406250</td>\n",
       "      <td>327547.90625</td>\n",
       "    </tr>\n",
       "    <tr>\n",
       "      <th>07-Jun-21</th>\n",
       "      <td>85804</td>\n",
       "      <td>77350.617188</td>\n",
       "      <td>-158959.531250</td>\n",
       "      <td>313660.78125</td>\n",
       "    </tr>\n",
       "    <tr>\n",
       "      <th>08-Jun-21</th>\n",
       "      <td>92787</td>\n",
       "      <td>83645.570312</td>\n",
       "      <td>-152664.593750</td>\n",
       "      <td>319955.71875</td>\n",
       "    </tr>\n",
       "    <tr>\n",
       "      <th>09-Jun-21</th>\n",
       "      <td>93883</td>\n",
       "      <td>84633.585938</td>\n",
       "      <td>-151676.562500</td>\n",
       "      <td>320943.75000</td>\n",
       "    </tr>\n",
       "    <tr>\n",
       "      <th>10-Jun-21</th>\n",
       "      <td>91849</td>\n",
       "      <td>82799.992188</td>\n",
       "      <td>-153510.156250</td>\n",
       "      <td>319110.15625</td>\n",
       "    </tr>\n",
       "    <tr>\n",
       "      <th>11-Jun-21</th>\n",
       "      <td>84574</td>\n",
       "      <td>76241.820312</td>\n",
       "      <td>-160068.343750</td>\n",
       "      <td>312551.96875</td>\n",
       "    </tr>\n",
       "    <tr>\n",
       "      <th>12-Jun-21</th>\n",
       "      <td>80525</td>\n",
       "      <td>72591.773438</td>\n",
       "      <td>-163718.375000</td>\n",
       "      <td>308901.93750</td>\n",
       "    </tr>\n",
       "    <tr>\n",
       "      <th>13-Jun-21</th>\n",
       "      <td>71001</td>\n",
       "      <td>64006.179688</td>\n",
       "      <td>-172303.968750</td>\n",
       "      <td>300316.34375</td>\n",
       "    </tr>\n",
       "    <tr>\n",
       "      <th>14-Jun-21</th>\n",
       "      <td>60008</td>\n",
       "      <td>54096.332031</td>\n",
       "      <td>-182213.828125</td>\n",
       "      <td>290406.50000</td>\n",
       "    </tr>\n",
       "    <tr>\n",
       "      <th>15-Jun-21</th>\n",
       "      <td>62214</td>\n",
       "      <td>56084.972656</td>\n",
       "      <td>-180225.187500</td>\n",
       "      <td>292395.12500</td>\n",
       "    </tr>\n",
       "  </tbody>\n",
       "</table>\n",
       "</div>"
      ],
      "text/plain": [
       "           Daily Confirmed  Daily Confpred    confirm_min   confirm_max\n",
       "Date                                                                   \n",
       "18-Apr-21           275063   247961.640625   11651.484375  484271.81250\n",
       "19-Apr-21           257003   231681.140625   -4629.015625  467991.31250\n",
       "20-Apr-21           294365   265361.812500   29051.656250  501671.96875\n",
       "21-Apr-21           315752   284641.500000   48331.343750  520951.65625\n",
       "22-Apr-21           332531   299767.281250   63457.125000  536077.43750\n",
       "23-Apr-21           345296   311274.500000   74964.343750  547584.62500\n",
       "24-Apr-21           348996   314609.937500   78299.781250  550920.12500\n",
       "25-Apr-21           354658   319714.062500   83403.906250  556024.25000\n",
       "26-Apr-21           319471   287994.093750   51683.937500  524304.25000\n",
       "27-Apr-21           362913   327155.687500   90845.531250  563465.87500\n",
       "28-Apr-21           379404   342021.812500  105711.656250  578332.00000\n",
       "29-Apr-21           386773   348664.750000  112354.593750  584974.87500\n",
       "30-Apr-21           402014   362404.000000  126093.843750  598714.12500\n",
       "01-May-21           392576   353895.968750  117585.812500  590206.12500\n",
       "02-May-21           370090   333625.531250   97315.375000  569935.68750\n",
       "03-May-21           355769   320715.593750   84405.437500  557025.75000\n",
       "04-May-21           382847   345125.562500  108815.406250  581435.75000\n",
       "05-May-21           412624   371968.593750  135658.437500  608278.75000\n",
       "06-May-21           414280   373461.437500  137151.281250  609771.62500\n",
       "07-May-21           406901   366809.500000  130499.343750  603119.62500\n",
       "08-May-21           403808   364021.250000  127711.093750  600331.37500\n",
       "09-May-21           366455   330348.687500   94038.531250  566658.87500\n",
       "10-May-21           329491   297026.812500   60716.656250  533337.00000\n",
       "11-May-21           348555   314212.406250   77902.250000  550522.56250\n",
       "12-May-21           362632   326902.375000   90592.218750  563212.50000\n",
       "13-May-21           343005   309209.250000   72899.093750  545519.37500\n",
       "14-May-21           326256   294110.562500   57800.406250  530420.75000\n",
       "15-May-21           310757   280138.687500   43828.531250  516448.84375\n",
       "16-May-21           281837   254068.203125   17758.046875  490378.37500\n",
       "17-May-21           263021   237106.171875     796.015625  473416.31250\n",
       "18-May-21           267246   240914.859375    4604.703125  477225.00000\n",
       "19-May-21           276187   248974.890625   12664.734375  485285.06250\n",
       "20-May-21           259242   233699.515625   -2610.640625  470009.68750\n",
       "21-May-21           257299   231947.953125   -4362.203125  468258.12500\n",
       "22-May-21           240897   217162.062500  -19148.093750  453472.21875\n",
       "23-May-21           222834   200878.859375  -35431.296875  437189.00000\n",
       "24-May-21           195857   176559.921875  -59750.234375  412870.06250\n",
       "25-May-21           208992   188400.718750  -47909.437500  424710.87500\n",
       "26-May-21           211510   190670.625000  -45639.531250  426980.78125\n",
       "27-May-21           186075   167741.765625  -68568.390625  404051.93750\n",
       "28-May-21           174083   156931.343750  -79378.812500  393241.50000\n",
       "29-May-21           165282   148997.531250  -87312.625000  385307.68750\n",
       "30-May-21           153396   138282.671875  -98027.484375  374592.81250\n",
       "31-May-21           126883   114382.039062 -121928.117188  350692.18750\n",
       "01-Jun-21           133152   120033.351562 -116276.804688  356343.50000\n",
       "02-Jun-21           134044   120837.460938 -115472.695312  357147.62500\n",
       "03-Jun-21           132424   119377.078125 -116933.078125  355687.25000\n",
       "04-Jun-21           120454   108586.507812 -127723.648438  344896.65625\n",
       "05-Jun-21           114488   103208.343750 -133101.812500  339518.50000\n",
       "06-Jun-21           101209    91237.742188 -145072.406250  327547.90625\n",
       "07-Jun-21            85804    77350.617188 -158959.531250  313660.78125\n",
       "08-Jun-21            92787    83645.570312 -152664.593750  319955.71875\n",
       "09-Jun-21            93883    84633.585938 -151676.562500  320943.75000\n",
       "10-Jun-21            91849    82799.992188 -153510.156250  319110.15625\n",
       "11-Jun-21            84574    76241.820312 -160068.343750  312551.96875\n",
       "12-Jun-21            80525    72591.773438 -163718.375000  308901.93750\n",
       "13-Jun-21            71001    64006.179688 -172303.968750  300316.34375\n",
       "14-Jun-21            60008    54096.332031 -182213.828125  290406.50000\n",
       "15-Jun-21            62214    56084.972656 -180225.187500  292395.12500"
      ]
     },
     "execution_count": 31,
     "metadata": {},
     "output_type": "execute_result"
    }
   ],
   "source": [
    "df[\"confirm_min\"] = df[\"Daily Confpred\"] - interval\n",
    "df[\"confirm_max\"] = df[\"Daily Confpred\"] + interval\n",
    "df"
   ]
  },
  {
   "cell_type": "code",
   "execution_count": 32,
   "metadata": {},
   "outputs": [
    {
     "data": {
      "text/plain": [
       "<matplotlib.axes._subplots.AxesSubplot at 0x969c98c488>"
      ]
     },
     "execution_count": 32,
     "metadata": {},
     "output_type": "execute_result"
    },
    {
     "data": {
      "image/png": "[encoded data removed]",
      "text/plain": [
       "<Figure size 432x288 with 1 Axes>"
      ]
     },
     "metadata": {
      "needs_background": "light"
     },
     "output_type": "display_data"
    }
   ],
   "source": [
    "df.plot()"
   ]
  },
  {
   "cell_type": "code",
   "execution_count": 33,
   "metadata": {},
   "outputs": [
    {
     "data": {
      "text/html": [
       "<div>\n",
       "<style scoped>\n",
       "    .dataframe tbody tr th:only-of-type {\n",
       "        vertical-align: middle;\n",
       "    }\n",
       "\n",
       "    .dataframe tbody tr th {\n",
       "        vertical-align: top;\n",
       "    }\n",
       "\n",
       "    .dataframe thead th {\n",
       "        text-align: right;\n",
       "    }\n",
       "</style>\n",
       "<table border=\"1\" class=\"dataframe\">\n",
       "  <thead>\n",
       "    <tr style=\"text-align: right;\">\n",
       "      <th></th>\n",
       "      <th>Daily Confirmed</th>\n",
       "      <th>Daily Confpred</th>\n",
       "      <th>confirm_min</th>\n",
       "      <th>confirm_max</th>\n",
       "      <th>Model Accuracy</th>\n",
       "    </tr>\n",
       "    <tr>\n",
       "      <th>Date</th>\n",
       "      <th></th>\n",
       "      <th></th>\n",
       "      <th></th>\n",
       "      <th></th>\n",
       "      <th></th>\n",
       "    </tr>\n",
       "  </thead>\n",
       "  <tbody>\n",
       "    <tr>\n",
       "      <th>18-Apr-21</th>\n",
       "      <td>275063</td>\n",
       "      <td>247961.640625</td>\n",
       "      <td>11651.484375</td>\n",
       "      <td>484271.81250</td>\n",
       "      <td>0.9</td>\n",
       "    </tr>\n",
       "    <tr>\n",
       "      <th>19-Apr-21</th>\n",
       "      <td>257003</td>\n",
       "      <td>231681.140625</td>\n",
       "      <td>-4629.015625</td>\n",
       "      <td>467991.31250</td>\n",
       "      <td>0.9</td>\n",
       "    </tr>\n",
       "    <tr>\n",
       "      <th>20-Apr-21</th>\n",
       "      <td>294365</td>\n",
       "      <td>265361.812500</td>\n",
       "      <td>29051.656250</td>\n",
       "      <td>501671.96875</td>\n",
       "      <td>0.9</td>\n",
       "    </tr>\n",
       "    <tr>\n",
       "      <th>21-Apr-21</th>\n",
       "      <td>315752</td>\n",
       "      <td>284641.500000</td>\n",
       "      <td>48331.343750</td>\n",
       "      <td>520951.65625</td>\n",
       "      <td>0.9</td>\n",
       "    </tr>\n",
       "    <tr>\n",
       "      <th>22-Apr-21</th>\n",
       "      <td>332531</td>\n",
       "      <td>299767.281250</td>\n",
       "      <td>63457.125000</td>\n",
       "      <td>536077.43750</td>\n",
       "      <td>0.9</td>\n",
       "    </tr>\n",
       "    <tr>\n",
       "      <th>23-Apr-21</th>\n",
       "      <td>345296</td>\n",
       "      <td>311274.500000</td>\n",
       "      <td>74964.343750</td>\n",
       "      <td>547584.62500</td>\n",
       "      <td>0.9</td>\n",
       "    </tr>\n",
       "    <tr>\n",
       "      <th>24-Apr-21</th>\n",
       "      <td>348996</td>\n",
       "      <td>314609.937500</td>\n",
       "      <td>78299.781250</td>\n",
       "      <td>550920.12500</td>\n",
       "      <td>0.9</td>\n",
       "    </tr>\n",
       "    <tr>\n",
       "      <th>25-Apr-21</th>\n",
       "      <td>354658</td>\n",
       "      <td>319714.062500</td>\n",
       "      <td>83403.906250</td>\n",
       "      <td>556024.25000</td>\n",
       "      <td>0.9</td>\n",
       "    </tr>\n",
       "    <tr>\n",
       "      <th>26-Apr-21</th>\n",
       "      <td>319471</td>\n",
       "      <td>287994.093750</td>\n",
       "      <td>51683.937500</td>\n",
       "      <td>524304.25000</td>\n",
       "      <td>0.9</td>\n",
       "    </tr>\n",
       "    <tr>\n",
       "      <th>27-Apr-21</th>\n",
       "      <td>362913</td>\n",
       "      <td>327155.687500</td>\n",
       "      <td>90845.531250</td>\n",
       "      <td>563465.87500</td>\n",
       "      <td>0.9</td>\n",
       "    </tr>\n",
       "    <tr>\n",
       "      <th>28-Apr-21</th>\n",
       "      <td>379404</td>\n",
       "      <td>342021.812500</td>\n",
       "      <td>105711.656250</td>\n",
       "      <td>578332.00000</td>\n",
       "      <td>0.9</td>\n",
       "    </tr>\n",
       "    <tr>\n",
       "      <th>29-Apr-21</th>\n",
       "      <td>386773</td>\n",
       "      <td>348664.750000</td>\n",
       "      <td>112354.593750</td>\n",
       "      <td>584974.87500</td>\n",
       "      <td>0.9</td>\n",
       "    </tr>\n",
       "    <tr>\n",
       "      <th>30-Apr-21</th>\n",
       "      <td>402014</td>\n",
       "      <td>362404.000000</td>\n",
       "      <td>126093.843750</td>\n",
       "      <td>598714.12500</td>\n",
       "      <td>0.9</td>\n",
       "    </tr>\n",
       "    <tr>\n",
       "      <th>01-May-21</th>\n",
       "      <td>392576</td>\n",
       "      <td>353895.968750</td>\n",
       "      <td>117585.812500</td>\n",
       "      <td>590206.12500</td>\n",
       "      <td>0.9</td>\n",
       "    </tr>\n",
       "    <tr>\n",
       "      <th>02-May-21</th>\n",
       "      <td>370090</td>\n",
       "      <td>333625.531250</td>\n",
       "      <td>97315.375000</td>\n",
       "      <td>569935.68750</td>\n",
       "      <td>0.9</td>\n",
       "    </tr>\n",
       "    <tr>\n",
       "      <th>03-May-21</th>\n",
       "      <td>355769</td>\n",
       "      <td>320715.593750</td>\n",
       "      <td>84405.437500</td>\n",
       "      <td>557025.75000</td>\n",
       "      <td>0.9</td>\n",
       "    </tr>\n",
       "    <tr>\n",
       "      <th>04-May-21</th>\n",
       "      <td>382847</td>\n",
       "      <td>345125.562500</td>\n",
       "      <td>108815.406250</td>\n",
       "      <td>581435.75000</td>\n",
       "      <td>0.9</td>\n",
       "    </tr>\n",
       "    <tr>\n",
       "      <th>05-May-21</th>\n",
       "      <td>412624</td>\n",
       "      <td>371968.593750</td>\n",
       "      <td>135658.437500</td>\n",
       "      <td>608278.75000</td>\n",
       "      <td>0.9</td>\n",
       "    </tr>\n",
       "    <tr>\n",
       "      <th>06-May-21</th>\n",
       "      <td>414280</td>\n",
       "      <td>373461.437500</td>\n",
       "      <td>137151.281250</td>\n",
       "      <td>609771.62500</td>\n",
       "      <td>0.9</td>\n",
       "    </tr>\n",
       "    <tr>\n",
       "      <th>07-May-21</th>\n",
       "      <td>406901</td>\n",
       "      <td>366809.500000</td>\n",
       "      <td>130499.343750</td>\n",
       "      <td>603119.62500</td>\n",
       "      <td>0.9</td>\n",
       "    </tr>\n",
       "    <tr>\n",
       "      <th>08-May-21</th>\n",
       "      <td>403808</td>\n",
       "      <td>364021.250000</td>\n",
       "      <td>127711.093750</td>\n",
       "      <td>600331.37500</td>\n",
       "      <td>0.9</td>\n",
       "    </tr>\n",
       "    <tr>\n",
       "      <th>09-May-21</th>\n",
       "      <td>366455</td>\n",
       "      <td>330348.687500</td>\n",
       "      <td>94038.531250</td>\n",
       "      <td>566658.87500</td>\n",
       "      <td>0.9</td>\n",
       "    </tr>\n",
       "    <tr>\n",
       "      <th>10-May-21</th>\n",
       "      <td>329491</td>\n",
       "      <td>297026.812500</td>\n",
       "      <td>60716.656250</td>\n",
       "      <td>533337.00000</td>\n",
       "      <td>0.9</td>\n",
       "    </tr>\n",
       "    <tr>\n",
       "      <th>11-May-21</th>\n",
       "      <td>348555</td>\n",
       "      <td>314212.406250</td>\n",
       "      <td>77902.250000</td>\n",
       "      <td>550522.56250</td>\n",
       "      <td>0.9</td>\n",
       "    </tr>\n",
       "    <tr>\n",
       "      <th>12-May-21</th>\n",
       "      <td>362632</td>\n",
       "      <td>326902.375000</td>\n",
       "      <td>90592.218750</td>\n",
       "      <td>563212.50000</td>\n",
       "      <td>0.9</td>\n",
       "    </tr>\n",
       "    <tr>\n",
       "      <th>13-May-21</th>\n",
       "      <td>343005</td>\n",
       "      <td>309209.250000</td>\n",
       "      <td>72899.093750</td>\n",
       "      <td>545519.37500</td>\n",
       "      <td>0.9</td>\n",
       "    </tr>\n",
       "    <tr>\n",
       "      <th>14-May-21</th>\n",
       "      <td>326256</td>\n",
       "      <td>294110.562500</td>\n",
       "      <td>57800.406250</td>\n",
       "      <td>530420.75000</td>\n",
       "      <td>0.9</td>\n",
       "    </tr>\n",
       "    <tr>\n",
       "      <th>15-May-21</th>\n",
       "      <td>310757</td>\n",
       "      <td>280138.687500</td>\n",
       "      <td>43828.531250</td>\n",
       "      <td>516448.84375</td>\n",
       "      <td>0.9</td>\n",
       "    </tr>\n",
       "    <tr>\n",
       "      <th>16-May-21</th>\n",
       "      <td>281837</td>\n",
       "      <td>254068.203125</td>\n",
       "      <td>17758.046875</td>\n",
       "      <td>490378.37500</td>\n",
       "      <td>0.9</td>\n",
       "    </tr>\n",
       "    <tr>\n",
       "      <th>17-May-21</th>\n",
       "      <td>263021</td>\n",
       "      <td>237106.171875</td>\n",
       "      <td>796.015625</td>\n",
       "      <td>473416.31250</td>\n",
       "      <td>0.9</td>\n",
       "    </tr>\n",
       "    <tr>\n",
       "      <th>18-May-21</th>\n",
       "      <td>267246</td>\n",
       "      <td>240914.859375</td>\n",
       "      <td>4604.703125</td>\n",
       "      <td>477225.00000</td>\n",
       "      <td>0.9</td>\n",
       "    </tr>\n",
       "    <tr>\n",
       "      <th>19-May-21</th>\n",
       "      <td>276187</td>\n",
       "      <td>248974.890625</td>\n",
       "      <td>12664.734375</td>\n",
       "      <td>485285.06250</td>\n",
       "      <td>0.9</td>\n",
       "    </tr>\n",
       "    <tr>\n",
       "      <th>20-May-21</th>\n",
       "      <td>259242</td>\n",
       "      <td>233699.515625</td>\n",
       "      <td>-2610.640625</td>\n",
       "      <td>470009.68750</td>\n",
       "      <td>0.9</td>\n",
       "    </tr>\n",
       "    <tr>\n",
       "      <th>21-May-21</th>\n",
       "      <td>257299</td>\n",
       "      <td>231947.953125</td>\n",
       "      <td>-4362.203125</td>\n",
       "      <td>468258.12500</td>\n",
       "      <td>0.9</td>\n",
       "    </tr>\n",
       "    <tr>\n",
       "      <th>22-May-21</th>\n",
       "      <td>240897</td>\n",
       "      <td>217162.062500</td>\n",
       "      <td>-19148.093750</td>\n",
       "      <td>453472.21875</td>\n",
       "      <td>0.9</td>\n",
       "    </tr>\n",
       "    <tr>\n",
       "      <th>23-May-21</th>\n",
       "      <td>222834</td>\n",
       "      <td>200878.859375</td>\n",
       "      <td>-35431.296875</td>\n",
       "      <td>437189.00000</td>\n",
       "      <td>0.9</td>\n",
       "    </tr>\n",
       "    <tr>\n",
       "      <th>24-May-21</th>\n",
       "      <td>195857</td>\n",
       "      <td>176559.921875</td>\n",
       "      <td>-59750.234375</td>\n",
       "      <td>412870.06250</td>\n",
       "      <td>0.9</td>\n",
       "    </tr>\n",
       "    <tr>\n",
       "      <th>25-May-21</th>\n",
       "      <td>208992</td>\n",
       "      <td>188400.718750</td>\n",
       "      <td>-47909.437500</td>\n",
       "      <td>424710.87500</td>\n",
       "      <td>0.9</td>\n",
       "    </tr>\n",
       "    <tr>\n",
       "      <th>26-May-21</th>\n",
       "      <td>211510</td>\n",
       "      <td>190670.625000</td>\n",
       "      <td>-45639.531250</td>\n",
       "      <td>426980.78125</td>\n",
       "      <td>0.9</td>\n",
       "    </tr>\n",
       "    <tr>\n",
       "      <th>27-May-21</th>\n",
       "      <td>186075</td>\n",
       "      <td>167741.765625</td>\n",
       "      <td>-68568.390625</td>\n",
       "      <td>404051.93750</td>\n",
       "      <td>0.9</td>\n",
       "    </tr>\n",
       "    <tr>\n",
       "      <th>28-May-21</th>\n",
       "      <td>174083</td>\n",
       "      <td>156931.343750</td>\n",
       "      <td>-79378.812500</td>\n",
       "      <td>393241.50000</td>\n",
       "      <td>0.9</td>\n",
       "    </tr>\n",
       "    <tr>\n",
       "      <th>29-May-21</th>\n",
       "      <td>165282</td>\n",
       "      <td>148997.531250</td>\n",
       "      <td>-87312.625000</td>\n",
       "      <td>385307.68750</td>\n",
       "      <td>0.9</td>\n",
       "    </tr>\n",
       "    <tr>\n",
       "      <th>30-May-21</th>\n",
       "      <td>153396</td>\n",
       "      <td>138282.671875</td>\n",
       "      <td>-98027.484375</td>\n",
       "      <td>374592.81250</td>\n",
       "      <td>0.9</td>\n",
       "    </tr>\n",
       "    <tr>\n",
       "      <th>31-May-21</th>\n",
       "      <td>126883</td>\n",
       "      <td>114382.039062</td>\n",
       "      <td>-121928.117188</td>\n",
       "      <td>350692.18750</td>\n",
       "      <td>0.9</td>\n",
       "    </tr>\n",
       "    <tr>\n",
       "      <th>01-Jun-21</th>\n",
       "      <td>133152</td>\n",
       "      <td>120033.351562</td>\n",
       "      <td>-116276.804688</td>\n",
       "      <td>356343.50000</td>\n",
       "      <td>0.9</td>\n",
       "    </tr>\n",
       "    <tr>\n",
       "      <th>02-Jun-21</th>\n",
       "      <td>134044</td>\n",
       "      <td>120837.460938</td>\n",
       "      <td>-115472.695312</td>\n",
       "      <td>357147.62500</td>\n",
       "      <td>0.9</td>\n",
       "    </tr>\n",
       "    <tr>\n",
       "      <th>03-Jun-21</th>\n",
       "      <td>132424</td>\n",
       "      <td>119377.078125</td>\n",
       "      <td>-116933.078125</td>\n",
       "      <td>355687.25000</td>\n",
       "      <td>0.9</td>\n",
       "    </tr>\n",
       "    <tr>\n",
       "      <th>04-Jun-21</th>\n",
       "      <td>120454</td>\n",
       "      <td>108586.507812</td>\n",
       "      <td>-127723.648438</td>\n",
       "      <td>344896.65625</td>\n",
       "      <td>0.9</td>\n",
       "    </tr>\n",
       "    <tr>\n",
       "      <th>05-Jun-21</th>\n",
       "      <td>114488</td>\n",
       "      <td>103208.343750</td>\n",
       "      <td>-133101.812500</td>\n",
       "      <td>339518.50000</td>\n",
       "      <td>0.9</td>\n",
       "    </tr>\n",
       "    <tr>\n",
       "      <th>06-Jun-21</th>\n",
       "      <td>101209</td>\n",
       "      <td>91237.742188</td>\n",
       "      <td>-145072.406250</td>\n",
       "      <td>327547.90625</td>\n",
       "      <td>0.9</td>\n",
       "    </tr>\n",
       "    <tr>\n",
       "      <th>07-Jun-21</th>\n",
       "      <td>85804</td>\n",
       "      <td>77350.617188</td>\n",
       "      <td>-158959.531250</td>\n",
       "      <td>313660.78125</td>\n",
       "      <td>0.9</td>\n",
       "    </tr>\n",
       "    <tr>\n",
       "      <th>08-Jun-21</th>\n",
       "      <td>92787</td>\n",
       "      <td>83645.570312</td>\n",
       "      <td>-152664.593750</td>\n",
       "      <td>319955.71875</td>\n",
       "      <td>0.9</td>\n",
       "    </tr>\n",
       "    <tr>\n",
       "      <th>09-Jun-21</th>\n",
       "      <td>93883</td>\n",
       "      <td>84633.585938</td>\n",
       "      <td>-151676.562500</td>\n",
       "      <td>320943.75000</td>\n",
       "      <td>0.9</td>\n",
       "    </tr>\n",
       "    <tr>\n",
       "      <th>10-Jun-21</th>\n",
       "      <td>91849</td>\n",
       "      <td>82799.992188</td>\n",
       "      <td>-153510.156250</td>\n",
       "      <td>319110.15625</td>\n",
       "      <td>0.9</td>\n",
       "    </tr>\n",
       "    <tr>\n",
       "      <th>11-Jun-21</th>\n",
       "      <td>84574</td>\n",
       "      <td>76241.820312</td>\n",
       "      <td>-160068.343750</td>\n",
       "      <td>312551.96875</td>\n",
       "      <td>0.9</td>\n",
       "    </tr>\n",
       "    <tr>\n",
       "      <th>12-Jun-21</th>\n",
       "      <td>80525</td>\n",
       "      <td>72591.773438</td>\n",
       "      <td>-163718.375000</td>\n",
       "      <td>308901.93750</td>\n",
       "      <td>0.9</td>\n",
       "    </tr>\n",
       "    <tr>\n",
       "      <th>13-Jun-21</th>\n",
       "      <td>71001</td>\n",
       "      <td>64006.179688</td>\n",
       "      <td>-172303.968750</td>\n",
       "      <td>300316.34375</td>\n",
       "      <td>0.9</td>\n",
       "    </tr>\n",
       "    <tr>\n",
       "      <th>14-Jun-21</th>\n",
       "      <td>60008</td>\n",
       "      <td>54096.332031</td>\n",
       "      <td>-182213.828125</td>\n",
       "      <td>290406.50000</td>\n",
       "      <td>0.9</td>\n",
       "    </tr>\n",
       "    <tr>\n",
       "      <th>15-Jun-21</th>\n",
       "      <td>62214</td>\n",
       "      <td>56084.972656</td>\n",
       "      <td>-180225.187500</td>\n",
       "      <td>292395.12500</td>\n",
       "      <td>0.9</td>\n",
       "    </tr>\n",
       "  </tbody>\n",
       "</table>\n",
       "</div>"
      ],
      "text/plain": [
       "           Daily Confirmed  Daily Confpred    confirm_min   confirm_max  \\\n",
       "Date                                                                      \n",
       "18-Apr-21           275063   247961.640625   11651.484375  484271.81250   \n",
       "19-Apr-21           257003   231681.140625   -4629.015625  467991.31250   \n",
       "20-Apr-21           294365   265361.812500   29051.656250  501671.96875   \n",
       "21-Apr-21           315752   284641.500000   48331.343750  520951.65625   \n",
       "22-Apr-21           332531   299767.281250   63457.125000  536077.43750   \n",
       "23-Apr-21           345296   311274.500000   74964.343750  547584.62500   \n",
       "24-Apr-21           348996   314609.937500   78299.781250  550920.12500   \n",
       "25-Apr-21           354658   319714.062500   83403.906250  556024.25000   \n",
       "26-Apr-21           319471   287994.093750   51683.937500  524304.25000   \n",
       "27-Apr-21           362913   327155.687500   90845.531250  563465.87500   \n",
       "28-Apr-21           379404   342021.812500  105711.656250  578332.00000   \n",
       "29-Apr-21           386773   348664.750000  112354.593750  584974.87500   \n",
       "30-Apr-21           402014   362404.000000  126093.843750  598714.12500   \n",
       "01-May-21           392576   353895.968750  117585.812500  590206.12500   \n",
       "02-May-21           370090   333625.531250   97315.375000  569935.68750   \n",
       "03-May-21           355769   320715.593750   84405.437500  557025.75000   \n",
       "04-May-21           382847   345125.562500  108815.406250  581435.75000   \n",
       "05-May-21           412624   371968.593750  135658.437500  608278.75000   \n",
       "06-May-21           414280   373461.437500  137151.281250  609771.62500   \n",
       "07-May-21           406901   366809.500000  130499.343750  603119.62500   \n",
       "08-May-21           403808   364021.250000  127711.093750  600331.37500   \n",
       "09-May-21           366455   330348.687500   94038.531250  566658.87500   \n",
       "10-May-21           329491   297026.812500   60716.656250  533337.00000   \n",
       "11-May-21           348555   314212.406250   77902.250000  550522.56250   \n",
       "12-May-21           362632   326902.375000   90592.218750  563212.50000   \n",
       "13-May-21           343005   309209.250000   72899.093750  545519.37500   \n",
       "14-May-21           326256   294110.562500   57800.406250  530420.75000   \n",
       "15-May-21           310757   280138.687500   43828.531250  516448.84375   \n",
       "16-May-21           281837   254068.203125   17758.046875  490378.37500   \n",
       "17-May-21           263021   237106.171875     796.015625  473416.31250   \n",
       "18-May-21           267246   240914.859375    4604.703125  477225.00000   \n",
       "19-May-21           276187   248974.890625   12664.734375  485285.06250   \n",
       "20-May-21           259242   233699.515625   -2610.640625  470009.68750   \n",
       "21-May-21           257299   231947.953125   -4362.203125  468258.12500   \n",
       "22-May-21           240897   217162.062500  -19148.093750  453472.21875   \n",
       "23-May-21           222834   200878.859375  -35431.296875  437189.00000   \n",
       "24-May-21           195857   176559.921875  -59750.234375  412870.06250   \n",
       "25-May-21           208992   188400.718750  -47909.437500  424710.87500   \n",
       "26-May-21           211510   190670.625000  -45639.531250  426980.78125   \n",
       "27-May-21           186075   167741.765625  -68568.390625  404051.93750   \n",
       "28-May-21           174083   156931.343750  -79378.812500  393241.50000   \n",
       "29-May-21           165282   148997.531250  -87312.625000  385307.68750   \n",
       "30-May-21           153396   138282.671875  -98027.484375  374592.81250   \n",
       "31-May-21           126883   114382.039062 -121928.117188  350692.18750   \n",
       "01-Jun-21           133152   120033.351562 -116276.804688  356343.50000   \n",
       "02-Jun-21           134044   120837.460938 -115472.695312  357147.62500   \n",
       "03-Jun-21           132424   119377.078125 -116933.078125  355687.25000   \n",
       "04-Jun-21           120454   108586.507812 -127723.648438  344896.65625   \n",
       "05-Jun-21           114488   103208.343750 -133101.812500  339518.50000   \n",
       "06-Jun-21           101209    91237.742188 -145072.406250  327547.90625   \n",
       "07-Jun-21            85804    77350.617188 -158959.531250  313660.78125   \n",
       "08-Jun-21            92787    83645.570312 -152664.593750  319955.71875   \n",
       "09-Jun-21            93883    84633.585938 -151676.562500  320943.75000   \n",
       "10-Jun-21            91849    82799.992188 -153510.156250  319110.15625   \n",
       "11-Jun-21            84574    76241.820312 -160068.343750  312551.96875   \n",
       "12-Jun-21            80525    72591.773438 -163718.375000  308901.93750   \n",
       "13-Jun-21            71001    64006.179688 -172303.968750  300316.34375   \n",
       "14-Jun-21            60008    54096.332031 -182213.828125  290406.50000   \n",
       "15-Jun-21            62214    56084.972656 -180225.187500  292395.12500   \n",
       "\n",
       "           Model Accuracy  \n",
       "Date                       \n",
       "18-Apr-21             0.9  \n",
       "19-Apr-21             0.9  \n",
       "20-Apr-21             0.9  \n",
       "21-Apr-21             0.9  \n",
       "22-Apr-21             0.9  \n",
       "23-Apr-21             0.9  \n",
       "24-Apr-21             0.9  \n",
       "25-Apr-21             0.9  \n",
       "26-Apr-21             0.9  \n",
       "27-Apr-21             0.9  \n",
       "28-Apr-21             0.9  \n",
       "29-Apr-21             0.9  \n",
       "30-Apr-21             0.9  \n",
       "01-May-21             0.9  \n",
       "02-May-21             0.9  \n",
       "03-May-21             0.9  \n",
       "04-May-21             0.9  \n",
       "05-May-21             0.9  \n",
       "06-May-21             0.9  \n",
       "07-May-21             0.9  \n",
       "08-May-21             0.9  \n",
       "09-May-21             0.9  \n",
       "10-May-21             0.9  \n",
       "11-May-21             0.9  \n",
       "12-May-21             0.9  \n",
       "13-May-21             0.9  \n",
       "14-May-21             0.9  \n",
       "15-May-21             0.9  \n",
       "16-May-21             0.9  \n",
       "17-May-21             0.9  \n",
       "18-May-21             0.9  \n",
       "19-May-21             0.9  \n",
       "20-May-21             0.9  \n",
       "21-May-21             0.9  \n",
       "22-May-21             0.9  \n",
       "23-May-21             0.9  \n",
       "24-May-21             0.9  \n",
       "25-May-21             0.9  \n",
       "26-May-21             0.9  \n",
       "27-May-21             0.9  \n",
       "28-May-21             0.9  \n",
       "29-May-21             0.9  \n",
       "30-May-21             0.9  \n",
       "31-May-21             0.9  \n",
       "01-Jun-21             0.9  \n",
       "02-Jun-21             0.9  \n",
       "03-Jun-21             0.9  \n",
       "04-Jun-21             0.9  \n",
       "05-Jun-21             0.9  \n",
       "06-Jun-21             0.9  \n",
       "07-Jun-21             0.9  \n",
       "08-Jun-21             0.9  \n",
       "09-Jun-21             0.9  \n",
       "10-Jun-21             0.9  \n",
       "11-Jun-21             0.9  \n",
       "12-Jun-21             0.9  \n",
       "13-Jun-21             0.9  \n",
       "14-Jun-21             0.9  \n",
       "15-Jun-21             0.9  "
      ]
     },
     "execution_count": 33,
     "metadata": {},
     "output_type": "execute_result"
    }
   ],
   "source": [
    "df[\"Model Accuracy\"] = round((1-MAPE),2)\n",
    "df"
   ]
  },
  {
   "cell_type": "code",
   "execution_count": 49,
   "metadata": {},
   "outputs": [],
   "source": [
    "test_prediction = []\n",
    "\n",
    "##last n points from training set\n",
    "first_eval_batch = close_data2[58:]\n",
    "current_batch = first_eval_batch.reshape(1,1,1)"
   ]
  },
  {
   "cell_type": "code",
   "execution_count": 47,
   "metadata": {},
   "outputs": [
    {
     "data": {
      "text/plain": [
       "(1, 1, 1)"
      ]
     },
     "execution_count": 47,
     "metadata": {},
     "output_type": "execute_result"
    }
   ],
   "source": [
    "current_batch.shape"
   ]
  },
  {
   "cell_type": "code",
   "execution_count": 51,
   "metadata": {},
   "outputs": [
    {
     "ename": "AttributeError",
     "evalue": "'numpy.ndarray' object has no attribute 'append'",
     "output_type": "error",
     "traceback": [
      "\u001b[1;31m---------------------------------------------------------------------------\u001b[0m",
      "\u001b[1;31mAttributeError\u001b[0m                            Traceback (most recent call last)",
      "\u001b[1;32m<ipython-input-51-df6ac8bad52d>\u001b[0m in \u001b[0;36m<module>\u001b[1;34m\u001b[0m\n\u001b[0;32m      2\u001b[0m \u001b[1;32mfor\u001b[0m \u001b[0mi\u001b[0m \u001b[1;32min\u001b[0m \u001b[0mrange\u001b[0m\u001b[1;33m(\u001b[0m\u001b[0mlen\u001b[0m\u001b[1;33m(\u001b[0m\u001b[0mclose_data2\u001b[0m\u001b[1;33m)\u001b[0m\u001b[1;33m+\u001b[0m\u001b[1;36m30\u001b[0m\u001b[1;33m)\u001b[0m\u001b[1;33m:\u001b[0m\u001b[1;33m\u001b[0m\u001b[1;33m\u001b[0m\u001b[0m\n\u001b[0;32m      3\u001b[0m     \u001b[0mprediction\u001b[0m \u001b[1;33m=\u001b[0m \u001b[0mmodel\u001b[0m\u001b[1;33m.\u001b[0m\u001b[0mpredict\u001b[0m\u001b[1;33m(\u001b[0m\u001b[0mcurrent_batch\u001b[0m\u001b[1;33m)\u001b[0m\u001b[1;33m[\u001b[0m\u001b[1;36m0\u001b[0m\u001b[1;33m]\u001b[0m\u001b[1;33m\u001b[0m\u001b[1;33m\u001b[0m\u001b[0m\n\u001b[1;32m----> 4\u001b[1;33m     \u001b[0mclose_data2\u001b[0m\u001b[1;33m.\u001b[0m\u001b[0mappend\u001b[0m\u001b[1;33m(\u001b[0m\u001b[0mprediction\u001b[0m\u001b[1;33m)\u001b[0m\u001b[1;33m\u001b[0m\u001b[1;33m\u001b[0m\u001b[0m\n\u001b[0m\u001b[0;32m      5\u001b[0m     \u001b[0mcurrent_batch\u001b[0m \u001b[1;33m=\u001b[0m \u001b[0mnp\u001b[0m\u001b[1;33m.\u001b[0m\u001b[0mappend\u001b[0m\u001b[1;33m(\u001b[0m\u001b[0mcurrent_batch\u001b[0m\u001b[1;33m[\u001b[0m\u001b[1;33m:\u001b[0m\u001b[1;33m,\u001b[0m\u001b[1;36m1\u001b[0m\u001b[1;33m:\u001b[0m\u001b[1;33m,\u001b[0m\u001b[1;33m:\u001b[0m\u001b[1;33m]\u001b[0m\u001b[1;33m,\u001b[0m\u001b[1;33m[\u001b[0m\u001b[1;33m[\u001b[0m\u001b[0mprediction\u001b[0m\u001b[1;33m]\u001b[0m\u001b[1;33m]\u001b[0m\u001b[1;33m,\u001b[0m\u001b[0maxis\u001b[0m\u001b[1;33m=\u001b[0m\u001b[1;36m1\u001b[0m\u001b[1;33m)\u001b[0m\u001b[1;33m\u001b[0m\u001b[1;33m\u001b[0m\u001b[0m\n",
      "\u001b[1;31mAttributeError\u001b[0m: 'numpy.ndarray' object has no attribute 'append'"
     ]
    }
   ],
   "source": [
    "## how far in future we can predict\n",
    "for i in range(len(close_data2)+30):\n",
    "    prediction = model.predict(current_batch)[0]\n",
    "    close_data2.append(prediction)\n",
    "    current_batch = np.append(current_batch[:,1:,:],[[prediction]],axis=1)"
   ]
  },
  {
   "cell_type": "code",
   "execution_count": null,
   "metadata": {},
   "outputs": [],
   "source": []
  }
 ],
 "metadata": {
  "kernelspec": {
   "display_name": "Python 3",
   "language": "python",
   "name": "python3"
  },
  "language_info": {
   "codemirror_mode": {
    "name": "ipython",
    "version": 3
   },
   "file_extension": ".py",
   "mimetype": "text/x-python",
   "name": "python",
   "nbconvert_exporter": "python",
   "pygments_lexer": "ipython3",
   "version": "3.7.0"
  }
 },
 "nbformat": 4,
 "nbformat_minor": 4
}
